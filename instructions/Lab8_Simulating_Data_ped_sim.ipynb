{
 "cells": [
  {
   "cell_type": "code",
   "execution_count": 1,
   "metadata": {},
   "outputs": [],
   "source": [
    "import os\n",
    "from collections import Counter\n",
    "import logging\n",
    "import sys\n",
    "from pathlib import Path\n",
    "import subprocess\n",
    "import os\n",
    "import matplotlib.pyplot as plt\n",
    "import seaborn as sns\n",
    "from IPython.display import display, HTML\n",
    "import IPython\n",
    "import pandas as pd\n",
    "import boto3\n",
    "\n",
    "from dotenv import load_dotenv"
   ]
  },
  {
   "cell_type": "code",
   "execution_count": 2,
   "metadata": {},
   "outputs": [
    {
     "name": "stdout",
     "output_type": "stream",
     "text": [
      "Loaded environment variables from: /home/lakishadavid/computational_genetic_genealogy/.env\n"
     ]
    }
   ],
   "source": [
    "def find_comp_gen_dir():\n",
    "    \"\"\"Find the computational_genetic_genealogy directory by searching up from current directory.\"\"\"\n",
    "    current = Path.cwd()\n",
    "    \n",
    "    # Search up through parent directories\n",
    "    while current != current.parent:\n",
    "        # Check if target directory exists in current path\n",
    "        target = current / 'computational_genetic_genealogy'\n",
    "        if target.is_dir():\n",
    "            return target\n",
    "        # Move up one directory\n",
    "        current = current.parent\n",
    "    \n",
    "    raise FileNotFoundError(\"Could not find computational_genetic_genealogy directory\")\n",
    "\n",
    "def load_env_file():\n",
    "    \"\"\"Find and load the .env file from the computational_genetic_genealogy directory.\"\"\"\n",
    "    try:\n",
    "        # Find the computational_genetic_genealogy directory\n",
    "        comp_gen_dir = find_comp_gen_dir()\n",
    "        \n",
    "        # Look for .env file\n",
    "        env_path = comp_gen_dir / '.env'\n",
    "        if not env_path.exists():\n",
    "            print(f\"Warning: No .env file found in {comp_gen_dir}\")\n",
    "            return None\n",
    "        \n",
    "        # Load the .env file\n",
    "        load_dotenv(env_path, override=True)\n",
    "        print(f\"Loaded environment variables from: {env_path}\")\n",
    "        return env_path\n",
    "        \n",
    "    except FileNotFoundError as e:\n",
    "        print(f\"Error: {e}\")\n",
    "        return None\n",
    "\n",
    "# Use the function\n",
    "env_path = load_env_file()"
   ]
  },
  {
   "cell_type": "code",
   "execution_count": 61,
   "metadata": {},
   "outputs": [
    {
     "name": "stdout",
     "output_type": "stream",
     "text": [
      "Working Directory: /home/lakishadavid/computational_genetic_genealogy\n",
      "Data Directory: /home/lakishadavid/computational_genetic_genealogy/data\n",
      "References Directory: /home/lakishadavid/computational_genetic_genealogy/references\n",
      "Results Directory: /home/lakishadavid/computational_genetic_genealogy/results\n",
      "Utils Directory: /home/lakishadavid/computational_genetic_genealogy/utils\n",
      "The current directory is /home/lakishadavid/computational_genetic_genealogy\n"
     ]
    }
   ],
   "source": [
    "working_directory = os.getenv('PROJECT_WORKING_DIR', default=None)\n",
    "data_directory = os.getenv('PROJECT_DATA_DIR', default=None)\n",
    "references_directory = os.getenv('PROJECT_REFERENCES_DIR', default=None)\n",
    "results_directory = os.getenv('PROJECT_RESULTS_DIR', default=None)\n",
    "utils_directory = os.getenv('PROJECT_UTILS_DIR', default=None)\n",
    "\n",
    "print(f\"Working Directory: {working_directory}\")\n",
    "print(f\"Data Directory: {data_directory}\")\n",
    "print(f\"References Directory: {references_directory}\")\n",
    "print(f\"Results Directory: {results_directory}\")\n",
    "print(f\"Utils Directory: {utils_directory}\")\n",
    "\n",
    "os.chdir(working_directory)\n",
    "print(f\"The current directory is {os.getcwd()}\")"
   ]
  },
  {
   "cell_type": "code",
   "execution_count": 4,
   "metadata": {},
   "outputs": [],
   "source": [
    "def configure_logging(log_filename, log_file_debug_level=\"INFO\", console_debug_level=\"INFO\"):\n",
    "    \"\"\"\n",
    "    Configure logging for both file and console handlers.\n",
    "\n",
    "    Args:\n",
    "        log_filename (str): Path to the log file where logs will be written.\n",
    "        log_file_debug_level (str): Logging level for the file handler.\n",
    "        console_debug_level (str): Logging level for the console handler.\n",
    "    \"\"\"\n",
    "    # Create a root logger\n",
    "    logger = logging.getLogger()\n",
    "    logger.setLevel(logging.DEBUG)  # Capture all messages at the root level\n",
    "\n",
    "    # Convert level names to numeric levels\n",
    "    file_level = getattr(logging, log_file_debug_level.upper(), logging.INFO)\n",
    "    console_level = getattr(logging, console_debug_level.upper(), logging.INFO)\n",
    "\n",
    "    # File handler: Logs messages at file_level and above to the file\n",
    "    file_handler = logging.FileHandler(log_filename)\n",
    "    file_handler.setLevel(file_level)\n",
    "    file_formatter = logging.Formatter('%(asctime)s - %(levelname)s - %(message)s')\n",
    "    file_handler.setFormatter(file_formatter)\n",
    "\n",
    "    # Console handler: Logs messages at console_level and above to the console\n",
    "    console_handler = logging.StreamHandler(sys.stdout)\n",
    "    console_handler.setLevel(console_level)\n",
    "    console_formatter = logging.Formatter('%(asctime)s - %(levelname)s - %(message)s')\n",
    "    console_handler.setFormatter(console_formatter)\n",
    "\n",
    "    # Add handlers to the root logger\n",
    "    logger.addHandler(file_handler)\n",
    "    logger.addHandler(console_handler)\n",
    "    \n",
    "def clear_logger():\n",
    "    \"\"\"Remove all handlers from the root logger.\"\"\"\n",
    "    logger = logging.getLogger()\n",
    "    for handler in logger.handlers[:]:\n",
    "        logger.removeHandler(handler)"
   ]
  },
  {
   "cell_type": "code",
   "execution_count": 5,
   "metadata": {},
   "outputs": [
    {
     "name": "stdout",
     "output_type": "stream",
     "text": [
      "The Lab 8 log file is located at /home/lakishadavid/computational_genetic_genealogy/results/lab8.log.\n"
     ]
    }
   ],
   "source": [
    "log_filename = os.path.join(results_directory, \"lab8.log\")\n",
    "print(f\"The Lab 8 log file is located at {log_filename}.\")\n",
    "\n",
    "# Ensure the results_directory exists\n",
    "if not os.path.exists(results_directory):\n",
    "    os.makedirs(results_directory)\n",
    "\n",
    "# Check if the file exists; if not, create it\n",
    "if not os.path.exists(log_filename):\n",
    "    with open(log_filename, 'w') as file:\n",
    "        pass  # The file is now created.\n",
    "    \n",
    "clear_logger() # Clear the logger before reconfiguring it\n",
    "configure_logging(log_filename, log_file_debug_level=\"INFO\", console_debug_level=\"INFO\")"
   ]
  },
  {
   "cell_type": "markdown",
   "metadata": {},
   "source": [
    "Go to Lab0_Code_Environment and run the set of code cells for **Install R** and **Install liftover**.\n",
    "\n",
    "Also, rerun `poetry install --no-root` to install new packages."
   ]
  },
  {
   "cell_type": "markdown",
   "metadata": {},
   "source": [
    "Ensure rpy2 Jupyter Extension is Loaded by running the next cell."
   ]
  },
  {
   "cell_type": "code",
   "execution_count": 7,
   "metadata": {},
   "outputs": [
    {
     "name": "stdout",
     "output_type": "stream",
     "text": [
      "2025-02-27 08:44:41,903 - INFO - cffi mode is CFFI_MODE.ANY\n",
      "2025-02-27 08:44:41,934 - INFO - R home found: /usr/lib/R\n",
      "2025-02-27 08:44:42,123 - INFO - R library path: /usr/lib/R/lib:/usr/lib/x86_64-linux-gnu:/usr/lib/jvm/default-java/lib/server\n",
      "2025-02-27 08:44:42,124 - INFO - LD_LIBRARY_PATH: /usr/lib/R/lib:/usr/lib/x86_64-linux-gnu:/usr/lib/jvm/default-java/lib/server\n",
      "2025-02-27 08:44:42,126 - INFO - Default options to initialize R: rpy2, --quiet, --no-save\n",
      "2025-02-27 08:44:42,285 - INFO - R is already initialized. No need to initialize.\n"
     ]
    }
   ],
   "source": [
    "%load_ext rpy2.ipython"
   ]
  },
  {
   "cell_type": "markdown",
   "metadata": {},
   "source": [
    "Now you can use cell magic for R."
   ]
  },
  {
   "cell_type": "code",
   "execution_count": null,
   "metadata": {},
   "outputs": [],
   "source": [
    "%%R\n",
    "\n",
    "x <- c(1, 2, 3, 4, 5)\n",
    "mean(x)"
   ]
  },
  {
   "cell_type": "code",
   "execution_count": 12,
   "metadata": {},
   "outputs": [
    {
     "name": "stdout",
     "output_type": "stream",
     "text": [
      "[1] \"/usr/local/lib/R/site-library\" \"/usr/lib/R/site-library\"      \n",
      "[3] \"/usr/lib/R/library\"           \n"
     ]
    }
   ],
   "source": [
    "%%R\n",
    ".libPaths(c(\"/usr/local/lib/R/site-library\", \"/usr/lib/R/site-library\", \"/usr/lib/R/library\"))\n",
    "print(.libPaths())\n"
   ]
  },
  {
   "cell_type": "code",
   "execution_count": 19,
   "metadata": {},
   "outputs": [
    {
     "name": "stdout",
     "output_type": "stream",
     "text": [
      ".libPaths(c(\"~/R/library/\", .libPaths()))\n"
     ]
    }
   ],
   "source": [
    "%%R\n",
    "# Create the personal library directory if it doesn't already exist\n",
    "dir.create(\"~/R/library/\", showWarnings = FALSE, recursive = TRUE)\n",
    "\n",
    "# Add this line to your ~/.Rprofile so R always looks in ~/R/library/ first\n",
    "writeLines('.libPaths(c(\"~/R/library/\", .libPaths()))', con=\"~/.Rprofile\")\n",
    "\n",
    "# (Optional) Show the contents of ~/.Rprofile to confirm\n",
    "cat(readLines(\"~/.Rprofile\"), sep=\"\\n\")"
   ]
  },
  {
   "cell_type": "markdown",
   "metadata": {},
   "source": [
    "**Restart your kernel**\n",
    "\n",
    "Once restarted, R will automatically load the updated .Rprofile."
   ]
  },
  {
   "cell_type": "code",
   "execution_count": 8,
   "metadata": {},
   "outputs": [
    {
     "name": "stdout",
     "output_type": "stream",
     "text": [
      "The rpy2.ipython extension is already loaded. To reload it, use:\n",
      "  %reload_ext rpy2.ipython\n"
     ]
    }
   ],
   "source": [
    "%load_ext rpy2.ipython"
   ]
  },
  {
   "cell_type": "markdown",
   "metadata": {},
   "source": [
    "Verify that R recognizes `~/R/library/`"
   ]
  },
  {
   "cell_type": "code",
   "execution_count": 9,
   "metadata": {},
   "outputs": [
    {
     "name": "stdout",
     "output_type": "stream",
     "text": [
      "[1] \"/home/lakishadavid/R/library\"  \"/usr/local/lib/R/site-library\"\n",
      "[3] \"/usr/lib/R/site-library\"       \"/usr/lib/R/library\"           \n"
     ]
    },
    {
     "data": {
      "text/plain": [
       "In addition: Warning message:\n",
       "In (function (package, help, pos = 2, lib.loc = NULL, character.only = FALSE,  :\n",
       "  libraries ‘/usr/local/lib/R/site-library’, ‘/usr/lib/R/site-library’ contain no packages\n"
      ]
     },
     "metadata": {},
     "output_type": "display_data"
    }
   ],
   "source": [
    "%%R\n",
    ".libPaths()"
   ]
  },
  {
   "cell_type": "code",
   "execution_count": 11,
   "metadata": {},
   "outputs": [
    {
     "name": "stderr",
     "output_type": "stream",
     "text": [
      "* installing *source* package ‘pedsuite’ ...\n",
      "** package ‘pedsuite’ successfully unpacked and MD5 sums checked\n",
      "** using staged installation\n",
      "** R\n",
      "** inst\n",
      "** byte-compile and prepare package for lazy loading\n",
      "** help\n",
      "*** installing help indices\n",
      "*** copying figures\n",
      "** building package indices\n",
      "** installing vignettes\n",
      "** testing if installed package can be loaded from temporary location\n",
      "** testing if installed package can be loaded from final location\n",
      "** testing if installed package keeps a record of temporary installation path\n",
      "* DONE (pedsuite)\n"
     ]
    },
    {
     "name": "stdout",
     "output_type": "stream",
     "text": [
      "[1] \"pedsuite loaded successfully!\"\n"
     ]
    },
    {
     "data": {
      "text/plain": [
       "Installing package into ‘/home/lakishadavid/R/library’\n",
       "(as ‘lib’ is unspecified)\n",
       "trying URL 'https://cloud.r-project.org/src/contrib/pedsuite_1.3.1.tar.gz'\n",
       "Content type 'application/x-gzip' length 1013145 bytes (989 KB)\n",
       "==================================================\n",
       "downloaded 989 KB\n",
       "\n",
       "\n",
       "The downloaded source packages are in\n",
       "\t‘/tmp/RtmpihcYsy/downloaded_packages’\n",
       "Loading required package: forrel\n",
       "Loading required package: pedtools\n",
       "Loading required package: pedprobr\n",
       "Loading required package: ribd\n",
       "Loading required package: verbalisr\n"
      ]
     },
     "metadata": {},
     "output_type": "display_data"
    }
   ],
   "source": [
    "%%R\n",
    "\n",
    "install.packages(\"pedsuite\", repos=\"https://cloud.r-project.org/\")\n",
    "library(pedsuite)\n",
    "print(\"pedsuite loaded successfully!\")"
   ]
  },
  {
   "cell_type": "markdown",
   "metadata": {},
   "source": [
    "## Create Genetic Family Tree"
   ]
  },
  {
   "cell_type": "markdown",
   "metadata": {},
   "source": [
    "Now that you have R setup on your system, let's proceed with creating a genetic family tree."
   ]
  },
  {
   "cell_type": "code",
   "execution_count": 12,
   "metadata": {},
   "outputs": [
    {
     "data": {
      "image/png": "[encoded data removed]",
      "text/plain": [
       "<IPython.core.display.Image object>"
      ]
     },
     "metadata": {},
     "output_type": "display_data"
    }
   ],
   "source": [
    "%%R\n",
    "\n",
    "# Generate a cousin pedigree of degree 4\n",
    "# We start with a base structure called cousinPed\n",
    "x = cousinPed(degree = 4)\n",
    "\n",
    "# There are other base structures to choose from.\n",
    "\n",
    "plot(x)\n",
    "\n",
    "# Notice in the pedigree plot that each individual has an assigned number.\n",
    "# The assigned numbers for each individual is the identifier.\n",
    "# Here, I am adding children using the identifiers.\n",
    "# Note that nch is number of children.\n",
    "# Note that sex = 1 is male and sex = 2 is female.\n",
    "# Note that males are squares and females are circles."
   ]
  },
  {
   "cell_type": "code",
   "execution_count": 13,
   "metadata": {},
   "outputs": [
    {
     "data": {
      "image/png": "[encoded data removed]",
      "text/plain": [
       "<IPython.core.display.Image object>"
      ]
     },
     "metadata": {},
     "output_type": "display_data"
    }
   ],
   "source": [
    "%%R\n",
    "\n",
    "# Now that you have pedigree x, you can make adjustments.\n",
    "\n",
    "# In this first adjustment, I am calling individual number 3 the father.\n",
    "# I am calling individual number 4 the mother.\n",
    "# Then I am adding 1 female child.\n",
    "x = addChildren(x, father = 3, mother = 4, nch = 1, sex = 2)\n",
    "\n",
    "x = addChildren(x, father = 5, mother = 6, nch = 1, sex = 2)\n",
    "x = addChildren(x, father = 7, mother = 8, nch = 1, sex = 2)\n",
    "x = addChildren(x, father = 9, mother = 10, nch = 1, sex = 2)\n",
    "x = addChildren(x, father = 11, mother = 12, nch = 1, sex = 2)\n",
    "x = addChildren(x, father = 13, mother = 14, nch = 1, sex = 2)\n",
    "x = addChildren(x, father = 15, mother = 16, nch = 1, sex = 2)\n",
    "x = addChildren(x, father = 17, mother = 18, nch = 1, sex = 2)\n",
    "\n",
    "plot(x)\n",
    "\n",
    "# Notice how the pedigree changed.\n",
    "# Take a moment to understand the changes that you made."
   ]
  },
  {
   "cell_type": "code",
   "execution_count": 14,
   "metadata": {},
   "outputs": [
    {
     "data": {
      "text/plain": [
       "Creating new father: 29\n",
       "Creating new father: 31\n",
       "Creating new father: 33\n",
       "Creating new father: 35\n",
       "Creating new father: 37\n",
       "Creating new father: 39\n"
      ]
     },
     "metadata": {},
     "output_type": "display_data"
    },
    {
     "data": {
      "image/png": "[encoded data removed]",
      "text/plain": [
       "<IPython.core.display.Image object>"
      ]
     },
     "metadata": {},
     "output_type": "display_data"
    }
   ],
   "source": [
    "%%R\n",
    "\n",
    "# I continue to make adjustments until I get the pedigree I want.\n",
    "\n",
    "x = addChildren(x, mother = 21, nch = 1, sex = 1)\n",
    "x = addChildren(x, mother = 22, nch = 1, sex = 2)\n",
    "x = addChildren(x, mother = 23, nch = 1, sex = 1)\n",
    "x = addChildren(x, mother = 24, nch = 1, sex = 2)\n",
    "\n",
    "x = addChildren(x, mother = 25, nch = 1, sex = 1)\n",
    "x = addChildren(x, mother = 26, nch = 1, sex = 2)\n",
    "\n",
    "plot(x)"
   ]
  },
  {
   "cell_type": "code",
   "execution_count": 15,
   "metadata": {},
   "outputs": [
    {
     "data": {
      "text/plain": [
       "Creating new mother: 41\n",
       "Creating new mother: 43\n",
       "Creating new father: 45\n",
       "Creating new father: 47\n"
      ]
     },
     "metadata": {},
     "output_type": "display_data"
    },
    {
     "data": {
      "image/png": "[encoded data removed]",
      "text/plain": [
       "<IPython.core.display.Image object>"
      ]
     },
     "metadata": {},
     "output_type": "display_data"
    }
   ],
   "source": [
    "%%R\n",
    "\n",
    "# I continue to make adjustments until I get the pedigree I want.\n",
    "\n",
    "x = addChildren(x, father = 30, nch = 1, sex = 2)\n",
    "x = addChildren(x, father = 34, nch = 1, sex = 2)\n",
    "x = addChildren(x, mother = 32, nch = 1, sex = 1)\n",
    "x = addChildren(x, mother = 36, nch = 1, sex = 1)\n",
    "\n",
    "plot(x)"
   ]
  },
  {
   "cell_type": "code",
   "execution_count": 16,
   "metadata": {},
   "outputs": [
    {
     "data": {
      "text/plain": [
       "Creating new father: 49\n",
       "Creating new mother: 51\n"
      ]
     },
     "metadata": {},
     "output_type": "display_data"
    },
    {
     "data": {
      "image/png": "[encoded data removed]",
      "text/plain": [
       "<IPython.core.display.Image object>"
      ]
     },
     "metadata": {},
     "output_type": "display_data"
    }
   ],
   "source": [
    "%%R\n",
    "\n",
    "# I continue to make adjustments until I get the pedigree I want.\n",
    "\n",
    "x = addChildren(x, mother = 42, nch = 1, sex = 1)\n",
    "x = addChildren(x, father = 46, nch = 1, sex = 2)\n",
    "\n",
    "plot(x)\n",
    "\n",
    "# With this final adjustment, I have satisfied with the pedigree.\n",
    "# Think about other adjustments that you could do.\n",
    "# For example, how might you represent a man with three wives, each with a certain number of children?"
   ]
  },
  {
   "cell_type": "code",
   "execution_count": 17,
   "metadata": {},
   "outputs": [
    {
     "name": "stdout",
     "output_type": "stream",
     "text": [
      " id fid mid sex\n",
      "  1   *   *   1\n",
      "  2   *   *   2\n",
      "  3   1   2   1\n",
      "  4   *   *   2\n",
      "  5   1   2   1\n",
      "  6   *   *   2\n",
      "  7   3   4   1\n",
      "  8   *   *   2\n",
      "  9   5   6   1\n",
      " 10   *   *   2\n",
      " 11   7   8   1\n",
      " 12   *   *   2\n",
      " 13   9  10   1\n",
      " 14   *   *   2\n",
      " 15  11  12   1\n",
      " 16   *   *   2\n",
      " 17  13  14   1\n",
      " 18   *   *   2\n",
      " 19  15  16   1\n",
      " 20  17  18   1\n",
      " 21   3   4   2\n",
      " 22   5   6   2\n",
      " 23   7   8   2\n",
      " 24   9  10   2\n",
      " 25  11  12   2\n",
      " 26  13  14   2\n",
      " 27  15  16   2\n",
      " 28  17  18   2\n",
      " 29   *   *   1\n",
      " 30  29  21   1\n",
      " 31   *   *   1\n",
      " 32  31  22   2\n",
      " 33   *   *   1\n",
      " 34  33  23   1\n",
      " 35   *   *   1\n",
      " 36  35  24   2\n",
      " 37   *   *   1\n",
      " 38  37  25   1\n",
      " 39   *   *   1\n",
      " 40  39  26   2\n",
      " 41   *   *   2\n",
      " 42  30  41   2\n",
      " 43   *   *   2\n",
      " 44  34  43   2\n",
      " 45   *   *   1\n",
      " 46  45  32   1\n",
      " 47   *   *   1\n",
      " 48  47  36   1\n",
      " 49   *   *   1\n",
      " 50  49  42   1\n",
      " 51   *   *   2\n",
      " 52  46  51   2\n"
     ]
    }
   ],
   "source": [
    "%%R\n",
    "\n",
    "# Print the pedigree to check the structure\n",
    "\n",
    "print(x)"
   ]
  },
  {
   "cell_type": "markdown",
   "metadata": {},
   "source": [
    "Extract the pedigree created by pedsuite to a pandas dataframe."
   ]
  },
  {
   "cell_type": "code",
   "execution_count": 52,
   "metadata": {},
   "outputs": [],
   "source": [
    "%%R -o fam_df\n",
    "\n",
    "# Extract data using indexing (modify indices if needed)\n",
    "individual_id <- as.character(x$ID)\n",
    "father_id <- ifelse(x$FIDX == \"*\", 0, x$FIDX)\n",
    "mother_id <- ifelse(x$MIDX == \"*\", 0, x$MIDX)\n",
    "sex <- as.character(x$SEX)\n",
    "\n",
    "# Create data frame\n",
    "fam_df <- data.frame(\n",
    "  individual_id = individual_id,\n",
    "  father_id = father_id,\n",
    "  mother_id = mother_id,\n",
    "  sex = sex\n",
    ")"
   ]
  },
  {
   "cell_type": "markdown",
   "metadata": {},
   "source": [
    "Inspect the dataframe to make sure that it looks as intended."
   ]
  },
  {
   "cell_type": "code",
   "execution_count": 53,
   "metadata": {},
   "outputs": [
    {
     "name": "stdout",
     "output_type": "stream",
     "text": [
      "<class 'pandas.core.frame.DataFrame'>\n",
      "Index: 52 entries, 1 to 52\n",
      "Data columns (total 4 columns):\n",
      " #   Column         Non-Null Count  Dtype \n",
      "---  ------         --------------  ----- \n",
      " 0   individual_id  52 non-null     object\n",
      " 1   father_id      52 non-null     int32 \n",
      " 2   mother_id      52 non-null     int32 \n",
      " 3   sex            52 non-null     object\n",
      "dtypes: int32(2), object(2)\n",
      "memory usage: 1.6+ KB\n"
     ]
    }
   ],
   "source": [
    "fam_df.info()"
   ]
  },
  {
   "cell_type": "code",
   "execution_count": 54,
   "metadata": {},
   "outputs": [
    {
     "data": {
      "text/html": [
       "<div>\n",
       "<style scoped>\n",
       "    .dataframe tbody tr th:only-of-type {\n",
       "        vertical-align: middle;\n",
       "    }\n",
       "\n",
       "    .dataframe tbody tr th {\n",
       "        vertical-align: top;\n",
       "    }\n",
       "\n",
       "    .dataframe thead th {\n",
       "        text-align: right;\n",
       "    }\n",
       "</style>\n",
       "<table border=\"1\" class=\"dataframe\">\n",
       "  <thead>\n",
       "    <tr style=\"text-align: right;\">\n",
       "      <th></th>\n",
       "      <th>individual_id</th>\n",
       "      <th>father_id</th>\n",
       "      <th>mother_id</th>\n",
       "      <th>sex</th>\n",
       "    </tr>\n",
       "  </thead>\n",
       "  <tbody>\n",
       "    <tr>\n",
       "      <th>1</th>\n",
       "      <td>1</td>\n",
       "      <td>0</td>\n",
       "      <td>0</td>\n",
       "      <td>1</td>\n",
       "    </tr>\n",
       "    <tr>\n",
       "      <th>2</th>\n",
       "      <td>2</td>\n",
       "      <td>0</td>\n",
       "      <td>0</td>\n",
       "      <td>2</td>\n",
       "    </tr>\n",
       "    <tr>\n",
       "      <th>3</th>\n",
       "      <td>3</td>\n",
       "      <td>1</td>\n",
       "      <td>2</td>\n",
       "      <td>1</td>\n",
       "    </tr>\n",
       "    <tr>\n",
       "      <th>4</th>\n",
       "      <td>4</td>\n",
       "      <td>0</td>\n",
       "      <td>0</td>\n",
       "      <td>2</td>\n",
       "    </tr>\n",
       "    <tr>\n",
       "      <th>5</th>\n",
       "      <td>5</td>\n",
       "      <td>1</td>\n",
       "      <td>2</td>\n",
       "      <td>1</td>\n",
       "    </tr>\n",
       "    <tr>\n",
       "      <th>6</th>\n",
       "      <td>6</td>\n",
       "      <td>0</td>\n",
       "      <td>0</td>\n",
       "      <td>2</td>\n",
       "    </tr>\n",
       "    <tr>\n",
       "      <th>7</th>\n",
       "      <td>7</td>\n",
       "      <td>3</td>\n",
       "      <td>4</td>\n",
       "      <td>1</td>\n",
       "    </tr>\n",
       "    <tr>\n",
       "      <th>8</th>\n",
       "      <td>8</td>\n",
       "      <td>0</td>\n",
       "      <td>0</td>\n",
       "      <td>2</td>\n",
       "    </tr>\n",
       "  </tbody>\n",
       "</table>\n",
       "</div>"
      ],
      "text/plain": [
       "  individual_id  father_id  mother_id sex\n",
       "1             1          0          0   1\n",
       "2             2          0          0   2\n",
       "3             3          1          2   1\n",
       "4             4          0          0   2\n",
       "5             5          1          2   1\n",
       "6             6          0          0   2\n",
       "7             7          3          4   1\n",
       "8             8          0          0   2"
      ]
     },
     "execution_count": 54,
     "metadata": {},
     "output_type": "execute_result"
    }
   ],
   "source": [
    "# Inspect the first 8 rows.\n",
    "# Compare them to the pedsuite pedigree.\n",
    "# (Note that we are using Python.)\n",
    "\n",
    "fam_df.head(8)"
   ]
  },
  {
   "cell_type": "code",
   "execution_count": 55,
   "metadata": {},
   "outputs": [
    {
     "data": {
      "text/html": [
       "<div>\n",
       "<style scoped>\n",
       "    .dataframe tbody tr th:only-of-type {\n",
       "        vertical-align: middle;\n",
       "    }\n",
       "\n",
       "    .dataframe tbody tr th {\n",
       "        vertical-align: top;\n",
       "    }\n",
       "\n",
       "    .dataframe thead th {\n",
       "        text-align: right;\n",
       "    }\n",
       "</style>\n",
       "<table border=\"1\" class=\"dataframe\">\n",
       "  <thead>\n",
       "    <tr style=\"text-align: right;\">\n",
       "      <th></th>\n",
       "      <th>FAM_ID</th>\n",
       "      <th>INDIV_ID</th>\n",
       "      <th>FATHER_ID</th>\n",
       "      <th>MOTHER_ID</th>\n",
       "      <th>SEX</th>\n",
       "      <th>PHENO</th>\n",
       "    </tr>\n",
       "  </thead>\n",
       "  <tbody>\n",
       "    <tr>\n",
       "      <th>1</th>\n",
       "      <td>FAM</td>\n",
       "      <td>1</td>\n",
       "      <td>0</td>\n",
       "      <td>0</td>\n",
       "      <td>1</td>\n",
       "      <td>-9</td>\n",
       "    </tr>\n",
       "    <tr>\n",
       "      <th>2</th>\n",
       "      <td>FAM</td>\n",
       "      <td>2</td>\n",
       "      <td>0</td>\n",
       "      <td>0</td>\n",
       "      <td>2</td>\n",
       "      <td>-9</td>\n",
       "    </tr>\n",
       "    <tr>\n",
       "      <th>3</th>\n",
       "      <td>FAM</td>\n",
       "      <td>3</td>\n",
       "      <td>1</td>\n",
       "      <td>2</td>\n",
       "      <td>1</td>\n",
       "      <td>-9</td>\n",
       "    </tr>\n",
       "    <tr>\n",
       "      <th>4</th>\n",
       "      <td>FAM</td>\n",
       "      <td>4</td>\n",
       "      <td>0</td>\n",
       "      <td>0</td>\n",
       "      <td>2</td>\n",
       "      <td>-9</td>\n",
       "    </tr>\n",
       "    <tr>\n",
       "      <th>5</th>\n",
       "      <td>FAM</td>\n",
       "      <td>5</td>\n",
       "      <td>1</td>\n",
       "      <td>2</td>\n",
       "      <td>1</td>\n",
       "      <td>-9</td>\n",
       "    </tr>\n",
       "  </tbody>\n",
       "</table>\n",
       "</div>"
      ],
      "text/plain": [
       "  FAM_ID INDIV_ID  FATHER_ID  MOTHER_ID SEX  PHENO\n",
       "1    FAM        1          0          0   1     -9\n",
       "2    FAM        2          0          0   2     -9\n",
       "3    FAM        3          1          2   1     -9\n",
       "4    FAM        4          0          0   2     -9\n",
       "5    FAM        5          1          2   1     -9"
      ]
     },
     "metadata": {},
     "output_type": "display_data"
    }
   ],
   "source": [
    "# Insert a default family ID column at the beginning\n",
    "fam_df.insert(0, \"family_id\", \"FAM\")\n",
    "\n",
    "# Append a phenotype column with a default value (e.g., -9 for missing phenotype)\n",
    "fam_df[\"phenotype\"] = -9\n",
    "\n",
    "# Rename the columns to match the required headers:\n",
    "# FAM_ID, INDIV_ID, FATHER_ID, MOTHER_ID, SEX, PHENO\n",
    "fam_df.rename(columns={\n",
    "    \"family_id\": \"FAM_ID\",\n",
    "    \"individual_id\": \"INDIV_ID\",\n",
    "    \"father_id\": \"FATHER_ID\",\n",
    "    \"mother_id\": \"MOTHER_ID\",\n",
    "    \"sex\": \"SEX\",\n",
    "    \"phenotype\": \"PHENO\"\n",
    "}, inplace=True)\n",
    "\n",
    "# Reorder columns if necessary\n",
    "fam_df = fam_df[[\"FAM_ID\", \"INDIV_ID\", \"FATHER_ID\", \"MOTHER_ID\", \"SEX\", \"PHENO\"]]\n",
    "\n",
    "# Display the first few rows to verify\n",
    "display(fam_df.head())\n",
    "\n",
    "# Save the updated file without header and index, using tab separation\n",
    "fam_df.to_csv(os.path.join(results_directory, \"pedigree.fam\"), sep=\"\\t\", index=False, header=False)\n"
   ]
  },
  {
   "cell_type": "code",
   "execution_count": 51,
   "metadata": {},
   "outputs": [
    {
     "name": "stdout",
     "output_type": "stream",
     "text": [
      "<class 'pandas.core.frame.DataFrame'>\n",
      "Index: 52 entries, 1 to 52\n",
      "Data columns (total 8 columns):\n",
      " #   Column     Non-Null Count  Dtype \n",
      "---  ------     --------------  ----- \n",
      " 0   FAM_ID     52 non-null     object\n",
      " 1   FAM_ID     52 non-null     object\n",
      " 2   INDIV_ID   52 non-null     object\n",
      " 3   FATHER_ID  52 non-null     int32 \n",
      " 4   MOTHER_ID  52 non-null     int32 \n",
      " 5   SEX        52 non-null     object\n",
      " 6   PHENO      52 non-null     int64 \n",
      " 7   PHENO      52 non-null     int64 \n",
      "dtypes: int32(2), int64(2), object(4)\n",
      "memory usage: 3.2+ KB\n"
     ]
    }
   ],
   "source": [
    "fam_df.info()"
   ]
  },
  {
   "cell_type": "markdown",
   "metadata": {},
   "source": [
    "The info() method informs us that our pedigree has 52 individuals with complete information (0 null values)."
   ]
  },
  {
   "cell_type": "code",
   "execution_count": 35,
   "metadata": {},
   "outputs": [],
   "source": [
    "fam_df.to_csv(os.path. join(results_directory, \"pedigree.fam\"), sep=\"\\t\", index=False)"
   ]
  },
  {
   "cell_type": "markdown",
   "metadata": {},
   "source": [
    "Check your results directory for the pedigree.fam file that was created."
   ]
  },
  {
   "cell_type": "markdown",
   "metadata": {},
   "source": [
    "## Ped-sim method"
   ]
  },
  {
   "cell_type": "markdown",
   "metadata": {},
   "source": [
    "The Pedigree Simulator (Ped-sim) is a powerful tool for simulating pedigree structures that use sex-specific genetic maps and considers sex of the individual. To get it up and running on your system, you'll need to download and compile it in your computing space if it is not already there.\n",
    "\n",
    "Here is the ped-sim GitHub page for your reference: [ped-sim](https://github.com/williamslab/ped-sim)."
   ]
  },
  {
   "cell_type": "markdown",
   "metadata": {},
   "source": [
    "### Sex-specific Genetic Map\n",
    "\n",
    "From [Map file](https://github.com/williamslab/ped-sim?tab=readme-ov-file#map-file-):\n",
    "\n",
    "\"The genetic map file contains three columns for a sex-averaged map and four columns if using male and female maps. The format of this file is:\n",
    "\n",
    "`[chromosome] [physical_position] [map_position0] <map_position1>`\n",
    "\n",
    "The chromosomes are expected to be listed in the same order as they are in any input VCF file, with the physical positions in increasing order. The chromosome names must also match the names in the input VCF file, and all chromosome names present in the map must also have corresponding records in the VCF.\n",
    "\n",
    "[map_position0] is genetic position in centiMorgans, and should either be the sex-averaged genetic position if using only one map, or should be the male genetic position if using two maps. When using only one map, the simulator samples all crossovers from that one map and does not distinguish male and female parents.\n",
    "\n",
    "<map_position1> is likewise a genetic position in centiMorgans and should correspond to the female genetic position if given.\n",
    "\n",
    "A high resolution human sex-specific genetic map is available [here](https://github.com/cbherer/Bherer_etal_SexualDimorphismRecombination), and is described in [Bhérer et al. (2017)](https://www.nature.com/articles/ncomms14994). To generate an autosomal map file in the format the simulator requires with both male and female genetic positions, run the following bash commands:\""
   ]
  },
  {
   "cell_type": "code",
   "execution_count": null,
   "metadata": {},
   "outputs": [],
   "source": [
    "%%bash -s \"$references_directory\"\n",
    "\n",
    "# Receive directory variables from Python\n",
    "references_directory=$1\n",
    "\n",
    "# genetic map for ped-sim\n",
    "\n",
    "wget https://github.com/cbherer/Bherer_etal_SexualDimorphismRecombination/raw/master/Refined_genetic_map_b37.tar.gz -P $references_directory\n",
    "tar xvzf $references_directory/Refined_genetic_map_b37.tar.gz -C $references_directory\n",
    "printf \"#chr\\tpos\\tmale_cM\\tfemale_cM\\n\" > $references_directory/refined_mf_b37.simmap\n",
    "\n",
    "# The paste command combines each line from the male chromosome file (male_chr$chr.txt)\n",
    "# with the corresponding line from the female chromosome file (female_chr$chr.txt).\n",
    "# They are combined side by side, separated by a tab.\n",
    "for chr in {1..22}; do\n",
    "  paste $references_directory/Refined_genetic_map_b37/male_chr$chr.txt $references_directory/Refined_genetic_map_b37/female_chr$chr.txt \\\n",
    "    | awk -v OFS=\"\\t\" 'NR > 1 && $2 == $6 {print $1,$2,$4,$8}' \\\n",
    "    | sed 's/^chr//' >> $references_directory/refined_mf_b37.simmap\n",
    "done\n",
    "\n",
    "rm $references_directory/Refined_genetic_map_b37.tar.gz\n",
    "rm -r $references_directory/Refined_genetic_map_b37\n",
    "\n",
    "# When you get the check mark indicating that the cell successfully completed its run,\n",
    "# go ahead and clear the cell output.\n",
    "\n",
    "# For the moment, you can igore:\n",
    "\n",
    "# tar: Ignoring unknown extended header keyword 'SCHILY.dev'\n",
    "# tar: Ignoring unknown extended header keyword 'SCHILY.ino'\n",
    "# tar: Ignoring unknown extended header keyword 'SCHILY.nlink'"
   ]
  },
  {
   "cell_type": "markdown",
   "metadata": {},
   "source": [
    "You should now have the `refined_mf_b37.simmap` file in your references directory. Manually take a look at the file. It is a text file so you can use Notepad++ or your build-in text editor to view it."
   ]
  },
  {
   "cell_type": "code",
   "execution_count": 91,
   "metadata": {},
   "outputs": [
    {
     "name": "stderr",
     "output_type": "stream",
     "text": [
      "Reading liftover chains\n",
      "Mapping coordinates\n"
     ]
    }
   ],
   "source": [
    "%%bash -s \"$references_directory\" \"$utils_directory\"\n",
    "\n",
    "# Receive directory variables from Python\n",
    "references_directory=$1\n",
    "utils_directory=$2\n",
    "\n",
    "# --- Step 2: Convert the build 37 map to build 38 using liftOver ---\n",
    "\n",
    "# Create a BED file from the build 37 simmap.\n",
    "# The BED file requires 0-based start coordinates, so subtract 1 from the position.\n",
    "awk 'NR>1 {print \"chr\"$1, $2-1, $2, $3, $4}' OFS=\"\\t\" $references_directory/refined_mf_b37.simmap > $references_directory/refined_mf_b37.bed\n",
    "\n",
    "# Run liftOver to convert BED coordinates to build 38.\n",
    "liftOver $references_directory/refined_mf_b37.bed \\\n",
    "         $references_directory/hg19ToHg38.over.chain.gz \\\n",
    "         $references_directory/refined_mf_b38.bed \\\n",
    "         $references_directory/refined_mf_b38.unmapped\n",
    "\n",
    "# Create a temporary directory for our work\n",
    "tmp_dir=$(mktemp -d)\n",
    "\n",
    "# Step 1: Extract and prepare data from the BED file\n",
    "awk -v OFS=\"\\t\" '{\n",
    "  sub(/^chr/,\"\",$1);\n",
    "  if ($1 ~ /^[0-9]+$/ && $1>=1 && $1<=22)\n",
    "    print $1, $3, $4, $5\n",
    "}' $references_directory/refined_mf_b38.bed > $tmp_dir/filtered_data.txt\n",
    "\n",
    "# Step 2: Process each chromosome separately in proper numerical order\n",
    "printf \"#chr\\tpos\\tmale_cM\\tfemale_cM\\n\" > $references_directory/refined_mf_b38.simmap\n",
    "\n",
    "for chr in $(seq 1 22); do\n",
    "  grep -w \"^$chr\" $tmp_dir/filtered_data.txt | sort -k2,2n >> $references_directory/refined_mf_b38.simmap\n",
    "done\n",
    "\n",
    "# Step 3: Now also fix the interference file in the same order\n",
    "cp $utils_directory/ped-sim/interfere/nu_p_campbell.tsv $tmp_dir/original_interference.tsv\n",
    "head -n 1 $tmp_dir/original_interference.tsv > $tmp_dir/new_interference.tsv\n",
    "\n",
    "# Extract chromosome column number (assuming it's in column 1, adjust if needed)\n",
    "chr_col=1\n",
    "\n",
    "for chr in $(seq 1 22); do\n",
    "  awk -v col=$chr_col -v chr=$chr '$col == chr' $tmp_dir/original_interference.tsv | sort -k2,2n >> $tmp_dir/new_interference.tsv\n",
    "done\n",
    "\n",
    "# Replace the original interference file with our sorted version\n",
    "cp $tmp_dir/new_interference.tsv $utils_directory/ped-sim/interfere/nu_p_campbell.tsv\n",
    "\n",
    "# Clean up\n",
    "rm -rf $tmp_dir\n",
    "\n",
    "# (Optional) Clean up temporary files\n",
    "rm $references_directory/refined_mf_b37.bed"
   ]
  },
  {
   "cell_type": "markdown",
   "metadata": {},
   "source": [
    "### Just about ready to use Ped-sim"
   ]
  },
  {
   "cell_type": "markdown",
   "metadata": {},
   "source": [
    "You have installed everything you need to run ped-sim, but it needs one more thing: the pedigree definition file. In my opinion, defining a pedigree in ped-sim is a bit convoluted. I prefer the pedigree definition utility in the `pedsuite` R package. However, the output of `pedsuite` needs more data wraggling before it can be used in Bonsai. Perhaps you would be interested in using that program and creating a script to use the output as input into our downstream analysis.\n",
    "\n",
    "`ped-sim` comes with example pedigree definition files for you to use. You can find them in your `~/use/pedsim/example` directory. To get a more detailed explanation of how to create a pedigree definiton file, see [Def file](https://github.com/williamslab/ped-sim?tab=readme-ov-file#def-file). You difine the pedigree using a text file. When doing so, make sure it is using the UNIX/OSX Format. I use [Notepad++](https://notepad-plus-plus.org/downloads/) for these purposes, but you are free to use whichever text editor you want."
   ]
  },
  {
   "cell_type": "code",
   "execution_count": 56,
   "metadata": {},
   "outputs": [
    {
     "name": "stdout",
     "output_type": "stream",
     "text": [
      "/home/lakishadavid/computational_genetic_genealogy/utils/ped-sim/fam2def.py -i /home/lakishadavid/computational_genetic_genealogy/results/pedigree.fam -o /home/lakishadavid/computational_genetic_genealogy/results/pedigree.def\n",
      "fam file, 'FAM' num individuals: 52\n",
      "fam file, 'FAM' num founders: 22\n",
      "\n",
      "def file, 'FAM' num individuals: 52\n",
      "def file, 'FAM' num founder: 22\n"
     ]
    },
    {
     "data": {
      "text/plain": [
       "CompletedProcess(args='/home/lakishadavid/computational_genetic_genealogy/utils/ped-sim/fam2def.py -i /home/lakishadavid/computational_genetic_genealogy/results/pedigree.fam -o /home/lakishadavid/computational_genetic_genealogy/results/pedigree.def', returncode=0)"
      ]
     },
     "execution_count": 56,
     "metadata": {},
     "output_type": "execute_result"
    }
   ],
   "source": [
    "# Build the command string using f-string formatting\n",
    "command = (\n",
    "    f\"{utils_directory}/ped-sim/fam2def.py \"\n",
    "    f\"-i {results_directory}/pedigree.fam \"\n",
    "    f\"-o {results_directory}/pedigree.def\"\n",
    ")\n",
    "\n",
    "print(command)\n",
    "\n",
    "import subprocess\n",
    "\n",
    "subprocess.run(command, shell=True, check=True)\n"
   ]
  },
  {
   "cell_type": "markdown",
   "metadata": {},
   "source": [
    "## Run Ped-sim"
   ]
  },
  {
   "cell_type": "markdown",
   "metadata": {},
   "source": [
    "Now you are ready to run ped-sim."
   ]
  },
  {
   "cell_type": "code",
   "execution_count": 93,
   "metadata": {},
   "outputs": [
    {
     "name": "stdout",
     "output_type": "stream",
     "text": [
      "Pedigree simulator!  v1.4.5    (Released 13 Dec 2024)\n",
      "\n",
      "  Def file:\t\t/home/lakishadavid/computational_genetic_genealogy/results/pedigree.def\n",
      "  Map file:\t\t/home/lakishadavid/computational_genetic_genealogy/references/refined_mf_b37.simmap\n",
      "  Input VCF:\t\t[none: no genetic data]\n",
      "  Output prefix:\t/home/lakishadavid/computational_genetic_genealogy/results/ped_sim_run\n",
      "\n",
      "  Random seed:\t\t1234\n",
      "\n",
      "  Interference file:\t/home/lakishadavid/computational_genetic_genealogy/utils/ped-sim/interfere/nu_p_campbell.tsv\n",
      "\n",
      "Simulating haplotype transmissions... done.\n",
      "Printing IBD segments and MRCAs... done.\n",
      "Printing fam file... done.  (Do not use with PLINK data: see README.md)\n",
      "\n",
      "To simulate genetic data, must use an input VCF with 22 founders.\n"
     ]
    }
   ],
   "source": [
    "%%bash -s \"$references_directory\" \"$utils_directory\" \"$results_directory\"\n",
    "\n",
    "# Receive directory variables from Python\n",
    "references_directory=$1\n",
    "utils_directory=$2\n",
    "results_directory=$3\n",
    "pedigree_definition_file=\"pedigree.def\"\n",
    "ped_sim_filename=\"ped_sim_run\"\n",
    "\n",
    "# Run ped-sim with parameters:\n",
    "\n",
    "# -d: Specifies the path to the pedigree definition file.\n",
    "# -m: Specifies the path to the genetic map file.\n",
    "# -o: Specifies the prefix for the output files.\n",
    "# --intf: Uses the interference crossover model\n",
    "# --seed: Sets the random number generator seed to ensure reproducibility.\n",
    "# --fam: Outputs the simulated data in PLINK's .fam format.\n",
    "# --mrca: Outputs the most recent common ancestor (MRCA) of all sampled individuals.\n",
    "\n",
    "\n",
    "# Notice that this uses the human crossover interference parameters stored in pedsim/interfere directory\n",
    "\n",
    "${utils_directory}/ped-sim/ped-sim \\\n",
    "  -d $results_directory/$pedigree_definition_file \\\n",
    "  -m $references_directory/refined_mf_b37.simmap \\\n",
    "  -o $results_directory/$ped_sim_filename \\\n",
    "  --intf $utils_directory/ped-sim/interfere/nu_p_campbell.tsv \\\n",
    "  --seed 1234 \\\n",
    "  --fam \\\n",
    "  --mrca\n",
    "\n",
    "# # using --pois instead of --intf\n",
    "# # --pois: Uses the Poisson distribution to determine the number of crossovers.\n",
    "# ./pedsim/ped-sim \\\n",
    "#   -d $util_directory/$pedigree_definition_file \\\n",
    "#   -m $references_directory/combined_genetic_map_b38.txt \\\n",
    "#   -o $results_directory/$ped_sim_filename \\\n",
    "#   --pois \\\n",
    "#   --seed 1234 \\\n",
    "#   --fam \\\n",
    "#   --mrca"
   ]
  },
  {
   "cell_type": "markdown",
   "metadata": {},
   "source": [
    "**Let's take a look at the results.** \n",
    "\n",
    "Familiarize yourself with the different result files. Notice from the output of the above cell that if you wanted to simulate genetic data for this configuration, you would need to rerun the above cell with an input VCF with 1,600 founders. For now, we do not actually need the genetic data itself. Using the IBD segment data (the .seg file) is sufficient."
   ]
  },
  {
   "cell_type": "markdown",
   "metadata": {},
   "source": [
    "## Graphing the results\n",
    "\n",
    "In this run, we will first define the graph function, then call the function to create our graph."
   ]
  },
  {
   "cell_type": "markdown",
   "metadata": {},
   "source": [
    "**Define the graph function.**"
   ]
  },
  {
   "cell_type": "code",
   "execution_count": null,
   "metadata": {},
   "outputs": [],
   "source": [
    "import pandas as pd\n",
    "import matplotlib.pyplot as plt\n",
    "import networkx as nx\n",
    "import os\n",
    "\n",
    "def graph_fam_file_simulated(filename, pedigree=None):\n",
    "    fam_file = pd.read_csv(os.path.join(results_directory, filename), sep=\" \", header=None)\n",
    "    fam_file.columns = [\"fam\", \"id\", \"parent0\", \"parent1\", \"sex\", \"phenotype\"]\n",
    "\n",
    "    if pedigree is not None:\n",
    "\n",
    "        # Extract pedigree number from the first element\n",
    "        fam_file['pedigree_num'] = fam_file['fam'].apply(lambda x: x.split('_')[-1])\n",
    "        fam_file = fam_file[fam_file['pedigree_num'] == str(pedigree)]\n",
    "\n",
    "    fig = plt.figure(num=None, figsize=(250, 100), dpi=100)\n",
    "\n",
    "    G = nx.DiGraph()\n",
    "\n",
    "    for index, row in fam_file.iterrows():\n",
    "        id = row['id']\n",
    "\n",
    "        values_id1 = id.split(\"_\")\n",
    "        subvalues_id1 = values_id1[3].split(\"-\")\n",
    "        gen_id1 = int(subvalues_id1[0].lstrip(\"g\"))\n",
    "\n",
    "        G.add_node(id, time=gen_id1)\n",
    "\n",
    "        if row['parent0'] != '0':\n",
    "            parent0_id = row['parent0']\n",
    "            values_parent0 = parent0_id.split(\"_\")\n",
    "            subvalues_parent0 = values_parent0[3].split(\"-\")\n",
    "            gen_parent0 = int(subvalues_parent0[0].lstrip(\"g\"))\n",
    "            G.add_node(parent0_id, time=gen_parent0)\n",
    "            G.add_edge(parent0_id, id)\n",
    "\n",
    "        if row['parent1'] != '0':\n",
    "            parent1_id = row['parent1']\n",
    "            values_parent1 = parent1_id.split(\"_\")\n",
    "            subvalues_parent1 = values_parent1[3].split(\"-\")\n",
    "            gen_parent1 = int(subvalues_parent1[0].lstrip(\"g\"))\n",
    "            G.add_node(parent1_id, time=gen_parent1)\n",
    "            G.add_edge(parent1_id, id)\n",
    "\n",
    "    # Reverse the order of generations\n",
    "    max_gen = max(gen_id1 for _, gen_id1 in G.nodes(data='time'))\n",
    "    for node, data in G.nodes(data=True):\n",
    "        data['time'] = max_gen - data['time']\n",
    "\n",
    "    return G"
   ]
  },
  {
   "cell_type": "markdown",
   "metadata": {},
   "source": [
    "**Call the graph function.**"
   ]
  },
  {
   "cell_type": "code",
   "execution_count": 95,
   "metadata": {},
   "outputs": [
    {
     "ename": "IndexError",
     "evalue": "list index out of range",
     "output_type": "error",
     "traceback": [
      "\u001b[0;31m---------------------------------------------------------------------------\u001b[0m",
      "\u001b[0;31mIndexError\u001b[0m                                Traceback (most recent call last)",
      "Cell \u001b[0;32mIn[95], line 1\u001b[0m\n\u001b[0;32m----> 1\u001b[0m G1 \u001b[38;5;241m=\u001b[39m \u001b[43mgraph_fam_file_simulated\u001b[49m\u001b[43m(\u001b[49m\u001b[38;5;124;43m\"\u001b[39;49m\u001b[38;5;124;43mped_sim_run-everyone.fam\u001b[39;49m\u001b[38;5;124;43m\"\u001b[39;49m\u001b[43m)\u001b[49m\n\u001b[1;32m      2\u001b[0m pos \u001b[38;5;241m=\u001b[39m nx\u001b[38;5;241m.\u001b[39mmultipartite_layout(G1, subset_key\u001b[38;5;241m=\u001b[39m\u001b[38;5;124m\"\u001b[39m\u001b[38;5;124mtime\u001b[39m\u001b[38;5;124m\"\u001b[39m, align\u001b[38;5;241m=\u001b[39m\u001b[38;5;124m\"\u001b[39m\u001b[38;5;124mhorizontal\u001b[39m\u001b[38;5;124m\"\u001b[39m, scale\u001b[38;5;241m=\u001b[39m\u001b[38;5;241m50\u001b[39m)\n\u001b[1;32m      3\u001b[0m nx\u001b[38;5;241m.\u001b[39mdraw_networkx(G1, pos, node_size\u001b[38;5;241m=\u001b[39m\u001b[38;5;241m3000\u001b[39m, with_labels\u001b[38;5;241m=\u001b[39m\u001b[38;5;28;01mTrue\u001b[39;00m, arrows\u001b[38;5;241m=\u001b[39m\u001b[38;5;28;01mFalse\u001b[39;00m)\n",
      "Cell \u001b[0;32mIn[94], line 24\u001b[0m, in \u001b[0;36mgraph_fam_file_simulated\u001b[0;34m(filename, pedigree)\u001b[0m\n\u001b[1;32m     21\u001b[0m \u001b[38;5;28mid\u001b[39m \u001b[38;5;241m=\u001b[39m row[\u001b[38;5;124m'\u001b[39m\u001b[38;5;124mid\u001b[39m\u001b[38;5;124m'\u001b[39m]\n\u001b[1;32m     23\u001b[0m values_id1 \u001b[38;5;241m=\u001b[39m \u001b[38;5;28mid\u001b[39m\u001b[38;5;241m.\u001b[39msplit(\u001b[38;5;124m\"\u001b[39m\u001b[38;5;124m_\u001b[39m\u001b[38;5;124m\"\u001b[39m)\n\u001b[0;32m---> 24\u001b[0m subvalues_id1 \u001b[38;5;241m=\u001b[39m \u001b[43mvalues_id1\u001b[49m\u001b[43m[\u001b[49m\u001b[38;5;241;43m3\u001b[39;49m\u001b[43m]\u001b[49m\u001b[38;5;241m.\u001b[39msplit(\u001b[38;5;124m\"\u001b[39m\u001b[38;5;124m-\u001b[39m\u001b[38;5;124m\"\u001b[39m)\n\u001b[1;32m     25\u001b[0m gen_id1 \u001b[38;5;241m=\u001b[39m \u001b[38;5;28mint\u001b[39m(subvalues_id1[\u001b[38;5;241m0\u001b[39m]\u001b[38;5;241m.\u001b[39mlstrip(\u001b[38;5;124m\"\u001b[39m\u001b[38;5;124mg\u001b[39m\u001b[38;5;124m\"\u001b[39m))\n\u001b[1;32m     27\u001b[0m G\u001b[38;5;241m.\u001b[39madd_node(\u001b[38;5;28mid\u001b[39m, time\u001b[38;5;241m=\u001b[39mgen_id1)\n",
      "\u001b[0;31mIndexError\u001b[0m: list index out of range"
     ]
    },
    {
     "data": {
      "text/plain": [
       "<Figure size 25000x10000 with 0 Axes>"
      ]
     },
     "metadata": {},
     "output_type": "display_data"
    }
   ],
   "source": [
    "G1 = graph_fam_file_simulated(\"ped_sim_run-everyone.fam\")\n",
    "pos = nx.multipartite_layout(G1, subset_key=\"time\", align=\"horizontal\", scale=50)\n",
    "nx.draw_networkx(G1, pos, node_size=3000, with_labels=True, arrows=False)\n",
    "ped_sim_plot_filename = f\"{results_directory}/diagram_ped_sim_pedigree.svg\"\n",
    "# plt.title(\"Ped-Sim Pedigree\")\n",
    "plt.savefig(ped_sim_plot_filename, bbox_inches = 'tight', pad_inches = 0)"
   ]
  },
  {
   "cell_type": "markdown",
   "metadata": {},
   "source": [
    "In the output, you will see a depiction of all 10 pedigrees (also saved in your results directory as a `diagram_ped_sim_pedigree.svg`). You should see five rows of blue dots. These are the five generations specified in the pedigree definition file. But perhaps it's a little difficult to see what's going on in the output. Let's take a look at just one of the pedigrees."
   ]
  },
  {
   "cell_type": "code",
   "execution_count": null,
   "metadata": {},
   "outputs": [],
   "source": [
    "pedigree_num = 2\n",
    "G2 = graph_fam_file_simulated(\"ped_sim_run-everyone.fam\", pedigree = pedigree_num)\n",
    "pos = nx.multipartite_layout(G2, subset_key=\"time\", align=\"horizontal\", scale=50)\n",
    "nx.draw_networkx(G2, pos, node_size=3000, with_labels=True, arrows=False)\n",
    "ped_sim_plot_filename = f\"{results_directory}/diagram_ped_sim_pedigree_{pedigree_num}.svg\"\n",
    "plt.savefig(ped_sim_plot_filename, bbox_inches='tight', pad_inches=0)"
   ]
  },
  {
   "cell_type": "markdown",
   "metadata": {},
   "source": [
    "That's better. Now we can see what one of the pedigrees look like.\n",
    "\n",
    "Each node (blue circle) is a person. Each edge (line) represents one generation.\n",
    "\n",
    "Can you identify:\n",
    "- full siblings\n",
    "- first cousins\n",
    "- second cousins\n",
    "- third cousins\n",
    "- parents\n",
    "- grandparents\n",
    "- great grandparents\n",
    "- 2x great grandparents\n",
    "- aunt/uncle (avuncular)"
   ]
  },
  {
   "cell_type": "markdown",
   "metadata": {},
   "source": [
    "## Segments\n",
    "\n",
    "Now, let's look at the segment data and build our data table."
   ]
  },
  {
   "cell_type": "code",
   "execution_count": null,
   "metadata": {},
   "outputs": [],
   "source": [
    "segments = pd.read_csv(os.path.join(results_directory, \"ped_sim_run.seg\"), sep=\"\\t\", header = None)\n",
    "segments.head()"
   ]
  },
  {
   "cell_type": "markdown",
   "metadata": {},
   "source": [
    "Notice the column headers are not very informative. Let's change that."
   ]
  },
  {
   "cell_type": "code",
   "execution_count": null,
   "metadata": {},
   "outputs": [],
   "source": [
    "segments.columns = ([\"id1\", \"id2\", \"chromosome\", \"physical_position_start\", \"physical_position_end\", \"IBD_type\", \"genetic_position_start\", \"genetic_position_end\", \"genetic_length\"])\n",
    "segments.head()"
   ]
  },
  {
   "cell_type": "code",
   "execution_count": null,
   "metadata": {},
   "outputs": [],
   "source": [
    "segments.info()"
   ]
  },
  {
   "cell_type": "code",
   "execution_count": null,
   "metadata": {},
   "outputs": [],
   "source": [
    "# Get the unique values\n",
    "segments['IBD_type'].unique()"
   ]
  },
  {
   "cell_type": "code",
   "execution_count": null,
   "metadata": {},
   "outputs": [],
   "source": [
    "segments['chromosome'].unique()"
   ]
  },
  {
   "cell_type": "code",
   "execution_count": null,
   "metadata": {},
   "outputs": [],
   "source": [
    "# Get data descriptives\n",
    "segments['genetic_length'].describe()"
   ]
  },
  {
   "cell_type": "code",
   "execution_count": null,
   "metadata": {},
   "outputs": [],
   "source": [
    "# Get the DNA segment minimum genetic length\n",
    "\n",
    "min_segment_size = float(segments['genetic_length'].min())\n",
    "\n",
    "print(f\"The minimum segment size is {min_segment_size:.6f} cM.\")"
   ]
  },
  {
   "cell_type": "markdown",
   "metadata": {},
   "source": [
    "In reality, we would not work with DNA segments smaller than what we can accurately detect. The IBD detection algorithms we use can accurately detect IBD segments at a minimum of 2 cM (e.g., Refined IBD). Let's conservatively filter the segment such that we use only the segments with a minimum of 3 cM."
   ]
  },
  {
   "cell_type": "code",
   "execution_count": null,
   "metadata": {},
   "outputs": [],
   "source": [
    "# Subset your data.\n",
    "# Get only the segments with a genetic length of at least 3 cM.\n",
    "\n",
    "filtered_segments = segments[segments['genetic_length'] >= 3]\n",
    "filtered_segments.info()"
   ]
  },
  {
   "cell_type": "code",
   "execution_count": null,
   "metadata": {},
   "outputs": [],
   "source": [
    "# Get data descriptives\n",
    "filtered_segments['genetic_length'].describe()"
   ]
  },
  {
   "cell_type": "markdown",
   "metadata": {},
   "source": [
    "Compare the descriptive output of the full dataset and the subsetted dataset."
   ]
  },
  {
   "cell_type": "markdown",
   "metadata": {},
   "source": [
    "You can use other filtering conditions if you want. For example, you could filter the segments between 10 and 50 cM inclusively."
   ]
  },
  {
   "cell_type": "code",
   "execution_count": null,
   "metadata": {},
   "outputs": [],
   "source": [
    "filtered_segments_50_10 = segments[(segments['genetic_length'] >= 10) & (segments['genetic_length'] <= 50)]\n",
    "filtered_segments_50_10.info()"
   ]
  },
  {
   "cell_type": "code",
   "execution_count": null,
   "metadata": {},
   "outputs": [],
   "source": [
    "filtered_segments_50_10['genetic_length'].describe()"
   ]
  },
  {
   "cell_type": "markdown",
   "metadata": {},
   "source": [
    "Let's create a summary pandas dataframe called relationships based on the segment data. Instead of having a row for each segment, this dataframe will summarize the shared segments for each unique pair."
   ]
  },
  {
   "cell_type": "code",
   "execution_count": null,
   "metadata": {},
   "outputs": [],
   "source": [
    "# Create the relationships dataframe for simulated data\n",
    "\n",
    "def segment_position(x, position):\n",
    "    sorted_values = x.sort_values(ascending=False)\n",
    "    if len(sorted_values) < position:\n",
    "        return 0\n",
    "    return sorted_values.iloc[position - 1]\n",
    "\n",
    "relationships = filtered_segments.groupby(['id1', 'id2']).agg(\n",
    "    num_seg=('id1', 'size'),\n",
    "    total_shared=('genetic_length', 'sum'),\n",
    "    max_seg=('genetic_length', 'max'),\n",
    "    second_seg=('genetic_length', lambda x: segment_position(x, 2)),\n",
    "    third_seg=('genetic_length', lambda x: segment_position(x, 3)),\n",
    "    fourth_seg=('genetic_length', lambda x: segment_position(x, 4)),\n",
    ").reset_index()\n",
    "\n",
    "relationships.head()"
   ]
  },
  {
   "cell_type": "code",
   "execution_count": null,
   "metadata": {},
   "outputs": [],
   "source": [
    "relationships.info()"
   ]
  },
  {
   "cell_type": "code",
   "execution_count": null,
   "metadata": {},
   "outputs": [],
   "source": [
    "updated_relationships = relationships.copy()  # Create a copy of the relationships DataFrame\n",
    "\n",
    "def get_relationships(row):\n",
    "    common_ancestors = nx.lowest_common_ancestor(G1, row['id1'], row['id2'])\n",
    "    path_lengths1 = nx.shortest_path_length(G1, source=common_ancestors, target=row['id1'])\n",
    "    path_lengths2 = nx.shortest_path_length(G1, source=common_ancestors, target=row['id2'])\n",
    "    return str((path_lengths1, path_lengths2))\n",
    "\n",
    "with tqdm(total=len(updated_relationships), desc=\"Processing relationships\") as progress_bar:\n",
    "    for index, row in updated_relationships.iterrows():\n",
    "        updated_relationships.loc[index, 'genealogical_relationship'] = get_relationships(row)\n",
    "        progress_bar.update()\n",
    "\n",
    "updated_relationships.head()"
   ]
  },
  {
   "cell_type": "markdown",
   "metadata": {},
   "source": [
    "In the updated relationships dataframe, each row represents an unique pair. It also has the total number of segments shared in the pair, total amount of DNA (minimum of 3 cM), and largest 4 segment (cM). You'll also see a genealogical_relationship column where the value is a tuple. In the tuple, the first value is the number of generations from id1 to the shared ancestor, and the second value is the number of generations from id2 and the shared ancestor. For example, (2, 1) means that there is 2 generations between id1 and the shared ancestor and 1 generation between id2 and the shared ancestor. A genealogical_relationship of (1, 1) is full siblings (i.e., siblings sharing both biological parents). A value of 0 means \"self\", indicating that self is the ancestor of the other person. For example, (0, 1) means that id1 is the parent of id2. In another example, (2, 0) means that id1 is the grandchild of id2."
   ]
  },
  {
   "cell_type": "code",
   "execution_count": null,
   "metadata": {},
   "outputs": [],
   "source": [
    "updated_relationships.info()"
   ]
  },
  {
   "cell_type": "code",
   "execution_count": null,
   "metadata": {},
   "outputs": [],
   "source": [
    "updated_relationships.describe()"
   ]
  },
  {
   "cell_type": "markdown",
   "metadata": {},
   "source": [
    "In the next cell, we will add column meiotic_distance. Meiotic distance is the number of meioses separating the members of the pair. It is calculated by summing the values in the genealogical_relationship tuple."
   ]
  },
  {
   "cell_type": "code",
   "execution_count": null,
   "metadata": {},
   "outputs": [],
   "source": [
    "updated_relationships['genealogical_relationship'] = updated_relationships['genealogical_relationship'].apply(ast.literal_eval)\n",
    "updated_relationships['meiotic_distance'] = updated_relationships['genealogical_relationship'].apply(lambda x: sum(x) if isinstance(x, tuple) else \"\")\n",
    "\n",
    "updated_relationships.head()"
   ]
  },
  {
   "cell_type": "code",
   "execution_count": null,
   "metadata": {},
   "outputs": [],
   "source": [
    "updated_relationships.to_csv(os.path.join(results_directory, \"relationships.csv\"), sep=\"\\t\", index=False)\n",
    "\n",
    "# Manually confirm that your relationships.csv file is in your results directory."
   ]
  },
  {
   "cell_type": "code",
   "execution_count": null,
   "metadata": {},
   "outputs": [],
   "source": [
    "updated_relationships.describe()"
   ]
  },
  {
   "cell_type": "code",
   "execution_count": null,
   "metadata": {},
   "outputs": [],
   "source": [
    "print(updated_relationships['genealogical_relationship'].value_counts())\n",
    "print(\"\\n\")\n",
    "print(f\"There are {len(updated_relationships['genealogical_relationship'].unique())} different relationship groups among the sampled individuals in this pedigree.\")"
   ]
  },
  {
   "cell_type": "markdown",
   "metadata": {},
   "source": [
    "Let's explore some descriptives of DNA sharing (min 3 cM segment) at the various relationship levels."
   ]
  },
  {
   "cell_type": "code",
   "execution_count": null,
   "metadata": {},
   "outputs": [],
   "source": [
    "updated_relationships.drop([\n",
    "    \"id1\", \"id2\",\n",
    "    \"second_seg\", \"third_seg\",\n",
    "    \"meiotic_distance\"\n",
    "    ], axis=1).groupby(\"genealogical_relationship\").agg(['count', 'mean', 'std', 'min', 'max'])"
   ]
  },
  {
   "cell_type": "markdown",
   "metadata": {},
   "source": [
    "### Additional Exploration"
   ]
  },
  {
   "cell_type": "code",
   "execution_count": null,
   "metadata": {},
   "outputs": [],
   "source": [
    "# Read the saved csv file as a Pandas dataframe, replacing the previously saved `relationships` value.\n",
    "relationships = pd.read_csv(os.path.join(results_directory, \"relationships.csv\"), sep = \"\\t\")\n",
    "\n",
    "relationships.head()"
   ]
  },
  {
   "cell_type": "code",
   "execution_count": null,
   "metadata": {},
   "outputs": [],
   "source": [
    "relationships.info()"
   ]
  },
  {
   "cell_type": "code",
   "execution_count": null,
   "metadata": {},
   "outputs": [],
   "source": [
    "sns.scatterplot(data=relationships, y='meiotic_distance', x='max_seg')\n",
    "plt.xlabel('Max Segment Length')\n",
    "plt.ylabel('Genealogical Distance')\n",
    "plt.title('Scatter Plot: Genealogical Distance vs Max Segment Length')\n",
    "plt.show()"
   ]
  },
  {
   "cell_type": "code",
   "execution_count": null,
   "metadata": {},
   "outputs": [],
   "source": [
    "sns.scatterplot(data=relationships, y='meiotic_distance', x='num_seg')\n",
    "plt.xlabel('Number of Segments')\n",
    "plt.ylabel('Genealogical Distance')\n",
    "plt.title('Scatter Plot: Genealogical Distance vs Number of Segments')\n",
    "plt.show()"
   ]
  },
  {
   "cell_type": "code",
   "execution_count": null,
   "metadata": {},
   "outputs": [],
   "source": [
    "sns.kdeplot(data=relationships, x='max_seg', y='meiotic_distance', cmap='viridis', fill=True)\n",
    "plt.xlabel('Max Segment Length')\n",
    "plt.ylabel('Genealogical Distance (generations)')\n",
    "plt.title('Density Plot: Max Segment Length vs Genealogical Relationship')\n",
    "\n",
    "# Set the y-axis tick labels based on the range of meiotic_distance\n",
    "gg_distance_values = sorted(relationships['meiotic_distance'].unique())\n",
    "plt.yticks(gg_distance_values, gg_distance_values)\n",
    "plt.show()"
   ]
  },
  {
   "cell_type": "code",
   "execution_count": null,
   "metadata": {},
   "outputs": [],
   "source": [
    "sns.kdeplot(data=relationships, x='num_seg', y='meiotic_distance', cmap='viridis', fill=True)\n",
    "plt.xlabel('Number of Segments')\n",
    "plt.ylabel('Genealogical Distance (generations)')\n",
    "plt.title('Density Plot: Number of Segments vs Genealogical Relationship')\n",
    "\n",
    "# Set the y-axis tick labels based on the range of meiotic_distance\n",
    "gg_distance_values = sorted(relationships['meiotic_distance'].unique())\n",
    "plt.yticks(gg_distance_values, gg_distance_values)\n",
    "plt.show()"
   ]
  },
  {
   "cell_type": "code",
   "execution_count": null,
   "metadata": {},
   "outputs": [],
   "source": [
    "# Get the average segment size for each pair\n",
    "relationships[\"average_segment_size\"] = relationships[\"total_shared\"] / relationships[\"num_seg\"]\n",
    "\n",
    "relationships.head()"
   ]
  },
  {
   "cell_type": "markdown",
   "metadata": {},
   "source": [
    "Let's take a look at the average segment size for each meiotic distance."
   ]
  },
  {
   "cell_type": "code",
   "execution_count": null,
   "metadata": {},
   "outputs": [],
   "source": [
    "relationships.groupby('meiotic_distance')['average_segment_size'].mean()"
   ]
  },
  {
   "cell_type": "markdown",
   "metadata": {},
   "source": [
    "Notice that the average segment size decreases as the meiotic distance between members of a pair increases."
   ]
  },
  {
   "cell_type": "code",
   "execution_count": null,
   "metadata": {},
   "outputs": [],
   "source": [
    "import seaborn as sns\n",
    "import matplotlib.pyplot as plt\n",
    "\n",
    "sns.kdeplot(\n",
    "    data=relationships,\n",
    "    x='average_segment_size',\n",
    "    y='meiotic_distance',\n",
    "    cmap='viridis',\n",
    "    fill=True\n",
    ")\n",
    "\n",
    "plt.xlabel('Average Segment Size')\n",
    "plt.ylabel('Genealogical Distance (generations)')\n",
    "plt.title('KDE Plot: Average Segment Size vs Genealogical Distance')\n",
    "plt.show()"
   ]
  },
  {
   "cell_type": "markdown",
   "metadata": {},
   "source": [
    "You should notice that overall, the methods we have used in our exploration is not a predictor of genetic genealogical relationships beyond 1 or 2 generations. For that, we turn to machine learning."
   ]
  }
 ],
 "metadata": {
  "kernelspec": {
   "display_name": ".venv",
   "language": "python",
   "name": "python3"
  },
  "language_info": {
   "codemirror_mode": {
    "name": "ipython",
    "version": 3
   },
   "file_extension": ".py",
   "mimetype": "text/x-python",
   "name": "python",
   "nbconvert_exporter": "python",
   "pygments_lexer": "ipython3",
   "version": "3.12.3"
  }
 },
 "nbformat": 4,
 "nbformat_minor": 2
}
