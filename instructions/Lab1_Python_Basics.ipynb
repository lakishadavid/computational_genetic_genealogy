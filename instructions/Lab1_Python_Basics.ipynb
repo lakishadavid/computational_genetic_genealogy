{
  "cells": [
    {
      "cell_type": "markdown",
      "id": "6868a92d-3e22-4dce-8de1-aa81b103b30e",
      "metadata": {
        "id": "6868a92d-3e22-4dce-8de1-aa81b103b30e",
        "noteable": {
          "cell_type": "markdown"
        }
      },
      "source": [
        "# Python Basics in Computational Genomics\n",
        "\n",
        "Computational genomics, also known as bioinformatics, involves the use of computational and statistical techniques to decipher biological processes. Python, with its rich ecosystem of libraries and tools, is a popular language for bioinformatics.\n",
        "\n",
        "In this notebook, we will cover some basic Python concepts and apply them to simple computational genomics tasks."
      ]
    },
    {
      "cell_type": "markdown",
      "id": "tyrnlNJ2hiso",
      "metadata": {
        "id": "tyrnlNJ2hiso"
      },
      "source": [
        "# Environment Setup"
      ]
    },
    {
      "cell_type": "code",
      "execution_count": null,
      "id": "e6dea48d",
      "metadata": {},
      "outputs": [],
      "source": [
        "import os\n",
        "from collections import Counter\n",
        "import logging\n",
        "import sys\n",
        "from pathlib import Path\n",
        "from dotenv import load_dotenv"
      ]
    },
    {
      "cell_type": "code",
      "execution_count": null,
      "id": "YZmLfSJqg2uR",
      "metadata": {
        "id": "YZmLfSJqg2uR"
      },
      "outputs": [],
      "source": [
        "def find_comp_gen_dir():\n",
        "    \"\"\"Find the computational_genetic_genealogy directory by searching up from current directory.\"\"\"\n",
        "    current = Path.cwd()\n",
        "    \n",
        "    # Search up through parent directories\n",
        "    while current != current.parent:\n",
        "        # Check if target directory exists in current path\n",
        "        target = current / 'computational_genetic_genealogy'\n",
        "        if target.is_dir():\n",
        "            return target\n",
        "        # Move up one directory\n",
        "        current = current.parent\n",
        "    \n",
        "    raise FileNotFoundError(\"Could not find computational_genetic_genealogy directory\")\n",
        "\n",
        "def load_env_file():\n",
        "    \"\"\"Find and load the .env file from the computational_genetic_genealogy directory.\"\"\"\n",
        "    try:\n",
        "        # Find the computational_genetic_genealogy directory\n",
        "        comp_gen_dir = find_comp_gen_dir()\n",
        "        \n",
        "        # Look for .env file\n",
        "        env_path = comp_gen_dir / '.env'\n",
        "        if not env_path.exists():\n",
        "            print(f\"Warning: No .env file found in {comp_gen_dir}\")\n",
        "            return None\n",
        "        \n",
        "        # Load the .env file\n",
        "        load_dotenv(env_path, override=True)\n",
        "        print(f\"Loaded environment variables from: {env_path}\")\n",
        "        return env_path\n",
        "        \n",
        "    except FileNotFoundError as e:\n",
        "        print(f\"Error: {e}\")\n",
        "        return None\n",
        "\n",
        "# Use the function\n",
        "env_path = load_env_file()"
      ]
    },
    {
      "cell_type": "code",
      "execution_count": null,
      "id": "nduw3nmhg5kV",
      "metadata": {
        "colab": {
          "base_uri": "https://localhost:8080/",
          "height": 35
        },
        "id": "nduw3nmhg5kV",
        "outputId": "f7fa89ca-d6ae-4173-a93a-a1a7a125ff65"
      },
      "outputs": [],
      "source": [
        "working_directory = os.getenv('PROJECT_WORKING_DIR', default=None)\n",
        "data_directory = os.getenv('PROJECT_DATA_DIR', default=None)\n",
        "references_directory = os.getenv('PROJECT_REFERENCES_DIR', default=None)\n",
        "results_directory = os.getenv('PROJECT_RESULTS_DIR', default=None)\n",
        "utils_directory = os.getenv('PROJECT_UTILS_DIR', default=None)\n",
        "\n",
        "print(f\"Working Directory: {working_directory}\")\n",
        "print(f\"Data Directory: {data_directory}\")\n",
        "print(f\"References Directory: {references_directory}\")\n",
        "print(f\"Results Directory: {results_directory}\")\n",
        "print(f\"Utils Directory: {utils_directory}\")"
      ]
    },
    {
      "cell_type": "markdown",
      "id": "Ofn6aPdmhc4X",
      "metadata": {
        "id": "Ofn6aPdmhc4X"
      },
      "source": [
        "# Practice"
      ]
    },
    {
      "cell_type": "markdown",
      "id": "4a75eabf-d5b4-4e16-87d9-fb564e3a6235",
      "metadata": {
        "id": "4a75eabf-d5b4-4e16-87d9-fb564e3a6235",
        "noteable": {
          "cell_type": "markdown"
        }
      },
      "source": [
        "## Built-in Python Methods\n",
        "\n",
        "Python comes with a rich set of built-in functions and methods that are always available for use. These functions provide essential functionality and are an integral part of the Python language. They are designed to simplify common tasks, making it easier for developers to write code without having to reinvent the wheel.\n",
        "\n",
        "### The `print()` Function\n",
        "\n",
        "One of the most commonly used built-in functions in Python is the `print()` function. It is used to display information to the console. The `print()` function can take multiple arguments, and these arguments can be of various data types, including strings, numbers, and other objects.\n",
        "\n",
        "The `print()` function also supports various formatting options, allowing developers to display structured data in a more readable manner. For example, using f-strings (formatted string literals) in Python 3.6 and above, developers can embed expressions inside string literals.\n",
        "\n",
        "Beyond its basic usage, the `print()` function serves two critical roles in programming:\n",
        "\n",
        "1. **Monitoring Progress:** Especially in long-running scripts or loops, using `print()` statements can provide feedback about the progress of the code. This can be invaluable in ensuring that a script is running as expected.\n",
        "\n",
        "2. **Troubleshooting and Debugging:** When encountering unexpected behavior or errors, `print()` can be used to display variable values, flow control checkpoints, or other relevant information to help identify the source of the issue.\n",
        "\n",
        "Let's see some examples of how to use the `print()` function in different scenarios."
      ]
    },
    {
      "cell_type": "markdown",
      "id": "cfe25cc6-6f09-488b-b882-42d551117815",
      "metadata": {
        "id": "cfe25cc6-6f09-488b-b882-42d551117815",
        "noteable": {
          "cell_type": "markdown"
        }
      },
      "source": [
        "## Comments in Python\n",
        "\n",
        "Comments are an essential tool for developers to annotate and explain their code. They provide context and make the code more readable for others (or even for the same developer revisiting the code later). In Python, comments are not executed by the interpreter, so they don't affect the program's output.\n",
        "\n",
        "There are two primary types of comments in Python:\n",
        "\n",
        "1. **Single-line comments:** These are used for brief annotations and are prefixed with the `#` symbol. Everything after the `#` on that line is considered a comment.\n",
        "\n",
        "2. **Multi-line comments:** Python does not have a specific syntax for multi-line comments. However, developers often use triple quotes (`'''` or `\"\"\"`) to write comments that span multiple lines. While this is technically a multi-line string, it acts as a comment when not assigned to a variable or used in an expression.\n",
        "\n",
        "Let's see some examples of how to use single-line and multi-line comments in Python."
      ]
    },
    {
      "cell_type": "code",
      "execution_count": null,
      "id": "aa4d267c-59c7-4104-88c8-a0efbc048c5b",
      "metadata": {
        "ExecuteTime": {
          "end_time": "2023-09-23T13:27:30.796249+00:00",
          "start_time": "2023-09-23T13:27:30.641213+00:00"
        },
        "id": "aa4d267c-59c7-4104-88c8-a0efbc048c5b",
        "noteable": {
          "cell_type": "code",
          "output_collection_id": "2bb8b2c6-bc1b-484e-ad9e-8d65c4d54421"
        }
      },
      "outputs": [],
      "source": [
        "print('Hello, World!')"
      ]
    },
    {
      "cell_type": "code",
      "execution_count": null,
      "id": "d08ffbf2-8533-40d5-bce7-4b05aff5ef27",
      "metadata": {
        "ExecuteTime": {
          "end_time": "2023-09-23T13:27:33.591599+00:00",
          "start_time": "2023-09-23T13:27:33.436602+00:00"
        },
        "id": "d08ffbf2-8533-40d5-bce7-4b05aff5ef27",
        "noteable": {
          "cell_type": "code",
          "output_collection_id": "2e38e8e3-4977-4d7e-ac9d-6001b69dd054"
        }
      },
      "outputs": [],
      "source": [
        "# This is a single-line comment\n",
        "print('Notice that the commented line in the cell did not execute.')"
      ]
    },
    {
      "cell_type": "code",
      "execution_count": null,
      "id": "74aaf9bc-0fe4-41c0-957c-3a80fcf21d33",
      "metadata": {
        "ExecuteTime": {
          "end_time": "2023-09-23T13:27:40.313261+00:00",
          "start_time": "2023-09-23T13:27:40.158761+00:00"
        },
        "id": "74aaf9bc-0fe4-41c0-957c-3a80fcf21d33",
        "noteable": {
          "cell_type": "code",
          "output_collection_id": "ef62f860-4174-42c6-872d-5c0dd1934156"
        }
      },
      "outputs": [],
      "source": [
        "'''\n",
        "This is a multi-line comment.\n",
        "It spans multiple lines.\n",
        "'''\n",
        "print('Again, notice that the commented lines in the cell did not execute.')"
      ]
    },
    {
      "cell_type": "code",
      "execution_count": null,
      "id": "26a9ae23-48a0-415e-b673-b73ff7b8dc3f",
      "metadata": {
        "ExecuteTime": {
          "end_time": "2023-09-23T13:27:44.094127+00:00",
          "start_time": "2023-09-23T13:27:43.939778+00:00"
        },
        "id": "26a9ae23-48a0-415e-b673-b73ff7b8dc3f",
        "noteable": {
          "cell_type": "code",
          "output_collection_id": "4a38e2c3-5d2c-433d-ad83-4aab0af0b074"
        }
      },
      "outputs": [],
      "source": [
        "# Example 2: Using print() with a different message\n",
        "print(\"Welcome to Computational Genomics with Python.\")"
      ]
    },
    {
      "cell_type": "markdown",
      "id": "6f3f4382-75fa-4f11-a372-58364b989263",
      "metadata": {
        "id": "6f3f4382-75fa-4f11-a372-58364b989263",
        "noteable": {
          "cell_type": "markdown"
        }
      },
      "source": [
        "## Using Single and Double Quotes in Python Strings\n",
        "\n",
        "In Python, strings can be defined using either single (`'`) or double (`\"`) quotes. Both are valid, and the choice often comes down to personal preference or specific use cases. However, there are scenarios where one might be more advantageous than the other.\n",
        "\n",
        "For instance, if you observe the examples in the cells [here](https://app.noteable.io/f/e8355dd0-a538-4b09-8652-a306d3432437/Python_Basics_Computational_Genomics.ipynb?cellID=aa4d267c-59c7-4104-88c8-a0efbc048c5b) and [here](https://app.noteable.io/f/e8355dd0-a538-4b09-8652-a306d3432437/Python_Basics_Computational_Genomics.ipynb?cellID=26a9ae23-48a0-415e-b673-b73ff7b8dc3f), you'll notice that the first example uses single quotes, while the second uses double quotes.\n",
        "\n",
        "### Why choose one over the other?\n",
        "\n",
        "1. **Presence of Quotes Inside the String:** If your string contains a single quote (e.g., `I'm learning Python`), it's easier to wrap the string in double quotes to avoid having to escape the single quote. Conversely, if your string contains double quotes (e.g., `He said, \"Python is amazing!\"`), you can use single quotes.\n",
        "\n",
        "2. **Consistency:** Some developers prefer to stick to one type of quote throughout their code for consistency. This is purely a stylistic choice.\n",
        "\n",
        "3. **Escape Sequences:** If you need to include both single and double quotes in your string, you can use escape sequences (`\\'` or `\\\"`).\n",
        "\n",
        "In the following cells, we'll see examples of using both single and double quotes in the `print()` command."
      ]
    },
    {
      "cell_type": "code",
      "execution_count": null,
      "id": "a90b1e66-242f-481e-b8a7-3b84ae66e43c",
      "metadata": {
        "ExecuteTime": {
          "end_time": "2023-09-23T13:27:58.449855+00:00",
          "start_time": "2023-09-23T13:27:58.295318+00:00"
        },
        "id": "a90b1e66-242f-481e-b8a7-3b84ae66e43c",
        "noteable": {
          "cell_type": "python",
          "output_collection_id": "b386ee4a-763d-4a85-8f37-3fe16a16c957"
        }
      },
      "outputs": [],
      "source": [
        "# Example using single quotes for the string\n",
        "print('This is a string using single quotes.')"
      ]
    },
    {
      "cell_type": "code",
      "execution_count": null,
      "id": "e4ccf574-0bde-4bee-bd2d-a3373217ea23",
      "metadata": {
        "ExecuteTime": {
          "end_time": "2023-09-23T13:28:00.662960+00:00",
          "start_time": "2023-09-23T13:28:00.508791+00:00"
        },
        "id": "e4ccf574-0bde-4bee-bd2d-a3373217ea23",
        "jupyter": {
          "outputs_hidden": false,
          "source_hidden": false
        },
        "noteable": {
          "cell_type": "code",
          "output_collection_id": "3cee30e3-ca04-4140-8f86-62ad6ce16a12"
        }
      },
      "outputs": [],
      "source": [
        "# Example using double quotes for the string\n",
        "print(\"This is a string using double quotes.\")"
      ]
    },
    {
      "cell_type": "code",
      "execution_count": null,
      "id": "bf2de921-e753-4b7d-bec2-1fccab3708bf",
      "metadata": {
        "ExecuteTime": {
          "end_time": "2023-09-23T13:28:03.675154+00:00",
          "start_time": "2023-09-23T13:28:03.520199+00:00"
        },
        "id": "bf2de921-e753-4b7d-bec2-1fccab3708bf",
        "jupyter": {
          "outputs_hidden": false,
          "source_hidden": false
        },
        "noteable": {
          "cell_type": "code",
          "output_collection_id": "750395d9-4f91-4e2c-a57d-0c9088c8eb6e"
        }
      },
      "outputs": [],
      "source": [
        "# Example using both single and double quotes in the string\n",
        "print('He said, \"Python is amazing!\"')"
      ]
    },
    {
      "cell_type": "code",
      "execution_count": null,
      "id": "ba0747b2-c2c0-4d63-874d-32716cdebb40",
      "metadata": {
        "ExecuteTime": {
          "end_time": "2023-09-23T13:28:38.190898+00:00",
          "start_time": "2023-09-23T13:28:38.035553+00:00"
        },
        "id": "ba0747b2-c2c0-4d63-874d-32716cdebb40",
        "jupyter": {
          "outputs_hidden": false,
          "source_hidden": false
        },
        "noteable": {
          "cell_type": "code",
          "output_collection_id": "f5f10528-62dd-4730-bebf-9def0645f9b4"
        }
      },
      "outputs": [],
      "source": [
        "# Example using escape sequences to include both single and double quotes in the string\n",
        "print('They said, \"I\\'m learning Python.\"')"
      ]
    },
    {
      "cell_type": "markdown",
      "id": "32941ec0-36a9-47f2-93fe-017dc2160c73",
      "metadata": {
        "id": "32941ec0-36a9-47f2-93fe-017dc2160c73",
        "noteable": {
          "cell_type": "markdown"
        }
      },
      "source": [
        "## Variables and Data Types in Python\n",
        "\n",
        "In Python, a variable allows you to store a value by assigning it to a name, which can be used to refer to the value later in the program. The value stored in a variable can be of various types, such as numbers, strings, lists, and more. These types are known as data types.\n",
        "\n",
        "Understanding data types is crucial because Python treats data differently based on its type. For instance, the operations you can perform on a number (like addition or subtraction) are different from the operations you can perform on a string (like concatenation).\n",
        "\n",
        "In the context of genetic similarity, relatedness, and pedigrees, variables play a pivotal role in storing and manipulating genetic data. Let's explore some examples:\n",
        "\n",
        "1. **Genotype Data:** A genotype can be represented as a string, with alleles being represented by letters (e.g., 'AA', 'Aa').\n",
        "\n",
        "2. **DNA Sequence:** A DNA sequence can also be represented as a string, consisting of the nucleotide bases (e.g., 'ATCGATCGA').\n",
        "\n",
        "3. **Pedigree Information:** Pedigree data can be stored in more complex data structures, like dictionaries or lists, where each entry represents an individual and their relationships to other individuals.\n",
        "\n",
        "Let's see some examples of variables in the context of genetics:"
      ]
    },
    {
      "cell_type": "code",
      "execution_count": null,
      "id": "31d6afdc-0715-4ca5-96b3-218ccafa08e3",
      "metadata": {
        "ExecuteTime": {
          "end_time": "2023-09-23T13:28:54.528556+00:00",
          "start_time": "2023-09-23T13:28:54.373426+00:00"
        },
        "id": "31d6afdc-0715-4ca5-96b3-218ccafa08e3",
        "noteable": {
          "cell_type": "python",
          "output_collection_id": "462413ab-8c15-4324-a31e-612b47ed7aaf"
        }
      },
      "outputs": [],
      "source": [
        "# Example of using variables with genotype data\n",
        "individual_1_genotype = 'AA'\n",
        "individual_2_genotype = 'Aa'\n",
        "individual_3_genotype = 'aa'\n",
        "\n",
        "print(individual_1_genotype)\n",
        "print(individual_2_genotype)\n",
        "print(individual_3_genotype)"
      ]
    },
    {
      "cell_type": "code",
      "execution_count": null,
      "id": "9b96e934-ea58-46c9-9f71-08d576a901c4",
      "metadata": {
        "ExecuteTime": {
          "end_time": "2023-09-23T13:29:37.784292+00:00",
          "start_time": "2023-09-23T13:29:37.629288+00:00"
        },
        "id": "9b96e934-ea58-46c9-9f71-08d576a901c4",
        "noteable": {
          "cell_type": "code",
          "output_collection_id": "75185788-0160-4147-90ea-c6f250ab5550"
        }
      },
      "outputs": [],
      "source": [
        "# Defining a DNA sequence\n",
        "dna_sequence = 'ATGCGTAACGTCGTA'\n",
        "print(dna_sequence)"
      ]
    },
    {
      "cell_type": "code",
      "execution_count": null,
      "id": "571d519e-01de-4104-b67a-c1aae9a2e59e",
      "metadata": {
        "ExecuteTime": {
          "end_time": "2023-09-23T13:29:41.297936+00:00",
          "start_time": "2023-09-23T13:29:41.142836+00:00"
        },
        "id": "571d519e-01de-4104-b67a-c1aae9a2e59e",
        "jupyter": {
          "outputs_hidden": false,
          "source_hidden": false
        },
        "noteable": {
          "cell_type": "code",
          "output_collection_id": "7ab8f508-c218-490b-8ee9-edefe46d318a"
        }
      },
      "outputs": [],
      "source": [
        "# Example of a list\n",
        "genotypes_list = ['AA', 'Aa', 'aa', 'Aa', 'AA']\n",
        "\n",
        "print(genotypes_list)"
      ]
    },
    {
      "cell_type": "code",
      "execution_count": null,
      "id": "9ab73c22-592f-45c3-b260-93fbe5e23ad9",
      "metadata": {
        "ExecuteTime": {
          "end_time": "2023-09-23T13:30:08.674736+00:00",
          "start_time": "2023-09-23T13:30:08.520013+00:00"
        },
        "id": "9ab73c22-592f-45c3-b260-93fbe5e23ad9",
        "jupyter": {
          "outputs_hidden": false,
          "source_hidden": false
        },
        "noteable": {
          "cell_type": "code",
          "output_collection_id": "98721365-d67c-43d0-b2ec-7df1fa46c053"
        }
      },
      "outputs": [],
      "source": [
        "# Example of a dictiionary\n",
        "family_genotypes = {\n",
        "    'Father': 'AA',\n",
        "    'Mother': 'Aa',\n",
        "    'Child1': 'Aa',\n",
        "    'Child2': 'AA'\n",
        "}\n",
        "\n",
        "print(family_genotypes)"
      ]
    },
    {
      "cell_type": "markdown",
      "id": "21b6d4e2-d509-4b03-8e46-c54c77cdf969",
      "metadata": {
        "id": "21b6d4e2-d509-4b03-8e46-c54c77cdf969",
        "noteable": {
          "cell_type": "markdown"
        }
      },
      "source": [
        "# Explanation of f-strings\n",
        "In Python, f-strings, also known as formatted string literals, are a way to embed expressions inside string literals. They are prefixed with an 'f' character and use curly braces {} to enclose the expressions. The expressions inside the curly braces are evaluated at runtime and then formatted using the specified format string.\n",
        "\n",
        "In bioinformatics, f-strings are particularly useful because they allow for dynamic generation of strings based on variable values. This is especially handy when generating output messages, file names, or any other string that needs to incorporate variable data. For example, when analyzing genetic data, one might want to generate a message that includes the specific genotype of an individual. Using f-strings makes this process concise and readable."
      ]
    },
    {
      "cell_type": "markdown",
      "id": "68aae16a-fc32-4058-a1cc-b642fc53e819",
      "metadata": {
        "id": "68aae16a-fc32-4058-a1cc-b642fc53e819",
        "noteable": {
          "cell_type": "markdown"
        }
      },
      "source": [
        "In the following examples, we will call the same variables that we assigned earlier to demonstrate the use of f-strings. F-strings provide a concise way to embed expressions inside string literals, using `{}`. This is particularly useful in bioinformatics when we want to dynamically display data within strings."
      ]
    },
    {
      "cell_type": "code",
      "execution_count": null,
      "id": "d18fc8ee-70cf-42d9-85c5-794719714f64",
      "metadata": {
        "ExecuteTime": {
          "end_time": "2023-09-23T13:31:01.368370+00:00",
          "start_time": "2023-09-23T13:31:01.213994+00:00"
        },
        "id": "d18fc8ee-70cf-42d9-85c5-794719714f64",
        "noteable": {
          "cell_type": "python",
          "output_collection_id": "1bc0574f-60e8-46fd-81bd-5814016e43f8"
        }
      },
      "outputs": [],
      "source": [
        "print(f'Genotype of Individual 1: {individual_1_genotype}')\n",
        "print(f'Genotype of Individual 2: {individual_2_genotype}')\n",
        "print(f'Genotype of Individual 3: {individual_3_genotype}')"
      ]
    },
    {
      "cell_type": "code",
      "execution_count": null,
      "id": "b6dfabbe-206f-46e2-84bf-da6c8cbc9c36",
      "metadata": {
        "ExecuteTime": {
          "end_time": "2023-09-23T13:31:02.935168+00:00",
          "start_time": "2023-09-23T13:31:02.780933+00:00"
        },
        "id": "b6dfabbe-206f-46e2-84bf-da6c8cbc9c36",
        "jupyter": {
          "outputs_hidden": false,
          "source_hidden": false
        },
        "noteable": {
          "cell_type": "code",
          "output_collection_id": "3db237e4-7bd0-4523-b2f7-b3bf2d72c3f7"
        }
      },
      "outputs": [],
      "source": [
        "dna_sequence = 'ATGCGTA'\n",
        "print(f'The DNA sequence is: {dna_sequence}')"
      ]
    },
    {
      "cell_type": "code",
      "execution_count": null,
      "id": "5df7fed1-201e-45be-bf16-aa99f24cc8f0",
      "metadata": {
        "ExecuteTime": {
          "end_time": "2023-09-23T13:31:05.358815+00:00",
          "start_time": "2023-09-23T13:31:05.203973+00:00"
        },
        "id": "5df7fed1-201e-45be-bf16-aa99f24cc8f0",
        "jupyter": {
          "outputs_hidden": false,
          "source_hidden": false
        },
        "noteable": {
          "cell_type": "code",
          "output_collection_id": "b3e66bc0-42d7-44de-b2e4-2d0012859ec0"
        }
      },
      "outputs": [],
      "source": [
        "print(f'The list of genotypes is: {genotypes_list}')"
      ]
    },
    {
      "cell_type": "code",
      "execution_count": null,
      "id": "9776fc1d-a53d-448d-86ce-5374327054c2",
      "metadata": {
        "ExecuteTime": {
          "end_time": "2023-09-23T13:31:10.071065+00:00",
          "start_time": "2023-09-23T13:31:09.916413+00:00"
        },
        "id": "9776fc1d-a53d-448d-86ce-5374327054c2",
        "jupyter": {
          "outputs_hidden": false,
          "source_hidden": false
        },
        "noteable": {
          "cell_type": "code",
          "output_collection_id": "94d53261-859a-43f3-b9e0-87addf83c243"
        }
      },
      "outputs": [],
      "source": [
        "print(f'Family Genotypes: {family_genotypes}')"
      ]
    },
    {
      "cell_type": "markdown",
      "id": "c15593dc-e5ef-4248-a0e8-e854a5538b35",
      "metadata": {
        "id": "c15593dc-e5ef-4248-a0e8-e854a5538b35",
        "noteable": {
          "cell_type": "markdown"
        }
      },
      "source": [
        "## Operations on Variables and Importance of Data Types\n",
        "\n",
        "Variables in Python are not just placeholders for data; we can also perform operations on them. The type of operations we can perform depends on the data type of the variable. For instance, we can add two numbers, concatenate two strings, or even combine lists. However, trying to perform an inappropriate operation for a given data type will result in an error. This is why understanding data types is crucial. In the context of computational genomics, we often deal with large datasets, and using variables efficiently can help streamline our analyses."
      ]
    },
    {
      "cell_type": "code",
      "execution_count": null,
      "id": "6b677344-2089-406a-9cab-6593ba795014",
      "metadata": {
        "ExecuteTime": {
          "end_time": "2023-09-23T13:34:17.498379+00:00",
          "start_time": "2023-09-23T13:34:17.343500+00:00"
        },
        "id": "6b677344-2089-406a-9cab-6593ba795014",
        "noteable": {
          "cell_type": "python",
          "output_collection_id": "ea897c1b-a97c-43cb-a261-33bf12d3e0a1"
        }
      },
      "outputs": [],
      "source": [
        "# Get the datatype by using the type() method\n",
        "print(f'Data type of sequence: {type(dna_sequence)}')\n",
        "print(f'Data type of genotypes_list: {type(genotypes_list)}')"
      ]
    },
    {
      "cell_type": "code",
      "execution_count": null,
      "id": "99b939bd-dc3c-433a-92f5-cbdaf6d56117",
      "metadata": {
        "ExecuteTime": null,
        "id": "99b939bd-dc3c-433a-92f5-cbdaf6d56117",
        "jupyter": {
          "outputs_hidden": false,
          "source_hidden": false
        },
        "noteable": {
          "cell_type": "code",
          "output_collection_id": "cafdaf02-7159-4a13-ba52-bbe2183ef4ec"
        }
      },
      "outputs": [],
      "source": [
        "# The len() method gets the length of the variable value.\n",
        "print(f'The DNA sequence: {dna_sequence}')\n",
        "print(f'Length of dna_sequence: {len(dna_sequence)}')\n",
        "print(f\"Notice that there are {len(dna_sequence)} characters (in this case, nucleotides) in the DNA sequence.\")\n",
        "print('\\n')\n",
        "print(f'The gentype list: {genotypes_list}')\n",
        "print(f'Length of genotypes_list: {len(genotypes_list)}')\n",
        "print(f\"Notice that there are {len(genotypes_list)} elements (in this case, genotypes) in the list.\")"
      ]
    },
    {
      "cell_type": "markdown",
      "id": "b63278fb-acab-436a-9072-0be2eade0302",
      "metadata": {
        "id": "b63278fb-acab-436a-9072-0be2eade0302",
        "noteable": {
          "cell_type": "markdown"
        }
      },
      "source": [
        "## Accessing Elements in a List\n",
        "\n",
        "In Python, you can access individual elements in a list using their index.\n",
        "\n",
        "**Python Counting Starts at 0**\n",
        "\n",
        "In many programming languages, including Python, counting starts at 0 rather than 1. This concept is fundamental and crucial to understand, especially when working with data structures like lists, arrays, and strings.\n",
        "\n",
        "For example, consider a list `['A', 'C', 'G', 'T']`:\n",
        "- The first element, 'A', is at position 0.\n",
        "- The second element, 'C', is at position 1.\n",
        "- The third element, 'G', is at position 2.\n",
        "- The fourth element, 'T', is at position 3.\n",
        "\n",
        "It's essential to keep this in mind when accessing elements in a list or when using loops and other programming constructs that rely on indexing.\n",
        "\n",
        "**Using Brackets to Access Elements**\n",
        "\n",
        "In Python, the square brackets `[]` are used to access the elements in a list. The index of the element you want to access is placed inside the brackets.\n",
        "\n",
        "```python\n",
        "my_list = ['A', 'C', 'G', 'T']\n",
        "# Accessing the first element (index 0)\n",
        "print(my_list[0])  # Output: 'A'\n",
        "```\n",
        "\n",
        "The brackets signify that you are trying to index into the list, and the number inside the brackets specifies which element you want to retrieve."
      ]
    },
    {
      "cell_type": "code",
      "execution_count": null,
      "id": "10687a2f-c506-4967-8e80-9bd86771496a",
      "metadata": {
        "ExecuteTime": null,
        "id": "10687a2f-c506-4967-8e80-9bd86771496a",
        "jupyter": {
          "outputs_hidden": false,
          "source_hidden": false
        },
        "noteable": {
          "cell_type": "code",
          "output_collection_id": "297f25f5-60a6-4b74-bf32-fd53b3fdb2db"
        }
      },
      "outputs": [],
      "source": [
        "# Accessing Various Positions in Lists\n",
        "print(f'Full dna_sequence: {dna_sequence}')\n",
        "print(f'First nucleotide in dna_sequence dna_sequence[0]: {dna_sequence[0]}')\n",
        "print(f'Second nucleotide in dna_sequence dna_sequence[1]: {dna_sequence[1]}')\n",
        "print(f'Third nucleotide in dna_sequence dna_sequence[2]: {dna_sequence[2]}')\n",
        "print(f'Last nucleotide in dna_sequence dna_sequence[-1]: {dna_sequence[-1]}')\n",
        "\n",
        "print('\\n')\n",
        "\n",
        "print(f'Full genotypes_list: {genotypes_list}')\n",
        "print(f'First genotype in genotypes_list genotypes_list[0]: {genotypes_list[0]}')\n",
        "print(f'Second genotype in genotypes_list genotypes_list[1]: {genotypes_list[1]}')\n",
        "print(f'Third genotype in genotypes_list genotypes_list[2]: {genotypes_list[2]}')\n",
        "print(f'Last genotype in genotypes_list genotypes_list[-1]: {genotypes_list[-1]}')\n",
        "\n",
        "print('\\n')\n",
        "\n",
        "print(f'Full individual_2_genotype: {individual_2_genotype}')\n",
        "print(f'First nucleotide in individual_2_genotype individual_2_genotype[0]: {individual_2_genotype[0]}')\n",
        "print(f'Second nucleotide in individual_2_genotype individual_2_genotype[1]: {individual_2_genotype[1]}')\n",
        "print(f'Last genotype in genotypes_list genotypes_list[-1]: {individual_2_genotype[-1]}')"
      ]
    },
    {
      "cell_type": "markdown",
      "id": "8d66d1fe-25e9-4df7-9707-97fed7d4fe1a",
      "metadata": {
        "id": "8d66d1fe-25e9-4df7-9707-97fed7d4fe1a",
        "noteable": {
          "cell_type": "markdown"
        }
      },
      "source": [
        "## Understanding Data Length and Subsetting\n",
        "Earlier, we determined the length of our data structures. The length of a data structure, whether it's a string like `dna_sequence` or a list like `genotypes_list`, gives us an idea of how many elements or characters it contains. This is especially useful in bioinformatics when dealing with long DNA sequences or large datasets.\n",
        "\n",
        "Subsetting, also known as slicing or splitting, allows us to extract specific portions of our data. For instance, if we wanted to analyze only a segment of a DNA sequence or a subset of genotypes from a larger list, subsetting would be the method of choice. This is a fundamental operation in Python and is crucial for data manipulation in bioinformatics."
      ]
    },
    {
      "cell_type": "code",
      "execution_count": null,
      "id": "73187950-4cb9-47aa-9b19-51f79dfb2f00",
      "metadata": {
        "ExecuteTime": null,
        "id": "73187950-4cb9-47aa-9b19-51f79dfb2f00",
        "noteable": {
          "cell_type": "python",
          "output_collection_id": "d4c5b004-ab44-419a-a174-e6bbe62803fe"
        }
      },
      "outputs": [],
      "source": [
        "# Subsetting dna_sequence\n",
        "# To get a subset of a list, you can use slicing. The syntax is list[start:stop].\n",
        "# This will return a new list containing elements from index 'start' to 'stop-1'.\n",
        "subset_dna_sequence = dna_sequence[0:3]\n",
        "print(f'Subset of first 3 nucleotides in dna_sequence: {subset_dna_sequence}')\n",
        "\n",
        "# You can also omit the start or stop index to slice from the beginning or to the end.\n",
        "subset_dna_sequence = dna_sequence[:3]\n",
        "print(f'Subset of first 3 nucleotides in dna_sequence using omitted start index: {subset_dna_sequence}')\n",
        "\n",
        "subset_dna_sequence = dna_sequence[3:]\n",
        "print(f'Subset of nucleotides from index 3 to end in dna_sequence: {subset_dna_sequence}')"
      ]
    },
    {
      "cell_type": "code",
      "execution_count": null,
      "id": "57594068-e599-483d-8a74-ed3f96ec7948",
      "metadata": {
        "ExecuteTime": null,
        "id": "57594068-e599-483d-8a74-ed3f96ec7948",
        "jupyter": {
          "outputs_hidden": false,
          "source_hidden": false
        },
        "noteable": {
          "cell_type": "code",
          "output_collection_id": "3b7c3de1-bf99-4266-a9f1-b5b6b0f8487d"
        }
      },
      "outputs": [],
      "source": [
        "# Subsetting genotypes_list\n",
        "# Similar to dna_sequence, you can subset genotypes_list using slicing.\n",
        "# Here, we get the first 3 genotypes from the list.\n",
        "subset_genotypes_list = genotypes_list[0:3]\n",
        "print(f'Subset of first 3 genotypes in genotypes_list: {subset_genotypes_list}')\n",
        "\n",
        "# You can also use negative indices to slice from the end of the list.\n",
        "# This will get the last 3 genotypes from the list.\n",
        "subset_genotypes_list = genotypes_list[-3:]\n",
        "print(f'Subset of last 3 genotypes in genotypes_list: {subset_genotypes_list}')\n",
        "\n",
        "# To get genotypes from index 2 to 4 (inclusive), you can use the following slice.\n",
        "subset_genotypes_list = genotypes_list[2:5]\n",
        "print(f'Subset of genotypes from index 2 to 4 in genotypes_list: {subset_genotypes_list}')"
      ]
    },
    {
      "cell_type": "code",
      "execution_count": null,
      "id": "1b98eff1-7bf0-4fb5-8811-d11d07ef1fc4",
      "metadata": {
        "ExecuteTime": null,
        "id": "1b98eff1-7bf0-4fb5-8811-d11d07ef1fc4",
        "jupyter": {
          "outputs_hidden": false,
          "source_hidden": false
        },
        "noteable": {
          "cell_type": "code",
          "output_collection_id": "a00073eb-0413-4cf5-a35c-7388a7277b8f"
        }
      },
      "outputs": [],
      "source": [
        "# Advanced Subsetting with Steps\n",
        "# You can also specify a step value to skip elements while slicing.\n",
        "# The syntax is list[start:stop:step].\n",
        "\n",
        "# Here, we get every 2nd nucleotide from the first 6 nucleotides in dna_sequence.\n",
        "subset_dna_sequence = dna_sequence[0:6:2]\n",
        "print(f'Subset of every 2nd nucleotide from the first 6 in dna_sequence: {subset_dna_sequence}')\n",
        "\n",
        "# Similarly, we can get every 2nd genotype from the first 6 in genotypes_list.\n",
        "subset_genotypes_list = genotypes_list[0:6:2]\n",
        "print(f'Subset of every 2nd genotype from the first 6 in genotypes_list: {subset_genotypes_list}')\n",
        "\n",
        "# You can also use negative step values to reverse the list.\n",
        "reversed_dna_sequence = dna_sequence[::-1]\n",
        "print(f'Reversed dna_sequence: {reversed_dna_sequence}')\n",
        "\n",
        "reversed_genotypes_list = genotypes_list[::-1]\n",
        "print(f'Reversed genotypes_list: {reversed_genotypes_list}')"
      ]
    },
    {
      "cell_type": "markdown",
      "id": "1702ce1e-f3d6-4e28-a1a0-44c0615e6414",
      "metadata": {
        "id": "1702ce1e-f3d6-4e28-a1a0-44c0615e6414",
        "noteable": {
          "cell_type": "markdown"
        }
      },
      "source": [
        "## Understanding the Dictionary Data Structure\n",
        "\n",
        "In Python, a dictionary is a mutable, unordered collection of key-value pairs. Each key must be unique, and it can be of any immutable type such as strings, numbers, or tuples. The values can be of any type, including other dictionaries or lists.\n",
        "\n",
        "Dictionaries are defined using curly braces `{}` with key-value pairs separated by colons `:`. Multiple key-value pairs are separated by commas `,`.\n",
        "\n",
        "Here's an example of a dictionary that stores genotypes for a family:"
      ]
    },
    {
      "cell_type": "code",
      "execution_count": null,
      "id": "51d47f6a-72a1-47db-87f2-2e46fd2e0d2f",
      "metadata": {
        "ExecuteTime": null,
        "id": "51d47f6a-72a1-47db-87f2-2e46fd2e0d2f",
        "noteable": {
          "cell_type": "python",
          "output_collection_id": "74ecfea2-3da4-451b-802e-aded80a722fc"
        }
      },
      "outputs": [],
      "source": [
        "family_genotypes = {\n",
        "    'Father': 'AA',\n",
        "    'Mother': 'Aa',\n",
        "    'Child1': 'Aa',\n",
        "    'Child2': 'AA'\n",
        "}\n",
        "print(family_genotypes)"
      ]
    },
    {
      "cell_type": "markdown",
      "id": "e4af2187-85b5-49ea-bfb1-d70f96b33df8",
      "metadata": {
        "id": "e4af2187-85b5-49ea-bfb1-d70f96b33df8",
        "noteable": {
          "cell_type": "markdown"
        }
      },
      "source": [
        "### Accessing Values\n",
        "You can access the value associated with a specific key using square brackets `[]`."
      ]
    },
    {
      "cell_type": "code",
      "execution_count": null,
      "id": "057d8320-c8cb-4cf9-b9a7-7affaec8036b",
      "metadata": {
        "ExecuteTime": null,
        "id": "057d8320-c8cb-4cf9-b9a7-7affaec8036b",
        "jupyter": {
          "outputs_hidden": false,
          "source_hidden": false
        },
        "noteable": {
          "cell_type": "code",
          "output_collection_id": "aa36526a-fead-4562-829a-a8e5dbae07b6"
        }
      },
      "outputs": [],
      "source": [
        "father_genotype = family_genotypes['Father']\n",
        "mother_genotype = family_genotypes['Mother']\n",
        "print(f\"Father's genotype: {father_genotype}\")\n",
        "print(f\"Mother's genotype: {mother_genotype}\")"
      ]
    },
    {
      "cell_type": "markdown",
      "id": "905c6aa4-e9e7-4b90-a467-b354b698adef",
      "metadata": {
        "id": "905c6aa4-e9e7-4b90-a467-b354b698adef",
        "noteable": {
          "cell_type": "markdown"
        }
      },
      "source": [
        "## Modifying a Dictionary\n",
        "Dictionaries are mutable, meaning you can change their elements. You can add new key-value pairs, modify existing ones, or delete key-value pairs."
      ]
    },
    {
      "cell_type": "code",
      "execution_count": null,
      "id": "9e957165-e518-4cb3-8894-cb7416924335",
      "metadata": {
        "ExecuteTime": null,
        "id": "9e957165-e518-4cb3-8894-cb7416924335",
        "jupyter": {
          "outputs_hidden": false,
          "source_hidden": false
        },
        "noteable": {
          "cell_type": "code",
          "output_collection_id": "32194e51-200b-4c7b-881e-a2b5edf09e75"
        }
      },
      "outputs": [],
      "source": [
        "family_genotypes['Father'] = 'Aa'\n",
        "father_genotype = family_genotypes['Father']\n",
        "print(f\"Father's genotype: {father_genotype}\")"
      ]
    },
    {
      "cell_type": "markdown",
      "id": "26da161d-3626-45df-9cb3-9f9c11de071f",
      "metadata": {
        "id": "26da161d-3626-45df-9cb3-9f9c11de071f",
        "noteable": {
          "cell_type": "markdown"
        }
      },
      "source": [
        "### Adding and Removing Elements\n",
        "You can add a new key-value pair by assigning a value to a new key. To remove a key-value pair, you can use the `del` keyword."
      ]
    },
    {
      "cell_type": "code",
      "execution_count": null,
      "id": "4a5a2754-05fc-4dd6-860b-53f5574d6921",
      "metadata": {
        "ExecuteTime": null,
        "id": "4a5a2754-05fc-4dd6-860b-53f5574d6921",
        "jupyter": {
          "outputs_hidden": false,
          "source_hidden": false
        },
        "noteable": {
          "cell_type": "code",
          "output_collection_id": "cbdc9dd8-4ef0-425d-9071-9a7c5ac0921c"
        }
      },
      "outputs": [],
      "source": [
        "print(\"family_genotypes dictionary\")\n",
        "print(family_genotypes)\n",
        "family_genotypes['Child3'] = 'aa'\n",
        "family_genotypes['Father'] = 'Aa'\n",
        "del family_genotypes['Child1']\n",
        "\n",
        "print('\\n')\n",
        "\n",
        "print(\"family_genotypes dictionary after changes\")\n",
        "print(family_genotypes)"
      ]
    },
    {
      "cell_type": "markdown",
      "id": "62c8142b-b025-4734-9bac-88013021ea27",
      "metadata": {
        "id": "62c8142b-b025-4734-9bac-88013021ea27",
        "noteable": {
          "cell_type": "markdown"
        }
      },
      "source": [
        "## Count Method and Variable.Method() Syntax\n",
        "In Python, objects like strings, lists, and dictionaries come with a set of built-in methods. These methods are functions that are associated with the object and can be called on it to perform specific operations.\n",
        "The syntax for calling a method on an object (or variable) is `variable.method()`. The `.` indicates that we are accessing a method (or attribute) of the object.\n",
        "One such method for strings is the `count()` method. It allows us to count the number of occurrences of a specific substring within the string.\n",
        "For example, if we want to count the number of occurrences of the letter 'A' in a DNA sequence, we can use the `count()` method on the DNA sequence string.\n",
        "Let's see it in action:"
      ]
    },
    {
      "cell_type": "code",
      "execution_count": null,
      "id": "aa62a6d2-fc6e-44b8-9251-d724e7413770",
      "metadata": {
        "ExecuteTime": null,
        "id": "aa62a6d2-fc6e-44b8-9251-d724e7413770",
        "noteable": {
          "cell_type": "python",
          "output_collection_id": "9a2ebf4c-3476-4c07-9e0c-f928627c29ee"
        }
      },
      "outputs": [],
      "source": [
        "# Counting nucleotides in the DNA sequence\n",
        "\n",
        "# Count the number of Adenine nucleotides\n",
        "adenine_count = dna_sequence.count('A')\n",
        "\n",
        "# Count the number of Cytosine nucleotides\n",
        "cytosine_count = dna_sequence.count('C')\n",
        "\n",
        "# Count the number of Guanine nucleotides\n",
        "guanine_count = dna_sequence.count('G')\n",
        "\n",
        "# Count the number of Thymine nucleotides\n",
        "thymine_count = dna_sequence.count('T')\n",
        "\n",
        "# Print the counts using f-strings\n",
        "print(f'Adenine (A) count: {adenine_count}')\n",
        "print(f'Cytosine (C) count: {cytosine_count}')\n",
        "print(f'Guanine (G) count: {guanine_count}')\n",
        "print(f'Thymine (T) count: {thymine_count}')"
      ]
    },
    {
      "cell_type": "markdown",
      "id": "516bdde9-87a1-4aa9-a08b-c8e39bea1a08",
      "metadata": {
        "id": "516bdde9-87a1-4aa9-a08b-c8e39bea1a08",
        "noteable": {
          "cell_type": "markdown"
        }
      },
      "source": [
        "# Using the count method on a list\n",
        "The `count` method can also be used on lists to determine the number of times a specific element appears in the list. The syntax is similar to that of strings:\n",
        "```python\n",
        "list_name.count(element)\n",
        "```\n",
        "Where `list_name` is the name of the list and `element` is the item you want to count in the list."
      ]
    },
    {
      "cell_type": "code",
      "execution_count": null,
      "id": "591d8ba7-b52f-41d0-ba15-1ca75f5aab53",
      "metadata": {
        "ExecuteTime": null,
        "id": "591d8ba7-b52f-41d0-ba15-1ca75f5aab53",
        "noteable": {
          "cell_type": "python",
          "output_collection_id": "c0916203-2eb0-4ff5-a991-11f669d5416c"
        }
      },
      "outputs": [],
      "source": [
        "# Counting the occurrences of each genotype\n",
        "homozygous_dominant_count = genotypes_list.count('AA')\n",
        "heterozygous_count = genotypes_list.count('Aa')\n",
        "homozygous_recessive_count = genotypes_list.count('aa')\n",
        "\n",
        "# Printing the counts\n",
        "print(f'genotypes_list: {genotypes_list}')\n",
        "print(f'Homozygous Dominant (AA) count: {homozygous_dominant_count}')\n",
        "print(f'Heterozygous (Aa) count: {heterozygous_count}')\n",
        "print(f'Homozygous Recessive (aa) count: {homozygous_recessive_count}')"
      ]
    },
    {
      "cell_type": "markdown",
      "id": "3dfed151-2c3e-4d75-8901-246a1833c9bf",
      "metadata": {
        "id": "3dfed151-2c3e-4d75-8901-246a1833c9bf",
        "noteable": {
          "cell_type": "markdown"
        }
      },
      "source": [
        "# Understanding Functions in Python\n",
        "\n",
        "In Python, a function is a reusable block of code that performs a specific task. Functions are essential for code reusability and organization.\n",
        "\n",
        "## Defining a Function\n",
        "You define a function using the `def` keyword, followed by the function name, parentheses `()`, and a colon `:`. The code block within the function is indented.\n",
        "\n",
        "```python\n",
        "def greet():\n",
        "    print('Hello, world!')\n",
        "```\n",
        "\n",
        "## Calling a Function\n",
        "To execute the code inside a function, you call the function by its name followed by parentheses.\n",
        "\n",
        "```python\n",
        "greet()  # Output: Hello, world!\n",
        "```\n",
        "\n",
        "## Function Parameters\n",
        "Functions can take parameters, which are variables that you pass into the function. You specify parameters inside the parentheses when defining the function.\n",
        "\n",
        "```python\n",
        "def greet(name):\n",
        "    print(f'Hello, {name}!')\n",
        "```\n",
        "\n",
        "## Function Return Values\n",
        "Functions can also return values using the `return` keyword. The function stops executing after the `return` statement.\n",
        "\n",
        "```python\n",
        "def add(a, b):\n",
        "    return a + b\n",
        "```\n",
        "\n",
        "## Function Scope\n",
        "Variables defined inside a function are local to that function and cannot be accessed outside the function. However, you can pass them as return values to access them outside the function.\n",
        "\n",
        "## Function Documentation\n",
        "You can add a documentation string (docstring) to a function using triple quotes `'''` to describe what the function does.\n",
        "\n",
        "```python\n",
        "def greet(name):\n",
        "    '''This function greets the person passed in as a parameter.'''\n",
        "    print(f'Hello, {name}!')\n",
        "```"
      ]
    },
    {
      "cell_type": "code",
      "execution_count": null,
      "id": "647e9a78-cf29-437b-b5ae-9e32ac285bfe",
      "metadata": {
        "ExecuteTime": null,
        "id": "647e9a78-cf29-437b-b5ae-9e32ac285bfe",
        "jupyter": {
          "outputs_hidden": false,
          "source_hidden": false
        },
        "noteable": {
          "cell_type": "code",
          "output_collection_id": "ba8bd49c-b08e-4628-a143-5e97b623187f"
        }
      },
      "outputs": [],
      "source": [
        "# Defining a simple function to greet\n",
        "def greet():\n",
        "    print('Hello, world!')\n",
        "\n",
        "# Calling the function\n",
        "greet()"
      ]
    },
    {
      "cell_type": "code",
      "execution_count": null,
      "id": "4c447134-4b3d-4f0f-b8ee-5ac777db47a7",
      "metadata": {
        "ExecuteTime": null,
        "id": "4c447134-4b3d-4f0f-b8ee-5ac777db47a7",
        "jupyter": {
          "outputs_hidden": false,
          "source_hidden": false
        },
        "noteable": {
          "cell_type": "code",
          "output_collection_id": "163d0f38-1276-4e3e-92c4-24d8c87052d1"
        }
      },
      "outputs": [],
      "source": [
        "# Function with a parameter\n",
        "def greet(name):\n",
        "    print(f'Hello, {name}!')\n",
        "\n",
        "# Calling the function with a parameter\n",
        "greet('Alice')"
      ]
    },
    {
      "cell_type": "markdown",
      "id": "a05a5c6e-f909-4bcd-9429-be304ebb25ff",
      "metadata": {
        "id": "a05a5c6e-f909-4bcd-9429-be304ebb25ff",
        "noteable": {
          "cell_type": "markdown"
        }
      },
      "source": [
        "Notice that you must first define the function and then call the function. In the above examples, we created function called great."
      ]
    },
    {
      "cell_type": "code",
      "execution_count": null,
      "id": "2de7a572-90c1-49ca-b8a3-b6229da45181",
      "metadata": {
        "ExecuteTime": null,
        "id": "2de7a572-90c1-49ca-b8a3-b6229da45181",
        "noteable": {
          "cell_type": "python",
          "output_collection_id": "39afe820-42fe-4cae-877e-28e88ea0307c"
        }
      },
      "outputs": [],
      "source": [
        "# Function with a return value\n",
        "def add(a, b):\n",
        "    return a + b\n",
        "\n",
        "# Calling the function and storing the return value\n",
        "result = add(5, 3)\n",
        "print(f'The sum is: {result}')"
      ]
    },
    {
      "cell_type": "code",
      "execution_count": null,
      "id": "b24540d0-c40c-4c79-83bd-a6c08018b347",
      "metadata": {
        "ExecuteTime": null,
        "id": "b24540d0-c40c-4c79-83bd-a6c08018b347",
        "noteable": {
          "cell_type": "code",
          "output_collection_id": "a1584261-107e-4d50-995c-a30a23403026"
        }
      },
      "outputs": [],
      "source": [
        "# More Code Examples to Explain Functions\n",
        "\n",
        "# Function with default parameters\n",
        "def greet(name='World'):\n",
        "    print(f'Hello, {name}!')\n",
        "\n",
        "# Calling the function with and without parameters\n",
        "greet()\n",
        "greet('Alice')\n",
        "\n",
        "# Function with multiple return values\n",
        "def coordinates():\n",
        "    return 40.7128, -74.0060\n",
        "\n",
        "# Unpacking multiple return values\n",
        "lat, lon = coordinates()\n",
        "print(f'Latitude: {lat}, Longitude: {lon}')"
      ]
    },
    {
      "cell_type": "code",
      "execution_count": null,
      "id": "bcdc8c0d-71b0-450d-ab70-dfeaef0a92f4",
      "metadata": {
        "ExecuteTime": null,
        "id": "bcdc8c0d-71b0-450d-ab70-dfeaef0a92f4",
        "noteable": {
          "cell_type": "code",
          "output_collection_id": "3b899410-a207-4a65-8617-959602beb037"
        }
      },
      "outputs": [],
      "source": [
        "# Function with variable number of arguments\n",
        "def sum_all(*args):\n",
        "    return sum(args)\n",
        "\n",
        "# Calling the function with different number of arguments\n",
        "print(sum_all(1, 2, 3))  # Output: 6\n",
        "print(sum_all(1, 2, 3, 4, 5))  # Output: 15\n",
        "\n",
        "# Function with keyword arguments\n",
        "def print_info(**kwargs):\n",
        "    for key, value in kwargs.items():\n",
        "        print(f'{key}: {value}')\n",
        "\n",
        "# Calling the function with keyword arguments\n",
        "print_info(name='Alice', age=30, email='alice@email.com')"
      ]
    },
    {
      "cell_type": "code",
      "execution_count": null,
      "id": "b5cf9fa5-9773-4cad-a038-423236371a56",
      "metadata": {
        "ExecuteTime": null,
        "id": "b5cf9fa5-9773-4cad-a038-423236371a56",
        "noteable": {
          "cell_type": "code",
          "output_collection_id": "34990e65-2110-45dd-bb8a-eabe9dcad27a"
        }
      },
      "outputs": [],
      "source": [
        "# Function with both positional and keyword arguments\n",
        "def display_info(name, age, **kwargs):\n",
        "    print(f'Name: {name}')\n",
        "    print(f'Age: {age}')\n",
        "    for key, value in kwargs.items():\n",
        "        print(f'{key}: {value}')\n",
        "\n",
        "# Calling the function with both positional and keyword arguments\n",
        "display_info('Bob', 40, email='bob@email.com', country='USA')"
      ]
    },
    {
      "cell_type": "markdown",
      "id": "4b635074-d50f-47c0-9b66-689c351225a6",
      "metadata": {
        "id": "4b635074-d50f-47c0-9b66-689c351225a6",
        "noteable": {
          "cell_type": "markdown"
        }
      },
      "source": [
        "# Understanding Classes in Python\n",
        "\n",
        "In Python, a class is a blueprint for creating objects. Classes encapsulate data and behavior that operate on the data. They are a fundamental concept in object-oriented programming (OOP).\n",
        "\n",
        "## Key Concepts\n",
        "- **Class Definition**: A class is defined using the `class` keyword.\n",
        "- **Object**: An instance of a class.\n",
        "- **Attributes**: Variables that belong to the class.\n",
        "- **Methods**: Functions that belong to the class.\n",
        "- **Constructor**: A special method called `__init__` used for initializing objects.\n",
        "- **Inheritance**: A way to form new classes using classes that have already been defined.\n",
        "- **Encapsulation**: Hiding the private details of a class from other objects.\n",
        "- **Polymorphism**: The ability of different objects to be treated as objects of a common superclass."
      ]
    },
    {
      "cell_type": "code",
      "execution_count": null,
      "id": "6a46696a-ba81-45ab-ac69-c0f9587d1fb5",
      "metadata": {
        "ExecuteTime": null,
        "id": "6a46696a-ba81-45ab-ac69-c0f9587d1fb5",
        "noteable": {
          "cell_type": "code",
          "output_collection_id": "f5b160c2-4328-4973-8948-137c04a6ca2d"
        }
      },
      "outputs": [],
      "source": [
        "# Defining a Simple Class for DNA Sequence\n",
        "class DNASequence:\n",
        "    def __init__(self, sequence):\n",
        "        self.sequence = sequence\n",
        "\n",
        "    def display_sequence(self):\n",
        "        print(f'DNA Sequence: {self.sequence}')\n",
        "\n",
        "# Creating an Object of the Class\n",
        "human_dna = DNASequence('ATCGGCTA')\n",
        "\n",
        "# Calling a Method of the Object\n",
        "human_dna.display_sequence()"
      ]
    },
    {
      "cell_type": "code",
      "execution_count": null,
      "id": "fc0f30ed-d885-46a2-bd45-0dd59b1a8ae9",
      "metadata": {
        "ExecuteTime": null,
        "id": "fc0f30ed-d885-46a2-bd45-0dd59b1a8ae9",
        "noteable": {
          "cell_type": "code",
          "output_collection_id": "7dc2f759-85b9-41f5-af5d-0b79b6aae15d"
        }
      },
      "outputs": [],
      "source": [
        "# Class with Constructor for DNA Sequence and Organism\n",
        "class DNASequence:\n",
        "    def __init__(self, sequence, organism):\n",
        "        self.sequence = sequence\n",
        "        self.organism = organism\n",
        "\n",
        "# Creating an Object with Constructor\n",
        "human_dna = DNASequence(sequence='ATCGGCTA', organism='Homo sapiens')\n",
        "\n",
        "# Accessing Object Attributes\n",
        "print(f'Sequence: {human_dna.sequence}, Organism: {human_dna.organism}')"
      ]
    },
    {
      "cell_type": "code",
      "execution_count": null,
      "id": "714141d8-79fb-42ae-ad08-c30a6a175407",
      "metadata": {
        "ExecuteTime": null,
        "id": "714141d8-79fb-42ae-ad08-c30a6a175407",
        "noteable": {
          "cell_type": "code",
          "output_collection_id": "dcad8505-c7d9-4822-b2f6-9cc07892eca5"
        }
      },
      "outputs": [],
      "source": [
        "# Class with Multiple Methods for DNA Analysis\n",
        "class DNASequence:\n",
        "    def __init__(self, sequence, organism):\n",
        "        self.sequence = sequence\n",
        "        self.organism = organism\n",
        "\n",
        "    def display_sequence(self):\n",
        "        print(f'DNA Sequence: {self.sequence}')\n",
        "\n",
        "    def display_organism(self):\n",
        "        print(f'Organism: {self.organism}')\n",
        "\n",
        "# Creating an Object and Calling Methods\n",
        "human_dna = DNASequence(sequence='ATCGGCTA', organism='Homo sapiens')\n",
        "human_dna.display_sequence()\n",
        "human_dna.display_organism()"
      ]
    },
    {
      "cell_type": "code",
      "execution_count": null,
      "id": "0690d38a-461e-466f-92f0-55cc8e67ea44",
      "metadata": {
        "ExecuteTime": null,
        "id": "0690d38a-461e-466f-92f0-55cc8e67ea44",
        "noteable": {
          "cell_type": "code",
          "output_collection_id": "5d6108ee-d662-4e13-b0fb-c5121a2020aa"
        }
      },
      "outputs": [],
      "source": [
        "# Class Inheritance in Genomics\n",
        "class Sequence:\n",
        "    def __init__(self, sequence):\n",
        "        self.sequence = sequence\n",
        "\n",
        "    def display_sequence(self):\n",
        "        print(f'Sequence: {self.sequence}')\n",
        "\n",
        "class DNASequence(Sequence):\n",
        "    def display_sequence(self):\n",
        "        print(f'DNA Sequence: {self.sequence}')\n",
        "\n",
        "# Creating Object of Subclass and Calling Overridden Method\n",
        "human_dna = DNASequence('ATCGGCTA')\n",
        "human_dna.display_sequence()"
      ]
    },
    {
      "cell_type": "code",
      "execution_count": null,
      "id": "9df58a8f-272a-47d0-a077-d2c01443345a",
      "metadata": {
        "ExecuteTime": null,
        "id": "9df58a8f-272a-47d0-a077-d2c01443345a",
        "noteable": {
          "cell_type": "code",
          "output_collection_id": "0c97b659-7758-4cb9-ab49-38c220a957bb"
        }
      },
      "outputs": [],
      "source": [
        "# Encapsulation in Genomics: Private and Public Attributes\n",
        "class DNASequence:\n",
        "    def __init__(self, sequence, organism):\n",
        "        self.sequence = sequence  # Public Attribute\n",
        "        self.__organism = organism  # Private Attribute\n",
        "\n",
        "    def get_organism(self):\n",
        "        return self.__organism\n",
        "\n",
        "# Creating Object and Accessing Attributes\n",
        "human_dna = DNASequence(sequence='ATCGGCTA', organism='Homo sapiens')\n",
        "print(f'Sequence: {human_dna.sequence}')\n",
        "print(f'Organism: {human_dna.get_organism()}')"
      ]
    },
    {
      "cell_type": "code",
      "execution_count": null,
      "id": "6796bd46-c4ac-48c8-b87d-b65d9233af69",
      "metadata": {
        "ExecuteTime": null,
        "id": "6796bd46-c4ac-48c8-b87d-b65d9233af69",
        "noteable": {
          "cell_type": "code",
          "output_collection_id": "1d3f5c35-2d41-444a-aebd-bce154d73f3c"
        }
      },
      "outputs": [],
      "source": [
        "# Polymorphism in Genomics: Using Methods from Different Classes\n",
        "class Sequence:\n",
        "    def display(self):\n",
        "        print('This is a generic sequence.')\n",
        "\n",
        "class DNASequence(Sequence):\n",
        "    def display(self):\n",
        "        print('This is a DNA sequence.')\n",
        "\n",
        "class RNASequence(Sequence):\n",
        "    def display(self):\n",
        "        print('This is an RNA sequence.')\n",
        "\n",
        "# Using Polymorphism\n",
        "def sequence_display(seq):\n",
        "    seq.display()\n",
        "\n",
        "sequence_display(DNASequence())\n",
        "sequence_display(RNASequence())"
      ]
    },
    {
      "cell_type": "code",
      "execution_count": null,
      "id": "83b55ea7-957f-4e5b-a1d0-72a32b45574e",
      "metadata": {
        "ExecuteTime": null,
        "id": "83b55ea7-957f-4e5b-a1d0-72a32b45574e",
        "noteable": {
          "cell_type": "code",
          "output_collection_id": "3251fa4c-132e-49d4-bab7-5be86fd645e7"
        }
      },
      "outputs": [],
      "source": [
        "# Class Attributes vs Instance Attributes in Genomics\n",
        "class DNASequence:\n",
        "    sequence_type = 'DNA'  # Class Attribute\n",
        "    def __init__(self, sequence):\n",
        "        self.sequence = sequence  # Instance Attribute\n",
        "\n",
        "# Creating Object and Accessing Attributes\n",
        "human_dna = DNASequence('ATCGGCTA')\n",
        "print(f'Sequence Type: {DNASequence.sequence_type}')\n",
        "print(f'Sequence: {human_dna.sequence}')"
      ]
    },
    {
      "cell_type": "markdown",
      "id": "7976a3c0-5661-428c-8bef-04cbed63bb45",
      "metadata": {
        "id": "7976a3c0-5661-428c-8bef-04cbed63bb45",
        "noteable": {
          "cell_type": "markdown"
        }
      },
      "source": [
        "## Understanding For Loops in Python\n",
        "In Python, a `for` loop is used for iterating over a sequence (that is either a list, a tuple, a dictionary, a set, or a string). It allows you to execute a block of code repeatedly for each element in the sequence. In the context of genomics, `for` loops can be particularly useful for iterating through DNA sequences, comparing genotypes, or calculating relatedness among individuals."
      ]
    },
    {
      "cell_type": "code",
      "execution_count": null,
      "id": "17380195-8f61-4a18-b495-55124f0225d4",
      "metadata": {
        "ExecuteTime": null,
        "id": "17380195-8f61-4a18-b495-55124f0225d4",
        "noteable": {
          "cell_type": "code",
          "output_collection_id": "8c6b9558-c9c9-44d6-8d1a-5aeed4c87ac9"
        }
      },
      "outputs": [],
      "source": [
        "# For Loop to Iterate Through a DNA Sequence\n",
        "dna_sequence = 'ATCGGCTA'\n",
        "for base in dna_sequence:\n",
        "    print(f'Base: {base}')"
      ]
    },
    {
      "cell_type": "code",
      "execution_count": null,
      "id": "f3f4ce32-fb79-4ee5-8ef0-9196d695435c",
      "metadata": {
        "ExecuteTime": null,
        "id": "f3f4ce32-fb79-4ee5-8ef0-9196d695435c",
        "noteable": {
          "cell_type": "code",
          "output_collection_id": "9bc7538e-244e-4f99-b841-7791164b3ef3"
        }
      },
      "outputs": [],
      "source": [
        "# Comparing DNA Sequences for Relatedness\n",
        "dna_sequence1 = 'ATCGGCTA'\n",
        "dna_sequence2 = 'ATCGACTA'\n",
        "\n",
        "match_count = 0\n",
        "\n",
        "for base1, base2 in zip(dna_sequence1, dna_sequence2):\n",
        "    if base1 == base2:\n",
        "        match_count += 1\n",
        "\n",
        "relatedness = (match_count / len(dna_sequence1)) * 100\n",
        "print(f'Relatedness between sequences: {relatedness}%')"
      ]
    },
    {
      "cell_type": "code",
      "execution_count": null,
      "id": "5448f2de-261f-4840-b303-c67003d018db",
      "metadata": {
        "ExecuteTime": null,
        "id": "5448f2de-261f-4840-b303-c67003d018db",
        "noteable": {
          "cell_type": "code",
          "output_collection_id": "a7d8ba88-ed87-44f8-8596-b34c2a3233e2"
        }
      },
      "outputs": [],
      "source": [
        "# For Loop to Count Frequency of Each Base in a DNA Sequence\n",
        "from collections import Counter\n",
        "\n",
        "dna_sequence = 'ATCGGCTA'\n",
        "base_count = Counter(dna_sequence)\n",
        "\n",
        "for base, count in base_count.items():\n",
        "    print(f'Base {base} appears {count} times.')"
      ]
    },
    {
      "cell_type": "code",
      "execution_count": null,
      "id": "e65beef1-806a-4fa2-b0f1-73f426c541be",
      "metadata": {
        "ExecuteTime": null,
        "id": "e65beef1-806a-4fa2-b0f1-73f426c541be",
        "noteable": {
          "cell_type": "code",
          "output_collection_id": "1d7c8112-2eac-49c3-b3d3-e6e7ca082cf0"
        }
      },
      "outputs": [],
      "source": [
        "# Iterating Through a Dictionary of Genotypes\n",
        "family_genotypes = {'Father': 'AA', 'Mother': 'Aa', 'Child1': 'Aa', 'Child2': 'AA'}\n",
        "\n",
        "for member, genotype in family_genotypes.items():\n",
        "    print(f'{member} has genotype {genotype}')"
      ]
    },
    {
      "cell_type": "code",
      "execution_count": null,
      "id": "6c9a438b-2ac0-4686-812c-e525fa9e67d2",
      "metadata": {
        "ExecuteTime": null,
        "id": "6c9a438b-2ac0-4686-812c-e525fa9e67d2",
        "noteable": {
          "cell_type": "code",
          "output_collection_id": "46c6a86f-a7b3-443c-9fd1-86595fe5c809"
        }
      },
      "outputs": [],
      "source": [
        "# For Loop to Compare Two DNA Sequences for Similarity\n",
        "dna_sequence1 = 'ATCGGCTA'\n",
        "dna_sequence2 = 'ATCGACTA'\n",
        "similar_bases = 0\n",
        "\n",
        "for base1, base2 in zip(dna_sequence1, dna_sequence2):\n",
        "    if base1 == base2:\n",
        "        similar_bases += 1\n",
        "\n",
        "print(f'Number of similar bases: {similar_bases}')"
      ]
    },
    {
      "cell_type": "code",
      "execution_count": null,
      "id": "e475e541-d958-4a86-8ff7-c1ee98a1724d",
      "metadata": {
        "ExecuteTime": null,
        "id": "e475e541-d958-4a86-8ff7-c1ee98a1724d",
        "noteable": {
          "cell_type": "code",
          "output_collection_id": "a08b9bed-6d9e-4252-bdac-b546ad518233"
        }
      },
      "outputs": [],
      "source": [
        "# Using Enumerate to Get Index and Value\n",
        "dna_sequences = ['ATCG', 'TGCA', 'CGAT', 'GACT']\n",
        "\n",
        "for index, seq in enumerate(dna_sequences):\n",
        "    print(f'Sequence {index+1}: {seq}')"
      ]
    },
    {
      "cell_type": "code",
      "execution_count": null,
      "id": "b2df3564-dd36-4e83-8542-cdf2a2ccc8e2",
      "metadata": {
        "ExecuteTime": null,
        "id": "b2df3564-dd36-4e83-8542-cdf2a2ccc8e2",
        "noteable": {
          "cell_type": "code",
          "output_collection_id": "6e155f10-69bc-4dfa-92c7-977473e72e4e"
        }
      },
      "outputs": [],
      "source": [
        "# For Loop to Calculate GC Content in a DNA Sequence\n",
        "dna_sequence = 'ATCGGCTA'\n",
        "gc_content = 0\n",
        "\n",
        "for base in dna_sequence:\n",
        "    if base in ['G', 'C']:\n",
        "        gc_content += 1\n",
        "\n",
        "gc_percentage = (gc_content / len(dna_sequence)) * 100\n",
        "print(f'GC Content: {gc_percentage}%')"
      ]
    },
    {
      "cell_type": "code",
      "execution_count": null,
      "id": "940aedf3-f9a4-492a-a3cb-8644c707298f",
      "metadata": {
        "ExecuteTime": null,
        "id": "940aedf3-f9a4-492a-a3cb-8644c707298f",
        "noteable": {
          "cell_type": "code",
          "output_collection_id": "b02d533d-61be-44ad-96cc-df1059ab461f"
        }
      },
      "outputs": [],
      "source": [
        "# Using Range Function to Iterate Over Indices\n",
        "dna_sequences = ['ATCG', 'TGCA', 'CGAT', 'GACT']\n",
        "\n",
        "for i in range(len(dna_sequences)):\n",
        "    print(f'Sequence {i+1}: {dna_sequences[i]}')"
      ]
    },
    {
      "cell_type": "code",
      "execution_count": null,
      "id": "25a681fc-46cf-4c84-ba83-4677c701fb2a",
      "metadata": {
        "ExecuteTime": null,
        "id": "25a681fc-46cf-4c84-ba83-4677c701fb2a",
        "noteable": {
          "cell_type": "code",
          "output_collection_id": "fce1fa7d-615a-4bc6-a4b1-c64594cb5004"
        }
      },
      "outputs": [],
      "source": [
        "# For Loop to Find All Occurrences of a Subsequence in a DNA Sequence\n",
        "dna_sequence = 'ATCGGCTAGCTAGCTA'\n",
        "subsequence = 'GCTA'\n",
        "occurrences = []\n",
        "\n",
        "for i in range(len(dna_sequence) - len(subsequence) + 1):\n",
        "    if dna_sequence[i:i+len(subsequence)] == subsequence:\n",
        "        occurrences.append(i)\n",
        "\n",
        "print(f'Occurrences of {subsequence} are at positions: {occurrences}')"
      ]
    },
    {
      "cell_type": "code",
      "execution_count": null,
      "id": "8a308ecb-3095-4579-8618-036702d33721",
      "metadata": {
        "ExecuteTime": null,
        "id": "8a308ecb-3095-4579-8618-036702d33721",
        "noteable": {
          "cell_type": "code",
          "output_collection_id": "1592b4c7-ec72-49ef-9e59-d6de77f5b070"
        }
      },
      "outputs": [],
      "source": [
        "# Nested For Loop to Compare DNA Sequences\n",
        "dna_sequences1 = ['ATCG', 'TGCA']\n",
        "dna_sequences2 = ['CGAT', 'GACT']\n",
        "\n",
        "for seq1 in dna_sequences1:\n",
        "    for seq2 in dna_sequences2:\n",
        "        if seq1 == seq2[::-1]:\n",
        "            print(f'{seq1} and {seq2} are reverse complements.')"
      ]
    },
    {
      "cell_type": "markdown",
      "id": "27a936cf-3190-418e-bb95-c4abde7fadc1",
      "metadata": {
        "id": "27a936cf-3190-418e-bb95-c4abde7fadc1",
        "noteable": {
          "cell_type": "markdown"
        }
      },
      "source": [
        "## Understanding If-Then-Else Conditions in Python\n",
        "The `if`, `elif`, and `else` statements in Python allow you to perform conditional operations. These are particularly useful in genomics for tasks like filtering sequences, comparing genetic markers, and making decisions based on genetic data."
      ]
    },
    {
      "cell_type": "code",
      "execution_count": null,
      "id": "70cba9d2-f373-49ed-b5f9-08c66bd72446",
      "metadata": {
        "ExecuteTime": null,
        "id": "70cba9d2-f373-49ed-b5f9-08c66bd72446",
        "noteable": {
          "cell_type": "code",
          "output_collection_id": "02924f1d-b56d-47f1-8206-77270f0fbe62"
        }
      },
      "outputs": [],
      "source": [
        "# For Loop to Translate DNA Sequence to Amino Acids\n",
        "codon_table = {\n",
        "    'ATA':'I', 'ATC':'I', 'ATT':'I', 'ATG':'M',\n",
        "    'ACA':'T', 'ACC':'T', 'ACG':'T', 'ACT':'T',\n",
        "    'AAC':'N', 'AAT':'N', 'AAA':'K', 'AAG':'K',\n",
        "    'AGC':'S', 'AGT':'S', 'AGA':'R', 'AGG':'R',\n",
        "    'CTA':'L', 'CTC':'L', 'CTG':'L', 'CTT':'L',\n",
        "    'CCA':'P', 'CCC':'P', 'CCG':'P', 'CCT':'P',\n",
        "    'CAC':'H', 'CAT':'H', 'CAA':'Q', 'CAG':'Q',\n",
        "    'CGA':'R', 'CGC':'R', 'CGG':'R', 'CGT':'R',\n",
        "    'GTA':'V', 'GTC':'V', 'GTG':'V', 'GTT':'V',\n",
        "    'GCA':'A', 'GCC':'A', 'GCG':'A', 'GCT':'A',\n",
        "    'GAC':'D', 'GAT':'D', 'GAA':'E', 'GAG':'E',\n",
        "    'GGA':'G', 'GGC':'G', 'GGG':'G', 'GGT':'G',\n",
        "    'TCA':'S', 'TCC':'S', 'TCG':'S', 'TCT':'S',\n",
        "    'TTC':'F', 'TTT':'F', 'TTA':'L', 'TTG':'L',\n",
        "    'TAC':'Y', 'TAT':'Y', 'TAA':'_', 'TAG':'_',\n",
        "    'TGC':'C', 'TGT':'C', 'TGA':'_', 'TGG':'W',\n",
        "}\n",
        "\n",
        "dna_sequence = 'ATCGGCTA'\n",
        "amino_acids = ''\n",
        "\n",
        "for i in range(0, len(dna_sequence), 3):\n",
        "    codon = dna_sequence[i:i+3]\n",
        "    amino_acids += codon_table.get(codon, 'X')\n",
        "\n",
        "print(f'Amino Acids: {amino_acids}')"
      ]
    },
    {
      "cell_type": "code",
      "execution_count": null,
      "id": "1e716e05-bc55-420c-bcb4-fb00f3e8fb0a",
      "metadata": {
        "ExecuteTime": null,
        "id": "1e716e05-bc55-420c-bcb4-fb00f3e8fb0a",
        "noteable": {
          "cell_type": "code",
          "output_collection_id": "77657345-c2af-4c72-bf0d-202d58b35133"
        }
      },
      "outputs": [],
      "source": [
        "# For Loop to Calculate Relatedness Score Between Two Genotype Lists\n",
        "genotypes_list1 = ['AA', 'Aa', 'aa']\n",
        "genotypes_list2 = ['AA', 'AA', 'aa']\n",
        "relatedness_score = 0\n",
        "\n",
        "for genotype1, genotype2 in zip(genotypes_list1, genotypes_list2):\n",
        "    if genotype1 == genotype2:\n",
        "        relatedness_score += 1\n",
        "\n",
        "print(f'Relatedness Score: {relatedness_score}')"
      ]
    },
    {
      "cell_type": "markdown",
      "id": "d80a1313-2002-44ef-81dc-911e2a81e47b",
      "metadata": {
        "id": "d80a1313-2002-44ef-81dc-911e2a81e47b",
        "noteable": {
          "cell_type": "markdown"
        }
      },
      "source": [
        "## Understanding While Loops in Python\n",
        "The `while` loop in Python is used to execute a block of code as long as a condition is true. This type of loop is useful when you don't know the number of iterations in advance. In genomics, `while` loops can be used for tasks like sequence alignment, finding motifs, or even simulating genetic drift until a certain condition is met."
      ]
    },
    {
      "cell_type": "code",
      "execution_count": null,
      "id": "e3863cd3-8408-4811-9f17-e9cac5cea41f",
      "metadata": {
        "ExecuteTime": null,
        "id": "e3863cd3-8408-4811-9f17-e9cac5cea41f",
        "noteable": {
          "cell_type": "code",
          "output_collection_id": "e2d6fa37-e255-4d88-9ebb-c03a9c475d37"
        }
      },
      "outputs": [],
      "source": [
        "# While Loop to Find a Motif in a DNA Sequence\n",
        "dna_sequence = 'ATCGGCTAGCTAGCTA'\n",
        "motif = 'GCTA'\n",
        "position = 0\n",
        "occurrences = []\n",
        "\n",
        "while position < len(dna_sequence) - len(motif) + 1:\n",
        "    if dna_sequence[position:position+len(motif)] == motif:\n",
        "        occurrences.append(position)\n",
        "    position += 1\n",
        "\n",
        "print(f'Occurrences of {motif} are at positions: {occurrences}')"
      ]
    },
    {
      "cell_type": "code",
      "execution_count": null,
      "id": "67742571-48dd-46d3-ba3e-09e56bab29f4",
      "metadata": {
        "ExecuteTime": null,
        "id": "67742571-48dd-46d3-ba3e-09e56bab29f4",
        "noteable": {
          "cell_type": "code",
          "output_collection_id": "f3bc24e5-feb2-4f73-882e-82aceada74f7"
        }
      },
      "outputs": [],
      "source": [
        "# While Loop to Simulate Genetic Drift for an Allele\n",
        "import random\n",
        "\n",
        "allele_frequency = 0.5  # Initial frequency of allele A\n",
        "generations = 0\n",
        "\n",
        "while 0 < allele_frequency < 1:\n",
        "    allele_frequency += random.uniform(-0.05, 0.05)  # Random drift\n",
        "    allele_frequency = max(0, min(allele_frequency, 1))  # Keep within [0, 1]\n",
        "    generations += 1\n",
        "\n",
        "print(f'Allele A fixed or lost after {generations} generations.')"
      ]
    },
    {
      "cell_type": "code",
      "execution_count": null,
      "id": "bc3c2b76-1535-4e71-8b27-012ebab6253b",
      "metadata": {
        "ExecuteTime": null,
        "id": "bc3c2b76-1535-4e71-8b27-012ebab6253b",
        "noteable": {
          "cell_type": "code",
          "output_collection_id": "0c833f59-0809-4ebe-9d97-21bcdf7e59dd"
        }
      },
      "outputs": [],
      "source": [
        "# While Loop to Calculate GC Content Until a Certain Threshold is Reached\n",
        "dna_sequence = 'ATCGGCTAGCTAGCTA'\n",
        "gc_content = 0\n",
        "position = 0\n",
        "threshold = 0.5\n",
        "\n",
        "while gc_content < threshold and position < len(dna_sequence):\n",
        "    if dna_sequence[position] in ['G', 'C']:\n",
        "        gc_content += 1\n",
        "    position += 1\n",
        "    gc_content /= position\n",
        "\n",
        "print(f'GC content reached {threshold} at position {position}')"
      ]
    },
    {
      "cell_type": "code",
      "execution_count": null,
      "id": "49e6429c-22f1-415b-a689-2db7bc70df23",
      "metadata": {
        "ExecuteTime": null,
        "id": "49e6429c-22f1-415b-a689-2db7bc70df23",
        "noteable": {
          "cell_type": "code",
          "output_collection_id": "dc257c83-c7c8-4dfe-b3c4-681cf1f16820"
        }
      },
      "outputs": [],
      "source": [
        "# While Loop to Find the Longest Consecutive Run of a Base in a DNA Sequence\n",
        "dna_sequence = 'ATCGGGGCTAGCTAGCTA'\n",
        "longest_run = 0\n",
        "current_run = 1\n",
        "position = 1\n",
        "\n",
        "while position < len(dna_sequence):\n",
        "    if dna_sequence[position] == dna_sequence[position - 1]:\n",
        "        current_run += 1\n",
        "    else:\n",
        "        longest_run = max(longest_run, current_run)\n",
        "        current_run = 1\n",
        "    position += 1\n",
        "\n",
        "longest_run = max(longest_run, current_run)\n",
        "print(f'Longest consecutive run of a base is {longest_run}')"
      ]
    },
    {
      "cell_type": "code",
      "execution_count": null,
      "id": "123903c4-b2c2-4e8b-896d-f7df2f879180",
      "metadata": {
        "ExecuteTime": null,
        "id": "123903c4-b2c2-4e8b-896d-f7df2f879180",
        "noteable": {
          "cell_type": "code",
          "output_collection_id": "aa606d50-2461-4a2b-a79d-d2d9a581dcf2"
        }
      },
      "outputs": [],
      "source": [
        "# While Loop to Calculate Relatedness Score Until a Certain Threshold is Reached\n",
        "genotypes_list1 = ['AA', 'Aa', 'aa', 'AA', 'Aa']\n",
        "genotypes_list2 = ['AA', 'AA', 'aa', 'Aa', 'aa']\n",
        "relatedness_score = 0\n",
        "position = 0\n",
        "threshold = 3\n",
        "\n",
        "while relatedness_score < threshold and position < len(genotypes_list1):\n",
        "    if genotypes_list1[position] == genotypes_list2[position]:\n",
        "        relatedness_score += 1\n",
        "    position += 1\n",
        "\n",
        "print(f'Relatedness score reached {threshold} at position {position}')"
      ]
    },
    {
      "cell_type": "markdown",
      "id": "7e9c02ac-4c76-4b38-8e10-2a76b1cd24c2",
      "metadata": {
        "id": "7e9c02ac-4c76-4b38-8e10-2a76b1cd24c2",
        "noteable": {
          "cell_type": "markdown"
        }
      },
      "source": [
        "## Understanding If-Then-Else Conditions in Python\n",
        "The `if-then-else` condition in Python is used to execute a block of code based on whether a condition is true or false. In genomics, these conditional statements can be used to filter sequences, compare genotypes, or even to decide which algorithm to use for a particular analysis."
      ]
    },
    {
      "cell_type": "code",
      "execution_count": null,
      "id": "eb03f7bd-756f-4dbd-b1fd-cb76a908907c",
      "metadata": {
        "ExecuteTime": null,
        "id": "eb03f7bd-756f-4dbd-b1fd-cb76a908907c",
        "noteable": {
          "cell_type": "code",
          "output_collection_id": "ad7fafd7-ae23-454b-bbf7-2c41a78c74e9"
        }
      },
      "outputs": [],
      "source": [
        "# If-Then-Else to Determine Dominant or Recessive Genotype\n",
        "genotype = 'Aa'\n",
        "\n",
        "if genotype == 'AA' or genotype == 'Aa':\n",
        "    print('Dominant Genotype')\n",
        "elif genotype == 'aa':\n",
        "    print('Recessive Genotype')\n",
        "else:\n",
        "    print('Invalid Genotype')"
      ]
    },
    {
      "cell_type": "code",
      "execution_count": null,
      "id": "833a1865-9bf4-4dde-a01e-0d04b722a98a",
      "metadata": {
        "ExecuteTime": null,
        "id": "833a1865-9bf4-4dde-a01e-0d04b722a98a",
        "noteable": {
          "cell_type": "code",
          "output_collection_id": "39e2426d-4ecd-49fe-83b8-048d2d4754bb"
        }
      },
      "outputs": [],
      "source": [
        "# If-Then-Else to Filter DNA Sequences Based on Length\n",
        "dna_sequence = 'ATCGGCTA'\n",
        "min_length = 5\n",
        "\n",
        "if len(dna_sequence) >= min_length:\n",
        "    print(f'Sequence is long enough: {dna_sequence}')\n",
        "else:\n",
        "    print(f'Sequence is too short: {dna_sequence}')"
      ]
    },
    {
      "cell_type": "code",
      "execution_count": null,
      "id": "b50ea884-9fc0-4b39-98c0-f6a2051f11d2",
      "metadata": {
        "ExecuteTime": null,
        "id": "b50ea884-9fc0-4b39-98c0-f6a2051f11d2",
        "noteable": {
          "cell_type": "code",
          "output_collection_id": "510288ca-7658-4daf-bd35-ff9005091c31"
        }
      },
      "outputs": [],
      "source": [
        "# If-Then-Else to Classify DNA Sequences Based on GC Content\n",
        "dna_sequence = 'ATCGGCTA'\n",
        "gc_content = 0\n",
        "\n",
        "for base in dna_sequence:\n",
        "    if base in ['G', 'C']:\n",
        "        gc_content += 1\n",
        "\n",
        "gc_percentage = (gc_content / len(dna_sequence)) * 100\n",
        "\n",
        "if gc_percentage > 50:\n",
        "    print(f'High GC content: {gc_percentage}%')\n",
        "elif gc_percentage == 50:\n",
        "    print(f'Medium GC content: {gc_percentage}%')\n",
        "else:\n",
        "    print(f'Low GC content: {gc_percentage}%')"
      ]
    },
    {
      "cell_type": "code",
      "execution_count": null,
      "id": "ba039167-ac7d-4921-b913-29de3b96e60d",
      "metadata": {
        "ExecuteTime": null,
        "id": "ba039167-ac7d-4921-b913-29de3b96e60d",
        "noteable": {
          "cell_type": "code",
          "output_collection_id": "7cc78b6a-1b04-4cda-9856-18e8df188b17"
        }
      },
      "outputs": [],
      "source": [
        "# If-Then-Else to Determine Relatedness Level Based on Score\n",
        "relatedness_score = 4\n",
        "\n",
        "if relatedness_score >= 5:\n",
        "    print('Highly Related')\n",
        "elif relatedness_score >= 3 and relatedness_score < 5:\n",
        "    print('Moderately Related')\n",
        "else:\n",
        "    print('Not Related')"
      ]
    },
    {
      "cell_type": "code",
      "execution_count": null,
      "id": "04c66772-3864-4ad0-a6ac-c98d1a2a15f8",
      "metadata": {
        "ExecuteTime": null,
        "id": "04c66772-3864-4ad0-a6ac-c98d1a2a15f8",
        "noteable": {
          "cell_type": "code",
          "output_collection_id": "70350c6e-3c34-4fb8-a7cb-7a2a84c4e9e3"
        }
      },
      "outputs": [],
      "source": [
        "# If-Then-Else to Check for Presence of a Motif in a DNA Sequence\n",
        "dna_sequence = 'ATCGGCTA'\n",
        "motif = 'GCTA'\n",
        "\n",
        "if motif in dna_sequence:\n",
        "    print(f'Motif {motif} is present in the sequence.')\n",
        "else:\n",
        "    print(f'Motif {motif} is not present in the sequence.')"
      ]
    }
  ],
  "metadata": {
    "colab": {
      "collapsed_sections": [
        "tyrnlNJ2hiso"
      ],
      "provenance": []
    },
    "kernel_info": {
      "name": "python3"
    },
    "kernelspec": {
      "display_name": ".venv",
      "language": "python",
      "name": "python3"
    },
    "language_info": {
      "codemirror_mode": {
        "name": "ipython",
        "version": 3
      },
      "file_extension": ".py",
      "mimetype": "text/x-python",
      "name": "python",
      "nbconvert_exporter": "python",
      "pygments_lexer": "ipython3",
      "version": "3.10.12"
    },
    "noteable-chatgpt": {
      "create_notebook": {
        "openai_conversation_id": "a01c070e-ba43-58f2-8ba5-0f6c0f011924",
        "openai_ephemeral_user_id": "a77556ba-c8be-5573-9f79-d60e750d8df6",
        "openai_subdivision1_iso_code": "US-IL"
      }
    },
    "selected_hardware_size": "small"
  },
  "nbformat": 4,
  "nbformat_minor": 5
}
