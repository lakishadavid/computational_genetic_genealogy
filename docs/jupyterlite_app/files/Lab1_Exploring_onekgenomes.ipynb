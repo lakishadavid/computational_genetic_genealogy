{
 "cells": [
  {
   "cell_type": "markdown",
   "metadata": {
    "id": "tyrnlNJ2hiso"
   },
   "source": [
    "# Environment Setup"
   ]
  },
  {
   "cell_type": "code",
   "execution_count": 2,
   "metadata": {
    "id": "YZmLfSJqg2uR"
   },
   "outputs": [],
   "source": [
    "import os\n",
    "import requests\n",
    "import pandas as pd\n",
    "import urllib3\n",
    "from collections import Counter\n",
    "from pathlib import Path\n",
    "from dotenv import load_dotenv\n",
    "# Suppress SSL verification warnings\n",
    "urllib3.disable_warnings(urllib3.exceptions.InsecureRequestWarning)"
   ]
  },
  {
   "cell_type": "code",
   "execution_count": 3,
   "metadata": {},
   "outputs": [
    {
     "name": "stdout",
     "output_type": "stream",
     "text": [
      "Loaded environment variables from: /home/lakishadavid/computational_genetic_genealogy/.env\n"
     ]
    }
   ],
   "source": [
    "# Environment setup for cross-compatibility\n",
    "from scripts_support.lab_cross_compatibility import setup_environment, is_jupyterlite\n\n",
    "# Set up environment-specific paths\n",
    "DATA_DIR, RESULTS_DIR = setup_environment()\n\n",
    "# Now you can use DATA_DIR and RESULTS_DIR consistently across environments\n"
   ]
  },
  {
   "cell_type": "code",
   "execution_count": 4,
   "metadata": {
    "id": "nduw3nmhg5kV"
   },
   "outputs": [
    {
     "name": "stdout",
     "output_type": "stream",
     "text": [
      "Working Directory: /home/lakishadavid/computational_genetic_genealogy\n",
      "Data Directory: /home/lakishadavid/computational_genetic_genealogy/data\n",
      "References Directory: /home/lakishadavid/computational_genetic_genealogy/references\n",
      "Results Directory: /home/lakishadavid/computational_genetic_genealogy/results\n",
      "Utils Directory: /home/lakishadavid/computational_genetic_genealogy/utils\n"
     ]
    }
   ],
   "source": [
    "working_directory = os.getenv('PROJECT_WORKING_DIR', default=None)\n",
    "data_directory = os.getenv('PROJECT_DATA_DIR', default=None)\n",
    "references_directory = os.getenv('PROJECT_REFERENCES_DIR', default=None)\n",
    "results_directory = os.getenv('PROJECT_RESULTS_DIR', default=None)\n",
    "utils_directory = os.getenv('PROJECT_UTILS_DIR', default=None)\n",
    "\n",
    "print(f\"Working Directory: {working_directory}\")\n",
    "print(f\"Data Directory: {data_directory}\")\n",
    "print(f\"References Directory: {references_directory}\")\n",
    "print(f\"Results Directory: {results_directory}\")\n",
    "print(f\"Utils Directory: {utils_directory}\")"
   ]
  },
  {
   "cell_type": "markdown",
   "metadata": {
    "id": "Wq5kJINf__z6"
   },
   "source": [
    "## Introduction to the IGSR 30x GRCh38 Data Collection\n",
    "The International Genome Sample Resource (IGSR) provides a data collection for the 30x GRCh38 human genome assembly. This resource is invaluable for researchers and scientists who are working on genomics, as it offers high-quality, publicly available data sets. The 30x coverage ensures a high level of accuracy and reliability for genomic studies."
   ]
  },
  {
   "cell_type": "markdown",
   "metadata": {
    "id": "7XgdCYKK__z6"
   },
   "source": [
    "## How to Download Populations File and Sample File\n",
    "\n",
    "- https://www.internationalgenome.org/data-portal/data-collection/30x-grch38\n",
    "- https://ftp.1000genomes.ebi.ac.uk/vol1/ftp/technical/working/\n",
    "- Sample Info = https://ftp.1000genomes.ebi.ac.uk/vol1/ftp/technical/working/20130606_sample_info/\n",
    "- sample Coordinates = https://ftp.1000genomes.ebi.ac.uk/vol1/ftp/technical/working/20161101_phase3_pop_coords/"
   ]
  },
  {
   "cell_type": "code",
   "execution_count": 5,
   "metadata": {},
   "outputs": [
    {
     "name": "stdout",
     "output_type": "stream",
     "text": [
      "Attempting to download sample summary data from: https://ftp.1000genomes.ebi.ac.uk/vol1/ftp/technical/working/20140502_sample_summary_info/20140502_complete_sample_summary.txt\n",
      "Will save to: /home/lakishadavid/computational_genetic_genealogy/references/20140502_complete_sample_summary.txt\n",
      "\n",
      "Response status code: 200\n",
      "\n",
      "File saved successfully!\n",
      "Location: /home/lakishadavid/computational_genetic_genealogy/references/20140502_complete_sample_summary.txt\n",
      "File size: 787,798 bytes\n",
      "\n",
      "First few lines of downloaded file:\n",
      "Sample\tFamily ID\tPopulation\tPopulation Description\tGender\tRelationship\tUnexpected Parent/Child \tNon Paternity\tSiblings\tGrandparents\tAvuncular\tHalf Siblings\tUnknown Second Order\tThird Order\tOther Comments\tIn Low Coverage Pilot\tLC Pilot Platforms\tLC Pilot Centers\tIn High Coverage Pilot\tHC Pilot Platforms\tHC Pilot Centers\tIn Exon Targetted Pilot\tET Pilot Platforms\tET Pilot Centers\tHas Sequence in Phase1\tPhase1 LC Platform\tPhase1 LC Centers\tPhase1 E Platform\tPhase1 E Centers\tIn Phase1 Integrated Variant Set\tHas Phase1 chrY SNPS\tHas phase1 chrY Deletions\tHas phase1 chrMT SNPs\tMain project LC Centers\tMain project LC platform\tTotal LC Sequence\tLC Non Duplicated Aligned Coverage\tMain Project E Centers\tMain Project  E Platform\tTotal Exome Sequence\t% Targets Covered to 20x or greater\tVerifyBam E Omni Free\tVerifyBam E Affy Free\tVerifyBam E Omni Chip\tVerifyBam E Affy Chip\tVerifyBam LC Omni Free\tVerifyBam LC Affy Free\tVerifyBam LC Omni Chip\tVerifyBam LC Affy Chip\tLC Indel Ratio\tE Indel Ration\tLC Passed QC\tE Passed QC\tIn Final Phase Variant Calling\tHas Omni Genotypes\tHas Axiom Genotypes\tHas Affy 6.0 Genotypes\tHas Exome/LOF Genotypes\tEBV Coverage\tDNA Source from Coriell\tHas Sequence from Blood in Index\n",
      "HG00096\tHG00096\tGBR\tBritish in England and Scotland\tmale\t\t\t\t\t\t\t\t\t\t\t\t\t\t\t\t\t\t\t\t1\tILLUMINA\tWUGSC\tILLUMINA\tWUGSC\t1\t1\t1\t1\tWUGSC\tILLUMINA\t14714705600\t4.94\tWUGSC\tILLUMINA\t9580861000\t0.851972\t0.00028\t1.00E-05\t0.00024\tN/A\t0.0007\t1.00E-05\t0.00026\tN/A\t0.82\t0.79\t1\t1\t1\t1\t\t\t1\t20.31\n",
      "\n",
      "Download attempt completed.\n"
     ]
    }
   ],
   "source": [
    "# Direct URL to the sample summary file\n",
    "sample_summary_url = \"https://ftp.1000genomes.ebi.ac.uk/vol1/ftp/technical/working/20140502_sample_summary_info/20140502_complete_sample_summary.txt\"\n",
    "\n",
    "# Define output file path\n",
    "output_file = os.path.join(references_directory, \"20140502_complete_sample_summary.txt\")\n",
    "\n",
    "print(f\"Attempting to download sample summary data from: {sample_summary_url}\")\n",
    "print(f\"Will save to: {output_file}\")\n",
    "\n",
    "# Make request for sample summary data\n",
    "try:\n",
    "   response = requests.get(sample_summary_url, verify=False)\n",
    "   print(f\"\\nResponse status code: {response.status_code}\")\n",
    "   \n",
    "   # Check if request was successful\n",
    "   if response.status_code == 200:\n",
    "       # Save the data\n",
    "       with open(output_file, \"w\", encoding='utf-8') as f:\n",
    "           f.write(response.text)\n",
    "       \n",
    "       # Verify file was saved and get its size\n",
    "       if os.path.exists(output_file):\n",
    "           file_size = os.path.getsize(output_file)\n",
    "           print(f\"\\nFile saved successfully!\")\n",
    "           print(f\"Location: {output_file}\")\n",
    "           print(f\"File size: {file_size:,} bytes\")\n",
    "           \n",
    "           # Print first few lines to verify content\n",
    "           print(\"\\nFirst few lines of downloaded file:\")\n",
    "           with open(output_file, 'r') as f:\n",
    "               print(f.readline().strip())  # Header line\n",
    "               print(f.readline().strip())  # First data line\n",
    "   else:\n",
    "       print(f\"Error: Got status code {response.status_code}\")\n",
    "       print(f\"Error message: {response.text}\")\n",
    "\n",
    "except Exception as e:\n",
    "   print(f\"An error occurred: {str(e)}\")\n",
    "\n",
    "print(\"\\nDownload attempt completed.\")"
   ]
  },
  {
   "cell_type": "markdown",
   "metadata": {
    "id": "AchZ8oe5__z6"
   },
   "source": [
    "## Exploring the Sample and Population Files\n",
    "\n",
    "Before diving into the analysis, it's a good idea to explore the sample and population files to get a sense of what the data looks like. We'll use Pandas to open these files and display the first few rows.\n"
   ]
  },
  {
   "cell_type": "code",
   "execution_count": null,
   "metadata": {
    "id": "_yICBWXb__z7"
   },
   "outputs": [],
   "source": [
    "# Import the Pandas library\n",
    "import pandas as pd\n",
    "\n",
    "# Load the sample and population files into Pandas DataFrames\n",
    "sample_file_name = os.path.join(references_directory, \"20140502_complete_sample_summary.txt\")\n",
    "try:\n",
    "    sample_df = pd.read_csv(sample_file_name, sep='\\t')\n",
    "except FileNotFoundError as e:\n",
    "    print(f\"File not found: {e}\")\n",
    "\n",
    "print(sample_df.columns)"
   ]
  },
  {
   "cell_type": "markdown",
   "metadata": {},
   "source": [
    "# Understanding the 1000 Genomes Project Sample Summary File in Genetic Genealogy\n",
    "\n",
    "The 1000 Genomes Project sample summary file provides comprehensive information about individuals whose genomes were sequenced as part of this landmark project. For genetic genealogists, this data is particularly valuable for understanding population references and sample quality.\n",
    "\n",
    "## Key Components for Genetic Genealogy\n",
    "\n",
    "### Sample and Population Information\n",
    "- **Sample**: Unique identifier for each individual\n",
    "- **Family ID**: Family grouping information\n",
    "- **Population**: Population code (e.g., GBR for British)\n",
    "- **Population Description**: Detailed description of the population group\n",
    "- **Gender**: Biological sex of the sample\n",
    "\n",
    "### Family Relationships\n",
    "The file includes detailed relationship information that's crucial for genetic genealogy:\n",
    "- Unexpected Parent/Child relationships\n",
    "- Non-Paternity cases\n",
    "- Siblings\n",
    "- Grandparents\n",
    "- Avuncular (aunt/uncle) relationships\n",
    "- Half Siblings\n",
    "- Second and Third Order relationships\n",
    "\n",
    "### Sequencing Quality Metrics\n",
    "Important metrics that help assess the reliability of genetic matches:\n",
    "- Coverage information (how well the genome was sequenced)\n",
    "- Quality control indicators\n",
    "- Verification scores for different genotyping platforms\n",
    "\n",
    "### Technical Details for Advanced Analysis\n",
    "- Chromosome-specific data (Y chromosome and mitochondrial DNA)\n",
    "- Sequencing platform information\n",
    "- Coverage statistics\n",
    "- Quality control results\n",
    "\n",
    "## Relevance to Genetic Genealogy Research\n",
    "\n",
    "1. **Population References**: \n",
    "   - Helps understand genetic ancestry composition\n",
    "   - Provides reference populations for ethnicity estimates\n",
    "\n",
    "2. **Sample Quality Assessment**:\n",
    "   - Indicates reliability of genetic matches\n",
    "   - Helps evaluate the confidence level of genetic relationships\n",
    "\n",
    "3. **Family Structure Verification**:\n",
    "   - Useful for understanding how relationships are detected\n",
    "   - Provides examples of verified family relationships\n",
    "\n",
    "4. **Research Quality**:\n",
    "   - Coverage metrics help assess the completeness of genetic information\n",
    "   - Quality control indicators support confidence in genetic matches\n",
    "\n",
    "This dataset serves as a fundamental resource for understanding how genetic relationships are validated and categorized in professional genetic genealogy research."
   ]
  },
  {
   "cell_type": "code",
   "execution_count": null,
   "metadata": {
    "id": "wg8pLrPxHDdi"
   },
   "outputs": [],
   "source": [
    "# Let's first look at basic sample information\n",
    "# Select columns related to sample identification and population\n",
    "basic_cols = ['Sample', 'Family ID', 'Population', 'Population Description', 'Gender']\n",
    "basic_info = sample_df[basic_cols]\n",
    "\n",
    "print(\"First few rows of basic sample information:\")\n",
    "display(basic_info.head())\n",
    "\n",
    "print(\"\\nSummary of populations in the dataset:\")\n",
    "population_counts = sample_df['Population'].value_counts()\n",
    "display(population_counts)\n",
    "\n",
    "print(\"\\nUnique population descriptions:\")\n",
    "display(pd.DataFrame(sample_df[['Population', 'Population Description']].drop_duplicates()))"
   ]
  },
  {
   "cell_type": "code",
   "execution_count": null,
   "metadata": {},
   "outputs": [],
   "source": [
    "# Block 1: Basic Population Exploration\n",
    "print(\"Exploring population distributions in the 1000 Genomes data\")\n",
    "print(\"-\" * 50)\n",
    "\n",
    "# Total number of samples\n",
    "total_samples = len(sample_df)\n",
    "print(f\"Total number of samples: {total_samples:,}\")\n",
    "\n",
    "# Create a summary of samples by gender within each population\n",
    "pop_gender_summary = pd.crosstab(sample_df['Population'], sample_df['Gender'])\n",
    "print(\"\\nGender distribution by population:\")\n",
    "display(pop_gender_summary)"
   ]
  },
  {
   "cell_type": "code",
   "execution_count": null,
   "metadata": {},
   "outputs": [],
   "source": [
    "# Explore family relationships\n",
    "# Select columns related to family relationships\n",
    "relationship_cols = ['Sample', 'Family ID', 'Population', 'Relationship', \n",
    "                    'Siblings', 'Grandparents', 'Avuncular', 'Half Siblings',\n",
    "                    'Unknown Second Order', 'Third Order']\n",
    "family_info = sample_df[relationship_cols]\n",
    "\n",
    "print(\"Samples with recorded family relationships:\")\n",
    "# Count how many samples have each type of relationship\n",
    "relationship_counts = family_info.iloc[:, 3:].notna().sum()\n",
    "display(relationship_counts)\n",
    "\n",
    "# Show examples of families with relationships\n",
    "print(\"\\nExamples of families with recorded relationships:\")\n",
    "display(family_info[family_info.iloc[:, 3:].notna().any(axis=1)].head())"
   ]
  },
  {
   "cell_type": "code",
   "execution_count": null,
   "metadata": {},
   "outputs": [],
   "source": [
    "# Explore sequencing quality metrics\n",
    "quality_cols = ['Sample', 'Population', 'Total LC Sequence', \n",
    "                'LC Non Duplicated Aligned Coverage',\n",
    "                'Total Exome Sequence', '% Targets Covered to 20x or greater',\n",
    "                'LC Passed QC', 'E Passed QC']\n",
    "quality_info = sample_df[quality_cols]\n",
    "\n",
    "print(\"Summary of sequencing quality metrics:\")\n",
    "display(quality_info.describe())\n",
    "\n",
    "# Look at QC pass rates by population\n",
    "print(\"\\nQC pass rates by population:\")\n",
    "qc_by_pop = sample_df.groupby('Population')[['LC Passed QC', 'E Passed QC']].mean()\n",
    "display(qc_by_pop)"
   ]
  },
  {
   "cell_type": "code",
   "execution_count": null,
   "metadata": {},
   "outputs": [],
   "source": [
    "# Explore special genetic markers (Y chromosome and mitochondrial DNA)\n",
    "marker_cols = ['Sample', 'Population', 'Gender',\n",
    "               'Has Phase1 chrY SNPS', 'Has phase1 chrY Deletions',\n",
    "               'Has phase1 chrMT SNPs']\n",
    "marker_info = sample_df[marker_cols]\n",
    "\n",
    "print(\"Summary of genetic marker availability:\")\n",
    "# Count samples with each type of marker\n",
    "marker_counts = marker_info.iloc[:, 3:].sum()\n",
    "display(marker_counts)\n",
    "\n",
    "# Show distribution by gender\n",
    "print(\"\\nMarker availability by gender:\")\n",
    "marker_by_gender = marker_info.groupby('Gender')[['Has Phase1 chrY SNPS', \n",
    "                                                 'Has phase1 chrY Deletions',\n",
    "                                                 'Has phase1 chrMT SNPs']].mean()\n",
    "display(marker_by_gender)"
   ]
  },
  {
   "cell_type": "code",
   "execution_count": null,
   "metadata": {},
   "outputs": [],
   "source": [
    "# Create a summary of key metrics by population\n",
    "summary_cols = ['Population', 'Gender', 'LC Passed QC', 'E Passed QC',\n",
    "                'Has Phase1 chrY SNPS', 'Has phase1 chrMT SNPs']\n",
    "population_summary = sample_df[summary_cols].groupby('Population').agg({\n",
    "    'Gender': 'count',  # Count total samples\n",
    "    'LC Passed QC': 'mean',  # Average QC pass rate\n",
    "    'E Passed QC': 'mean',\n",
    "    'Has Phase1 chrY SNPS': 'sum',  # Count samples with Y SNPs\n",
    "    'Has phase1 chrMT SNPs': 'sum'  # Count samples with MT SNPs\n",
    "}).round(3)\n",
    "\n",
    "# Rename columns for clarity\n",
    "population_summary.columns = ['Sample Count', 'LC QC Pass Rate', 'E QC Pass Rate',\n",
    "                            'Samples with Y SNPs', 'Samples with MT SNPs']\n",
    "\n",
    "print(\"Summary statistics by population:\")\n",
    "display(population_summary)"
   ]
  },
  {
   "cell_type": "code",
   "execution_count": null,
   "metadata": {},
   "outputs": [],
   "source": [
    "# Filtering for Specific Populations\n",
    "# Example: Looking at British (GBR) samples\n",
    "print(\"Exploring British (GBR) samples\")\n",
    "print(\"-\" * 50)\n",
    "\n",
    "target_population = 'GBR'\n",
    "gbr_samples = sample_df[sample_df['Population'] == target_population]\n",
    "\n",
    "print(f\"Number of GBR samples: {len(gbr_samples)}\")\n",
    "print(\"\\nBasic information about GBR samples:\")\n",
    "display(gbr_samples[['Sample', 'Gender', 'Family ID']].head())\n",
    "\n",
    "# Check for family relationships in GBR\n",
    "gbr_families = gbr_samples[gbr_samples['Family ID'].duplicated(keep=False)]\n",
    "if len(gbr_families) > 0:\n",
    "    print(\"\\nFound family groups in GBR samples:\")\n",
    "    display(gbr_families[['Sample', 'Family ID', 'Relationship']])"
   ]
  },
  {
   "cell_type": "code",
   "execution_count": null,
   "metadata": {},
   "outputs": [],
   "source": [
    "# Advanced Filtering with Multiple Criteria\n",
    "print(\"Advanced sample filtering example\")\n",
    "print(\"-\" * 50)\n",
    "\n",
    "# Example: Find high-quality samples from specific populations\n",
    "target_populations = ['CEU', 'YRI', 'CHB']\n",
    "quality_threshold = 0.9  # 90% coverage\n",
    "\n",
    "# Total number of samples in the target populations\n",
    "total_samples = sample_df[sample_df['Population'].isin(target_populations)]\n",
    "print(f\"Total samples in target populations: {len(total_samples)}\")\n",
    "\n",
    "# Filter for high-quality samples\n",
    "high_quality_samples = sample_df[\n",
    "    (sample_df['Population'].isin(target_populations)) &\n",
    "    (sample_df['LC Passed QC'] == 1) &\n",
    "    (sample_df['E Passed QC'] == 1) &\n",
    "    (sample_df['% Targets Covered to 20x or greater'] >= quality_threshold)\n",
    "]\n",
    "\n",
    "# Add a column for the total number of samples in each population\n",
    "population_totals = total_samples.groupby('Population').size().reset_index(name='Total Samples')\n",
    "\n",
    "# Add a column for the number of high-quality samples in each population\n",
    "high_quality_counts = high_quality_samples.groupby('Population').size().reset_index(name='Passed Filters')\n",
    "\n",
    "# Merge the two DataFrames to show totals and passed filters\n",
    "summary_df = pd.merge(population_totals, high_quality_counts, on='Population', how='left').fillna(0)\n",
    "\n",
    "# Display the summary\n",
    "print(\"\\nSummary of high-quality samples:\")\n",
    "print(summary_df)"
   ]
  },
  {
   "cell_type": "markdown",
   "metadata": {
    "id": "sUKj5BFHHDdk"
   },
   "source": [
    "### Filtering Data\n",
    "You can filter rows based on certain conditions. For example, let's filter the sample DataFrame to only include individuals from a specific population."
   ]
  },
  {
   "cell_type": "code",
   "execution_count": null,
   "metadata": {
    "id": "T77MImOkHDdk"
   },
   "outputs": [],
   "source": [
    "# Filter to include only individuals from the 'YRI' population\n",
    "yri_population = family_info[family_info['Population'] == 'YRI']\n",
    "yri_population.head()"
   ]
  },
  {
   "cell_type": "code",
   "execution_count": null,
   "metadata": {
    "id": "jR4QoEXmHDdl"
   },
   "outputs": [],
   "source": [
    "yri_population.info()"
   ]
  },
  {
   "cell_type": "code",
   "execution_count": null,
   "metadata": {
    "id": "6vUklUylHDdl"
   },
   "outputs": [],
   "source": [
    "yri_population[[\"Siblings\", \"Grandparents\", \"Avuncular\", \"Half Siblings\", \"Unknown Second Order\", \"Third Order\"]].describe()"
   ]
  },
  {
   "cell_type": "code",
   "execution_count": null,
   "metadata": {
    "id": "kJ8O8y3nHDdl"
   },
   "outputs": [],
   "source": [
    "# Search for individuals with specific attributes\n",
    "specific_entries = basic_info[(basic_info['Population'] == 'YRI') & (basic_info['Gender'] == 'female')]\n",
    "specific_entries.info()"
   ]
  },
  {
   "cell_type": "code",
   "execution_count": null,
   "metadata": {
    "id": "IVmb9U6eHDdl"
   },
   "outputs": [],
   "source": [
    "specific_entries.head()"
   ]
  },
  {
   "cell_type": "code",
   "execution_count": null,
   "metadata": {
    "id": "i1tY8OvgHDdl"
   },
   "outputs": [],
   "source": [
    "specific_entries.describe()"
   ]
  },
  {
   "cell_type": "markdown",
   "metadata": {
    "id": "Z6U_Jp14HDdl"
   },
   "source": [
    "### Multiple Conditions\n",
    "You can include multiple conditions in your query. For example, let's find all females in either the 'YRI' or 'CEU' populations."
   ]
  },
  {
   "cell_type": "code",
   "execution_count": null,
   "metadata": {
    "id": "7pZCL17AHDdl"
   },
   "outputs": [],
   "source": [
    "# Search for females in either 'YRI' or 'CEU' populations\n",
    "multiple_conditions = basic_info[(basic_info['Population'].isin(['YRI', 'CEU'])) & (basic_info['Gender'] == 'female')]\n",
    "multiple_conditions.describe()"
   ]
  },
  {
   "cell_type": "code",
   "execution_count": null,
   "metadata": {
    "id": "0ELgy7yaHDdm"
   },
   "outputs": [],
   "source": [
    "target_population = 'YRI'\n",
    "target_sex = 'female'\n",
    "\n",
    "# Search using variables\n",
    "variable_filter = basic_info[(basic_info['Population'] == target_population) & (basic_info['Gender'] == target_sex)]\n",
    "variable_filter.describe()"
   ]
  },
  {
   "cell_type": "markdown",
   "metadata": {
    "id": "kgK5aLb5HDd0"
   },
   "source": [
    "### Searching for Entries in a List\n",
    "If you have a list of values to search for, you can use the isin() method within .query()."
   ]
  },
  {
   "cell_type": "code",
   "execution_count": null,
   "metadata": {
    "id": "s4rBLgw9HDd0"
   },
   "outputs": [],
   "source": [
    "# List of target populations\n",
    "target_populations = ['YRI', 'CEU']\n",
    "\n",
    "# Search for individuals in target populations\n",
    "list_filter = basic_info[basic_info['Population'].isin(target_populations)]\n",
    "list_filter.describe()"
   ]
  },
  {
   "cell_type": "markdown",
   "metadata": {
    "id": "x2caBwXQHDd0"
   },
   "source": [
    "### Using String Methods\n",
    "You can also use string methods to search for specific patterns in string columns."
   ]
  },
  {
   "cell_type": "code",
   "execution_count": null,
   "metadata": {
    "id": "0lvDU06_HDd1"
   },
   "outputs": [],
   "source": [
    "# Search for individuals whose sample IDs start with 'NA'\n",
    "string_filter = basic_info[basic_info['Sample'].str.startswith('NA')]\n",
    "print(f'There are {len(string_filter)} that starts wtih \"NA\"')\n",
    "\n",
    "print(f\"Here are a few rows...\")\n",
    "string_filter.head()"
   ]
  },
  {
   "cell_type": "markdown",
   "metadata": {
    "id": "Bgnzw5q___z7"
   },
   "source": [
    "## Downloading 1000 Genomes Data\n",
    "\n",
    "Up to this point, we have explored the sample and population metadata files to understand the structure of our data. However, we have not yet downloaded the actual genetic data from the 1000 Genomes Project.\n",
    "\n",
    "(Optional: Check out the page where we will download the files: https://www.internationalgenome.org/data-portal/data-collection/30x-grch38. Look in the description text for \"Phased VCFs\". This will take you to the ftp page where we get our links for our code. You can also manually download the files from here.)\n",
    "\n",
    "In the next step, we will download the VCF (Variant Call Format) files for chromosome 21.\n",
    "\n",
    "Note: The script will also check if the directory for storing the 1000 Genomes reference panel exists. If not, it will create one for you.\n",
    "\n",
    "Let's proceed to download the data for chromosome 21."
   ]
  },
  {
   "cell_type": "markdown",
   "metadata": {
    "id": "mDRQykj0__z7"
   },
   "source": [
    "#### Download 1000 Genomes Chromosome 21, if you haven't done so already.\n",
    "file size: 407 M, less than 10 minutes"
   ]
  },
  {
   "cell_type": "code",
   "execution_count": null,
   "metadata": {
    "id": "Sj6jISFF__z7"
   },
   "outputs": [],
   "source": [
    "%%bash -s \"$references_directory\"\n",
    "\n",
    "# Receive directory variables from Python\n",
    "references_directory=$1\n",
    "\n",
    "# Define the directory for the 1000 Genomes reference panel\n",
    "onekg_reference_panel_dir=\"${references_directory}/onekg_reference_panel\"\n",
    "\n",
    "# Check if the onekg_reference_panel directory exists; if not, create it\n",
    "if [ ! -d \"${onekg_reference_panel_dir}\" ]; then\n",
    "    echo \"Creating onekg_reference_panel directory...\"\n",
    "    mkdir -p \"${onekg_reference_panel_dir}\"\n",
    "fi\n",
    "\n",
    "echo\n",
    "\n",
    "# Download the VCF file for chromosome 21 from the 1000 Genomes FTP site\n",
    "echo \"Downloading chromosome 21...\"\n",
    "    \n",
    "wget --continue --retry-connrefused --timeout=60 --waitretry=60 --tries=20 --progress=bar:force \\\n",
    "    https://ftp.1000genomes.ebi.ac.uk/vol1/ftp/data_collections/1000G_2504_high_coverage/working/20220422_3202_phased_SNV_INDEL_SV/1kGP_high_coverage_Illumina.chr21.filtered.SNV_INDEL_SV_phased_panel.vcf.gz \\\n",
    "    -O ${onekg_reference_panel_dir}/1kGP_high_coverage_Illumina.chr21.filtered.SNV_INDEL_SV_phased_panel.vcf.gz\n",
    "\n",
    "bcftools index -t ${onekg_reference_panel_dir}/1kGP_high_coverage_Illumina.chr21.filtered.SNV_INDEL_SV_phased_panel.vcf.gz"
   ]
  },
  {
   "cell_type": "markdown",
   "metadata": {},
   "source": [
    "### Let's explore the data!"
   ]
  },
  {
   "cell_type": "code",
   "execution_count": null,
   "metadata": {},
   "outputs": [],
   "source": [
    "%%bash -s \"$references_directory\"\n",
    "\n",
    "# Receive directory variables from Python\n",
    "references_directory=$1\n",
    "\n",
    "# Define the directory for the 1000 Genomes reference panel\n",
    "onekg_reference_panel_dir=\"${references_directory}/onekg_reference_panel\"\n",
    "\n",
    "echo \"View the Header Information\"\n",
    "bcftools view -h ${onekg_reference_panel_dir}/1kGP_high_coverage_Illumina.chr21.filtered.SNV_INDEL_SV_phased_panel.vcf.gz\n"
   ]
  },
  {
   "cell_type": "code",
   "execution_count": null,
   "metadata": {},
   "outputs": [],
   "source": [
    "%%bash -s \"$references_directory\"\n",
    "\n",
    "# Receive directory variables from Python\n",
    "references_directory=$1\n",
    "\n",
    "# Define the directory for the 1000 Genomes reference panel\n",
    "onekg_reference_panel_dir=\"${references_directory}/onekg_reference_panel\"\n",
    "\n",
    "echo \"Get the number of samples\"\n",
    "bcftools query -l ${onekg_reference_panel_dir}/1kGP_high_coverage_Illumina.chr21.filtered.SNV_INDEL_SV_phased_panel.vcf.gz | wc -l\n",
    "\n",
    "echo \"Count the Number of Variants\"\n",
    "bcftools view -H ${onekg_reference_panel_dir}/1kGP_high_coverage_Illumina.chr21.filtered.SNV_INDEL_SV_phased_panel.vcf.gz | wc -l\n",
    "\n",
    "echo \"Get the stats\"\n",
    "bcftools stats ${onekg_reference_panel_dir}/1kGP_high_coverage_Illumina.chr21.filtered.SNV_INDEL_SV_phased_panel.vcf.gz"
   ]
  },
  {
   "cell_type": "code",
   "execution_count": null,
   "metadata": {},
   "outputs": [],
   "source": [
    "%%bash -s \"$references_directory\"\n",
    "\n",
    "# Receive directory variables from Python\n",
    "references_directory=$1\n",
    "\n",
    "# Define the directory for the 1000 Genomes reference panel\n",
    "onekg_reference_panel_dir=\"${references_directory}/onekg_reference_panel\"\n",
    "\n",
    "echo \"View the First Few Variants\"\n",
    "bcftools view -H ${onekg_reference_panel_dir}/1kGP_high_coverage_Illumina.chr21.filtered.SNV_INDEL_SV_phased_panel.vcf.gz | head -n 10\n",
    "\n",
    "echo \"Get the SNPs (10 of them)\"\n",
    "bcftools view -v snps ${onekg_reference_panel_dir}/1kGP_high_coverage_Illumina.chr21.filtered.SNV_INDEL_SV_phased_panel.vcf.gz | head -n 10\n",
    "\n",
    "echo \"Get Allele Frequencies\"\n",
    "bcftools query -f '%CHROM\\t%POS\\t%REF\\t%ALT\\t%AF\\n' ${onekg_reference_panel_dir}/1kGP_high_coverage_Illumina.chr21.filtered.SNV_INDEL_SV_phased_panel.vcf.gz | head -n 10\n",
    "\n",
    "echo \"Get the variants for a specific region\"\n",
    "bcftools view -r 21:20000000-21000000 ${onekg_reference_panel_dir}/1kGP_high_coverage_Illumina.chr21.filtered.SNV_INDEL_SV_phased_panel.vcf.gz | head -n 10"
   ]
  },
  {
   "cell_type": "markdown",
   "metadata": {
    "id": "dcilolfTgp9a"
   },
   "source": [
    "## Subsetting our data\n",
    "\n",
    "### Why Is It Necessary?\n",
    "\n",
    "As we dive deeper into genetic data analysis, it's important to manage computational resources effectively. Whole-genome VCF files from projects like the 1000 Genomes can be extremely large, often containing data for thousands of individuals across millions of genetic variants. Loading such extensive data into memory can be computationally intensive and may even cause the kernel to crash, as we've experienced.\n",
    "\n",
    "### Advantages of Subsetting\n",
    "\n",
    "1. **Reduced Computational Load**: By focusing on a subset of 500 individuals, we significantly reduce the computational resources needed for the analysis.\n",
    "\n",
    "2. **Faster Execution**: Smaller datasets mean that code will execute more quickly, allowing us to focus on the analysis rather than waiting for code to run.\n",
    "\n",
    "3. **Feasibility**: Not all personal computers will have the resources to handle large genomic datasets. Subsetting makes the tutorial more accessible.\n",
    "\n",
    "4. **Focused Analysis**: With fewer individuals, it's easier to explore the data in depth, which is particularly useful for educational purposes."
   ]
  },
  {
   "cell_type": "markdown",
   "metadata": {
    "id": "7xS7LryJgx5H"
   },
   "source": [
    "## Subsetting based on population"
   ]
  },
  {
   "cell_type": "code",
   "execution_count": null,
   "metadata": {
    "id": "njClncR-gxVl"
   },
   "outputs": [],
   "source": [
    "%%bash -s \"$references_directory\" \"$results_directory\"\n",
    "\n",
    "# Receive directory variables from Python\n",
    "references_directory=$1\n",
    "results_directory=$2\n",
    "\n",
    "# Define the directory for the 1000 Genomes reference panel\n",
    "onekg_reference_panel_dir=${references_directory}/onekg_reference_panel\n",
    "\n",
    "# Define the path to the metadata file\n",
    "onekg_metadata_file=${references_directory}/20140502_complete_sample_summary.txt\n",
    "\n",
    "# Define the populations to subset\n",
    "populations=(\"ASW\" \"ACB\")\n",
    "\n",
    "chromosome=21\n",
    "\n",
    "# Define the input VCF file path\n",
    "input_vcf=${onekg_reference_panel_dir}/1kGP_high_coverage_Illumina.chr${chromosome}.filtered.SNV_INDEL_SV_phased_panel.vcf.gz\n",
    "\n",
    "# Define the output VCF file path\n",
    "output_vcf=${onekg_reference_panel_dir}/1kGP_high_coverage_Illumina.chr${chromosome}.filtered.SNV_INDEL_SV_phased_panel.${populations[*]}.vcf.gz\n",
    "\n",
    "# Create a temporary file to store the sample names\n",
    "sample_file=${onekg_reference_panel_dir}/samples_${populations[*]}.txt\n",
    "\n",
    "# Extract sample names for the specified populations from the metadata file\n",
    "grep -E \"$(IFS='|'; echo \"${populations[*]}\")\" \"${onekg_metadata_file}\" | cut -f 1 > \"${sample_file}\"\n",
    "\n",
    "# Subset the VCF file for the specified populations\n",
    "bcftools view -S \"${sample_file}\" --force-samples -Oz -o \"${output_vcf}\" \"${input_vcf}\" 2>/dev/null\n",
    "\n",
    "# Index the subsetted VCF file\n",
    "tabix -p vcf \"${output_vcf}\"\n",
    "\n",
    "echo \"Get the number of samples\"\n",
    "bcftools query -l \"${onekg_reference_panel_dir}/1kGP_high_coverage_Illumina.chr${chromosome}.filtered.SNV_INDEL_SV_phased_panel.${populations[*]}.vcf.gz\" | wc -l\n",
    "\n",
    "echo \"Count the Number of Variants\"\n",
    "bcftools view -H \"${onekg_reference_panel_dir}/1kGP_high_coverage_Illumina.chr${chromosome}.filtered.SNV_INDEL_SV_phased_panel.${populations[*]}.vcf.gz\" | wc -l\n",
    "\n",
    "echo \"Get the stats\"\n",
    "bcftools stats \"${onekg_reference_panel_dir}/1kGP_high_coverage_Illumina.chr${chromosome}.filtered.SNV_INDEL_SV_phased_panel.${populations[*]}.vcf.gz\"\n"
   ]
  },
  {
   "cell_type": "markdown",
   "metadata": {
    "id": "hbQnSktB__z7"
   },
   "source": [
    "## Subsetting to 500 Individuals\n",
    "\n",
    "### Random Selection\n",
    "\n",
    "In the next cell, we will use `bcftools` to subset our VCF file to include only these 500 randomly selected individuals. This will make subsequent analyses more manageable and less resource-intensive."
   ]
  },
  {
   "cell_type": "code",
   "execution_count": null,
   "metadata": {
    "id": "DdB1yhxZlEdT"
   },
   "outputs": [],
   "source": [
    "%%bash -s \"$references_directory\"\n",
    "# Receive directory variables from Python\n",
    "references_directory=$1\n",
    "\n",
    "# Define the directory for the 1000 Genomes reference panel\n",
    "onekg_reference_panel_dir=\"${references_directory}/onekg_reference_panel\"\n",
    "\n",
    "# Define the populations\n",
    "populations=(\"ASW\" \"ACB\")\n",
    "\n",
    "chromosome=21\n",
    "\n",
    "# Define the input VCF file path\n",
    "input_vcf=${onekg_reference_panel_dir}/1kGP_high_coverage_Illumina.chr${chromosome}.filtered.SNV_INDEL_SV_phased_panel.vcf.gz\n",
    "\n",
    "# Extract sample names from the subsetted VCF file\n",
    "bcftools query -l \"${input_vcf}\" > \"${onekg_reference_panel_dir}/sample_ids_chr${chromosome}.txt\"\n",
    "\n",
    "# Randomly select 500 sample names\n",
    "shuf -n 500 \"${onekg_reference_panel_dir}/sample_ids_chr${chromosome}.txt\" > \"${onekg_reference_panel_dir}/random_500_sample_ids_chr${chromosome}.txt\"\n",
    "\n",
    "# Subset the VCF file based on the random 500 sample IDs\n",
    "bcftools view -S \"${onekg_reference_panel_dir}/random_500_sample_ids_chr${chromosome}.txt\" -Oz -o \"${onekg_reference_panel_dir}/subset_500_chr${chromosome}_random500.vcf.gz\" \"${input_vcf}\" 2>/dev/null\n",
    "\n",
    "# Index the subsetted VCF file\n",
    "tabix -p vcf \"${onekg_reference_panel_dir}/subset_500_chr${chromosome}_random500.vcf.gz\"\n",
    "\n",
    "echo \"Get the number of samples\"\n",
    "bcftools query -l \"${onekg_reference_panel_dir}/subset_500_chr${chromosome}_random500.vcf.gz\" | wc -l\n",
    "\n",
    "echo \"Count the Number of Variants\"\n",
    "bcftools view -H \"${onekg_reference_panel_dir}/subset_500_chr${chromosome}_random500.vcf.gz\" | wc -l\n",
    "\n",
    "echo \"Get the stats\"\n",
    "bcftools stats \"${onekg_reference_panel_dir}/subset_500_chr${chromosome}_random500.vcf.gz\"\n"
   ]
  }
 ],
 "metadata": {
  "colab": {
   "collapsed_sections": [
    "5YLZmdzT__z7",
    "Pl8hT8IF9HfZ",
    "AQgDONOF9iWU"
   ],
   "provenance": []
  },
  "kernelspec": {
   "display_name": ".venv",
   "language": "python",
   "name": "python3"
  },
  "language_info": {
   "codemirror_mode": {
    "name": "ipython",
    "version": 3
   },
   "file_extension": ".py",
   "mimetype": "text/x-python",
   "name": "python",
   "nbconvert_exporter": "python",
   "pygments_lexer": "ipython3",
   "version": "3.12.3"
  },
  "orig_nbformat": 4
 },
 "nbformat": 4,
 "nbformat_minor": 0
}