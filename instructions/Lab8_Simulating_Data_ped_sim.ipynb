{
 "cells": [
  {
   "cell_type": "code",
   "execution_count": 1,
   "metadata": {},
   "outputs": [
    {
     "name": "stderr",
     "output_type": "stream",
     "text": [
      "/home/davenport/computational_genetic_genealogy/.venv/lib/python3.12/site-packages/numpy/_core/getlimits.py:551: UserWarning: Signature b'\\x00\\xd0\\xcc\\xcc\\xcc\\xcc\\xcc\\xcc\\xfb\\xbf\\x00\\x00\\x00\\x00\\x00\\x00' for <class 'numpy.longdouble'> does not match any known type: falling back to type probe function.\n",
      "This warnings indicates broken support for the dtype!\n",
      "  machar = _get_machar(dtype)\n"
     ]
    }
   ],
   "source": [
    "import os\n",
    "from collections import Counter\n",
    "import logging\n",
    "import sys\n",
    "from pathlib import Path\n",
    "import subprocess\n",
    "import os\n",
    "import matplotlib.pyplot as plt\n",
    "import seaborn as sns\n",
    "from IPython.display import display, HTML\n",
    "import IPython\n",
    "import pandas as pd\n",
    "from tqdm import tqdm\n",
    "\n",
    "from dotenv import load_dotenv"
   ]
  },
  {
   "cell_type": "code",
   "execution_count": 2,
   "metadata": {},
   "outputs": [
    {
     "name": "stdout",
     "output_type": "stream",
     "text": [
      "Loaded environment variables from: /home/davenport/computational_genetic_genealogy/.env\n",
      "Working Directory: /home/davenport/computational_genetic_genealogy\n",
      "Data Directory: /home/davenport/computational_genetic_genealogy/data\n",
      "References Directory: /home/davenport/computational_genetic_genealogy/references\n",
      "Results Directory: /home/davenport/computational_genetic_genealogy/results\n",
      "Utils Directory: /home/davenport/computational_genetic_genealogy/utils\n",
      "The current directory is /home/davenport/computational_genetic_genealogy\n"
     ]
    }
   ],
   "source": [
    "def find_comp_gen_dir():\n",
    "    \"\"\"Find the computational_genetic_genealogy directory by searching up from current directory.\"\"\"\n",
    "    current = Path.cwd()\n",
    "    \n",
    "    # Search up through parent directories\n",
    "    while current != current.parent:\n",
    "        # Check if target directory exists in current path\n",
    "        target = current / 'computational_genetic_genealogy'\n",
    "        if target.is_dir():\n",
    "            return target\n",
    "        # Move up one directory\n",
    "        current = current.parent\n",
    "    \n",
    "    raise FileNotFoundError(\"Could not find computational_genetic_genealogy directory\")\n",
    "\n",
    "def load_env_file():\n",
    "    \"\"\"Find and load the .env file from the computational_genetic_genealogy directory.\"\"\"\n",
    "    try:\n",
    "        # Find the computational_genetic_genealogy directory\n",
    "        comp_gen_dir = find_comp_gen_dir()\n",
    "        \n",
    "        # Look for .env file\n",
    "        env_path = comp_gen_dir / '.env'\n",
    "        if not env_path.exists():\n",
    "            print(f\"Warning: No .env file found in {comp_gen_dir}\")\n",
    "            return None\n",
    "        \n",
    "        # Load the .env file\n",
    "        load_dotenv(env_path, override=True)\n",
    "        print(f\"Loaded environment variables from: {env_path}\")\n",
    "        return env_path\n",
    "        \n",
    "    except FileNotFoundError as e:\n",
    "        print(f\"Error: {e}\")\n",
    "        return None\n",
    "\n",
    "# Use the function\n",
    "env_path = load_env_file()\n",
    "\n",
    "working_directory = os.getenv('PROJECT_WORKING_DIR', default=None)\n",
    "data_directory = os.getenv('PROJECT_DATA_DIR', default=None)\n",
    "references_directory = os.getenv('PROJECT_REFERENCES_DIR', default=None)\n",
    "results_directory = os.getenv('PROJECT_RESULTS_DIR', default=None)\n",
    "utils_directory = os.getenv('PROJECT_UTILS_DIR', default=None)\n",
    "\n",
    "os.environ[\"WORKING_DIRECTORY\"] = working_directory\n",
    "os.environ[\"DATA_DIRECTORY\"] = data_directory\n",
    "os.environ[\"REFERENCES_DIRECTORY\"] = references_directory\n",
    "os.environ[\"RESULTS_DIRECTORY\"] = results_directory\n",
    "os.environ[\"UTILS_DIRECTORY\"] = utils_directory\n",
    "\n",
    "print(f\"Working Directory: {working_directory}\")\n",
    "print(f\"Data Directory: {data_directory}\")\n",
    "print(f\"References Directory: {references_directory}\")\n",
    "print(f\"Results Directory: {results_directory}\")\n",
    "print(f\"Utils Directory: {utils_directory}\")\n",
    "\n",
    "os.chdir(working_directory)\n",
    "print(f\"The current directory is {os.getcwd()}\")"
   ]
  },
  {
   "cell_type": "code",
   "execution_count": 3,
   "metadata": {},
   "outputs": [
    {
     "name": "stdout",
     "output_type": "stream",
     "text": [
      "The Lab 8 log file is located at /home/davenport/computational_genetic_genealogy/results/lab8.log.\n"
     ]
    }
   ],
   "source": [
    "def configure_logging(log_filename, log_file_debug_level=\"INFO\", console_debug_level=\"INFO\"):\n",
    "    \"\"\"\n",
    "    Configure logging for both file and console handlers.\n",
    "\n",
    "    Args:\n",
    "        log_filename (str): Path to the log file where logs will be written.\n",
    "        log_file_debug_level (str): Logging level for the file handler.\n",
    "        console_debug_level (str): Logging level for the console handler.\n",
    "    \"\"\"\n",
    "    # Create a root logger\n",
    "    logger = logging.getLogger()\n",
    "    logger.setLevel(logging.DEBUG)  # Capture all messages at the root level\n",
    "\n",
    "    # Convert level names to numeric levels\n",
    "    file_level = getattr(logging, log_file_debug_level.upper(), logging.INFO)\n",
    "    console_level = getattr(logging, console_debug_level.upper(), logging.INFO)\n",
    "\n",
    "    # File handler: Logs messages at file_level and above to the file\n",
    "    file_handler = logging.FileHandler(log_filename)\n",
    "    file_handler.setLevel(file_level)\n",
    "    file_formatter = logging.Formatter('%(asctime)s - %(levelname)s - %(message)s')\n",
    "    file_handler.setFormatter(file_formatter)\n",
    "\n",
    "    # Console handler: Logs messages at console_level and above to the console\n",
    "    console_handler = logging.StreamHandler(sys.stdout)\n",
    "    console_handler.setLevel(console_level)\n",
    "    console_formatter = logging.Formatter('%(asctime)s - %(levelname)s - %(message)s')\n",
    "    console_handler.setFormatter(console_formatter)\n",
    "\n",
    "    # Add handlers to the root logger\n",
    "    logger.addHandler(file_handler)\n",
    "    logger.addHandler(console_handler)\n",
    "    \n",
    "def clear_logger():\n",
    "    \"\"\"Remove all handlers from the root logger.\"\"\"\n",
    "    logger = logging.getLogger()\n",
    "    for handler in logger.handlers[:]:\n",
    "        logger.removeHandler(handler)\n",
    "        \n",
    "log_filename = os.path.join(results_directory, \"lab8.log\")\n",
    "print(f\"The Lab 8 log file is located at {log_filename}.\")\n",
    "\n",
    "# Ensure the results_directory exists\n",
    "if not os.path.exists(results_directory):\n",
    "    os.makedirs(results_directory)\n",
    "\n",
    "# Check if the file exists; if not, create it\n",
    "if not os.path.exists(log_filename):\n",
    "    with open(log_filename, 'w') as file:\n",
    "        pass  # The file is now created.\n",
    "    \n",
    "clear_logger() # Clear the logger before reconfiguring it\n",
    "configure_logging(log_filename, log_file_debug_level=\"INFO\", console_debug_level=\"INFO\")"
   ]
  },
  {
   "cell_type": "markdown",
   "metadata": {},
   "source": [
    "Go to Lab0_Code_Environment and run the set of code cells for **Install R** and **Install liftover**.\n",
    "\n",
    "Also, rerun `poetry install --no-root` to install new packages."
   ]
  },
  {
   "cell_type": "markdown",
   "metadata": {},
   "source": [
    "Ensure rpy2 Jupyter Extension is Loaded by running the next cell."
   ]
  },
  {
   "cell_type": "code",
   "execution_count": 4,
   "metadata": {},
   "outputs": [
    {
     "name": "stdout",
     "output_type": "stream",
     "text": [
      "2025-03-06 13:34:30,423 - INFO - cffi mode is CFFI_MODE.ANY\n",
      "2025-03-06 13:34:30,925 - INFO - R home found: /usr/lib/R\n",
      "2025-03-06 13:34:35,263 - INFO - R library path: /usr/lib/R/lib:/usr/lib/x86_64-linux-gnu:/usr/lib/jvm/default-java/lib/server\n",
      "2025-03-06 13:34:35,297 - INFO - LD_LIBRARY_PATH: /usr/lib/R/lib:/usr/lib/x86_64-linux-gnu:/usr/lib/jvm/default-java/lib/server\n",
      "2025-03-06 13:34:35,371 - INFO - Default options to initialize R: rpy2, --quiet, --no-save\n",
      "2025-03-06 13:34:37,437 - INFO - R is already initialized. No need to initialize.\n"
     ]
    }
   ],
   "source": [
    "%load_ext rpy2.ipython"
   ]
  },
  {
   "cell_type": "markdown",
   "metadata": {},
   "source": [
    "Now you can use cell magic for R."
   ]
  },
  {
   "cell_type": "code",
   "execution_count": 5,
   "metadata": {},
   "outputs": [
    {
     "name": "stdout",
     "output_type": "stream",
     "text": [
      "[1] 3\n"
     ]
    },
    {
     "data": {
      "text/plain": [
       "In addition: Warning message:\n",
       "In (function (package, help, pos = 2, lib.loc = NULL, character.only = FALSE,  :\n",
       "  libraries ‘/usr/local/lib/R/site-library’, ‘/usr/lib/R/site-library’ contain no packages\n"
      ]
     },
     "metadata": {},
     "output_type": "display_data"
    }
   ],
   "source": [
    "%%R\n",
    "\n",
    "x <- c(1, 2, 3, 4, 5)\n",
    "mean(x)"
   ]
  },
  {
   "cell_type": "markdown",
   "metadata": {},
   "source": [
    "Don't worry about the warning message about libraries containing no packages."
   ]
  },
  {
   "cell_type": "markdown",
   "metadata": {},
   "source": [
    "### Install `pedsite`."
   ]
  },
  {
   "cell_type": "code",
   "execution_count": 6,
   "metadata": {},
   "outputs": [
    {
     "name": "stderr",
     "output_type": "stream",
     "text": [
      "* installing *source* package ‘remotes’ ...\n",
      "** package ‘remotes’ successfully unpacked and MD5 sums checked\n",
      "** using staged installation\n",
      "** R\n",
      "** inst\n",
      "** byte-compile and prepare package for lazy loading\n",
      "** help\n",
      "*** installing help indices\n",
      "** building package indices\n",
      "** installing vignettes\n",
      "** testing if installed package can be loaded from temporary location\n",
      "** testing if installed package can be loaded from final location\n",
      "** testing if installed package keeps a record of temporary installation path\n",
      "* DONE (remotes)\n"
     ]
    },
    {
     "name": "stdout",
     "output_type": "stream",
     "text": [
      "[1] \"pedsuite loaded successfully!\"\n"
     ]
    },
    {
     "data": {
      "text/plain": [
       "Installing package into ‘/home/davenport/R/library’\n",
       "(as ‘lib’ is unspecified)\n",
       "trying URL 'https://cloud.r-project.org/src/contrib/remotes_2.5.0.tar.gz'\n",
       "Content type 'application/x-gzip' length 164496 bytes (160 KB)\n",
       "==================================================\n",
       "downloaded 160 KB\n",
       "\n",
       "\n",
       "The downloaded source packages are in\n",
       "\t‘/tmp/RtmpjycSkq/downloaded_packages’\n",
       "Loading required package: forrel\n",
       "Loading required package: pedtools\n",
       "Loading required package: pedprobr\n",
       "Loading required package: ribd\n",
       "Loading required package: verbalisr\n"
      ]
     },
     "metadata": {},
     "output_type": "display_data"
    }
   ],
   "source": [
    "%%R\n",
    "\n",
    "# Function to check and install remotes package\n",
    "# Provides functions to install R packages from GitHub, GitLab, Bitbucket, and other non-CRAN sources.\n",
    "if (!requireNamespace(\"remotes\", quietly = TRUE)) {\n",
    "  install.packages(\"remotes\", repos = \"https://cloud.r-project.org/\")\n",
    "}\n",
    "\n",
    "# Install pedsuite from GitHub (with dependencies)\n",
    "if (!requireNamespace(\"pedsuite\", quietly = TRUE)) {\n",
    "  remotes::install_github(\"magnusdv/pedsuite\", dependencies = TRUE)\n",
    "}\n",
    "\n",
    "# Load the package\n",
    "library(pedsuite)\n",
    "print(\"pedsuite loaded successfully!\")"
   ]
  },
  {
   "cell_type": "markdown",
   "metadata": {},
   "source": [
    "## Create Genetic Family Tree"
   ]
  },
  {
   "cell_type": "markdown",
   "metadata": {},
   "source": [
    "Now that you have R setup on your system, let's proceed with creating a genetic family tree."
   ]
  },
  {
   "cell_type": "markdown",
   "metadata": {},
   "source": [
    "Generate a cousin pedigree of degree 4 (as defined by pedsuite)\n",
    "\n",
    "We start with a base structure called cousinPed. (There are other base structures to choose from.)"
   ]
  },
  {
   "cell_type": "code",
   "execution_count": 7,
   "metadata": {},
   "outputs": [
    {
     "data": {
      "image/png": "[encoded data removed]",
      "text/plain": [
       "<IPython.core.display.Image object>"
      ]
     },
     "metadata": {},
     "output_type": "display_data"
    }
   ],
   "source": [
    "%%R\n",
    "\n",
    "x = cousinPed(degree = 4)\n",
    "\n",
    "plot(x)"
   ]
  },
  {
   "cell_type": "markdown",
   "metadata": {},
   "source": [
    "Notice in the pedigree plot that each individual has an assigned number.\n",
    "\n",
    "The assigned numbers for each individual is the identifier.\n",
    "\n",
    "Here, I am adding children using the identifiers.\n",
    "\n",
    "Note that nch is number of children.\n",
    "\n",
    "Note that sex = 1 is male and sex = 2 is female.\n",
    "\n",
    "Note that males are squares and females are circles."
   ]
  },
  {
   "cell_type": "markdown",
   "metadata": {},
   "source": [
    "Now that you have pedigree x, you can make adjustments. In this first adjustment, I am calling individual number 3 the father. I am calling individual number 4 the mother. Then I am adding 1 female child."
   ]
  },
  {
   "cell_type": "code",
   "execution_count": 8,
   "metadata": {},
   "outputs": [
    {
     "data": {
      "image/png": "[encoded data removed]",
      "text/plain": [
       "<IPython.core.display.Image object>"
      ]
     },
     "metadata": {},
     "output_type": "display_data"
    }
   ],
   "source": [
    "%%R\n",
    "\n",
    "x = addChildren(x, father = 3, mother = 4, nch = 1, sex = 2)\n",
    "\n",
    "x = addChildren(x, father = 5, mother = 6, nch = 1, sex = 2)\n",
    "x = addChildren(x, father = 7, mother = 8, nch = 1, sex = 2)\n",
    "x = addChildren(x, father = 9, mother = 10, nch = 1, sex = 2)\n",
    "x = addChildren(x, father = 11, mother = 12, nch = 1, sex = 2)\n",
    "x = addChildren(x, father = 13, mother = 14, nch = 1, sex = 2)\n",
    "x = addChildren(x, father = 15, mother = 16, nch = 1, sex = 2)\n",
    "x = addChildren(x, father = 17, mother = 18, nch = 1, sex = 2)\n",
    "\n",
    "plot(x)"
   ]
  },
  {
   "cell_type": "markdown",
   "metadata": {},
   "source": [
    "Notice how the pedigree changed. Take a moment to understand the changes that you made.\n",
    "\n",
    "I continue to make adjustments until I get the pedigree I want."
   ]
  },
  {
   "cell_type": "code",
   "execution_count": 9,
   "metadata": {},
   "outputs": [
    {
     "data": {
      "text/plain": [
       "Creating new father: 29\n",
       "Creating new father: 31\n",
       "Creating new father: 33\n",
       "Creating new father: 35\n",
       "Creating new father: 37\n",
       "Creating new father: 39\n"
      ]
     },
     "metadata": {},
     "output_type": "display_data"
    },
    {
     "data": {
      "image/png": "[encoded data removed]",
      "text/plain": [
       "<IPython.core.display.Image object>"
      ]
     },
     "metadata": {},
     "output_type": "display_data"
    }
   ],
   "source": [
    "%%R\n",
    "\n",
    "x = addChildren(x, mother = 21, nch = 1, sex = 1)\n",
    "x = addChildren(x, mother = 22, nch = 1, sex = 2)\n",
    "x = addChildren(x, mother = 23, nch = 1, sex = 1)\n",
    "x = addChildren(x, mother = 24, nch = 1, sex = 2)\n",
    "\n",
    "x = addChildren(x, mother = 25, nch = 1, sex = 1)\n",
    "x = addChildren(x, mother = 26, nch = 1, sex = 2)\n",
    "\n",
    "plot(x)"
   ]
  },
  {
   "cell_type": "code",
   "execution_count": 10,
   "metadata": {},
   "outputs": [
    {
     "data": {
      "text/plain": [
       "Creating new mother: 41\n",
       "Creating new mother: 43\n",
       "Creating new father: 45\n",
       "Creating new father: 47\n"
      ]
     },
     "metadata": {},
     "output_type": "display_data"
    },
    {
     "data": {
      "image/png": "[encoded data removed]",
      "text/plain": [
       "<IPython.core.display.Image object>"
      ]
     },
     "metadata": {},
     "output_type": "display_data"
    }
   ],
   "source": [
    "%%R\n",
    "\n",
    "x = addChildren(x, father = 30, nch = 1, sex = 2)\n",
    "x = addChildren(x, father = 34, nch = 1, sex = 2)\n",
    "x = addChildren(x, mother = 32, nch = 1, sex = 1)\n",
    "x = addChildren(x, mother = 36, nch = 1, sex = 1)\n",
    "\n",
    "plot(x)"
   ]
  },
  {
   "cell_type": "markdown",
   "metadata": {},
   "source": [
    "With this final adjustment, I have satisfied with the pedigree."
   ]
  },
  {
   "cell_type": "code",
   "execution_count": 11,
   "metadata": {},
   "outputs": [
    {
     "data": {
      "text/plain": [
       "Creating new father: 49\n",
       "Creating new mother: 51\n"
      ]
     },
     "metadata": {},
     "output_type": "display_data"
    },
    {
     "data": {
      "image/png": "[encoded data removed]",
      "text/plain": [
       "<IPython.core.display.Image object>"
      ]
     },
     "metadata": {},
     "output_type": "display_data"
    }
   ],
   "source": [
    "%%R\n",
    "\n",
    "x = addChildren(x, mother = 42, nch = 1, sex = 1)\n",
    "x = addChildren(x, father = 46, nch = 1, sex = 2)\n",
    "\n",
    "plot(x)"
   ]
  },
  {
   "cell_type": "markdown",
   "metadata": {},
   "source": [
    "Think about other adjustments that you could do. For example, how might you represent a man with three wives, each with a certain number of children?"
   ]
  },
  {
   "cell_type": "code",
   "execution_count": 12,
   "metadata": {},
   "outputs": [
    {
     "name": "stdout",
     "output_type": "stream",
     "text": [
      " id fid mid sex\n",
      "  1   *   *   1\n",
      "  2   *   *   2\n",
      "  3   1   2   1\n",
      "  4   *   *   2\n",
      "  5   1   2   1\n",
      "  6   *   *   2\n",
      "  7   3   4   1\n",
      "  8   *   *   2\n",
      "  9   5   6   1\n",
      " 10   *   *   2\n",
      " 11   7   8   1\n",
      " 12   *   *   2\n",
      " 13   9  10   1\n",
      " 14   *   *   2\n",
      " 15  11  12   1\n",
      " 16   *   *   2\n",
      " 17  13  14   1\n",
      " 18   *   *   2\n",
      " 19  15  16   1\n",
      " 20  17  18   1\n",
      " 21   3   4   2\n",
      " 22   5   6   2\n",
      " 23   7   8   2\n",
      " 24   9  10   2\n",
      " 25  11  12   2\n",
      " 26  13  14   2\n",
      " 27  15  16   2\n",
      " 28  17  18   2\n",
      " 29   *   *   1\n",
      " 30  29  21   1\n",
      " 31   *   *   1\n",
      " 32  31  22   2\n",
      " 33   *   *   1\n",
      " 34  33  23   1\n",
      " 35   *   *   1\n",
      " 36  35  24   2\n",
      " 37   *   *   1\n",
      " 38  37  25   1\n",
      " 39   *   *   1\n",
      " 40  39  26   2\n",
      " 41   *   *   2\n",
      " 42  30  41   2\n",
      " 43   *   *   2\n",
      " 44  34  43   2\n",
      " 45   *   *   1\n",
      " 46  45  32   1\n",
      " 47   *   *   1\n",
      " 48  47  36   1\n",
      " 49   *   *   1\n",
      " 50  49  42   1\n",
      " 51   *   *   2\n",
      " 52  46  51   2\n"
     ]
    }
   ],
   "source": [
    "%%R\n",
    "\n",
    "# Print the pedigree to check the structure\n",
    "\n",
    "print(x)"
   ]
  },
  {
   "cell_type": "markdown",
   "metadata": {},
   "source": [
    "In the output (you may need to select `scrollable element` or `text editor` to see the full output), you should see 52 rows. Each row represents one person in the tree you built. `id` is the individual identifier, `fid` is the father identifier and `mid` is the mother identifier. `sex` is the chromosomal sex where `1` = male and `2` = female."
   ]
  },
  {
   "cell_type": "markdown",
   "metadata": {},
   "source": [
    "Extract the genetic family tree created by pedsuite to a pandas dataframe."
   ]
  },
  {
   "cell_type": "code",
   "execution_count": 13,
   "metadata": {},
   "outputs": [],
   "source": [
    "%%R -o fam_df\n",
    "\n",
    "# Extract data using indexing (modify indices if needed)\n",
    "individual_id <- as.character(x$ID)\n",
    "father_id <- ifelse(x$FIDX == \"*\", 0, x$FIDX)\n",
    "mother_id <- ifelse(x$MIDX == \"*\", 0, x$MIDX)\n",
    "sex <- as.character(x$SEX)\n",
    "\n",
    "# Create data frame\n",
    "fam_df <- data.frame(\n",
    "  individual_id = individual_id,\n",
    "  father_id = father_id,\n",
    "  mother_id = mother_id,\n",
    "  sex = sex\n",
    ")"
   ]
  },
  {
   "cell_type": "markdown",
   "metadata": {},
   "source": [
    "In the next cell, you are back to using Python. Inspect the dataframe to make sure that it looks as intended."
   ]
  },
  {
   "cell_type": "code",
   "execution_count": 14,
   "metadata": {},
   "outputs": [
    {
     "name": "stdout",
     "output_type": "stream",
     "text": [
      "<class 'pandas.core.frame.DataFrame'>\n",
      "Index: 52 entries, 1 to 52\n",
      "Data columns (total 4 columns):\n",
      " #   Column         Non-Null Count  Dtype \n",
      "---  ------         --------------  ----- \n",
      " 0   individual_id  52 non-null     object\n",
      " 1   father_id      52 non-null     int32 \n",
      " 2   mother_id      52 non-null     int32 \n",
      " 3   sex            52 non-null     object\n",
      "dtypes: int32(2), object(2)\n",
      "memory usage: 1.6+ KB\n"
     ]
    }
   ],
   "source": [
    "fam_df = fam_df.copy()\n",
    "fam_df.info()"
   ]
  },
  {
   "cell_type": "markdown",
   "metadata": {},
   "source": [
    "You should see `Index: 52 entries, 1 to 52`."
   ]
  },
  {
   "cell_type": "code",
   "execution_count": 15,
   "metadata": {},
   "outputs": [
    {
     "data": {
      "text/html": [
       "<div>\n",
       "<style scoped>\n",
       "    .dataframe tbody tr th:only-of-type {\n",
       "        vertical-align: middle;\n",
       "    }\n",
       "\n",
       "    .dataframe tbody tr th {\n",
       "        vertical-align: top;\n",
       "    }\n",
       "\n",
       "    .dataframe thead th {\n",
       "        text-align: right;\n",
       "    }\n",
       "</style>\n",
       "<table border=\"1\" class=\"dataframe\">\n",
       "  <thead>\n",
       "    <tr style=\"text-align: right;\">\n",
       "      <th></th>\n",
       "      <th>individual_id</th>\n",
       "      <th>father_id</th>\n",
       "      <th>mother_id</th>\n",
       "      <th>sex</th>\n",
       "    </tr>\n",
       "  </thead>\n",
       "  <tbody>\n",
       "    <tr>\n",
       "      <th>1</th>\n",
       "      <td>1</td>\n",
       "      <td>0</td>\n",
       "      <td>0</td>\n",
       "      <td>1</td>\n",
       "    </tr>\n",
       "    <tr>\n",
       "      <th>2</th>\n",
       "      <td>2</td>\n",
       "      <td>0</td>\n",
       "      <td>0</td>\n",
       "      <td>2</td>\n",
       "    </tr>\n",
       "    <tr>\n",
       "      <th>3</th>\n",
       "      <td>3</td>\n",
       "      <td>1</td>\n",
       "      <td>2</td>\n",
       "      <td>1</td>\n",
       "    </tr>\n",
       "    <tr>\n",
       "      <th>4</th>\n",
       "      <td>4</td>\n",
       "      <td>0</td>\n",
       "      <td>0</td>\n",
       "      <td>2</td>\n",
       "    </tr>\n",
       "    <tr>\n",
       "      <th>5</th>\n",
       "      <td>5</td>\n",
       "      <td>1</td>\n",
       "      <td>2</td>\n",
       "      <td>1</td>\n",
       "    </tr>\n",
       "    <tr>\n",
       "      <th>6</th>\n",
       "      <td>6</td>\n",
       "      <td>0</td>\n",
       "      <td>0</td>\n",
       "      <td>2</td>\n",
       "    </tr>\n",
       "    <tr>\n",
       "      <th>7</th>\n",
       "      <td>7</td>\n",
       "      <td>3</td>\n",
       "      <td>4</td>\n",
       "      <td>1</td>\n",
       "    </tr>\n",
       "    <tr>\n",
       "      <th>8</th>\n",
       "      <td>8</td>\n",
       "      <td>0</td>\n",
       "      <td>0</td>\n",
       "      <td>2</td>\n",
       "    </tr>\n",
       "  </tbody>\n",
       "</table>\n",
       "</div>"
      ],
      "text/plain": [
       "  individual_id  father_id  mother_id sex\n",
       "1             1          0          0   1\n",
       "2             2          0          0   2\n",
       "3             3          1          2   1\n",
       "4             4          0          0   2\n",
       "5             5          1          2   1\n",
       "6             6          0          0   2\n",
       "7             7          3          4   1\n",
       "8             8          0          0   2"
      ]
     },
     "execution_count": 15,
     "metadata": {},
     "output_type": "execute_result"
    }
   ],
   "source": [
    "# Inspect the first 8 rows.\n",
    "# Compare them to the pedsuite pedigree.\n",
    "# (Note that we are using Python.)\n",
    "\n",
    "fam_df.head(8)"
   ]
  },
  {
   "cell_type": "markdown",
   "metadata": {},
   "source": [
    "Ped-sim needs a pedigree definition file, so let's go ahead and create that from the genetic family tree you created. (`FAM_ID` will be `FAM` for each person.)\n",
    "\n",
    "`ped-sim` comes with example pedigree definition files for you to use. You can find them in your `~/use/pedsim/example` directory. To get a more detailed explanation of how to create a pedigree definiton file, see [Def file](https://github.com/williamslab/ped-sim?tab=readme-ov-file#def-file). You difine the pedigree using a text file. When doing so, make sure it is using the UNIX/OSX Format. I use [Notepad++](https://notepad-plus-plus.org/downloads/) for these purposes, but you are free to use whichever text editor you want."
   ]
  },
  {
   "cell_type": "code",
   "execution_count": 16,
   "metadata": {},
   "outputs": [
    {
     "data": {
      "text/html": [
       "<div>\n",
       "<style scoped>\n",
       "    .dataframe tbody tr th:only-of-type {\n",
       "        vertical-align: middle;\n",
       "    }\n",
       "\n",
       "    .dataframe tbody tr th {\n",
       "        vertical-align: top;\n",
       "    }\n",
       "\n",
       "    .dataframe thead th {\n",
       "        text-align: right;\n",
       "    }\n",
       "</style>\n",
       "<table border=\"1\" class=\"dataframe\">\n",
       "  <thead>\n",
       "    <tr style=\"text-align: right;\">\n",
       "      <th></th>\n",
       "      <th>FAM_ID</th>\n",
       "      <th>INDIV_ID</th>\n",
       "      <th>FATHER_ID</th>\n",
       "      <th>MOTHER_ID</th>\n",
       "      <th>SEX</th>\n",
       "      <th>PHENO</th>\n",
       "    </tr>\n",
       "  </thead>\n",
       "  <tbody>\n",
       "    <tr>\n",
       "      <th>1</th>\n",
       "      <td>FAM</td>\n",
       "      <td>1</td>\n",
       "      <td>0</td>\n",
       "      <td>0</td>\n",
       "      <td>1</td>\n",
       "      <td>-9</td>\n",
       "    </tr>\n",
       "    <tr>\n",
       "      <th>2</th>\n",
       "      <td>FAM</td>\n",
       "      <td>2</td>\n",
       "      <td>0</td>\n",
       "      <td>0</td>\n",
       "      <td>2</td>\n",
       "      <td>-9</td>\n",
       "    </tr>\n",
       "    <tr>\n",
       "      <th>3</th>\n",
       "      <td>FAM</td>\n",
       "      <td>3</td>\n",
       "      <td>1</td>\n",
       "      <td>2</td>\n",
       "      <td>1</td>\n",
       "      <td>-9</td>\n",
       "    </tr>\n",
       "    <tr>\n",
       "      <th>4</th>\n",
       "      <td>FAM</td>\n",
       "      <td>4</td>\n",
       "      <td>0</td>\n",
       "      <td>0</td>\n",
       "      <td>2</td>\n",
       "      <td>-9</td>\n",
       "    </tr>\n",
       "    <tr>\n",
       "      <th>5</th>\n",
       "      <td>FAM</td>\n",
       "      <td>5</td>\n",
       "      <td>1</td>\n",
       "      <td>2</td>\n",
       "      <td>1</td>\n",
       "      <td>-9</td>\n",
       "    </tr>\n",
       "  </tbody>\n",
       "</table>\n",
       "</div>"
      ],
      "text/plain": [
       "  FAM_ID INDIV_ID  FATHER_ID  MOTHER_ID SEX  PHENO\n",
       "1    FAM        1          0          0   1     -9\n",
       "2    FAM        2          0          0   2     -9\n",
       "3    FAM        3          1          2   1     -9\n",
       "4    FAM        4          0          0   2     -9\n",
       "5    FAM        5          1          2   1     -9"
      ]
     },
     "metadata": {},
     "output_type": "display_data"
    }
   ],
   "source": [
    "# Rename the columns to match the required headers:\n",
    "# FAM_ID, INDIV_ID, FATHER_ID, MOTHER_ID, SEX, PHENO\n",
    "fam_df.rename(columns={\n",
    "    \"individual_id\": \"INDIV_ID\",\n",
    "    \"father_id\": \"FATHER_ID\",\n",
    "    \"mother_id\": \"MOTHER_ID\",\n",
    "    \"sex\": \"SEX\"\n",
    "}, inplace=True)\n",
    "\n",
    "fam_df[\"FAM_ID\"] = \"FAM\"\n",
    "fam_df[\"PHENO\"] = -9\n",
    "\n",
    "# Reorder columns if necessary\n",
    "fam_df = fam_df[[\"FAM_ID\", \"INDIV_ID\", \"FATHER_ID\", \"MOTHER_ID\", \"SEX\", \"PHENO\"]]\n",
    "\n",
    "# Display the first few rows to verify\n",
    "display(fam_df.head())\n",
    "\n",
    "# Save the updated file without header and index, using tab separation\n",
    "fam_df.to_csv(os.path.join(results_directory, \"pedigree.fam\"), sep=\"\\t\", index=False, header=False)"
   ]
  },
  {
   "cell_type": "code",
   "execution_count": 17,
   "metadata": {},
   "outputs": [
    {
     "name": "stdout",
     "output_type": "stream",
     "text": [
      "fam file, 'FAM' num individuals: 52\n",
      "fam file, 'FAM' num founders: 22\n",
      "\n",
      "def file, 'FAM' num individuals: 52\n",
      "def file, 'FAM' num founder: 22\n"
     ]
    }
   ],
   "source": [
    "!{utils_directory}/ped-sim/fam2def.py -i {results_directory}/pedigree.fam -o {results_directory}/pedigree.def"
   ]
  },
  {
   "cell_type": "markdown",
   "metadata": {},
   "source": [
    "Take a look at your pedigree.def file in the results directory."
   ]
  },
  {
   "cell_type": "markdown",
   "metadata": {},
   "source": [
    "How many simulationed pedigrees do you want?\n",
    "\n",
    "In a machine learning project, the answer would be as many as is needed to train your model well. For now, let's just try it out with `10`. When you run the next cell, a pop-up will appear for you to enter the number of pedigrees that you want."
   ]
  },
  {
   "cell_type": "code",
   "execution_count": 19,
   "metadata": {},
   "outputs": [
    {
     "name": "stdout",
     "output_type": "stream",
     "text": [
      "Updated /home/davenport/computational_genetic_genealogy/results/pedigree.def with num_pedigrees = 10\n"
     ]
    }
   ],
   "source": [
    "# Get user input for the number of pedigrees\n",
    "num_pedigrees = int(input(\"Enter the number of pedigrees to generate: \"))\n",
    "\n",
    "# Define input file path\n",
    "input_def_file = os.path.join(results_directory, \"pedigree.def\")\n",
    "\n",
    "# Read the file contents\n",
    "with open(input_def_file, \"r\") as file:\n",
    "    lines = file.readlines()\n",
    "\n",
    "# Modify the first line (only changing the second value)\n",
    "if lines[0].startswith(\"def\"):\n",
    "    parts = lines[0].split()  # Split the first line into parts\n",
    "    parts[2] = str(num_pedigrees)  # Update only the second value\n",
    "    lines[0] = \" \".join(parts) + \"\\n\"  # Reconstruct the modified line\n",
    "\n",
    "# Write back to the file\n",
    "with open(input_def_file, \"w\") as file:\n",
    "    file.writelines(lines)\n",
    "\n",
    "print(f\"Updated {input_def_file} with num_pedigrees = {num_pedigrees}\")"
   ]
  },
  {
   "cell_type": "markdown",
   "metadata": {},
   "source": [
    "Take another look at your pedigree.def file in the results directory. The def line has changed to reflect the number of pedigrees you said you wanted."
   ]
  },
  {
   "cell_type": "markdown",
   "metadata": {},
   "source": [
    "## Ped-sim method"
   ]
  },
  {
   "cell_type": "markdown",
   "metadata": {},
   "source": [
    "The Pedigree Simulator (Ped-sim) is a powerful tool for simulating pedigree structures that use sex-specific genetic maps and considers sex of the individual. To get it up and running on your system, you'll need to download and compile it in your computing space if it is not already there.\n",
    "\n",
    "Here is the ped-sim GitHub page for your reference: [ped-sim](https://github.com/williamslab/ped-sim)."
   ]
  },
  {
   "cell_type": "markdown",
   "metadata": {},
   "source": [
    "### Sex-specific Genetic Map\n",
    "\n",
    "From [Map file](https://github.com/williamslab/ped-sim?tab=readme-ov-file#map-file-):\n",
    "\n",
    "\"The genetic map file contains three columns for a sex-averaged map and four columns if using male and female maps. The format of this file is:\n",
    "\n",
    "`[chromosome] [physical_position] [map_position0] <map_position1>`\n",
    "\n",
    "The chromosomes are expected to be listed in the same order as they are in any input VCF file, with the physical positions in increasing order. The chromosome names must also match the names in the input VCF file, and all chromosome names present in the map must also have corresponding records in the VCF.\n",
    "\n",
    "[map_position0] is genetic position in centiMorgans, and should either be the sex-averaged genetic position if using only one map, or should be the male genetic position if using two maps. When using only one map, the simulator samples all crossovers from that one map and does not distinguish male and female parents.\n",
    "\n",
    "<map_position1> is likewise a genetic position in centiMorgans and should correspond to the female genetic position if given.\n",
    "\n",
    "A high resolution human sex-specific genetic map is available [here](https://github.com/cbherer/Bherer_etal_SexualDimorphismRecombination), and is described in [Bhérer et al. (2017)](https://www.nature.com/articles/ncomms14994). To generate an autosomal map file in the format the simulator requires with both male and female genetic positions, run the following bash commands:\""
   ]
  },
  {
   "cell_type": "code",
   "execution_count": 20,
   "metadata": {},
   "outputs": [
    {
     "name": "stderr",
     "output_type": "stream",
     "text": [
      "--2025-03-06 13:43:56--  https://github.com/cbherer/Bherer_etal_SexualDimorphismRecombination/raw/master/Refined_genetic_map_b37.tar.gz\n",
      "Resolving github.com (github.com)... 140.82.114.4\n",
      "Connecting to github.com (github.com)|140.82.114.4|:443... connected.\n",
      "HTTP request sent, awaiting response... 302 Found\n",
      "Location: https://raw.githubusercontent.com/cbherer/Bherer_etal_SexualDimorphismRecombination/master/Refined_genetic_map_b37.tar.gz [following]\n",
      "--2025-03-06 13:43:56--  https://raw.githubusercontent.com/cbherer/Bherer_etal_SexualDimorphismRecombination/master/Refined_genetic_map_b37.tar.gz\n",
      "Resolving raw.githubusercontent.com (raw.githubusercontent.com)... 185.199.109.133, 185.199.110.133, 185.199.111.133, ...\n",
      "Connecting to raw.githubusercontent.com (raw.githubusercontent.com)|185.199.109.133|:443... connected.\n",
      "HTTP request sent, awaiting response... 200 OK\n",
      "Length: 41278300 (39M) [application/octet-stream]\n",
      "Saving to: ‘/home/davenport/computational_genetic_genealogy/references/Refined_genetic_map_b37.tar.gz’\n",
      "\n",
      "     0K .......... .......... .......... .......... ..........  0% 22.6M 2s\n",
      "    50K .......... .......... .......... .......... ..........  0%  102M 1s\n",
      "   100K .......... .......... .......... .......... ..........  0%  102M 1s\n",
      "   150K .......... .......... .......... .......... ..........  0%  112M 1s\n",
      "   200K .......... .......... .......... .......... ..........  0% 90.7M 1s\n",
      "   250K .......... .......... .......... .......... ..........  0% 65.1M 1s\n",
      "   300K .......... .......... .......... .......... ..........  0% 66.3M 1s\n",
      "   350K .......... .......... .......... .......... ..........  0% 56.5M 1s\n",
      "   400K .......... .......... .......... .......... ..........  1% 77.9M 1s\n",
      "   450K .......... .......... .......... .......... ..........  1% 93.3M 1s\n",
      "   500K .......... .......... .......... .......... ..........  1%  970K 4s\n",
      "   550K .......... .......... .......... .......... ..........  1%  762K 8s\n",
      "   600K .......... .......... .......... .......... ..........  1% 42.9M 8s\n",
      "   650K .......... .......... .......... .......... ..........  1% 91.2M 7s\n",
      "   700K .......... .......... .......... .......... ..........  1% 99.0M 7s\n",
      "   750K .......... .......... .......... .......... ..........  1% 75.7M 6s\n",
      "   800K .......... .......... .......... .......... ..........  2%  100M 6s\n",
      "   850K .......... .......... .......... .......... ..........  2%  106M 6s\n",
      "   900K .......... .......... .......... .......... ..........  2% 93.4M 5s\n",
      "   950K .......... .......... .......... .......... ..........  2% 89.7M 5s\n",
      "  1000K .......... .......... .......... .......... ..........  2% 82.9M 5s\n",
      "  1050K .......... .......... .......... .......... ..........  2%  103M 5s\n",
      "  1100K .......... .......... .......... .......... ..........  2%  106M 4s\n",
      "  1150K .......... .......... .......... .......... ..........  2% 82.2M 4s\n",
      "  1200K .......... .......... .......... .......... ..........  3% 91.5M 4s\n",
      "  1250K .......... .......... .......... .......... ..........  3% 83.0M 4s\n",
      "  1300K .......... .......... .......... .......... ..........  3%  829K 6s\n",
      "  1350K .......... .......... .......... .......... ..........  3% 41.6M 5s\n",
      "  1400K .......... .......... .......... .......... ..........  3% 45.2M 5s\n",
      "  1450K .......... .......... .......... .......... ..........  3% 75.4M 5s\n",
      "  1500K .......... .......... .......... .......... ..........  3% 58.0M 5s\n",
      "  1550K .......... .......... .......... .......... ..........  3% 28.7M 5s\n",
      "  1600K .......... .......... .......... .......... ..........  4%  108M 5s\n",
      "  1650K .......... .......... .......... .......... ..........  4% 91.1M 5s\n",
      "  1700K .......... .......... .......... .......... ..........  4% 87.5M 4s\n",
      "  1750K .......... .......... .......... .......... ..........  4%  683K 6s\n",
      "  1800K .......... .......... .......... .......... ..........  4% 35.3M 6s\n",
      "  1850K .......... .......... .......... .......... ..........  4% 58.9M 6s\n",
      "  1900K .......... .......... .......... .......... ..........  4% 75.6M 5s\n",
      "  1950K .......... .......... .......... .......... ..........  4% 86.2M 5s\n",
      "  2000K .......... .......... .......... .......... ..........  5% 94.5M 5s\n",
      "  2050K .......... .......... .......... .......... ..........  5% 73.3M 5s\n",
      "  2100K .......... .......... .......... .......... ..........  5%  969K 6s\n",
      "  2150K .......... .......... .......... .......... ..........  5% 85.2M 6s\n",
      "  2200K .......... .......... .......... .......... ..........  5% 90.6M 6s\n",
      "  2250K .......... .......... .......... .......... ..........  5% 89.1M 5s\n",
      "  2300K .......... .......... .......... .......... ..........  5% 91.6M 5s\n",
      "  2350K .......... .......... .......... .......... ..........  5% 90.2M 5s\n",
      "  2400K .......... .......... .......... .......... ..........  6% 91.7M 5s\n",
      "  2450K .......... .......... .......... .......... ..........  6% 79.8M 5s\n",
      "  2500K .......... .......... .......... .......... ..........  6%  102M 5s\n",
      "  2550K .......... .......... .......... .......... ..........  6% 91.4M 5s\n",
      "  2600K .......... .......... .......... .......... ..........  6%  676K 6s\n",
      "  2650K .......... .......... .......... .......... ..........  6% 1010K 6s\n",
      "  2700K .......... .......... .......... .......... ..........  6%  427K 8s\n",
      "  2750K .......... .......... .......... .......... ..........  6% 1.08M 8s\n",
      "  2800K .......... .......... .......... .......... ..........  7% 61.2M 8s\n",
      "  2850K .......... .......... .......... .......... ..........  7%  562K 9s\n",
      "  2900K .......... .......... .......... .......... ..........  7%  654K 10s\n",
      "  2950K .......... .......... .......... .......... ..........  7%  984K 10s\n",
      "  3000K .......... .......... .......... .......... ..........  7% 1.15M 11s\n",
      "  3050K .......... .......... .......... .......... ..........  7%  979K 11s\n",
      "  3100K .......... .......... .......... .......... ..........  7% 1.07M 12s\n",
      "  3150K .......... .......... .......... .......... ..........  7% 1018K 12s\n",
      "  3200K .......... .......... .......... .......... ..........  8% 1.16M 12s\n",
      "  3250K .......... .......... .......... .......... ..........  8%  680K 13s\n",
      "  3300K .......... .......... .......... .......... ..........  8%  866K 13s\n",
      "  3350K .......... .......... .......... .......... ..........  8% 1.65M 13s\n",
      "  3400K .......... .......... .......... .......... ..........  8% 1.19M 14s\n",
      "  3450K .......... .......... .......... .......... ..........  8% 1.14M 14s\n",
      "  3500K .......... .......... .......... .......... ..........  8% 25.7M 14s\n",
      "  3550K .......... .......... .......... .......... ..........  8% 31.6M 13s\n",
      "  3600K .......... .......... .......... .......... ..........  9% 60.4M 13s\n",
      "  3650K .......... .......... .......... .......... ..........  9% 54.2M 13s\n",
      "  3700K .......... .......... .......... .......... ..........  9% 58.5M 13s\n",
      "  3750K .......... .......... .......... .......... ..........  9% 87.5M 13s\n",
      "  3800K .......... .......... .......... .......... ..........  9% 75.4M 12s\n",
      "  3850K .......... .......... .......... .......... ..........  9% 71.4M 12s\n",
      "  3900K .......... .......... .......... .......... ..........  9% 73.3M 12s\n",
      "  3950K .......... .......... .......... .......... ..........  9% 88.4M 12s\n",
      "  4000K .......... .......... .......... .......... .......... 10% 69.5M 12s\n",
      "  4050K .......... .......... .......... .......... .......... 10% 6.91M 12s\n",
      "  4100K .......... .......... .......... .......... .......... 10%  592K 12s\n",
      "  4150K .......... .......... .......... .......... .......... 10% 72.7M 12s\n",
      "  4200K .......... .......... .......... .......... .......... 10%  715K 13s\n",
      "  4250K .......... .......... .......... .......... .......... 10%  849K 13s\n",
      "  4300K .......... .......... .......... .......... .......... 10%  587K 13s\n",
      "  4350K .......... .......... .......... .......... .......... 10%  430K 14s\n",
      "  4400K .......... .......... .......... .......... .......... 11%  736K 15s\n",
      "  4450K .......... .......... .......... .......... .......... 11% 1.27M 15s\n",
      "  4500K .......... .......... .......... .......... .......... 11% 1.22M 15s\n",
      "  4550K .......... .......... .......... .......... .......... 11%  915K 15s\n",
      "  4600K .......... .......... .......... .......... .......... 11% 1.14M 15s\n",
      "  4650K .......... .......... .......... .......... .......... 11% 1.25M 15s\n",
      "  4700K .......... .......... .......... .......... .......... 11% 1010K 16s\n",
      "  4750K .......... .......... .......... .......... .......... 11% 1.37M 16s\n",
      "  4800K .......... .......... .......... .......... .......... 12% 10.2M 15s\n",
      "  4850K .......... .......... .......... .......... .......... 12% 78.5M 15s\n",
      "  4900K .......... .......... .......... .......... .......... 12% 73.4M 15s\n",
      "  4950K .......... .......... .......... .......... .......... 12% 74.8M 15s\n",
      "  5000K .......... .......... .......... .......... .......... 12% 60.7M 15s\n",
      "  5050K .......... .......... .......... .......... .......... 12% 1.50M 15s\n",
      "  5100K .......... .......... .......... .......... .......... 12% 56.1M 15s\n",
      "  5150K .......... .......... .......... .......... .......... 12% 67.4M 15s\n",
      "  5200K .......... .......... .......... .......... .......... 13% 57.4M 14s\n",
      "  5250K .......... .......... .......... .......... .......... 13% 74.4M 14s\n",
      "  5300K .......... .......... .......... .......... .......... 13% 2.21M 14s\n",
      "  5350K .......... .......... .......... .......... .......... 13% 66.2M 14s\n",
      "  5400K .......... .......... .......... .......... .......... 13% 48.1M 14s\n",
      "  5450K .......... .......... .......... .......... .......... 13% 3.84M 14s\n",
      "  5500K .......... .......... .......... .......... .......... 13% 1.12M 14s\n",
      "  5550K .......... .......... .......... .......... .......... 13% 1.22M 14s\n",
      "  5600K .......... .......... .......... .......... .......... 14% 1.25M 14s\n",
      "  5650K .......... .......... .......... .......... .......... 14% 1.26M 14s\n",
      "  5700K .......... .......... .......... .......... .......... 14% 1.03M 14s\n",
      "  5750K .......... .......... .......... .......... .......... 14% 1.41M 14s\n",
      "  5800K .......... .......... .......... .......... .......... 14% 1.19M 15s\n",
      "  5850K .......... .......... .......... .......... .......... 14%  800K 15s\n",
      "  5900K .......... .......... .......... .......... .......... 14% 1.19M 15s\n",
      "  5950K .......... .......... .......... .......... .......... 14% 2.96M 15s\n",
      "  6000K .......... .......... .......... .......... .......... 15% 1.38M 15s\n",
      "  6050K .......... .......... .......... .......... .......... 15% 1.08M 15s\n",
      "  6100K .......... .......... .......... .......... .......... 15% 1.13M 15s\n",
      "  6150K .......... .......... .......... .......... .......... 15% 1.43M 15s\n",
      "  6200K .......... .......... .......... .......... .......... 15% 5.23M 15s\n",
      "  6250K .......... .......... .......... .......... .......... 15%  623K 15s\n",
      "  6300K .......... .......... .......... .......... .......... 15% 1.44M 15s\n",
      "  6350K .......... .......... .......... .......... .......... 15% 1.56M 15s\n",
      "  6400K .......... .......... .......... .......... .......... 16% 6.80M 15s\n",
      "  6450K .......... .......... .......... .......... .......... 16% 63.1M 15s\n",
      "  6500K .......... .......... .......... .......... .......... 16% 74.3M 15s\n",
      "  6550K .......... .......... .......... .......... .......... 16% 75.8M 15s\n",
      "  6600K .......... .......... .......... .......... .......... 16% 84.2M 15s\n",
      "  6650K .......... .......... .......... .......... .......... 16% 61.1M 15s\n",
      "  6700K .......... .......... .......... .......... .......... 16% 75.1M 15s\n",
      "  6750K .......... .......... .......... .......... .......... 16% 75.0M 14s\n",
      "  6800K .......... .......... .......... .......... .......... 16% 83.0M 14s\n",
      "  6850K .......... .......... .......... .......... .......... 17% 57.5M 14s\n",
      "  6900K .......... .......... .......... .......... .......... 17% 1.20M 14s\n",
      "  6950K .......... .......... .......... .......... .......... 17% 1.66M 14s\n",
      "  7000K .......... .......... .......... .......... .......... 17% 72.5M 14s\n",
      "  7050K .......... .......... .......... .......... .......... 17% 70.9M 14s\n",
      "  7100K .......... .......... .......... .......... .......... 17% 75.1M 14s\n",
      "  7150K .......... .......... .......... .......... .......... 17% 1.97M 14s\n",
      "  7200K .......... .......... .......... .......... .......... 17% 2.52M 14s\n",
      "  7250K .......... .......... .......... .......... .......... 18% 2.07M 14s\n",
      "  7300K .......... .......... .......... .......... .......... 18% 1.06M 14s\n",
      "  7350K .......... .......... .......... .......... .......... 18% 2.08M 14s\n",
      "  7400K .......... .......... .......... .......... .......... 18% 1.02M 14s\n",
      "  7450K .......... .......... .......... .......... .......... 18% 2.24M 14s\n",
      "  7500K .......... .......... .......... .......... .......... 18% 1.02M 14s\n",
      "  7550K .......... .......... .......... .......... .......... 18% 1.85M 14s\n",
      "  7600K .......... .......... .......... .......... .......... 18% 1.26M 14s\n",
      "  7650K .......... .......... .......... .......... .......... 19% 3.32M 14s\n",
      "  7700K .......... .......... .......... .......... .......... 19%  662K 14s\n",
      "  7750K .......... .......... .......... .......... .......... 19% 57.5M 14s\n",
      "  7800K .......... .......... .......... .......... .......... 19% 90.1M 14s\n",
      "  7850K .......... .......... .......... .......... .......... 19% 11.5M 14s\n",
      "  7900K .......... .......... .......... .......... .......... 19% 1.44M 14s\n",
      "  7950K .......... .......... .......... .......... .......... 19% 30.5M 14s\n",
      "  8000K .......... .......... .......... .......... .......... 19% 32.2M 14s\n",
      "  8050K .......... .......... .......... .......... .......... 20% 84.0M 14s\n",
      "  8100K .......... .......... .......... .......... .......... 20% 71.8M 14s\n",
      "  8150K .......... .......... .......... .......... .......... 20% 61.3M 14s\n",
      "  8200K .......... .......... .......... .......... .......... 20% 66.0M 13s\n",
      "  8250K .......... .......... .......... .......... .......... 20% 84.8M 13s\n",
      "  8300K .......... .......... .......... .......... .......... 20% 82.3M 13s\n",
      "  8350K .......... .......... .......... .......... .......... 20% 66.7M 13s\n",
      "  8400K .......... .......... .......... .......... .......... 20% 84.6M 13s\n",
      "  8450K .......... .......... .......... .......... .......... 21% 83.9M 13s\n",
      "  8500K .......... .......... .......... .......... .......... 21% 1.43M 13s\n",
      "  8550K .......... .......... .......... .......... .......... 21% 1011K 13s\n",
      "  8600K .......... .......... .......... .......... .......... 21% 1.20M 13s\n",
      "  8650K .......... .......... .......... .......... .......... 21%  854K 13s\n",
      "  8700K .......... .......... .......... .......... .......... 21% 59.8M 13s\n",
      "  8750K .......... .......... .......... .......... .......... 21% 1.08M 13s\n",
      "  8800K .......... .......... .......... .......... .......... 21% 1.26M 13s\n",
      "  8850K .......... .......... .......... .......... .......... 22% 1.26M 13s\n",
      "  8900K .......... .......... .......... .......... .......... 22% 21.7M 13s\n",
      "  8950K .......... .......... .......... .......... .......... 22%  457K 13s\n",
      "  9000K .......... .......... .......... .......... .......... 22% 2.35M 13s\n",
      "  9050K .......... .......... .......... .......... .......... 22% 1.85M 13s\n",
      "  9100K .......... .......... .......... .......... .......... 22% 60.9M 13s\n",
      "  9150K .......... .......... .......... .......... .......... 22% 41.1M 13s\n",
      "  9200K .......... .......... .......... .......... .......... 22% 57.2M 13s\n",
      "  9250K .......... .......... .......... .......... .......... 23% 65.0M 13s\n",
      "  9300K .......... .......... .......... .......... .......... 23% 88.7M 13s\n",
      "  9350K .......... .......... .......... .......... .......... 23% 75.2M 13s\n",
      "  9400K .......... .......... .......... .......... .......... 23% 7.28M 13s\n",
      "  9450K .......... .......... .......... .......... .......... 23% 1.57M 13s\n",
      "  9500K .......... .......... .......... .......... .......... 23% 40.1M 13s\n",
      "  9550K .......... .......... .......... .......... .......... 23% 69.8M 13s\n",
      "  9600K .......... .......... .......... .......... .......... 23% 86.9M 13s\n",
      "  9650K .......... .......... .......... .......... .......... 24% 65.3M 13s\n",
      "  9700K .......... .......... .......... .......... .......... 24% 87.3M 12s\n",
      "  9750K .......... .......... .......... .......... .......... 24% 6.90M 12s\n",
      "  9800K .......... .......... .......... .......... .......... 24% 1.26M 12s\n",
      "  9850K .......... .......... .......... .......... .......... 24% 19.1M 12s\n",
      "  9900K .......... .......... .......... .......... .......... 24%  639K 12s\n",
      "  9950K .......... .......... .......... .......... .......... 24% 1.28M 13s\n",
      " 10000K .......... .......... .......... .......... .......... 24% 1.09M 13s\n",
      " 10050K .......... .......... .......... .......... .......... 25% 1.14M 13s\n",
      " 10100K .......... .......... .......... .......... .......... 25% 1.18M 13s\n",
      " 10150K .......... .......... .......... .......... .......... 25% 1.11M 13s\n",
      " 10200K .......... .......... .......... .......... .......... 25% 1.16M 13s\n",
      " 10250K .......... .......... .......... .......... .......... 25% 1.15M 13s\n",
      " 10300K .......... .......... .......... .......... .......... 25% 1.17M 13s\n",
      " 10350K .......... .......... .......... .......... .......... 25% 43.0M 13s\n",
      " 10400K .......... .......... .......... .......... .......... 25% 62.0M 13s\n",
      " 10450K .......... .......... .......... .......... .......... 26% 51.5M 13s\n",
      " 10500K .......... .......... .......... .......... .......... 26% 54.6M 13s\n",
      " 10550K .......... .......... .......... .......... .......... 26% 66.2M 12s\n",
      " 10600K .......... .......... .......... .......... .......... 26% 56.6M 12s\n",
      " 10650K .......... .......... .......... .......... .......... 26% 1.24M 12s\n",
      " 10700K .......... .......... .......... .......... .......... 26% 1.31M 12s\n",
      " 10750K .......... .......... .......... .......... .......... 26% 16.9M 12s\n",
      " 10800K .......... .......... .......... .......... .......... 26% 84.6M 12s\n",
      " 10850K .......... .......... .......... .......... .......... 27% 71.6M 12s\n",
      " 10900K .......... .......... .......... .......... .......... 27% 1.13M 12s\n",
      " 10950K .......... .......... .......... .......... .......... 27% 1.08M 12s\n",
      " 11000K .......... .......... .......... .......... .......... 27% 1.02M 12s\n",
      " 11050K .......... .......... .......... .......... .......... 27% 1.17M 12s\n",
      " 11100K .......... .......... .......... .......... .......... 27%  847K 12s\n",
      " 11150K .......... .......... .......... .......... .......... 27% 1.05M 12s\n",
      " 11200K .......... .......... .......... .......... .......... 27% 1.08M 13s\n",
      " 11250K .......... .......... .......... .......... .......... 28% 1.47M 13s\n",
      " 11300K .......... .......... .......... .......... .......... 28% 1.27M 13s\n",
      " 11350K .......... .......... .......... .......... .......... 28%  565K 13s\n",
      " 11400K .......... .......... .......... .......... .......... 28%  995K 13s\n",
      " 11450K .......... .......... .......... .......... .......... 28% 1.15M 13s\n",
      " 11500K .......... .......... .......... .......... .......... 28%  636K 13s\n",
      " 11550K .......... .......... .......... .......... .......... 28%  233K 13s\n",
      " 11600K .......... .......... .......... .......... .......... 28%  576K 13s\n",
      " 11650K .......... .......... .......... .......... .......... 29% 45.2M 13s\n",
      " 11700K .......... .......... .......... .......... .......... 29% 54.6M 13s\n",
      " 11750K .......... .......... .......... .......... .......... 29% 48.7M 13s\n",
      " 11800K .......... .......... .......... .......... .......... 29% 1.03M 13s\n",
      " 11850K .......... .......... .......... .......... .......... 29% 1.09M 13s\n",
      " 11900K .......... .......... .......... .......... .......... 29% 60.4M 13s\n",
      " 11950K .......... .......... .......... .......... .......... 29% 1.03M 13s\n",
      " 12000K .......... .......... .......... .......... .......... 29% 69.2M 13s\n",
      " 12050K .......... .......... .......... .......... .......... 30% 89.2M 13s\n",
      " 12100K .......... .......... .......... .......... .......... 30% 76.3M 13s\n",
      " 12150K .......... .......... .......... .......... .......... 30% 69.3M 13s\n",
      " 12200K .......... .......... .......... .......... .......... 30% 78.6M 13s\n",
      " 12250K .......... .......... .......... .......... .......... 30% 69.6M 13s\n",
      " 12300K .......... .......... .......... .......... .......... 30%  619K 13s\n",
      " 12350K .......... .......... .......... .......... .......... 30% 63.8M 13s\n",
      " 12400K .......... .......... .......... .......... .......... 30% 75.9M 13s\n",
      " 12450K .......... .......... .......... .......... .......... 31% 81.0M 13s\n",
      " 12500K .......... .......... .......... .......... .......... 31% 92.8M 13s\n",
      " 12550K .......... .......... .......... .......... .......... 31% 68.4M 13s\n",
      " 12600K .......... .......... .......... .......... .......... 31% 81.2M 12s\n",
      " 12650K .......... .......... .......... .......... .......... 31% 1014K 13s\n",
      " 12700K .......... .......... .......... .......... .......... 31%  907K 13s\n",
      " 12750K .......... .......... .......... .......... .......... 31% 1.23M 13s\n",
      " 12800K .......... .......... .......... .......... .......... 31% 70.5M 13s\n",
      " 12850K .......... .......... .......... .......... .......... 32% 77.4M 12s\n",
      " 12900K .......... .......... .......... .......... .......... 32% 1.21M 12s\n",
      " 12950K .......... .......... .......... .......... .......... 32% 73.3M 12s\n",
      " 13000K .......... .......... .......... .......... .......... 32% 78.6M 12s\n",
      " 13050K .......... .......... .......... .......... .......... 32%  926K 12s\n",
      " 13100K .......... .......... .......... .......... .......... 32%  639K 12s\n",
      " 13150K .......... .......... .......... .......... .......... 32%  603K 13s\n",
      " 13200K .......... .......... .......... .......... .......... 32% 5.71M 13s\n",
      " 13250K .......... .......... .......... .......... .......... 32%  637K 13s\n",
      " 13300K .......... .......... .......... .......... .......... 33%  727K 13s\n",
      " 13350K .......... .......... .......... .......... .......... 33% 6.98M 13s\n",
      " 13400K .......... .......... .......... .......... .......... 33%  320K 13s\n",
      " 13450K .......... .......... .......... .......... .......... 33% 1.29M 13s\n",
      " 13500K .......... .......... .......... .......... .......... 33% 3.11M 13s\n",
      " 13550K .......... .......... .......... .......... .......... 33%  730K 13s\n",
      " 13600K .......... .......... .......... .......... .......... 33% 3.62M 13s\n",
      " 13650K .......... .......... .......... .......... .......... 33% 71.0M 13s\n",
      " 13700K .......... .......... .......... .......... .......... 34% 65.3M 13s\n",
      " 13750K .......... .......... .......... .......... .......... 34% 76.3M 13s\n",
      " 13800K .......... .......... .......... .......... .......... 34% 58.4M 13s\n",
      " 13850K .......... .......... .......... .......... .......... 34% 60.6M 12s\n",
      " 13900K .......... .......... .......... .......... .......... 34% 86.1M 12s\n",
      " 13950K .......... .......... .......... .......... .......... 34% 73.7M 12s\n",
      " 14000K .......... .......... .......... .......... .......... 34% 72.7M 12s\n",
      " 14050K .......... .......... .......... .......... .......... 34% 85.2M 12s\n",
      " 14100K .......... .......... .......... .......... .......... 35% 85.4M 12s\n",
      " 14150K .......... .......... .......... .......... .......... 35% 68.7M 12s\n",
      " 14200K .......... .......... .......... .......... .......... 35% 89.5M 12s\n",
      " 14250K .......... .......... .......... .......... .......... 35% 77.2M 12s\n",
      " 14300K .......... .......... .......... .......... .......... 35% 2.27M 12s\n",
      " 14350K .......... .......... .......... .......... .......... 35%  965K 12s\n",
      " 14400K .......... .......... .......... .......... .......... 35%  265K 12s\n",
      " 14450K .......... .......... .......... .......... .......... 35% 1.01M 12s\n",
      " 14500K .......... .......... .......... .......... .......... 36% 1.04M 12s\n",
      " 14550K .......... .......... .......... .......... .......... 36%  715K 12s\n",
      " 14600K .......... .......... .......... .......... .......... 36% 1.15M 12s\n",
      " 14650K .......... .......... .......... .......... .......... 36%  678K 12s\n",
      " 14700K .......... .......... .......... .......... .......... 36% 1.11M 12s\n",
      " 14750K .......... .......... .......... .......... .......... 36% 1.21M 12s\n",
      " 14800K .......... .......... .......... .......... .......... 36%  632K 12s\n",
      " 14850K .......... .......... .......... .......... .......... 36% 1.27M 12s\n",
      " 14900K .......... .......... .......... .......... .......... 37%  917K 13s\n",
      " 14950K .......... .......... .......... .......... .......... 37%  760K 13s\n",
      " 15000K .......... .......... .......... .......... .......... 37% 49.0M 12s\n",
      " 15050K .......... .......... .......... .......... .......... 37% 59.8M 12s\n",
      " 15100K .......... .......... .......... .......... .......... 37% 40.1M 12s\n",
      " 15150K .......... .......... .......... .......... .......... 37% 59.7M 12s\n",
      " 15200K .......... .......... .......... .......... .......... 37% 44.1M 12s\n",
      " 15250K .......... .......... .......... .......... .......... 37% 2.86M 12s\n",
      " 15300K .......... .......... .......... .......... .......... 38% 39.5M 12s\n",
      " 15350K .......... .......... .......... .......... .......... 38% 48.3M 12s\n",
      " 15400K .......... .......... .......... .......... .......... 38% 84.6M 12s\n",
      " 15450K .......... .......... .......... .......... .......... 38% 75.8M 12s\n",
      " 15500K .......... .......... .......... .......... .......... 38% 74.8M 12s\n",
      " 15550K .......... .......... .......... .......... .......... 38% 88.5M 12s\n",
      " 15600K .......... .......... .......... .......... .......... 38% 75.7M 12s\n",
      " 15650K .......... .......... .......... .......... .......... 38% 2.71M 12s\n",
      " 15700K .......... .......... .......... .......... .......... 39% 62.0M 12s\n",
      " 15750K .......... .......... .......... .......... .......... 39% 1.35M 12s\n",
      " 15800K .......... .......... .......... .......... .......... 39%  630K 12s\n",
      " 15850K .......... .......... .......... .......... .......... 39% 1.18M 12s\n",
      " 15900K .......... .......... .......... .......... .......... 39%  585K 12s\n",
      " 15950K .......... .......... .......... .......... .......... 39%  603K 12s\n",
      " 16000K .......... .......... .......... .......... .......... 39%  606K 12s\n",
      " 16050K .......... .......... .......... .......... .......... 39%  697K 12s\n",
      " 16100K .......... .......... .......... .......... .......... 40%  577K 12s\n",
      " 16150K .......... .......... .......... .......... .......... 40%  309K 12s\n",
      " 16200K .......... .......... .......... .......... .......... 40%  648K 12s\n",
      " 16250K .......... .......... .......... .......... .......... 40%  668K 12s\n",
      " 16300K .......... .......... .......... .......... .......... 40%  620K 12s\n",
      " 16350K .......... .......... .......... .......... .......... 40% 39.8M 12s\n",
      " 16400K .......... .......... .......... .......... .......... 40% 71.1M 12s\n",
      " 16450K .......... .......... .......... .......... .......... 40% 71.0M 12s\n",
      " 16500K .......... .......... .......... .......... .......... 41% 74.0M 12s\n",
      " 16550K .......... .......... .......... .......... .......... 41% 66.2M 12s\n",
      " 16600K .......... .......... .......... .......... .......... 41% 71.5M 12s\n",
      " 16650K .......... .......... .......... .......... .......... 41% 88.2M 12s\n",
      " 16700K .......... .......... .......... .......... .......... 41% 69.4M 12s\n",
      " 16750K .......... .......... .......... .......... .......... 41% 67.8M 12s\n",
      " 16800K .......... .......... .......... .......... .......... 41% 75.8M 12s\n",
      " 16850K .......... .......... .......... .......... .......... 41% 86.0M 12s\n",
      " 16900K .......... .......... .......... .......... .......... 42% 37.0M 12s\n",
      " 16950K .......... .......... .......... .......... .......... 42% 73.8M 12s\n",
      " 17000K .......... .......... .......... .......... .......... 42% 49.3M 12s\n",
      " 17050K .......... .......... .......... .......... .......... 42%  899K 12s\n",
      " 17100K .......... .......... .......... .......... .......... 42% 72.0M 11s\n",
      " 17150K .......... .......... .......... .......... .......... 42% 1001K 12s\n",
      " 17200K .......... .......... .......... .......... .......... 42%  606K 12s\n",
      " 17250K .......... .......... .......... .......... .......... 42%  603K 12s\n",
      " 17300K .......... .......... .......... .......... .......... 43% 1.17M 12s\n",
      " 17350K .......... .......... .......... .......... .......... 43% 1.26M 12s\n",
      " 17400K .......... .......... .......... .......... .......... 43% 1.19M 12s\n",
      " 17450K .......... .......... .......... .......... .......... 43%  692K 12s\n",
      " 17500K .......... .......... .......... .......... .......... 43% 5.37M 12s\n",
      " 17550K .......... .......... .......... .......... .......... 43%  681K 12s\n",
      " 17600K .......... .......... .......... .......... .......... 43% 1.26M 12s\n",
      " 17650K .......... .......... .......... .......... .......... 43% 1.22M 12s\n",
      " 17700K .......... .......... .......... .......... .......... 44%  598K 12s\n",
      " 17750K .......... .......... .......... .......... .......... 44% 41.0M 12s\n",
      " 17800K .......... .......... .......... .......... .......... 44% 61.4M 12s\n",
      " 17850K .......... .......... .......... .......... .......... 44% 53.8M 11s\n",
      " 17900K .......... .......... .......... .......... .......... 44% 52.8M 11s\n",
      " 17950K .......... .......... .......... .......... .......... 44% 48.6M 11s\n",
      " 18000K .......... .......... .......... .......... .......... 44% 55.3M 11s\n",
      " 18050K .......... .......... .......... .......... .......... 44% 72.3M 11s\n",
      " 18100K .......... .......... .......... .......... .......... 45% 76.0M 11s\n",
      " 18150K .......... .......... .......... .......... .......... 45% 61.4M 11s\n",
      " 18200K .......... .......... .......... .......... .......... 45% 77.0M 11s\n",
      " 18250K .......... .......... .......... .......... .......... 45% 85.5M 11s\n",
      " 18300K .......... .......... .......... .......... .......... 45% 76.9M 11s\n",
      " 18350K .......... .......... .......... .......... .......... 45% 67.3M 11s\n",
      " 18400K .......... .......... .......... .......... .......... 45% 1.69M 11s\n",
      " 18450K .......... .......... .......... .......... .......... 45% 1.36M 11s\n",
      " 18500K .......... .......... .......... .......... .......... 46%  703K 11s\n",
      " 18550K .......... .......... .......... .......... .......... 46%  336K 11s\n",
      " 18600K .......... .......... .......... .......... .......... 46%  626K 11s\n",
      " 18650K .......... .......... .......... .......... .......... 46% 1.21M 11s\n",
      " 18700K .......... .......... .......... .......... .......... 46%  661K 11s\n",
      " 18750K .......... .......... .......... .......... .......... 46%  874K 11s\n",
      " 18800K .......... .......... .......... .......... .......... 46% 2.05M 11s\n",
      " 18850K .......... .......... .......... .......... .......... 46%  771K 11s\n",
      " 18900K .......... .......... .......... .......... .......... 47% 3.00M 11s\n",
      " 18950K .......... .......... .......... .......... .......... 47%  715K 11s\n",
      " 19000K .......... .......... .......... .......... .......... 47% 5.56M 11s\n",
      " 19050K .......... .......... .......... .......... .......... 47%  697K 11s\n",
      " 19100K .......... .......... .......... .......... .......... 47% 3.80M 11s\n",
      " 19150K .......... .......... .......... .......... .......... 47% 1.15M 11s\n",
      " 19200K .......... .......... .......... .......... .......... 47% 1.21M 11s\n",
      " 19250K .......... .......... .......... .......... .......... 47%  671K 11s\n",
      " 19300K .......... .......... .......... .......... .......... 48% 1.89M 11s\n",
      " 19350K .......... .......... .......... .......... .......... 48%  413K 11s\n",
      " 19400K .......... .......... .......... .......... .......... 48% 1.13M 11s\n",
      " 19450K .......... .......... .......... .......... .......... 48% 1.40M 11s\n",
      " 19500K .......... .......... .......... .......... .......... 48% 1.03M 11s\n",
      " 19550K .......... .......... .......... .......... .......... 48% 1.29M 11s\n",
      " 19600K .......... .......... .......... .......... .......... 48% 1.02M 11s\n",
      " 19650K .......... .......... .......... .......... .......... 48%  731K 11s\n",
      " 19700K .......... .......... .......... .......... .......... 48% 1.08M 11s\n",
      " 19750K .......... .......... .......... .......... .......... 49%  812K 11s\n",
      " 19800K .......... .......... .......... .......... .......... 49%  872K 11s\n",
      " 19850K .......... .......... .......... .......... .......... 49%  710K 11s\n",
      " 19900K .......... .......... .......... .......... .......... 49% 38.0M 11s\n",
      " 19950K .......... .......... .......... .......... .......... 49% 1.46M 11s\n",
      " 20000K .......... .......... .......... .......... .......... 49% 18.0M 11s\n",
      " 20050K .......... .......... .......... .......... .......... 49% 3.65M 11s\n",
      " 20100K .......... .......... .......... .......... .......... 49%  650K 11s\n",
      " 20150K .......... .......... .......... .......... .......... 50% 1.94M 11s\n",
      " 20200K .......... .......... .......... .......... .......... 50% 79.3M 11s\n",
      " 20250K .......... .......... .......... .......... .......... 50% 3.22M 11s\n",
      " 20300K .......... .......... .......... .......... .......... 50% 1.51M 11s\n",
      " 20350K .......... .......... .......... .......... .......... 50% 65.5M 11s\n",
      " 20400K .......... .......... .......... .......... .......... 50% 68.0M 11s\n",
      " 20450K .......... .......... .......... .......... .......... 50% 80.4M 11s\n",
      " 20500K .......... .......... .......... .......... .......... 50% 84.7M 11s\n",
      " 20550K .......... .......... .......... .......... .......... 51% 63.3M 11s\n",
      " 20600K .......... .......... .......... .......... .......... 51% 85.5M 10s\n",
      " 20650K .......... .......... .......... .......... .......... 51% 73.1M 10s\n",
      " 20700K .......... .......... .......... .......... .......... 51% 85.4M 10s\n",
      " 20750K .......... .......... .......... .......... .......... 51% 74.1M 10s\n",
      " 20800K .......... .......... .......... .......... .......... 51% 1.47M 10s\n",
      " 20850K .......... .......... .......... .......... .......... 51% 66.9M 10s\n",
      " 20900K .......... .......... .......... .......... .......... 51% 71.8M 10s\n",
      " 20950K .......... .......... .......... .......... .......... 52% 71.8M 10s\n",
      " 21000K .......... .......... .......... .......... .......... 52% 87.1M 10s\n",
      " 21050K .......... .......... .......... .......... .......... 52% 73.8M 10s\n",
      " 21100K .......... .......... .......... .......... .......... 52% 86.9M 10s\n",
      " 21150K .......... .......... .......... .......... .......... 52% 11.0M 10s\n",
      " 21200K .......... .......... .......... .......... .......... 52% 1.22M 10s\n",
      " 21250K .......... .......... .......... .......... .......... 52% 1.26M 10s\n",
      " 21300K .......... .......... .......... .......... .......... 52% 1.25M 10s\n",
      " 21350K .......... .......... .......... .......... .......... 53%  391K 10s\n",
      " 21400K .......... .......... .......... .......... .......... 53% 1.01M 10s\n",
      " 21450K .......... .......... .......... .......... .......... 53% 1.26M 10s\n",
      " 21500K .......... .......... .......... .......... .......... 53%  700K 10s\n",
      " 21550K .......... .......... .......... .......... .......... 53%  626K 10s\n",
      " 21600K .......... .......... .......... .......... .......... 53%  666K 10s\n",
      " 21650K .......... .......... .......... .......... .......... 53%  470K 10s\n",
      " 21700K .......... .......... .......... .......... .......... 53%  419K 10s\n",
      " 21750K .......... .......... .......... .......... .......... 54%  850K 10s\n",
      " 21800K .......... .......... .......... .......... .......... 54%  804K 10s\n",
      " 21850K .......... .......... .......... .......... .......... 54% 3.33M 10s\n",
      " 21900K .......... .......... .......... .......... .......... 54%  810K 10s\n",
      " 21950K .......... .......... .......... .......... .......... 54%  985K 10s\n",
      " 22000K .......... .......... .......... .......... .......... 54% 2.85M 10s\n",
      " 22050K .......... .......... .......... .......... .......... 54% 1.41M 10s\n",
      " 22100K .......... .......... .......... .......... .......... 54% 7.74M 10s\n",
      " 22150K .......... .......... .......... .......... .......... 55% 1.53M 10s\n",
      " 22200K .......... .......... .......... .......... .......... 55% 1.87M 10s\n",
      " 22250K .......... .......... .......... .......... .......... 55%  598K 10s\n",
      " 22300K .......... .......... .......... .......... .......... 55%  662K 10s\n",
      " 22350K .......... .......... .......... .......... .......... 55%  415K 10s\n",
      " 22400K .......... .......... .......... .......... .......... 55%  658K 10s\n",
      " 22450K .......... .......... .......... .......... .......... 55%  649K 10s\n",
      " 22500K .......... .......... .......... .......... .......... 55%  690K 10s\n",
      " 22550K .......... .......... .......... .......... .......... 56%  911K 10s\n",
      " 22600K .......... .......... .......... .......... .......... 56%  424K 10s\n",
      " 22650K .......... .......... .......... .......... .......... 56% 1.18M 10s\n",
      " 22700K .......... .......... .......... .......... .......... 56%  482K 10s\n",
      " 22750K .......... .......... .......... .......... .......... 56%  362K 10s\n",
      " 22800K .......... .......... .......... .......... .......... 56%  428K 10s\n",
      " 22850K .......... .......... .......... .......... .......... 56% 67.0M 10s\n",
      " 22900K .......... .......... .......... .......... .......... 56%  405K 10s\n",
      " 22950K .......... .......... .......... .......... .......... 57%  999K 10s\n",
      " 23000K .......... .......... .......... .......... .......... 57% 80.1M 10s\n",
      " 23050K .......... .......... .......... .......... .......... 57% 94.8M 10s\n",
      " 23100K .......... .......... .......... .......... .......... 57% 89.1M 10s\n",
      " 23150K .......... .......... .......... .......... .......... 57% 83.3M 10s\n",
      " 23200K .......... .......... .......... .......... .......... 57% 98.9M 10s\n",
      " 23250K .......... .......... .......... .......... .......... 57% 97.9M 10s\n",
      " 23300K .......... .......... .......... .......... .......... 57% 71.5M 10s\n",
      " 23350K .......... .......... .......... .......... .......... 58% 96.8M 10s\n",
      " 23400K .......... .......... .......... .......... .......... 58% 85.1M 10s\n",
      " 23450K .......... .......... .......... .......... .......... 58% 98.0M 10s\n",
      " 23500K .......... .......... .......... .......... .......... 58% 84.7M 10s\n",
      " 23550K .......... .......... .......... .......... .......... 58% 74.8M 10s\n",
      " 23600K .......... .......... .......... .......... .......... 58% 95.0M 9s\n",
      " 23650K .......... .......... .......... .......... .......... 58% 1.16M 9s\n",
      " 23700K .......... .......... .......... .......... .......... 58%  347K 10s\n",
      " 23750K .......... .......... .......... .......... .......... 59% 83.4M 9s\n",
      " 23800K .......... .......... .......... .......... .......... 59% 80.7M 9s\n",
      " 23850K .......... .......... .......... .......... .......... 59% 94.8M 9s\n",
      " 23900K .......... .......... .......... .......... .......... 59% 74.5M 9s\n",
      " 23950K .......... .......... .......... .......... .......... 59% 97.3M 9s\n",
      " 24000K .......... .......... .......... .......... .......... 59% 87.9M 9s\n",
      " 24050K .......... .......... .......... .......... .......... 59% 79.0M 9s\n",
      " 24100K .......... .......... .......... .......... .......... 59% 1.29M 9s\n",
      " 24150K .......... .......... .......... .......... .......... 60% 70.5M 9s\n",
      " 24200K .......... .......... .......... .......... .......... 60% 99.3M 9s\n",
      " 24250K .......... .......... .......... .......... .......... 60% 89.0M 9s\n",
      " 24300K .......... .......... .......... .......... .......... 60% 1.00M 9s\n",
      " 24350K .......... .......... .......... .......... .......... 60%  761K 9s\n",
      " 24400K .......... .......... .......... .......... .......... 60%  430K 9s\n",
      " 24450K .......... .......... .......... .......... .......... 60% 1002K 9s\n",
      " 24500K .......... .......... .......... .......... .......... 60%  690K 9s\n",
      " 24550K .......... .......... .......... .......... .......... 61%  640K 9s\n",
      " 24600K .......... .......... .......... .......... .......... 61%  488K 9s\n",
      " 24650K .......... .......... .......... .......... .......... 61%  292K 9s\n",
      " 24700K .......... .......... .......... .......... .......... 61% 43.1M 9s\n",
      " 24750K .......... .......... .......... .......... .......... 61%  372K 9s\n",
      " 24800K .......... .......... .......... .......... .......... 61% 78.8M 9s\n",
      " 24850K .......... .......... .......... .......... .......... 61% 91.3M 9s\n",
      " 24900K .......... .......... .......... .......... .......... 61% 80.8M 9s\n",
      " 24950K .......... .......... .......... .......... .......... 62% 81.1M 9s\n",
      " 25000K .......... .......... .......... .......... .......... 62% 63.1M 9s\n",
      " 25050K .......... .......... .......... .......... .......... 62% 1.68M 9s\n",
      " 25100K .......... .......... .......... .......... .......... 62% 65.8M 9s\n",
      " 25150K .......... .......... .......... .......... .......... 62% 86.5M 9s\n",
      " 25200K .......... .......... .......... .......... .......... 62% 3.18M 9s\n",
      " 25250K .......... .......... .......... .......... .......... 62% 55.7M 9s\n",
      " 25300K .......... .......... .......... .......... .......... 62% 3.69M 9s\n",
      " 25350K .......... .......... .......... .......... .......... 63% 87.1M 9s\n",
      " 25400K .......... .......... .......... .......... .......... 63% 76.2M 9s\n",
      " 25450K .......... .......... .......... .......... .......... 63% 2.79M 8s\n",
      " 25500K .......... .......... .......... .......... .......... 63% 1.15M 8s\n",
      " 25550K .......... .......... .......... .......... .......... 63% 1.28M 8s\n",
      " 25600K .......... .......... .......... .......... .......... 63% 1.15M 8s\n",
      " 25650K .......... .......... .......... .......... .......... 63%  567K 8s\n",
      " 25700K .......... .......... .......... .......... .......... 63%  381K 8s\n",
      " 25750K .......... .......... .......... .......... .......... 64%  649K 8s\n",
      " 25800K .......... .......... .......... .......... .......... 64% 55.4M 8s\n",
      " 25850K .......... .......... .......... .......... .......... 64% 58.1M 8s\n",
      " 25900K .......... .......... .......... .......... .......... 64% 81.2M 8s\n",
      " 25950K .......... .......... .......... .......... .......... 64% 84.3M 8s\n",
      " 26000K .......... .......... .......... .......... .......... 64% 95.6M 8s\n",
      " 26050K .......... .......... .......... .......... .......... 64% 1.74M 8s\n",
      " 26100K .......... .......... .......... .......... .......... 64% 47.2M 8s\n",
      " 26150K .......... .......... .......... .......... .......... 64% 4.93M 8s\n",
      " 26200K .......... .......... .......... .......... .......... 65% 1.04M 8s\n",
      " 26250K .......... .......... .......... .......... .......... 65%  998K 8s\n",
      " 26300K .......... .......... .......... .......... .......... 65%  946K 8s\n",
      " 26350K .......... .......... .......... .......... .......... 65%  623K 8s\n",
      " 26400K .......... .......... .......... .......... .......... 65% 67.2M 8s\n",
      " 26450K .......... .......... .......... .......... .......... 65% 2.45M 8s\n",
      " 26500K .......... .......... .......... .......... .......... 65% 2.67M 8s\n",
      " 26550K .......... .......... .......... .......... .......... 65% 1.10M 8s\n",
      " 26600K .......... .......... .......... .......... .......... 66% 1.15M 8s\n",
      " 26650K .......... .......... .......... .......... .......... 66%  696K 8s\n",
      " 26700K .......... .......... .......... .......... .......... 66%  488K 8s\n",
      " 26750K .......... .......... .......... .......... .......... 66%  980K 8s\n",
      " 26800K .......... .......... .......... .......... .......... 66%  335K 8s\n",
      " 26850K .......... .......... .......... .......... .......... 66%  329K 8s\n",
      " 26900K .......... .......... .......... .......... .......... 66%  238K 8s\n",
      " 26950K .......... .......... .......... .......... .......... 66%  470K 8s\n",
      " 27000K .......... .......... .......... .......... .......... 67%  427K 8s\n",
      " 27050K .......... .......... .......... .......... .......... 67% 1.27M 8s\n",
      " 27100K .......... .......... .......... .......... .......... 67% 1.16M 8s\n",
      " 27150K .......... .......... .......... .......... .......... 67%  497K 8s\n",
      " 27200K .......... .......... .......... .......... .......... 67% 1011K 8s\n",
      " 27250K .......... .......... .......... .......... .......... 67%  998K 8s\n",
      " 27300K .......... .......... .......... .......... .......... 67%  943K 8s\n",
      " 27350K .......... .......... .......... .......... .......... 67%  784K 8s\n",
      " 27400K .......... .......... .......... .......... .......... 68% 2.81M 8s\n",
      " 27450K .......... .......... .......... .......... .......... 68%  978K 8s\n",
      " 27500K .......... .......... .......... .......... .......... 68% 1.30M 8s\n",
      " 27550K .......... .......... .......... .......... .......... 68% 3.75M 8s\n",
      " 27600K .......... .......... .......... .......... .......... 68%  616K 8s\n",
      " 27650K .......... .......... .......... .......... .......... 68% 1.02M 8s\n",
      " 27700K .......... .......... .......... .......... .......... 68% 1.25M 8s\n",
      " 27750K .......... .......... .......... .......... .......... 68%  782K 8s\n",
      " 27800K .......... .......... .......... .......... .......... 69%  690K 8s\n",
      " 27850K .......... .......... .......... .......... .......... 69% 1.12M 8s\n",
      " 27900K .......... .......... .......... .......... .......... 69%  972K 8s\n",
      " 27950K .......... .......... .......... .......... .......... 69%  560K 8s\n",
      " 28000K .......... .......... .......... .......... .......... 69%  829K 8s\n",
      " 28050K .......... .......... .......... .......... .......... 69% 1.15M 8s\n",
      " 28100K .......... .......... .......... .......... .......... 69% 87.3M 8s\n",
      " 28150K .......... .......... .......... .......... .......... 69% 76.2M 8s\n",
      " 28200K .......... .......... .......... .......... .......... 70% 72.7M 7s\n",
      " 28250K .......... .......... .......... .......... .......... 70% 81.5M 7s\n",
      " 28300K .......... .......... .......... .......... .......... 70% 88.3M 7s\n",
      " 28350K .......... .......... .......... .......... .......... 70% 81.4M 7s\n",
      " 28400K .......... .......... .......... .......... .......... 70% 1.28M 7s\n",
      " 28450K .......... .......... .......... .......... .......... 70%  475K 7s\n",
      " 28500K .......... .......... .......... .......... .......... 70% 76.1M 7s\n",
      " 28550K .......... .......... .......... .......... .......... 70%  102M 7s\n",
      " 28600K .......... .......... .......... .......... .......... 71% 80.3M 7s\n",
      " 28650K .......... .......... .......... .......... .......... 71% 77.7M 7s\n",
      " 28700K .......... .......... .......... .......... .......... 71% 89.7M 7s\n",
      " 28750K .......... .......... .......... .......... .......... 71% 85.2M 7s\n",
      " 28800K .......... .......... .......... .......... .......... 71% 88.6M 7s\n",
      " 28850K .......... .......... .......... .......... .......... 71% 89.2M 7s\n",
      " 28900K .......... .......... .......... .......... .......... 71% 82.5M 7s\n",
      " 28950K .......... .......... .......... .......... .......... 71% 81.2M 7s\n",
      " 29000K .......... .......... .......... .......... .......... 72% 1.27M 7s\n",
      " 29050K .......... .......... .......... .......... .......... 72% 79.2M 7s\n",
      " 29100K .......... .......... .......... .......... .......... 72% 82.1M 7s\n",
      " 29150K .......... .......... .......... .......... .......... 72% 68.9M 7s\n",
      " 29200K .......... .......... .......... .......... .......... 72% 94.1M 7s\n",
      " 29250K .......... .......... .......... .......... .......... 72% 82.4M 7s\n",
      " 29300K .......... .......... .......... .......... .......... 72% 82.9M 7s\n",
      " 29350K .......... .......... .......... .......... .......... 72% 1.11M 7s\n",
      " 29400K .......... .......... .......... .......... .......... 73%  711K 7s\n",
      " 29450K .......... .......... .......... .......... .......... 73%  565K 7s\n",
      " 29500K .......... .......... .......... .......... .......... 73%  524K 7s\n",
      " 29550K .......... .......... .......... .......... .......... 73%  304K 7s\n",
      " 29600K .......... .......... .......... .......... .......... 73%  374K 7s\n",
      " 29650K .......... .......... .......... .......... .......... 73%  607K 7s\n",
      " 29700K .......... .......... .......... .......... .......... 73% 1.37M 7s\n",
      " 29750K .......... .......... .......... .......... .......... 73%  869K 7s\n",
      " 29800K .......... .......... .......... .......... .......... 74% 1.83M 6s\n",
      " 29850K .......... .......... .......... .......... .......... 74% 1.13M 6s\n",
      " 29900K .......... .......... .......... .......... .......... 74%  709K 6s\n",
      " 29950K .......... .......... .......... .......... .......... 74%  718K 6s\n",
      " 30000K .......... .......... .......... .......... .......... 74%  626K 6s\n",
      " 30050K .......... .......... .......... .......... .......... 74% 1.34M 6s\n",
      " 30100K .......... .......... .......... .......... .......... 74%  601K 6s\n",
      " 30150K .......... .......... .......... .......... .......... 74% 2.06M 6s\n",
      " 30200K .......... .......... .......... .......... .......... 75%  349K 6s\n",
      " 30250K .......... .......... .......... .......... .......... 75%  488K 6s\n",
      " 30300K .......... .......... .......... .......... .......... 75% 1.04M 6s\n",
      " 30350K .......... .......... .......... .......... .......... 75%  430K 6s\n",
      " 30400K .......... .......... .......... .......... .......... 75%  276K 6s\n",
      " 30450K .......... .......... .......... .......... .......... 75% 66.4M 6s\n",
      " 30500K .......... .......... .......... .......... .......... 75%  225K 6s\n",
      " 30550K .......... .......... .......... .......... .......... 75%  311K 6s\n",
      " 30600K .......... .......... .......... .......... .......... 76%  364K 6s\n",
      " 30650K .......... .......... .......... .......... .......... 76%  999K 6s\n",
      " 30700K .......... .......... .......... .......... .......... 76% 48.9M 6s\n",
      " 30750K .......... .......... .......... .......... .......... 76% 68.9M 6s\n",
      " 30800K .......... .......... .......... .......... .......... 76% 63.1M 6s\n",
      " 30850K .......... .......... .......... .......... .......... 76% 82.2M 6s\n",
      " 30900K .......... .......... .......... .......... .......... 76% 71.9M 6s\n",
      " 30950K .......... .......... .......... .......... .......... 76% 67.0M 6s\n",
      " 31000K .......... .......... .......... .......... .......... 77% 60.4M 6s\n",
      " 31050K .......... .......... .......... .......... .......... 77%  346K 6s\n",
      " 31100K .......... .......... .......... .......... .......... 77% 48.6M 6s\n",
      " 31150K .......... .......... .......... .......... .......... 77% 63.5M 6s\n",
      " 31200K .......... .......... .......... .......... .......... 77% 55.5M 6s\n",
      " 31250K .......... .......... .......... .......... .......... 77% 65.2M 6s\n",
      " 31300K .......... .......... .......... .......... .......... 77% 76.8M 6s\n",
      " 31350K .......... .......... .......... .......... .......... 77% 43.9M 6s\n",
      " 31400K .......... .......... .......... .......... .......... 78% 41.6M 6s\n",
      " 31450K .......... .......... .......... .......... .......... 78% 56.6M 6s\n",
      " 31500K .......... .......... .......... .......... .......... 78% 66.0M 6s\n",
      " 31550K .......... .......... .......... .......... .......... 78% 72.4M 6s\n",
      " 31600K .......... .......... .......... .......... .......... 78% 79.9M 6s\n",
      " 31650K .......... .......... .......... .......... .......... 78% 71.7M 5s\n",
      " 31700K .......... .......... .......... .......... .......... 78% 1.27M 5s\n",
      " 31750K .......... .......... .......... .......... .......... 78%  993K 5s\n",
      " 31800K .......... .......... .......... .......... .......... 79% 55.8M 5s\n",
      " 31850K .......... .......... .......... .......... .......... 79% 3.01M 5s\n",
      " 31900K .......... .......... .......... .......... .......... 79%  334K 5s\n",
      " 31950K .......... .......... .......... .......... .......... 79%  734K 5s\n",
      " 32000K .......... .......... .......... .......... .......... 79%  610K 5s\n",
      " 32050K .......... .......... .......... .......... .......... 79%  498K 5s\n",
      " 32100K .......... .......... .......... .......... .......... 79%  751K 5s\n",
      " 32150K .......... .......... .......... .......... .......... 79%  995K 5s\n",
      " 32200K .......... .......... .......... .......... .......... 80% 1.47M 5s\n",
      " 32250K .......... .......... .......... .......... .......... 80%  501K 5s\n",
      " 32300K .......... .......... .......... .......... .......... 80%  376K 5s\n",
      " 32350K .......... .......... .......... .......... .......... 80%  586K 5s\n",
      " 32400K .......... .......... .......... .......... .......... 80% 1.01M 5s\n",
      " 32450K .......... .......... .......... .......... .......... 80%  414K 5s\n",
      " 32500K .......... .......... .......... .......... .......... 80%  447K 5s\n",
      " 32550K .......... .......... .......... .......... .......... 80%  424K 5s\n",
      " 32600K .......... .......... .......... .......... .......... 80%  499K 5s\n",
      " 32650K .......... .......... .......... .......... .......... 81%  423K 5s\n",
      " 32700K .......... .......... .......... .......... .......... 81%  547K 5s\n",
      " 32750K .......... .......... .......... .......... .......... 81% 1.18M 5s\n",
      " 32800K .......... .......... .......... .......... .......... 81%  523K 5s\n",
      " 32850K .......... .......... .......... .......... .......... 81%  690K 5s\n",
      " 32900K .......... .......... .......... .......... .......... 81% 1016K 5s\n",
      " 32950K .......... .......... .......... .......... .......... 81%  597K 5s\n",
      " 33000K .......... .......... .......... .......... .......... 81% 1024K 5s\n",
      " 33050K .......... .......... .......... .......... .......... 82%  745K 5s\n",
      " 33100K .......... .......... .......... .......... .......... 82% 1.46M 5s\n",
      " 33150K .......... .......... .......... .......... .......... 82% 3.54M 5s\n",
      " 33200K .......... .......... .......... .......... .......... 82% 17.7M 5s\n",
      " 33250K .......... .......... .......... .......... .......... 82% 1.49M 5s\n",
      " 33300K .......... .......... .......... .......... .......... 82% 1.47M 5s\n",
      " 33350K .......... .......... .......... .......... .......... 82%  750K 5s\n",
      " 33400K .......... .......... .......... .......... .......... 82%  734K 5s\n",
      " 33450K .......... .......... .......... .......... .......... 83% 2.92M 5s\n",
      " 33500K .......... .......... .......... .......... .......... 83%  764K 5s\n",
      " 33550K .......... .......... .......... .......... .......... 83%  960K 5s\n",
      " 33600K .......... .......... .......... .......... .......... 83% 2.32M 5s\n",
      " 33650K .......... .......... .......... .......... .......... 83% 4.23M 4s\n",
      " 33700K .......... .......... .......... .......... .......... 83% 64.5M 4s\n",
      " 33750K .......... .......... .......... .......... .......... 83% 58.0M 4s\n",
      " 33800K .......... .......... .......... .......... .......... 83% 9.80M 4s\n",
      " 33850K .......... .......... .......... .......... .......... 84% 73.5M 4s\n",
      " 33900K .......... .......... .......... .......... .......... 84% 77.1M 4s\n",
      " 33950K .......... .......... .......... .......... .......... 84% 77.2M 4s\n",
      " 34000K .......... .......... .......... .......... .......... 84% 62.4M 4s\n",
      " 34050K .......... .......... .......... .......... .......... 84% 87.5M 4s\n",
      " 34100K .......... .......... .......... .......... .......... 84% 76.4M 4s\n",
      " 34150K .......... .......... .......... .......... .......... 84% 77.5M 4s\n",
      " 34200K .......... .......... .......... .......... .......... 84% 69.5M 4s\n",
      " 34250K .......... .......... .......... .......... .......... 85% 88.3M 4s\n",
      " 34300K .......... .......... .......... .......... .......... 85% 71.3M 4s\n",
      " 34350K .......... .......... .......... .......... .......... 85% 76.4M 4s\n",
      " 34400K .......... .......... .......... .......... .......... 85% 2.58M 4s\n",
      " 34450K .......... .......... .......... .......... .......... 85%  727K 4s\n",
      " 34500K .......... .......... .......... .......... .......... 85%  616K 4s\n",
      " 34550K .......... .......... .......... .......... .......... 85%  427K 4s\n",
      " 34600K .......... .......... .......... .......... .......... 85%  430K 4s\n",
      " 34650K .......... .......... .......... .......... .......... 86%  987K 4s\n",
      " 34700K .......... .......... .......... .......... .......... 86%  503K 4s\n",
      " 34750K .......... .......... .......... .......... .......... 86%  494K 4s\n",
      " 34800K .......... .......... .......... .......... .......... 86%  301K 4s\n",
      " 34850K .......... .......... .......... .......... .......... 86%  706K 4s\n",
      " 34900K .......... .......... .......... .......... .......... 86%  611K 4s\n",
      " 34950K .......... .......... .......... .......... .......... 86%  744K 4s\n",
      " 35000K .......... .......... .......... .......... .......... 86%  619K 4s\n",
      " 35050K .......... .......... .......... .......... .......... 87%  753K 4s\n",
      " 35100K .......... .......... .......... .......... .......... 87%  502K 4s\n",
      " 35150K .......... .......... .......... .......... .......... 87%  436K 4s\n",
      " 35200K .......... .......... .......... .......... .......... 87%  585K 3s\n",
      " 35250K .......... .......... .......... .......... .......... 87%  727K 3s\n",
      " 35300K .......... .......... .......... .......... .......... 87% 1004K 3s\n",
      " 35350K .......... .......... .......... .......... .......... 87%  762K 3s\n",
      " 35400K .......... .......... .......... .......... .......... 87% 80.2M 3s\n",
      " 35450K .......... .......... .......... .......... .......... 88%  319K 3s\n",
      " 35500K .......... .......... .......... .......... .......... 88% 1.06M 3s\n",
      " 35550K .......... .......... .......... .......... .......... 88%  567K 3s\n",
      " 35600K .......... .......... .......... .......... .......... 88%  349K 3s\n",
      " 35650K .......... .......... .......... .......... .......... 88%  427K 3s\n",
      " 35700K .......... .......... .......... .......... .......... 88%  301K 3s\n",
      " 35750K .......... .......... .......... .......... .......... 88% 1002K 3s\n",
      " 35800K .......... .......... .......... .......... .......... 88%  584K 3s\n",
      " 35850K .......... .......... .......... .......... .......... 89% 85.2M 3s\n",
      " 35900K .......... .......... .......... .......... .......... 89% 68.9M 3s\n",
      " 35950K .......... .......... .......... .......... .......... 89% 1.00M 3s\n",
      " 36000K .......... .......... .......... .......... .......... 89% 1.10M 3s\n",
      " 36050K .......... .......... .......... .......... .......... 89% 86.8M 3s\n",
      " 36100K .......... .......... .......... .......... .......... 89% 49.8M 3s\n",
      " 36150K .......... .......... .......... .......... .......... 89% 1.95M 3s\n",
      " 36200K .......... .......... .......... .......... .......... 89% 3.40M 3s\n",
      " 36250K .......... .......... .......... .......... .......... 90% 87.6M 3s\n",
      " 36300K .......... .......... .......... .......... .......... 90%  640K 3s\n",
      " 36350K .......... .......... .......... .......... .......... 90% 57.6M 3s\n",
      " 36400K .......... .......... .......... .......... .......... 90% 88.1M 3s\n",
      " 36450K .......... .......... .......... .......... .......... 90% 76.7M 3s\n",
      " 36500K .......... .......... .......... .......... .......... 90%  614K 3s\n",
      " 36550K .......... .......... .......... .......... .......... 90% 89.0M 3s\n",
      " 36600K .......... .......... .......... .......... .......... 90% 75.9M 3s\n",
      " 36650K .......... .......... .......... .......... .......... 91% 92.7M 3s\n",
      " 36700K .......... .......... .......... .......... .......... 91% 68.3M 2s\n",
      " 36750K .......... .......... .......... .......... .......... 91% 75.6M 2s\n",
      " 36800K .......... .......... .......... .......... .......... 91% 92.4M 2s\n",
      " 36850K .......... .......... .......... .......... .......... 91% 74.0M 2s\n",
      " 36900K .......... .......... .......... .......... .......... 91% 80.9M 2s\n",
      " 36950K .......... .......... .......... .......... .......... 91% 79.6M 2s\n",
      " 37000K .......... .......... .......... .......... .......... 91% 91.2M 2s\n",
      " 37050K .......... .......... .......... .......... .......... 92% 92.6M 2s\n",
      " 37100K .......... .......... .......... .......... .......... 92% 1.16M 2s\n",
      " 37150K .......... .......... .......... .......... .......... 92% 1.40M 2s\n",
      " 37200K .......... .......... .......... .......... .......... 92% 1.47M 2s\n",
      " 37250K .......... .......... .......... .......... .......... 92%  506K 2s\n",
      " 37300K .......... .......... .......... .......... .......... 92%  497K 2s\n",
      " 37350K .......... .......... .......... .......... .......... 92% 1.42M 2s\n",
      " 37400K .......... .......... .......... .......... .......... 92%  430K 2s\n"
     ]
    },
    {
     "name": "stdout",
     "output_type": "stream",
     "text": [
      "Refined_genetic_map_b37/\n",
      "Refined_genetic_map_b37/female_chr1.txt\n",
      "Refined_genetic_map_b37/female_chr10.txt\n",
      "Refined_genetic_map_b37/female_chr11.txt\n"
     ]
    },
    {
     "name": "stderr",
     "output_type": "stream",
     "text": [
      " 37450K .......... .......... .......... .......... .......... 93%  599K 2s\n",
      " 37500K .......... .......... .......... .......... .......... 93%  944K 2s\n",
      " 37550K .......... .......... .......... .......... .......... 93% 1.04M 2s\n",
      " 37600K .......... .......... .......... .......... .......... 93%  502K 2s\n",
      " 37650K .......... .......... .......... .......... .......... 93%  905K 2s\n",
      " 37700K .......... .......... .......... .......... .......... 93% 57.0M 2s\n",
      " 37750K .......... .......... .......... .......... .......... 93% 58.9M 2s\n",
      " 37800K .......... .......... .......... .......... .......... 93% 63.6M 2s\n",
      " 37850K .......... .......... .......... .......... .......... 94% 55.8M 2s\n",
      " 37900K .......... .......... .......... .......... .......... 94% 66.0M 2s\n",
      " 37950K .......... .......... .......... .......... .......... 94% 59.3M 2s\n",
      " 38000K .......... .......... .......... .......... .......... 94% 59.0M 2s\n",
      " 38050K .......... .......... .......... .......... .......... 94% 66.5M 2s\n",
      " 38100K .......... .......... .......... .......... .......... 94% 66.0M 1s\n",
      " 38150K .......... .......... .......... .......... .......... 94% 49.7M 1s\n",
      " 38200K .......... .......... .......... .......... .......... 94% 65.8M 1s\n",
      " 38250K .......... .......... .......... .......... .......... 95% 59.0M 1s\n",
      " 38300K .......... .......... .......... .......... .......... 95% 2.36M 1s\n",
      " 38350K .......... .......... .......... .......... .......... 95% 1.35M 1s\n",
      " 38400K .......... .......... .......... .......... .......... 95%  624K 1s\n",
      " 38450K .......... .......... .......... .......... .......... 95%  366K 1s\n",
      " 38500K .......... .......... .......... .......... .......... 95% 1.08M 1s\n",
      " 38550K .......... .......... .......... .......... .......... 95%  250K 1s\n",
      " 38600K .......... .......... .......... .......... .......... 95%  486K 1s\n",
      " 38650K .......... .......... .......... .......... .......... 96%  423K 1s\n",
      " 38700K .......... .......... .......... .......... .......... 96%  782K 1s\n",
      " 38750K .......... .......... .......... .......... .......... 96% 2.85M 1s\n",
      " 38800K .......... .......... .......... .......... .......... 96%  768K 1s\n",
      " 38850K .......... .......... .......... .......... .......... 96%  995K 1s\n",
      " 38900K .......... .......... .......... .......... .......... 96% 59.6M 1s\n",
      " 38950K .......... .......... .......... .......... .......... 96% 70.9M 1s\n",
      " 39000K .......... .......... .......... .......... .......... 96% 72.2M 1s\n",
      " 39050K .......... .......... .......... .......... .......... 96% 72.5M 1s\n",
      " 39100K .......... .......... .......... .......... .......... 97% 71.5M 1s\n",
      " 39150K .......... .......... .......... .......... .......... 97% 3.55M 1s\n",
      " 39200K .......... .......... .......... .......... .......... 97% 1006K 1s\n",
      " 39250K .......... .......... .......... .......... .......... 97% 2.97M 1s\n",
      " 39300K .......... .......... .......... .......... .......... 97% 2.79M 1s\n",
      " 39350K .......... .......... .......... .......... .......... 97% 45.1M 1s\n",
      " 39400K .......... .......... .......... .......... .......... 97% 82.4M 1s\n",
      " 39450K .......... .......... .......... .......... .......... 97% 77.8M 1s\n",
      " 39500K .......... .......... .......... .......... .......... 98% 88.7M 1s\n",
      " 39550K .......... .......... .......... .......... .......... 98% 74.5M 0s\n",
      " 39600K .......... .......... .......... .......... .......... 98% 76.8M 0s\n",
      " 39650K .......... .......... .......... .......... .......... 98% 62.0M 0s\n",
      " 39700K .......... .......... .......... .......... .......... 98% 76.4M 0s\n",
      " 39750K .......... .......... .......... .......... .......... 98% 89.3M 0s\n",
      " 39800K .......... .......... .......... .......... .......... 98% 82.8M 0s\n",
      " 39850K .......... .......... .......... .......... .......... 98% 75.2M 0s\n",
      " 39900K .......... .......... .......... .......... .......... 99% 68.9M 0s\n",
      " 39950K .......... .......... .......... .......... .......... 99% 98.4M 0s\n",
      " 40000K .......... .......... .......... .......... .......... 99% 83.6M 0s\n",
      " 40050K .......... .......... .......... .......... .......... 99% 73.3M 0s\n",
      " 40100K .......... .......... .......... .......... .......... 99% 84.6M 0s\n",
      " 40150K .......... .......... .......... .......... .......... 99% 77.9M 0s\n",
      " 40200K .......... .......... .......... .......... .......... 99% 97.1M 0s\n",
      " 40250K .......... .......... .......... .......... .......... 99% 75.1M 0s\n",
      " 40300K ..........                                            100%  103M=27s\n",
      "\n",
      "2025-03-06 13:44:24 (1.43 MB/s) - ‘/home/davenport/computational_genetic_genealogy/references/Refined_genetic_map_b37.tar.gz’ saved [41278300/41278300]\n",
      "\n",
      "tar: Ignoring unknown extended header keyword 'LIBARCHIVE.creationtime'\n",
      "tar: Ignoring unknown extended header keyword 'SCHILY.dev'\n",
      "tar: Ignoring unknown extended header keyword 'SCHILY.ino'\n",
      "tar: Ignoring unknown extended header keyword 'SCHILY.nlink'\n",
      "tar: Ignoring unknown extended header keyword 'SCHILY.dev'\n",
      "tar: Ignoring unknown extended header keyword 'SCHILY.ino'\n",
      "tar: Ignoring unknown extended header keyword 'SCHILY.nlink'\n",
      "tar: Ignoring unknown extended header keyword 'SCHILY.dev'\n",
      "tar: Ignoring unknown extended header keyword 'SCHILY.ino'\n",
      "tar: Ignoring unknown extended header keyword 'SCHILY.nlink'\n",
      "tar: Ignoring unknown extended header keyword 'SCHILY.dev'\n",
      "tar: Ignoring unknown extended header keyword 'SCHILY.ino'\n",
      "tar: Ignoring unknown extended header keyword 'SCHILY.nlink'\n"
     ]
    },
    {
     "name": "stdout",
     "output_type": "stream",
     "text": [
      "Refined_genetic_map_b37/female_chr12.txt\n",
      "Refined_genetic_map_b37/female_chr13.txt\n"
     ]
    },
    {
     "name": "stderr",
     "output_type": "stream",
     "text": [
      "tar: Ignoring unknown extended header keyword 'SCHILY.dev'\n",
      "tar: Ignoring unknown extended header keyword 'SCHILY.ino'\n",
      "tar: Ignoring unknown extended header keyword 'SCHILY.nlink'\n",
      "tar: Ignoring unknown extended header keyword 'SCHILY.dev'\n",
      "tar: Ignoring unknown extended header keyword 'SCHILY.ino'\n",
      "tar: Ignoring unknown extended header keyword 'SCHILY.nlink'\n"
     ]
    },
    {
     "name": "stdout",
     "output_type": "stream",
     "text": [
      "Refined_genetic_map_b37/female_chr14.txt\n"
     ]
    },
    {
     "name": "stderr",
     "output_type": "stream",
     "text": [
      "tar: Ignoring unknown extended header keyword 'LIBARCHIVE.creationtime'\n",
      "tar: Ignoring unknown extended header keyword 'SCHILY.dev'\n",
      "tar: Ignoring unknown extended header keyword 'SCHILY.ino'\n",
      "tar: Ignoring unknown extended header keyword 'SCHILY.nlink'\n"
     ]
    },
    {
     "name": "stdout",
     "output_type": "stream",
     "text": [
      "Refined_genetic_map_b37/female_chr15.txt\n"
     ]
    },
    {
     "name": "stderr",
     "output_type": "stream",
     "text": [
      "tar: Ignoring unknown extended header keyword 'SCHILY.dev'\n",
      "tar: Ignoring unknown extended header keyword 'SCHILY.ino'\n",
      "tar: Ignoring unknown extended header keyword 'SCHILY.nlink'\n"
     ]
    },
    {
     "name": "stdout",
     "output_type": "stream",
     "text": [
      "Refined_genetic_map_b37/female_chr16.txt\n"
     ]
    },
    {
     "name": "stderr",
     "output_type": "stream",
     "text": [
      "tar: Ignoring unknown extended header keyword 'SCHILY.dev'\n",
      "tar: Ignoring unknown extended header keyword 'SCHILY.ino'\n",
      "tar: Ignoring unknown extended header keyword 'SCHILY.nlink'\n"
     ]
    },
    {
     "name": "stdout",
     "output_type": "stream",
     "text": [
      "Refined_genetic_map_b37/female_chr17.txt\n"
     ]
    },
    {
     "name": "stderr",
     "output_type": "stream",
     "text": [
      "tar: Ignoring unknown extended header keyword 'SCHILY.dev'\n",
      "tar: Ignoring unknown extended header keyword 'SCHILY.ino'\n",
      "tar: Ignoring unknown extended header keyword 'SCHILY.nlink'\n"
     ]
    },
    {
     "name": "stdout",
     "output_type": "stream",
     "text": [
      "Refined_genetic_map_b37/female_chr18.txt\n"
     ]
    },
    {
     "name": "stderr",
     "output_type": "stream",
     "text": [
      "tar: Ignoring unknown extended header keyword 'SCHILY.dev'\n",
      "tar: Ignoring unknown extended header keyword 'SCHILY.ino'\n",
      "tar: Ignoring unknown extended header keyword 'SCHILY.nlink'\n"
     ]
    },
    {
     "name": "stdout",
     "output_type": "stream",
     "text": [
      "Refined_genetic_map_b37/female_chr19.txt\n"
     ]
    },
    {
     "name": "stderr",
     "output_type": "stream",
     "text": [
      "tar: Ignoring unknown extended header keyword 'SCHILY.dev'\n",
      "tar: Ignoring unknown extended header keyword 'SCHILY.ino'\n",
      "tar: Ignoring unknown extended header keyword 'SCHILY.nlink'\n"
     ]
    },
    {
     "name": "stdout",
     "output_type": "stream",
     "text": [
      "Refined_genetic_map_b37/female_chr2.txt\n"
     ]
    },
    {
     "name": "stderr",
     "output_type": "stream",
     "text": [
      "tar: Ignoring unknown extended header keyword 'SCHILY.dev'\n",
      "tar: Ignoring unknown extended header keyword 'SCHILY.ino'\n",
      "tar: Ignoring unknown extended header keyword 'SCHILY.nlink'\n"
     ]
    },
    {
     "name": "stdout",
     "output_type": "stream",
     "text": [
      "Refined_genetic_map_b37/female_chr20.txt\n"
     ]
    },
    {
     "name": "stderr",
     "output_type": "stream",
     "text": [
      "tar: Ignoring unknown extended header keyword 'SCHILY.dev'\n",
      "tar: Ignoring unknown extended header keyword 'SCHILY.ino'\n",
      "tar: Ignoring unknown extended header keyword 'SCHILY.nlink'\n"
     ]
    },
    {
     "name": "stdout",
     "output_type": "stream",
     "text": [
      "Refined_genetic_map_b37/female_chr21.txt\n"
     ]
    },
    {
     "name": "stderr",
     "output_type": "stream",
     "text": [
      "tar: Ignoring unknown extended header keyword 'SCHILY.dev'\n",
      "tar: Ignoring unknown extended header keyword 'SCHILY.ino'\n",
      "tar: Ignoring unknown extended header keyword 'SCHILY.nlink'\n"
     ]
    },
    {
     "name": "stdout",
     "output_type": "stream",
     "text": [
      "Refined_genetic_map_b37/female_chr22.txt\n"
     ]
    },
    {
     "name": "stderr",
     "output_type": "stream",
     "text": [
      "tar: Ignoring unknown extended header keyword 'SCHILY.dev'\n",
      "tar: Ignoring unknown extended header keyword 'SCHILY.ino'\n",
      "tar: Ignoring unknown extended header keyword 'SCHILY.nlink'\n"
     ]
    },
    {
     "name": "stdout",
     "output_type": "stream",
     "text": [
      "Refined_genetic_map_b37/female_chr3.txt\n"
     ]
    },
    {
     "name": "stderr",
     "output_type": "stream",
     "text": [
      "tar: Ignoring unknown extended header keyword 'LIBARCHIVE.creationtime'\n",
      "tar: Ignoring unknown extended header keyword 'SCHILY.dev'\n",
      "tar: Ignoring unknown extended header keyword 'SCHILY.ino'\n",
      "tar: Ignoring unknown extended header keyword 'SCHILY.nlink'\n"
     ]
    },
    {
     "name": "stdout",
     "output_type": "stream",
     "text": [
      "Refined_genetic_map_b37/female_chr4.txt\n"
     ]
    },
    {
     "name": "stderr",
     "output_type": "stream",
     "text": [
      "tar: Ignoring unknown extended header keyword 'SCHILY.dev'\n",
      "tar: Ignoring unknown extended header keyword 'SCHILY.ino'\n",
      "tar: Ignoring unknown extended header keyword 'SCHILY.nlink'\n"
     ]
    },
    {
     "name": "stdout",
     "output_type": "stream",
     "text": [
      "Refined_genetic_map_b37/female_chr5.txt\n"
     ]
    },
    {
     "name": "stderr",
     "output_type": "stream",
     "text": [
      "tar: Ignoring unknown extended header keyword 'SCHILY.dev'\n",
      "tar: Ignoring unknown extended header keyword 'SCHILY.ino'\n",
      "tar: Ignoring unknown extended header keyword 'SCHILY.nlink'\n"
     ]
    },
    {
     "name": "stdout",
     "output_type": "stream",
     "text": [
      "Refined_genetic_map_b37/female_chr6.txt\n",
      "Refined_genetic_map_b37/female_chr7.txt\n"
     ]
    },
    {
     "name": "stderr",
     "output_type": "stream",
     "text": [
      "tar: Ignoring unknown extended header keyword 'SCHILY.dev'\n",
      "tar: Ignoring unknown extended header keyword 'SCHILY.ino'\n",
      "tar: Ignoring unknown extended header keyword 'SCHILY.nlink'\n",
      "tar: Ignoring unknown extended header keyword 'SCHILY.dev'\n",
      "tar: Ignoring unknown extended header keyword 'SCHILY.ino'\n",
      "tar: Ignoring unknown extended header keyword 'SCHILY.nlink'\n"
     ]
    },
    {
     "name": "stdout",
     "output_type": "stream",
     "text": [
      "Refined_genetic_map_b37/female_chr8.txt\n"
     ]
    },
    {
     "name": "stderr",
     "output_type": "stream",
     "text": [
      "tar: Ignoring unknown extended header keyword 'LIBARCHIVE.creationtime'\n",
      "tar: Ignoring unknown extended header keyword 'SCHILY.dev'\n",
      "tar: Ignoring unknown extended header keyword 'SCHILY.ino'\n",
      "tar: Ignoring unknown extended header keyword 'SCHILY.nlink'\n"
     ]
    },
    {
     "name": "stdout",
     "output_type": "stream",
     "text": [
      "Refined_genetic_map_b37/female_chr9.txt\n"
     ]
    },
    {
     "name": "stderr",
     "output_type": "stream",
     "text": [
      "tar: Ignoring unknown extended header keyword 'SCHILY.dev'\n",
      "tar: Ignoring unknown extended header keyword 'SCHILY.ino'\n",
      "tar: Ignoring unknown extended header keyword 'SCHILY.nlink'\n"
     ]
    },
    {
     "name": "stdout",
     "output_type": "stream",
     "text": [
      "Refined_genetic_map_b37/female_chrX.txt\n"
     ]
    },
    {
     "name": "stderr",
     "output_type": "stream",
     "text": [
      "tar: Ignoring unknown extended header keyword 'SCHILY.dev'\n",
      "tar: Ignoring unknown extended header keyword 'SCHILY.ino'\n",
      "tar: Ignoring unknown extended header keyword 'SCHILY.nlink'\n"
     ]
    },
    {
     "name": "stdout",
     "output_type": "stream",
     "text": [
      "Refined_genetic_map_b37/male_chr1.txt\n"
     ]
    },
    {
     "name": "stderr",
     "output_type": "stream",
     "text": [
      "tar: Ignoring unknown extended header keyword 'SCHILY.dev'\n",
      "tar: Ignoring unknown extended header keyword 'SCHILY.ino'\n",
      "tar: Ignoring unknown extended header keyword 'SCHILY.nlink'\n"
     ]
    },
    {
     "name": "stdout",
     "output_type": "stream",
     "text": [
      "Refined_genetic_map_b37/male_chr10.txt\n"
     ]
    },
    {
     "name": "stderr",
     "output_type": "stream",
     "text": [
      "tar: Ignoring unknown extended header keyword 'LIBARCHIVE.creationtime'\n",
      "tar: Ignoring unknown extended header keyword 'SCHILY.dev'\n",
      "tar: Ignoring unknown extended header keyword 'SCHILY.ino'\n",
      "tar: Ignoring unknown extended header keyword 'SCHILY.nlink'\n"
     ]
    },
    {
     "name": "stdout",
     "output_type": "stream",
     "text": [
      "Refined_genetic_map_b37/male_chr11.txt\n"
     ]
    },
    {
     "name": "stderr",
     "output_type": "stream",
     "text": [
      "tar: Ignoring unknown extended header keyword 'SCHILY.dev'\n",
      "tar: Ignoring unknown extended header keyword 'SCHILY.ino'\n",
      "tar: Ignoring unknown extended header keyword 'SCHILY.nlink'\n"
     ]
    },
    {
     "name": "stdout",
     "output_type": "stream",
     "text": [
      "Refined_genetic_map_b37/male_chr12.txt\n"
     ]
    },
    {
     "name": "stderr",
     "output_type": "stream",
     "text": [
      "tar: Ignoring unknown extended header keyword 'SCHILY.dev'\n",
      "tar: Ignoring unknown extended header keyword 'SCHILY.ino'\n",
      "tar: Ignoring unknown extended header keyword 'SCHILY.nlink'\n"
     ]
    },
    {
     "name": "stdout",
     "output_type": "stream",
     "text": [
      "Refined_genetic_map_b37/male_chr13.txt\n"
     ]
    },
    {
     "name": "stderr",
     "output_type": "stream",
     "text": [
      "tar: Ignoring unknown extended header keyword 'SCHILY.dev'\n",
      "tar: Ignoring unknown extended header keyword 'SCHILY.ino'\n",
      "tar: Ignoring unknown extended header keyword 'SCHILY.nlink'\n"
     ]
    },
    {
     "name": "stdout",
     "output_type": "stream",
     "text": [
      "Refined_genetic_map_b37/male_chr14.txt\n"
     ]
    },
    {
     "name": "stderr",
     "output_type": "stream",
     "text": [
      "tar: Ignoring unknown extended header keyword 'SCHILY.dev'\n",
      "tar: Ignoring unknown extended header keyword 'SCHILY.ino'\n",
      "tar: Ignoring unknown extended header keyword 'SCHILY.nlink'\n"
     ]
    },
    {
     "name": "stdout",
     "output_type": "stream",
     "text": [
      "Refined_genetic_map_b37/male_chr15.txt\n"
     ]
    },
    {
     "name": "stderr",
     "output_type": "stream",
     "text": [
      "tar: Ignoring unknown extended header keyword 'SCHILY.dev'\n",
      "tar: Ignoring unknown extended header keyword 'SCHILY.ino'\n",
      "tar: Ignoring unknown extended header keyword 'SCHILY.nlink'\n"
     ]
    },
    {
     "name": "stdout",
     "output_type": "stream",
     "text": [
      "Refined_genetic_map_b37/male_chr16.txt\n"
     ]
    },
    {
     "name": "stderr",
     "output_type": "stream",
     "text": [
      "tar: Ignoring unknown extended header keyword 'SCHILY.dev'\n",
      "tar: Ignoring unknown extended header keyword 'SCHILY.ino'\n",
      "tar: Ignoring unknown extended header keyword 'SCHILY.nlink'\n"
     ]
    },
    {
     "name": "stdout",
     "output_type": "stream",
     "text": [
      "Refined_genetic_map_b37/male_chr17.txt\n"
     ]
    },
    {
     "name": "stderr",
     "output_type": "stream",
     "text": [
      "tar: Ignoring unknown extended header keyword 'SCHILY.dev'\n",
      "tar: Ignoring unknown extended header keyword 'SCHILY.ino'\n",
      "tar: Ignoring unknown extended header keyword 'SCHILY.nlink'\n"
     ]
    },
    {
     "name": "stdout",
     "output_type": "stream",
     "text": [
      "Refined_genetic_map_b37/male_chr18.txt\n"
     ]
    },
    {
     "name": "stderr",
     "output_type": "stream",
     "text": [
      "tar: Ignoring unknown extended header keyword 'LIBARCHIVE.creationtime'\n",
      "tar: Ignoring unknown extended header keyword 'SCHILY.dev'\n",
      "tar: Ignoring unknown extended header keyword 'SCHILY.ino'\n",
      "tar: Ignoring unknown extended header keyword 'SCHILY.nlink'\n"
     ]
    },
    {
     "name": "stdout",
     "output_type": "stream",
     "text": [
      "Refined_genetic_map_b37/male_chr19.txt\n"
     ]
    },
    {
     "name": "stderr",
     "output_type": "stream",
     "text": [
      "tar: Ignoring unknown extended header keyword 'SCHILY.dev'\n",
      "tar: Ignoring unknown extended header keyword 'SCHILY.ino'\n",
      "tar: Ignoring unknown extended header keyword 'SCHILY.nlink'\n"
     ]
    },
    {
     "name": "stdout",
     "output_type": "stream",
     "text": [
      "Refined_genetic_map_b37/male_chr2.txt\n"
     ]
    },
    {
     "name": "stderr",
     "output_type": "stream",
     "text": [
      "tar: Ignoring unknown extended header keyword 'LIBARCHIVE.creationtime'\n",
      "tar: Ignoring unknown extended header keyword 'SCHILY.dev'\n",
      "tar: Ignoring unknown extended header keyword 'SCHILY.ino'\n",
      "tar: Ignoring unknown extended header keyword 'SCHILY.nlink'\n"
     ]
    },
    {
     "name": "stdout",
     "output_type": "stream",
     "text": [
      "Refined_genetic_map_b37/male_chr20.txt\n"
     ]
    },
    {
     "name": "stderr",
     "output_type": "stream",
     "text": [
      "tar: Ignoring unknown extended header keyword 'SCHILY.dev'\n",
      "tar: Ignoring unknown extended header keyword 'SCHILY.ino'\n",
      "tar: Ignoring unknown extended header keyword 'SCHILY.nlink'\n"
     ]
    },
    {
     "name": "stdout",
     "output_type": "stream",
     "text": [
      "Refined_genetic_map_b37/male_chr21.txt\n"
     ]
    },
    {
     "name": "stderr",
     "output_type": "stream",
     "text": [
      "tar: Ignoring unknown extended header keyword 'SCHILY.dev'\n",
      "tar: Ignoring unknown extended header keyword 'SCHILY.ino'\n",
      "tar: Ignoring unknown extended header keyword 'SCHILY.nlink'\n"
     ]
    },
    {
     "name": "stdout",
     "output_type": "stream",
     "text": [
      "Refined_genetic_map_b37/male_chr22.txt\n"
     ]
    },
    {
     "name": "stderr",
     "output_type": "stream",
     "text": [
      "tar: Ignoring unknown extended header keyword 'SCHILY.dev'\n",
      "tar: Ignoring unknown extended header keyword 'SCHILY.ino'\n",
      "tar: Ignoring unknown extended header keyword 'SCHILY.nlink'\n"
     ]
    },
    {
     "name": "stdout",
     "output_type": "stream",
     "text": [
      "Refined_genetic_map_b37/male_chr3.txt\n"
     ]
    },
    {
     "name": "stderr",
     "output_type": "stream",
     "text": [
      "tar: Ignoring unknown extended header keyword 'SCHILY.dev'\n",
      "tar: Ignoring unknown extended header keyword 'SCHILY.ino'\n",
      "tar: Ignoring unknown extended header keyword 'SCHILY.nlink'\n"
     ]
    },
    {
     "name": "stdout",
     "output_type": "stream",
     "text": [
      "Refined_genetic_map_b37/male_chr4.txt\n"
     ]
    },
    {
     "name": "stderr",
     "output_type": "stream",
     "text": [
      "tar: Ignoring unknown extended header keyword 'SCHILY.dev'\n",
      "tar: Ignoring unknown extended header keyword 'SCHILY.ino'\n",
      "tar: Ignoring unknown extended header keyword 'SCHILY.nlink'\n"
     ]
    },
    {
     "name": "stdout",
     "output_type": "stream",
     "text": [
      "Refined_genetic_map_b37/male_chr5.txt\n"
     ]
    },
    {
     "name": "stderr",
     "output_type": "stream",
     "text": [
      "tar: Ignoring unknown extended header keyword 'SCHILY.dev'\n",
      "tar: Ignoring unknown extended header keyword 'SCHILY.ino'\n",
      "tar: Ignoring unknown extended header keyword 'SCHILY.nlink'\n"
     ]
    },
    {
     "name": "stdout",
     "output_type": "stream",
     "text": [
      "Refined_genetic_map_b37/male_chr6.txt\n"
     ]
    },
    {
     "name": "stderr",
     "output_type": "stream",
     "text": [
      "tar: Ignoring unknown extended header keyword 'LIBARCHIVE.creationtime'\n",
      "tar: Ignoring unknown extended header keyword 'SCHILY.dev'\n",
      "tar: Ignoring unknown extended header keyword 'SCHILY.ino'\n",
      "tar: Ignoring unknown extended header keyword 'SCHILY.nlink'\n"
     ]
    },
    {
     "name": "stdout",
     "output_type": "stream",
     "text": [
      "Refined_genetic_map_b37/male_chr7.txt\n"
     ]
    },
    {
     "name": "stderr",
     "output_type": "stream",
     "text": [
      "tar: Ignoring unknown extended header keyword 'SCHILY.dev'\n",
      "tar: Ignoring unknown extended header keyword 'SCHILY.ino'\n",
      "tar: Ignoring unknown extended header keyword 'SCHILY.nlink'\n"
     ]
    },
    {
     "name": "stdout",
     "output_type": "stream",
     "text": [
      "Refined_genetic_map_b37/male_chr8.txt\n"
     ]
    },
    {
     "name": "stderr",
     "output_type": "stream",
     "text": [
      "tar: Ignoring unknown extended header keyword 'SCHILY.dev'\n",
      "tar: Ignoring unknown extended header keyword 'SCHILY.ino'\n",
      "tar: Ignoring unknown extended header keyword 'SCHILY.nlink'\n"
     ]
    },
    {
     "name": "stdout",
     "output_type": "stream",
     "text": [
      "Refined_genetic_map_b37/male_chr9.txt\n"
     ]
    },
    {
     "name": "stderr",
     "output_type": "stream",
     "text": [
      "tar: Ignoring unknown extended header keyword 'SCHILY.dev'\n",
      "tar: Ignoring unknown extended header keyword 'SCHILY.ino'\n",
      "tar: Ignoring unknown extended header keyword 'SCHILY.nlink'\n"
     ]
    },
    {
     "name": "stdout",
     "output_type": "stream",
     "text": [
      "Refined_genetic_map_b37/sexavg_chr1.txt\n"
     ]
    },
    {
     "name": "stderr",
     "output_type": "stream",
     "text": [
      "tar: Ignoring unknown extended header keyword 'SCHILY.dev'\n",
      "tar: Ignoring unknown extended header keyword 'SCHILY.ino'\n",
      "tar: Ignoring unknown extended header keyword 'SCHILY.nlink'\n"
     ]
    },
    {
     "name": "stdout",
     "output_type": "stream",
     "text": [
      "Refined_genetic_map_b37/sexavg_chr10.txt\n"
     ]
    },
    {
     "name": "stderr",
     "output_type": "stream",
     "text": [
      "tar: Ignoring unknown extended header keyword 'SCHILY.dev'\n",
      "tar: Ignoring unknown extended header keyword 'SCHILY.ino'\n",
      "tar: Ignoring unknown extended header keyword 'SCHILY.nlink'\n"
     ]
    },
    {
     "name": "stdout",
     "output_type": "stream",
     "text": [
      "Refined_genetic_map_b37/sexavg_chr11.txt\n"
     ]
    },
    {
     "name": "stderr",
     "output_type": "stream",
     "text": [
      "tar: Ignoring unknown extended header keyword 'SCHILY.dev'\n",
      "tar: Ignoring unknown extended header keyword 'SCHILY.ino'\n",
      "tar: Ignoring unknown extended header keyword 'SCHILY.nlink'\n"
     ]
    },
    {
     "name": "stdout",
     "output_type": "stream",
     "text": [
      "Refined_genetic_map_b37/sexavg_chr12.txt\n"
     ]
    },
    {
     "name": "stderr",
     "output_type": "stream",
     "text": [
      "tar: Ignoring unknown extended header keyword 'LIBARCHIVE.creationtime'\n",
      "tar: Ignoring unknown extended header keyword 'SCHILY.dev'\n",
      "tar: Ignoring unknown extended header keyword 'SCHILY.ino'\n",
      "tar: Ignoring unknown extended header keyword 'SCHILY.nlink'\n"
     ]
    },
    {
     "name": "stdout",
     "output_type": "stream",
     "text": [
      "Refined_genetic_map_b37/sexavg_chr13.txt\n"
     ]
    },
    {
     "name": "stderr",
     "output_type": "stream",
     "text": [
      "tar: Ignoring unknown extended header keyword 'SCHILY.dev'\n",
      "tar: Ignoring unknown extended header keyword 'SCHILY.ino'\n",
      "tar: Ignoring unknown extended header keyword 'SCHILY.nlink'\n"
     ]
    },
    {
     "name": "stdout",
     "output_type": "stream",
     "text": [
      "Refined_genetic_map_b37/sexavg_chr14.txt\n"
     ]
    },
    {
     "name": "stderr",
     "output_type": "stream",
     "text": [
      "tar: Ignoring unknown extended header keyword 'SCHILY.dev'\n",
      "tar: Ignoring unknown extended header keyword 'SCHILY.ino'\n",
      "tar: Ignoring unknown extended header keyword 'SCHILY.nlink'\n"
     ]
    },
    {
     "name": "stdout",
     "output_type": "stream",
     "text": [
      "Refined_genetic_map_b37/sexavg_chr15.txt\n"
     ]
    },
    {
     "name": "stderr",
     "output_type": "stream",
     "text": [
      "tar: Ignoring unknown extended header keyword 'SCHILY.dev'\n",
      "tar: Ignoring unknown extended header keyword 'SCHILY.ino'\n",
      "tar: Ignoring unknown extended header keyword 'SCHILY.nlink'\n"
     ]
    },
    {
     "name": "stdout",
     "output_type": "stream",
     "text": [
      "Refined_genetic_map_b37/sexavg_chr16.txt\n"
     ]
    },
    {
     "name": "stderr",
     "output_type": "stream",
     "text": [
      "tar: Ignoring unknown extended header keyword 'SCHILY.dev'\n",
      "tar: Ignoring unknown extended header keyword 'SCHILY.ino'\n",
      "tar: Ignoring unknown extended header keyword 'SCHILY.nlink'\n"
     ]
    },
    {
     "name": "stdout",
     "output_type": "stream",
     "text": [
      "Refined_genetic_map_b37/sexavg_chr17.txt\n"
     ]
    },
    {
     "name": "stderr",
     "output_type": "stream",
     "text": [
      "tar: Ignoring unknown extended header keyword 'LIBARCHIVE.creationtime'\n",
      "tar: Ignoring unknown extended header keyword 'SCHILY.dev'\n",
      "tar: Ignoring unknown extended header keyword 'SCHILY.ino'\n",
      "tar: Ignoring unknown extended header keyword 'SCHILY.nlink'\n"
     ]
    },
    {
     "name": "stdout",
     "output_type": "stream",
     "text": [
      "Refined_genetic_map_b37/sexavg_chr18.txt\n"
     ]
    },
    {
     "name": "stderr",
     "output_type": "stream",
     "text": [
      "tar: Ignoring unknown extended header keyword 'SCHILY.dev'\n",
      "tar: Ignoring unknown extended header keyword 'SCHILY.ino'\n",
      "tar: Ignoring unknown extended header keyword 'SCHILY.nlink'\n"
     ]
    },
    {
     "name": "stdout",
     "output_type": "stream",
     "text": [
      "Refined_genetic_map_b37/sexavg_chr19.txt\n"
     ]
    },
    {
     "name": "stderr",
     "output_type": "stream",
     "text": [
      "tar: Ignoring unknown extended header keyword 'SCHILY.dev'\n",
      "tar: Ignoring unknown extended header keyword 'SCHILY.ino'\n",
      "tar: Ignoring unknown extended header keyword 'SCHILY.nlink'\n"
     ]
    },
    {
     "name": "stdout",
     "output_type": "stream",
     "text": [
      "Refined_genetic_map_b37/sexavg_chr2.txt\n"
     ]
    },
    {
     "name": "stderr",
     "output_type": "stream",
     "text": [
      "tar: Ignoring unknown extended header keyword 'LIBARCHIVE.creationtime'\n",
      "tar: Ignoring unknown extended header keyword 'SCHILY.dev'\n",
      "tar: Ignoring unknown extended header keyword 'SCHILY.ino'\n",
      "tar: Ignoring unknown extended header keyword 'SCHILY.nlink'\n"
     ]
    },
    {
     "name": "stdout",
     "output_type": "stream",
     "text": [
      "Refined_genetic_map_b37/sexavg_chr20.txt\n"
     ]
    },
    {
     "name": "stderr",
     "output_type": "stream",
     "text": [
      "tar: Ignoring unknown extended header keyword 'SCHILY.dev'\n",
      "tar: Ignoring unknown extended header keyword 'SCHILY.ino'\n",
      "tar: Ignoring unknown extended header keyword 'SCHILY.nlink'\n"
     ]
    },
    {
     "name": "stdout",
     "output_type": "stream",
     "text": [
      "Refined_genetic_map_b37/sexavg_chr21.txt\n"
     ]
    },
    {
     "name": "stderr",
     "output_type": "stream",
     "text": [
      "tar: Ignoring unknown extended header keyword 'SCHILY.dev'\n",
      "tar: Ignoring unknown extended header keyword 'SCHILY.ino'\n",
      "tar: Ignoring unknown extended header keyword 'SCHILY.nlink'\n"
     ]
    },
    {
     "name": "stdout",
     "output_type": "stream",
     "text": [
      "Refined_genetic_map_b37/sexavg_chr22.txt\n"
     ]
    },
    {
     "name": "stderr",
     "output_type": "stream",
     "text": [
      "tar: Ignoring unknown extended header keyword 'SCHILY.dev'\n",
      "tar: Ignoring unknown extended header keyword 'SCHILY.ino'\n",
      "tar: Ignoring unknown extended header keyword 'SCHILY.nlink'\n"
     ]
    },
    {
     "name": "stdout",
     "output_type": "stream",
     "text": [
      "Refined_genetic_map_b37/sexavg_chr3.txt\n"
     ]
    },
    {
     "name": "stderr",
     "output_type": "stream",
     "text": [
      "tar: Ignoring unknown extended header keyword 'SCHILY.dev'\n",
      "tar: Ignoring unknown extended header keyword 'SCHILY.ino'\n",
      "tar: Ignoring unknown extended header keyword 'SCHILY.nlink'\n"
     ]
    },
    {
     "name": "stdout",
     "output_type": "stream",
     "text": [
      "Refined_genetic_map_b37/sexavg_chr4.txt\n"
     ]
    },
    {
     "name": "stderr",
     "output_type": "stream",
     "text": [
      "tar: Ignoring unknown extended header keyword 'SCHILY.dev'\n",
      "tar: Ignoring unknown extended header keyword 'SCHILY.ino'\n",
      "tar: Ignoring unknown extended header keyword 'SCHILY.nlink'\n"
     ]
    },
    {
     "name": "stdout",
     "output_type": "stream",
     "text": [
      "Refined_genetic_map_b37/sexavg_chr5.txt\n"
     ]
    },
    {
     "name": "stderr",
     "output_type": "stream",
     "text": [
      "tar: Ignoring unknown extended header keyword 'LIBARCHIVE.creationtime'\n",
      "tar: Ignoring unknown extended header keyword 'SCHILY.dev'\n",
      "tar: Ignoring unknown extended header keyword 'SCHILY.ino'\n",
      "tar: Ignoring unknown extended header keyword 'SCHILY.nlink'\n"
     ]
    },
    {
     "name": "stdout",
     "output_type": "stream",
     "text": [
      "Refined_genetic_map_b37/sexavg_chr6.txt\n"
     ]
    },
    {
     "name": "stderr",
     "output_type": "stream",
     "text": [
      "tar: Ignoring unknown extended header keyword 'SCHILY.dev'\n",
      "tar: Ignoring unknown extended header keyword 'SCHILY.ino'\n",
      "tar: Ignoring unknown extended header keyword 'SCHILY.nlink'\n"
     ]
    },
    {
     "name": "stdout",
     "output_type": "stream",
     "text": [
      "Refined_genetic_map_b37/sexavg_chr7.txt\n"
     ]
    },
    {
     "name": "stderr",
     "output_type": "stream",
     "text": [
      "tar: Ignoring unknown extended header keyword 'SCHILY.dev'\n",
      "tar: Ignoring unknown extended header keyword 'SCHILY.ino'\n",
      "tar: Ignoring unknown extended header keyword 'SCHILY.nlink'\n"
     ]
    },
    {
     "name": "stdout",
     "output_type": "stream",
     "text": [
      "Refined_genetic_map_b37/sexavg_chr8.txt\n"
     ]
    },
    {
     "name": "stderr",
     "output_type": "stream",
     "text": [
      "tar: Ignoring unknown extended header keyword 'LIBARCHIVE.creationtime'\n",
      "tar: Ignoring unknown extended header keyword 'SCHILY.dev'\n",
      "tar: Ignoring unknown extended header keyword 'SCHILY.ino'\n",
      "tar: Ignoring unknown extended header keyword 'SCHILY.nlink'\n"
     ]
    },
    {
     "name": "stdout",
     "output_type": "stream",
     "text": [
      "Refined_genetic_map_b37/sexavg_chr9.txt\n"
     ]
    },
    {
     "name": "stderr",
     "output_type": "stream",
     "text": [
      "tar: Ignoring unknown extended header keyword 'SCHILY.dev'\n",
      "tar: Ignoring unknown extended header keyword 'SCHILY.ino'\n",
      "tar: Ignoring unknown extended header keyword 'SCHILY.nlink'\n"
     ]
    }
   ],
   "source": [
    "%%bash -s \"$references_directory\"\n",
    "\n",
    "# Receive directory variables from Python\n",
    "references_directory=$1\n",
    "\n",
    "# genetic map for ped-sim\n",
    "\n",
    "wget https://github.com/cbherer/Bherer_etal_SexualDimorphismRecombination/raw/master/Refined_genetic_map_b37.tar.gz -P $references_directory\n",
    "tar xvzf $references_directory/Refined_genetic_map_b37.tar.gz -C $references_directory\n",
    "printf \"#chr\\tpos\\tmale_cM\\tfemale_cM\\n\" > $references_directory/refined_mf_b37.simmap\n",
    "\n",
    "# The paste command combines each line from the male chromosome file (male_chr$chr.txt)\n",
    "# with the corresponding line from the female chromosome file (female_chr$chr.txt).\n",
    "# They are combined side by side, separated by a tab.\n",
    "for chr in {1..22}; do\n",
    "  paste $references_directory/Refined_genetic_map_b37/male_chr$chr.txt $references_directory/Refined_genetic_map_b37/female_chr$chr.txt \\\n",
    "    | awk -v OFS=\"\\t\" 'NR > 1 && $2 == $6 {print $1,$2,$4,$8}' \\\n",
    "    | sed 's/^chr//' >> $references_directory/refined_mf_b37.simmap\n",
    "done\n",
    "\n",
    "rm $references_directory/Refined_genetic_map_b37.tar.gz\n",
    "rm -r $references_directory/Refined_genetic_map_b37\n",
    "\n",
    "# When you get the check mark indicating that the cell successfully completed its run,\n",
    "# go ahead and clear the cell output.\n",
    "\n",
    "# For the moment, you can igore:\n",
    "\n",
    "# tar: Ignoring unknown extended header keyword 'SCHILY.dev'\n",
    "# tar: Ignoring unknown extended header keyword 'SCHILY.ino'\n",
    "# tar: Ignoring unknown extended header keyword 'SCHILY.nlink'"
   ]
  },
  {
   "cell_type": "markdown",
   "metadata": {},
   "source": [
    "You should now have the `refined_mf_b37.simmap` file in your references directory. Manually take a look at the file. It is a text file so you can use Notepad++ or your build-in text editor to view it.\n",
    "\n",
    "The next two cells is used to convert the file from build 37 to build 38."
   ]
  },
  {
   "cell_type": "code",
   "execution_count": 21,
   "metadata": {},
   "outputs": [
    {
     "name": "stderr",
     "output_type": "stream",
     "text": [
      "Reading liftover chains\n",
      "Mapping coordinates\n"
     ]
    }
   ],
   "source": [
    "%%bash -s \"$references_directory\" \"$utils_directory\"\n",
    "\n",
    "# Receive directory variables from Python\n",
    "references_directory=$1\n",
    "utils_directory=$2\n",
    "\n",
    "# --- Convert the build 37 map to build 38 using liftOver ---\n",
    "\n",
    "# Create a BED file from the build 37 simmap.\n",
    "# The BED file requires 0-based start coordinates, so subtract 1 from the position.\n",
    "awk 'NR>1 {print \"chr\"$1, $2-1, $2, $3, $4}' OFS=\"\\t\" $references_directory/refined_mf_b37.simmap > $references_directory/refined_mf_b37.bed\n",
    "\n",
    "# Run liftOver to convert BED coordinates to build 38.\n",
    "liftOver $references_directory/refined_mf_b37.bed \\\n",
    "         $references_directory/hg19ToHg38.over.chain.gz \\\n",
    "         $references_directory/refined_mf_b38.bed \\\n",
    "         $references_directory/refined_mf_b38.unmapped\n",
    "\n",
    "# (Optional) Clean up temporary files\n",
    "rm $references_directory/refined_mf_b37.bed"
   ]
  },
  {
   "cell_type": "code",
   "execution_count": 22,
   "metadata": {},
   "outputs": [
    {
     "name": "stdout",
     "output_type": "stream",
     "text": [
      "Sample of data to be saved:\n",
      "   chr     pos   male_cM  female_cM\n",
      "0    1  817341  0.000000   0.000000\n",
      "1    1  841742  0.000197   0.003215\n",
      "2    1  900119  0.000473   0.007541\n",
      "3    1  983004  0.000796   0.008436\n",
      "4    1  985353  0.000968   0.009608\n",
      "Processing complete - chromosomes saved as integers.\n"
     ]
    }
   ],
   "source": [
    "# Read the BED file\n",
    "bed_file = os.path.join(references_directory, \"refined_mf_b38.bed\")\n",
    "bed_data = pd.read_csv(bed_file, sep='\\t', header=None)\n",
    "\n",
    "# Rename columns for clarity\n",
    "bed_data.columns = ['chr', 'start', 'pos', 'male_cM', 'female_cM']\n",
    "\n",
    "# Clean chromosome names (remove 'chr' prefix)\n",
    "bed_data['chr'] = bed_data['chr'].str.replace('chr', '', regex=True)\n",
    "\n",
    "# Convert chromosome to numeric if possible\n",
    "bed_data['chr'] = pd.to_numeric(bed_data['chr'], errors='coerce')\n",
    "\n",
    "# Filter for chromosomes 1-22 and remove NaN values\n",
    "mask = (bed_data['chr'] >= 1) & (bed_data['chr'] <= 22) & (bed_data['chr'].notna())\n",
    "filtered_data = bed_data[mask].copy()  # Create a copy to avoid the warning\n",
    "\n",
    "# Convert chromosome to integer after filtering out NaN values\n",
    "filtered_data['chr'] = filtered_data['chr'].astype(int)\n",
    "\n",
    "# Sort by chromosome (numerically) and position\n",
    "sorted_data = filtered_data.sort_values(by=['chr', 'pos'])\n",
    "\n",
    "# Keep only necessary columns\n",
    "simmap_data = sorted_data[['chr', 'pos', 'male_cM', 'female_cM']]\n",
    "\n",
    "# Print sample of data to verify\n",
    "print(\"Sample of data to be saved:\")\n",
    "print(simmap_data.head())\n",
    "\n",
    "# Save to simmap file with header\n",
    "simmap_file = os.path.join(references_directory, \"refined_mf_b38.simmap\")\n",
    "with open(simmap_file, 'w') as f:\n",
    "    f.write(\"#chr\\tpos\\tmale_cM\\tfemale_cM\\n\")\n",
    "simmap_data.to_csv(simmap_file, sep='\\t', index=False, header=False, mode='a')\n",
    "\n",
    "print(\"Processing complete - chromosomes saved as integers.\")"
   ]
  },
  {
   "cell_type": "markdown",
   "metadata": {},
   "source": [
    "## Run Ped-sim"
   ]
  },
  {
   "cell_type": "markdown",
   "metadata": {},
   "source": [
    "Now you are ready to run ped-sim."
   ]
  },
  {
   "cell_type": "code",
   "execution_count": 23,
   "metadata": {},
   "outputs": [
    {
     "name": "stdout",
     "output_type": "stream",
     "text": [
      "Pedigree simulator!  v1.4.5    (Released 13 Dec 2024)\n",
      "\n",
      "  Def file:\t\t/home/davenport/computational_genetic_genealogy/results/pedigree.def\n",
      "  Map file:\t\t/home/davenport/computational_genetic_genealogy/references/refined_mf_b38.simmap\n",
      "  Input VCF:\t\t[none: no genetic data]\n",
      "  Output prefix:\t/home/davenport/computational_genetic_genealogy/results/ped_sim_run\n",
      "\n",
      "  Random seed:\t\t1234\n",
      "\n",
      "  Interference file:\t/home/davenport/computational_genetic_genealogy/utils/ped-sim/interfere/nu_p_campbell.tsv\n",
      "\n",
      "Simulating haplotype transmissions... done.\n",
      "Printing IBD segments and MRCAs... done.\n",
      "Printing fam file... done.  (Do not use with PLINK data: see README.md)\n",
      "\n",
      "To simulate genetic data, must use an input VCF with 220 founders.\n"
     ]
    }
   ],
   "source": [
    "%%bash -s \"$references_directory\" \"$utils_directory\" \"$results_directory\"\n",
    "\n",
    "# Receive directory variables from Python\n",
    "references_directory=$1\n",
    "utils_directory=$2\n",
    "results_directory=$3\n",
    "pedigree_definition_file=\"pedigree.def\"\n",
    "ped_sim_filename=\"ped_sim_run\"\n",
    "\n",
    "# Run ped-sim with parameters:\n",
    "\n",
    "# -d: Specifies the path to the pedigree definition file.\n",
    "# -m: Specifies the path to the genetic map file.\n",
    "# -o: Specifies the prefix for the output files.\n",
    "# --intf: Uses the interference crossover model\n",
    "# --seed: Sets the random number generator seed to ensure reproducibility.\n",
    "# --fam: Outputs the simulated data in PLINK's .fam format.\n",
    "# --mrca: Outputs the most recent common ancestor (MRCA) of all sampled individuals.\n",
    "\n",
    "\n",
    "# Notice that this uses the human crossover interference parameters stored in pedsim/interfere directory\n",
    "\n",
    "${utils_directory}/ped-sim/ped-sim \\\n",
    "  -d $results_directory/$pedigree_definition_file \\\n",
    "  -m $references_directory/refined_mf_b38.simmap \\\n",
    "  -o $results_directory/$ped_sim_filename \\\n",
    "  --intf $utils_directory/ped-sim/interfere/nu_p_campbell.tsv \\\n",
    "  --seed 1234 \\\n",
    "  --fam \\\n",
    "  --mrca\n",
    "\n",
    "# # using --pois instead of --intf\n",
    "# # --pois: Uses the Poisson distribution to determine the number of crossovers.\n",
    "# ./pedsim/ped-sim \\\n",
    "#   -d $util_directory/$pedigree_definition_file \\\n",
    "#   -m $references_directory/combined_genetic_map_b38.txt \\\n",
    "#   -o $results_directory/$ped_sim_filename \\\n",
    "#   --pois \\\n",
    "#   --seed 1234 \\\n",
    "#   --fam \\\n",
    "#   --mrca"
   ]
  },
  {
   "cell_type": "markdown",
   "metadata": {},
   "source": [
    "**Let's take a look at the results.** \n",
    "\n",
    "Familiarize yourself with the different result files. Those are the ped_sim_run files in your results directory. Notice from the output of the above cell that if you wanted to simulate genotype data for this configuration, you would need to rerun the above cell with an input VCF with 220 founders (if you selected 10 pedigrees and the predefined pedigree). For now, we do not actually need the genotype itself. Using the IBD segment data (the .seg file) is sufficient."
   ]
  },
  {
   "cell_type": "markdown",
   "metadata": {},
   "source": [
    "## Graphing the results\n",
    "\n",
    "In this run, we will first define the graph function, then call the function to create our graph."
   ]
  },
  {
   "cell_type": "markdown",
   "metadata": {},
   "source": [
    "**Define the graph function.**"
   ]
  },
  {
   "cell_type": "code",
   "execution_count": null,
   "metadata": {},
   "outputs": [],
   "source": [
    "import pandas as pd\n",
    "import matplotlib.pyplot as plt\n",
    "import networkx as nx\n",
    "import os\n",
    "\n",
    "def graph_fam_file_simulated(filename, pedigree=None):\n",
    "    fam_file = pd.read_csv(os.path.join(results_directory, filename), sep=\" \", header=None)\n",
    "    fam_file.columns = [\"fam\", \"id\", \"parent0\", \"parent1\", \"sex\", \"phenotype\"]\n",
    "\n",
    "    if pedigree is not None:\n",
    "\n",
    "        # Extract pedigree number from the first element\n",
    "        fam_file['pedigree_num'] = fam_file['fam'].apply(lambda x: x.replace(\"FAM\", \"\"))\n",
    "        fam_file = fam_file[fam_file['pedigree_num'] == str(pedigree)]\n",
    "\n",
    "    fig = plt.figure(num=None, figsize=(250, 100), dpi=100)\n",
    "\n",
    "    G = nx.DiGraph()\n",
    "\n",
    "    for index, row in fam_file.iterrows():\n",
    "        id = row['id']\n",
    "\n",
    "        values_id1 = id.split(\"_\")\n",
    "        \n",
    "        # Ensure the ID follows expected format\n",
    "        if len(values_id1) < 2:\n",
    "            raise ValueError(f\"Unexpected ID format: {id} -> {values_id1}\")\n",
    "        \n",
    "        subvalues_id1 = values_id1[1].split(\"-\")\n",
    "        gen_id1 = int(subvalues_id1[0].lstrip(\"g\"))\n",
    "\n",
    "        G.add_node(id, time=gen_id1)\n",
    "\n",
    "        for parent_column in ['parent0', 'parent1']:\n",
    "            if row[parent_column] != '0':\n",
    "                parent_id = row[parent_column]\n",
    "                values_parent = parent_id.split(\"_\")\n",
    "\n",
    "                if len(values_parent) < 2:\n",
    "                    raise ValueError(f\"Unexpected Parent format: {parent_id} -> {values_parent}\")\n",
    "\n",
    "                subvalues_parent = values_parent[1].split(\"-\")\n",
    "                gen_parent = int(subvalues_parent[0].lstrip(\"g\"))\n",
    "                G.add_node(parent_id, time=gen_parent)\n",
    "                G.add_edge(parent_id, id)\n",
    "\n",
    "    # Reverse the order of generations\n",
    "    max_gen = max(gen_id1 for _, gen_id1 in G.nodes(data='time'))\n",
    "    for node, data in G.nodes(data=True):\n",
    "        data['time'] = max_gen - data['time']\n",
    "\n",
    "    return G"
   ]
  },
  {
   "cell_type": "markdown",
   "metadata": {},
   "source": [
    "**Call the graph function.**"
   ]
  },
  {
   "cell_type": "code",
   "execution_count": null,
   "metadata": {},
   "outputs": [],
   "source": [
    "G1 = graph_fam_file_simulated(\"ped_sim_run-everyone.fam\")\n",
    "pos = nx.multipartite_layout(G1, subset_key=\"time\", align=\"horizontal\", scale=50)\n",
    "nx.draw_networkx(G1, pos, node_size=3000, with_labels=True, arrows=False)\n",
    "ped_sim_plot_filename = f\"{results_directory}/diagram_ped_sim_pedigree.svg\"\n",
    "# plt.title(\"Ped-Sim Pedigree\")\n",
    "plt.savefig(ped_sim_plot_filename, bbox_inches = 'tight', pad_inches = 0)"
   ]
  },
  {
   "cell_type": "markdown",
   "metadata": {},
   "source": [
    "In the output, you will see a depiction of all 10 pedigrees (also saved in your results directory as a `diagram_ped_sim_pedigree.svg`). You should see five rows of blue dots. These are the six generations specified in the pedigree definition file. But perhaps it's a little difficult to see what's going on in the output. Let's take a look at just one of the pedigrees."
   ]
  },
  {
   "cell_type": "code",
   "execution_count": null,
   "metadata": {},
   "outputs": [],
   "source": [
    "pedigree_num = 1\n",
    "G2 = graph_fam_file_simulated(\"ped_sim_run-everyone.fam\", pedigree = pedigree_num)\n",
    "pos = nx.multipartite_layout(G2, subset_key=\"time\", align=\"horizontal\", scale=50)\n",
    "nx.draw_networkx(G2, pos, node_size=3000, with_labels=True, arrows=False)\n",
    "ped_sim_plot_filename = f\"{results_directory}/diagram_ped_sim_pedigree_{pedigree_num}.svg\"\n",
    "plt.savefig(ped_sim_plot_filename, bbox_inches='tight', pad_inches=0)"
   ]
  },
  {
   "cell_type": "markdown",
   "metadata": {},
   "source": [
    "That's better. Now we can see what one of the pedigrees look like.\n",
    "\n",
    "Each node (blue circle) is a person. Each edge (line) represents one generation.\n",
    "\n",
    "Can you identify:\n",
    "- full siblings\n",
    "- first cousins\n",
    "- second cousins\n",
    "- third cousins\n",
    "- parents\n",
    "- grandparents\n",
    "- great grandparents\n",
    "- 2x great grandparents\n",
    "- aunt/uncle (avuncular)"
   ]
  },
  {
   "cell_type": "markdown",
   "metadata": {},
   "source": [
    "## Segments\n",
    "\n",
    "Now, let's look at the segment data and build our data table."
   ]
  },
  {
   "cell_type": "code",
   "execution_count": null,
   "metadata": {},
   "outputs": [],
   "source": [
    "segments = pd.read_csv(os.path.join(results_directory, \"ped_sim_run2.seg\"), sep=\"\\t\", header = None)\n",
    "segments.head()"
   ]
  },
  {
   "cell_type": "markdown",
   "metadata": {},
   "source": [
    "Notice the column headers are not very informative. Let's change that."
   ]
  },
  {
   "cell_type": "code",
   "execution_count": null,
   "metadata": {},
   "outputs": [],
   "source": [
    "segments.columns = ([\"id1\", \"id2\", \"chromosome\", \"physical_position_start\", \"physical_position_end\", \"IBD_type\", \"genetic_position_start\", \"genetic_position_end\", \"genetic_length\"])\n",
    "segments.head()"
   ]
  },
  {
   "cell_type": "code",
   "execution_count": null,
   "metadata": {},
   "outputs": [],
   "source": [
    "segments.info()"
   ]
  },
  {
   "cell_type": "code",
   "execution_count": null,
   "metadata": {},
   "outputs": [],
   "source": [
    "# Get the unique values\n",
    "segments['IBD_type'].unique()"
   ]
  },
  {
   "cell_type": "code",
   "execution_count": null,
   "metadata": {},
   "outputs": [],
   "source": [
    "segments['chromosome'].unique()"
   ]
  },
  {
   "cell_type": "code",
   "execution_count": null,
   "metadata": {},
   "outputs": [],
   "source": [
    "# Get data descriptives\n",
    "segments['genetic_length'].describe()"
   ]
  },
  {
   "cell_type": "code",
   "execution_count": null,
   "metadata": {},
   "outputs": [],
   "source": [
    "# Get the DNA segment minimum genetic length\n",
    "\n",
    "min_segment_size = float(segments['genetic_length'].min())\n",
    "\n",
    "print(f\"The minimum segment size is {min_segment_size:.6f} cM.\")"
   ]
  },
  {
   "cell_type": "markdown",
   "metadata": {},
   "source": [
    "In reality, we would not work with DNA segments smaller than what we can accurately detect. The IBD detection algorithms we use can accurately detect IBD segments at a minimum of 2 cM (e.g., Refined IBD). Let's conservatively filter the segment such that we use only the segments with a minimum of 3 cM."
   ]
  },
  {
   "cell_type": "code",
   "execution_count": null,
   "metadata": {},
   "outputs": [],
   "source": [
    "# Subset your data.\n",
    "# Get only the segments with a genetic length of at least 3 cM.\n",
    "\n",
    "filtered_segments = segments[segments['genetic_length'] >= 3]\n",
    "filtered_segments.info()"
   ]
  },
  {
   "cell_type": "code",
   "execution_count": null,
   "metadata": {},
   "outputs": [],
   "source": [
    "# Get data descriptives\n",
    "filtered_segments['genetic_length'].describe()"
   ]
  },
  {
   "cell_type": "markdown",
   "metadata": {},
   "source": [
    "Compare the descriptive output of the full dataset and the subsetted dataset."
   ]
  },
  {
   "cell_type": "markdown",
   "metadata": {},
   "source": [
    "You can use other filtering conditions if you want. For example, you could filter the segments between 10 and 50 cM inclusively."
   ]
  },
  {
   "cell_type": "code",
   "execution_count": null,
   "metadata": {},
   "outputs": [],
   "source": [
    "filtered_segments_50_10 = segments[(segments['genetic_length'] >= 10) & (segments['genetic_length'] <= 50)]\n",
    "filtered_segments_50_10.info()"
   ]
  },
  {
   "cell_type": "code",
   "execution_count": null,
   "metadata": {},
   "outputs": [],
   "source": [
    "filtered_segments_50_10['genetic_length'].describe()"
   ]
  },
  {
   "cell_type": "markdown",
   "metadata": {},
   "source": [
    "Let's create a summary pandas dataframe called relationships based on the segment data. Instead of having a row for each segment, this dataframe will summarize the shared segments for each unique pair."
   ]
  },
  {
   "cell_type": "code",
   "execution_count": null,
   "metadata": {},
   "outputs": [],
   "source": [
    "# Create the relationships dataframe for simulated data\n",
    "\n",
    "def segment_position(x, position):\n",
    "    sorted_values = x.sort_values(ascending=False)\n",
    "    if len(sorted_values) < position:\n",
    "        return 0\n",
    "    return sorted_values.iloc[position - 1]\n",
    "\n",
    "relationships = filtered_segments.groupby(['id1', 'id2']).agg(\n",
    "    num_seg=('id1', 'size'),\n",
    "    total_shared=('genetic_length', 'sum'),\n",
    "    max_seg=('genetic_length', 'max'),\n",
    "    second_seg=('genetic_length', lambda x: segment_position(x, 2)),\n",
    "    third_seg=('genetic_length', lambda x: segment_position(x, 3)),\n",
    "    fourth_seg=('genetic_length', lambda x: segment_position(x, 4)),\n",
    ").reset_index()\n",
    "\n",
    "relationships.head()"
   ]
  },
  {
   "cell_type": "code",
   "execution_count": null,
   "metadata": {},
   "outputs": [],
   "source": [
    "relationships.info()"
   ]
  },
  {
   "cell_type": "code",
   "execution_count": null,
   "metadata": {},
   "outputs": [],
   "source": [
    "updated_relationships = relationships.copy()  # Create a copy of the relationships DataFrame\n",
    "\n",
    "def get_relationships(row):\n",
    "    common_ancestors = nx.lowest_common_ancestor(G1, row['id1'], row['id2'])\n",
    "    path_lengths1 = nx.shortest_path_length(G1, source=common_ancestors, target=row['id1'])\n",
    "    path_lengths2 = nx.shortest_path_length(G1, source=common_ancestors, target=row['id2'])\n",
    "    return str((path_lengths1, path_lengths2))\n",
    "\n",
    "with tqdm(total=len(updated_relationships), desc=\"Processing relationships\") as progress_bar:\n",
    "    for index, row in updated_relationships.iterrows():\n",
    "        updated_relationships.loc[index, 'genealogical_relationship'] = get_relationships(row)\n",
    "        progress_bar.update()\n",
    "\n",
    "updated_relationships.head()"
   ]
  },
  {
   "cell_type": "markdown",
   "metadata": {},
   "source": [
    "In the updated relationships dataframe, each row represents an unique pair. It also has the total number of segments shared in the pair, total amount of DNA (minimum of 3 cM), and largest 4 segment (cM). You'll also see a genealogical_relationship column where the value is a tuple. In the tuple, the first value is the number of generations from id1 to the shared ancestor, and the second value is the number of generations from id2 and the shared ancestor. For example, (2, 1) means that there is 2 generations between id1 and the shared ancestor and 1 generation between id2 and the shared ancestor. A genealogical_relationship of (1, 1) is full siblings (i.e., siblings sharing both biological parents). A value of 0 means \"self\", indicating that self is the ancestor of the other person. For example, (0, 1) means that id1 is the parent of id2. In another example, (2, 0) means that id1 is the grandchild of id2."
   ]
  },
  {
   "cell_type": "code",
   "execution_count": null,
   "metadata": {},
   "outputs": [],
   "source": [
    "updated_relationships.info()"
   ]
  },
  {
   "cell_type": "code",
   "execution_count": null,
   "metadata": {},
   "outputs": [],
   "source": [
    "updated_relationships.describe()"
   ]
  },
  {
   "cell_type": "markdown",
   "metadata": {},
   "source": [
    "In the next cell, we will add column meiotic_distance. Meiotic distance is the number of meioses separating the members of the pair. It is calculated by summing the values in the genealogical_relationship tuple."
   ]
  },
  {
   "cell_type": "code",
   "execution_count": null,
   "metadata": {},
   "outputs": [],
   "source": [
    "import ast\n",
    "\n",
    "updated_relationships['genealogical_relationship'] = updated_relationships['genealogical_relationship'].apply(ast.literal_eval)\n",
    "updated_relationships['meiotic_distance'] = updated_relationships['genealogical_relationship'].apply(lambda x: sum(x) if isinstance(x, tuple) else \"\")\n",
    "\n",
    "updated_relationships.head()"
   ]
  },
  {
   "cell_type": "code",
   "execution_count": null,
   "metadata": {},
   "outputs": [],
   "source": [
    "updated_relationships.to_csv(os.path.join(results_directory, \"relationships.csv\"), sep=\"\\t\", index=False)\n",
    "\n",
    "# Manually confirm that your relationships.csv file is in your results directory."
   ]
  },
  {
   "cell_type": "code",
   "execution_count": null,
   "metadata": {},
   "outputs": [],
   "source": [
    "updated_relationships.describe()"
   ]
  },
  {
   "cell_type": "code",
   "execution_count": null,
   "metadata": {},
   "outputs": [],
   "source": [
    "print(updated_relationships['genealogical_relationship'].value_counts())\n",
    "print(\"\\n\")\n",
    "print(f\"There are {len(updated_relationships['genealogical_relationship'].unique())} different relationship groups among the sampled individuals in this pedigree.\")"
   ]
  },
  {
   "cell_type": "markdown",
   "metadata": {},
   "source": [
    "Let's explore some descriptives of DNA sharing (min 3 cM segment) at the various relationship levels."
   ]
  },
  {
   "cell_type": "code",
   "execution_count": null,
   "metadata": {},
   "outputs": [],
   "source": [
    "updated_relationships.drop([\n",
    "    \"id1\", \"id2\",\n",
    "    \"second_seg\", \"third_seg\",\n",
    "    \"meiotic_distance\"\n",
    "    ], axis=1).groupby(\"genealogical_relationship\").agg(['count', 'mean', 'std', 'min', 'max'])"
   ]
  },
  {
   "cell_type": "markdown",
   "metadata": {},
   "source": [
    "### Additional Exploration"
   ]
  },
  {
   "cell_type": "code",
   "execution_count": null,
   "metadata": {},
   "outputs": [],
   "source": [
    "# Read the saved csv file as a Pandas dataframe, replacing the previously saved `relationships` value.\n",
    "relationships = pd.read_csv(os.path.join(results_directory, \"relationships.csv\"), sep = \"\\t\")\n",
    "\n",
    "relationships.head()"
   ]
  },
  {
   "cell_type": "code",
   "execution_count": null,
   "metadata": {},
   "outputs": [],
   "source": [
    "relationships.info()"
   ]
  },
  {
   "cell_type": "code",
   "execution_count": null,
   "metadata": {},
   "outputs": [],
   "source": [
    "sns.scatterplot(data=relationships, y='meiotic_distance', x='max_seg')\n",
    "plt.xlabel('Max Segment Length')\n",
    "plt.ylabel('Genealogical Distance')\n",
    "plt.title('Scatter Plot: Genealogical Distance vs Max Segment Length')\n",
    "plt.show()"
   ]
  },
  {
   "cell_type": "code",
   "execution_count": null,
   "metadata": {},
   "outputs": [],
   "source": [
    "sns.scatterplot(data=relationships, y='meiotic_distance', x='num_seg')\n",
    "plt.xlabel('Number of Segments')\n",
    "plt.ylabel('Genealogical Distance')\n",
    "plt.title('Scatter Plot: Genealogical Distance vs Number of Segments')\n",
    "plt.show()"
   ]
  },
  {
   "cell_type": "code",
   "execution_count": null,
   "metadata": {},
   "outputs": [],
   "source": [
    "sns.kdeplot(data=relationships, x='max_seg', y='meiotic_distance', cmap='viridis', fill=True)\n",
    "plt.xlabel('Max Segment Length')\n",
    "plt.ylabel('Genealogical Distance (generations)')\n",
    "plt.title('Density Plot: Max Segment Length vs Genealogical Relationship')\n",
    "\n",
    "# Set the y-axis tick labels based on the range of meiotic_distance\n",
    "gg_distance_values = sorted(relationships['meiotic_distance'].unique())\n",
    "plt.yticks(gg_distance_values, gg_distance_values)\n",
    "plt.show()"
   ]
  },
  {
   "cell_type": "code",
   "execution_count": null,
   "metadata": {},
   "outputs": [],
   "source": [
    "sns.kdeplot(data=relationships, x='num_seg', y='meiotic_distance', cmap='viridis', fill=True)\n",
    "plt.xlabel('Number of Segments')\n",
    "plt.ylabel('Genealogical Distance (generations)')\n",
    "plt.title('Density Plot: Number of Segments vs Genealogical Relationship')\n",
    "\n",
    "# Set the y-axis tick labels based on the range of meiotic_distance\n",
    "gg_distance_values = sorted(relationships['meiotic_distance'].unique())\n",
    "plt.yticks(gg_distance_values, gg_distance_values)\n",
    "plt.show()"
   ]
  },
  {
   "cell_type": "code",
   "execution_count": null,
   "metadata": {},
   "outputs": [],
   "source": [
    "# Get the average segment size for each pair\n",
    "relationships[\"average_segment_size\"] = relationships[\"total_shared\"] / relationships[\"num_seg\"]\n",
    "\n",
    "relationships.head()"
   ]
  },
  {
   "cell_type": "markdown",
   "metadata": {},
   "source": [
    "Let's take a look at the average segment size for each meiotic distance."
   ]
  },
  {
   "cell_type": "code",
   "execution_count": null,
   "metadata": {},
   "outputs": [],
   "source": [
    "relationships.groupby('meiotic_distance')['average_segment_size'].mean()"
   ]
  },
  {
   "cell_type": "markdown",
   "metadata": {},
   "source": [
    "Notice that the average segment size decreases as the meiotic distance between members of a pair increases."
   ]
  },
  {
   "cell_type": "code",
   "execution_count": null,
   "metadata": {},
   "outputs": [],
   "source": [
    "import seaborn as sns\n",
    "import matplotlib.pyplot as plt\n",
    "\n",
    "sns.kdeplot(\n",
    "    data=relationships,\n",
    "    x='average_segment_size',\n",
    "    y='meiotic_distance',\n",
    "    cmap='viridis',\n",
    "    fill=True\n",
    ")\n",
    "\n",
    "plt.xlabel('Average Segment Size')\n",
    "plt.ylabel('Genealogical Distance (generations)')\n",
    "plt.title('KDE Plot: Average Segment Size vs Genealogical Distance')\n",
    "plt.show()"
   ]
  },
  {
   "cell_type": "markdown",
   "metadata": {},
   "source": [
    "You should notice that overall, the methods we have used in our exploration is not a predictor of genetic genealogical relationships beyond 1 or 2 generations. For that, we turn to machine learning."
   ]
  },
  {
   "cell_type": "markdown",
   "metadata": {},
   "source": [
    "# Integrating Input VCF Files in Ped-Sim for Simulated Segments and Genotype Data\n",
    "\n",
    "Now, let's incorporate an input VCF file into **Ped-Sim** so that it can generate both **IBD segments** and **genotype data** for our simulated dataset. \n",
    "\n",
    "At this point, you might wonder:  \n",
    "*\"If we are already providing genotype data as input, why do we need Ped-Sim to generate simulated genotype data?\"*  \n",
    "\n",
    "This is an excellent question! The key reason lies in how **Ped-Sim** handles the simulation process. While we are indeed providing real genotype data as input, this data serves a very specific purpose:  \n",
    "\n",
    "- **Founder Selection**: Ped-Sim does not randomly generate all genotypes from scratch. Instead, it selects the **founders** (the first generation in the genetic family tree) **from the input genotype data**. These founders form the genetic starting point for the simulated family tree.  \n",
    "\n",
    "- **Genetic Inheritance Simulation**: Once the founders are selected, Ped-Sim simulates the inheritance of genetic material across generations, introducing **recombination and inheritance patterns** that mirror real biological processes. This step ensures that the offspring in the simulated dataset inherit realistic genotype segments, following expected Mendelian inheritance rules.\n",
    "\n",
    "- **Generating IBD Segments**: Ped-Sim tracks how segments of DNA are passed down through generations, allowing us to analyze patterns of **identical-by-descent (IBD) sharing** among related individuals. These IBD segments are crucial for applications such as reconstructing family trees, studying relatedness, and making inferences about historical demography.\n",
    "\n",
    "Thus, even though we already have genotype data as input, that data does not represent a pedigree or the inheritance of genetic material across generations. Ped-Sim constructs a multi-generational genetic family tree by simulating how genetic material is passed down, using the genotype data we provide for founders. Through this process, it applies recombination and transmission patterns to produce a dataset that reflects realistic genealogical relationships.\n",
    "\n",
    "Now that we understand the purpose of including an input VCF file, let's proceed with configuring Ped-Sim to use it effectively."
   ]
  },
  {
   "cell_type": "markdown",
   "metadata": {},
   "source": [
    "#### Get the data:\n",
    "\n",
    "Make sure you are using a single VCF file with all chromosomes 1 - 22 (and X if needed). If you don't have this file already, go to Lab4 and run the `Concat the by-chromosome files` section. (You will need to run all the previous cells that this section depends on (e.g., importing packages, defining directory variables))."
   ]
  },
  {
   "cell_type": "markdown",
   "metadata": {},
   "source": [
    "Go back up to the output for the first ped-sim run. Do you see the towards the end where it says:\n",
    "\n",
    "\"To simulate genetic data, must use an input VCF with [number] founders.\"\n",
    "\n",
    "This tells us the number of individuals that need to be in our input vcf file for ped-sim to simulate the genetic family tree(s) that we defined earlier. Let's check the sample size of our input VCF."
   ]
  },
  {
   "cell_type": "code",
   "execution_count": null,
   "metadata": {},
   "outputs": [],
   "source": [
    "%%bash\n",
    "# Define the input and output VCF files\n",
    "input_vcf=${RESULTS_DIRECTORY}/merged_opensnps_autosomes.vcf.gz\n",
    "\n",
    "echo \"Input sample size:\" $(bcftools query -l ${input_vcf} | wc -l)"
   ]
  },
  {
   "cell_type": "markdown",
   "metadata": {},
   "source": [
    "Your sample size should equal or exceed the required number of founders for the simulation.\n",
    "\n",
    "If this is not the case, you can address this in a couple of ways.\n",
    "1. Revise your pedigree definition file such that you have an adequate sample size.\n",
    "\n",
    "   **or**\n",
    "\n",
    "2. Increase the sample size in your input VCF file. (This may require you downloading more data. You can use Lab0_Get_OpenSNP_data for that.)"
   ]
  },
  {
   "cell_type": "markdown",
   "metadata": {},
   "source": [
    "## Pruning the Data is Essential for Ped-Sim Simulations\n",
    "\n",
    "Pruning the data is an important preprocessing step to ensure this, and here’s why:\n",
    "\n",
    "### 1. Ensuring Independent Founders\n",
    "\n",
    "- **Selection of Distantly Related Founders**:  \n",
    "  Ped-Sim selects founders from the input genotype data to form the basis of the simulated pedigree. If the dataset includes close relatives, the chosen founders may share too much genetic material, which undermines the assumption that they are independent. Pruning helps remove these close relatives, ensuring that the founders represent distinct genetic backgrounds.\n",
    "\n",
    "### 2. Preserving Genetic Diversity\n",
    "\n",
    "- **Avoiding Redundancy**:  \n",
    "  Close relatives have overlapping haplotypes, and their presence can lead to over-representation of certain genetic segments. By pruning out closely related individuals, you maintain greater genetic diversity among the founders, which is critical for accurately simulating recombination and inheritance patterns over generations.\n",
    "\n",
    "### 3. Enhancing Simulation Accuracy\n",
    "\n",
    "- **Realistic Pedigree Structure**:  \n",
    "  Using a pruned dataset allows Ped-Sim to generate a more realistic simulation of genetic inheritance. The process of recombination and the resulting distribution of genetic segments are better modeled when the founders are not overly similar, resulting in more accurate downstream analyses (e.g., identity-by-descent mapping).\n",
    "\n",
    "### References\n",
    "\n",
    "1. **Ped-Sim Documentation**: Detailed explanation of the simulation process and the importance of high-quality input data.\n",
    "2. **Purcell, S., et al. (2007).** [PLINK: A tool set for whole-genome association and population-based linkage analyses.](https://doi.org/10.1086/519795)\n",
    "3. **Manichaikul, A., et al. (2010).** [Robust relationship inference in genome-wide association studies.](https://doi.org/10.1093/bioinformatics/btq559)\n",
    "4. **Weir, B. S. (1996).** *Genetic Data Analysis II: Methods for Discrete Population Genetic Data.*\n",
    "\n",
    "By pruning your input genotype data, you ensure that the founders selected for Ped-Sim are as independent as possible, leading to a more realistic and robust simulation of multi-generational genetic inheritance."
   ]
  },
  {
   "cell_type": "code",
   "execution_count": null,
   "metadata": {},
   "outputs": [],
   "source": [
    "%%bash\n",
    "# Define the input and output VCF files\n",
    "input_vcf=${RESULTS_DIRECTORY}/merged_opensnps_autosomes.vcf.gz\n",
    "output_vcf=${RESULTS_DIRECTORY}/merged_opensnps_autosomes_pruned\n",
    "\n",
    "# Step 1: Convert the VCF file to PLINK binary format (BED/BIM/FAM)\n",
    "plink2 --vcf ${input_vcf} --make-bed --out dataset\n",
    "\n",
    "# Step 2: Remove close relatives using a KING cutoff of 0.125.\n",
    "# The threshold 0.125 corresponds roughly to the expected kinship coefficient for first cousins.\n",
    "plink2 --bfile dataset --king-cutoff 0.125 --make-bed --out dataset_unrelated\n",
    "\n",
    "# Step 3: Convert the filtered, unrelated dataset back to VCF format\n",
    "plink2 --bfile dataset_unrelated --export vcf --out ${output_vcf}\n",
    "\n",
    "# Step 4: Compress the VCF file using bgzip and index it using tabix\n",
    "bgzip -c ${output_vcf}.vcf > ${output_vcf}.vcf.gz\n",
    "tabix -p vcf ${output_vcf}.vcf.gz\n",
    "rm ${output_vcf}.vcf\n",
    "\n"
   ]
  },
  {
   "cell_type": "code",
   "execution_count": null,
   "metadata": {},
   "outputs": [],
   "source": [
    "%%bash\n",
    "\n",
    "output_vcf=${RESULTS_DIRECTORY}/merged_opensnps_autosomes_pruned\n",
    "\n",
    "# Step 5: Use bcftools to report the sample size in both the output VCF files.\n",
    "echo \"Output sample size:\" $(bcftools query -l ${output_vcf}.vcf.gz | wc -l)"
   ]
  },
  {
   "cell_type": "markdown",
   "metadata": {},
   "source": [
    "In the cell above, you want to make sure that your sample size equals or exceeds the number of founders needed for your pedigree definition."
   ]
  },
  {
   "cell_type": "code",
   "execution_count": null,
   "metadata": {},
   "outputs": [],
   "source": [
    "%%bash\n",
    "\n",
    "sample_file=\"merged_opensnps\"\n",
    "\n",
    "INPUT_PRUNED_VCF=${RESULTS_DIRECTORY}/merged_opensnps_autosomes_pruned.vcf.gz\n",
    "\n",
    "for chr in {1..22}; do\n",
    "    \n",
    "    plink2 --vcf ${INPUT_PRUNED_VCF} \\\n",
    "           --chr ${chr} \\\n",
    "           --export vcf bgz \\\n",
    "           --out ${RESULTS_DIRECTORY}/unphased_samples/merged_opensnps_pruned_chr${chr}\n",
    "done"
   ]
  },
  {
   "cell_type": "code",
   "execution_count": null,
   "metadata": {},
   "outputs": [],
   "source": [
    "%%bash\n",
    "\n",
    "sample_file=\"merged_opensnps\"\n",
    "beagle=\"${UTILS_DIRECTORY}/beagle.17Dec24.224.jar\"\n",
    "\n",
    "# Phase chromosomes using Beagle\n",
    "for chr in {1..22}; do\n",
    "    echo \"Processing chromosome $chr\"\n",
    "\n",
    "    INPUT_VCF=\"${RESULTS_DIRECTORY}/unphased_samples/merged_opensnps_pruned_chr${chr}.vcf.gz\"\n",
    "    REF_VCF=\"${REFERENCES_DIRECTORY}/onethousandgenomes_genotype/onethousandgenomes_genotyped_phased.chr${chr}.vcf.gz\"\n",
    "    MAP_FILE=\"${REFERENCES_DIRECTORY}/genetic_maps/beagle_genetic_maps/plink.chr${chr}.GRCh38.map\"\n",
    "    OUTPUT_PREFIX=\"${RESULTS_DIRECTORY}/phased_samples/merged_opensnps_pruned_chr${chr}\"\n",
    "    PHASED_VCF=\"${OUTPUT_PREFIX}.vcf.gz\"\n",
    "    TEMP_VCF=\"${RESULTS_DIRECTORY}/phased_samples/temp_pruned_chr${chr}.vcf.gz\"\n",
    "    SORTED_VCF=\"${RESULTS_DIRECTORY}/phased_samples/merged_opensnps_pruned_phased_chr${chr}_sorted.vcf.gz\"\n",
    "\n",
    "    # Check if input VCF exists\n",
    "    if [ ! -f \"$INPUT_VCF\" ]; then\n",
    "        echo \"Input VCF file not found for chromosome $chr. Skipping.\"\n",
    "        echo \"$INPUT_VCF\"\n",
    "        continue\n",
    "    fi\n",
    "\n",
    "    # Run Beagle phasing\n",
    "    if [ -f \"$REF_VCF\" ]; then\n",
    "        echo \"Running Beagle with reference panel for chromosome $chr\"\n",
    "        java -jar ${beagle} \\\n",
    "            gt=\"$INPUT_VCF\" \\\n",
    "            ref=\"$REF_VCF\" \\\n",
    "            map=\"$MAP_FILE\" \\\n",
    "            out=\"$OUTPUT_PREFIX\" || {\n",
    "                echo \"Beagle failed for chromosome $chr. Skipping.\"\n",
    "                continue\n",
    "            }\n",
    "    else\n",
    "        echo \"Running Beagle without reference panel for chromosome $chr\"\n",
    "        java -jar ${beagle} \\\n",
    "            gt=\"$INPUT_VCF\" \\\n",
    "            map=\"$MAP_FILE\" \\\n",
    "            out=\"$OUTPUT_PREFIX\" || {\n",
    "                echo \"Beagle failed for chromosome $chr. Skipping.\"\n",
    "                continue\n",
    "            }\n",
    "    fi\n",
    "\n",
    "    if [ ! -f \"$PHASED_VCF\" ]; then\n",
    "        echo \"Phasing failed for chromosome $chr. Output file not found. Skipping.\"\n",
    "        continue\n",
    "    fi\n",
    "\n",
    "    # Index the file\n",
    "    tabix -f -p vcf \"$PHASED_VCF\"\n",
    "    \n",
    "    # Add INFO field definition and sort\n",
    "    echo \"Sorting VCF for chromosome $chr\"\n",
    "    bcftools annotate --header-lines <(echo '##INFO=<ID=END,Number=1,Type=Integer,Description=\"End position of the variant\">') \"$PHASED_VCF\" | \\\n",
    "    bcftools sort -Oz -o \"$SORTED_VCF\" || {\n",
    "        echo \"Sorting failed for chromosome $chr\"\n",
    "        continue\n",
    "    }\n",
    "\n",
    "    # Index the sorted file\n",
    "    tabix -f -p vcf \"$SORTED_VCF\"\n",
    "    \n",
    "    # If the sorted vcf and index exists, remove phased vcf and index\n",
    "    if [ -f \"$SORTED_VCF\" ] && [ -f \"$SORTED_VCF.tbi\" ]; then\n",
    "        rm -f \"$PHASED_VCF\"\n",
    "        rm -f \"$PHASED_VCF.tbi\"\n",
    "    fi\n",
    "done"
   ]
  },
  {
   "cell_type": "code",
   "execution_count": null,
   "metadata": {},
   "outputs": [],
   "source": [
    "%%bash\n",
    "\n",
    "echo \"Results Directory: $RESULTS_DIRECTORY\"\n",
    "\n",
    "phased_directory=\"${RESULTS_DIRECTORY}/phased_samples\"\n",
    "merged_vcf=\"${RESULTS_DIRECTORY}/merged_opensnps_autosomes_pruned.vcf.gz\"\n",
    "\n",
    "# List of sorted VCFs\n",
    "vcf_list=()\n",
    "for CHR in {1..22}; do\n",
    "    SORTED_VCF=\"${RESULTS_DIRECTORY}/phased_samples/merged_opensnps_pruned_phased_chr${CHR}_sorted.vcf.gz\"\n",
    "    if [ -f \"$SORTED_VCF\" ]; then\n",
    "        vcf_list+=(\"$SORTED_VCF\")\n",
    "    else\n",
    "        echo \"Missing sorted VCF for chromosome $CHR, skipping.\"\n",
    "        echo \"Missing $SORTED_VCF\"\n",
    "    fi\n",
    "done\n",
    "\n",
    "# Merge all VCFs\n",
    "if [ ${#vcf_list[@]} -gt 0 ]; then\n",
    "    echo \"Merging phased VCFs into a single autosomal file...\"\n",
    "    bcftools concat -Oz -o \"$merged_vcf\" \"${vcf_list[@]}\" || { echo \"Merging failed.\"; exit 1; }\n",
    "\n",
    "    # Index the merged VCF\n",
    "    tabix -f -p vcf \"$merged_vcf\"\n",
    "    echo \"Merged VCF created at $merged_vcf\"\n",
    "else\n",
    "    echo \"No VCFs available for merging.\"\n",
    "fi\n"
   ]
  },
  {
   "cell_type": "markdown",
   "metadata": {},
   "source": [
    "From the ped-sim documentation: \n",
    "\n",
    "> When genetic data are needed, an input VCF is required to be provided with the -i option. Given such a VCF, Ped-sim randomly samples individuals from this data and uses them as founders. The VCF must contain phased data for all individuals, with no missing data for any site. As most phasers automatically impute missing data, the latter requirement should be to easy to meet.\n",
    "> The input VCF file can be gzipped, and if it is, Ped-sim prints the output VCF in gzipped format (but this output VCF is not bgzipped).\""
   ]
  },
  {
   "cell_type": "code",
   "execution_count": null,
   "metadata": {},
   "outputs": [],
   "source": [
    "%%bash\n",
    "\n",
    "pedigree_definition_file=\"pedigree.def\"\n",
    "ped_sim_filename=\"ped_sim_run2\"\n",
    "\n",
    "${UTILS_DIRECTORY}/ped-sim/ped-sim \\\n",
    "    -d ${RESULTS_DIRECTORY}/$pedigree_definition_file \\\n",
    "    -m ${REFERENCES_DIRECTORY}/refined_mf_b38.simmap \\\n",
    "    -o ${RESULTS_DIRECTORY}/$ped_sim_filename \\\n",
    "    -i ${RESULTS_DIRECTORY}/merged_opensnps_autosomes_pruned.vcf.gz \\\n",
    "    --intf ${UTILS_DIRECTORY}/ped-sim/interfere/nu_p_campbell.tsv \\\n",
    "    --seed 1234 \\\n",
    "    --fam \\\n",
    "    --mrca\n",
    "    \n"
   ]
  },
  {
   "cell_type": "markdown",
   "metadata": {},
   "source": [
    "Let's view the stats on our new VCF file with simulated genotype data from our defined pedigree."
   ]
  },
  {
   "cell_type": "code",
   "execution_count": null,
   "metadata": {},
   "outputs": [],
   "source": [
    "%%bash\n",
    "\n",
    "phased_directory=\"${RESULTS_DIRECTORY}/phased_samples\"\n",
    "PHASED_VCF=\"${RESULTS_DIRECTORY}/ped_sim_run2.vcf.gz\"\n",
    "STATS_OUTPUT=\"${phased_directory}/ped_sim_run2_stats.vchk\"\n",
    "\n",
    "bcftools stats -s - \"$PHASED_VCF\" > \"$STATS_OUTPUT\"\n",
    "bcftools stats -s - \"$PHASED_VCF\""
   ]
  },
  {
   "cell_type": "markdown",
   "metadata": {},
   "source": [
    "Now we have (1) the genetic family tree fam file, (2) the VCF file of the defined sample, and (3) the segment file for our defined genetic family tree, we can use this as a ground truth to test our genomic analysis tools or conduct full experiments."
   ]
  },
  {
   "cell_type": "markdown",
   "metadata": {},
   "source": [
    "Create a set of by-chromosome files"
   ]
  },
  {
   "cell_type": "code",
   "execution_count": null,
   "metadata": {
    "vscode": {
     "languageId": "shellscript"
    }
   },
   "outputs": [],
   "source": [
    "%%bash\n",
    "\n",
    "# Define the input VCF file\n",
    "input_vcf=\"${RESULTS_DIRECTORY}/ped_sim_run2.vcf.gz\"\n",
    "\n",
    "# Create the output directory if it doesn't exist\n",
    "mkdir -p ${RESULTS_DIRECTORY}/ped_sim_run2_autosomes/unphased_samples/\n",
    "\n",
    "# Loop through each chromosome and create separate files\n",
    "for chr in {1..22}; do\n",
    "    plink2 --vcf ${input_vcf} \\\n",
    "           --chr ${chr} \\\n",
    "           --export vcf bgz \\\n",
    "           --out ${RESULTS_DIRECTORY}/ped_sim_run2_autosomes/unphased_samples/ped_sim_run2_chr${chr}\n",
    "done"
   ]
  },
  {
   "cell_type": "code",
   "execution_count": 28,
   "metadata": {},
   "outputs": [
    {
     "name": "stdout",
     "output_type": "stream",
     "text": [
      "Relationship analysis for person: FAM1_g2-b1-i1\n",
      "--------------------------------------------------\n",
      "FAM1_g1-b1-s1: parent-child\n",
      "  MRCA: FAM1_g1-b1-s1\n",
      "  Degrees from MRCA to FAM1_g2-b1-i1: 1\n",
      "  Degrees from MRCA to FAM1_g1-b1-s1: 0\n",
      "  Total degree of relationship: 1\n",
      "\n",
      "FAM1_g1-b1-i1: parent-child\n",
      "  MRCA: FAM1_g1-b1-i1\n",
      "  Degrees from MRCA to FAM1_g2-b1-i1: 1\n",
      "  Degrees from MRCA to FAM1_g1-b1-i1: 0\n",
      "  Total degree of relationship: 1\n",
      "\n",
      "FAM1_g2-b2-i1: siblings\n",
      "  MRCA: FAM1_g1-b1-i1\n",
      "  Degrees from MRCA to FAM1_g2-b1-i1: 1\n",
      "  Degrees from MRCA to FAM1_g2-b2-i1: 1\n",
      "  Total degree of relationship: 2\n",
      "\n",
      "FAM1_g3-b1-i1: uncle/aunt - nephew/niece\n",
      "  MRCA: FAM1_g1-b1-s1\n",
      "  Degrees from MRCA to FAM1_g2-b1-i1: 1\n",
      "  Degrees from MRCA to FAM1_g3-b1-i1: 2\n",
      "  Total degree of relationship: 3\n",
      "\n",
      "FAM1_g3-b2-i1: uncle/aunt - nephew/niece\n",
      "  MRCA: FAM1_g1-b1-s1\n",
      "  Degrees from MRCA to FAM1_g2-b1-i1: 1\n",
      "  Degrees from MRCA to FAM1_g3-b2-i1: 2\n",
      "  Total degree of relationship: 3\n",
      "\n",
      "FAM1_g3-b3-i1: uncle/aunt - nephew/niece\n",
      "  MRCA: FAM1_g1-b1-i1\n",
      "  Degrees from MRCA to FAM1_g2-b1-i1: 1\n",
      "  Degrees from MRCA to FAM1_g3-b3-i1: 2\n",
      "  Total degree of relationship: 3\n",
      "\n",
      "FAM1_g3-b4-i1: uncle/aunt - nephew/niece\n",
      "  MRCA: FAM1_g1-b1-i1\n",
      "  Degrees from MRCA to FAM1_g2-b1-i1: 1\n",
      "  Degrees from MRCA to FAM1_g3-b4-i1: 2\n",
      "  Total degree of relationship: 3\n",
      "\n",
      "FAM1_g4-b1-i1: 1x great-uncle/aunt - nephew/niece\n",
      "  MRCA: FAM1_g1-b1-s1\n",
      "  Degrees from MRCA to FAM1_g2-b1-i1: 1\n",
      "  Degrees from MRCA to FAM1_g4-b1-i1: 3\n",
      "  Total degree of relationship: 4\n",
      "\n",
      "FAM1_g4-b2-i1: 1x great-uncle/aunt - nephew/niece\n",
      "  MRCA: FAM1_g1-b1-s1\n",
      "  Degrees from MRCA to FAM1_g2-b1-i1: 1\n",
      "  Degrees from MRCA to FAM1_g4-b2-i1: 3\n",
      "  Total degree of relationship: 4\n",
      "\n",
      "FAM1_g4-b3-i1: 1x great-uncle/aunt - nephew/niece\n",
      "  MRCA: FAM1_g1-b1-s1\n",
      "  Degrees from MRCA to FAM1_g2-b1-i1: 1\n",
      "  Degrees from MRCA to FAM1_g4-b3-i1: 3\n",
      "  Total degree of relationship: 4\n",
      "\n",
      "FAM1_g4-b4-i1: 1x great-uncle/aunt - nephew/niece\n",
      "  MRCA: FAM1_g1-b1-i1\n",
      "  Degrees from MRCA to FAM1_g2-b1-i1: 1\n",
      "  Degrees from MRCA to FAM1_g4-b4-i1: 3\n",
      "  Total degree of relationship: 4\n",
      "\n",
      "FAM1_g4-b5-i1: 1x great-uncle/aunt - nephew/niece\n",
      "  MRCA: FAM1_g1-b1-i1\n",
      "  Degrees from MRCA to FAM1_g2-b1-i1: 1\n",
      "  Degrees from MRCA to FAM1_g4-b5-i1: 3\n",
      "  Total degree of relationship: 4\n",
      "\n",
      "FAM1_g4-b6-i1: 1x great-uncle/aunt - nephew/niece\n",
      "  MRCA: FAM1_g1-b1-i1\n",
      "  Degrees from MRCA to FAM1_g2-b1-i1: 1\n",
      "  Degrees from MRCA to FAM1_g4-b6-i1: 3\n",
      "  Total degree of relationship: 4\n",
      "\n",
      "FAM1_g5-b1-i1: 2x great-uncle/aunt - nephew/niece\n",
      "  MRCA: FAM1_g1-b1-s1\n",
      "  Degrees from MRCA to FAM1_g2-b1-i1: 1\n",
      "  Degrees from MRCA to FAM1_g5-b1-i1: 4\n",
      "  Total degree of relationship: 5\n",
      "\n",
      "FAM1_g5-b2-i1: 2x great-uncle/aunt - nephew/niece\n",
      "  MRCA: FAM1_g1-b1-s1\n",
      "  Degrees from MRCA to FAM1_g2-b1-i1: 1\n",
      "  Degrees from MRCA to FAM1_g5-b2-i1: 4\n",
      "  Total degree of relationship: 5\n",
      "\n",
      "FAM1_g5-b3-i1: 2x great-uncle/aunt - nephew/niece\n",
      "  MRCA: FAM1_g1-b1-s1\n",
      "  Degrees from MRCA to FAM1_g2-b1-i1: 1\n",
      "  Degrees from MRCA to FAM1_g5-b3-i1: 4\n",
      "  Total degree of relationship: 5\n",
      "\n",
      "FAM1_g5-b4-i1: 2x great-uncle/aunt - nephew/niece\n",
      "  MRCA: FAM1_g1-b1-s1\n",
      "  Degrees from MRCA to FAM1_g2-b1-i1: 1\n",
      "  Degrees from MRCA to FAM1_g5-b4-i1: 4\n",
      "  Total degree of relationship: 5\n",
      "\n",
      "FAM1_g5-b5-i1: 2x great-uncle/aunt - nephew/niece\n",
      "  MRCA: FAM1_g1-b1-i1\n",
      "  Degrees from MRCA to FAM1_g2-b1-i1: 1\n",
      "  Degrees from MRCA to FAM1_g5-b5-i1: 4\n",
      "  Total degree of relationship: 5\n",
      "\n",
      "FAM1_g5-b6-i1: 2x great-uncle/aunt - nephew/niece\n",
      "  MRCA: FAM1_g1-b1-i1\n",
      "  Degrees from MRCA to FAM1_g2-b1-i1: 1\n",
      "  Degrees from MRCA to FAM1_g5-b6-i1: 4\n",
      "  Total degree of relationship: 5\n",
      "\n",
      "FAM1_g5-b7-i1: 2x great-uncle/aunt - nephew/niece\n",
      "  MRCA: FAM1_g1-b1-i1\n",
      "  Degrees from MRCA to FAM1_g2-b1-i1: 1\n",
      "  Degrees from MRCA to FAM1_g5-b7-i1: 4\n",
      "  Total degree of relationship: 5\n",
      "\n",
      "FAM1_g5-b8-i1: 2x great-uncle/aunt - nephew/niece\n",
      "  MRCA: FAM1_g1-b1-i1\n",
      "  Degrees from MRCA to FAM1_g2-b1-i1: 1\n",
      "  Degrees from MRCA to FAM1_g5-b8-i1: 4\n",
      "  Total degree of relationship: 5\n",
      "\n",
      "FAM1_g6-b1-i1: 3x great-uncle/aunt - nephew/niece\n",
      "  MRCA: FAM1_g1-b1-s1\n",
      "  Degrees from MRCA to FAM1_g2-b1-i1: 1\n",
      "  Degrees from MRCA to FAM1_g6-b1-i1: 5\n",
      "  Total degree of relationship: 6\n",
      "\n",
      "FAM1_g6-b2-i1: 3x great-uncle/aunt - nephew/niece\n",
      "  MRCA: FAM1_g1-b1-s1\n",
      "  Degrees from MRCA to FAM1_g2-b1-i1: 1\n",
      "  Degrees from MRCA to FAM1_g6-b2-i1: 5\n",
      "  Total degree of relationship: 6\n",
      "\n",
      "FAM1_g6-b3-i1: 3x great-uncle/aunt - nephew/niece\n",
      "  MRCA: FAM1_g1-b1-s1\n",
      "  Degrees from MRCA to FAM1_g2-b1-i1: 1\n",
      "  Degrees from MRCA to FAM1_g6-b3-i1: 5\n",
      "  Total degree of relationship: 6\n",
      "\n",
      "FAM1_g6-b4-i1: 3x great-uncle/aunt - nephew/niece\n",
      "  MRCA: FAM1_g1-b1-s1\n",
      "  Degrees from MRCA to FAM1_g2-b1-i1: 1\n",
      "  Degrees from MRCA to FAM1_g6-b4-i1: 5\n",
      "  Total degree of relationship: 6\n",
      "\n",
      "FAM1_g6-b5-i1: 3x great-uncle/aunt - nephew/niece\n",
      "  MRCA: FAM1_g1-b1-s1\n",
      "  Degrees from MRCA to FAM1_g2-b1-i1: 1\n",
      "  Degrees from MRCA to FAM1_g6-b5-i1: 5\n",
      "  Total degree of relationship: 6\n",
      "\n",
      "FAM1_g6-b6-i1: 3x great-uncle/aunt - nephew/niece\n",
      "  MRCA: FAM1_g1-b1-i1\n",
      "  Degrees from MRCA to FAM1_g2-b1-i1: 1\n",
      "  Degrees from MRCA to FAM1_g6-b6-i1: 5\n",
      "  Total degree of relationship: 6\n",
      "\n",
      "FAM1_g6-b7-i1: 3x great-uncle/aunt - nephew/niece\n",
      "  MRCA: FAM1_g1-b1-i1\n",
      "  Degrees from MRCA to FAM1_g2-b1-i1: 1\n",
      "  Degrees from MRCA to FAM1_g6-b7-i1: 5\n",
      "  Total degree of relationship: 6\n",
      "\n",
      "FAM1_g6-b8-i1: 3x great-uncle/aunt - nephew/niece\n",
      "  MRCA: FAM1_g1-b1-i1\n",
      "  Degrees from MRCA to FAM1_g2-b1-i1: 1\n",
      "  Degrees from MRCA to FAM1_g6-b8-i1: 5\n",
      "  Total degree of relationship: 6\n",
      "\n",
      "FAM1_g6-b9-i1: 3x great-uncle/aunt - nephew/niece\n",
      "  MRCA: FAM1_g1-b1-i1\n",
      "  Degrees from MRCA to FAM1_g2-b1-i1: 1\n",
      "  Degrees from MRCA to FAM1_g6-b9-i1: 5\n",
      "  Total degree of relationship: 6\n",
      "\n",
      "FAM1_g6-b10-i1: 3x great-uncle/aunt - nephew/niece\n",
      "  MRCA: FAM1_g1-b1-i1\n",
      "  Degrees from MRCA to FAM1_g2-b1-i1: 1\n",
      "  Degrees from MRCA to FAM1_g6-b10-i1: 5\n",
      "  Total degree of relationship: 6\n",
      "\n"
     ]
    },
    {
     "data": {
      "text/plain": [
       "<Figure size 25000x10000 with 0 Axes>"
      ]
     },
     "metadata": {},
     "output_type": "display_data"
    }
   ],
   "source": [
    "import pandas as pd\n",
    "import matplotlib.pyplot as plt\n",
    "import networkx as nx\n",
    "import os\n",
    "\n",
    "def graph_fam_file_simulated(filename, pedigree=None):\n",
    "    fam_file = pd.read_csv(os.path.join(results_directory, filename), sep=\" \", header=None)\n",
    "    fam_file.columns = [\"fam\", \"id\", \"parent0\", \"parent1\", \"sex\", \"phenotype\"]\n",
    "\n",
    "    if pedigree is not None:\n",
    "        # Extract pedigree number from the first element\n",
    "        fam_file['pedigree_num'] = fam_file['fam'].apply(lambda x: x.replace(\"FAM\", \"\"))\n",
    "        fam_file = fam_file[fam_file['pedigree_num'] == str(pedigree)]\n",
    "\n",
    "    fig = plt.figure(num=None, figsize=(250, 100), dpi=100)\n",
    "\n",
    "    G = nx.DiGraph()\n",
    "\n",
    "    for index, row in fam_file.iterrows():\n",
    "        id = row['id']\n",
    "\n",
    "        values_id1 = id.split(\"_\")\n",
    "        \n",
    "        # Ensure the ID follows expected format\n",
    "        if len(values_id1) < 2:\n",
    "            raise ValueError(f\"Unexpected ID format: {id} -> {values_id1}\")\n",
    "        \n",
    "        subvalues_id1 = values_id1[1].split(\"-\")\n",
    "        gen_id1 = int(subvalues_id1[0].lstrip(\"g\"))\n",
    "\n",
    "        G.add_node(id, time=gen_id1)\n",
    "\n",
    "        for parent_column in ['parent0', 'parent1']:\n",
    "            if row[parent_column] != '0':\n",
    "                parent_id = row[parent_column]\n",
    "                values_parent = parent_id.split(\"_\")\n",
    "\n",
    "                if len(values_parent) < 2:\n",
    "                    raise ValueError(f\"Unexpected Parent format: {parent_id} -> {values_parent}\")\n",
    "\n",
    "                subvalues_parent = values_parent[1].split(\"-\")\n",
    "                gen_parent = int(subvalues_parent[0].lstrip(\"g\"))\n",
    "                G.add_node(parent_id, time=gen_parent)\n",
    "                G.add_edge(parent_id, id)\n",
    "\n",
    "    # Reverse the order of generations\n",
    "    max_gen = max(gen_id1 for _, gen_id1 in G.nodes(data='time'))\n",
    "    for node, data in G.nodes(data=True):\n",
    "        data['time'] = max_gen - data['time']\n",
    "\n",
    "    return G\n",
    "\n",
    "def find_common_ancestors(G, person1, person2):\n",
    "    \"\"\"\n",
    "    Find all common ancestors between two individuals in a family tree.\n",
    "    Returns a set of common ancestors.\n",
    "    \"\"\"\n",
    "    # Create a new graph with edges reversed to trace ancestors\n",
    "    G_reversed = G.reverse()\n",
    "    \n",
    "    # Find all ancestors for each person (including the person themselves)\n",
    "    ancestors1 = set(nx.dfs_preorder_nodes(G_reversed, person1))\n",
    "    ancestors2 = set(nx.dfs_preorder_nodes(G_reversed, person2))\n",
    "    \n",
    "    # Find common ancestors\n",
    "    common_ancestors = ancestors1.intersection(ancestors2)\n",
    "    \n",
    "    return common_ancestors\n",
    "\n",
    "def find_most_recent_common_ancestor(G, person1, person2):\n",
    "    \"\"\"\n",
    "    Find the most recent common ancestor (MRCA) between two individuals.\n",
    "    Returns the MRCA and the generation distance to each person.\n",
    "    \"\"\"\n",
    "    common_ancestors = find_common_ancestors(G, person1, person2)\n",
    "    \n",
    "    if not common_ancestors:\n",
    "        return None, None, None\n",
    "    \n",
    "    # Find the MRCA (the one with the highest generation number)\n",
    "    mrca = max(common_ancestors, key=lambda x: G.nodes[x]['time'])\n",
    "    \n",
    "    # Calculate genealogical distance (number of generations)\n",
    "    # We need to use the original graph direction for descendants\n",
    "    path_to_person1 = nx.shortest_path(G, source=mrca, target=person1)\n",
    "    path_to_person2 = nx.shortest_path(G, source=mrca, target=person2)\n",
    "    \n",
    "    return mrca, len(path_to_person1) - 1, len(path_to_person2) - 1\n",
    "\n",
    "def calculate_relationship_degree(G, person1, person2):\n",
    "    \"\"\"\n",
    "    Calculate the canonical genealogical relationship degree between two individuals.\n",
    "    \n",
    "    Returns:\n",
    "    - mrca: Most recent common ancestor\n",
    "    - degree1: Degrees from mrca to person1\n",
    "    - degree2: Degrees from mrca to person2\n",
    "    - total_degree: Sum of degrees (traditional 'degree of relationship')\n",
    "    - canonical_degree: Min(degree1, degree2) for same-generation relationships\n",
    "    - relationship_type: Description of the relationship\n",
    "    \"\"\"\n",
    "    # Special case for same person\n",
    "    if person1 == person2:\n",
    "        return {\n",
    "            'mrca': person1,\n",
    "            'degree1': 0,\n",
    "            'degree2': 0,\n",
    "            'total_degree': 0,\n",
    "            'canonical_degree': 0,\n",
    "            'relationship_type': 'self'}\n",
    "    \n",
    "    # Find MRCA and genealogical distances\n",
    "    mrca, degree1, degree2 = find_most_recent_common_ancestor(G, person1, person2)\n",
    "    \n",
    "    if mrca is None:\n",
    "        return {\n",
    "            'mrca': None,\n",
    "            'degree1': None,\n",
    "            'degree2': None,\n",
    "            'total_degree': None,\n",
    "            'canonical_degree': None,\n",
    "            'relationship_type': 'unrelated'}\n",
    "    \n",
    "    total_degree = degree1 + degree2\n",
    "    canonical_degree = min(degree1, degree2)\n",
    "    \n",
    "    # Determine relationship type\n",
    "    relationship_type = \"unknown\"\n",
    "    \n",
    "    # Direct lineage\n",
    "    if degree1 == 0 or degree2 == 0:\n",
    "        if degree1 == 0:  # person1 is ancestor of person2\n",
    "            if degree2 == 1:\n",
    "                relationship_type = \"parent-child\"\n",
    "            elif degree2 == 2:\n",
    "                relationship_type = \"grandparent-grandchild\"\n",
    "            else:\n",
    "                relationship_type = f\"{degree2-1}x great-grandparent/grandchild\"\n",
    "        else:  # person2 is ancestor of person1\n",
    "            if degree1 == 1:\n",
    "                relationship_type = \"parent-child\"\n",
    "            elif degree1 == 2:\n",
    "                relationship_type = \"grandparent-grandchild\"\n",
    "            else:\n",
    "                relationship_type = f\"{degree1-1}x great-grandparent/grandchild\"\n",
    "    \n",
    "    # Same generation (siblings, cousins)\n",
    "    elif degree1 == degree2:\n",
    "        if degree1 == 1:\n",
    "            relationship_type = \"siblings\"\n",
    "        else:\n",
    "            relationship_type = f\"{degree1-1}th cousins\"\n",
    "    \n",
    "    # Different generation but not direct lineage (uncle/aunt, etc.)\n",
    "    else:\n",
    "        min_degree = min(degree1, degree2)\n",
    "        diff = abs(degree1 - degree2)\n",
    "        \n",
    "        if min_degree == 1:\n",
    "            if diff == 1:\n",
    "                relationship_type = \"uncle/aunt - nephew/niece\"\n",
    "            else:\n",
    "                relationship_type = f\"{diff-1}x great-uncle/aunt - nephew/niece\"\n",
    "        else:\n",
    "            relationship_type = f\"{min_degree-1}th cousins {diff} times removed\"\n",
    "    \n",
    "    return {\n",
    "        'mrca': mrca,\n",
    "        'degree1': degree1,\n",
    "        'degree2': degree2,\n",
    "        'total_degree': total_degree,\n",
    "        'canonical_degree': canonical_degree,\n",
    "        'relationship_type': relationship_type}\n",
    "\n",
    "def analyze_family_relationships(G, root_person=None):\n",
    "    \"\"\"\n",
    "    Analyze all familial relationships in a family tree.\n",
    "    \n",
    "    Parameters:\n",
    "    - G: NetworkX DiGraph representing the family tree\n",
    "    - root_person: Optional focal person for the analysis\n",
    "    \n",
    "    Returns a dictionary of relationships\n",
    "    \"\"\"\n",
    "    if root_person is None:\n",
    "        # Find a person who might be a good central figure (has many connections)\n",
    "        root_person = max(G.nodes(), key=lambda x: G.degree(x))\n",
    "    \n",
    "    relationships = {}\n",
    "    nodes = list(G.nodes())\n",
    "    \n",
    "    for i, person1 in enumerate(nodes):\n",
    "        if person1 == root_person:\n",
    "            continue\n",
    "            \n",
    "        relationship = calculate_relationship_degree(G, root_person, person1)\n",
    "        relationships[person1] = relationship\n",
    "    \n",
    "    return relationships, root_person\n",
    "\n",
    "def visualize_family_tree_with_relationships(G, root_person=None, output_file=None):\n",
    "    \"\"\"\n",
    "    Visualize a family tree with relationship information.\n",
    "    \"\"\"\n",
    "    # Analyze relationships\n",
    "    relationships, analyzed_root = analyze_family_relationships(G, root_person)\n",
    "    \n",
    "    # Set up the plot\n",
    "    plt.figure(figsize=(20, 10))\n",
    "    \n",
    "    # Position nodes using a hierarchical layout based on generation time\n",
    "    pos = nx.multipartite_layout(G, subset_key='time', align='horizontal')\n",
    "    \n",
    "    # Draw nodes\n",
    "    nx.draw_networkx_nodes(G, pos, node_size=100)\n",
    "    \n",
    "    # Draw edges\n",
    "    nx.draw_networkx_edges(G, pos, edge_color='black', arrows=True)\n",
    "    \n",
    "    # Draw labels\n",
    "    nx.draw_networkx_labels(G, pos, font_size=8)\n",
    "    \n",
    "    # Display relationship information\n",
    "    print(f\"Relationship analysis for person: {analyzed_root}\")\n",
    "    print(\"-\" * 50)\n",
    "    \n",
    "    for person, rel in relationships.items():\n",
    "        if rel['mrca'] is not None:\n",
    "            print(f\"{person}: {rel['relationship_type']}\")\n",
    "            print(f\"  MRCA: {rel['mrca']}\")\n",
    "            print(f\"  Degrees from MRCA to {analyzed_root}: {rel['degree1']}\")\n",
    "            print(f\"  Degrees from MRCA to {person}: {rel['degree2']}\")\n",
    "            print(f\"  Total degree of relationship: {rel['total_degree']}\")\n",
    "            print(\"\")\n",
    "    \n",
    "    # Save or display the figure\n",
    "    if output_file:\n",
    "        plt.savefig(output_file, bbox_inches='tight')\n",
    "        plt.close()\n",
    "    else:\n",
    "        plt.show()\n",
    "    \n",
    "    return relationships\n",
    "\n",
    "# Usage example:\n",
    "input_file = os.path.join(results_directory, 'ped_sim_run-everyone.fam')\n",
    "output_file = os.path.join(results_directory, 'family_with_relationships.png')\n",
    "G = graph_fam_file_simulated(input_file, pedigree=1)\n",
    "relationships = visualize_family_tree_with_relationships(G, output_file=output_file)"
   ]
  }
 ],
 "metadata": {
  "kernelspec": {
   "display_name": ".venv",
   "language": "python",
   "name": "python3"
  },
  "language_info": {
   "codemirror_mode": {
    "name": "ipython",
    "version": 3
   },
   "file_extension": ".py",
   "mimetype": "text/x-python",
   "name": "python",
   "nbconvert_exporter": "python",
   "pygments_lexer": "ipython3",
   "version": "3.12.9"
  }
 },
 "nbformat": 4,
 "nbformat_minor": 2
}
