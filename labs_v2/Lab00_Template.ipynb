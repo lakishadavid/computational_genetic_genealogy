{
 "cells": [
  {
   "cell_type": "markdown",
   "metadata": {},
   "source": "# Lab Template: ANTH 499 Computational Genetic Genealogy\n\n## Overview\n\nThis notebook is a template for the lab sessions accompanying the \\\"ANTH 499 Computational Genetic Genealogy\\\" course. Each lab will focus on specific aspects of the Bonsai v3 codebase and functionality.\n\n**Learning Objectives:**\n- [List specific learning objectives for the lab]\n- [Each objective should be measurable and aligned with the lab content]\n- [For example: \\\"Understand the architecture of the Bonsai relationship inference module\\\"]\n\n**Prerequisites:**\n- [List any labs or concepts students should understand before starting]\n- [For example: \\\"Completion of Lab 3: IBD Formats\\\"]\n\n**Estimated completion time:** [e.g., 60-90 minutes]",
   "outputs": []
  },
  {
   "cell_type": "code",
   "metadata": {},
   "outputs": [],
   "source": "# Standard imports\nimport os\nimport sys\nimport pandas as pd\nimport numpy as np\nimport matplotlib.pyplot as plt\nimport seaborn as sns\nimport networkx as nx\nfrom IPython.display import display, HTML, Markdown\nimport inspect\nimport importlib\n\nsys.path.append(os.path.dirname(os.getcwd()))\n\n# Cross-compatibility setup\nfrom scripts_support.lab_cross_compatibility import setup_environment, is_jupyterlite, save_results, save_plot\n\n# Set up environment-specific paths\nDATA_DIR, RESULTS_DIR = setup_environment()\n\n# Set visualization styles\nplt.style.use('seaborn-v0_8-whitegrid')\nsns.set_context(\"notebook\")\nsns.set_palette(\"colorblind\")  # Improve accessibility with colorblind-friendly palette\n\n# Configure plot defaults for better readability\nplt.rcParams.update({\n    'figure.figsize': (10, 6),\n    'font.size': 12,\n    'axes.labelsize': 12,\n    'axes.titlesize': 14,\n    'xtick.labelsize': 10,\n    'ytick.labelsize': 10\n})"
  },
  {
   "cell_type": "code",
   "execution_count": null,
   "metadata": {},
   "outputs": [],
   "source": [
    "# Setup Bonsai module paths\n",
    "if not is_jupyterlite():\n",
    "    # In local environment, add the utils directory to system path\n",
    "    utils_dir = os.getenv('PROJECT_UTILS_DIR', os.path.join(os.path.dirname(DATA_DIR), 'utils'))\n",
    "    bonsaitree_dir = os.path.join(utils_dir, 'bonsaitree')\n",
    "    \n",
    "    # Add to path if it exists and isn't already there\n",
    "    if os.path.exists(bonsaitree_dir) and bonsaitree_dir not in sys.path:\n",
    "        sys.path.append(bonsaitree_dir)\n",
    "        print(f\"Added {bonsaitree_dir} to sys.path\")\n",
    "else:\n",
    "    # In JupyterLite, use a simplified approach\n",
    "    print(\"⚠️ Running in JupyterLite: Some Bonsai functionality may be limited.\")\n",
    "    print(\"This notebook is primarily designed for local execution where the Bonsai codebase is available.\")"
   ]
  },
  {
   "cell_type": "code",
   "metadata": {},
   "outputs": [],
   "source": "# Helper functions for exploring modules\ndef display_module_classes(module_name):\n    \"\"\"Display classes and their docstrings from a module\"\"\"\n    try:\n        # Import the module\n        module = importlib.import_module(module_name)\n        \n        # Find all classes\n        classes = inspect.getmembers(module, inspect.isclass)\n        \n        # Filter classes defined in this module (not imported)\n        classes = [(name, cls) for name, cls in classes if cls.__module__ == module_name]\n        \n        if not classes:\n            print(f\"No classes found in module {module_name}\")\n            return\n            \n        # Print info for each class\n        for name, cls in classes:\n            display(Markdown(f\"### Class: {name}\"))\n            \n            # Get docstring\n            doc = inspect.getdoc(cls)\n            if doc:\n                display(Markdown(f\"**Documentation:**\\n{doc}\"))\n            else:\n                display(Markdown(\"*No documentation available*\"))\n            \n            # Get methods\n            methods = inspect.getmembers(cls, inspect.isfunction)\n            public_methods = [(method_name, method) for method_name, method in methods \n                             if not method_name.startswith('_')]\n            \n            if public_methods:\n                display(Markdown(\"**Public Methods:**\"))\n                for method_name, method in public_methods:\n                    sig = inspect.signature(method)\n                    display(Markdown(f\"- `{method_name}{sig}`\"))\n            else:\n                display(Markdown(\"*No public methods*\"))\n            \n            display(Markdown(\"---\"))\n    except ImportError as e:\n        print(f\"Error importing module {module_name}: {e}\")\n    except Exception as e:\n        print(f\"Error processing module {module_name}: {e}\")\n\ndef display_module_functions(module_name):\n    \"\"\"Display functions and their docstrings from a module\"\"\"\n    try:\n        # Import the module\n        module = importlib.import_module(module_name)\n        \n        # Find all functions\n        functions = inspect.getmembers(module, inspect.isfunction)\n        \n        # Filter functions defined in this module (not imported)\n        functions = [(name, func) for name, func in functions if func.__module__ == module_name]\n        \n        if not functions:\n            print(f\"No functions found in module {module_name}\")\n            return\n            \n        # Filter public functions\n        public_functions = [(name, func) for name, func in functions if not name.startswith('_')]\n        \n        if not public_functions:\n            print(f\"No public functions found in module {module_name}\")\n            return\n            \n        # Print info for each function\n        for name, func in public_functions:                \n            display(Markdown(f\"### Function: {name}\"))\n            \n            # Get signature\n            sig = inspect.signature(func)\n            display(Markdown(f\"**Signature:** `{name}{sig}`\"))\n            \n            # Get docstring\n            doc = inspect.getdoc(func)\n            if doc:\n                display(Markdown(f\"**Documentation:**\\n{doc}\"))\n            else:\n                display(Markdown(\"*No documentation available*\"))\n                \n            display(Markdown(\"---\"))\n    except ImportError as e:\n        print(f\"Error importing module {module_name}: {e}\")\n    except Exception as e:\n        print(f\"Error processing module {module_name}: {e}\")\n\ndef view_function_source(module_name, function_name):\n    \"\"\"Display the source code of a function\"\"\"\n    try:\n        # Import the module\n        module = importlib.import_module(module_name)\n        \n        # Get the function\n        func = getattr(module, function_name)\n        \n        # Get the source code\n        source = inspect.getsource(func)\n        \n        # Print the source code with syntax highlighting\n        display(Markdown(f\"### Source code for `{function_name}`\\n```python\\n{source}\\n```\"))\n    except ImportError as e:\n        print(f\"Error importing module {module_name}: {e}\")\n    except AttributeError:\n        print(f\"Function {function_name} not found in module {module_name}\")\n    except Exception as e:\n        print(f\"Error processing function {function_name}: {e}\")\n\ndef view_class_source(module_name, class_name):\n    \"\"\"Display the source code of a class\"\"\"\n    try:\n        # Import the module\n        module = importlib.import_module(module_name)\n        \n        # Get the class\n        cls = getattr(module, class_name)\n        \n        # Get the source code\n        source = inspect.getsource(cls)\n        \n        # Print the source code with syntax highlighting\n        display(Markdown(f\"### Source code for class `{class_name}`\\n```python\\n{source}\\n```\"))\n    except ImportError as e:\n        print(f\"Error importing module {module_name}: {e}\")\n    except AttributeError:\n        print(f\"Class {class_name} not found in module {module_name}\")\n    except Exception as e:\n        print(f\"Error processing class {class_name}: {e}\")\n\ndef explore_module(module_name):\n    \"\"\"Display a comprehensive overview of a module with classes and functions\"\"\"\n    try:\n        # Import the module\n        module = importlib.import_module(module_name)\n        \n        # Module docstring\n        doc = inspect.getdoc(module)\n        display(Markdown(f\"# Module: {module_name}\"))\n        \n        if doc:\n            display(Markdown(f\"**Module Documentation:**\\n{doc}\"))\n        else:\n            display(Markdown(\"*No module documentation available*\"))\n            \n        display(Markdown(\"---\"))\n        \n        # Display classes\n        display(Markdown(\"## Classes\"))\n        display_module_classes(module_name)\n        \n        # Display functions\n        display(Markdown(\"## Functions\"))\n        display_module_functions(module_name)\n        \n    except ImportError as e:\n        print(f\"Error importing module {module_name}: {e}\")\n    except Exception as e:\n        print(f\"Error exploring module {module_name}: {e}\")"
  },
  {
   "cell_type": "markdown",
   "metadata": {},
   "source": [
    "## Check Bonsai Installation\n",
    "\n",
    "Let's verify that the Bonsai v3 module is available for import:"
   ]
  },
  {
   "cell_type": "code",
   "metadata": {},
   "outputs": [],
   "source": "try:\n    from bonsaitree import v3\n    print(\"✅ Successfully imported Bonsai v3 module\")\n    \n    # Print Bonsai version information if available\n    if hasattr(v3, \"__version__\"):\n        print(f\"Bonsai v3 version: {v3.__version__}\")\n    \n    # List key submodules\n    print(\"\\nAvailable Bonsai submodules:\")\n    for module_name in dir(v3):\n        if not module_name.startswith(\"_\") and not module_name.startswith(\"__\"):\n            print(f\"- {module_name}\")\nexcept ImportError as e:\n    print(f\"❌ Failed to import Bonsai v3 module: {e}\")\n    print(\"This lab requires access to the Bonsai v3 codebase.\")\n    print(\"Make sure you've properly set up your environment with the Bonsai repository.\")"
  },
  {
   "cell_type": "markdown",
   "metadata": {},
   "source": "## Introduction\n\n[Provide a brief introduction to the lab topic and how it fits into the overall course structure.]\n\nIn this lab, we will explore [specific aspect of Bonsai v3] and its role in computational genetic genealogy. This topic is important because [explain relevance and importance].\n\n**Key concepts we'll cover:**\n- [Key concept 1]\n- [Key concept 2]\n- [Key concept 3]",
   "outputs": []
  },
  {
   "cell_type": "markdown",
   "metadata": {},
   "source": "## Part 1: [Section Title]\n\n### Theory and Background\n\n[Provide theoretical background for this section. Include diagrams or mathematical formulas if relevant.]\n\n### Implementation in Bonsai v3\n\n[Explain how this concept is implemented in the Bonsai v3 codebase, which modules and classes are involved, etc.]",
   "outputs": []
  },
  {
   "cell_type": "markdown",
   "source": "### Exercise 1\n\n[Provide a specific exercise for students to complete that reinforces the concepts from Part 1]\n\n**Task:** [Clear description of what the student needs to do]\n\n**Hint:** [Optional hint to guide students if they get stuck]",
   "metadata": {}
  },
  {
   "cell_type": "code",
   "source": "# Exercise 1 code template\n# Students can modify this code to complete the exercise\n\ndef exercise_1_function():\n    # TODO: Implement the solution to Exercise 1\n    pass\n\n# Test your solution\n# exercise_1_function()",
   "metadata": {},
   "outputs": []
  },
  {
   "cell_type": "code",
   "metadata": {},
   "outputs": [],
   "source": "# Demonstration code for Part 1\n# Include comments explaining what each part does"
  },
  {
   "cell_type": "markdown",
   "metadata": {},
   "source": "## Part 2: [Section Title]\n\n### Theory and Background\n\n[Provide theoretical background for this section.]\n\n### Implementation in Bonsai v3\n\n[Explain how this concept is implemented in the Bonsai v3 codebase.]",
   "outputs": []
  },
  {
   "cell_type": "markdown",
   "source": "### Exercise 2\n\n[Provide a specific exercise for students to complete that reinforces the concepts from Part 2]\n\n**Task:** [Clear description of what the student needs to do]\n\n**Hint:** [Optional hint to guide students if they get stuck]",
   "metadata": {}
  },
  {
   "cell_type": "code",
   "source": "# Exercise 2 code template\n# Students can modify this code to complete the exercise\n\ndef exercise_2_function():\n    # TODO: Implement the solution to Exercise 2\n    pass\n\n# Test your solution\n# exercise_2_function()",
   "metadata": {},
   "outputs": []
  },
  {
   "cell_type": "code",
   "metadata": {},
   "outputs": [],
   "source": "# Demonstration code for Part 2\n# Include visualization if appropriate\n\n# Example visualization code:\n# plt.figure(figsize=(10, 6))\n# x = np.linspace(0, 10, 100)\n# y = np.sin(x)\n# plt.plot(x, y)\n# plt.title('Example Visualization')\n# plt.xlabel('X axis')\n# plt.ylabel('Y axis')\n# plt.grid(True)\n# plt.show()"
  },
  {
   "cell_type": "markdown",
   "metadata": {},
   "source": "## Part 3: [Section Title]\n\n### Theory and Background\n\n[Provide theoretical background for this section.]\n\n### Implementation in Bonsai v3\n\n[Explain how this concept is implemented in the Bonsai v3 codebase.]",
   "outputs": []
  },
  {
   "cell_type": "markdown",
   "source": "### Exercise 3\n\n[Provide a specific exercise for students to complete that reinforces the concepts from Part 3 and potentially integrates concepts from Parts 1 and 2]\n\n**Task:** [Clear description of what the student needs to do]\n\n**Hint:** [Optional hint to guide students if they get stuck]",
   "metadata": {}
  },
  {
   "cell_type": "code",
   "source": "# Exercise 3 code template\n# Students can modify this code to complete the exercise\n\ndef exercise_3_function():\n    # TODO: Implement the solution to Exercise 3\n    pass\n\n# Test your solution\n# exercise_3_function()",
   "metadata": {},
   "outputs": []
  },
  {
   "cell_type": "markdown",
   "source": "## Real-World Application\n\n[Provide a concrete example of how the concepts from this lab apply to real-world genetic genealogy scenarios. This helps students understand the practical relevance of what they're learning.]\n\n### Case Study: [Title]\n\n[Describe a realistic scenario where these techniques would be applied]",
   "metadata": {}
  },
  {
   "cell_type": "code",
   "source": "# Case study demonstration code\n# Include realistic data examples if possible",
   "metadata": {},
   "outputs": []
  },
  {
   "cell_type": "code",
   "metadata": {},
   "outputs": [],
   "source": "# Demonstration code for Part 3\n# Include an example that ties together concepts from previous sections"
  },
  {
   "cell_type": "markdown",
   "source": "## Self-Assessment Questions\n\nTest your understanding with these questions:\n\n1. [Question 1]\n2. [Question 2]\n3. [Question 3]\n\n*Answers to self-assessment questions can be found at the end of the lab document.*",
   "metadata": {}
  },
  {
   "cell_type": "markdown",
   "metadata": {},
   "source": "## Summary\n\nIn this lab, we explored [summary of what was covered]. Key takeaways include:\n\n1. [Takeaway 1]\n2. [Takeaway 2]\n3. [Takeaway 3]\n\n### Connections to Other Labs\n\nThe concepts covered in this lab connect to:\n- **Lab X:** [Brief explanation of connection]\n- **Lab Y:** [Brief explanation of connection]\n\n### Further Reading\n\nTo deepen your understanding of these topics, consider exploring:\n\n- [Reference 1]\n- [Reference 2]\n- [Reference 3]",
   "outputs": []
  },
  {
   "cell_type": "markdown",
   "source": "---\n\n## Answer Key (for instructors)\n\n### Exercise 1\n```python\n# Solution code for Exercise 1\n```\n\n### Exercise 2\n```python\n# Solution code for Exercise 2\n```\n\n### Exercise 3\n```python\n# Solution code for Exercise 3\n```\n\n### Self-Assessment Answers\n\n1. [Answer to Question 1]\n2. [Answer to Question 2]\n3. [Answer to Question 3]",
   "metadata": {}
  },
  {
   "cell_type": "code",
   "metadata": {},
   "outputs": [],
   "source": "# Optional: Convert this notebook to PDF\n# Uncomment and run this cell if you want to generate a PDF version\n\n# !jupyter nbconvert --to pdf \"$(basename \\\"$PWD\\\").ipynb\""
  }
 ],
 "metadata": {
  "kernelspec": {
   "display_name": "Python 3",
   "language": "python",
   "name": "python3"
  },
  "language_info": {
   "codemirror_mode": {
    "name": "ipython",
    "version": 3
   },
   "file_extension": ".py",
   "mimetype": "text/x-python",
   "name": "python",
   "nbconvert_exporter": "python",
   "pygments_lexer": "ipython3",
   "version": "3.8.10"
  }
 },
 "nbformat": 4,
 "nbformat_minor": 4
}