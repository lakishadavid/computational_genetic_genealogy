{
  "cells": [
    {
      "cell_type": "markdown",
      "metadata": {},
      "source": [
        "# Lab 1: Exploring Genetic Data\n",
        "\n",
        "This is the JupyterLite version of Lab 1, adapted to run entirely in your browser. \n",
        "\n",
        "## Introduction\n",
        "\n",
        "In this lab, we'll explore genetic data from the 1000 Genomes Project. We'll learn how to load, filter, and analyze genetic sample information to understand population structures."
      ]
    },
    {
      "cell_type": "markdown",
      "metadata": {},
      "source": [
        "## Environment Setup\n",
        "\n",
        "First, let's set up our environment by importing the necessary libraries:"
      ]
    },
    {
      "cell_type": "code",
      "execution_count": null,
      "metadata": {},
      "source": [
        "import micropip\n",
        "await micropip.install(['pandas', 'numpy', 'matplotlib', 'plotly'])\n",
        "\n",
        "import pandas as pd\n",
        "import numpy as np\n",
        "import matplotlib.pyplot as plt\n",
        "from pyodide.http import open_url\n",
        "from collections import Counter\n",
        "\n",
        "print(\"Environment setup complete!\")"
      ]
    },
    {
      "cell_type": "markdown",
      "metadata": {},
      "source": [
        "## Loading Sample Data\n",
        "\n",
        "Instead of accessing files from the local filesystem, we'll load a preprocessed sample dataset through a URL:"
      ]
    },
    {
      "cell_type": "code",
      "execution_count": null,
      "metadata": {},
      "source": [
        "# Function to load data from a URL\n",
        "def load_sample_data():\n",
        "    \"\"\"Load sample summary data from a URL\"\"\"\n",
        "    try:\n",
        "        # URL to sample data (would be replaced with your actual hosted file)\n",
        "        url = \"https://raw.githubusercontent.com/internationagenome/sample-summaries/main/sample_data.tsv\"\n",
        "        \n",
        "        # For this example, we'll use mock data\n",
        "        mock_data = \"\"\"\n",
        "Sample\tFamily ID\tPopulation\tPopulation Description\tGender\tRelationship\n",
        "HG00096\tHG00096\tGBR\tBritish in England and Scotland\tmale\t\n",
        "HG00097\tHG00097\tGBR\tBritish in England and Scotland\tfemale\t\n",
        "HG00099\tHG00099\tGBR\tBritish in England and Scotland\tfemale\t\n",
        "HG00100\tHG00100\tGBR\tBritish in England and Scotland\tfemale\t\n",
        "HG00101\tHG00101\tGBR\tBritish in England and Scotland\tmale\t\n",
        "NA18486\tNA18486\tYRI\tYoruba in Ibadan, Nigeria\tfemale\tparent\n",
        "NA18487\tNA18487\tYRI\tYoruba in Ibadan, Nigeria\tmale\tparent\n",
        "NA18488\tNA18488\tYRI\tYoruba in Ibadan, Nigeria\tfemale\tchild\n",
        "NA18489\tNA18489\tYRI\tYoruba in Ibadan, Nigeria\tmale\tparent\n",
        "NA18498\tNA18498\tYRI\tYoruba in Ibadan, Nigeria\tfemale\tparent\n",
        "NA18499\tNA18499\tYRI\tYoruba in Ibadan, Nigeria\tmale\tchild\n",
        "NA19625\tNA19625\tASW\tAfrican Ancestry in Southwest US\tfemale\tparent\n",
        "NA19626\tNA19626\tASW\tAfrican Ancestry in Southwest US\tmale\tparent\n",
        "NA19627\tNA19627\tASW\tAfrican Ancestry in Southwest US\tfemale\tchild\n",
        "NA19701\tNA19701\tASW\tAfrican Ancestry in Southwest US\tmale\tparent\n",
        "NA19702\tNA19702\tASW\tAfrican Ancestry in Southwest US\tfemale\tparent\n",
        "NA19703\tNA19703\tASW\tAfrican Ancestry in Southwest US\tmale\tchild\n",
        "NA19704\tNA19704\tASW\tAfrican Ancestry in Southwest US\tfemale\tchild\n",
        "NA19819\tNA19819\tASW\tAfrican Ancestry in Southwest US\tfemale\tparent\n",
        "NA19834\tNA19834\tASW\tAfrican Ancestry in Southwest US\tmale\tparent\n",
        "\"\"\"\n",
        "        \n",
        "        # Load the data into a pandas DataFrame\n",
        "        from io import StringIO\n",
        "        return pd.read_csv(StringIO(mock_data), sep='\\t')\n",
        "        \n",
        "    except Exception as e:\n",
        "        print(f\"Error loading data: {str(e)}\")\n",
        "        return None\n",
        "\n",
        "# Load the sample data\n",
        "sample_df = load_sample_data()\n",
        "\n",
        "# Display the first few rows\n",
        "if sample_df is not None:\n",
        "    print(f\"Loaded {len(sample_df)} samples\")\n",
        "    display(sample_df.head())\n",
        "else:\n",
        "    print(\"Failed to load sample data\")"
      ]
    },
    {
      "cell_type": "markdown",
      "metadata": {},
      "source": [
        "## Exploring the Sample Data\n",
        "\n",
        "Let's explore the sample data to better understand the populations and relationships:"
      ]
    },
    {
      "cell_type": "code",
      "execution_count": null,
      "metadata": {},
      "source": [
        "# Select columns related to sample identification and population\n",
        "basic_cols = ['Sample', 'Family ID', 'Population', 'Population Description', 'Gender']\n",
        "basic_info = sample_df[basic_cols]\n",
        "\n",
        "print(\"First few rows of basic sample information:\")\n",
        "display(basic_info.head())\n",
        "\n",
        "print(\"\\nSummary of populations in the dataset:\")\n",
        "population_counts = sample_df['Population'].value_counts()\n",
        "display(population_counts)\n",
        "\n",
        "print(\"\\nUnique population descriptions:\")\n",
        "display(pd.DataFrame(sample_df[['Population', 'Population Description']].drop_duplicates()))"
      ]
    },
    {
      "cell_type": "markdown",
      "metadata": {},
      "source": [
        "## Visualizing Population Distribution\n",
        "\n",
        "Let's create a simple visualization of population distribution in our sample:"
      ]
    },
    {
      "cell_type": "code",
      "execution_count": null,
      "metadata": {},
      "source": [
        "# Create a bar chart of population counts\n",
        "plt.figure(figsize=(10, 6))\n",
        "population_counts.plot(kind='bar', color='skyblue')\n",
        "plt.title('Distribution of Samples by Population')\n",
        "plt.xlabel('Population')\n",
        "plt.ylabel('Number of Samples')\n",
        "plt.xticks(rotation=45)\n",
        "plt.tight_layout()\n",
        "plt.show()\n",
        "\n",
        "# Create a pie chart showing gender distribution\n",
        "gender_counts = sample_df['Gender'].value_counts()\n",
        "plt.figure(figsize=(8, 8))\n",
        "plt.pie(gender_counts, labels=gender_counts.index, autopct='%1.1f%%', startangle=90, colors=['lightblue', 'lightpink'])\n",
        "plt.title('Gender Distribution in Sample')\n",
        "plt.axis('equal')  # Equal aspect ratio ensures that pie is drawn as a circle\n",
        "plt.tight_layout()\n",
        "plt.show()"
      ]
    },
    {
      "cell_type": "markdown",
      "metadata": {},
      "source": [
        "## Filtering Data\n",
        "\n",
        "Let's practice filtering the data to focus on specific populations or attributes:"
      ]
    },
    {
      "cell_type": "code",
      "execution_count": null,
      "metadata": {},
      "source": [
        "# Filter to include only individuals from the 'YRI' population\n",
        "yri_population = sample_df[sample_df['Population'] == 'YRI']\n",
        "print(f\"Number of YRI samples: {len(yri_population)}\")\n",
        "display(yri_population)\n",
        "\n",
        "# Filter to include only females in the dataset\n",
        "females = sample_df[sample_df['Gender'] == 'female']\n",
        "print(f\"Number of female samples: {len(females)}\")\n",
        "display(females.head())\n",
        "\n",
        "# Filter with multiple conditions (e.g., 'YRI' population AND 'female' gender)\n",
        "yri_females = sample_df[(sample_df['Population'] == 'YRI') & (sample_df['Gender'] == 'female')]\n",
        "print(f\"Number of YRI female samples: {len(yri_females)}\")\n",
        "display(yri_females)"
      ]
    },
    {
      "cell_type": "markdown",
      "metadata": {},
      "source": [
        "## Analyzing Family Relationships\n",
        "\n",
        "Let's explore family relationships in our dataset:"
      ]
    },
    {
      "cell_type": "code",
      "execution_count": null,
      "metadata": {},
      "source": [
        "# Look at relationship data\n",
        "print(\"Distribution of relationship types:\")\n",
        "relationship_counts = sample_df['Relationship'].value_counts(dropna=False)\n",
        "display(relationship_counts)\n",
        "\n",
        "# Identify family groups\n",
        "print(\"\\nIdentifying family groups:\")\n",
        "family_groups = sample_df[sample_df.duplicated(subset=['Family ID'], keep=False)].sort_values('Family ID')\n",
        "display(family_groups)\n",
        "\n",
        "# Count number of families\n",
        "unique_families = sample_df[sample_df['Relationship'].notna()]['Family ID'].nunique()\n",
        "print(f\"\\nNumber of families with relationship information: {unique_families}\")"
      ]
    },
    {
      "cell_type": "markdown",
      "metadata": {},
      "source": [
        "## Saving Your Progress\n",
        "\n",
        "In this browser environment, we can save our work to browser storage:"
      ]
    },
    {
      "cell_type": "code",
      "execution_count": null,
      "metadata": {},
      "source": [
        "# Create a function to save data to browser storage\n",
        "def save_to_storage(data_dict):\n",
        "    \"\"\"Save data to browser storage for later use\"\"\"\n",
        "    try:\n",
        "        from js import localStorage\n",
        "        import json\n",
        "        \n",
        "        # Convert DataFrame to JSON\n",
        "        if 'sample_df' in data_dict and isinstance(data_dict['sample_df'], pd.DataFrame):\n",
        "            data_dict['sample_df'] = data_dict['sample_df'].to_json()\n",
        "            \n",
        "        # Save to localStorage\n",
        "        localStorage.setItem('lab1_data', json.dumps(data_dict))\n",
        "        print(\"Data saved successfully!\")\n",
        "        return True\n",
        "    except Exception as e:\n",
        "        print(f\"Error saving data: {str(e)}\")\n",
        "        return False\n",
        "\n",
        "# Create a function to load data from browser storage\n",
        "def load_from_storage():\n",
        "    \"\"\"Load previously saved data from browser storage\"\"\"\n",
        "    try:\n",
        "        from js import localStorage\n",
        "        import json\n",
        "        \n",
        "        # Get data from localStorage\n",
        "        stored_data = localStorage.getItem('lab1_data')\n",
        "        if stored_data:\n",
        "            data_dict = json.loads(stored_data)\n",
        "            \n",
        "            # Convert JSON back to DataFrame\n",
        "            if 'sample_df' in data_dict:\n",
        "                data_dict['sample_df'] = pd.read_json(data_dict['sample_df'])\n",
        "                \n",
        "            print(\"Data loaded successfully!\")\n",
        "            return data_dict\n",
        "        else:\n",
        "            print(\"No saved data found.\")\n",
        "            return None\n",
        "    except Exception as e:\n",
        "        print(f\"Error loading data: {str(e)}\")\n",
        "        return None\n",
        "\n",
        "# Save our current data\n",
        "save_to_storage({\n",
        "    'sample_df': sample_df,\n",
        "    'lab_complete': True,\n",
        "    'timestamp': pd.Timestamp.now().isoformat()\n",
        "})"
      ]
    },
    {
      "cell_type": "markdown",
      "metadata": {},
      "source": [
        "## Conclusion\n",
        "\n",
        "In this lab, we explored genetic sample data from the 1000 Genomes Project. We learned how to:\n",
        "\n",
        "1. Load and inspect sample data\n",
        "2. Filter data based on population and other attributes\n",
        "3. Visualize population distributions\n",
        "4. Identify family relationships\n",
        "5. Save our progress to browser storage\n",
        "\n",
        "This provides a foundation for the next labs, where we'll explore more complex genetic analyses."
      ]
    }
  ],
  "metadata": {
    "kernelspec": {
      "display_name": "Python (Pyodide)",
      "language": "python",
      "name": "python"
    },
    "language_info": {
      "codemirror_mode": {
        "name": "python",
        "version": 3
      },
      "file_extension": ".py",
      "mimetype": "text/x-python",
      "name": "python",
      "nbconvert_exporter": "python",
      "pygments_lexer": "ipython3",
      "version": "3.8"
    }
  },
  "nbformat": 4,
  "nbformat_minor": 4
}