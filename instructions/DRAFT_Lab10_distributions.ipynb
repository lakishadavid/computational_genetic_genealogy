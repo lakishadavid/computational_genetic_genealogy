{
  "cells": [
    {
      "cell_type": "code",
      "source": [
        "# Run this cell IF you are using Google Colab\n",
        "\n",
        "from google.colab import drive\n",
        "\n",
        "drive.mount('/content/drive')\n",
        "\n",
        "# After the a successful run, check the file explorer tab to see your mounted drive.\n",
        "# You may need to refresh the tab to see your drive folder.\n",
        "# If you run out of space using your Google Drive folder, consider getting a Google One subscription."
      ],
      "metadata": {
        "id": "RmwBQHErB2bD"
      },
      "execution_count": null,
      "outputs": []
    },
    {
      "cell_type": "code",
      "execution_count": null,
      "metadata": {
        "id": "poN1MuvuBi5u"
      },
      "outputs": [],
      "source": [
        "import os\n",
        "import importlib.util\n",
        "import ast\n",
        "import numpy as np"
      ]
    },
    {
      "cell_type": "code",
      "source": [
        "primary_directory = '/content'\n",
        "primary_directory"
      ],
      "metadata": {
        "id": "qrFcyAHAB6_y"
      },
      "execution_count": null,
      "outputs": []
    },
    {
      "cell_type": "code",
      "source": [
        "# The followng code checks if the directories already exist before attempting to create them.\n",
        "# If they are not there, this code will create the directory where defined by the variable.\n",
        "\n",
        "# Define the other directories\n",
        "if primary_directory.startswith('/content'):\n",
        "    use_directory = \"/content/use\"\n",
        "else:\n",
        "    use_directory = os.path.join(primary_directory, \"use\")\n",
        "\n",
        "results_directory = os.path.join(primary_directory, \"results\")\n",
        "references_directory = os.path.join(primary_directory, \"references\")\n",
        "data_directory = os.path.join(primary_directory, \"data\")\n",
        "\n",
        "# Directories to check\n",
        "directories = [use_directory, results_directory, references_directory, data_directory]\n",
        "\n",
        "# Check if the directories exist and print a message\n",
        "for directory in directories:\n",
        "    if os.path.exists(directory):\n",
        "        print(f\"Directory exists: {directory}\")\n",
        "    else:\n",
        "        os.makedirs(directory)\n",
        "        print(f\"Directory created: {directory}\")"
      ],
      "metadata": {
        "id": "XGV3OmCzB9Va"
      },
      "execution_count": null,
      "outputs": []
    },
    {
      "cell_type": "code",
      "source": [
        "# Function to check if a package is installed\n",
        "def check_install_package(package_name, pip_name=None):\n",
        "    package_spec = importlib.util.find_spec(package_name)\n",
        "    if package_spec is None:\n",
        "        print(f\"{package_name} not found. Installing...\")\n",
        "        !pip install {pip_name if pip_name else package_name}\n",
        "    else:\n",
        "        print(f\"{package_name} is already installed.\")\n",
        "\n",
        "# Check and install package if not installed\n",
        "check_install_package('matplotlib', 'matplotlib')\n",
        "check_install_package('networkx', 'networkx')\n",
        "check_install_package('pandas', 'pandas')"
      ],
      "metadata": {
        "id": "R9ChQhaMCFuG"
      },
      "execution_count": null,
      "outputs": []
    },
    {
      "cell_type": "markdown",
      "metadata": {
        "id": "OJ6oqLW7Bi5v"
      },
      "source": [
        "### Begin"
      ]
    },
    {
      "cell_type": "markdown",
      "source": [
        "ERSA λ\n",
        "from Equation 8\n",
        "\n",
        "$$(a(rd+c))/2^{d−1} \\cdot p(t)$$"
      ],
      "metadata": {
        "id": "cZs9ccicCsDy"
      }
    },
    {
      "cell_type": "code",
      "source": [
        "# Use the table from Kong et al., 2002 to get the total autosomal genetic length\n",
        "# Enter the value using digits and decimals only (i.e., no commas)\n",
        "# This value is in centiMorgans (cM)\n",
        "genome_length =\n",
        "# In your futher developed code, you should calculate the input_value\n",
        "# for the genome_length from your recombination map.\n",
        "\n",
        "# Looking at the lambda equation from Equation 8 from the ERSA paper\n",
        "num_anc =   # a: number of ancestors. Enter your choice of 1 or 2\n",
        "\n",
        "num_rec = genome_length / 100 # r: approximate number of recombination events per meiosis\n",
        "# Note: The genome_length unit of measurement is cM. One Morgan (M) is 100 cM.\n",
        "# The definition of a Morgan is the space where at least one recombination event will occur.\n",
        "# Therefore, we divide our cM value by 100 cM because, on average, 1 recombination event\n",
        "# will occur every 100 cM or 1 M.\n",
        "\n",
        "d =   # d: meiotic distance between individuals in a pair. Enter value of choice.\n",
        "\n",
        "num_chr =   # c: number of autosomes in humans\n",
        "\n",
        "min_seg_len =  2.5 # t: minimum detectable segment length in cM"
      ],
      "metadata": {
        "id": "No88Jt1dD6XT"
      },
      "execution_count": null,
      "outputs": []
    },
    {
      "cell_type": "markdown",
      "source": [
        "<details>\n",
        "  <summary>Click to see answer.</summary>\n",
        "  \n",
        "```\n",
        "genome_length =   3435.71\n",
        "num_rec = genome_length / 100\n",
        "num_chr = 22\n",
        "min_seg_len = 2.5\n",
        "```\n",
        "\n",
        "</details>"
      ],
      "metadata": {
        "id": "FC6Di3JHJLkh"
      }
    },
    {
      "cell_type": "markdown",
      "source": [
        "The probability of a segment being longer than the threshold\n",
        "\n",
        "$$p(t)= e^{-dt/100}$$\n",
        "\n",
        "Recall that the following\n",
        "\n",
        "$$e^x$$\n",
        "\n",
        "is coded as follows:\n",
        "\n",
        "```\n",
        "import numpy as np\n",
        "\n",
        "np.exp(x)\n",
        "```\n",
        "\n"
      ],
      "metadata": {
        "id": "5SpEjhIgH3Ep"
      }
    },
    {
      "cell_type": "code",
      "source": [
        "prob_greater_than_t ="
      ],
      "metadata": {
        "id": "24cXa388HHwO"
      },
      "execution_count": 7,
      "outputs": []
    },
    {
      "cell_type": "markdown",
      "source": [
        "<details>\n",
        "  <summary>Click to see answer.</summary>\n",
        "  \n",
        "`prob_greater_than_t = np.exp(-d * min_seg_len / 100)`\n",
        "\n",
        "</details>"
      ],
      "metadata": {
        "id": "8H719sEFI3u2"
      }
    },
    {
      "cell_type": "markdown",
      "source": [
        "Lambda mean is the mean number of segments shared.\n",
        "\n",
        "\n",
        "$$λ = (a(rd+c))/2^{d−1} \\cdot p(t)$$"
      ],
      "metadata": {
        "id": "KISqVHz4KPt5"
      }
    },
    {
      "cell_type": "code",
      "source": [
        "lambda_mean ="
      ],
      "metadata": {
        "id": "HcbQcJmuKVX-"
      },
      "execution_count": 9,
      "outputs": []
    },
    {
      "cell_type": "markdown",
      "source": [
        "<details>\n",
        "  <summary>Click to see answer.</summary>\n",
        "  \n",
        "`lambda_mean = ((num_anc * (num_rec * d + num_chr)) / (2 ** (d - 1))) * prob_greater_than_t`\n",
        "\n",
        "</details>"
      ],
      "metadata": {
        "id": "ypTYBm1RKZcJ"
      }
    },
    {
      "cell_type": "code",
      "source": [
        "print(lambda_mean)"
      ],
      "metadata": {
        "colab": {
          "base_uri": "https://localhost:8080/"
        },
        "id": "fGWE4ipJVK1D",
        "outputId": "150c04c8-0bf7-4dc1-aaca-3facb16d91f7"
      },
      "execution_count": 22,
      "outputs": [
        {
          "output_type": "stream",
          "name": "stdout",
          "text": [
            "36.064195454401045\n"
          ]
        }
      ]
    },
    {
      "cell_type": "markdown",
      "source": [
        "So now we have our mean, Poison-distributed, number of segments shared between a pair, given the parameter values."
      ],
      "metadata": {
        "id": "RQvdI8ajS6cy"
      }
    },
    {
      "cell_type": "markdown",
      "source": [
        "According to the ERSA paper, the number of segments for meiotic distance has a poisson distribution. The Poisson distribution is a discrete distribution that models the probability of a certain number of events occurring within a fixed interval of time or space.\n",
        "\n",
        "The formula for the Poisson distribution is known as the probability mass function (PMF). We will use the `poisson.pmf` method from the `scipy.stats` package.\n",
        "\n",
        "$$poisson.pmf(k, λ)$$\n",
        "\n",
        "where\n",
        "\n",
        "k is the number of events (k) = actual number of shared segments in pair\n",
        "\n",
        "λ is the rate parameter λ\n",
        "\n",
        "<br>\n",
        "\n",
        "The Poisson probability mass function `poisson.pmf(k, λ)` gives the probability of observing exactly k shared segments, given the mean λ, where λ represents the relationship among a set of variables."
      ],
      "metadata": {
        "id": "LoCth3RtLuo5"
      }
    },
    {
      "cell_type": "code",
      "source": [
        "from scipy.stats import poisson\n",
        "\n",
        "# The probability of sharing 0 segment given your parameter values above.\n",
        "\n",
        "poisson.pmf(0, lambda_mean)"
      ],
      "metadata": {
        "colab": {
          "base_uri": "https://localhost:8080/"
        },
        "id": "IlL7ZkZ8QbUe",
        "outputId": "0aed10a3-55c6-424e-a67b-8914c965e8d9"
      },
      "execution_count": 17,
      "outputs": [
        {
          "output_type": "execute_result",
          "data": {
            "text/plain": [
              "2.1752987980169267e-16"
            ]
          },
          "metadata": {},
          "execution_count": 17
        }
      ]
    },
    {
      "cell_type": "code",
      "source": [
        "# The probability of sharing 1 segment given your parameter values above.\n",
        "\n",
        "poisson.pmf(1, lambda_mean)"
      ],
      "metadata": {
        "colab": {
          "base_uri": "https://localhost:8080/"
        },
        "id": "amTEpwZ6PErr",
        "outputId": "3d6f0f0c-4c69-4d63-8b0e-cad9f1b6a811"
      },
      "execution_count": 18,
      "outputs": [
        {
          "output_type": "execute_result",
          "data": {
            "text/plain": [
              "7.845040102340624e-15"
            ]
          },
          "metadata": {},
          "execution_count": 18
        }
      ]
    },
    {
      "cell_type": "code",
      "source": [
        "# The probability of sharing 3 segment given your parameter values above.\n",
        "\n",
        "poisson.pmf(3, lambda_mean)"
      ],
      "metadata": {
        "colab": {
          "base_uri": "https://localhost:8080/"
        },
        "id": "Iu_GVfpcQPWf",
        "outputId": "be444175-a33b-4fb6-cbf6-f8a0d2dd50ce"
      },
      "execution_count": 19,
      "outputs": [
        {
          "output_type": "execute_result",
          "data": {
            "text/plain": [
              "1.7005774413842818e-12"
            ]
          },
          "metadata": {},
          "execution_count": 19
        }
      ]
    },
    {
      "cell_type": "code",
      "source": [
        "# The probability of sharing 5 segment given your parameter values above.\n",
        "\n",
        "poisson.pmf(5, lambda_mean)"
      ],
      "metadata": {
        "colab": {
          "base_uri": "https://localhost:8080/"
        },
        "id": "XvC5KRF1QUib",
        "outputId": "ce73bafe-19c7-4743-f785-7fbeb4bd86ad"
      },
      "execution_count": 20,
      "outputs": [
        {
          "output_type": "execute_result",
          "data": {
            "text/plain": [
              "1.1059077824021422e-10"
            ]
          },
          "metadata": {},
          "execution_count": 20
        }
      ]
    },
    {
      "cell_type": "markdown",
      "source": [
        "If you want to see the probabilty of sharing 0, 1, 3, and 5 segments given a different set of parameter values, you would need to change your values above and rerun the cells (including the cell where you changed your parameter values)."
      ],
      "metadata": {
        "id": "doWOBygRQmDO"
      }
    },
    {
      "cell_type": "markdown",
      "source": [
        "Rather than plugging values for the number of segments we are interested in one by one, we may be interested in looking at a range of segment number values. This is called our distribution.\n",
        "\n",
        "<br>\n",
        "\n",
        "We will create a range based on the mean and standard deviation of the number of segments. Because the number of segments shared is Poisson-distributed, we know that the standard deviation is approximated as the square root of the mean."
      ],
      "metadata": {
        "id": "ol0hVuarUMCT"
      }
    },
    {
      "cell_type": "code",
      "source": [
        "# Using the numpy package, this gives us a range from 0 to a value that is int(lambda_mean) + 3*np.sqrt(lambda_mean)\n",
        "\n",
        "n_values = np.arange(0, int(lambda_mean) + 3*np.sqrt(lambda_mean))\n",
        "n_values"
      ],
      "metadata": {
        "colab": {
          "base_uri": "https://localhost:8080/"
        },
        "id": "FzZ75vxGSxJz",
        "outputId": "13c4a2d8-987d-4aa8-be5e-c3dda02b6ebc"
      },
      "execution_count": 23,
      "outputs": [
        {
          "output_type": "execute_result",
          "data": {
            "text/plain": [
              "array([ 0.,  1.,  2.,  3.,  4.,  5.,  6.,  7.,  8.,  9., 10., 11., 12.,\n",
              "       13., 14., 15., 16., 17., 18., 19., 20., 21., 22., 23., 24., 25.,\n",
              "       26., 27., 28., 29., 30., 31., 32., 33., 34., 35., 36., 37., 38.,\n",
              "       39., 40., 41., 42., 43., 44., 45., 46., 47., 48., 49., 50., 51.,\n",
              "       52., 53., 54.])"
            ]
          },
          "metadata": {},
          "execution_count": 23
        }
      ]
    },
    {
      "cell_type": "code",
      "execution_count": 24,
      "metadata": {
        "colab": {
          "base_uri": "https://localhost:8080/"
        },
        "id": "FwPHuSj-Bi5v",
        "outputId": "f978629a-ea0c-4386-e967-d1374286752f"
      },
      "outputs": [
        {
          "output_type": "execute_result",
          "data": {
            "text/plain": [
              "array([2.17529880e-16, 7.84504010e-15, 1.41462530e-13, 1.70057744e-12,\n",
              "       1.53324893e-11, 1.10590778e-10, 6.64727907e-10, 3.42469674e-09,\n",
              "       1.54386166e-08, 6.18645873e-08, 2.23109657e-07, 7.31479115e-07,\n",
              "       2.19835048e-06, 6.09859549e-06, 1.57100671e-05, 3.77713955e-05,\n",
              "       8.51371868e-05, 1.80612008e-04, 3.61868154e-04, 6.86867571e-04,\n",
              "       1.23856632e-03, 2.12704275e-03, 3.48682206e-03, 5.46736663e-03,\n",
              "       8.21567411e-03, 1.18516671e-02, 1.64392630e-02, 2.19581035e-02,\n",
              "       2.82821905e-02, 3.51715327e-02, 4.22811010e-02, 4.91881900e-02,\n",
              "       5.54353905e-02, 6.05828109e-02, 6.42608922e-02, 6.62147821e-02,\n",
              "       6.63328568e-02, 6.46551652e-02, 6.13614873e-02, 5.67423761e-02,\n",
              "       5.11592036e-02, 4.50003785e-02, 3.86405344e-02, 3.24079020e-02,\n",
              "       2.65628389e-02, 2.12881648e-02, 1.66900116e-02, 1.28066349e-02,\n",
              "       9.62210385e-03, 7.08190681e-03, 5.10806543e-03, 3.61212294e-03,\n",
              "       2.50515977e-03, 1.70465229e-03, 1.13846136e-03])"
            ]
          },
          "metadata": {},
          "execution_count": 24
        }
      ],
      "source": [
        "from scipy.stats import poisson\n",
        "\n",
        "distribution_num_segments = poisson.pmf(n_values, lambda_mean)\n",
        "\n",
        "# Display the distribution\n",
        "distribution_num_segments\n"
      ]
    },
    {
      "cell_type": "markdown",
      "source": [
        "You can also plot the distribution."
      ],
      "metadata": {
        "id": "EGA6P2PnV1Rv"
      }
    },
    {
      "cell_type": "code",
      "execution_count": 27,
      "metadata": {
        "colab": {
          "base_uri": "https://localhost:8080/",
          "height": 489
        },
        "id": "V39Hi5BcBi5w",
        "outputId": "e164cb0b-40f2-498d-d73c-5845d850b79b"
      },
      "outputs": [
        {
          "output_type": "stream",
          "name": "stdout",
          "text": [
            "The maximum probablity is 0.06633285681370232 with a segment sharing of 36.0 segments.\n"
          ]
        },
        {
          "output_type": "display_data",
          "data": {
            "text/plain": [
              "<Figure size 640x480 with 1 Axes>"
            ],
            "image/png": "[encoded data removed]"
          },
          "metadata": {}
        }
      ],
      "source": [
        "import matplotlib.pyplot as plt\n",
        "\n",
        "# Plot the distribution\n",
        "plt.stem(n_values, distribution_num_segments)\n",
        "plt.xlabel('Number of Shared Segments')\n",
        "plt.ylabel('Probability')\n",
        "plt.title('Poisson Distribution of Shared Segments')\n",
        "\n",
        "\n",
        "# Find the value with the maximum probability\n",
        "max_prob_n = n_values[np.argmax(distribution_num_segments)]\n",
        "max_prob = np.max(distribution_num_segments)\n",
        "\n",
        "# Output the number of shared segments with the maximum probability and its probability\n",
        "print(f\"The maximum probablity is {max_prob} with a segment sharing of {max_prob_n} segments.\" )\n",
        "\n",
        "plt.show()"
      ]
    },
    {
      "cell_type": "markdown",
      "source": [
        "Similarly with equation 7..."
      ],
      "metadata": {
        "id": "UVZdPEMkW_sD"
      }
    },
    {
      "cell_type": "code",
      "execution_count": 28,
      "metadata": {
        "colab": {
          "base_uri": "https://localhost:8080/"
        },
        "id": "REQEMbqEBi5w",
        "outputId": "9b206cb5-a0be-4bb2-b852-af2b7b7a8efc"
      },
      "outputs": [
        {
          "output_type": "execute_result",
          "data": {
            "text/plain": [
              "array([0.04      , 0.03984415, 0.0396889 , 0.03953426, 0.03938023,\n",
              "       0.03922679, 0.03907395, 0.03892171, 0.03877006, 0.038619  ,\n",
              "       0.03846853, 0.03831864, 0.03816934, 0.03802062, 0.03787248,\n",
              "       0.03772492, 0.03757793, 0.03743152, 0.03728567, 0.0371404 ,\n",
              "       0.03699569, 0.03685154, 0.03670796, 0.03656493, 0.03642247,\n",
              "       0.03628055, 0.03613919, 0.03599838, 0.03585812, 0.03571841,\n",
              "       0.03557924, 0.03544061, 0.03530253, 0.03516498, 0.03502796,\n",
              "       0.03489149, 0.03475554, 0.03462012, 0.03448523, 0.03435087,\n",
              "       0.03421702, 0.0340837 , 0.0339509 , 0.03381862, 0.03368685,\n",
              "       0.0335556 , 0.03342486, 0.03329462, 0.0331649 , 0.03303568,\n",
              "       0.03290696, 0.03277875, 0.03265103, 0.03252381, 0.03239709,\n",
              "       0.03227086, 0.03214513, 0.03201988, 0.03189512, 0.03177085,\n",
              "       0.03164706, 0.03152375, 0.03140093, 0.03127858, 0.03115671,\n",
              "       0.03103531, 0.03091439, 0.03079394, 0.03067396, 0.03055444,\n",
              "       0.03043539, 0.03031681, 0.03019868, 0.03008102, 0.02996382,\n",
              "       0.02984707, 0.02973078, 0.02961494, 0.02949955, 0.02938461,\n",
              "       0.02927012, 0.02915607, 0.02904247, 0.02892931, 0.0288166 ,\n",
              "       0.02870432, 0.02859248, 0.02848107, 0.0283701 , 0.02825957,\n",
              "       0.02814946, 0.02803978, 0.02793053, 0.0278217 , 0.0277133 ,\n",
              "       0.02760532, 0.02749776, 0.02739062, 0.0272839 , 0.0271776 ,\n",
              "       0.0270717 , 0.02696623, 0.02686116, 0.0267565 , 0.02665225,\n",
              "       0.0265484 , 0.02644496, 0.02634192, 0.02623929, 0.02613705,\n",
              "       0.02603521, 0.02593377, 0.02583273, 0.02573208, 0.02563182,\n",
              "       0.02553195, 0.02543247, 0.02533338, 0.02523467, 0.02513635,\n",
              "       0.02503841, 0.02494085, 0.02484367, 0.02474688, 0.02465046,\n",
              "       0.02455441, 0.02445874, 0.02436344, 0.02426851, 0.02417396,\n",
              "       0.02407977, 0.02398595, 0.02389249, 0.0237994 , 0.02370667,\n",
              "       0.0236143 , 0.02352229, 0.02343064, 0.02333935, 0.02324841,\n",
              "       0.02315783, 0.0230676 , 0.02297772, 0.02288819, 0.02279901,\n",
              "       0.02271018, 0.0226217 , 0.02253356, 0.02244576, 0.0223583 ,\n",
              "       0.02227119, 0.02218441, 0.02209798, 0.02201188, 0.02192611,\n",
              "       0.02184068, 0.02175558, 0.02167082, 0.02158638, 0.02150227,\n",
              "       0.0214185 , 0.02133504, 0.02125192, 0.02116911, 0.02108663,\n",
              "       0.02100447, 0.02092263, 0.02084111, 0.02075991, 0.02067902,\n",
              "       0.02059845, 0.02051819, 0.02043825, 0.02035861, 0.02027929,\n",
              "       0.02020028, 0.02012157, 0.02004317, 0.01996508, 0.01988729,\n",
              "       0.0198098 , 0.01973261, 0.01965573, 0.01957915, 0.01950286,\n",
              "       0.01942687, 0.01935118, 0.01927578, 0.01920068, 0.01912587,\n",
              "       0.01905135, 0.01897712, 0.01890318, 0.01882952, 0.01875616,\n",
              "       0.01868308, 0.01861028, 0.01853777, 0.01846554, 0.0183936 ,\n",
              "       0.01832193, 0.01825054, 0.01817943, 0.0181086 , 0.01803804,\n",
              "       0.01796776, 0.01789775, 0.01782802, 0.01775856, 0.01768936,\n",
              "       0.01762044, 0.01755179, 0.0174834 , 0.01741528, 0.01734742,\n",
              "       0.01727983, 0.01721251, 0.01714544, 0.01707864, 0.01701209,\n",
              "       0.01694581, 0.01687978, 0.01681402, 0.0167485 , 0.01668325,\n",
              "       0.01661824, 0.01655349, 0.016489  , 0.01642475, 0.01636075,\n",
              "       0.01629701, 0.01623351, 0.01617026, 0.01610726, 0.0160445 ,\n",
              "       0.01598198, 0.01591971, 0.01585768, 0.0157959 , 0.01573435,\n",
              "       0.01567305, 0.01561198, 0.01555115, 0.01549056, 0.0154302 ,\n",
              "       0.01537008, 0.0153102 , 0.01525054, 0.01519112, 0.01513193,\n",
              "       0.01507298, 0.01501425, 0.01495575, 0.01489748, 0.01483943,\n",
              "       0.01478161, 0.01472402, 0.01466665, 0.0146095 , 0.01455258,\n",
              "       0.01449588, 0.0144394 , 0.01438314, 0.0143271 , 0.01427128,\n",
              "       0.01421567, 0.01416028, 0.01410511, 0.01405015, 0.01399541,\n",
              "       0.01394088, 0.01388656, 0.01383245, 0.01377856, 0.01372487,\n",
              "       0.0136714 , 0.01361813, 0.01356507, 0.01351222, 0.01345957,\n",
              "       0.01340713, 0.01335489, 0.01330285, 0.01325102, 0.01319939,\n",
              "       0.01314796, 0.01309673, 0.01304571, 0.01299488, 0.01294424,\n",
              "       0.01289381, 0.01284357, 0.01279353, 0.01274368, 0.01269403,\n",
              "       0.01264457, 0.0125953 , 0.01254623, 0.01249734, 0.01244865,\n",
              "       0.01240015, 0.01235183, 0.01230371, 0.01225577, 0.01220801,\n",
              "       0.01216045, 0.01211307, 0.01206587, 0.01201886, 0.01197203,\n",
              "       0.01192538, 0.01187892, 0.01183264, 0.01178653, 0.01174061,\n",
              "       0.01169486, 0.0116493 , 0.01160391, 0.0115587 , 0.01151366,\n",
              "       0.0114688 , 0.01142411, 0.0113796 , 0.01133526, 0.0112911 ,\n",
              "       0.0112471 , 0.01120328, 0.01115963, 0.01111615, 0.01107284,\n",
              "       0.01102969, 0.01098672, 0.01094391, 0.01090127, 0.0108588 ,\n",
              "       0.01081649, 0.01077434, 0.01073236, 0.01069055, 0.01064889,\n",
              "       0.0106074 , 0.01056607, 0.0105249 , 0.0104839 , 0.01044305,\n",
              "       0.01040236, 0.01036183, 0.01032146, 0.01028124, 0.01024118,\n",
              "       0.01020128, 0.01016153, 0.01012194, 0.0100825 , 0.01004322,\n",
              "       0.01000409, 0.00996511, 0.00992628, 0.0098876 , 0.00984908,\n",
              "       0.0098107 , 0.00977248, 0.0097344 , 0.00969647, 0.00965869,\n",
              "       0.00962106, 0.00958357, 0.00954623, 0.00950904, 0.00947199,\n",
              "       0.00943508, 0.00939832, 0.0093617 , 0.00932523, 0.00928889,\n",
              "       0.0092527 , 0.00921665, 0.00918074, 0.00914497, 0.00910934,\n",
              "       0.00907384, 0.00903849, 0.00900327, 0.00896819, 0.00893325,\n",
              "       0.00889844, 0.00886377, 0.00882924, 0.00879484, 0.00876057,\n",
              "       0.00872644, 0.00869243, 0.00865857, 0.00862483, 0.00859122,\n",
              "       0.00855775, 0.00852441, 0.00849119, 0.00845811, 0.00842515,\n",
              "       0.00839233, 0.00835963, 0.00832706, 0.00829461, 0.00826229,\n",
              "       0.0082301 , 0.00819803, 0.00816609, 0.00813428, 0.00810258,\n",
              "       0.00807101, 0.00803956, 0.00800824, 0.00797704, 0.00794596,\n",
              "       0.007915  , 0.00788416, 0.00785344, 0.00782284, 0.00779236,\n",
              "       0.007762  , 0.00773176, 0.00770163, 0.00767162, 0.00764173,\n",
              "       0.00761196, 0.0075823 , 0.00755276, 0.00752333, 0.00749401,\n",
              "       0.00746482, 0.00743573, 0.00740676, 0.0073779 , 0.00734915,\n",
              "       0.00732052, 0.007292  , 0.00726358, 0.00723528, 0.00720709,\n",
              "       0.00717901, 0.00715104, 0.00712318, 0.00709542, 0.00706778,\n",
              "       0.00704024, 0.00701281, 0.00698548, 0.00695827, 0.00693116,\n",
              "       0.00690415, 0.00687725, 0.00685045, 0.00682376, 0.00679717,\n",
              "       0.00677069, 0.00674431, 0.00671803, 0.00669186, 0.00666578,\n",
              "       0.00663981, 0.00661394, 0.00658817, 0.0065625 , 0.00653693,\n",
              "       0.00651146, 0.00648609, 0.00646082, 0.00643565, 0.00641057,\n",
              "       0.00638559, 0.00636071, 0.00633593, 0.00631124, 0.00628665,\n",
              "       0.00626216, 0.00623776, 0.00621346, 0.00618925, 0.00616513,\n",
              "       0.00614111, 0.00611718, 0.00609335, 0.00606961, 0.00604596,\n",
              "       0.0060224 , 0.00599894, 0.00597556, 0.00595228, 0.00592909,\n",
              "       0.00590599, 0.00588298, 0.00586005, 0.00583722, 0.00581448,\n",
              "       0.00579182, 0.00576926, 0.00574678, 0.00572439, 0.00570208,\n",
              "       0.00567987, 0.00565773, 0.00563569, 0.00561373, 0.00559186,\n",
              "       0.00557007, 0.00554837, 0.00552675, 0.00550522, 0.00548377,\n",
              "       0.0054624 , 0.00544112, 0.00541992, 0.0053988 , 0.00537776,\n",
              "       0.00535681, 0.00533594, 0.00531515, 0.00529444, 0.00527381,\n",
              "       0.00525326, 0.00523279, 0.00521241, 0.0051921 , 0.00517187,\n",
              "       0.00515172, 0.00513164, 0.00511165, 0.00509173, 0.00507189,\n",
              "       0.00505213, 0.00503245, 0.00501284, 0.00499331, 0.00497385,\n",
              "       0.00495447, 0.00493517, 0.00491594, 0.00489679, 0.00487771,\n",
              "       0.0048587 , 0.00483977, 0.00482091, 0.00480213, 0.00478342,\n",
              "       0.00476478, 0.00474622, 0.00472772, 0.0047093 , 0.00469096,\n",
              "       0.00467268, 0.00465447, 0.00463634, 0.00461827, 0.00460028,\n",
              "       0.00458235, 0.0045645 , 0.00454671, 0.004529  , 0.00451135,\n",
              "       0.00449378, 0.00447627, 0.00445883, 0.00444145, 0.00442415,\n",
              "       0.00440691, 0.00438974, 0.00437264, 0.0043556 , 0.00433863,\n",
              "       0.00432172, 0.00430488, 0.00428811, 0.0042714 , 0.00425476,\n",
              "       0.00423818, 0.00422167, 0.00420522, 0.00418884, 0.00417252,\n",
              "       0.00415626, 0.00414006, 0.00412393, 0.00410787, 0.00409186,\n",
              "       0.00407592, 0.00406004, 0.00404422, 0.00402846, 0.00401276,\n",
              "       0.00399713, 0.00398155, 0.00396604, 0.00395059, 0.0039352 ,\n",
              "       0.00391986, 0.00390459, 0.00388938, 0.00387422, 0.00385913,\n",
              "       0.00384409, 0.00382911, 0.00381419, 0.00379933, 0.00378453,\n",
              "       0.00376978, 0.0037551 , 0.00374046, 0.00372589, 0.00371137,\n",
              "       0.00369691, 0.00368251, 0.00366816, 0.00365387, 0.00363963,\n",
              "       0.00362545, 0.00361132, 0.00359725, 0.00358324, 0.00356928,\n",
              "       0.00355537, 0.00354152, 0.00352772, 0.00351397, 0.00350028,\n",
              "       0.00348664, 0.00347306, 0.00345953, 0.00344605, 0.00343262,\n",
              "       0.00341925, 0.00340592, 0.00339265, 0.00337943, 0.00336627,\n",
              "       0.00335315, 0.00334009, 0.00332707, 0.00331411, 0.0033012 ,\n",
              "       0.00328833, 0.00327552, 0.00326276, 0.00325005, 0.00323738,\n",
              "       0.00322477, 0.0032122 , 0.00319969, 0.00318722, 0.0031748 ,\n",
              "       0.00316243, 0.00315011, 0.00313784, 0.00312561, 0.00311343,\n",
              "       0.0031013 , 0.00308922, 0.00307718, 0.00306519, 0.00305325,\n",
              "       0.00304135, 0.0030295 , 0.0030177 , 0.00300594, 0.00299423,\n",
              "       0.00298256, 0.00297094, 0.00295937, 0.00294784, 0.00293635,\n",
              "       0.00292491, 0.00291351, 0.00290216, 0.00289085, 0.00287959,\n",
              "       0.00286837, 0.0028572 , 0.00284606, 0.00283497, 0.00282393,\n",
              "       0.00281292, 0.00280196, 0.00279105, 0.00278017, 0.00276934,\n",
              "       0.00275855, 0.0027478 , 0.0027371 , 0.00272643, 0.00271581,\n",
              "       0.00270523, 0.00269469, 0.00268419, 0.00267373, 0.00266331,\n",
              "       0.00265293, 0.0026426 , 0.0026323 , 0.00262204, 0.00261183,\n",
              "       0.00260165, 0.00259152, 0.00258142, 0.00257136, 0.00256134,\n",
              "       0.00255136, 0.00254142, 0.00253152, 0.00252166, 0.00251183,\n",
              "       0.00250204, 0.00249229, 0.00248258, 0.00247291, 0.00246328,\n",
              "       0.00245368, 0.00244412, 0.00243459, 0.00242511, 0.00241566,\n",
              "       0.00240625, 0.00239687, 0.00238753, 0.00237823, 0.00236896,\n",
              "       0.00235973, 0.00235054, 0.00234138, 0.00233226, 0.00232317,\n",
              "       0.00231412, 0.0023051 , 0.00229612, 0.00228718, 0.00227826,\n",
              "       0.00226939, 0.00226055, 0.00225174, 0.00224296, 0.00223423,\n",
              "       0.00222552, 0.00221685, 0.00220821, 0.00219961, 0.00219104,\n",
              "       0.0021825 , 0.002174  , 0.00216553, 0.00215709, 0.00214868,\n",
              "       0.00214031, 0.00213197, 0.00212367, 0.00211539, 0.00210715,\n",
              "       0.00209894, 0.00209076, 0.00208261, 0.0020745 , 0.00206642,\n",
              "       0.00205837, 0.00205035, 0.00204236, 0.0020344 , 0.00202647,\n",
              "       0.00201858, 0.00201071, 0.00200288, 0.00199507, 0.0019873 ,\n",
              "       0.00197956, 0.00197184, 0.00196416, 0.00195651, 0.00194889,\n",
              "       0.00194129, 0.00193373, 0.00192619, 0.00191869, 0.00191121,\n",
              "       0.00190377, 0.00189635, 0.00188896, 0.0018816 , 0.00187427,\n",
              "       0.00186697, 0.00185969, 0.00185245, 0.00184523, 0.00183804,\n",
              "       0.00183088, 0.00182374, 0.00181664, 0.00180956, 0.00180251,\n",
              "       0.00179549, 0.00178849, 0.00178152, 0.00177458, 0.00176767,\n",
              "       0.00176078, 0.00175392, 0.00174708, 0.00174028, 0.0017335 ,\n",
              "       0.00172674, 0.00172001, 0.00171331, 0.00170664, 0.00169999,\n",
              "       0.00169336, 0.00168677, 0.00168019, 0.00167365, 0.00166713,\n",
              "       0.00166063, 0.00165416, 0.00164772, 0.0016413 , 0.0016349 ,\n",
              "       0.00162853, 0.00162219, 0.00161587, 0.00160957, 0.0016033 ,\n",
              "       0.00159705, 0.00159083, 0.00158463, 0.00157846, 0.00157231,\n",
              "       0.00156618, 0.00156008, 0.001554  , 0.00154794, 0.00154191,\n",
              "       0.0015359 , 0.00152992, 0.00152396, 0.00151802, 0.00151211,\n",
              "       0.00150622, 0.00150035, 0.0014945 , 0.00148868, 0.00148288,\n",
              "       0.0014771 , 0.00147134, 0.00146561, 0.0014599 , 0.00145421,\n",
              "       0.00144855, 0.0014429 , 0.00143728, 0.00143168, 0.0014261 ,\n",
              "       0.00142055, 0.00141501, 0.0014095 , 0.00140401, 0.00139854,\n",
              "       0.00139309, 0.00138766, 0.00138225, 0.00137687, 0.0013715 ,\n",
              "       0.00136616, 0.00136084, 0.00135553, 0.00135025, 0.00134499,\n",
              "       0.00133975, 0.00133453, 0.00132933, 0.00132415, 0.00131899,\n",
              "       0.00131385, 0.00130873, 0.00130363, 0.00129855, 0.0012935 ,\n",
              "       0.00128846, 0.00128344, 0.00127843, 0.00127345, 0.00126849,\n",
              "       0.00126355, 0.00125863, 0.00125372, 0.00124884, 0.00124397,\n",
              "       0.00123912, 0.0012343 , 0.00122949, 0.0012247 , 0.00121992,\n",
              "       0.00121517, 0.00121044, 0.00120572, 0.00120102, 0.00119634,\n",
              "       0.00119168, 0.00118704, 0.00118241, 0.00117781, 0.00117322,\n",
              "       0.00116865, 0.00116409, 0.00115956, 0.00115504, 0.00115054,\n",
              "       0.00114606, 0.00114159, 0.00113714, 0.00113271, 0.0011283 ,\n",
              "       0.0011239 , 0.00111952, 0.00111516, 0.00111082, 0.00110649,\n",
              "       0.00110218, 0.00109788, 0.00109361, 0.00108934, 0.0010851 ,\n",
              "       0.00108087, 0.00107666, 0.00107247, 0.00106829, 0.00106412,\n",
              "       0.00105998, 0.00105585, 0.00105173, 0.00104764, 0.00104356,\n",
              "       0.00103949, 0.00103544, 0.0010314 , 0.00102739, 0.00102338,\n",
              "       0.0010194 , 0.00101542, 0.00101147, 0.00100753, 0.0010036 ,\n",
              "       0.00099969, 0.0009958 , 0.00099192, 0.00098805, 0.0009842 ,\n",
              "       0.00098037, 0.00097655, 0.00097274, 0.00096895, 0.00096518,\n",
              "       0.00096142, 0.00095767, 0.00095394, 0.00095022, 0.00094652,\n",
              "       0.00094283, 0.00093916, 0.0009355 , 0.00093185, 0.00092822,\n",
              "       0.00092461, 0.000921  , 0.00091741, 0.00091384, 0.00091028,\n",
              "       0.00090673, 0.0009032 , 0.00089968, 0.00089618, 0.00089268,\n",
              "       0.00088921, 0.00088574, 0.00088229, 0.00087885, 0.00087543,\n",
              "       0.00087202, 0.00086862, 0.00086523, 0.00086186, 0.00085851,\n",
              "       0.00085516, 0.00085183, 0.00084851, 0.0008452 , 0.00084191,\n",
              "       0.00083863, 0.00083536, 0.00083211, 0.00082887, 0.00082564,\n",
              "       0.00082242, 0.00081921, 0.00081602, 0.00081284, 0.00080968])"
            ]
          },
          "metadata": {},
          "execution_count": 28
        }
      ],
      "source": [
        "# Equation 7 describes the probability density function of an exponential distribution\n",
        "# conditioned on a threshold t.\n",
        "\n",
        "# Range of segment lengths from t to 100 cM\n",
        "# Containing 1000 evenly spaced points between these two limits\n",
        "length_range = np.linspace(min_seg_len, 100, 1000)\n",
        "\n",
        "# Calculate the probability density function values for the range of segment lengths i\n",
        "# conditioned on the threshold t\n",
        "length_size_distribution = np.exp(-d * (length_range - min_seg_len) / 100) / (100 / d)\n",
        "\n",
        "length_size_distribution"
      ]
    },
    {
      "cell_type": "code",
      "execution_count": 29,
      "metadata": {
        "colab": {
          "base_uri": "https://localhost:8080/",
          "height": 564
        },
        "id": "-APRWcEUBi5w",
        "outputId": "03a8d062-3a8d-4da2-b7da-11be9a37bdbd"
      },
      "outputs": [
        {
          "output_type": "display_data",
          "data": {
            "text/plain": [
              "<Figure size 1000x600 with 1 Axes>"
            ],
            "image/png": "[encoded data removed]"
          },
          "metadata": {}
        }
      ],
      "source": [
        "# Now let's plot the distribution\n",
        "plt.figure(figsize=(10, 6))\n",
        "plt.plot(length_range, length_size_distribution, label=f'length distribution, given meiotic distance = {d}, minimum threshold = {min_seg_len} cM)')\n",
        "plt.xlabel('Segment Length (cM)')\n",
        "plt.ylabel('Probability Density')\n",
        "plt.title('Conditioned Exponential Distribution of Segment Lengths')\n",
        "plt.legend()\n",
        "plt.grid(True)\n",
        "plt.show()\n"
      ]
    },
    {
      "cell_type": "markdown",
      "metadata": {
        "id": "kqB8_oaJBi5w"
      },
      "source": [
        "### Bonsai snippet\n",
        "\n",
        "This is a code snippet from the Bonsai algorithm that we will use to infer genetic pedigrees. Can you match the code lines with the ERSA paper?\n",
        "\n",
        "k_mean_1, the number of segments, is designed to reflect equation 8. What's the same? What's different?\n",
        "\n",
        "T_mean_1, the average length, doesn't quite look like equation 7. What is it doing?  "
      ]
    },
    {
      "cell_type": "code",
      "execution_count": null,
      "metadata": {
        "id": "7sNrLeTNBi5w"
      },
      "outputs": [],
      "source": [
        "    def get_analytical_distant_relative_distribution(\n",
        "        self, relation_tuple: Tuple[int, int, int]\n",
        "    ):\n",
        "        \"\"\"\n",
        "        Get the paramters for the log likelihood using the Huff et al (2011) formula.\n",
        "        (Equations 7, 8, and the paragraph before Eqn 7). This is for the case when\n",
        "        two people are related by more than 14 meioses. We do not simulate IBD\n",
        "        distributions for relationships this distant so we need to use the analytical\n",
        "        distribution.\n",
        "        \"\"\"\n",
        "        up_meioses = relation_tuple[0]\n",
        "        down_meioses = relation_tuple[1]\n",
        "        num_ancestors = relation_tuple[2]\n",
        "\n",
        "        num_recs_per_gen = genome_length / 100\n",
        "\n",
        "        g = up_meioses + down_meioses\n",
        "\n",
        "        expected_mean_k = (\n",
        "            num_ancestors * (num_recs_per_gen * g + 22) * (1 / (2 ** (g - 1)))\n",
        "        )\n",
        "\n",
        "\n",
        "        p_obs = np.exp(\n",
        "            -g * self.min_seg_len / 100\n",
        "        )  # Probability that a segment is observed, given that the minimum IBD length is min_seg_len\n",
        "\n",
        "        # The number of shared segments is reduced by the probability that a segment is observed\n",
        "        k_mean_1 = expected_mean_k * p_obs\n",
        "\n",
        "        k_std_1 = np.sqrt(k_mean_1)\n",
        "\n",
        "        threshold = self.min_seg_len\n",
        "\n",
        "        \"\"\"\n",
        "\n",
        "        # FIX FIX: order of operations.\n",
        "        # FIX FIX: use equation 7 instead of this\n",
        "\n",
        "        \"\"\"\n",
        "        T_mean_1 = (100 / g - threshold) * k_mean_1\n",
        "\n",
        "        \"\"\"\n",
        "        The standard deviation of the total length (T_std_1) is computed using the square root of\n",
        "        twice the mean number of shared segments, multiplied by 100/g, based on the law of total variance.\n",
        "        \"\"\"\n",
        "        T_std_1 = (100 / g) * np.sqrt(2 * k_mean_1)  # From the law of total variance\n",
        "\n",
        "        T_mean_2, T_std_2 = (0, 5)  # Parameters for background IBD2\n",
        "\n",
        "        return (k_mean_1, k_std_1, T_mean_1, T_std_1, T_mean_2, T_std_2)"
      ]
    }
  ],
  "metadata": {
    "kernelspec": {
      "display_name": "Python 3",
      "language": "python",
      "name": "python3"
    },
    "language_info": {
      "codemirror_mode": {
        "name": "ipython",
        "version": 3
      },
      "file_extension": ".py",
      "mimetype": "text/x-python",
      "name": "python",
      "nbconvert_exporter": "python",
      "pygments_lexer": "ipython3",
      "version": "3.12.1"
    },
    "colab": {
      "provenance": []
    }
  },
  "nbformat": 4,
  "nbformat_minor": 0
}