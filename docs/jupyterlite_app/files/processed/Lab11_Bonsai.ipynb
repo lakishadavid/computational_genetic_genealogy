{
 "cells": [
  {
   "cell_type": "markdown",
   "metadata": {
    "id": "tyrnlNJ2hiso"
   },
   "source": [
    "# Environment Setup"
   ]
  },
  {
   "cell_type": "code",
   "execution_count": 47,
   "metadata": {
    "id": "YZmLfSJqg2uR"
   },
   "outputs": [],
   "source": [
    "import os\n",
    "from collections import Counter\n",
    "import logging\n",
    "import sys\n",
    "from pathlib import Path\n",
    "import subprocess\n",
    "import os\n",
    "import matplotlib.pyplot as plt\n",
    "import seaborn as sns\n",
    "from IPython.display import display, HTML\n",
    "import IPython\n",
    "import pandas as pd\n",
    "import boto3\n",
    "import importlib.util\n",
    "import ast\n",
    "import numpy as np\n",
    "import networkx as nx\n",
    "from scipy.stats import poisson\n",
    "import json\n",
    "import pygraphviz as pgv\n",
    "import matplotlib.pyplot as plt\n",
    "import matplotlib.image as mpimg\n",
    "\n",
    "from dotenv import load_dotenv"
   ]
  },
  {
   "cell_type": "markdown",
   "metadata": {
    "id": "r7GlSu-GWsDS"
   },
   "source": [
    "## Prepare Data"
   ]
  },
  {
   "cell_type": "markdown",
   "metadata": {
    "id": "onCavOg0NoQt"
   },
   "source": [
    "Bonsai requires data on the age and sex of each individual. However, when we simulated data, we did not get an age. Bonsai also requires the the individual name to be an integer, which is not how our simulated data outputs names. This section of code will assign a random integer ID and age based on certain parameters and output this bioinfo variable as needed for Bonsai."
   ]
  },
  {
   "cell_type": "code",
   "execution_count": 49,
   "metadata": {
    "id": "IYJRzLyBXzmh"
   },
   "outputs": [
    {
     "name": "stdout",
     "output_type": "stream",
     "text": [
      "Number of individuals: 520\n"
     ]
    }
   ],
   "source": [
    "import random\n",
    "import os\n",
    "import pandas as pd\n",
    "\n",
    "# Read the seg file and extract unique individual IDs\n",
    "seg_file = os.path.join(data_directory, \"class_data/ped_sim_run2.seg\")\n",
    "seg_df = pd.read_csv(seg_file, sep=\"\\t\", header=None)\n",
    "seg_df.columns = [\"sample1\", \"sample2\", \"chrom\", \"phys_start\", \"phys_end\", \"ibd_type\", \"gen_start\", \"gen_end\", \"gen_seg_len\"]\n",
    "unique_individuals = set(seg_df[\"sample1\"]).union(set(seg_df[\"sample2\"]))\n",
    "unique_individuals = sorted(list(unique_individuals))\n",
    "print(\"Number of individuals:\", len(unique_individuals))"
   ]
  },
  {
   "cell_type": "code",
   "execution_count": 50,
   "metadata": {
    "id": "TOdu2C-WYLpJ"
   },
   "outputs": [
    {
     "name": "stdout",
     "output_type": "stream",
     "text": [
      "First 10 individuals:\n",
      "{'FAM1_g1-b1-s1': {'father_id': '0', 'mother_id': '0', 'sex': 'F', 'generation': 1}, 'FAM1_g1-b1-i1': {'father_id': '0', 'mother_id': '0', 'sex': 'M', 'generation': 1}, 'FAM1_g2-b1-s1': {'father_id': '0', 'mother_id': '0', 'sex': 'F', 'generation': 2}, 'FAM1_g2-b1-i1': {'father_id': 'FAM1_g1-b1-i1', 'mother_id': 'FAM1_g1-b1-s1', 'sex': 'M', 'generation': 2}, 'FAM1_g2-b2-s1': {'father_id': '0', 'mother_id': '0', 'sex': 'M', 'generation': 2}, 'FAM1_g2-b2-i1': {'father_id': 'FAM1_g1-b1-i1', 'mother_id': 'FAM1_g1-b1-s1', 'sex': 'F', 'generation': 2}, 'FAM1_g3-b1-s1': {'father_id': '0', 'mother_id': '0', 'sex': 'M', 'generation': 3}, 'FAM1_g3-b1-i1': {'father_id': 'FAM1_g2-b1-i1', 'mother_id': 'FAM1_g2-b1-s1', 'sex': 'F', 'generation': 3}, 'FAM1_g3-b2-s1': {'father_id': '0', 'mother_id': '0', 'sex': 'F', 'generation': 3}, 'FAM1_g3-b2-i1': {'father_id': 'FAM1_g2-b1-i1', 'mother_id': 'FAM1_g2-b1-s1', 'sex': 'M', 'generation': 3}}\n"
     ]
    }
   ],
   "source": [
    "# Read the fam file\n",
    "with open(os.path.join(data_directory, \"class_data/ped_sim_run2-everyone.fam\"), 'r') as file:\n",
    "    fam_lines = file.readlines()\n",
    "\n",
    "# Create a dictionary to store individual information and Bonsai IDs\n",
    "individuals = {}\n",
    "bonsai_ids = {}\n",
    "\n",
    "# Process each line in the fam file\n",
    "for line in fam_lines:\n",
    "    fields = line.strip().split()\n",
    "    individual_id = fields[1]\n",
    "\n",
    "    # Skip individuals not present in the seg file\n",
    "    if individual_id not in unique_individuals:\n",
    "        continue\n",
    "\n",
    "    father_id = fields[2]\n",
    "    mother_id = fields[3]\n",
    "    sex = 'M' if fields[4] == '1' else 'F'\n",
    "\n",
    "    # Extract the generation number from the individual ID\n",
    "    generation = int(individual_id.split('-')[0].split('_')[-1][1:])\n",
    "\n",
    "    # Store the individual information in the dictionary\n",
    "    individuals[individual_id] = {\n",
    "        'father_id': father_id,\n",
    "        'mother_id': mother_id,\n",
    "        'sex': sex,\n",
    "        'generation': generation\n",
    "    }\n",
    "    \n",
    "print(\"First 10 individuals:\")\n",
    "print({k: v for k, v in list(individuals.items())[:10]})"
   ]
  },
  {
   "cell_type": "code",
   "execution_count": 51,
   "metadata": {
    "id": "8M707kiIZLxg"
   },
   "outputs": [
    {
     "name": "stdout",
     "output_type": "stream",
     "text": [
      "Earliest generation: 1, Latest generation: 6\n"
     ]
    }
   ],
   "source": [
    "# Get the earliest and latest generation numbers\n",
    "generation_numbers = [info['generation'] for info in individuals.values()]\n",
    "earliest_generation = min(generation_numbers)\n",
    "latest_generation = max(generation_numbers)\n",
    "print(f\"Earliest generation: {earliest_generation}, Latest generation: {latest_generation}\")"
   ]
  },
  {
   "cell_type": "markdown",
   "metadata": {
    "id": "KlTPOT_wZQKO"
   },
   "source": [
    "This code block retrieves the earliest and latest generation numbers from the `individuals` dictionary. It creates a list comprehension to extract the 'generation' values from the dictionary values. The `min` and `max` functions are used to find the earliest and latest generation numbers, respectively."
   ]
  },
  {
   "cell_type": "code",
   "execution_count": 52,
   "metadata": {
    "id": "7Ff8O_32Zike"
   },
   "outputs": [
    {
     "name": "stdout",
     "output_type": "stream",
     "text": [
      "First 10 individuals with ages:\n",
      "{'FAM1_g1-b1-s1': {'father_id': '0', 'mother_id': '0', 'sex': 'F', 'generation': 1, 'age': 131}, 'FAM1_g1-b1-i1': {'father_id': '0', 'mother_id': '0', 'sex': 'M', 'generation': 1, 'age': 139}, 'FAM1_g2-b1-s1': {'father_id': '0', 'mother_id': '0', 'sex': 'F', 'generation': 2, 'age': 99}, 'FAM1_g2-b1-i1': {'father_id': 'FAM1_g1-b1-i1', 'mother_id': 'FAM1_g1-b1-s1', 'sex': 'M', 'generation': 2, 'age': 101}, 'FAM1_g2-b2-s1': {'father_id': '0', 'mother_id': '0', 'sex': 'M', 'generation': 2, 'age': 110}, 'FAM1_g2-b2-i1': {'father_id': 'FAM1_g1-b1-i1', 'mother_id': 'FAM1_g1-b1-s1', 'sex': 'F', 'generation': 2, 'age': 107}, 'FAM1_g3-b1-s1': {'father_id': '0', 'mother_id': '0', 'sex': 'M', 'generation': 3, 'age': 72}, 'FAM1_g3-b1-i1': {'father_id': 'FAM1_g2-b1-i1', 'mother_id': 'FAM1_g2-b1-s1', 'sex': 'F', 'generation': 3, 'age': 72}, 'FAM1_g3-b2-s1': {'father_id': '0', 'mother_id': '0', 'sex': 'F', 'generation': 3, 'age': 120}, 'FAM1_g3-b2-i1': {'father_id': 'FAM1_g2-b1-i1', 'mother_id': 'FAM1_g2-b1-s1', 'sex': 'M', 'generation': 3, 'age': 101}}\n",
      "\n",
      "\n",
      "The age range is: 18 - 162\n"
     ]
    }
   ],
   "source": [
    "# Assign ages to individuals based on their generation\n",
    "for generation in range(latest_generation, earliest_generation - 1, -1):\n",
    "    for individual_id, info in individuals.items():\n",
    "        if info['generation'] == generation:\n",
    "            if generation == latest_generation:\n",
    "                # Assign ages between 18 and 40 for the latest generation\n",
    "                age = random.randint(18, 40)\n",
    "            else:\n",
    "                # Assign ages based on the descendants' ages\n",
    "                child_ages = []\n",
    "                for child_id, child_info in individuals.items():\n",
    "                    if child_info['father_id'] == individual_id or child_info['mother_id'] == individual_id:\n",
    "                        child_ages.append(child_info['age'])\n",
    "\n",
    "                if child_ages:\n",
    "                    min_child_age = min(child_ages)\n",
    "                    age = min_child_age + random.randint(12, 40)\n",
    "                else:\n",
    "                    # If no child information is available, assign a random age based on the generation gap\n",
    "                    age_gap = (latest_generation - generation) * random.randint(12, 40)\n",
    "                    age = random.randint(18, 40) + age_gap\n",
    "\n",
    "            individuals[individual_id]['age'] = age\n",
    "            \n",
    "\n",
    "print(\"First 10 individuals with ages:\")\n",
    "print({k: v for k, v in list(individuals.items())[:10]})\n",
    "print(\"\\n\")\n",
    "print(\"The age range is:\", min([info['age'] for info in individuals.values()]), \"-\", max([info['age'] for info in individuals.values()]))"
   ]
  },
  {
   "cell_type": "markdown",
   "metadata": {
    "id": "D9-RXmLYZjk-"
   },
   "source": [
    "This code block assigns ages to individuals based on their generation. It iterates over the generations in reverse order, starting from the latest generation and going backward to the earliest generation.\n",
    "\n",
    "For each generation:\n",
    "\n",
    "* If it's the latest generation, ages between 18 and 40 are randomly assigned using random.randint(18, 40).\n",
    "* For earlier generations, ages are assigned based on the descendants' ages. It iterates over the individuals and checks if the current individual is the father or mother of any other individual. If so, the age of the child is appended to the child_ages list.\n",
    "  * If the child_ages list is not empty, the minimum age among the children is found using min(child_ages), and the individual's age is assigned by adding a random value between 12 and 40 to the minimum child age.\n",
    "  * If the child_ages list is empty (i.e., the individual has no children), a random age is assigned based on the generation gap. The generation gap is calculated by subtracting the current generation from the latest generation, and then multiplying it by a random value between 12 and 40. The individual's age is then assigned by adding this age gap to a base age range of 18 to 40.\n",
    "* The assigned age is stored in the individuals dictionary under the 'age' key for each individual."
   ]
  },
  {
   "cell_type": "code",
   "execution_count": 53,
   "metadata": {
    "id": "Nut1Oy6naLFJ"
   },
   "outputs": [
    {
     "name": "stdout",
     "output_type": "stream",
     "text": [
      "First 10 individuals with Genotype IDs:\n",
      "{'FAM1_g1-b1-s1': {'father_id': '0', 'mother_id': '0', 'sex': 'F', 'generation': 1, 'age': 131, 'genotype_id': '1000'}, 'FAM1_g1-b1-i1': {'father_id': '0', 'mother_id': '0', 'sex': 'M', 'generation': 1, 'age': 139, 'genotype_id': '1001'}, 'FAM1_g2-b1-s1': {'father_id': '0', 'mother_id': '0', 'sex': 'F', 'generation': 2, 'age': 99, 'genotype_id': '1002'}, 'FAM1_g2-b1-i1': {'father_id': 'FAM1_g1-b1-i1', 'mother_id': 'FAM1_g1-b1-s1', 'sex': 'M', 'generation': 2, 'age': 101, 'genotype_id': '1003'}, 'FAM1_g2-b2-s1': {'father_id': '0', 'mother_id': '0', 'sex': 'M', 'generation': 2, 'age': 110, 'genotype_id': '1004'}, 'FAM1_g2-b2-i1': {'father_id': 'FAM1_g1-b1-i1', 'mother_id': 'FAM1_g1-b1-s1', 'sex': 'F', 'generation': 2, 'age': 107, 'genotype_id': '1005'}, 'FAM1_g3-b1-s1': {'father_id': '0', 'mother_id': '0', 'sex': 'M', 'generation': 3, 'age': 72, 'genotype_id': '1006'}, 'FAM1_g3-b1-i1': {'father_id': 'FAM1_g2-b1-i1', 'mother_id': 'FAM1_g2-b1-s1', 'sex': 'F', 'generation': 3, 'age': 72, 'genotype_id': '1007'}, 'FAM1_g3-b2-s1': {'father_id': '0', 'mother_id': '0', 'sex': 'F', 'generation': 3, 'age': 120, 'genotype_id': '1008'}, 'FAM1_g3-b2-i1': {'father_id': 'FAM1_g2-b1-i1', 'mother_id': 'FAM1_g2-b1-s1', 'sex': 'M', 'generation': 3, 'age': 101, 'genotype_id': '1009'}}\n"
     ]
    }
   ],
   "source": [
    "# Create Genotype IDs for individuals\n",
    "for index, individual_id in enumerate(individuals.keys(), start=1000):\n",
    "    bonsai_id = str(index)\n",
    "    individuals[individual_id]['genotype_id'] = bonsai_id\n",
    "    \n",
    "print(\"First 10 individuals with Genotype IDs:\")\n",
    "print({k: v for k, v in list(individuals.items())[:10]})"
   ]
  },
  {
   "cell_type": "markdown",
   "metadata": {
    "id": "sgzd1POsaI_U"
   },
   "source": [
    "This code block creates Bonsai IDs for each individual. It uses the enumerate function to iterate over the keys of the individuals dictionary, starting the index from 1000. For each individual ID, a corresponding Bonsai ID is created by converting the index to a string. The Bonsai ID is then stored in the bonsai_ids dictionary using the individual ID as the key."
   ]
  },
  {
   "cell_type": "code",
   "execution_count": 54,
   "metadata": {
    "id": "UHywg178aRDh"
   },
   "outputs": [],
   "source": [
    "# Write the individual information to a new file\n",
    "with open(os.path.join(results_directory, 'individual_info.txt'), 'w') as file:\n",
    "    file.write(\"Individual ID\\tBonsai ID\\tAge\\tSex\\n\")\n",
    "    for individual_id, info in individuals.items():\n",
    "        genotype_id = info['genotype_id']\n",
    "        age = info['age']\n",
    "        sex = info['sex']\n",
    "        file.write(f\"{individual_id}\\t{genotype_id}\\t{age}\\t{sex}\\n\")"
   ]
  },
  {
   "cell_type": "markdown",
   "metadata": {
    "id": "rTvuQ78eaR2w"
   },
   "source": [
    "This code block writes the individual information to a new file named \"individual_info.txt\" in the results_directory. It opens the file in write mode ('w').\n",
    "\n",
    "The header line `\"Individual ID\\tBonsai ID\\tAge\\tSex\\n\"` is written to the file first.\n",
    "\n",
    "Then, it iterates over the `individuals` dictionary items. For each individual:\n",
    "\n",
    "* The corresponding Bonsai ID is retrieved from the `bonsai_ids` dictionary using the individual ID as the key.\n",
    "* The age and sex information is retrieved from the `individuals` dictionary.\n",
    "* The individual information is written to the file in the format `\"Individual ID\\tBonsai ID\\tAge\\tSex\\n\"` using an f-string.\n",
    "\n",
    "Take a look at the `individual_info.txt` file in your results directory."
   ]
  },
  {
   "cell_type": "code",
   "execution_count": 55,
   "metadata": {
    "id": "ESFCtYDGaq9o"
   },
   "outputs": [
    {
     "name": "stdout",
     "output_type": "stream",
     "text": [
      "The first 10 bioinfo values:\n",
      "{'genotype_id': 1000, 'age': 131, 'sex': 'F'}\n",
      "{'genotype_id': 1001, 'age': 139, 'sex': 'M'}\n",
      "{'genotype_id': 1002, 'age': 99, 'sex': 'F'}\n",
      "{'genotype_id': 1003, 'age': 101, 'sex': 'M'}\n",
      "{'genotype_id': 1004, 'age': 110, 'sex': 'M'}\n",
      "{'genotype_id': 1005, 'age': 107, 'sex': 'F'}\n",
      "{'genotype_id': 1006, 'age': 72, 'sex': 'M'}\n",
      "{'genotype_id': 1007, 'age': 72, 'sex': 'F'}\n",
      "{'genotype_id': 1008, 'age': 120, 'sex': 'F'}\n",
      "{'genotype_id': 1009, 'age': 101, 'sex': 'M'}\n"
     ]
    }
   ],
   "source": [
    "# Create the bioinfo value in the desired format\n",
    "bioinfo = []\n",
    "for individual_id, info in individuals.items():\n",
    "    genotype_id = int(info['genotype_id'])\n",
    "    age = info['age']\n",
    "    sex = info['sex']\n",
    "    bioinfo.append({'genotype_id': genotype_id, 'age': age, 'sex': sex})\n",
    "    \n",
    "print(\"The first 10 bioinfo values:\")\n",
    "for i in range(10):\n",
    "    print(bioinfo[i])"
   ]
  },
  {
   "cell_type": "markdown",
   "metadata": {
    "id": "xzvNI8WAaubK"
   },
   "source": [
    "This code block creates the bioinfo value in the desired format. It initializes an empty list called `bioinfo`.\n",
    "\n",
    "It iterates over the `individuals` dictionary items. For each individual:\n",
    "\n",
    "* The corresponding Bonsai ID is retrieved from the `bonsai_ids` dictionary using the individual ID as the key.\n",
    "* The Bonsai ID is converted to an integer and assigned to the `genotype_id` variable.\n",
    "* The age and sex information is retrieved from the `individuals` dictionary.\n",
    "* A dictionary containing the `genotype_id`, `age`, and `sex` is appended to the `bioinfo` list."
   ]
  },
  {
   "cell_type": "markdown",
   "metadata": {
    "id": "OzxQ_H0UXDvr"
   },
   "source": [
    "Remember that Bonsai is designed to read the individal names as integers. We already assigned integer IDs for each individual in our segments file in the earlier code. Let's use those assignments to update our segments file by replacing the individual names with their integer IDs.\n",
    "\n",
    "**NOTE: The following code block can't run more than once unless you change the existing .seg_orig to .seg**"
   ]
  },
  {
   "cell_type": "code",
   "execution_count": 56,
   "metadata": {
    "id": "ApvfuVGgddXY"
   },
   "outputs": [
    {
     "name": "stdout",
     "output_type": "stream",
     "text": [
      "Segments and dictionary saved successfully.\n"
     ]
    },
    {
     "data": {
      "text/html": [
       "<div>\n",
       "<style scoped>\n",
       "    .dataframe tbody tr th:only-of-type {\n",
       "        vertical-align: middle;\n",
       "    }\n",
       "\n",
       "    .dataframe tbody tr th {\n",
       "        vertical-align: top;\n",
       "    }\n",
       "\n",
       "    .dataframe thead th {\n",
       "        text-align: right;\n",
       "    }\n",
       "</style>\n",
       "<table border=\"1\" class=\"dataframe\">\n",
       "  <thead>\n",
       "    <tr style=\"text-align: right;\">\n",
       "      <th></th>\n",
       "      <th>sample1</th>\n",
       "      <th>sample2</th>\n",
       "      <th>chrom</th>\n",
       "      <th>phys_start</th>\n",
       "      <th>phys_end</th>\n",
       "      <th>ibd_type</th>\n",
       "      <th>gen_start</th>\n",
       "      <th>gen_end</th>\n",
       "      <th>gen_seg_len</th>\n",
       "    </tr>\n",
       "  </thead>\n",
       "  <tbody>\n",
       "    <tr>\n",
       "      <th>0</th>\n",
       "      <td>1000</td>\n",
       "      <td>1003</td>\n",
       "      <td>1</td>\n",
       "      <td>817341</td>\n",
       "      <td>44617788</td>\n",
       "      <td>IBD1</td>\n",
       "      <td>0.000000</td>\n",
       "      <td>68.343071</td>\n",
       "      <td>68.343071</td>\n",
       "    </tr>\n",
       "    <tr>\n",
       "      <th>1</th>\n",
       "      <td>1000</td>\n",
       "      <td>1003</td>\n",
       "      <td>1</td>\n",
       "      <td>44617789</td>\n",
       "      <td>205983275</td>\n",
       "      <td>IBD1</td>\n",
       "      <td>68.343113</td>\n",
       "      <td>200.153155</td>\n",
       "      <td>131.810042</td>\n",
       "    </tr>\n",
       "    <tr>\n",
       "      <th>2</th>\n",
       "      <td>1000</td>\n",
       "      <td>1003</td>\n",
       "      <td>1</td>\n",
       "      <td>205983276</td>\n",
       "      <td>242249428</td>\n",
       "      <td>IBD1</td>\n",
       "      <td>200.153157</td>\n",
       "      <td>250.580913</td>\n",
       "      <td>50.427756</td>\n",
       "    </tr>\n",
       "    <tr>\n",
       "      <th>3</th>\n",
       "      <td>1000</td>\n",
       "      <td>1003</td>\n",
       "      <td>1</td>\n",
       "      <td>242249429</td>\n",
       "      <td>248876512</td>\n",
       "      <td>IBD1</td>\n",
       "      <td>250.580914</td>\n",
       "      <td>261.713366</td>\n",
       "      <td>11.132452</td>\n",
       "    </tr>\n",
       "    <tr>\n",
       "      <th>4</th>\n",
       "      <td>1000</td>\n",
       "      <td>1003</td>\n",
       "      <td>2</td>\n",
       "      <td>118913</td>\n",
       "      <td>4929466</td>\n",
       "      <td>IBD1</td>\n",
       "      <td>0.000000</td>\n",
       "      <td>8.741841</td>\n",
       "      <td>8.741841</td>\n",
       "    </tr>\n",
       "  </tbody>\n",
       "</table>\n",
       "</div>"
      ],
      "text/plain": [
       "   sample1  sample2  chrom  phys_start   phys_end ibd_type   gen_start  \\\n",
       "0     1000     1003      1      817341   44617788     IBD1    0.000000   \n",
       "1     1000     1003      1    44617789  205983275     IBD1   68.343113   \n",
       "2     1000     1003      1   205983276  242249428     IBD1  200.153157   \n",
       "3     1000     1003      1   242249429  248876512     IBD1  250.580914   \n",
       "4     1000     1003      2      118913    4929466     IBD1    0.000000   \n",
       "\n",
       "      gen_end  gen_seg_len  \n",
       "0   68.343071    68.343071  \n",
       "1  200.153155   131.810042  \n",
       "2  250.580913    50.427756  \n",
       "3  261.713366    11.132452  \n",
       "4    8.741841     8.741841  "
      ]
     },
     "metadata": {},
     "output_type": "display_data"
    }
   ],
   "source": [
    "import pandas as pd\n",
    "import os\n",
    "\n",
    "seg_file_orig = seg_file + \"_orig\"\n",
    "\n",
    "# Check for .seg_orig and .seg files in the results directory\n",
    "if os.path.exists(seg_file_orig) and os.path.exists(seg_file):\n",
    "    os.remove(seg_file)\n",
    "    os.rename(seg_file_orig, seg_file)\n",
    "elif os.path.exists(seg_file_orig):\n",
    "    os.rename(seg_file_orig, seg_file)\n",
    "    \n",
    "segments = seg_df.copy()\n",
    "\n",
    "# New file paths\n",
    "seg_file_new = seg_file\n",
    "dict_file = seg_file + \"_dict.txt\"\n",
    "\n",
    "# Read the individual_info.txt file\n",
    "individual_info = pd.read_csv(os.path.join(results_directory, 'individual_info.txt'), sep='\\t')\n",
    "\n",
    "# Create a dictionary to map individual IDs to Bonsai IDs\n",
    "individual_to_bonsai = dict(zip(individual_info['Individual ID'], individual_info['Bonsai ID']))\n",
    "\n",
    "# Replace sample names with their corresponding Bonsai IDs\n",
    "segments['sample1'] = segments['sample1'].map(individual_to_bonsai)\n",
    "segments['sample2'] = segments['sample2'].map(individual_to_bonsai)\n",
    "\n",
    "# Save the modified segments as .seg\n",
    "segments.to_csv(seg_file_new, sep='\\t', index=False, header=False)\n",
    "\n",
    "# Save the dictionary\n",
    "with open(dict_file, 'w') as f:\n",
    "    for individual, bonsai_id in individual_to_bonsai.items():\n",
    "        f.write(f\"{individual}\\t{bonsai_id}\\n\")\n",
    "\n",
    "print(\"Segments and dictionary saved successfully.\")\n",
    "display(segments.head())"
   ]
  },
  {
   "cell_type": "markdown",
   "metadata": {},
   "source": [
    "Create the segment list"
   ]
  },
  {
   "cell_type": "code",
   "execution_count": 58,
   "metadata": {},
   "outputs": [
    {
     "name": "stdout",
     "output_type": "stream",
     "text": [
      "First 10 unphased IBD segments:\n",
      "[1000, 1003, '1', 817341.0, 44617788.0, False, 68.343071]\n",
      "[1000, 1003, '1', 44617789.0, 205983275.0, False, 131.810042]\n",
      "[1000, 1003, '1', 205983276.0, 242249428.0, False, 50.427756]\n",
      "[1000, 1003, '1', 242249429.0, 248876512.0, False, 11.132452]\n",
      "[1000, 1003, '2', 118913.0, 4929466.0, False, 8.741841]\n",
      "[1000, 1003, '2', 4929467.0, 67922741.0, False, 77.365229]\n",
      "[1000, 1003, '2', 67922742.0, 242101808.0, False, 162.599718]\n",
      "[1000, 1003, '3', 66543.0, 42375917.0, False, 63.832452]\n",
      "[1000, 1003, '3', 42375918.0, 198073373.0, False, 153.016539]\n",
      "[1000, 1003, '4', 173807.0, 108049728.0, False, 107.960655]\n"
     ]
    }
   ],
   "source": [
    "def create_unphased_ibd_seg_list(segments):\n",
    "    \"\"\"\n",
    "    Creates an unphased IBD segment list from the given DataFrame.\n",
    "\n",
    "    Parameters:\n",
    "        segments_ibd (pd.DataFrame): DataFrame containing the IBD segments with columns:\n",
    "                                     ['id1', 'id2', 'chromosome', 'physical_position_start',\n",
    "                                      'physical_position_end', 'IBD_type', 'genetic_length'].\n",
    "        numeric_ids (dict): Mapping of sample IDs (str) to numeric IDs (int).\n",
    "\n",
    "    Returns:\n",
    "        list: A list of unphased IBD segments in the specified format:\n",
    "              [[id1, id2, chrom, start_bp, end_bp, is_full, len_cm], ...].\n",
    "    \"\"\"\n",
    "    unphased_ibd_seg_list = []\n",
    "\n",
    "    for _, row in segments.iterrows():\n",
    "        try:\n",
    "            id1 = int(row['sample1'])\n",
    "            id2 = int(row['sample2'])\n",
    "            chrom = str(row['chrom'])  # Convert chromosome to string if necessary\n",
    "            start_bp = float(row['phys_start'])\n",
    "            end_bp = float(row['phys_end'])\n",
    "            is_full = row['ibd_type'] == 2  # Assuming IBD2 indicates \"full\"\n",
    "            len_cm = float(row['gen_seg_len'])\n",
    "\n",
    "            unphased_ibd_seg_list.append([id1, id2, chrom, start_bp, end_bp, is_full, len_cm])\n",
    "        except KeyError as e:\n",
    "            print(f\"Error mapping ID: {e}\")\n",
    "        except ValueError as e:\n",
    "            print(f\"Error converting row data: {e}\")\n",
    "\n",
    "    return unphased_ibd_seg_list\n",
    "\n",
    "unphased_ibd_seg_list = create_unphased_ibd_seg_list(segments)\n",
    "\n",
    "print(\"First 10 unphased IBD segments:\")\n",
    "for i in range(10):\n",
    "    print(unphased_ibd_seg_list[i])"
   ]
  },
  {
   "cell_type": "markdown",
   "metadata": {
    "id": "eh--6OMseIgp"
   },
   "source": [
    "## Run Bonsai"
   ]
  },
  {
   "cell_type": "code",
   "execution_count": null,
   "metadata": {
    "id": "DcLLLzrFVn_R"
   },
   "outputs": [],
   "source": [
    "from utils.bonsaitree.bonsaitree.v3 import bonsai\n",
    "\n",
    "up_dict_log_like_list = bonsai.build_pedigree(\n",
    "    bio_info=bioinfo,\n",
    "    unphased_ibd_seg_list=unphased_ibd_seg_list,\n",
    "    min_seg_len=3\n",
    ")"
   ]
  },
  {
   "cell_type": "markdown",
   "metadata": {
    "id": "Nzp7Y7dKzo0o"
   },
   "source": [
    "## Louvain communities"
   ]
  },
  {
   "cell_type": "markdown",
   "metadata": {
    "id": "vR2eYQ_W7_t_"
   },
   "source": [
    "Louvain communities is a community detection algorithm that helps identify groups of nodes that are more densely connected to each other than to nodes in other groups. In the context of our problem, using Louvain communities allows us to partition the large network of individuals into smaller, more manageable communities.\n",
    "\n",
    "The Louvain algorithm is a hierarchical clustering algorithm that optimizes the modularity score of the network. Modularity is a measure of the strength of division of a network into communities. A high modularity score indicates that the nodes within a community have more connections among themselves than with nodes in other communities.\n",
    "\n",
    "By applying the Louvain algorithm to our network of individuals, we can identify communities of individuals that are more closely related to each other based on their shared IBD segments. This allows us to focus our analysis on smaller subsets of the data, reducing the computational burden and memory requirements.\n",
    "\n",
    "By leveraging Louvain communities, we can partition our large network into smaller communities and run Bonsai on each community separately. This approach enables us to work with larger datasets and overcome the memory limitations of the free version of Google Colab."
   ]
  },
  {
   "cell_type": "code",
   "execution_count": 59,
   "metadata": {
    "id": "fLIHoAQgzsRP"
   },
   "outputs": [
    {
     "name": "stderr",
     "output_type": "stream",
     "text": [
      "Adding edges to the graph: 100%|\u2588\u2588\u2588\u2588\u2588\u2588\u2588\u2588\u2588\u2588| 183061/183061 [00:08<00:00, 20407.82it/s]\n"
     ]
    },
    {
     "name": "stdout",
     "output_type": "stream",
     "text": [
      "10\n"
     ]
    }
   ],
   "source": [
    "import pandas as pd\n",
    "import networkx as nx\n",
    "from tqdm import tqdm\n",
    "\n",
    "# Create a graph from the hapibd_df DataFrame\n",
    "G = nx.Graph()\n",
    "\n",
    "with tqdm(total=len(segments), desc=\"Adding edges to the graph\") as pbar:\n",
    "    for _, row in segments.iterrows():\n",
    "        first_sample = row[\"sample1\"]\n",
    "        second_sample = row[\"sample2\"]\n",
    "        gen_seg_len = row[\"gen_seg_len\"]\n",
    "        G.add_edge(first_sample, second_sample, weight=gen_seg_len)\n",
    "        pbar.update(1)\n",
    "\n",
    "# Find Louvain communities\n",
    "communities = nx.community.louvain_communities(G, weight='weight')\n",
    "\n",
    "print(len(communities))"
   ]
  },
  {
   "cell_type": "code",
   "execution_count": 60,
   "metadata": {
    "id": "CJO4-Iwh6rZ7"
   },
   "outputs": [
    {
     "name": "stdout",
     "output_type": "stream",
     "text": [
      "Community 1:\n",
      "[1024, 1025, 1026, 1027, 1028, 1029, 1030, 1031, 1032, 1033, 1034, 1035, 1036, 1037, 1038, 1039, 1040, 1041, 1042, 1043, 1044, 1045, 1046, 1047, 1048, 1049, 1050, 1051, 1000, 1001, 1002, 1003, 1004, 1005, 1006, 1007, 1008, 1009, 1010, 1011, 1012, 1013, 1014, 1015, 1016, 1017, 1018, 1019, 1020, 1021, 1022, 1023]\n",
      "\n",
      "Community 2:\n",
      "[1052, 1053, 1054, 1055, 1056, 1057, 1058, 1059, 1060, 1061, 1062, 1063, 1064, 1065, 1066, 1067, 1068, 1069, 1070, 1071, 1072, 1073, 1074, 1075, 1076, 1077, 1078, 1079, 1080, 1081, 1082, 1083, 1084, 1085, 1086, 1087, 1088, 1089, 1090, 1091, 1092, 1093, 1094, 1095, 1096, 1097, 1098, 1099, 1100, 1101, 1102, 1103]\n",
      "\n",
      "Community 3:\n",
      "[1152, 1153, 1154, 1155, 1104, 1105, 1106, 1107, 1108, 1109, 1110, 1111, 1112, 1113, 1114, 1115, 1116, 1117, 1118, 1119, 1120, 1121, 1122, 1123, 1124, 1125, 1126, 1127, 1128, 1129, 1130, 1131, 1132, 1133, 1134, 1135, 1136, 1137, 1138, 1139, 1140, 1141, 1142, 1143, 1144, 1145, 1146, 1147, 1148, 1149, 1150, 1151]\n",
      "\n",
      "Community 4:\n",
      "[1156, 1157, 1158, 1159, 1160, 1161, 1162, 1163, 1164, 1165, 1166, 1167, 1168, 1169, 1170, 1171, 1172, 1173, 1174, 1175, 1176, 1177, 1178, 1179, 1180, 1181, 1182, 1183, 1184, 1185, 1186, 1187, 1188, 1189, 1190, 1191, 1192, 1193, 1194, 1195, 1196, 1197, 1198, 1199, 1200, 1201, 1202, 1203, 1204, 1205, 1206, 1207]\n",
      "\n",
      "Community 5:\n",
      "[1208, 1209, 1210, 1211, 1212, 1213, 1214, 1215, 1216, 1217, 1218, 1219, 1220, 1221, 1222, 1223, 1224, 1225, 1226, 1227, 1228, 1229, 1230, 1231, 1232, 1233, 1234, 1235, 1236, 1237, 1238, 1239, 1240, 1241, 1242, 1243, 1244, 1245, 1246, 1247, 1248, 1249, 1250, 1251, 1252, 1253, 1254, 1255, 1256, 1257, 1258, 1259]\n",
      "\n"
     ]
    }
   ],
   "source": [
    "# Print the members of each community\n",
    "for i, community in enumerate(communities[:5], start=1):\n",
    "    print(f\"Community {i}:\")\n",
    "    print(list(community))\n",
    "    print()"
   ]
  },
  {
   "cell_type": "markdown",
   "metadata": {
    "id": "8_vlJYp6k_qP"
   },
   "source": [
    "To make the Louvain communities smaller, you can adjust the `resolution` parameter in the `louvain_communities` function. The `resolution` parameter controls the size of the communities detected by the algorithm. By default, it is set to 1.0.\n",
    "\n",
    "* Decreasing the `resolution` parameter (e.g., setting it to a value less than 1.0) will result in larger communities. The algorithm will favor merging smaller communities into larger ones.\n",
    "* Increasing the `resolution` parameter (e.g., setting it to a value greater than 1.0) will result in smaller communities. The algorithm will favor splitting larger communities into smaller ones.\n",
    "\n",
    "Here's how you can modify the code to make the communities smaller:"
   ]
  },
  {
   "cell_type": "code",
   "execution_count": null,
   "metadata": {
    "id": "RSZVnG7PlPxV"
   },
   "outputs": [],
   "source": [
    "with tqdm(total=len(segments), desc=\"Adding edges to the graph\") as pbar:\n",
    "    for _, row in segments.iterrows():\n",
    "        first_sample = row[\"sample1\"]\n",
    "        second_sample = row[\"sample2\"]\n",
    "        gen_seg_len = row[\"gen_seg_len\"]\n",
    "        G.add_edge(first_sample, second_sample, weight=gen_seg_len)\n",
    "        pbar.update(1)\n",
    "\n",
    "# Find Louvain communities with a smaller resolution value\n",
    "resolution = 100  # Adjust this value to control the size of the communities\n",
    "communities_v2 = nx.community.louvain_communities(G, resolution=resolution, weight='weight')\n",
    "print(len(communities_v2))"
   ]
  },
  {
   "cell_type": "code",
   "execution_count": null,
   "metadata": {
    "id": "eG30P4OplbB7"
   },
   "outputs": [],
   "source": [
    "# Print the members of each community\n",
    "for i, community in enumerate(communities_v2[:5], start=1):\n",
    "    print(f\"Community {i}:\")\n",
    "    print(list(community))\n",
    "    print()"
   ]
  },
  {
   "cell_type": "markdown",
   "metadata": {
    "id": "OezMpWaFnvGj"
   },
   "source": [
    "NOTE: It could be that you find Bonsai is more accurate for smaller, more related groups of individuals than for larger, more distantly related individuals. Bonsai has a `seed_pedigree_list` parameter that is an \"optional [list] of seed pedigrees to use as starting points for building the pedigree\". It also has a `validated_node_set_list` parameter where you can identify the nodes in the pedigrees in the `seed_pedigree_list` where you know the genealogical relationship."
   ]
  },
  {
   "cell_type": "markdown",
   "metadata": {
    "id": "cLXFu1nygNoc"
   },
   "source": [
    "# Run Bonsai"
   ]
  },
  {
   "cell_type": "markdown",
   "metadata": {
    "id": "vYYvmdK_l8g1"
   },
   "source": [
    "Rather than running Bonsai on our entire dataset, we can now run it on a Louvain community where we know there is relatedness among the members of the community. Because of this, we need to reduce our ibd_seg_list and bioinfo variables to only the inviduals in the community."
   ]
  },
  {
   "cell_type": "code",
   "execution_count": 61,
   "metadata": {
    "id": "WZxR8m1dJuM8"
   },
   "outputs": [],
   "source": [
    "# Choose the community you want to focus on (e.g., community 0)\n",
    "target_community = communities[0]"
   ]
  },
  {
   "cell_type": "code",
   "execution_count": 62,
   "metadata": {
    "id": "mdfJlW1qqM7u"
   },
   "outputs": [
    {
     "data": {
      "text/plain": [
       "{1000,\n",
       " 1001,\n",
       " 1002,\n",
       " 1003,\n",
       " 1004,\n",
       " 1005,\n",
       " 1006,\n",
       " 1007,\n",
       " 1008,\n",
       " 1009,\n",
       " 1010,\n",
       " 1011,\n",
       " 1012,\n",
       " 1013,\n",
       " 1014,\n",
       " 1015,\n",
       " 1016,\n",
       " 1017,\n",
       " 1018,\n",
       " 1019,\n",
       " 1020,\n",
       " 1021,\n",
       " 1022,\n",
       " 1023,\n",
       " 1024,\n",
       " 1025,\n",
       " 1026,\n",
       " 1027,\n",
       " 1028,\n",
       " 1029,\n",
       " 1030,\n",
       " 1031,\n",
       " 1032,\n",
       " 1033,\n",
       " 1034,\n",
       " 1035,\n",
       " 1036,\n",
       " 1037,\n",
       " 1038,\n",
       " 1039,\n",
       " 1040,\n",
       " 1041,\n",
       " 1042,\n",
       " 1043,\n",
       " 1044,\n",
       " 1045,\n",
       " 1046,\n",
       " 1047,\n",
       " 1048,\n",
       " 1049,\n",
       " 1050,\n",
       " 1051}"
      ]
     },
     "execution_count": 62,
     "metadata": {},
     "output_type": "execute_result"
    }
   ],
   "source": [
    "target_community"
   ]
  },
  {
   "cell_type": "code",
   "execution_count": 63,
   "metadata": {
    "id": "mSc_Ym0h8Yb4"
   },
   "outputs": [
    {
     "data": {
      "text/plain": [
       "[{'genotype_id': 1000, 'age': 131, 'sex': 'F'},\n",
       " {'genotype_id': 1001, 'age': 139, 'sex': 'M'},\n",
       " {'genotype_id': 1002, 'age': 99, 'sex': 'F'},\n",
       " {'genotype_id': 1003, 'age': 101, 'sex': 'M'},\n",
       " {'genotype_id': 1004, 'age': 110, 'sex': 'M'},\n",
       " {'genotype_id': 1005, 'age': 107, 'sex': 'F'},\n",
       " {'genotype_id': 1006, 'age': 72, 'sex': 'M'},\n",
       " {'genotype_id': 1007, 'age': 72, 'sex': 'F'},\n",
       " {'genotype_id': 1008, 'age': 120, 'sex': 'F'},\n",
       " {'genotype_id': 1009, 'age': 101, 'sex': 'M'},\n",
       " {'genotype_id': 1010, 'age': 98, 'sex': 'F'},\n",
       " {'genotype_id': 1011, 'age': 90, 'sex': 'M'},\n",
       " {'genotype_id': 1012, 'age': 116, 'sex': 'F'},\n",
       " {'genotype_id': 1013, 'age': 112, 'sex': 'M'},\n",
       " {'genotype_id': 1014, 'age': 53, 'sex': 'F'},\n",
       " {'genotype_id': 1015, 'age': 52, 'sex': 'M'},\n",
       " {'genotype_id': 1016, 'age': 118, 'sex': 'F'},\n",
       " {'genotype_id': 1017, 'age': 102, 'sex': 'M'},\n",
       " {'genotype_id': 1018, 'age': 79, 'sex': 'M'},\n",
       " {'genotype_id': 1019, 'age': 81, 'sex': 'F'},\n",
       " {'genotype_id': 1020, 'age': 73, 'sex': 'M'},\n",
       " {'genotype_id': 1021, 'age': 82, 'sex': 'F'},\n",
       " {'genotype_id': 1022, 'age': 65, 'sex': 'M'},\n",
       " {'genotype_id': 1023, 'age': 77, 'sex': 'F'},\n",
       " {'genotype_id': 1024, 'age': 79, 'sex': 'M'},\n",
       " {'genotype_id': 1025, 'age': 78, 'sex': 'F'},\n",
       " {'genotype_id': 1026, 'age': 53, 'sex': 'M'},\n",
       " {'genotype_id': 1027, 'age': 39, 'sex': 'F'},\n",
       " {'genotype_id': 1028, 'age': 32, 'sex': 'F'},\n",
       " {'genotype_id': 1029, 'age': 32, 'sex': 'M'},\n",
       " {'genotype_id': 1030, 'age': 75, 'sex': 'F'},\n",
       " {'genotype_id': 1031, 'age': 80, 'sex': 'M'},\n",
       " {'genotype_id': 1032, 'age': 45, 'sex': 'F'},\n",
       " {'genotype_id': 1033, 'age': 46, 'sex': 'M'},\n",
       " {'genotype_id': 1034, 'age': 37, 'sex': 'M'},\n",
       " {'genotype_id': 1035, 'age': 51, 'sex': 'F'},\n",
       " {'genotype_id': 1036, 'age': 42, 'sex': 'F'},\n",
       " {'genotype_id': 1037, 'age': 52, 'sex': 'M'},\n",
       " {'genotype_id': 1038, 'age': 40, 'sex': 'F'},\n",
       " {'genotype_id': 1039, 'age': 45, 'sex': 'M'},\n",
       " {'genotype_id': 1040, 'age': 72, 'sex': 'M'},\n",
       " {'genotype_id': 1041, 'age': 65, 'sex': 'F'},\n",
       " {'genotype_id': 1042, 'age': 32, 'sex': 'F'},\n",
       " {'genotype_id': 1043, 'age': 19, 'sex': 'M'},\n",
       " {'genotype_id': 1044, 'age': 20, 'sex': 'F'},\n",
       " {'genotype_id': 1045, 'age': 40, 'sex': 'M'},\n",
       " {'genotype_id': 1046, 'age': 29, 'sex': 'M'},\n",
       " {'genotype_id': 1047, 'age': 25, 'sex': 'F'},\n",
       " {'genotype_id': 1048, 'age': 35, 'sex': 'M'},\n",
       " {'genotype_id': 1049, 'age': 30, 'sex': 'M'},\n",
       " {'genotype_id': 1050, 'age': 24, 'sex': 'F'},\n",
       " {'genotype_id': 1051, 'age': 39, 'sex': 'M'}]"
      ]
     },
     "execution_count": 63,
     "metadata": {},
     "output_type": "execute_result"
    }
   ],
   "source": [
    "def filter_ibd_seg_list(ibd_seg_list, community_ids, both_in_community=True):\n",
    "    if both_in_community:\n",
    "        filtered_ibd_seg_list = [\n",
    "            seg for seg in ibd_seg_list\n",
    "            if seg[0] in community_ids and seg[1] in community_ids\n",
    "        ]\n",
    "    # else:\n",
    "    #     filtered_ibd_seg_list = [\n",
    "    #         seg for seg in ibd_seg_list\n",
    "    #         if seg[0] in community_ids or seg[1] in community_ids\n",
    "    #     ]\n",
    "    return filtered_ibd_seg_list\n",
    "\n",
    "# Filter the ibd_seg_list based on the community IDs\n",
    "filtered_ibd_seg_list_v1 = filter_ibd_seg_list(unphased_ibd_seg_list, target_community, both_in_community=True)\n",
    "# filtered_ibd_seg_list_v2 = filter_ibd_seg_list(ibd_seg_list, target_community, both_in_community=False)\n",
    "\n",
    "# Filter the bioinfo based on the community IDs\n",
    "filtered_bioinfo = [info for info in bioinfo if info['genotype_id'] in target_community]\n",
    "filtered_bioinfo"
   ]
  },
  {
   "cell_type": "markdown",
   "metadata": {
    "id": "1QSOmfangdGs"
   },
   "source": [
    "### Option 1\n",
    "\n",
    "Run Bonsai without selecting a focal_id"
   ]
  },
  {
   "cell_type": "code",
   "execution_count": null,
   "metadata": {
    "id": "XEe5Hjxxgmn0"
   },
   "outputs": [
    {
     "name": "stderr",
     "output_type": "stream",
     "text": [
      "/home/lakishadavid/computational_genetic_genealogy/utils/bonsaitree/bonsaitree/v3/druid.py:221: RuntimeWarning: divide by zero encountered in log\n",
      "  log_term = np.log(1 - np.exp(-np.exp(log_mu_amt)))\n",
      "/home/lakishadavid/computational_genetic_genealogy/.venv/lib/python3.12/site-packages/scipy/stats/_distn_infrastructure.py:2068: RuntimeWarning: divide by zero encountered in divide\n",
      "  x = np.asarray((x - loc)/scale, dtype=dtyp)\n",
      "/home/lakishadavid/computational_genetic_genealogy/.venv/lib/python3.12/site-packages/scipy/stats/_distn_infrastructure.py:2068: RuntimeWarning: invalid value encountered in divide\n",
      "  x = np.asarray((x - loc)/scale, dtype=dtyp)\n"
     ]
    }
   ],
   "source": [
    "from utils.bonsaitree.bonsaitree.v3 import bonsai\n",
    "\n",
    "up_dict_log_like_list = bonsai.build_pedigree(\n",
    "    bio_info=filtered_bioinfo,\n",
    "    unphased_ibd_seg_list=filtered_ibd_seg_list_v1,\n",
    "    min_seg_len=3\n",
    ")\n",
    "\n",
    "# Takes about 5 - 10 mintues"
   ]
  },
  {
   "cell_type": "code",
   "execution_count": 65,
   "metadata": {},
   "outputs": [
    {
     "name": "stdout",
     "output_type": "stream",
     "text": [
      "pedigree {1050: {-2: 1, -5: 1}, -2: {-3: 1, -4: 1}, 1038: {-3: 1, -4: 1}, -5: {-6: 1, -7: 1}, 1049: {-10: 1, -11: 1}, 1036: {-10: 1, -12: 1}, -11: {-13: 1, -14: 1}, 1035: {-17: 1, -24: 1}, -17: {-14: 1, -13: 1}, 1020: {-13: 1, -23: 1}, 1037: {-13: 1, -14: 1}, 1048: {-17: 1, -28: 1}, 1034: {-31: 1, -32: 1}, 1047: {-31: 1, -33: 1}, -31: {-17: 1, -28: 1}, 1022: {-7: 1, -37: 1}, 1039: {-7: 1, -6: 1}, -6: {-39: 1, -14: 1}, 1025: {-43: 1, -46: 1}, -43: {-44: 1, -45: 1}, 1012: {-44: 1, -45: 1}, 1024: {-49: 1, -50: 1}, 1041: {-49: 1, -51: 1}, 1040: {-54: 1, -55: 1}, 1051: {-58: 1, -59: 1}, -58: {-54: 1, -55: 1}, -59: {-51: 1, -49: 1}, -51: {-46: 1, -43: 1}, 1017: {-62: 1, 1006: 1}, 1033: {-66: 1, -69: 1}, -66: {-67: 1, -68: 1}, 1018: {-67: 1, -68: 1}, -69: {-70: 1, -71: 1}, 1011: {-46: 1, -75: 1}, 1004: {-46: 1, -76: 1}, 1013: {-46: 1, -80: 1}, 1028: {-83: 1, -84: 1}, 1044: {-83: 1, -85: 1}, 1026: {}, 1043: {-90: 1, -93: 1}, -90: {1026: 1, -92: 1}, 1042: {1026: 1, -92: 1}, 1009: {-96: 1, -97: 1}, 1000: {1001: 1, -101: 1}, 1003: {-96: 1, -105: 1}, -96: {1001: 1, -101: 1}, 1001: {}, 1005: {-46: 1, -113: 1}, -46: {1001: 1, -101: 1}, 1029: {-85: 1, -125: 1}, -85: {1006: 1, -62: 1}, 1027: {-92: 1, -124: 1}, -92: {-62: 1, 1006: 1}, 1014: {-62: 1, 1006: 1}, 1006: {}, 1015: {1006: 1, -62: 1}, -62: {-97: 1, -96: 1}, 1002: {-136: 1, -137: 1}, 1007: {-97: 1, -96: 1}, -97: {-136: 1, -137: 1}, 1008: {-140: 1, -141: 1}, 1019: {-71: 1, -70: 1}, -71: {-140: 1, -141: 1}, -70: {-97: 1, -96: 1}, 1010: {-14: 1, -149: 1}, 1023: {-14: 1, -39: 1}, 1021: {-14: 1, -13: 1}, -14: {-75: 1, -46: 1}, 1045: {-157: 1, -160: 1}, -157: {-158: 1, -159: 1}, 1030: {-158: 1, -159: 1}, -160: {-85: 1, -162: 1}, 1016: {-165: 1, -166: 1}, 1031: {-162: 1, -85: 1}, -162: {-165: 1, -166: 1}, 1032: {-169: 1, -170: 1}, 1046: {-169: 1, -171: 1}, -171: {-69: 1, -66: 1}}\n",
      "likelihood -18203.296223544945\n",
      "pedigree {1050: {-2: 1, -5: 1}, -2: {-3: 1, -4: 1}, 1038: {-3: 1, -4: 1}, -5: {-6: 1, -7: 1}, 1049: {-10: 1, -11: 1}, 1036: {-10: 1, -12: 1}, -11: {-13: 1, -14: 1}, 1035: {-17: 1, -24: 1}, -17: {-14: 1, -13: 1}, 1020: {-13: 1, -23: 1}, 1037: {-13: 1, -14: 1}, 1048: {-17: 1, -28: 1}, 1034: {-31: 1, -32: 1}, 1047: {-31: 1, -33: 1}, -31: {-17: 1, -28: 1}, 1022: {-7: 1, -37: 1}, 1039: {-7: 1, -6: 1}, -6: {-39: 1, -14: 1}, 1025: {-43: 1, -46: 1}, -43: {-44: 1, -45: 1}, 1012: {-44: 1, -45: 1}, 1024: {-49: 1, -50: 1}, 1041: {-49: 1, -51: 1}, 1040: {-54: 1, -55: 1}, 1051: {-58: 1, -59: 1}, -58: {-54: 1, -55: 1}, -59: {-51: 1, -49: 1}, -51: {-46: 1, -43: 1}, 1017: {-62: 1, 1006: 1}, 1033: {-66: 1, -69: 1}, -66: {-67: 1, -68: 1}, 1018: {-67: 1, -68: 1}, -69: {-70: 1, -71: 1}, 1011: {-46: 1, -75: 1}, 1004: {-46: 1, -76: 1}, 1013: {-46: 1, -80: 1}, 1028: {-83: 1, -84: 1}, 1044: {-83: 1, -85: 1}, 1026: {}, 1043: {-90: 1, -93: 1}, -90: {1026: 1, -92: 1}, 1042: {1026: 1, -92: 1}, 1009: {-96: 1, -97: 1}, 1000: {1001: 1, -101: 1}, 1003: {-96: 1, -105: 1}, -96: {1001: 1, -101: 1}, 1001: {}, 1005: {-46: 1, -113: 1}, -46: {1001: 1, -101: 1}, 1029: {-85: 1, -125: 1}, -85: {1006: 1, -62: 1}, 1027: {-92: 1, -124: 1}, -92: {-62: 1, 1006: 1}, 1014: {-62: 1, 1006: 1}, 1006: {}, 1015: {1006: 1, -62: 1}, -62: {-97: 1, -96: 1}, 1002: {-136: 1, -137: 1}, 1007: {-97: 1, -96: 1}, -97: {-136: 1, -137: 1}, 1008: {-140: 1, -141: 1}, 1019: {-71: 1, -70: 1}, -71: {-140: 1, -141: 1}, -70: {-97: 1, -96: 1}, 1010: {-14: 1, -149: 1}, 1023: {-14: 1, -39: 1}, 1021: {-14: 1, -13: 1}, -14: {-75: 1, -46: 1}, 1045: {-157: 1, -160: 1}, -157: {-158: 1, -159: 1}, 1030: {-158: 1, -159: 1}, -160: {-85: 1, -162: 1}, 1016: {-165: 1, -166: 1}, 1031: {-162: 1, -85: 1}, -162: {-165: 1, -166: 1}, 1032: {-169: 1, -170: 1}, 1046: {-169: 1, -171: 1}, -171: {-69: 1, -66: 1}}\n",
      "likelihood -18203.296223544945\n",
      "pedigree {1050: {-2: 1, -5: 1}, -2: {-3: 1, -4: 1}, 1038: {-3: 1, -4: 1}, -5: {-6: 1, -7: 1}, 1049: {-10: 1, -11: 1}, 1036: {-10: 1, -12: 1}, -11: {-13: 1, -14: 1}, 1035: {-17: 1, -24: 1}, -17: {-14: 1, -13: 1}, 1020: {-13: 1, -23: 1}, 1037: {-13: 1, -14: 1}, 1048: {-17: 1, -28: 1}, 1034: {-31: 1, -32: 1}, 1047: {-31: 1, -33: 1}, -31: {-17: 1, -28: 1}, 1022: {-7: 1, -37: 1}, 1039: {-7: 1, -6: 1}, -6: {-39: 1, -14: 1}, 1025: {-43: 1, -46: 1}, -43: {-44: 1, -45: 1}, 1012: {-44: 1, -45: 1}, 1024: {-49: 1, -50: 1}, 1041: {-49: 1, -51: 1}, 1040: {-54: 1, -55: 1}, 1051: {-58: 1, -59: 1}, -58: {-54: 1, -55: 1}, -59: {-51: 1, -49: 1}, -51: {-46: 1, -43: 1}, 1017: {-62: 1, 1006: 1}, 1033: {-66: 1, -69: 1}, -66: {-67: 1, -68: 1}, 1018: {-67: 1, -68: 1}, -69: {-70: 1, -71: 1}, 1011: {-46: 1, -75: 1}, 1004: {-46: 1, -76: 1}, 1013: {-46: 1, -80: 1}, 1028: {-83: 1, -84: 1}, 1044: {-83: 1, -85: 1}, 1026: {}, 1043: {-90: 1, -93: 1}, -90: {1026: 1, -92: 1}, 1042: {1026: 1, -92: 1}, 1009: {-96: 1, -97: 1}, 1000: {1001: 1, -101: 1}, 1003: {-96: 1, -105: 1}, -96: {1001: 1, -101: 1}, 1001: {}, 1005: {-46: 1, -113: 1}, -46: {1001: 1, -101: 1}, 1029: {-85: 1, -125: 1}, -85: {1006: 1, -62: 1}, 1027: {-92: 1, -124: 1}, -92: {-62: 1, 1006: 1}, 1014: {-62: 1, 1006: 1}, 1006: {}, 1015: {1006: 1, -62: 1}, -62: {-97: 1, -96: 1}, 1002: {-136: 1, -137: 1}, 1007: {-97: 1, -96: 1}, -97: {-136: 1, -137: 1}, 1008: {-140: 1, -141: 1}, 1019: {-71: 1, -70: 1}, -71: {-140: 1, -141: 1}, -70: {-97: 1, -96: 1}, 1010: {-14: 1, -149: 1}, 1023: {-14: 1, -39: 1}, 1021: {-14: 1, -13: 1}, -14: {-75: 1, -46: 1}, 1045: {-157: 1, -160: 1}, -157: {-158: 1, -159: 1}, 1030: {-158: 1, -159: 1}, -160: {-85: 1, -162: 1}, 1016: {-165: 1, -166: 1}, 1031: {-162: 1, -85: 1}, -162: {-165: 1, -166: 1}, 1032: {-169: 1, -170: 1}, 1046: {-169: 1, -171: 1}, -171: {-69: 1, -66: 1}}\n",
      "likelihood -18203.296223544945\n"
     ]
    }
   ],
   "source": [
    "for element in up_dict_log_like_list:\n",
    "    print(f\"pedigree {element[0]}\")\n",
    "    print(f\"likelihood {element[1]}\")"
   ]
  },
  {
   "cell_type": "code",
   "execution_count": 66,
   "metadata": {},
   "outputs": [
    {
     "name": "stdout",
     "output_type": "stream",
     "text": [
      "Saved pedigree 1 to /home/lakishadavid/computational_genetic_genealogy/results/bonsai_normed_pedigree_1.json\n",
      "Saved likelihood for pedigree 1 to /home/lakishadavid/computational_genetic_genealogy/results/bonsai_likelihood_1.txt\n",
      "Saved pedigree 2 to /home/lakishadavid/computational_genetic_genealogy/results/bonsai_normed_pedigree_2.json\n",
      "Saved likelihood for pedigree 2 to /home/lakishadavid/computational_genetic_genealogy/results/bonsai_likelihood_2.txt\n",
      "Saved pedigree 3 to /home/lakishadavid/computational_genetic_genealogy/results/bonsai_normed_pedigree_3.json\n",
      "Saved likelihood for pedigree 3 to /home/lakishadavid/computational_genetic_genealogy/results/bonsai_likelihood_3.txt\n"
     ]
    }
   ],
   "source": [
    "import json\n",
    "import os\n",
    "\n",
    "def save_pedigrees(up_dict_log_like_list, results_directory):\n",
    "    \"\"\"\n",
    "    Save pedigrees from up_dict_log_like_list to JSON files.\n",
    "    \n",
    "    Parameters:\n",
    "    up_dict_log_like_list -- List of tuples (pedigree_dict, log_likelihood)\n",
    "    results_directory -- Directory to save results\n",
    "    \"\"\"\n",
    "    for i, (pedigree, log_likelihood) in enumerate(up_dict_log_like_list):\n",
    "        # Convert all dictionary keys to strings for JSON compatibility\n",
    "        str_pedigree = {}\n",
    "        for key, value in pedigree.items():\n",
    "            str_key = str(key)\n",
    "            \n",
    "            if isinstance(value, dict):\n",
    "                str_value = {}\n",
    "                for sub_key, sub_value in value.items():\n",
    "                    str_value[str(sub_key)] = sub_value\n",
    "            else:\n",
    "                str_value = value\n",
    "                \n",
    "            str_pedigree[str_key] = str_value\n",
    "        \n",
    "        # Save the pedigree\n",
    "        file_path = os.path.join(results_directory, f'bonsai_normed_pedigree_{i+1}.json')\n",
    "        with open(file_path, 'w') as f:\n",
    "            json.dump(str_pedigree, f)\n",
    "            \n",
    "        # Save the likelihood in a separate file\n",
    "        likelihood_path = os.path.join(results_directory, f'bonsai_likelihood_{i+1}.txt')\n",
    "        with open(likelihood_path, 'w') as f:\n",
    "            f.write(str(log_likelihood))\n",
    "        \n",
    "        print(f\"Saved pedigree {i+1} to {file_path}\")\n",
    "        print(f\"Saved likelihood for pedigree {i+1} to {likelihood_path}\")\n",
    "\n",
    "# Example usage:\n",
    "save_pedigrees(up_dict_log_like_list, results_directory)"
   ]
  },
  {
   "cell_type": "markdown",
   "metadata": {
    "id": "9WxC8Ejzrz2-"
   },
   "source": [
    "## Plot the true graph"
   ]
  },
  {
   "cell_type": "code",
   "execution_count": 68,
   "metadata": {
    "id": "lpmXIAwrr2rc"
   },
   "outputs": [],
   "source": [
    "# Creates the true graph (does not display)\n",
    "\n",
    "import pandas as pd\n",
    "import networkx as nx\n",
    "\n",
    "# Load the fam file into a DataFrame\n",
    "fam_df = pd.read_csv(f\"{data_directory}/class_data/ped_sim_run2-everyone.fam\", sep=\" \", header=None)\n",
    "fam_df.columns = [\"family_id\", \"individual_id\", \"father_id\", \"mother_id\", \"sex\", \"phenotype\"]\n",
    "\n",
    "# Load the seg_dict file into a DataFrame\n",
    "seg_dict_df = pd.read_csv(f\"{data_directory}/class_data/ped_sim_run2.seg_dict.txt\", sep=\"\\t\", header=None)\n",
    "seg_dict_df.columns = [\"individual_id\", \"bonsai_id\"]\n",
    "\n",
    "# Create a dictionary to map individual_id to bonsai_id\n",
    "individual_to_bonsai = dict(zip(seg_dict_df[\"individual_id\"], seg_dict_df[\"bonsai_id\"]))\n",
    "\n",
    "# Create a graph using the fam data\n",
    "fam_graph = nx.DiGraph()\n",
    "for _, row in fam_df.iterrows():\n",
    "    individual_id = row[\"individual_id\"]\n",
    "    father_id = row[\"father_id\"]\n",
    "    mother_id = row[\"mother_id\"]\n",
    "\n",
    "    # Use Bonsai ID if available, otherwise use the original name\n",
    "    individual_node = individual_to_bonsai.get(individual_id, individual_id)\n",
    "    fam_graph.add_node(individual_node)\n",
    "\n",
    "    if father_id != \"0\":\n",
    "        father_node = individual_to_bonsai.get(father_id, father_id)\n",
    "        fam_graph.add_edge(father_node, individual_node)\n",
    "\n",
    "    if mother_id != \"0\":\n",
    "        mother_node = individual_to_bonsai.get(mother_id, mother_id)\n",
    "        fam_graph.add_edge(mother_node, individual_node)"
   ]
  },
  {
   "cell_type": "code",
   "execution_count": 69,
   "metadata": {
    "id": "uy0buUYGr8nI"
   },
   "outputs": [
    {
     "name": "stdout",
     "output_type": "stream",
     "text": [
      "Number of nodes: 520\n",
      "Number of edges: 600\n",
      "\n",
      "Nodes:\n",
      "1000\n",
      "1001\n",
      "1002\n",
      "1003\n",
      "1004\n",
      "\n",
      "Edges:\n",
      "(1000, 1003)\n",
      "(1000, 1005)\n",
      "(1001, 1003)\n",
      "(1001, 1005)\n",
      "(1002, 1007)\n"
     ]
    }
   ],
   "source": [
    "# Check the number of nodes and edges in the graph\n",
    "print(\"Number of nodes:\", fam_graph.number_of_nodes())\n",
    "print(\"Number of edges:\", fam_graph.number_of_edges())\n",
    "\n",
    "# Print a few nodes\n",
    "print(\"\\nNodes:\")\n",
    "for node in list(fam_graph.nodes())[:5]:\n",
    "    print(node)\n",
    "\n",
    "# Print a few edges\n",
    "print(\"\\nEdges:\")\n",
    "for edge in list(fam_graph.edges())[:5]:\n",
    "    print(edge)"
   ]
  },
  {
   "cell_type": "code",
   "execution_count": 70,
   "metadata": {
    "id": "wMpkrcJNtI7J"
   },
   "outputs": [
    {
     "name": "stdout",
     "output_type": "stream",
     "text": [
      "Number of nodes: 52\n",
      "Number of edges: 60\n",
      "\n",
      "Nodes:\n",
      "1024\n",
      "1025\n",
      "1026\n",
      "1027\n",
      "1028\n",
      "\n",
      "Edges:\n",
      "(1024, 1041)\n",
      "(1025, 1041)\n",
      "(1026, 1042)\n",
      "(1026, 1043)\n",
      "(1027, 1042)\n"
     ]
    }
   ],
   "source": [
    "# Find the target community individuals\n",
    "target_community_individual_ids = [seg_dict_df.loc[seg_dict_df[\"bonsai_id\"] == int(bonsai_id), \"individual_id\"].values[0] for bonsai_id in target_community]\n",
    "\n",
    "# Find all connected individuals (relatives and ancestors) of the target community\n",
    "connected_individuals = set()\n",
    "for individual_id in target_community_individual_ids:\n",
    "    connected_individuals.update(nx.descendants(fam_graph, individual_to_bonsai.get(individual_id, individual_id)))\n",
    "    connected_individuals.update(nx.ancestors(fam_graph, individual_to_bonsai.get(individual_id, individual_id)))\n",
    "connected_individuals.update(target_community_individual_ids)\n",
    "\n",
    "# Create the true graph for the target community and their connected individuals\n",
    "true_graph = nx.subgraph(fam_graph, [individual_to_bonsai.get(individual_id, individual_id) for individual_id in connected_individuals])\n",
    "\n",
    "# Check the number of nodes and edges in the graph\n",
    "print(\"Number of nodes:\", true_graph.number_of_nodes())\n",
    "print(\"Number of edges:\", true_graph.number_of_edges())\n",
    "\n",
    "# Print a few nodes\n",
    "print(\"\\nNodes:\")\n",
    "for node in list(true_graph.nodes())[:5]:\n",
    "    print(node)\n",
    "\n",
    "# Print a few edges\n",
    "print(\"\\nEdges:\")\n",
    "for edge in list(true_graph.edges())[:5]:\n",
    "    print(edge)"
   ]
  },
  {
   "cell_type": "code",
   "execution_count": 71,
   "metadata": {
    "id": "DJ_EBErc5BtX"
   },
   "outputs": [
    {
     "data": {
      "image/png": "[encoded data removed]",
      "text/plain": [
       "<Figure size 1000x1000 with 1 Axes>"
      ]
     },
     "metadata": {},
     "output_type": "display_data"
    }
   ],
   "source": [
    "# Create a PyGraphviz graph\n",
    "A = pgv.AGraph(directed=True)\n",
    "\n",
    "# Add nodes and edges to the PyGraphviz graph\n",
    "for node in true_graph.nodes():\n",
    "    A.add_node(node)\n",
    "    if node in [individual_to_bonsai.get(individual_id, individual_id) for individual_id in target_community_individual_ids]:\n",
    "        A.get_node(node).attr['color'] = 'green'\n",
    "    else:\n",
    "        A.get_node(node).attr['color'] = 'white'\n",
    "\n",
    "for edge in true_graph.edges():\n",
    "    parent, child = edge\n",
    "    A.add_edge(parent, child)\n",
    "\n",
    "# Set Graphviz layout options\n",
    "A.layout(prog='dot')\n",
    "\n",
    "# Save and display the graph\n",
    "graph_filename = f\"{results_directory}/true_graph_target_community.png\"\n",
    "A.draw(graph_filename, format='png')\n",
    "\n",
    "# Load and display the image\n",
    "img = mpimg.imread(graph_filename)\n",
    "plt.figure(figsize=(10, 10))\n",
    "plt.imshow(img)\n",
    "plt.axis('off')\n",
    "plt.show()"
   ]
  },
  {
   "cell_type": "markdown",
   "metadata": {},
   "source": [
    "How does Bonsai compare to the ground truth?"
   ]
  },
  {
   "cell_type": "markdown",
   "metadata": {
    "id": "OddqX4zY6H8O"
   },
   "source": [
    "## Exploring Bonsai"
   ]
  },
  {
   "cell_type": "code",
   "execution_count": null,
   "metadata": {},
   "outputs": [],
   "source": [
    "# 1. Basic pedigree construction with different parameters\n",
    "from utils.bonsaitree.bonsaitree.v3 import bonsai, constants\n",
    "\n",
    "# Try building with different minimum segment lengths\n",
    "up_dict_log_like_list_7cm = bonsai.build_pedigree(\n",
    "    bio_info=filtered_bioinfo,\n",
    "    unphased_ibd_seg_list=filtered_ibd_seg_list_v1,\n",
    "    min_seg_len=7  # More stringent minimum segment length\n",
    ")\n",
    "\n",
    "# Try with restricted connections\n",
    "up_dict_log_like_list_restricted = bonsai.build_pedigree(\n",
    "    bio_info=filtered_bioinfo,\n",
    "    unphased_ibd_seg_list=filtered_ibd_seg_list_v1,\n",
    "    min_seg_len=3,\n",
    "    restrict_connection_points=True\n",
    ")\n",
    "\n",
    "print(f\"Number of pedigrees with 3cM threshold: {len(up_dict_log_like_list)}\")\n",
    "print(f\"Number of pedigrees with 7cM threshold: {len(up_dict_log_like_list_7cm)}\")\n",
    "print(f\"Number of pedigrees with restricted connections: {len(up_dict_log_like_list_restricted)}\")"
   ]
  },
  {
   "cell_type": "code",
   "execution_count": 73,
   "metadata": {},
   "outputs": [
    {
     "name": "stdout",
     "output_type": "stream",
     "text": [
      "Pedigree 1 log likelihood: -18203.296223544945\n",
      "Pedigree 2 log likelihood: -18203.296223544945\n",
      "Pedigree 3 log likelihood: -18203.296223544945\n",
      "Likelihood ratio between best and second-best pedigree: 1.00\n"
     ]
    }
   ],
   "source": [
    "# 2. Examine pedigree likelihood differences\n",
    "if len(up_dict_log_like_list) > 1:\n",
    "    for i, (pedigree, log_like) in enumerate(up_dict_log_like_list):\n",
    "        print(f\"Pedigree {i+1} log likelihood: {log_like}\")\n",
    "        \n",
    "    # Calculate likelihood ratio between best and second best\n",
    "    if len(up_dict_log_like_list) >= 2:\n",
    "        best_ll = up_dict_log_like_list[0][1]\n",
    "        second_best_ll = up_dict_log_like_list[1][1]\n",
    "        likelihood_ratio = np.exp(best_ll - second_best_ll)\n",
    "        print(f\"Likelihood ratio between best and second-best pedigree: {likelihood_ratio:.2f}\")"
   ]
  },
  {
   "cell_type": "code",
   "execution_count": 74,
   "metadata": {},
   "outputs": [
    {
     "name": "stdout",
     "output_type": "stream",
     "text": [
      "Top pedigree has 52 real individuals\n",
      "Top pedigree has 26 inferred ancestors\n",
      "Maximum depth in the pedigree: 4 generations\n"
     ]
    }
   ],
   "source": [
    "# 4. Analyze the top pedigree from Bonsai\n",
    "if up_dict_log_like_list:\n",
    "    top_pedigree = up_dict_log_like_list[0][0]\n",
    "    \n",
    "    # Count individuals by type\n",
    "    real_individuals = [node for node in top_pedigree.keys() if isinstance(node, int) and node > 0]\n",
    "    inferred_ancestors = [node for node in top_pedigree.keys() if isinstance(node, int) and node < 0]\n",
    "    \n",
    "    print(f\"Top pedigree has {len(real_individuals)} real individuals\")\n",
    "    print(f\"Top pedigree has {len(inferred_ancestors)} inferred ancestors\")\n",
    "    \n",
    "    # Analyze pedigree depth (maximum generations)\n",
    "    max_depth = 0\n",
    "    for node in real_individuals:\n",
    "        depth = 0\n",
    "        current = node\n",
    "        while current in top_pedigree and top_pedigree[current]:\n",
    "            parent = list(top_pedigree[current].keys())[0]  # Get first parent\n",
    "            current = parent\n",
    "            depth += 1\n",
    "        max_depth = max(max_depth, depth)\n",
    "    \n",
    "    print(f\"Maximum depth in the pedigree: {max_depth} generations\")"
   ]
  },
  {
   "cell_type": "code",
   "execution_count": null,
   "metadata": {},
   "outputs": [],
   "source": [
    "# 5. Find potential siblings in the pedigree\n",
    "def find_siblings(pedigree):\n",
    "    # Group children by their parents\n",
    "    parent_to_children = {}\n",
    "    for child, parents in pedigree.items():\n",
    "        if not parents:  # Skip nodes with no parents\n",
    "            continue\n",
    "        \n",
    "        # Convert parents dict to a frozenset for use as dictionary key\n",
    "        parent_key = frozenset(parents.keys())\n",
    "        if parent_key not in parent_to_children:\n",
    "            parent_to_children[parent_key] = []\n",
    "        parent_to_children[parent_key].append(child)\n",
    "    \n",
    "    # Return sibling groups (only those with at least 2 siblings)\n",
    "    sibling_groups = [children for children in parent_to_children.values() if len(children) >= 2]\n",
    "    return sibling_groups\n",
    "\n",
    "if up_dict_log_like_list:\n",
    "    top_pedigree = up_dict_log_like_list[0][0]\n",
    "    sibling_groups = find_siblings(top_pedigree)\n",
    "    \n",
    "    print(f\"Found {len(sibling_groups)} sibling groups:\")\n",
    "    for i, group in enumerate(sibling_groups):\n",
    "        real_siblings = [s for s in group if isinstance(s, int) and s > 0]\n",
    "        print(f\"Group {i+1}: {real_siblings}\")"
   ]
  },
  {
   "cell_type": "code",
   "execution_count": null,
   "metadata": {},
   "outputs": [],
   "source": [
    "# 6. Compare multiple communities using Bonsai\n",
    "def compare_communities(communities, bioinfo, ibd_seg_list):\n",
    "    results = {}\n",
    "    \n",
    "    for i, community in enumerate(communities[:3]):  # Compare first 3 communities\n",
    "        print(f\"Analyzing community {i+1} with {len(community)} members\")\n",
    "        \n",
    "        # Filter bioinfo and IBD segments for this community\n",
    "        community_bioinfo = [info for info in bioinfo if info['genotype_id'] in community]\n",
    "        \n",
    "        community_ibd = [\n",
    "            seg for seg in ibd_seg_list\n",
    "            if seg[0] in community and seg[1] in community\n",
    "        ]\n",
    "        \n",
    "        # Run Bonsai\n",
    "        up_dict_log_like_list = bonsai.build_pedigree(\n",
    "            bio_info=community_bioinfo,\n",
    "            unphased_ibd_seg_list=community_ibd,\n",
    "            min_seg_len=3\n",
    "        )\n",
    "        \n",
    "        if up_dict_log_like_list:\n",
    "            top_pedigree = up_dict_log_like_list[0][0]\n",
    "            top_likelihood = up_dict_log_like_list[0][1]\n",
    "            \n",
    "            results[i] = {\n",
    "                \"size\": len(community),\n",
    "                \"pedigree\": top_pedigree,\n",
    "                \"likelihood\": top_likelihood,\n",
    "                \"real_individuals\": len([n for n in top_pedigree.keys() if isinstance(n, int) and n > 0]),\n",
    "                \"inferred_ancestors\": len([n for n in top_pedigree.keys() if isinstance(n, int) and n < 0])\n",
    "            }\n",
    "    \n",
    "    return results\n",
    "\n",
    "compare_communities(communities_v2, bioinfo, unphased_ibd_seg_list)"
   ]
  },
  {
   "cell_type": "code",
   "execution_count": 75,
   "metadata": {},
   "outputs": [
    {
     "name": "stdout",
     "output_type": "stream",
     "text": [
      "Relationship between 1000 and 1003: 1000 is an ancestor of 1003, 1 generations removed\n",
      "Relationship between 1005 and 1007: No relationship found\n",
      "Relationship between 1010 and 1015: No relationship found\n"
     ]
    }
   ],
   "source": [
    "# 7. Analyze specific relationships in the pedigree\n",
    "def analyze_relationship(pedigree, id1, id2):\n",
    "    \"\"\"Find the relationship between two individuals in the pedigree\"\"\"\n",
    "    \n",
    "    # Find path from id1 to root\n",
    "    path1 = []\n",
    "    current = id1\n",
    "    while current in pedigree and pedigree[current]:\n",
    "        parent = list(pedigree[current].keys())[0]  # Get first parent\n",
    "        path1.append((current, parent))\n",
    "        current = parent\n",
    "    \n",
    "    # Find path from id2 to root\n",
    "    path2 = []\n",
    "    current = id2\n",
    "    while current in pedigree and pedigree[current]:\n",
    "        parent = list(pedigree[current].keys())[0]  # Get first parent\n",
    "        path2.append((current, parent))\n",
    "        current = parent\n",
    "    \n",
    "    # Find common ancestor\n",
    "    common_ancestors = set([p for _, p in path1]) & set([p for _, p in path2])\n",
    "    if not common_ancestors:\n",
    "        return \"No relationship found\"\n",
    "    \n",
    "    # Find closest common ancestor\n",
    "    degrees = {}\n",
    "    for ancestor in common_ancestors:\n",
    "        degree1 = [p for _, p in path1].index(ancestor)\n",
    "        degree2 = [p for _, p in path2].index(ancestor)\n",
    "        degrees[ancestor] = (degree1, degree2)\n",
    "    \n",
    "    closest = min(degrees.items(), key=lambda x: sum(x[1]))\n",
    "    ancestor, (deg1, deg2) = closest\n",
    "    \n",
    "    # Interpret relationship\n",
    "    if deg1 == 0 and deg2 > 0:\n",
    "        return f\"{id1} is an ancestor of {id2}, {deg2} generations removed\"\n",
    "    elif deg2 == 0 and deg1 > 0:\n",
    "        return f\"{id2} is an ancestor of {id1}, {deg1} generations removed\"\n",
    "    elif deg1 == 1 and deg2 == 1:\n",
    "        return f\"{id1} and {id2} are siblings\"\n",
    "    elif deg1 == 1 and deg2 == 2:\n",
    "        return f\"{id1} is an aunt/uncle of {id2}\"\n",
    "    elif deg1 == 2 and deg2 == 1:\n",
    "        return f\"{id2} is an aunt/uncle of {id1}\"\n",
    "    elif deg1 == 2 and deg2 == 2:\n",
    "        return f\"{id1} and {id2} are first cousins\"\n",
    "    else:\n",
    "        return f\"{id1} and {id2} are related with common ancestor {ancestor}, {deg1} and {deg2} generations removed\"\n",
    "\n",
    "# Example usage\n",
    "if up_dict_log_like_list:\n",
    "    top_pedigree = up_dict_log_like_list[0][0]\n",
    "    \n",
    "    # Find relationships between several pairs of individuals\n",
    "    id_pairs = [(1000, 1003), (1005, 1007), (1010, 1015)]\n",
    "    for id1, id2 in id_pairs:\n",
    "        relationship = analyze_relationship(top_pedigree, id1, id2)\n",
    "        print(f\"Relationship between {id1} and {id2}: {relationship}\")"
   ]
  },
  {
   "cell_type": "code",
   "execution_count": null,
   "metadata": {},
   "outputs": [],
   "source": [
    "# 8. Validate Bonsai pedigree against truth (if available)\n",
    "def compare_to_truth(inferred_pedigree, truth_pedigree):\n",
    "    \"\"\"Compare the inferred pedigree to ground truth\"\"\"\n",
    "    \n",
    "    # Get all real individuals in both pedigrees\n",
    "    inferred_real_ids = [id for id in inferred_pedigree.keys() if isinstance(id, int) and id > 0]\n",
    "    truth_real_ids = [id for id in truth_pedigree.keys() if isinstance(id, int) and id > 0]\n",
    "    \n",
    "    common_ids = set(inferred_real_ids) & set(truth_real_ids)\n",
    "    print(f\"Common individuals: {len(common_ids)}\")\n",
    "    \n",
    "    # Check parent-child relationships\n",
    "    correct_relationships = 0\n",
    "    incorrect_relationships = 0\n",
    "    \n",
    "    for child in common_ids:\n",
    "        if child in inferred_pedigree and child in truth_pedigree:\n",
    "            inferred_parents = set(inferred_pedigree[child].keys())\n",
    "            truth_parents = set(truth_pedigree[child].keys())\n",
    "            \n",
    "            # In the inferred pedigree, parents are often inferred ancestors\n",
    "            # So we need to trace up to find real parents for comparison\n",
    "            \n",
    "            # This is a simplified approach:\n",
    "            if any(p in truth_parents for p in inferred_parents):\n",
    "                correct_relationships += 1\n",
    "            else:\n",
    "                incorrect_relationships += 1\n",
    "    \n",
    "    print(f\"Correctly inferred relationships: {correct_relationships}\")\n",
    "    print(f\"Incorrectly inferred relationships: {incorrect_relationships}\")\n",
    "    \n",
    "    accuracy = correct_relationships / (correct_relationships + incorrect_relationships) if (correct_relationships + incorrect_relationships) > 0 else 0\n",
    "    print(f\"Accuracy: {accuracy:.2%}\")\n",
    "\n",
    "compare_to_truth(top_pedigree, truth_pedigree)"
   ]
  },
  {
   "cell_type": "code",
   "execution_count": 76,
   "metadata": {},
   "outputs": [
    {
     "data": {
      "image/png": "[encoded data removed]",
      "text/plain": [
       "<Figure size 1000x600 with 1 Axes>"
      ]
     },
     "metadata": {},
     "output_type": "display_data"
    }
   ],
   "source": [
    "# 9. Plot IBD sharing vs relationship degree in the pedigree\n",
    "import seaborn as sns\n",
    "\n",
    "def plot_ibd_vs_relationship(pedigree, ibd_seg_list):\n",
    "    \"\"\"Plot the relationship between IBD sharing and relationship degree\"\"\"\n",
    "    # Calculate total IBD sharing between all pairs\n",
    "    ibd_sharing = {}\n",
    "    for seg in ibd_seg_list:\n",
    "        id1, id2 = seg[0], seg[1]\n",
    "        pair = tuple(sorted([id1, id2]))\n",
    "        ibd_sharing[pair] = ibd_sharing.get(pair, 0) + seg[6]  # Add segment length\n",
    "    \n",
    "    # Analyze relationships in the pedigree\n",
    "    relationships = []\n",
    "    ibd_amounts = []\n",
    "    \n",
    "    for pair, ibd_amount in ibd_sharing.items():\n",
    "        id1, id2 = pair\n",
    "        if id1 in pedigree and id2 in pedigree:\n",
    "            relationship = analyze_relationship(pedigree, id1, id2)\n",
    "            # Extract degree from relationship string (simplified)\n",
    "            if \"generations removed\" in relationship:\n",
    "                try:\n",
    "                    degree = sum([int(s) for s in relationship.split() if s.isdigit()])\n",
    "                    relationships.append(degree)\n",
    "                    ibd_amounts.append(ibd_amount)\n",
    "                except:\n",
    "                    pass\n",
    "    \n",
    "    # Plot\n",
    "    plt.figure(figsize=(10, 6))\n",
    "    sns.scatterplot(x=relationships, y=ibd_amounts)\n",
    "    plt.xlabel(\"Relationship Degree\")\n",
    "    plt.ylabel(\"Total IBD Sharing (cM)\")\n",
    "    plt.title(\"IBD Sharing vs Relationship Degree\")\n",
    "    plt.show()\n",
    "\n",
    "plot_ibd_vs_relationship(top_pedigree, filtered_ibd_seg_list_v1)"
   ]
  },
  {
   "cell_type": "code",
   "execution_count": 77,
   "metadata": {},
   "outputs": [
    {
     "name": "stdout",
     "output_type": "stream",
     "text": [
      "Pedigree exported to /home/lakishadavid/computational_genetic_genealogy/results/exported_pedigree.txt\n"
     ]
    }
   ],
   "source": [
    "# 10. Export pedigree in a standard format (e.g., GEDCOM-like)\n",
    "def export_pedigree(pedigree, bioinfo, output_file):\n",
    "    \"\"\"Export the pedigree in a standard format\"\"\"\n",
    "    # Create a mapping of ID to sex and age\n",
    "    id_to_info = {info['genotype_id']: (info['sex'], info['age']) for info in bioinfo}\n",
    "    \n",
    "    with open(output_file, 'w') as f:\n",
    "        f.write(\"# Exported Pedigree\\n\")\n",
    "        f.write(\"# Format: ID Sex Age Parent1 Parent2\\n\")\n",
    "        \n",
    "        # Process all individuals, starting with real ones\n",
    "        real_ids = sorted([id for id in pedigree.keys() if isinstance(id, int) and id > 0])\n",
    "        inferred_ids = sorted([id for id in pedigree.keys() if isinstance(id, int) and id < 0])\n",
    "        \n",
    "        # Write real individuals first\n",
    "        for id in real_ids:\n",
    "            sex, age = id_to_info.get(id, ('U', 0))\n",
    "            parents = list(pedigree.get(id, {}).keys())\n",
    "            parent1 = parents[0] if len(parents) > 0 else 0\n",
    "            parent2 = parents[1] if len(parents) > 1 else 0\n",
    "            \n",
    "            f.write(f\"{id} {sex} {age} {parent1} {parent2}\\n\")\n",
    "        \n",
    "        # Then write inferred individuals\n",
    "        for id in inferred_ids:\n",
    "            # For inferred individuals, we can assume they're one generation older than their children\n",
    "            children = [child for child, parents in pedigree.items() if id in parents]\n",
    "            \n",
    "            # Infer sex based on placement if possible\n",
    "            inferred_sex = 'U'  # Unknown\n",
    "            \n",
    "            # Infer approximate age based on children's ages if possible\n",
    "            inferred_age = 0\n",
    "            for child in children:\n",
    "                if child in id_to_info:\n",
    "                    child_age = id_to_info[child][1]\n",
    "                    if inferred_age == 0 or child_age + 20 < inferred_age:\n",
    "                        inferred_age = child_age + 20\n",
    "            \n",
    "            parents = list(pedigree.get(id, {}).keys())\n",
    "            parent1 = parents[0] if len(parents) > 0 else 0\n",
    "            parent2 = parents[1] if len(parents) > 1 else 0\n",
    "            \n",
    "            f.write(f\"{id} {inferred_sex} {inferred_age} {parent1} {parent2}\\n\")\n",
    "    \n",
    "    print(f\"Pedigree exported to {output_file}\")\n",
    "\n",
    "# Example usage\n",
    "if up_dict_log_like_list:\n",
    "    export_pedigree(\n",
    "        up_dict_log_like_list[0][0], \n",
    "        filtered_bioinfo, \n",
    "        os.path.join(results_directory, 'exported_pedigree.txt')\n",
    "    )"
   ]
  }
 ],
 "metadata": {
  "colab": {
   "provenance": []
  },
  "kernelspec": {
   "display_name": ".venv",
   "language": "python",
   "name": "python3"
  },
  "language_info": {
   "codemirror_mode": {
    "name": "ipython",
    "version": 3
   },
   "file_extension": ".py",
   "mimetype": "text/x-python",
   "name": "python",
   "nbconvert_exporter": "python",
   "pygments_lexer": "ipython3",
   "version": "3.12.3"
  }
 },
 "nbformat": 4,
 "nbformat_minor": 0
}