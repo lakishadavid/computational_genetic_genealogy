{
 "cells": [
  {
   "cell_type": "code",
   "execution_count": null,
   "metadata": {},
   "outputs": [],
   "source": [
    "import os\n",
    "from collections import Counter\n",
    "import logging\n",
    "import sys\n",
    "from pathlib import Path\n",
    "import subprocess\n",
    "import os\n",
    "import matplotlib.pyplot as plt\n",
    "import seaborn as sns\n",
    "from IPython.display import display, HTML\n",
    "import IPython\n",
    "import pandas as pd\n",
    "import boto3\n",
    "\n",
    "from dotenv import load_dotenv"
   ]
  },
  {
   "cell_type": "code",
   "execution_count": null,
   "metadata": {},
   "outputs": [],
   "source": [
    "# Environment setup for cross-compatibility\n",
    "from scripts_support.lab_cross_compatibility import setup_environment, is_jupyterlite\n\n",
    "# Set up environment-specific paths\n",
    "DATA_DIR, RESULTS_DIR = setup_environment()\n\n",
    "# Now you can use DATA_DIR and RESULTS_DIR consistently across environments\n"
   ]
  },
  {
   "cell_type": "code",
   "execution_count": null,
   "metadata": {},
   "outputs": [],
   "source": [
    "# Environment setup for cross-compatibility\n",
    "from scripts_support.lab_cross_compatibility import setup_environment, is_jupyterlite\n\n",
    "# Set up environment-specific paths\n",
    "DATA_DIR, RESULTS_DIR = setup_environment()\n\n",
    "# Now you can use DATA_DIR and RESULTS_DIR consistently across environments\n"
   ]
  },
  {
   "cell_type": "code",
   "execution_count": null,
   "metadata": {},
   "outputs": [],
   "source": [
    "def configure_logging(log_filename, log_file_debug_level=\"INFO\", console_debug_level=\"INFO\"):\n",
    "    \"\"\"\n",
    "    Configure logging for both file and console handlers.\n",
    "\n",
    "    Args:\n",
    "        log_filename (str): Path to the log file where logs will be written.\n",
    "        log_file_debug_level (str): Logging level for the file handler.\n",
    "        console_debug_level (str): Logging level for the console handler.\n",
    "    \"\"\"\n",
    "    # Create a root logger\n",
    "    logger = logging.getLogger()\n",
    "    logger.setLevel(logging.DEBUG)  # Capture all messages at the root level\n",
    "\n",
    "    # Convert level names to numeric levels\n",
    "    file_level = getattr(logging, log_file_debug_level.upper(), logging.INFO)\n",
    "    console_level = getattr(logging, console_debug_level.upper(), logging.INFO)\n",
    "\n",
    "    # File handler: Logs messages at file_level and above to the file\n",
    "    file_handler = logging.FileHandler(log_filename)\n",
    "    file_handler.setLevel(file_level)\n",
    "    file_formatter = logging.Formatter('%(asctime)s - %(levelname)s - %(message)s')\n",
    "    file_handler.setFormatter(file_formatter)\n",
    "\n",
    "    # Console handler: Logs messages at console_level and above to the console\n",
    "    console_handler = logging.StreamHandler(sys.stdout)\n",
    "    console_handler.setLevel(console_level)\n",
    "    console_formatter = logging.Formatter('%(asctime)s - %(levelname)s - %(message)s')\n",
    "    console_handler.setFormatter(console_formatter)\n",
    "\n",
    "    # Add handlers to the root logger\n",
    "    logger.addHandler(file_handler)\n",
    "    logger.addHandler(console_handler)\n",
    "    \n",
    "def clear_logger():\n",
    "    \"\"\"Remove all handlers from the root logger.\"\"\"\n",
    "    logger = logging.getLogger()\n",
    "    for handler in logger.handlers[:]:\n",
    "        logger.removeHandler(handler)"
   ]
  },
  {
   "cell_type": "code",
   "execution_count": null,
   "metadata": {},
   "outputs": [],
   "source": [
    "log_filename = os.path.join(results_directory, \"lab5.log\")\n",
    "print(f\"The Lab 5 log file is located at {log_filename}.\")\n",
    "\n",
    "# Ensure the results_directory exists\n",
    "if not os.path.exists(results_directory):\n",
    "    os.makedirs(results_directory)\n",
    "\n",
    "# Check if the file exists; if not, create it\n",
    "if not os.path.exists(log_filename):\n",
    "    with open(log_filename, 'w') as file:\n",
    "        pass  # The file is now created.\n",
    "    \n",
    "clear_logger() # Clear the logger before reconfiguring it\n",
    "configure_logging(log_filename, log_file_debug_level=\"INFO\", console_debug_level=\"INFO\")"
   ]
  },
  {
   "cell_type": "markdown",
   "metadata": {},
   "source": [
    "### Genetic Map"
   ]
  },
  {
   "cell_type": "markdown",
   "metadata": {},
   "source": [
    "Use your existing Beagle genetic maps to create the genetic maps for IBIS. If you already have these genetic maps, you do not need to rerun these cells to download the genetic maps again."
   ]
  },
  {
   "cell_type": "code",
   "execution_count": null,
   "metadata": {},
   "outputs": [],
   "source": [
    "def preprocess_ibis_map():\n",
    "    beagle_map_dir = os.path.join(references_directory, \"genetic_maps/beagle_genetic_maps\")\n",
    "    ibis_map_dir = os.path.join(references_directory, \"genetic_maps/ibis_genetic_maps\")\n",
    "    os.makedirs(ibis_map_dir, exist_ok=True)\n",
    "    \n",
    "    for map_file in os.listdir(beagle_map_dir):\n",
    "        if map_file.endswith(\".map\"):\n",
    "            beagle_map_filename = os.path.join(beagle_map_dir, map_file)\n",
    "            ibis_map_filename = os.path.join(ibis_map_dir, map_file)\n",
    "            print(f\"Processing {beagle_map_filename} to create IBIS map...\")\n",
    "            \n",
    "            # For IBIS maps, we need: CHR POSITION GENETIC_POSITION [RATE]\n",
    "            # From Beagle maps which are: CHR . GENETIC_POSITION PHYSICAL_POSITION\n",
    "            # Move the genetic position to column 3 (not 4)\n",
    "            command = f\"awk '{{print $1, $4, $3, 0}}' {beagle_map_filename} > {ibis_map_filename}\"\n",
    "            \n",
    "            subprocess.run(command, shell=True, check=True)\n",
    "    print(\"All Beagle genetic maps converted to IBIS format.\")"
   ]
  },
  {
   "cell_type": "code",
   "execution_count": null,
   "metadata": {},
   "outputs": [],
   "source": [
    "# Set up output directories\n",
    "genetic_maps_dir = os.path.join(references_directory, \"genetic_maps\")\n",
    "os.makedirs(genetic_maps_dir, exist_ok=True)\n",
    "\n",
    "ibis_genetic_maps = os.path.join(genetic_maps_dir, \"ibis_genetic_maps\")\n",
    "os.makedirs(ibis_genetic_maps, exist_ok=True)\n",
    "\n",
    "assembly = \"GRCh38\"\n",
    "preprocess_ibis_map()\n",
    "\n",
    "# # Alternative source\n",
    "# plink2_genetic_map_url=\"https://alkesgroup.broadinstitute.org/Eagle/downloads/tables/genetic_map_hg38_withX.txt.gz\""
   ]
  },
  {
   "cell_type": "markdown",
   "metadata": {},
   "source": [
    "**Visual Inspection**\n",
    "\n",
    "The above code should have created a set of genetic map files in the format that IBIS use. Look in your `references/genetic_mpas` directory and check for the `ibis_genetic_maps` subdirectory and individual by chromosome files within `ibis_genetic_maps`. Open the chromosome 1 file of both `ibis_genetic_maps` and `beagle_genetic_maps`. Compare them, visually. How are they similar? How are they different?"
   ]
  },
  {
   "cell_type": "markdown",
   "metadata": {},
   "source": [
    "### Change the format of the data files from VCF to BED."
   ]
  },
  {
   "cell_type": "markdown",
   "metadata": {},
   "source": [
    "**Select your VCF file**\n",
    "\n",
    "In the next cell, uncomment the file you want to use."
   ]
  },
  {
   "cell_type": "code",
   "execution_count": null,
   "metadata": {},
   "outputs": [],
   "source": [
    "# vcf_file = os.path.join(results_directory, \"merged_sample_autosomes_unphased.vcf.gz\")\n",
    "# vcf_directory = os.path.join(results_directory, \"real_data_autosomes\")\n",
    "\n",
    "vcf_file = os.path.join(results_directory, \"ped_sim_run2_autosomes.vcf.gz\")\n",
    "vcf_directory = os.path.join(results_directory, \"ped_sim_run2_autosomes\")"
   ]
  },
  {
   "cell_type": "code",
   "execution_count": null,
   "metadata": {},
   "outputs": [],
   "source": [
    "%%bash -s \"$vcf_file\" \"$vcf_directory\"\n",
    "\n",
    "vcf_file=\"$1\"\n",
    "vcf_directory=\"$2\"\n",
    "\n",
    "# Extract the file prefix (removing .vcf.gz extension)\n",
    "output_prefix=\"${vcf_file%.vcf.gz}\"\n",
    "# Get base name of the VCF file\n",
    "base_name=$(basename \"$output_prefix\")\n",
    "echo \"base_name: ${base_name}\"\n",
    "\n",
    "# Create the output directory if it does not exist\n",
    "mkdir -p \"${vcf_directory}/segments\"\n",
    "mkdir -p \"${vcf_directory}/unphased_samples\"\n",
    "\n",
    "# Ensure the PLINK2 executable exists\n",
    "if [[ ! -f \"${UTILS_DIRECTORY}/plink2\" ]]; then\n",
    "    echo \"Error: PLINK2 executable not found: ${UTILS_DIRECTORY}/plink2\"\n",
    "fi\n",
    "\n",
    "# Check if the file exists\n",
    "if [[ ! -f \"${vcf_file}\" ]]; then\n",
    "    echo \"File not found: ${vcf_file}\"\n",
    "fi\n",
    "\n",
    "# Convert the VCF file to PLINK format\n",
    "plink2 --vcf \"${vcf_file}\" --autosome --make-bed --out \"${vcf_directory}/unphased_samples/${base_name}\"\n",
    "\n",
    "# Check exit status\n",
    "if [[ $? -eq 0 ]]; then\n",
    "    echo \"PLINK2 successfully processed: ${vcf_file}\"\n",
    "else\n",
    "    echo \"Error processing ${vcf_file}\" >&2\n",
    "fi"
   ]
  },
  {
   "cell_type": "markdown",
   "metadata": {},
   "source": [
    "Explanation:\n",
    "- `data_directory`, `utils_directory`, and `results_directory` are passed as arguments and assigned.\n",
    "- The script verifies that plink2 exists and that the phased_samples_dir is a valid directory.\n",
    "- It loops over files matching opensnps_phased_*.vcf.gz, checking if they exist before processing.\n",
    "- Uses PLINK2 to convert each .vcf.gz file to PLINK binary format (.bed, .bim, .fam).\n",
    "- Handles errors and prints appropriate messages."
   ]
  },
  {
   "cell_type": "markdown",
   "metadata": {},
   "source": [
    "### Add Genetic Map to Bim File\n",
    "(as per the IBIS developer)"
   ]
  },
  {
   "cell_type": "code",
   "execution_count": null,
   "metadata": {},
   "outputs": [],
   "source": [
    "%%bash -s \"$vcf_file\" \"$vcf_directory\"\n",
    "\n",
    "vcf_file=\"$1\"\n",
    "vcf_directory=\"$2\"\n",
    "\n",
    "# Extract the file prefix (removing .vcf.gz extension)\n",
    "output_prefix=\"${vcf_file%.vcf.gz}\"\n",
    "# Get base name of the VCF file\n",
    "base_name=$(basename \"$output_prefix\")\n",
    "echo \"base_name: ${base_name}\"\n",
    "\n",
    "head -10 ${vcf_directory}/unphased_samples/${base_name}.bim\n",
    "\n",
    "python scripts_support/add_genetic_map.py \\\n",
    "  ${vcf_directory}/unphased_samples/${base_name}.bim \\\n",
    "  ${REFERENCES_DIRECTORY}/genetic_maps/ibis_genetic_maps \\\n",
    "  ${vcf_directory}/unphased_samples/${base_name}_withgm.bim\n",
    "  \n",
    "head -10 ${vcf_directory}/unphased_samples/${base_name}_withgm.bim"
   ]
  },
  {
   "cell_type": "markdown",
   "metadata": {},
   "source": [
    "Explanation:\n",
    "- The script assigns arguments to data_directory, references_directory, and utils_directory.\n",
    "- It verifies the existence of the add-map-plink.pl script.\n",
    "- It checks for .bim files in data_directory, ensuring at least one exists.\n",
    "- Extracts the chromosome number from the .bim filename.\n",
    "- Determines the corresponding genetic map file.\n",
    "- If the necessary files exist, it runs the Perl script to append the genetic map.\n",
    "- The new .bim file is saved with a _gm.bim suffix.\n",
    "- Errors are handled with messages and exit codes."
   ]
  },
  {
   "cell_type": "code",
   "execution_count": null,
   "metadata": {},
   "outputs": [],
   "source": [
    "%%bash -s \"$vcf_file\" \"$vcf_directory\"\n",
    "\n",
    "vcf_file=\"$1\"\n",
    "vcf_directory=\"$2\"\n",
    "\n",
    "# Extract the file prefix (removing .vcf.gz extension)\n",
    "output_prefix=\"${vcf_file%.vcf.gz}\"\n",
    "# Get base name of the VCF file\n",
    "base_name=$(basename \"$output_prefix\")\n",
    "echo \"base_name: ${base_name}\"\n",
    "\n",
    "# Create the output directory if it does not exist\n",
    "mkdir -p \"${vcf_directory}/segments\"\n",
    "mkdir -p \"${vcf_directory}/unphased_samples\"\n",
    "\n",
    "# Copy the original .bed and .fam files\n",
    "cp ${vcf_directory}/unphased_samples/${base_name}.bed ${vcf_directory}/unphased_samples/${base_name}_withgm.bed\n",
    "cp ${vcf_directory}/unphased_samples/${base_name}.fam ${vcf_directory}/unphased_samples/${base_name}_withgm.fam\n",
    "      \n",
    "plink2 --bfile ${vcf_directory}/unphased_samples/${base_name}_withgm \\\n",
    "      --snps-only just-acgt \\\n",
    "      --max-alleles 2 \\\n",
    "      --min-alleles 2 \\\n",
    "      --rm-dup force-first \\\n",
    "      --make-bed \\\n",
    "      --out ${vcf_directory}/unphased_samples/${base_name}_withgm_filtered"
   ]
  },
  {
   "cell_type": "markdown",
   "metadata": {},
   "source": [
    "### Run the IBD Detection Algorithm"
   ]
  },
  {
   "cell_type": "code",
   "execution_count": null,
   "metadata": {},
   "outputs": [],
   "source": [
    "%%bash -s \"$vcf_file\" \"$vcf_directory\"\n",
    "\n",
    "vcf_file=\"$1\"\n",
    "vcf_directory=\"$2\"\n",
    "\n",
    "# Extract the file prefix (removing .vcf.gz extension)\n",
    "output_prefix=\"${vcf_file%.vcf.gz}\"\n",
    "# Get base name of the VCF file\n",
    "base_name=$(basename \"$output_prefix\")\n",
    "echo \"base_name: ${base_name}\"\n",
    "\n",
    "# Create the output directory if it does not exist\n",
    "mkdir -p \"${vcf_directory}/segments\"\n",
    "mkdir -p \"${vcf_directory}/unphased_samples\"\n",
    "\n",
    "# Define the IBIS executable path\n",
    "ibis=\"${UTILS_DIRECTORY}/ibis/ibis\"\n",
    "\n",
    "# Ensure the IBIS executable exists\n",
    "if [[ ! -f \"${ibis}\" ]]; then\n",
    "    echo \"Error: IBIS executable not found: ${ibis}\" >&2\n",
    "fi\n",
    "\n",
    "bed_file=\"${vcf_directory}/unphased_samples/${base_name}_withgm_filtered.bed\"\n",
    "bim_file=\"${vcf_directory}/unphased_samples/${base_name}_withgm_filtered.bim\"\n",
    "fam_file=\"${vcf_directory}/unphased_samples/${base_name}_withgm_filtered.fam\"\n",
    "${ibis} ${bed_file} ${bim_file} ${fam_file} -min_l 7 -mt 500 -er .004 \\\n",
    "    -ibd2 \\\n",
    "    -o \"${vcf_directory}/segments/${base_name}_ibis\" \\\n",
    "    -printCoef -noFamID\n",
    "\n",
    "# Check exit status\n",
    "if [[ $? -eq 0 ]]; then\n",
    "    echo \"IBIS analysis completed successfully.\"\n",
    "else\n",
    "    echo \"Error running IBIS analysis.\" >&2\n",
    "fi"
   ]
  },
  {
   "cell_type": "markdown",
   "metadata": {},
   "source": [
    "# IBIS Output File Descriptions\n",
    "\n",
    "## IBIS\n",
    "This file contains detailed information about identity-by-descent (IBD) segments shared between pairs of individuals.\n",
    "\n",
    "### Columns:\n",
    "- **sample1, sample2**: IDs of the two individuals being compared for shared genetic segments.\n",
    "- **chrom**: Chromosome number where the IBD segment is located.\n",
    "- **phys_start_pos, phys_end_pos**: Start and end positions of the IBD segment in base pairs (physical positions).\n",
    "- **IBD_type**: Type of IBD segment (e.g., IBD1 for sharing one parental haplotype or IBD2 for sharing both parental haplotypes).\n",
    "- **genetic_start_pos, genetic_end_pos**: Start and end positions of the segment in genetic map units (centiMorgans).\n",
    "- **genetic_seg_length**: Length of the IBD segment in centiMorgans (genetic distance).\n",
    "- **marker_count**: Number of genetic markers (SNPs) within the segment.\n",
    "- **error_count**: Total number of mismatches or genotyping errors detected in the segment.\n",
    "- **error_density**: Average error rate per marker in the segment (error_count divided by marker_count).\n",
    "\n",
    "---\n",
    "\n",
    "## Coef\n",
    "This file provides information about pairwise kinship coefficients and degrees of relatedness.\n",
    "\n",
    "### Columns:\n",
    "- **sample1, sample2**: IDs of the two individuals being compared.\n",
    "- **kinship_coefficient**: A measure of genetic similarity between the individuals, ranging from 0 (no relation) to higher values for close relatives.\n",
    "- **IBD2_fraction**: Proportion of the genome where both parental haplotypes are shared between the individuals.\n",
    "- **segment_count**: Total number of IBD segments identified between the individuals.\n",
    "- **degree_of_relatedness**: Classification of the relationship based on kinship (e.g., siblings, cousins).\n",
    "\n",
    "---\n",
    "\n",
    "## IBD2\n",
    "Represents segments where two individuals share both parental haplotypes.  \n",
    "IBD2 is particularly useful in identifying siblings or individuals with close familial ties, as these segments indicate inheritance from both sides of the family.\n",
    "\n",
    "---\n",
    "\n",
    "## HBD (Runs of Homozygosity)\n",
    "Indicates segments where an individual has matching haplotypes on both chromosomes, likely due to inheritance from a common ancestor.  \n",
    "This is a measure of inbreeding or autozygosity (when an individual inherits identical haplotypes from both parents).\n",
    "\n",
    "### Columns:\n",
    "- **sample_id**: ID of the individual being analyzed for HBD segments.\n",
    "- **chrom**: Chromosome number where the HBD segment is located.\n",
    "- **phys_start_pos, phys_end_pos**: Start and end positions of the HBD segment in base pairs.\n",
    "- **HBD_type**: Type or classification of the HBD segment.\n",
    "- **genetic_start_pos, genetic_end_pos**: Start and end positions of the segment in genetic map units (centiMorgans).\n",
    "- **genetic_seg_length**: Length of the HBD segment in centiMorgans.\n",
    "- **marker_count**: Number of genetic markers (SNPs) in the segment.\n",
    "- **error_count**: Total number of mismatches or genotyping errors detected in the segment.\n",
    "- **error_density**: Average error rate per marker in the segment.\n",
    "\n",
    "---\n",
    "\n",
    "## Incoef\n",
    "Provides inbreeding coefficients for individuals, based on HBD analysis.\n",
    "\n",
    "### Columns:\n",
    "- **sample_id**: ID of the individual being analyzed.\n",
    "- **inbreeding_coefficient**: A measure of inbreeding for the individual, reflecting the proportion of the genome covered by HBD segments.\n",
    "- **segment_count**: Total number of HBD segments identified in the individual's genome."
   ]
  },
  {
   "cell_type": "code",
   "execution_count": null,
   "metadata": {},
   "outputs": [],
   "source": [
    "base_name = os.path.basename(vcf_directory)\n",
    "print(base_name)"
   ]
  },
  {
   "cell_type": "markdown",
   "metadata": {},
   "source": [
    "### Explore The Coefficients Results"
   ]
  },
  {
   "cell_type": "code",
   "execution_count": null,
   "metadata": {},
   "outputs": [],
   "source": [
    "def explore_coefficients(\n",
    "    coefficients, \n",
    "    focus_on_related=True, \n",
    "    save_plots=True, \n",
    "    show_plots=True,\n",
    "    output_dir=os.path.join(vcf_directory, \"segments\")\n",
    "    ):\n",
    "    \"\"\"\n",
    "    Reads and explores the coefficients file from the results directory.\n",
    "    Includes handling for missing values and options to focus on related individuals.\n",
    "    \n",
    "    Parameters:\n",
    "        results_directory (str): Directory containing the result files.\n",
    "        filename (str): Filename of the coefficients file.\n",
    "        focus_on_related (bool): If True, focuses analysis on related individuals (Degree > 0).\n",
    "        save_plots (bool): If True, saves plots to the specified output directory.\n",
    "        output_dir (str): Directory to save plots.\n",
    "    \n",
    "    Returns:\n",
    "        pd.DataFrame: Processed coefficients DataFrame for further analysis.\n",
    "    \"\"\"\n",
    "        \n",
    "    # Save both full and filtered data if focus_on_related is True\n",
    "    full_data = coefficients.copy()\n",
    "    filtered_data = None\n",
    "\n",
    "    if focus_on_related:\n",
    "        print(\"\\nFocusing on related individuals (Degree > 0).\")\n",
    "        filtered_data = full_data[full_data['Degree'] > 0]\n",
    "        print(f\"Filtered DataFrame Info (Degree > 0):\")\n",
    "        filtered_data.info()\n",
    "        print(\"\\n=== Descriptive Statistics (Filtered) ===\")\n",
    "        print(filtered_data.describe())\n",
    "        print(\"\\n\")\n",
    "        filtered_file_path = os.path.join(output_dir, \"filtered_coefficients.csv\")\n",
    "        filtered_data.to_csv(filtered_file_path, index=False)\n",
    "        print(f\"Filtered coefficients saved to: {filtered_file_path}\")\n",
    "\n",
    "    # Save and print the full data\n",
    "    print(\"\\nFull DataFrame Info:\")\n",
    "    full_data.info()\n",
    "    print(\"\\n=== Descriptive Statistics (Full) ===\")\n",
    "    print(full_data.describe())\n",
    "    print(\"\\n\")\n",
    "    full_file_path = os.path.join(output_dir, \"full_coefficients.csv\")\n",
    "    full_data.to_csv(full_file_path, index=False)\n",
    "    print(f\"Full coefficients saved to: {full_file_path}\")\n",
    "\n",
    "    # Analyze both datasets\n",
    "    datasets = {\"Full\": full_data, \"Filtered\": filtered_data} if focus_on_related else {\"Full\": full_data}\n",
    "\n",
    "    for name, data in datasets.items():\n",
    "        if data is not None:\n",
    "            print(f\"\\n=== Analyzing {name} Data ===\")\n",
    "            \n",
    "            # Counts by Degree\n",
    "            degree_grouped_counts = data['Degree'].value_counts().sort_index()\n",
    "            degree_grouped_counts_df = degree_grouped_counts.reset_index(name='Count')\n",
    "            degree_grouped_counts_df.columns = ['Degree', 'Count']\n",
    "            print(f\"=== Counts by Degree ({name}) ===\")\n",
    "            print(degree_grouped_counts_df)\n",
    "            \n",
    "            # Save HTML table\n",
    "            html_table = degree_grouped_counts_df.to_html(index=False)\n",
    "            html_file_path = os.path.join(output_dir, f\"{name.lower()}_degree_counts.html\")\n",
    "            with open(html_file_path, \"w\") as f:\n",
    "                f.write(html_table)\n",
    "            print(f\"HTML table for {name} data saved to: {html_file_path}\")\n",
    "\n",
    "            # Display in Jupyter if available\n",
    "            if hasattr(IPython, 'get_ipython') and IPython.get_ipython() is not None:\n",
    "                display(HTML(html_table))\n",
    "\n",
    "            # Visualizations\n",
    "            def save_or_show_plot(fig, filename):\n",
    "                if save_plots:\n",
    "                    fig.savefig(os.path.join(output_dir, f\"{name.lower()}_{filename}\"))\n",
    "                if show_plots:\n",
    "                    plt.show()\n",
    "                plt.close(fig)\n",
    "\n",
    "            # Degree distribution\n",
    "            fig, ax = plt.subplots(figsize=(8, 5))\n",
    "            sns.histplot(data['Degree'], bins=10, kde=False, ax=ax)\n",
    "            ax.set_title(f'Degree Distribution ({name})')\n",
    "            ax.set_xlabel('Degree')\n",
    "            ax.set_ylabel('Frequency')\n",
    "            save_or_show_plot(fig, \"degree_distribution.png\")\n",
    "\n",
    "            # Other plots\n",
    "            if 'Kinship_Coefficient' in data.columns:\n",
    "                fig, ax = plt.subplots(figsize=(8, 5))\n",
    "                sns.histplot(data['Kinship_Coefficient'], bins=30, kde=True, ax=ax)\n",
    "                ax.set_title(f'Kinship Coefficient Distribution ({name})')\n",
    "                ax.set_xlabel('Kinship Coefficient')\n",
    "                ax.set_ylabel('Frequency')\n",
    "                save_or_show_plot(fig, \"kinship_coefficient_distribution.png\")\n",
    "\n",
    "            if 'IBD2_Fraction' in data.columns:\n",
    "                fig, ax = plt.subplots(figsize=(8, 5))\n",
    "                sns.histplot(data['IBD2_Fraction'], bins=30, kde=True, ax=ax)\n",
    "                ax.set_title(f'IBD2 Fraction Distribution ({name})')\n",
    "                ax.set_xlabel('IBD2 Fraction')\n",
    "                ax.set_ylabel('Frequency')\n",
    "                save_or_show_plot(fig, \"ibd2_fraction_distribution.png\")\n",
    "\n",
    "            if all(col in data.columns for col in ['Kinship_Coefficient', 'IBD2_Fraction']):\n",
    "                fig, ax = plt.subplots(figsize=(8, 5))\n",
    "                sns.scatterplot(\n",
    "                    data=data,\n",
    "                    x='Kinship_Coefficient',\n",
    "                    y='IBD2_Fraction',\n",
    "                    hue='Degree', palette='viridis', ax=ax\n",
    "                )\n",
    "                ax.set_title(f'Kinship vs. IBD2 Fraction ({name})')\n",
    "                ax.set_xlabel('Kinship Coefficient')\n",
    "                ax.set_ylabel('IBD2 Fraction')\n",
    "                plt.legend(title='Degree')\n",
    "                save_or_show_plot(fig, \"kinship_vs_ibd2_fraction.png\")\n",
    "\n",
    "            # Correlation matrix\n",
    "            numeric_cols = ['Kinship_Coefficient', 'IBD2_Fraction', 'Segment_Count']\n",
    "            existing_cols = [col for col in numeric_cols if col in data.columns]\n",
    "            if existing_cols:\n",
    "                fig, ax = plt.subplots(figsize=(6, 5))\n",
    "                corr = data[existing_cols].corr()\n",
    "                sns.heatmap(corr, annot=True, cmap='Blues', square=True, ax=ax)\n",
    "                ax.set_title(f'Correlation Matrix ({name})')\n",
    "                save_or_show_plot(fig, \"correlation_matrix.png\")\n",
    "\n",
    "    print(\"\\nAnalysis completed.\")\n",
    "    return"
   ]
  },
  {
   "cell_type": "code",
   "execution_count": null,
   "metadata": {},
   "outputs": [],
   "source": [
    "file_path=os.path.join(vcf_directory, \"segments\", f\"{base_name}_ibis.coef\")\n",
    "print(f\"File path: {file_path}\")\n",
    "\n",
    "# Make sure file_path exists\n",
    "if not os.path.exists(file_path):\n",
    "    raise FileNotFoundError(f\"The file {file_path} does not exist.\")\n",
    "\n",
    "# Step 1: Read the coefficients file\n",
    "coefficients = pd.read_csv(file_path, sep=\"\\t\", low_memory=False)\n",
    "\n",
    "explore_coefficients(\n",
    "    coefficients=coefficients,\n",
    "    focus_on_related=True, \n",
    "    save_plots=True,\n",
    "    show_plots=True,\n",
    "    output_dir=os.path.join(vcf_directory, \"segments\")\n",
    "    )"
   ]
  },
  {
   "cell_type": "markdown",
   "metadata": {},
   "source": [
    "### New Results\n",
    "\n",
    "Look in your `results/segments` directory. You should see several new files. The image files are the ones that with the `.png` extension. Look at the 5 image files that start wtih `filtered_`. What do you think these mean?"
   ]
  },
  {
   "cell_type": "markdown",
   "metadata": {},
   "source": [
    "### Explore The Segments Results"
   ]
  },
  {
   "cell_type": "code",
   "execution_count": null,
   "metadata": {},
   "outputs": [],
   "source": [
    "seg_file = os.path.join(vcf_directory, \"segments\", f\"{base_name}_ibis.seg\")\n",
    "\n",
    "seg_data_temp = pd.read_csv(seg_file, sep=\"\\t\", header=None)\n",
    "seg_data_temp.columns = [\n",
    "    \"sample1\", \"sample2\", \"chrom\", \n",
    "    \"phys_start_pos\", \"phys_end_pos\", \n",
    "    \"IBD_type\", \"genetic_start_pos\", \n",
    "    \"genetic_end_pos\", \"genetic_seg_length\", \n",
    "    \"marker_count\", \"error_count\", \"error_density\"\n",
    "    ]\n",
    "seg_data = seg_data_temp.sort_values(\n",
    "    by=[\"chrom\", \"phys_start_pos\", \"phys_end_pos\", \"IBD_type\"],\n",
    "    ascending=[True, True, True, True]\n",
    ")\n",
    "\n",
    "output_file = os.path.join(vcf_directory, f\"{base_name}_ibis.csv\")\n",
    "seg_data.to_csv(output_file, sep=\"\\t\", index=False, header=False)\n",
    "print(f\"Saved {output_file}\")"
   ]
  },
  {
   "cell_type": "markdown",
   "metadata": {},
   "source": [
    "Notice the new file extension of `.csv`."
   ]
  },
  {
   "cell_type": "markdown",
   "metadata": {},
   "source": [
    "Let's create some data visualizations."
   ]
  },
  {
   "cell_type": "code",
   "execution_count": null,
   "metadata": {},
   "outputs": [],
   "source": [
    "def explore_segments_ibis(\n",
    "        segments,\n",
    "        min_length=7, \n",
    "        min_markers=436, \n",
    "        max_error_density=0.004,\n",
    "        save_plots=True,\n",
    "        show_plots=True,\n",
    "        output_dir=os.path.join(vcf_directory, \"segments\")\n",
    "):\n",
    "    \"\"\"\n",
    "    Explores and optionally filters the segments DataFrame.\n",
    "    \n",
    "    Parameters:\n",
    "        results_directory (str): Directory containing the segments file.\n",
    "        filename (str): Filename of the segments file.\n",
    "        min_length (float): Minimum genetic length threshold for filtering.\n",
    "        min_markers (int): Minimum marker count threshold for filtering.\n",
    "        max_error_density (float): Maximum error density threshold for filtering.\n",
    "        filter_segments_enabled (bool): If True, apply filtering to the segments.\n",
    "        save_plots (bool): If True, save plots to the specified directory.\n",
    "        output_dir (str): Directory to save outputs and plots.\n",
    "    \n",
    "    Returns:\n",
    "        pd.DataFrame: The segments DataFrame (filtered or unfiltered based on input).\n",
    "    \"\"\"\n",
    "\n",
    "    # Ensure numeric columns are properly parsed\n",
    "    numeric_columns = [\"genetic_length\", \"marker_count\", \"error_density\", \"chromosome\"]\n",
    "    for col in numeric_columns:\n",
    "        if col in segments.columns:\n",
    "            segments[col] = pd.to_numeric(segments[col], errors='coerce')\n",
    "\n",
    "    # Drop rows with NaN values in numeric columns\n",
    "    nan_rows = segments[segments[numeric_columns].isnull().any(axis=1)]\n",
    "    if not nan_rows.empty:\n",
    "        nan_file_path = os.path.join(output_dir, \"nan_segments_ibis.csv\")\n",
    "        nan_rows.to_csv(nan_file_path, sep=\"\\t\", index=False)\n",
    "        print(f\"Rows with NaN values saved to: {nan_file_path}\")\n",
    "    segments = segments.dropna(subset=numeric_columns).reset_index(drop=True)\n",
    "\n",
    "    # Step 2: Basic info and descriptive statistics\n",
    "    print(\"=== Segments DataFrame Info ===\")\n",
    "    segments.info()\n",
    "    print(\"\\n=== Descriptive Statistics ===\")\n",
    "    print(segments[['genetic_length', 'marker_count', 'error_density']].describe())\n",
    "    print(\"\\n\")\n",
    "\n",
    "    # Save the unfiltered data\n",
    "    unfiltered_file_path = os.path.join(output_dir, \"unfiltered_segments_ibis.csv\")\n",
    "    segments.to_csv(unfiltered_file_path, sep=\"\\t\", index=False)\n",
    "    print(f\"Unfiltered segments saved to: {unfiltered_file_path}\")\n",
    "    print()\n",
    "\n",
    "    filtered_segments = segments[\n",
    "        (segments['genetic_length'] >= min_length) &\n",
    "        (segments['marker_count'] >= min_markers) &\n",
    "        (segments['error_density'] <= max_error_density)\n",
    "    ].copy()\n",
    "    \n",
    "    print(\"=== Filtered Segments Info ===\")\n",
    "    filtered_segments.info()\n",
    "    print(\"\\n=== Descriptive Statistics (Filtered) ===\")\n",
    "    print(filtered_segments[['genetic_length', 'marker_count', 'error_density']].describe())\n",
    "    print(\"\\n\")\n",
    "    \n",
    "    # Save filtered segments to a new file\n",
    "    filtered_filename = \"filtered_segments_ibis.csv\"\n",
    "    filtered_file_path = os.path.join(output_dir, filtered_filename)\n",
    "    filtered_segments.to_csv(filtered_file_path, sep=\"\\t\", index=False)\n",
    "    print(f\"Filtered segments saved to: {filtered_file_path}\")\n",
    "\n",
    "    print(f\"\\nSummary:\")\n",
    "    print(f\"Total segments: {len(segments)}\")\n",
    "    print(f\"Filtered segments: {len(filtered_segments)}\")\n",
    "    if not nan_rows.empty:\n",
    "        print(f\"Rows with NaN values: {len(nan_rows)} (saved to: {nan_file_path})\")\n",
    "\n",
    "\n",
    "    # Step 4: Visualizations\n",
    "    def save_or_show_plot(fig, filename):\n",
    "        if save_plots:\n",
    "            fig.savefig(os.path.join(output_dir, filename))\n",
    "        if show_plots:\n",
    "            plt.show()\n",
    "        plt.close(fig)\n",
    "\n",
    "    def plot_distribution(data, column, title, xlabel, ylabel, filename, bins=30, kde=True):\n",
    "        fig, ax = plt.subplots(figsize=(8, 5))\n",
    "        sns.histplot(data[column], bins=bins, kde=kde, ax=ax)\n",
    "        ax.set_title(title)\n",
    "        ax.set_xlabel(xlabel)\n",
    "        ax.set_ylabel(ylabel)\n",
    "        save_or_show_plot(fig, filename)\n",
    "\n",
    "    # Visualize genetic_length distribution\n",
    "    plot_distribution(\n",
    "        segments, \"genetic_length\", \"Distribution of Genetic Length\", \n",
    "        \"Genetic Length (cM)\", \"Frequency\", \"genetic_length_distribution_unfiltered.png\"\n",
    "    )\n",
    "\n",
    "    plot_distribution(\n",
    "        filtered_segments, \"genetic_length\", \"Distribution of Genetic Length (Filtered)\", \n",
    "        \"Genetic Length (cM)\", \"Frequency\", \"genetic_length_distribution_filtered.png\"\n",
    "    )\n",
    "\n",
    "    # Visualize marker_count distribution\n",
    "    plot_distribution(\n",
    "        segments, \"marker_count\", \"Distribution of Marker Count\", \n",
    "        \"Marker Count\", \"Frequency\", \"marker_count_distribution_unfiltered.png\"\n",
    "    )\n",
    "    plot_distribution(\n",
    "        filtered_segments, \"marker_count\", \"Distribution of Marker Count (Filtered)\", \n",
    "        \"Marker Count\", \"Frequency\", \"marker_count_distribution_filtered.png\"\n",
    "    )\n",
    "\n",
    "    # Boxplot of genetic_length by chromosome\n",
    "    def plot_boxplot(data, x_col, y_col, title, xlabel, ylabel, filename):\n",
    "        fig, ax = plt.subplots(figsize=(10, 6))\n",
    "        sns.boxplot(x=x_col, y=y_col, data=data, ax=ax)\n",
    "        ax.set_title(title)\n",
    "        ax.set_xlabel(xlabel)\n",
    "        ax.set_ylabel(ylabel)\n",
    "        plt.xticks(rotation=45)\n",
    "        plt.tight_layout()\n",
    "        save_or_show_plot(fig, filename)\n",
    "\n",
    "    plot_boxplot(\n",
    "        segments, \"chromosome\", \"genetic_length\", \n",
    "        \"Distribution of Genetic Length by Chromosome\", \n",
    "        \"Chromosome\", \"Genetic Length (cM)\", \"genetic_length_by_chromosome_unfiltered.png\"\n",
    "    )\n",
    "    plot_boxplot(\n",
    "        filtered_segments, \"chromosome\", \"genetic_length\", \n",
    "        \"Distribution of Genetic Length by Chromosome (Filtered)\", \n",
    "        \"Chromosome\", \"Genetic Length (cM)\", \"genetic_length_by_chromosome_filtered.png\"\n",
    "    )\n",
    "\n",
    "    print(\"\\nAnalysis completed.\")\n",
    "    return"
   ]
  },
  {
   "cell_type": "code",
   "execution_count": null,
   "metadata": {},
   "outputs": [],
   "source": [
    "file_path = os.path.join(vcf_directory, f\"segments/{base_name}_ibis.seg\")\n",
    "segments = pd.read_csv(file_path, sep=\"\\t\", header=None)\n",
    "segments.columns = [\n",
    "    \"id1\", \"id2\", \"chromosome\", \"physical_position_start\", \n",
    "    \"physical_position_end\", \"IBD_type\", \"genetic_position_start\", \n",
    "    \"genetic_position_end\", \"genetic_length\", \"marker_count\", \n",
    "    \"error_count\", \"error_density\"\n",
    "    ]\n",
    "\n",
    "explore_segments_ibis(\n",
    "        segments,\n",
    "        min_length=7, \n",
    "        min_markers=436, \n",
    "        max_error_density=0.004,\n",
    "        save_plots=True,\n",
    "        show_plots=True,\n",
    "        output_dir=os.path.join(vcf_directory, \"segments\")\n",
    ")"
   ]
  },
  {
   "cell_type": "markdown",
   "metadata": {},
   "source": [
    "The plots were saved in your `results/segments` directory."
   ]
  },
  {
   "cell_type": "markdown",
   "metadata": {},
   "source": [
    "Take a look at the plots. What information are they communicating? Some are meaningful. Some less so. What other information do you think should be communicated?"
   ]
  },
  {
   "cell_type": "markdown",
   "metadata": {},
   "source": [
    "### Continue to explore the segment data."
   ]
  },
  {
   "cell_type": "markdown",
   "metadata": {},
   "source": [
    "The following cell takes the segment data output from IBIS IBD dectection algorithm and processes it using `pandas`."
   ]
  },
  {
   "cell_type": "code",
   "execution_count": null,
   "metadata": {},
   "outputs": [],
   "source": [
    "file_path = os.path.join(vcf_directory, f\"segments/{base_name}_ibis.seg\")\n",
    "segments = pd.read_csv(file_path, sep=\"\\t\", header=None)\n",
    "segments.columns = [\n",
    "    \"id1\", \"id2\", \"chromosome\", \"physical_position_start\", \n",
    "    \"physical_position_end\", \"IBD_type\", \"genetic_position_start\", \n",
    "    \"genetic_position_end\", \"genetic_length\", \"marker_count\", \n",
    "    \"error_count\", \"error_density\"\n",
    "]\n",
    "\n",
    "# Ensure numeric columns are properly parsed\n",
    "numeric_columns = [\"genetic_length\", \"marker_count\", \"error_density\", \"chromosome\"]\n",
    "for col in numeric_columns:\n",
    "    if col in segments.columns:\n",
    "        segments[col] = pd.to_numeric(segments[col], errors='coerce')\n",
    "\n",
    "segments = segments.dropna(subset=numeric_columns).reset_index(drop=True)"
   ]
  },
  {
   "cell_type": "markdown",
   "metadata": {},
   "source": [
    "The next cell allows you to look at the first five rows. Notice that the data now has column headers. The IBIS output file does not come with column headers. We have to look at the developers' GitHub page or other documenation to determine the names of the columns."
   ]
  },
  {
   "cell_type": "code",
   "execution_count": null,
   "metadata": {},
   "outputs": [],
   "source": [
    "segments.info()"
   ]
  },
  {
   "cell_type": "code",
   "execution_count": null,
   "metadata": {},
   "outputs": [],
   "source": [
    "segments.describe()"
   ]
  },
  {
   "cell_type": "code",
   "execution_count": null,
   "metadata": {},
   "outputs": [],
   "source": [
    "segments.head() # You can enter a number greater than 5 to view more rows"
   ]
  },
  {
   "cell_type": "markdown",
   "metadata": {},
   "source": [
    "Let's look at the IBD types"
   ]
  },
  {
   "cell_type": "code",
   "execution_count": null,
   "metadata": {},
   "outputs": [],
   "source": [
    "segments[\"IBD_type\"].value_counts()"
   ]
  },
  {
   "cell_type": "code",
   "execution_count": null,
   "metadata": {},
   "outputs": [],
   "source": [
    "segments_ibd1 = segments[segments[\"IBD_type\"] == \"IBD1\"]\n",
    "segments_ibd2 = segments[segments[\"IBD_type\"] == \"IBD2\"]\n",
    "\n",
    "display(segments_ibd1.head())\n",
    "display(segments_ibd2.head())"
   ]
  },
  {
   "cell_type": "code",
   "execution_count": null,
   "metadata": {},
   "outputs": [],
   "source": [
    "# Show all the segments that the first pair of individuals share in IBD1 segments\n",
    "segments_ibd1.loc[(segments[\"id1\"] == \"user2715\") & (segments[\"id2\"] == \"user2817\")]"
   ]
  },
  {
   "cell_type": "code",
   "execution_count": null,
   "metadata": {},
   "outputs": [],
   "source": [
    "segments_ibd1[[\"genetic_length\", \"marker_count\", \"error_count\", \"error_density\"]].describe()"
   ]
  },
  {
   "cell_type": "code",
   "execution_count": null,
   "metadata": {},
   "outputs": [],
   "source": [
    "# filter segments on min_length=7, min_markers=436, max_error_density=0.004,\n",
    "\n",
    "filtered_segments = segments_ibd1[\n",
    "    (segments[\"genetic_length\"] >= 7) & \n",
    "    (segments[\"marker_count\"] >= 436) & \n",
    "    (segments[\"error_density\"] <= 0.004)\n",
    "].copy()\n",
    "\n",
    "filtered_segments[[\"genetic_length\", \"marker_count\", \"error_count\", \"error_density\"]].describe()"
   ]
  },
  {
   "cell_type": "code",
   "execution_count": null,
   "metadata": {},
   "outputs": [],
   "source": [
    "filtered_segments_20cM = segments_ibd1[segments_ibd1[\"genetic_length\"] >= 20].copy()\n",
    "filtered_segments_20cM[[\"genetic_length\", \"marker_count\", \"error_count\", \"error_density\"]].describe()"
   ]
  },
  {
   "cell_type": "markdown",
   "metadata": {},
   "source": [
    "Let's aggregate the data by pairs instead of looking at it by segment."
   ]
  },
  {
   "cell_type": "code",
   "execution_count": null,
   "metadata": {},
   "outputs": [],
   "source": [
    "len(segments_ibd1)"
   ]
  },
  {
   "cell_type": "code",
   "execution_count": null,
   "metadata": {},
   "outputs": [],
   "source": [
    "import pandas as pd\n",
    "import numpy as np\n",
    "\n",
    "filtered_segments[[\"id1\", \"id2\"]] = segments_ibd1.apply(\n",
    "    lambda row: pd.Series((row[\"id1\"], row[\"id2\"])) if row[\"id1\"] < row[\"id2\"] \n",
    "    else pd.Series((row[\"id2\"], row[\"id1\"])), axis=1\n",
    ")\n",
    "pair_counts = filtered_segments.groupby([\"id1\", \"id2\"]).size().reset_index(name=\"pair_count\")\n",
    "pair_count_distribution = pair_counts[\"pair_count\"].value_counts().reset_index()\n",
    "pair_count_distribution.columns = [\"Number of Segments\", \"Number of Pairs\"]\n",
    "pair_count_distribution = pair_count_distribution.reset_index(drop=True)\n",
    "display(pair_count_distribution.style.hide(axis=\"index\"))"
   ]
  },
  {
   "cell_type": "code",
   "execution_count": null,
   "metadata": {},
   "outputs": [],
   "source": [
    "# Group by id pairs and calculate all metrics at once\n",
    "aggregated_segments = segments_ibd1.groupby([\"id1\", \"id2\"]).agg(\n",
    "    total_genetic_length=(\"genetic_length\", \"sum\"),\n",
    "    num_segments=(\"genetic_length\", \"count\"),\n",
    "    largest_segment=(\"genetic_length\", \"max\")\n",
    ").reset_index()\n",
    "\n",
    "# Check distribution of values\n",
    "display(aggregated_segments.describe())"
   ]
  },
  {
   "cell_type": "code",
   "execution_count": null,
   "metadata": {},
   "outputs": [],
   "source": [
    "filtered_segments.head()"
   ]
  },
  {
   "cell_type": "code",
   "execution_count": null,
   "metadata": {},
   "outputs": [],
   "source": [
    "filtered_segments[filtered_segments[\"IBD_type\"] == \"IBD1\"].shape[0]"
   ]
  },
  {
   "cell_type": "code",
   "execution_count": null,
   "metadata": {},
   "outputs": [],
   "source": [
    "filtered_segments[filtered_segments[\"IBD_type\"] == \"IBD2\"].shape[0]"
   ]
  },
  {
   "cell_type": "code",
   "execution_count": null,
   "metadata": {},
   "outputs": [],
   "source": [
    "filtered_segments[filtered_segments[\"id1\"] == filtered_segments[\"id2\"]].shape[0]"
   ]
  },
  {
   "cell_type": "code",
   "execution_count": null,
   "metadata": {},
   "outputs": [],
   "source": [
    "aggregated_segments_by_type = filtered_segments.groupby(\n",
    "    [\"id1\", \"id2\", \"IBD_type\"]\n",
    ").agg(\n",
    "    total_genetic_length=(\"genetic_length\", \"sum\"),\n",
    "    num_segments=(\"genetic_length\", \"count\"),\n",
    "    largest_segment=(\"genetic_length\", \"max\")\n",
    ").reset_index()\n",
    "\n",
    "pd.options.display.float_format = '{:.6f}'.format\n",
    "# Display the result\n",
    "ibd1_summary = aggregated_segments_by_type[aggregated_segments_by_type[\"IBD_type\"] == \"IBD1\"].describe()\n",
    "display(ibd1_summary)\n",
    "\n",
    "ibd2_summary = aggregated_segments_by_type[aggregated_segments_by_type[\"IBD_type\"] == \"IBD2\"].describe()\n",
    "display(ibd2_summary)"
   ]
  },
  {
   "cell_type": "code",
   "execution_count": null,
   "metadata": {},
   "outputs": [],
   "source": [
    "aggregated_segments[[\"total_genetic_length\", \"num_segments\", \"largest_segment\"]].describe()"
   ]
  },
  {
   "cell_type": "code",
   "execution_count": null,
   "metadata": {},
   "outputs": [],
   "source": [
    "# Filter the pairs that meet the criteria\n",
    "filtered_pairs1 = aggregated_segments[aggregated_segments[\"total_genetic_length\"] >= 3000]\n",
    "\n",
    "display(filtered_pairs1[[\"id1\", \"id2\", \"total_genetic_length\"]])"
   ]
  },
  {
   "cell_type": "code",
   "execution_count": null,
   "metadata": {},
   "outputs": [],
   "source": [
    "# Filter the pairs that meet the criteria\n",
    "filtered_pairs2 = aggregated_segments[aggregated_segments[\"total_genetic_length\"] >= 1000]\n",
    "\n",
    "display(filtered_pairs2[[\"id1\", \"id2\", \"total_genetic_length\"]])"
   ]
  },
  {
   "cell_type": "code",
   "execution_count": null,
   "metadata": {},
   "outputs": [],
   "source": [
    "display(aggregated_segments)"
   ]
  },
  {
   "cell_type": "code",
   "execution_count": null,
   "metadata": {},
   "outputs": [],
   "source": [
    "import matplotlib.pyplot as plt\n",
    "import seaborn as sns\n",
    "\n",
    "# Define columns to plot\n",
    "columns = [\"total_genetic_length\", \"num_segments\", \"largest_segment\"]\n",
    "\n",
    "# Create subplots\n",
    "fig, axes = plt.subplots(1, 3, figsize=(18, 5))\n",
    "\n",
    "# Histogram for each metric\n",
    "for i, col in enumerate(columns):\n",
    "    sns.histplot(aggregated_segments[col], bins=30, kde=True, ax=axes[i], edgecolor=\"black\")\n",
    "    axes[i].set_title(f\"Distribution of {col.replace('_', ' ').title()}\")\n",
    "    axes[i].set_xlabel(col.replace('_', ' ').title())\n",
    "    axes[i].set_ylabel(\"Frequency\")\n",
    "\n",
    "plt.tight_layout()\n",
    "plt.show()\n",
    "\n",
    "# Box Plot\n",
    "fig, axes = plt.subplots(1, 3, figsize=(18, 5))\n",
    "\n",
    "for i, col in enumerate(columns):\n",
    "    sns.boxplot(y=aggregated_segments[col], ax=axes[i])\n",
    "    axes[i].set_title(f\"Box Plot of {col.replace('_', ' ').title()}\")\n",
    "    axes[i].set_ylabel(col.replace('_', ' ').title())\n",
    "\n",
    "plt.tight_layout()\n",
    "plt.show()\n"
   ]
  }
 ],
 "metadata": {
  "kernelspec": {
   "display_name": ".venv",
   "language": "python",
   "name": "python3"
  },
  "language_info": {
   "codemirror_mode": {
    "name": "ipython",
    "version": 3
   },
   "file_extension": ".py",
   "mimetype": "text/x-python",
   "name": "python",
   "nbconvert_exporter": "python",
   "pygments_lexer": "ipython3",
   "version": "3.12.3"
  }
 },
 "nbformat": 4,
 "nbformat_minor": 2
}