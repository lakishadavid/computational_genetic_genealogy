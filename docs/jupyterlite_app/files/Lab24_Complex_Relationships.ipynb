{
 "cells": [
  {
   "cell_type": "markdown",
   "metadata": {},
   "source": [
    "# Lab 24: Complex Relationship Patterns\n",
    "\n",
    "## Overview\n",
    "\n",
    "This notebook explores Bonsai v3's handling of complex relationship patterns through the `relationships.py` module. We'll examine how Bonsai represents, calculates, and analyses non-standard and compound genealogical connections that go beyond simple parent-child or sibling relationships.\n",
    "\n",
    "**Learning Objectives:**\n",
    "- Understand Bonsai v3's relationship representation system and tuple format\n",
    "- Learn how to convert between different relationship representations\n",
    "- Explore the implementation of compound relationship handling\n",
    "- Analyze relationship distance computation in complex pedigrees\n",
    "- Apply these techniques to real-world genetic genealogy scenarios\n",
    "\n",
    "**Prerequisites:**\n",
    "- Completion of Lab 9: Pedigree Data Structures\n",
    "- Completion of Lab 12: Relationship Assessment\n",
    "- Familiarity with basic relationship types and genetic inheritance patterns\n",
    "\n",
    "**Estimated completion time:** 60-90 minutes"
   ]
  },
  {
   "cell_type": "code",
   "execution_count": null,
   "metadata": {},
   "source": [
    "# Standard imports\n",
    "import os\n",
    "import sys\n",
    "import pandas as pd\n",
    "import numpy as np\n",
    "import matplotlib.pyplot as plt\n",
    "import seaborn as sns\n",
    "import networkx as nx\n",
    "from IPython.display import display, HTML, Markdown\n",
    "import inspect\n",
    "import importlib\n",
    "\n",
    "sys.path.append(os.path.dirname(os.getcwd()))\n",
    "\n",
    "# Cross-compatibility setup\n",
    "from scripts_support.lab_cross_compatibility import setup_environment, is_jupyterlite, save_results, save_plot\n",
    "\n",
    "# Set up environment-specific paths\n",
    "DATA_DIR, RESULTS_DIR = setup_environment()\n",
    "\n",
    "# Set visualization styles\n",
    "plt.style.use('seaborn-v0_8-whitegrid')\n",
    "sns.set_context(\"notebook\")\n",
    "sns.set_palette(\"colorblind\")  # Improve accessibility with colorblind-friendly palette\n",
    "\n",
    "# Configure plot defaults for better readability\n",
    "plt.rcParams.update({\n",
    "    'figure.figsize': (10, 6),\n",
    "    'font.size': 12,\n",
    "    'axes.labelsize': 12,\n",
    "    'axes.titlesize': 14,\n",
    "    'xtick.labelsize': 10,\n",
    "    'ytick.labelsize': 10\n",
    "})"
   ]
  },
  {
   "cell_type": "code",
   "execution_count": null,
   "metadata": {},
   "source": [
    "# Setup Bonsai module paths\n",
    "if not is_jupyterlite():\n",
    "    # In local environment, add the utils directory to system path\n",
    "    utils_dir = os.getenv('PROJECT_UTILS_DIR', os.path.join(os.path.dirname(DATA_DIR), 'utils'))\n",
    "    bonsaitree_dir = os.path.join(utils_dir, 'bonsaitree')\n",
    "    \n",
    "    # Add to path if it exists and isn't already there\n",
    "    if os.path.exists(bonsaitree_dir) and bonsaitree_dir not in sys.path:\n",
    "        sys.path.append(bonsaitree_dir)\n",
    "        print(f\"Added {bonsaitree_dir} to sys.path\")\n",
    "else:\n",
    "    # In JupyterLite, use a simplified approach\n",
    "    print(\"\u26a0\ufe0f Running in JupyterLite: Some Bonsai functionality may be limited.\")\n",
    "    print(\"This notebook is primarily designed for local execution where the Bonsai codebase is available.\")"
   ]
  },
  {
   "cell_type": "code",
   "execution_count": null,
   "metadata": {},
   "source": [
    "# Helper functions for exploring modules\n",
    "def display_module_classes(module_name):\n",
    "    \"\"\"Display classes and their docstrings from a module\"\"\"\n",
    "    try:\n",
    "        # Import the module\n",
    "        module = importlib.import_module(module_name)\n",
    "        \n",
    "        # Find all classes\n",
    "        classes = inspect.getmembers(module, inspect.isclass)\n",
    "        \n",
    "        # Filter classes defined in this module (not imported)\n",
    "        classes = [(name, cls) for name, cls in classes if cls.__module__ == module_name]\n",
    "        \n",
    "        if not classes:\n",
    "            print(f\"No classes found in module {module_name}\")\n",
    "            return\n",
    "            \n",
    "        # Print info for each class\n",
    "        for name, cls in classes:\n",
    "            display(Markdown(f\"### Class: {name}\"))\n",
    "            \n",
    "            # Get docstring\n",
    "            doc = inspect.getdoc(cls)\n",
    "            if doc:\n",
    "                display(Markdown(f\"**Documentation:**\\\n{doc}\"))\n",
    "            else:\n",
    "                display(Markdown(\"*No documentation available*\"))\n",
    "            \n",
    "            # Get methods\n",
    "            methods = inspect.getmembers(cls, inspect.isfunction)\n",
    "            public_methods = [(method_name, method) for method_name, method in methods \n",
    "                             if not method_name.startswith('_')]\n",
    "            \n",
    "            if public_methods:\n",
    "                display(Markdown(\"**Public Methods:**\"))\n",
    "                for method_name, method in public_methods:\n",
    "                    sig = inspect.signature(method)\n",
    "                    display(Markdown(f\"- `{method_name}{sig}`\"))\n",
    "            else:\n",
    "                display(Markdown(\"*No public methods*\"))\n",
    "            \n",
    "            display(Markdown(\"---\"))\n",
    "    except ImportError as e:\n",
    "        print(f\"Error importing module {module_name}: {e}\")\n",
    "    except Exception as e:\n",
    "        print(f\"Error processing module {module_name}: {e}\")\n",
    "\n",
    "def display_module_functions(module_name):\n",
    "    \"\"\"Display functions and their docstrings from a module\"\"\"\n",
    "    try:\n",
    "        # Import the module\n",
    "        module = importlib.import_module(module_name)\n",
    "        \n",
    "        # Find all functions\n",
    "        functions = inspect.getmembers(module, inspect.isfunction)\n",
    "        \n",
    "        # Filter functions defined in this module (not imported)\n",
    "        functions = [(name, func) for name, func in functions if func.__module__ == module_name]\n",
    "        \n",
    "        if not functions:\n",
    "            print(f\"No functions found in module {module_name}\")\n",
    "            return\n",
    "            \n",
    "        # Filter public functions\n",
    "        public_functions = [(name, func) for name, func in functions if not name.startswith('_')]\n",
    "        \n",
    "        if not public_functions:\n",
    "            print(f\"No public functions found in module {module_name}\")\n",
    "            return\n",
    "            \n",
    "        # Print info for each function\n",
    "        for name, func in public_functions:                \n",
    "            display(Markdown(f\"### Function: {name}\"))\n",
    "            \n",
    "            # Get signature\n",
    "            sig = inspect.signature(func)\n",
    "            display(Markdown(f\"**Signature:** `{name}{sig}`\"))\n",
    "            \n",
    "            # Get docstring\n",
    "            doc = inspect.getdoc(func)\n",
    "            if doc:\n",
    "                display(Markdown(f\"**Documentation:**\\\n{doc}\"))\n",
    "            else:\n",
    "                display(Markdown(\"*No documentation available*\"))\n",
    "                \n",
    "            display(Markdown(\"---\"))\n",
    "    except ImportError as e:\n",
    "        print(f\"Error importing module {module_name}: {e}\")\n",
    "    except Exception as e:\n",
    "        print(f\"Error processing module {module_name}: {e}\")\n",
    "\n",
    "def view_function_source(module_name, function_name):\n",
    "    \"\"\"Display the source code of a function\"\"\"\n",
    "    try:\n",
    "        # Import the module\n",
    "        module = importlib.import_module(module_name)\n",
    "        \n",
    "        # Get the function\n",
    "        func = getattr(module, function_name)\n",
    "        \n",
    "        # Get the source code\n",
    "        source = inspect.getsource(func)\n",
    "        \n",
    "        # Print the source code with syntax highlighting\n",
    "        display(Markdown(f\"### Source code for `{function_name}`\\\n```python\\\n{source}\\\n```\"))\n",
    "    except ImportError as e:\n",
    "        print(f\"Error importing module {module_name}: {e}\")\n",
    "    except AttributeError:\n",
    "        print(f\"Function {function_name} not found in module {module_name}\")\n",
    "    except Exception as e:\n",
    "        print(f\"Error processing function {function_name}: {e}\")\n",
    "\n",
    "def view_class_source(module_name, class_name):\n",
    "    \"\"\"Display the source code of a class\"\"\"\n",
    "    try:\n",
    "        # Import the module\n",
    "        module = importlib.import_module(module_name)\n",
    "        \n",
    "        # Get the class\n",
    "        cls = getattr(module, class_name)\n",
    "        \n",
    "        # Get the source code\n",
    "        source = inspect.getsource(cls)\n",
    "        \n",
    "        # Print the source code with syntax highlighting\n",
    "        display(Markdown(f\"### Source code for class `{class_name}`\\\n```python\\\n{source}\\\n```\"))\n",
    "    except ImportError as e:\n",
    "        print(f\"Error importing module {module_name}: {e}\")\n",
    "    except AttributeError:\n",
    "        print(f\"Class {class_name} not found in module {module_name}\")\n",
    "    except Exception as e:\n",
    "        print(f\"Error processing class {class_name}: {e}\")\n",
    "\n",
    "def explore_module(module_name):\n",
    "    \"\"\"Display a comprehensive overview of a module with classes and functions\"\"\"\n",
    "    try:\n",
    "        # Import the module\n",
    "        module = importlib.import_module(module_name)\n",
    "        \n",
    "        # Module docstring\n",
    "        doc = inspect.getdoc(module)\n",
    "        display(Markdown(f\"# Module: {module_name}\"))\n",
    "        \n",
    "        if doc:\n",
    "            display(Markdown(f\"**Module Documentation:**\\\n{doc}\"))\n",
    "        else:\n",
    "            display(Markdown(\"*No module documentation available*\"))\n",
    "            \n",
    "        display(Markdown(\"---\"))\n",
    "        \n",
    "        # Display classes\n",
    "        display(Markdown(\"## Classes\"))\n",
    "        display_module_classes(module_name)\n",
    "        \n",
    "        # Display functions\n",
    "        display(Markdown(\"## Functions\"))\n",
    "        display_module_functions(module_name)\n",
    "        \n",
    "    except ImportError as e:\n",
    "        print(f\"Error importing module {module_name}: {e}\")\n",
    "    except Exception as e:\n",
    "        print(f\"Error exploring module {module_name}: {e}\")"
   ]
  },
  {
   "cell_type": "markdown",
   "metadata": {},
   "source": [
    "## Check Bonsai Installation\n",
    "\n",
    "Let's verify that the Bonsai v3 module is available for import:"
   ]
  },
  {
   "cell_type": "code",
   "execution_count": null,
   "metadata": {},
   "source": [
    "try:\n",
    "    from bonsaitree import v3\n",
    "    print(\"\u2705 Successfully imported Bonsai v3 module\")\n",
    "    \n",
    "    # Print Bonsai version information if available\n",
    "    if hasattr(v3, \"__version__\"):\n",
    "        print(f\"Bonsai v3 version: {v3.__version__}\")\n",
    "    \n",
    "    # List key submodules\n",
    "    print(\"\\\nAvailable Bonsai submodules:\")\n",
    "    for module_name in dir(v3):\n",
    "        if not module_name.startswith(\"_\") and not module_name.startswith(\"__\"):\n",
    "            print(f\"- {module_name}\")\n",
    "except ImportError as e:\n",
    "    print(f\"\u274c Failed to import Bonsai v3 module: {e}\")\n",
    "    print(\"This lab requires access to the Bonsai v3 codebase.\")\n",
    "    print(\"Make sure you've properly set up your environment with the Bonsai repository.\")"
   ]
  },
  {
   "cell_type": "markdown",
   "metadata": {},
   "source": [
    "## Introduction\n",
    "\n",
    "Genealogical relationships in the real world are not always simple and straightforward. While basic relationships like parent-child, sibling, and first cousin are well understood, many real-world scenarios involve complex relationship patterns that challenge standard analysis methods.\n",
    "\n",
    "In this lab, we'll explore how Bonsai v3's `relationships.py` module handles these complex patterns, including:\n",
    "\n",
    "**Key concepts we'll cover:**\n",
    "- The relationship tuple representation system in Bonsai\n",
    "- Converting between different relationship formats\n",
    "- Handling compound relationships (related in multiple ways)\n",
    "- Computing relationship distances in complex pedigrees\n",
    "- Comparing and classifying relationships"
   ]
  },
  {
   "cell_type": "markdown",
   "source": "## Part 1: The Relationship Representation System\n\n### Theory and Background\n\nIn genetic genealogy, representing relationships mathematically is essential for analysis and inference. Bonsai v3 uses a tuple-based system to represent genealogical relationships. Let's explore the key formats used:\n\n#### Relationship Tuple Format (u, d, a)\n\nThe primary relationship tuple format in Bonsai is a 3-element tuple with the structure:\n\n```\n(u, d, a)\n```\n\nwhere:\n- `u` (up): Number of generations to go up from the first person to their ancestor\n- `d` (down): Number of generations to go down from the ancestor to the second person\n- `a` (ancestors): Number of common ancestors connecting the two people\n\nThis versatile format can represent any genealogical relationship. Examples:\n\n- Parent-child: `(0, 1, 1)` or `(1, 0, 1)` (depending on direction)\n- Full siblings: `(1, 1, 2)` (up 1 to parents, down 1 to sibling, 2 common ancestors)\n- First cousins: `(2, 2, 2)` (up 2 to grandparents, down 2 to cousin, 2 common ancestors)\n- Second cousins: `(3, 3, 2)` (up 3 to great-grandparents, down 3 to second cousin, 2 common ancestors)\n- Half-siblings: `(1, 1, 1)` (up 1 to parent, down 1 to half-sibling, 1 common ancestor)\n\n#### Degree of Relationship\n\nFrom the (u, d, a) tuple, we can compute the \"degree\" of relationship, which is:\n\n```\ndegree = u + d - a + 1\n```\n\nThis formula yields:\n- Degree 1: Parent-child, siblings (u=1, d=1, a=2 \u2192 1+1-2+1 = 1)\n- Degree 2: Grandparent, aunt/uncle, first cousin\n- Degree 3: Great-grandparent, first cousin once removed, second cousin\n\nThe degree is often used as a simplified measure of relationship closeness.\n\n#### Alternative Format (m, a)\n\nAn alternative representation uses:\n```\n(m, a)\n```\n\nwhere:\n- `m` (meioses): Total number of meioses separating the individuals (= u + d)\n- `a` (ancestors): Number of common ancestors connecting the two people\n\nThis format is useful for certain genetic calculations, as the number of meioses directly affects the expected amount of shared DNA.",
   "metadata": {}
  },
  {
   "cell_type": "markdown",
   "source": "### Implementation in Bonsai v3\n\nLet's explore how Bonsai v3 implements its relationship representation system in the `relationships.py` module. First, we'll look at the functions responsible for relationship conversions and calculations:",
   "metadata": {}
  },
  {
   "cell_type": "code",
   "source": [
    "try:\n    # Import the relationships module from Bonsai v3\n    from bonsaitree.v3 import relationships\n    print(\"\u2705 Successfully imported the relationships module\")\n    \n    # Examine the module structure\n    explore_module(\"bonsaitree.v3.relationships\")\nexcept ImportError as e:\n    print(f\"\u274c Failed to import relationships module: {e}\")\n    print(\"Using alternative approach to explore module...\")\n    \n    # Alternative approach: import directly from path\n    try:\n        sys.path.append(os.path.join(os.path.dirname(os.getcwd()), 'utils'))\n        from bonsaitree.bonsaitree.v3 import relationships\n        print(\"\u2705 Successfully imported the relationships module using alternative path\")\n        \n        # Examine the module structure\n        explore_module(\"bonsaitree.bonsaitree.v3.relationships\")\n    except ImportError as e:\n        print(f\"\u274c Failed to import relationships module using alternative path: {e}\")\n        print(\"We'll continue with manual explanation of the module.\")"
   ],
   "metadata": {},
   "outputs": []
  },
  {
   "cell_type": "code",
   "source": [
    "if 'relationships' not in globals():\n    # If import failed, display key functions manually\n    relationships_functions = \"\"\"\n    ### Function: reverse_rel\n\n    **Signature:** `reverse_rel(rel: Optional[tuple[int, int, int]])`\n\n    **Documentation:**\n    Reverse a relationship tuple (u, d, a) to (d, u, a) or None to None.\n\n    Args:\n        rel: relationship tuple of the form (u, d, a) or None\n\n    Returns:\n        rev_rel: (d, u, a) or None\n\n    ### Function: get_deg\n\n    **Signature:** `get_deg(rel: Optional[tuple[int, int, int]])`\n\n    **Documentation:**\n    Get the degree of a relationship tuple.\n\n    Args:\n        rel: relationship tuple of the form (u, d, a), (m, a), or None\n\n    Returns:\n        deg: if rel is None or a is None: INF\n             else: u + d - a + 1\n\n    ### Function: join_rels\n\n    **Signature:** `join_rels(rel_ab: Optional[tuple[int, int, int]], rel_bc: Optional[tuple[int, int, int]])`\n\n    **Documentation:**\n    For three individuals A, B, and C related by relAB and relBC, find relAC.\n\n    Args:\n        rel_ab: relationship between A and B of the form (u, d, a) or None\n        rel_bc: relationship between B and C of the form (u, d, a) or None\n\n    Returns:\n        relAC: relationship between A and C of the form (u, d, a) or None\n\n    ### Function: get_transitive_rel\n\n    **Signature:** `get_transitive_rel(rel_list: list[Optional[tuple[int, int, int]]])`\n\n    **Documentation:**\n    For a list of relationships in rel_list that represent pairwise relationships from one person to the next in a chain\n    of relatives, find the relationship between the first person in the list and the last person in the list.\n\n    Args:\n        rel_list: chain of relationships of the form [(up, down, num_ancs), ...]\n                  where rel_list[i] is the relationship between individuals i and i+1.\n\n    Returns:\n        rel: The relationship between individual 0 and individual n specified\n             by the chain of relationships in rel_list.\n\n    ### Function: a_m_to_rel\n\n    **Signature:** `a_m_to_rel(a: int, m: int)`\n\n    **Documentation:**\n    Convert number of meioses and number of common ancestors\n    to a good approximate relationship of the form (up, down, num_common_ancs).\n\n    Note that m and a do not capture the full distribution so\n    this is a one-to-many map and we choose the \"best\" relationship,\n    which is a collateral relationship, which I assume will be more\n    common in the pedigrees we encounter.\n\n    The distribution is \"similar\" for direct ancestral relationships\n    so I think we can use it.\n\n    Args:\n        a: number of common ancestors\n        m: number of meioses\n\n    Returns:\n        rel: \"best\" relationship corresponding to a and m\n    \"\"\"\n\n    display(Markdown(relationships_functions))\n    \n    # Display implementations of key functions\n    reverse_rel_impl = \"\"\"\n    def reverse_rel(\n        rel : Optional[tuple[int, int, int]],\n    ):\n        \\\\\"\\\\\"\\\\\"\n        Reverse a relationship tuple (u, d, a)\n        to (d, u, a) or None to None.\n\n        Args:\n            rel: relationship tuple of the form (u, d, a) or None\n\n        Returns:\n            rev_rel: (d, u, a) or None\n        \\\\\"\\\\\"\\\\\"\n        if type(rel) is tuple:\n            rev_rel = (rel[1], rel[0], rel[2])\n        else:\n            rev_rel = rel\n        return rev_rel\n    \"\"\"\n    \n    get_deg_impl = \"\"\"\n    def get_deg(\n        rel : Optional[tuple[int, int, int]],\n    ):\n        \\\\\"\\\\\"\\\\\"\n        Get the degree of a relationship tuple.\n\n        Args:\n            rel: relationship tuple of the form (u, d, a), (m, a), or None\n\n        Returns:\n            deg: if rel is None or a is None: INF\n                 else: u + d - a + 1\n        \\\\\"\\\\\"\\\\\"\n        if type(rel) is tuple:\n\n            # get m and a\n            if len(rel) == 3:\n                u,d,a = rel\n                m = u+d\n            elif len(rel) == 2:\n                m, a = rel\n\n            # get degree\n            if a is None:\n                deg = INF\n            elif m == 0:\n                deg = 0\n            else:\n                deg = m - a + 1\n        else:\n            deg = INF\n        return deg\n    \"\"\"\n    \n    display(Markdown(f\"```python\\\n{reverse_rel_impl}\\\n```\"))\n    display(Markdown(f\"```python\\\n{get_deg_impl}\\\n```\"))"
   ],
   "metadata": {},
   "outputs": []
  },
  {
   "cell_type": "markdown",
   "source": "### Exercise 1: Relationship Representation and Conversion\n\nLet's practice working with Bonsai's relationship representation system by implementing functions to convert between different relationship formats and compute relationship degrees.\n\n**Task:** Implement the following functions to convert between relationship representations and calculate relationship degrees:\n\n1. `convert_to_degree`: Calculate the degree of relationship from a (u, d, a) tuple\n2. `classify_relationship`: Classify common relationships based on their (u, d, a) tuples\n3. `convert_between_formats`: Convert between (u, d, a) and (m, a) formats\n\n**Hint:** Remember that `degree = u + d - a + 1` and `m = u + d` (total meioses)",
   "metadata": {}
  },
  {
   "cell_type": "code",
   "source": [
    "# Exercise 1 code template\nimport math\n\ndef convert_to_degree(rel_tuple):\n    \"\"\"\n    Calculate the degree of relationship from a (u, d, a) tuple.\n    \n    Args:\n        rel_tuple: Relationship tuple of the form (u, d, a) or (m, a)\n        \n    Returns:\n        degree: Degree of relationship (or float('inf') for unrelated/None)\n    \"\"\"\n    # Check if rel_tuple is None\n    if rel_tuple is None:\n        return float('inf')\n    \n    # Get tuple components\n    if len(rel_tuple) == 3:\n        # (u, d, a) format\n        u, d, a = rel_tuple\n        \n        # Check if a is None\n        if a is None:\n            return float('inf')\n        \n        # Calculate degree\n        degree = u + d - a + 1\n        \n    elif len(rel_tuple) == 2:\n        # (m, a) format\n        m, a = rel_tuple\n        \n        # Check if a is None\n        if a is None:\n            return float('inf')\n            \n        # Special case for identical individuals\n        if m == 0:\n            return 0\n            \n        # Calculate degree\n        degree = m - a + 1\n    else:\n        # Invalid tuple format\n        return float('inf')\n    \n    return degree\n\ndef classify_relationship(rel_tuple):\n    \"\"\"\n    Classify common relationships based on their (u, d, a) tuple.\n    \n    Args:\n        rel_tuple: Relationship tuple of the form (u, d, a)\n        \n    Returns:\n        relationship_name: String description of the relationship\n    \"\"\"\n    # Handle None or invalid inputs\n    if rel_tuple is None or len(rel_tuple) != 3:\n        return \"Unknown or invalid relationship\"\n    \n    # Unpack the tuple\n    u, d, a = rel_tuple\n    \n    # Handle special cases\n    if a is None:\n        return \"Unrelated\"\n    \n    # Self\n    if u == 0 and d == 0:\n        if a == 1:\n            return \"Self (identical individual)\"\n        if a == 2:\n            return \"Self (identical twins)\"\n    \n    # Direct ancestors/descendants\n    if u == 0 and d > 0 and a == 1:\n        if d == 1:\n            return \"Child\"\n        if d == 2:\n            return \"Grandchild\"\n        if d == 3:\n            return \"Great-grandchild\"\n        return f\"{d-1}x great-grandchild\"\n    \n    if u > 0 and d == 0 and a == 1:\n        if u == 1:\n            return \"Parent\"\n        if u == 2:\n            return \"Grandparent\"\n        if u == 3:\n            return \"Great-grandparent\"\n        return f\"{u-1}x great-grandparent\"\n    \n    # Siblings\n    if u == 1 and d == 1:\n        if a == 2:\n            return \"Full sibling\"\n        if a == 1:\n            return \"Half-sibling\"\n    \n    # Aunts/Uncles and Nieces/Nephews\n    if u == 2 and d == 1 and a == 1:\n        return \"Aunt/Uncle\"\n    if u == 1 and d == 2 and a == 1:\n        return \"Niece/Nephew\"\n    \n    # Cousins\n    if u >= 2 and d >= 2:\n        if u == d:  # Same generation\n            cousin_degree = u - 1\n            if a == 2:\n                if cousin_degree == 1:\n                    return \"First cousin\"\n                if cousin_degree == 2:\n                    return \"Second cousin\"\n                if cousin_degree == 3:\n                    return \"Third cousin\"\n                return f\"{cousin_degree}th cousin\"\n            if a == 1:\n                if cousin_degree == 1:\n                    return \"Half first cousin\"\n                if cousin_degree == 2:\n                    return \"Half second cousin\"\n                if cousin_degree == 3:\n                    return \"Half third cousin\"\n                return f\"Half {cousin_degree}th cousin\"\n        else:  # Different generations\n            min_side = min(u, d)\n            removal = abs(u - d)\n            cousin_degree = min_side - 1\n            \n            if cousin_degree == 1:\n                cousin_str = \"First cousin\"\n            elif cousin_degree == 2:\n                cousin_str = \"Second cousin\"\n            elif cousin_degree == 3:\n                cousin_str = \"Third cousin\"\n            else:\n                cousin_str = f\"{cousin_degree}th cousin\"\n                \n            if removal == 1:\n                return f\"{cousin_str} once removed\"\n            if removal == 2:\n                return f\"{cousin_str} twice removed\"\n            return f\"{cousin_str} {removal} times removed\"\n    \n    # Default case for other relationships\n    return f\"Complex relationship (u={u}, d={d}, a={a})\"\n\ndef convert_between_formats(rel_tuple, target_format='m_a'):\n    \"\"\"\n    Convert between (u, d, a) and (m, a) relationship formats.\n    \n    Args:\n        rel_tuple: Relationship tuple to convert\n        target_format: Target format, either 'u_d_a' or 'm_a'\n        \n    Returns:\n        converted_tuple: Relationship tuple in the target format\n    \"\"\"\n    # Handle None inputs\n    if rel_tuple is None:\n        return None\n    \n    # Convert to (m, a) format\n    if target_format == 'm_a':\n        if len(rel_tuple) == 3:\n            # Current format is (u, d, a)\n            u, d, a = rel_tuple\n            m = u + d\n            return (m, a)\n        elif len(rel_tuple) == 2:\n            # Already in (m, a) format\n            return rel_tuple\n        else:\n            # Invalid input\n            return None\n            \n    # Convert to (u, d, a) format\n    elif target_format == 'u_d_a':\n        if len(rel_tuple) == 2:\n            # Current format is (m, a)\n            m, a = rel_tuple\n            \n            # Special cases for self-relationship or invalid input\n            if m == 0:\n                return (0, 0, a)\n                \n            # For other cases, we need to make an assumption about u and d\n            # We'll use a_m_to_rel logic: prefer collateral relationship when possible\n            if m == 1:\n                return (1, 0, 1)  # Parent-child\n            else:\n                # Default to symmetric relationship (similar to cousins)\n                u = m // 2\n                d = m - u\n                return (u, d, a)\n        elif len(rel_tuple) == 3:\n            # Already in (u, d, a) format\n            return rel_tuple\n        else:\n            # Invalid input\n            return None\n    else:\n        # Invalid target format\n        return None\n\n# Test cases for the functions\nrel_tuples = [\n    (0, 0, 1),     # Self\n    (1, 0, 1),     # Parent\n    (0, 1, 1),     # Child\n    (1, 1, 2),     # Full sibling\n    (1, 1, 1),     # Half-sibling\n    (2, 0, 1),     # Grandparent\n    (0, 2, 1),     # Grandchild\n    (2, 2, 2),     # First cousin\n    (3, 3, 2),     # Second cousin\n    (2, 3, 2),     # First cousin once removed\n    (None),        # None\n    (4, 4, 2),     # Third cousin\n    (2, 1, 1),     # Aunt/Uncle\n]\n\n# Test the convert_to_degree function\nprint(\"Testing convert_to_degree:\")\nfor rel in rel_tuples:\n    if rel is not None:\n        degree = convert_to_degree(rel)\n        print(f\"Tuple {rel} has degree: {degree}\")\n    else:\n        print(f\"Tuple {rel} has degree: {convert_to_degree(rel)}\")\n\nprint(\"\\\nTesting classify_relationship:\")\nfor rel in rel_tuples:\n    if rel is not None:\n        relationship = classify_relationship(rel)\n        print(f\"Tuple {rel} represents: {relationship}\")\n    else:\n        print(f\"Tuple {rel} represents: {classify_relationship(rel)}\")\n\nprint(\"\\\nTesting convert_between_formats:\")\nfor rel in rel_tuples:\n    if rel is not None and len(rel) == 3:\n        m_a = convert_between_formats(rel, 'm_a')\n        back_to_u_d_a = convert_between_formats(m_a, 'u_d_a')\n        print(f\"(u,d,a)={rel} \u2192 (m,a)={m_a} \u2192 (u,d,a)={back_to_u_d_a}\")"
   ],
   "metadata": {},
   "outputs": []
  },
  {
   "cell_type": "markdown",
   "source": "## Part 2: Joining and Combining Relationships\n\n### Theory and Background\n\nIn real-world genealogies, individuals are often related in multiple ways or through complex chains of relationships. Bonsai v3 provides functions to compute these complex relationships:\n\n1. **Joining Relationships**: Finding the relationship between A and C given the relationships between A and B, and B and C\n\n2. **Transitive Relationships**: Computing the relationship between the first and last individuals in a chain of relatives\n\n3. **Compound Relationships**: Handling cases where two individuals are related in multiple different ways (e.g., double first cousins)\n\nLet's examine these concepts and how they're implemented in Bonsai v3.",
   "metadata": {}
  },
  {
   "cell_type": "markdown",
   "source": "### Implementation in Bonsai v3\n\nLet's look at how Bonsai v3 implements joining and combining relationships in the `relationships.py` module. The key functions for this are `join_rels` and `get_transitive_rel`.\n\n#### The `join_rels` Function\n\nThe `join_rels` function finds the relationship between A and C given the relationships between A and B, and B and C. Let's examine its implementation:",
   "metadata": {}
  },
  {
   "cell_type": "code",
   "source": [
    "join_rels_impl = \"\"\"\ndef join_rels(\n    rel_ab : Optional[tuple[int, int, int]],\n    rel_bc : Optional[tuple[int, int, int]],\n):\n    \\\\\"\\\\\"\\\\\"\n    For three individuals A, B, and C\n    related by relAB and relBC, find relAC.\n\n    Args:\n        rel_ab: relationship between A and B of the form (u, d, a) or None\n        rel_bc: relationship between B and C of the form (u, d, a) or None\n\n    Returns:\n        relAC: relationship between A and C of the form (u, d, a) or None\n    \\\\\"\\\\\"\\\\\"\n\n    if (rel_ab is None) or (rel_bc is None):\n        return None\n\n    if rel_ab == (0, 0, 2):\n        return rel_bc\n\n    if rel_bc == (0, 0, 2):\n        return rel_ab\n\n    u1, d1, a1 = rel_ab\n    u2, d2, a2 = rel_bc\n\n    if a1 is None or a2 is None:\n        return None\n\n    if d1 > 0 and u2 > 0:\n        return None\n\n    if u1 > 0 and d1 > 0 and u2 == 0 and d2 > 0:\n        a = a1\n    elif u1 == 0 and d1 > 0 and u2 == 0 and d2 > 0:\n        a = a2\n    elif u1 > 0 and d1 == 0 and u2 > 0 and d2 == 0:\n        a = a2\n    elif u1 > 0 and d1 == 0 and u2 > 0 and d2 > 0:\n        a = a2\n    elif u1 > 0 and d1 == 0 and u2 == 0 and d2 > 0:\n        a = a1\n    elif u1 > 0 and d1 > 0 and u2 == 0 and d2 == 0:\n        a = a1\n    elif u1 == 0 and d1 > 0 and u2 == 0 and d2 == 0:\n        a = a1\n    elif u1 > 0 and d1 == 0 and u2 == 0 and d2 == 0:\n        a = a1\n    elif u1 == 0 and d1 == 0 and u2 == 0 and d2 > 0:\n        a = a2\n    elif u1 == 0 and d1 == 0 and u2 > 0 and d2 > 0:\n        a = a2\n\n    u = u1 + u2\n    d = d1 + d2\n\n    return (u, d, a)\n\"\"\"\n\ndisplay(Markdown(f\"```python\\\n{join_rels_impl}\\\n```\"))\n\nget_transitive_rel_impl = \"\"\"\ndef get_transitive_rel(\n    rel_list : list[Optional[tuple[int, int, int]]],\n):\n    \\\\\"\\\\\"\\\\\"\n    For a list of relationships in rel_list that represent\n    pairwise relationships from one person to the next in a chain\n    of relatives, find the relationship between the first person\n    in the list and the last person in the list.\n\n    Args:\n        rel_list: chain of relationships of the form [(up, down, num_ancs), ...]\n                  where rel_list[i] is the relationship between individuals i and i+1.\n\n    Returns:\n        rel: The relationship between individual 0 and individual n specified\n             by the chain of relationships in rel_list.\n    \\\\\"\\\\\"\\\\\"\n    if rel_list == []:\n        return None\n\n    rel = rel_list.pop(0)\n    while rel_list:\n        next_rel = rel_list.pop(0)\n        rel = join_rels(rel, next_rel)\n\n    # ensure that ancestor/descendant relationships\n    # only have one ancestor. We can't ensure this\n    # within join_rels() so we have to do it here.\n    if rel is not None and (rel[0] == 0 or rel[1] == 0):\n        rel = (rel[0], rel[1], 1)\n\n    return rel\n\"\"\"\n\ndisplay(Markdown(f\"```python\\\n{get_transitive_rel_impl}\\\n```\"))"
   ],
   "metadata": {},
   "outputs": []
  },
  {
   "cell_type": "markdown",
   "source": "#### Understanding the `join_rels` Function\n\nThe `join_rels` function works as follows:\n\n1. **Input Validation**: If either input relationship is `None`, it returns `None`.\n\n2. **Special Case Handling**: \n   - If `rel_ab` is the self-relationship `(0, 0, 2)`, then A and B are identical, so A's relationship to C is the same as B's relationship to C: `return rel_bc`.\n   - Similarly, if `rel_bc` is the self-relationship, A's relationship to C is the same as A's relationship to B: `return rel_ab`.\n\n3. **Ancestor Determination**:\n   - The function contains a series of conditional statements to determine the number of common ancestors (`a`) for the resulting relationship.\n   - This depends on the relationship types and directions.\n\n4. **Final Calculation**:\n   - `u = u1 + u2`: The total \"up\" generations is the sum of the \"up\" generations from A to B and from B to C.\n   - `d = d1 + d2`: The total \"down\" generations is the sum of the \"down\" generations from A to B and from B to C.\n   - Returns the new relationship tuple `(u, d, a)`.\n\n#### Understanding the `get_transitive_rel` Function\n\nThe `get_transitive_rel` function uses `join_rels` to compute the relationship between the first and last individuals in a chain of relatives:\n\n1. If the list is empty, return `None`.\n2. Start with the first relationship in the list.\n3. Iteratively join it with the next relationship in the chain using `join_rels`.\n4. For ancestor/descendant relationships (where either u or d is 0), ensure exactly one ancestor.\n5. Return the final relationship.",
   "metadata": {}
  },
  {
   "cell_type": "markdown",
   "source": "### Exercise 2: Joining Relationships in a Pedigree\n\nLet's practice working with Bonsai's relationship joining functions by implementing a function to calculate relationships in a simple pedigree.\n\n**Task:** Implement the `find_relationship` function to find the relationship between any two individuals in a simple pedigree by finding a path of known relationships.\n\n**Hint:** Use a graph search algorithm to find a path between the individuals, then use `get_transitive_rel` to compute the relationship along that path.",
   "metadata": {}
  },
  {
   "cell_type": "code",
   "source": [
    "# Exercise 2 code template\nimport networkx as nx\nfrom collections import deque\n\ndef find_relationship(pedigree_rels, id1, id2):\n    \"\"\"\n    Find the relationship between two individuals in a pedigree.\n    \n    Args:\n        pedigree_rels: Dictionary mapping (id1, id2) pairs to relationship tuples\n        id1: ID of the first individual\n        id2: ID of the second individual\n        \n    Returns:\n        relationship: Relationship tuple of the form (u, d, a) or None if no path exists\n    \"\"\"\n    # Direct relationship check\n    if (id1, id2) in pedigree_rels:\n        return pedigree_rels[(id1, id2)]\n    if (id2, id1) in pedigree_rels:\n        # Reverse the relationship if needed\n        rel = pedigree_rels[(id2, id1)]\n        if rel is not None:\n            return (rel[1], rel[0], rel[2])  # Reverse (u, d, a) to (d, u, a)\n    \n    # Build a graph representing the pedigree\n    G = nx.Graph()\n    \n    # Add all known relationships as edges\n    for (person1, person2), rel in pedigree_rels.items():\n        if rel is not None:  # Only add valid relationships\n            # Add both individuals as nodes if they don't exist\n            if person1 not in G:\n                G.add_node(person1)\n            if person2 not in G:\n                G.add_node(person2)\n            \n            # Add an edge between them with the relationship as an attribute\n            G.add_edge(person1, person2, relationship=rel)\n    \n    # Check if both individuals exist in the graph\n    if id1 not in G or id2 not in G:\n        return None\n    \n    # Find the shortest path between the individuals\n    try:\n        path = nx.shortest_path(G, id1, id2)\n    except nx.NetworkXNoPath:\n        return None\n    \n    # Extract the relationships along the path\n    rel_list = []\n    for i in range(len(path) - 1):\n        person1 = path[i]\n        person2 = path[i + 1]\n        \n        # Get the relationship between these two individuals\n        if (person1, person2) in pedigree_rels:\n            rel = pedigree_rels[(person1, person2)]\n        elif (person2, person1) in pedigree_rels:\n            # Reverse the relationship if needed\n            rel = pedigree_rels[(person2, person1)]\n            if rel is not None:\n                rel = (rel[1], rel[0], rel[2])  # Reverse (u, d, a) to (d, u, a)\n        else:\n            # This shouldn't happen if the graph was built correctly\n            rel = None\n        \n        # Add to the relationship list\n        rel_list.append(rel)\n    \n    # Compute the transitive relationship\n    return get_transitive_rel(rel_list)\n\n# Implementation of get_transitive_rel for this exercise\ndef get_transitive_rel(rel_list):\n    \"\"\"\n    For a list of relationships in rel_list that represent\n    pairwise relationships from one person to the next in a chain\n    of relatives, find the relationship between the first person\n    in the list and the last person in the list.\n    \"\"\"\n    if not rel_list:\n        return None\n    \n    # Make a copy to avoid modifying the original\n    rel_list_copy = rel_list.copy()\n    \n    rel = rel_list_copy.pop(0)\n    while rel_list_copy:\n        next_rel = rel_list_copy.pop(0)\n        rel = join_rels(rel, next_rel)\n    \n    # Ensure ancestor/descendant relationships have one ancestor\n    if rel is not None and (rel[0] == 0 or rel[1] == 0):\n        rel = (rel[0], rel[1], 1)\n    \n    return rel\n\n# Implementation of join_rels for this exercise\ndef join_rels(rel_ab, rel_bc):\n    \"\"\"\n    For three individuals A, B, and C\n    related by relAB and relBC, find relAC.\n    \"\"\"\n    if (rel_ab is None) or (rel_bc is None):\n        return None\n    \n    # Special cases for self relationships\n    if rel_ab == (0, 0, 2):\n        return rel_bc\n    if rel_bc == (0, 0, 2):\n        return rel_ab\n    \n    # Extract components\n    u1, d1, a1 = rel_ab\n    u2, d2, a2 = rel_bc\n    \n    # Check for invalid relationships\n    if a1 is None or a2 is None:\n        return None\n    if d1 > 0 and u2 > 0:\n        return None\n    \n    # Determine the number of common ancestors\n    if u1 > 0 and d1 > 0 and u2 == 0 and d2 > 0:\n        a = a1\n    elif u1 == 0 and d1 > 0 and u2 == 0 and d2 > 0:\n        a = a2\n    elif u1 > 0 and d1 == 0 and u2 > 0 and d2 == 0:\n        a = a2\n    elif u1 > 0 and d1 == 0 and u2 > 0 and d2 > 0:\n        a = a2\n    elif u1 > 0 and d1 == 0 and u2 == 0 and d2 > 0:\n        a = a1\n    elif u1 > 0 and d1 > 0 and u2 == 0 and d2 == 0:\n        a = a1\n    elif u1 == 0 and d1 > 0 and u2 == 0 and d2 == 0:\n        a = a1\n    elif u1 > 0 and d1 == 0 and u2 == 0 and d2 == 0:\n        a = a1\n    elif u1 == 0 and d1 == 0 and u2 == 0 and d2 > 0:\n        a = a2\n    elif u1 == 0 and d1 == 0 and u2 > 0 and d2 > 0:\n        a = a2\n    else:\n        a = min(a1, a2)  # Default case\n    \n    # Calculate the total number of \"up\" and \"down\" generations\n    u = u1 + u2\n    d = d1 + d2\n    \n    return (u, d, a)\n\n# Test pedigree relationships\n# A simple family tree with parent-child and sibling relationships\npedigree_relationships = {\n    # Grandparents and parents\n    ('GF1', 'F1'): (0, 1, 1),  # GF1 is father of F1\n    ('GM1', 'F1'): (0, 1, 1),  # GM1 is mother of F1\n    ('GF1', 'F2'): (0, 1, 1),  # GF1 is father of F2\n    ('GM1', 'F2'): (0, 1, 1),  # GM1 is mother of F2\n    \n    # F1 and M1 have children C1, C2\n    ('F1', 'C1'): (0, 1, 1),   # F1 is father of C1\n    ('M1', 'C1'): (0, 1, 1),   # M1 is mother of C1\n    ('F1', 'C2'): (0, 1, 1),   # F1 is father of C2\n    ('M1', 'C2'): (0, 1, 1),   # M1 is mother of C2\n    \n    # F2 and M2 have children N1, N2\n    ('F2', 'N1'): (0, 1, 1),   # F2 is father of N1\n    ('M2', 'N1'): (0, 1, 1),   # M2 is mother of N1\n    ('F2', 'N2'): (0, 1, 1),   # F2 is father of N2\n    ('M2', 'N2'): (0, 1, 1),   # M2 is mother of N2\n    \n    # Sibling relationships (automatically derivable, but included for completeness)\n    ('C1', 'C2'): (1, 1, 2),   # C1 and C2 are full siblings\n    ('N1', 'N2'): (1, 1, 2),   # N1 and N2 are full siblings\n    ('F1', 'F2'): (1, 1, 2),   # F1 and F2 are full siblings\n}\n\n# Test cases for the find_relationship function\ntest_pairs = [\n    ('GF1', 'C1'),    # Great-grandparent to great-grandchild\n    ('C1', 'C2'),     # Siblings\n    ('C1', 'N1'),     # First cousins\n    ('F1', 'N1'),     # Uncle/Aunt to niece/nephew\n    ('GF1', 'N1'),    # Great-grandparent to great-grandchild\n    ('M1', 'M2'),     # Unrelated (no path should exist)\n]\n\n# Test the function\nfor id1, id2 in test_pairs:\n    rel = find_relationship(pedigree_relationships, id1, id2)\n    rel_name = classify_relationship(rel) if rel is not None else \"No relationship found\"\n    print(f\"Relationship between {id1} and {id2}: {rel} - {rel_name}\")\n\n# Visualize the pedigree for clarity\nG = nx.Graph()\nfor (person1, person2), rel in pedigree_relationships.items():\n    G.add_edge(person1, person2, relationship=rel)\n\nplt.figure(figsize=(12, 8))\npos = nx.spring_layout(G, seed=42)\nnx.draw(G, pos, with_labels=True, node_color='lightblue', node_size=500, font_size=10)\nnx.draw_networkx_edge_labels(G, pos, edge_labels={(u, v): str(d['relationship']) for u, v, d in G.edges(data=True)})\nplt.title('Pedigree Relationship Graph')\nplt.tight_layout()\nplt.show()"
   ],
   "metadata": {},
   "outputs": []
  },
  {
   "cell_type": "markdown",
   "source": "## Part 3: Compound and Complex Relationships\n\n### Theory and Background\n\nIn real-world genealogies, individuals are sometimes related in multiple ways, creating **compound relationships**. Common examples include:\n\n1. **Double First Cousins**: When two siblings from one family marry two siblings from another family, their children are related through both their maternal and paternal lines, sharing more DNA than typical first cousins.\n\n2. **Endogamous Populations**: In populations with high rates of intermarriage (like isolated communities, island populations, or certain cultural groups), individuals may be related through multiple different ancestral paths.\n\n3. **Pedigree Collapse**: When the same ancestor appears multiple times in a person's family tree, creating multiple paths of relationship between descendants.\n\nThese complex relationship patterns pose challenges for genetic genealogy:\n\n- **Increased Genetic Sharing**: Individuals with compound relationships typically share more DNA than those with simple relationships of the same degree.\n- **Multiple Paths**: Relationship inference must account for all paths of connection.\n- **Ambiguity**: The increased sharing can make relationship types harder to distinguish.\n\nBonsai v3 addresses these challenges through its relationship model and by computing total expected genetic sharing from all paths of relationship.",
   "metadata": {}
  },
  {
   "cell_type": "markdown",
   "source": "### Implementation for Compound Relationships\n\nWhen dealing with compound relationships, Bonsai v3 follows these general principles:\n\n1. **Represent Each Path Separately**: Each path of relationship is represented by its own relationship tuple.\n\n2. **Compute Expected Sharing for Each Path**: For each path, calculate the expected amount of genetic sharing.\n\n3. **Combined Model**: The total expected sharing is a function of all paths, accounting for potential overlaps.\n\nLet's explore a simple model for handling compound relationships by calculating expected IBD sharing:",
   "metadata": {}
  },
  {
   "cell_type": "code",
   "source": [
    "# Model for calculating expected IBD sharing\n\ndef calculate_expected_ibd(relationship_tuple, genome_length=3545):\n    \"\"\"\n    Calculate expected IBD sharing for a relationship.\n    \n    Args:\n        relationship_tuple: Tuple of the form (u, d, a) or (m, a)\n        genome_length: Total genome length in centiMorgans (default: 3545 cM for autosomes)\n        \n    Returns:\n        expected_ibd: Expected IBD sharing in centiMorgans\n    \"\"\"\n    # Handle None input\n    if relationship_tuple is None:\n        return 0\n    \n    # Extract tuple components\n    if len(relationship_tuple) == 3:\n        # (u, d, a) format\n        u, d, a = relationship_tuple\n        m = u + d  # Total meioses\n    elif len(relationship_tuple) == 2:\n        # (m, a) format\n        m, a = relationship_tuple\n    else:\n        # Invalid format\n        return 0\n    \n    # Check for self relationship\n    if m == 0:\n        return genome_length\n    \n    # Calculate expected sharing\n    # For each ancestor, the proportion of the genome expected to be shared is (1/2)^m\n    # Multiple by genome_length to get the sharing in cM\n    expected_ibd = a * (0.5 ** m) * genome_length\n    \n    return expected_ibd\n\ndef calculate_compound_ibd(relationship_tuples, genome_length=3545):\n    \"\"\"\n    Calculate expected total IBD sharing for compound relationships.\n    \n    Args:\n        relationship_tuples: List of relationship tuples (u, d, a) or (m, a)\n        genome_length: Total genome length in centiMorgans\n        \n    Returns:\n        total_expected_ibd: Total expected IBD sharing in centiMorgans\n    \"\"\"\n    # Simple model: calculate sharing for each relationship and sum\n    # This is a simplification as it doesn't account for overlaps\n    total_expected_ibd = 0\n    for rel_tuple in relationship_tuples:\n        total_expected_ibd += calculate_expected_ibd(rel_tuple, genome_length)\n    \n    # Cap at genome length (simplistic approach to handle overlaps)\n    total_expected_ibd = min(total_expected_ibd, genome_length)\n    \n    return total_expected_ibd\n\n# Examples of compound relationships\nprint(\"Expected IBD sharing for simple and compound relationships:\")\nprint(\"-\" * 60)\n\n# Simple relationships\nsimple_relationships = [\n    ((1, 0, 1), \"Parent-child\"),\n    ((1, 1, 2), \"Full siblings\"),\n    ((1, 1, 1), \"Half-siblings\"),\n    ((2, 2, 2), \"First cousins\"),\n    ((3, 3, 2), \"Second cousins\")\n]\n\nfor rel_tuple, rel_name in simple_relationships:\n    expected_ibd = calculate_expected_ibd(rel_tuple)\n    print(f\"{rel_name} {rel_tuple}: {expected_ibd:.2f} cM\")\n\nprint(\"\\\nCompound relationships:\")\nprint(\"-\" * 60)\n\n# Compound relationships\ncompound_relationships = [\n    ([((2, 2, 2), \"First cousins paternal side\"), ((2, 2, 2), \"First cousins maternal side\")], \"Double first cousins\"),\n    ([((1, 1, 1), \"Half-siblings paternal side\"), ((3, 3, 2), \"Second cousins maternal side\")], \"Half-siblings + second cousins\"),\n    ([((2, 2, 2), \"First cousins path 1\"), ((3, 3, 2), \"Second cousins path 2\"), ((4, 4, 2), \"Third cousins path 3\")], \"Multiple cousin paths\")\n]\n\nfor rel_tuples_with_names, compound_name in compound_relationships:\n    rel_tuples = [rel_tuple for rel_tuple, _ in rel_tuples_with_names]\n    expected_ibd = calculate_compound_ibd(rel_tuples)\n    \n    # Calculate individual IBD values for comparison\n    individual_ibds = [(name, calculate_expected_ibd(rel_tuple)) for rel_tuple, name in rel_tuples_with_names]\n    individual_ibds_str = \", \".join([f\"{name}: {ibd:.2f} cM\" for name, ibd in individual_ibds])\n    \n    print(f\"{compound_name}:\")\n    print(f\"  Individual paths: {individual_ibds_str}\")\n    print(f\"  Combined expected IBD: {expected_ibd:.2f} cM\")\n    print()"
   ],
   "metadata": {},
   "outputs": []
  },
  {
   "cell_type": "code",
   "source": [
    "# Visualize compound relationships\nimport matplotlib.pyplot as plt\nimport numpy as np\n\ndef create_relationship_chart(relationship_info, title):\n    \"\"\"Create a bar chart comparing IBD sharing for relationships\"\"\"\n    labels = [name for name, _ in relationship_info]\n    ibd_values = [ibd for _, ibd in relationship_info]\n    \n    plt.figure(figsize=(10, 6))\n    bars = plt.bar(labels, ibd_values, color='skyblue')\n    \n    # Add data labels\n    for bar in bars:\n        height = bar.get_height()\n        plt.text(bar.get_x() + bar.get_width()/2., height + 20,\n                 f'{height:.1f} cM',\n                 ha='center', va='bottom')\n    \n    plt.xlabel('Relationship')\n    plt.ylabel('Expected IBD Sharing (cM)')\n    plt.title(title)\n    plt.xticks(rotation=45, ha='right')\n    plt.tight_layout()\n    plt.ylim(0, max(ibd_values) * 1.2)  # Add some headroom for labels\n    plt.show()\n\n# Prepare data for visualization\n# 1. Simple relationships\nsimple_rel_data = [(rel_name, calculate_expected_ibd(rel_tuple)) \n                  for rel_tuple, rel_name in simple_relationships]\ncreate_relationship_chart(simple_rel_data, 'Expected IBD Sharing by Relationship Type')\n\n# 2. Compound relationships\ncompound_rel_data = []\n\n# Add individual and combined paths for double first cousins\ndouble_fc_data = []\ndouble_fc_data.append((\"First Cousin (1 path)\", calculate_expected_ibd((2, 2, 2))))\ndouble_fc_data.append((\"Double First Cousin\", \n                      calculate_compound_ibd([(2, 2, 2), (2, 2, 2)])))\ncreate_relationship_chart(double_fc_data, 'Comparison: First Cousin vs Double First Cousin')\n\n# Compare multiple compound relationships\ncompound_comparisons = [\n    (\"First Cousin\", calculate_expected_ibd((2, 2, 2))),\n    (\"Half Sibling\", calculate_expected_ibd((1, 1, 1))),\n    (\"Double First Cousin\", calculate_compound_ibd([(2, 2, 2), (2, 2, 2)])),\n    (\"Half Sibling + 2nd Cousin\", \n     calculate_compound_ibd([(1, 1, 1), (3, 3, 2)])),\n    (\"Triple Path Cousin\", \n     calculate_compound_ibd([(2, 2, 2), (3, 3, 2), (4, 4, 2)]))\n]\n\ncreate_relationship_chart(compound_comparisons, 'Comparison of Simple and Compound Relationships')"
   ],
   "metadata": {},
   "outputs": []
  },
  {
   "cell_type": "markdown",
   "source": "### Exercise 3: Modeling Compound Relationships\n\nIn this exercise, you'll implement a more sophisticated model for calculating expected IBD sharing in compound relationships, and visualize complex family structures with multiple relationship paths.\n\n**Task:** Implement a function to create and visualize a pedigree with compound relationships, and calculate expected IBD sharing between individuals who are related in multiple ways.\n\n**Hint:** Use a graph to represent the pedigree, find all paths between individuals, and calculate the expected IBD sharing accounting for all paths.",
   "metadata": {}
  },
  {
   "cell_type": "code",
   "source": [
    "# Exercise 3 code template\nimport networkx as nx\nimport matplotlib.pyplot as plt\nimport numpy as np\nfrom collections import defaultdict\n\ndef create_compound_relationship_pedigree():\n    \"\"\"\n    Create a pedigree with compound relationships.\n    \n    In this case, we'll create a pedigree with:\n    1. Double first cousins\n    2. Half-siblings who are also second cousins\n    3. Multiple paths between other individuals\n    \n    Returns:\n        G: NetworkX DiGraph representing the pedigree\n    \"\"\"\n    # Create a directed graph for the pedigree\n    G = nx.DiGraph()\n    \n    # Generation 1 (great-grandparents)\n    G.add_node(\"GGF1\", generation=1, sex=\"M\")\n    G.add_node(\"GGM1\", generation=1, sex=\"F\")\n    G.add_node(\"GGF2\", generation=1, sex=\"M\")\n    G.add_node(\"GGM2\", generation=1, sex=\"F\")\n    \n    # Generation 2 (grandparents)\n    # Family 1\n    G.add_node(\"GF1\", generation=2, sex=\"M\")\n    G.add_node(\"GM1\", generation=2, sex=\"F\")\n    G.add_node(\"GF2\", generation=2, sex=\"M\")\n    G.add_node(\"GM2\", generation=2, sex=\"F\")\n    \n    # Family 2\n    G.add_node(\"GF3\", generation=2, sex=\"M\")\n    G.add_node(\"GM3\", generation=2, sex=\"F\")\n    G.add_node(\"GF4\", generation=2, sex=\"M\")\n    G.add_node(\"GM4\", generation=2, sex=\"F\")\n    \n    # Connect Generation 1 to 2\n    G.add_edge(\"GGF1\", \"GF1\")\n    G.add_edge(\"GGM1\", \"GF1\")\n    G.add_edge(\"GGF1\", \"GF2\")\n    G.add_edge(\"GGM1\", \"GF2\")\n    \n    G.add_edge(\"GGF2\", \"GM1\")\n    G.add_edge(\"GGM2\", \"GM1\")\n    G.add_edge(\"GGF2\", \"GM2\")\n    G.add_edge(\"GGM2\", \"GM2\")\n    \n    # Generation 3 (parents)\n    # Family 1\n    G.add_node(\"F1\", generation=3, sex=\"M\")  # Child of GF1 and GM1\n    G.add_node(\"M1\", generation=3, sex=\"F\")  # Child of GF3 and GM3\n    G.add_node(\"F2\", generation=3, sex=\"M\")  # Child of GF2 and GM2\n    G.add_node(\"M2\", generation=3, sex=\"F\")  # Child of GF4 and GM4\n    \n    # Connect Generation 2 to 3\n    G.add_edge(\"GF1\", \"F1\")\n    G.add_edge(\"GM1\", \"F1\")\n    G.add_edge(\"GF2\", \"F2\")\n    G.add_edge(\"GM2\", \"F2\")\n    G.add_edge(\"GF3\", \"M1\")\n    G.add_edge(\"GM3\", \"M1\")\n    G.add_edge(\"GF4\", \"M2\")\n    G.add_edge(\"GM4\", \"M2\")\n    \n    # Generation 4 (subject generation)\n    G.add_node(\"C1\", generation=4, sex=\"M\")  # Child of F1 and M1\n    G.add_node(\"C2\", generation=4, sex=\"F\")  # Child of F1 and M1 (sibling of C1)\n    G.add_node(\"C3\", generation=4, sex=\"M\")  # Child of F2 and M2\n    G.add_node(\"C4\", generation=4, sex=\"F\")  # Child of F2 and M2 (sibling of C3)\n    \n    # Connect Generation 3 to 4\n    G.add_edge(\"F1\", \"C1\")\n    G.add_edge(\"M1\", \"C1\")\n    G.add_edge(\"F1\", \"C2\")\n    G.add_edge(\"M1\", \"C2\")\n    G.add_edge(\"F2\", \"C3\")\n    G.add_edge(\"M2\", \"C3\")\n    G.add_edge(\"F2\", \"C4\")\n    G.add_edge(\"M2\", \"C4\")\n    \n    # Create a compound relationship - add an additional parent-child relationship to create \n    # half-siblings who are also related in other ways\n    G.add_node(\"H\", generation=4, sex=\"M\")  # Half-sibling to C1 and C2\n    G.add_edge(\"F1\", \"H\")  # Same father as C1 and C2\n    # Different mother (not shown) for H\n    \n    # Connect families in additional ways to create more compound relationships\n    # Make GF3 and GF4 brothers (children of same great-grandparents)\n    G.add_edge(\"GGF1\", \"GF3\")\n    G.add_edge(\"GGM1\", \"GF3\")\n    G.add_edge(\"GGF1\", \"GF4\")\n    G.add_edge(\"GGM1\", \"GF4\")\n    \n    return G\n\ndef visualize_pedigree(G, highlight_path=None):\n    \"\"\"\n    Visualize a pedigree graph.\n    \n    Args:\n        G: NetworkX graph representing the pedigree\n        highlight_path: Optional list of nodes to highlight as a path\n    \"\"\"\n    plt.figure(figsize=(16, 10))\n    \n    # Position nodes by generation level\n    pos = {}\n    generation_nodes = defaultdict(list)\n    \n    # Group nodes by generation\n    for node, data in G.nodes(data=True):\n        gen = data.get('generation', 0)\n        generation_nodes[gen].append(node)\n    \n    # Position nodes by generation (vertical) and distribute horizontally\n    for gen, nodes in generation_nodes.items():\n        y = -gen * 2  # Vertical position by generation\n        \n        for i, node in enumerate(nodes):\n            x = i - len(nodes)/2  # Center nodes horizontally\n            pos[node] = (x, y)\n    \n    # Draw regular edges\n    nx.draw_networkx_edges(G, pos, width=1.0, alpha=0.5, \n                           arrowstyle='->', arrowsize=15)\n    \n    # Highlight specific path if provided\n    if highlight_path and len(highlight_path) > 1:\n        path_edges = [(highlight_path[i], highlight_path[i+1]) \n                     for i in range(len(highlight_path)-1)]\n        nx.draw_networkx_edges(G, pos, edgelist=path_edges, \n                               width=3.0, edge_color='red', \n                               arrowstyle='->', arrowsize=20)\n    \n    # Draw nodes with different colors by sex\n    male_nodes = [n for n, d in G.nodes(data=True) if d.get('sex') == 'M']\n    female_nodes = [n for n, d in G.nodes(data=True) if d.get('sex') == 'F']\n    \n    nx.draw_networkx_nodes(G, pos, nodelist=male_nodes, \n                          node_color='skyblue', node_size=500)\n    nx.draw_networkx_nodes(G, pos, nodelist=female_nodes, \n                          node_color='lightpink', node_size=500)\n    \n    # Draw node labels\n    nx.draw_networkx_labels(G, pos, font_size=10)\n    \n    plt.axis('off')\n    plt.title('Pedigree with Compound Relationships')\n    plt.tight_layout()\n    plt.show()\n\ndef find_all_relationship_paths(G, id1, id2, max_depth=8):\n    \"\"\"\n    Find all paths that represent genealogical relationships between two individuals.\n    \n    Args:\n        G: NetworkX graph representing the pedigree\n        id1: ID of the first individual\n        id2: ID of the second individual\n        max_depth: Maximum path length to consider\n        \n    Returns:\n        paths: List of paths that connect the individuals through common ancestors\n    \"\"\"\n    # Find all ancestors of each individual\n    def get_ancestors(G, node, max_depth):\n        ancestors = set()\n        queue = [(node, 0)]  # (node, depth)\n        \n        while queue:\n            current, depth = queue.pop(0)\n            \n            if depth > max_depth:\n                continue\n                \n            # Get all parents\n            parents = list(G.predecessors(current))\n            \n            for parent in parents:\n                ancestors.add(parent)\n                queue.append((parent, depth + 1))\n                \n        return ancestors\n    \n    # Get ancestors of both individuals\n    ancestors1 = get_ancestors(G, id1, max_depth)\n    ancestors2 = get_ancestors(G, id2, max_depth)\n    \n    # Find common ancestors\n    common_ancestors = ancestors1.intersection(ancestors2)\n    \n    if not common_ancestors:\n        return []  # No common ancestors\n    \n    # For each common ancestor, find paths to both individuals\n    all_paths = []\n    \n    for ancestor in common_ancestors:\n        # Find all paths from ancestor to id1\n        paths_to_id1 = list(nx.all_simple_paths(G, ancestor, id1, cutoff=max_depth))\n        \n        # Find all paths from ancestor to id2\n        paths_to_id2 = list(nx.all_simple_paths(G, ancestor, id2, cutoff=max_depth))\n        \n        # Combine paths to create full relationship paths\n        for path1 in paths_to_id1:\n            for path2 in paths_to_id2:\n                # Create full path: id1 <- ancestor -> id2\n                full_path = list(reversed(path1[:-1])) + path2\n                all_paths.append(full_path)\n    \n    return all_paths\n\ndef convert_path_to_relationship(path):\n    \"\"\"\n    Convert a path in the pedigree to a relationship tuple.\n    \n    Args:\n        path: List of nodes representing a path from one individual to another\n              through a common ancestor\n        \n    Returns:\n        relationship: Tuple of the form (u, d, a) representing the relationship\n    \"\"\"\n    if not path or len(path) < 3:\n        return None\n    \n    # Find the position of the common ancestor (highest point in the path)\n    # In our simplified paths, the common ancestor is the middle node\n    ancestor_pos = len(path) // 2\n    \n    # Calculate u (up from first person to common ancestor)\n    u = ancestor_pos\n    \n    # Calculate d (down from common ancestor to second person)\n    d = len(path) - ancestor_pos - 1\n    \n    # Common ancestor count is always 1 in this simple model\n    # In a more complex model, we'd count the actual common ancestors\n    a = 1\n    \n    return (u, d, a)\n\ndef calculate_compound_relationship(G, id1, id2):\n    \"\"\"\n    Calculate the compound relationship between two individuals.\n    \n    Args:\n        G: NetworkX graph representing the pedigree\n        id1: ID of the first individual\n        id2: ID of the second individual\n        \n    Returns:\n        relationships: List of relationship tuples\n        total_expected_ibd: Total expected IBD sharing\n    \"\"\"\n    # Find all relationship paths\n    all_paths = find_all_relationship_paths(G, id1, id2)\n    \n    if not all_paths:\n        return [], 0\n    \n    # Convert paths to relationships\n    relationships = []\n    for path in all_paths:\n        rel = convert_path_to_relationship(path)\n        if rel is not None:\n            relationships.append((rel, path))\n    \n    # Calculate expected IBD for each relationship\n    expected_ibds = []\n    for rel, path in relationships:\n        expected_ibd = calculate_expected_ibd(rel)\n        expected_ibds.append((rel, path, expected_ibd))\n    \n    # Calculate total expected IBD\n    rel_tuples = [rel for rel, _, _ in expected_ibds]\n    total_expected_ibd = calculate_compound_ibd(rel_tuples)\n    \n    return expected_ibds, total_expected_ibd\n\n# Create and visualize the pedigree\npedigree = create_compound_relationship_pedigree()\nvisualize_pedigree(pedigree)\n\n# Test pairs to analyze\ntest_pairs = [\n    (\"C1\", \"C3\"),  # Double first cousins\n    (\"C1\", \"H\"),   # Half-siblings\n    (\"C2\", \"C4\"),  # Double first cousins\n    (\"C1\", \"C2\"),  # Full siblings\n    (\"H\", \"C3\"),   # Complex relationship\n]\n\n# Analyze each pair\nfor id1, id2 in test_pairs:\n    print(f\"\\\nAnalyzing relationship between {id1} and {id2}:\")\n    \n    # Calculate compound relationship\n    relationships, total_ibd = calculate_compound_relationship(pedigree, id1, id2)\n    \n    if not relationships:\n        print(f\"No relationship found between {id1} and {id2}\")\n        continue\n    \n    # Display each path and its expected IBD\n    print(f\"Found {len(relationships)} relationship paths:\")\n    for i, (rel, path, expected_ibd) in enumerate(relationships):\n        rel_name = classify_relationship(rel)\n        print(f\"  Path {i+1}: {rel} - {rel_name}\")\n        print(f\"    Path: {' -> '.join(path)}\")\n        print(f\"    Expected IBD: {expected_ibd:.2f} cM\")\n    \n    print(f\"Total expected IBD: {total_ibd:.2f} cM\")\n    \n    # Visualize the first path for this pair\n    if relationships:\n        visualize_pedigree(pedigree, highlight_path=relationships[0][1])"
   ],
   "metadata": {},
   "outputs": []
  },
  {
   "cell_type": "markdown",
   "source": "## Real-World Application: Endogamous Populations\n\nCompound relationships are particularly common in endogamous populations - groups with a history of marriage within a relatively small community. Examples include:\n\n1. **Island communities**: Small island populations with limited geographic mobility\n2. **Religious isolates**: Communities that marry predominantly within their faith\n3. **Cultural or ethnic groups**: Populations that maintain marriage patterns within their group\n\nIn these populations, genetic genealogy presents unique challenges:\n\n- **Elevated IBD sharing**: Individuals tend to share more DNA than expected for their stated relationship\n- **Multiple relationship paths**: Many pairs of individuals are related in numerous ways\n- **Ambiguous relationship inference**: The standard relationship models may struggle to distinguish between different relationship types\n- **Complex pedigrees**: Family trees contain many loops and interconnections\n\nWhen working with endogamous populations, Bonsai v3 makes several adjustments:\n\n1. **Calibrating background IBD**: Adjusting the expected background level of IBD sharing\n2. **Considering multiple paths**: Accounting for all possible relationship connections\n3. **Using additional information**: Incorporating age, geography, and historical context\n4. **Probabilistic approaches**: Using statistical methods that express uncertainty appropriately\n\nA key principle in these cases is to not over-interpret the genetic data and to carefully combine it with traditional genealogical research.",
   "metadata": {}
  },
  {
   "cell_type": "code",
   "source": [
    "# Simulation of IBD sharing in endogamous vs. non-endogamous populations\n\nimport numpy as np\nimport pandas as pd\nimport matplotlib.pyplot as plt\nimport seaborn as sns\nimport random\n\n# Set random seed for reproducibility\nnp.random.seed(42)\nrandom.seed(42)\n\ndef simulate_endogamous_population(n_pairs=100, endogamy_factor=1.5):\n    \"\"\"\n    Simulate IBD sharing in an endogamous population compared to a non-endogamous population.\n    \n    Args:\n        n_pairs: Number of pairs to simulate for each relationship type\n        endogamy_factor: Factor by which to increase IBD sharing in endogamous population\n        \n    Returns:\n        DataFrame with simulated IBD sharing data\n    \"\"\"\n    # Define relationship types and their expected IBD sharing\n    relationships = {\n        \"2nd Cousins\": {\"mean_cm\": 212, \"std_cm\": 70},\n        \"3rd Cousins\": {\"mean_cm\": 53, \"std_cm\": 30},\n        \"4th Cousins\": {\"mean_cm\": 13, \"std_cm\": 10},\n        \"5th Cousins\": {\"mean_cm\": 3, \"std_cm\": 2}\n    }\n    \n    # Initialize data for the simulation\n    data = []\n    \n    # Generate data for non-endogamous population\n    for rel_type, params in relationships.items():\n        for _ in range(n_pairs):\n            # Generate normal random IBD sharing\n            ibd = max(0, np.random.normal(params[\"mean_cm\"], params[\"std_cm\"]))\n            \n            data.append({\n                \"relationship\": rel_type,\n                \"population\": \"Non-Endogamous\",\n                \"ibd_cm\": ibd\n            })\n    \n    # Generate data for endogamous population\n    for rel_type, params in relationships.items():\n        for _ in range(n_pairs):\n            # Increase mean and std by endogamy factor\n            endogamous_mean = params[\"mean_cm\"] * endogamy_factor\n            endogamous_std = params[\"std_cm\"] * np.sqrt(endogamy_factor)\n            \n            # Generate normal random IBD sharing\n            ibd = max(0, np.random.normal(endogamous_mean, endogamous_std))\n            \n            data.append({\n                \"relationship\": rel_type,\n                \"population\": \"Endogamous\",\n                \"ibd_cm\": ibd\n            })\n    \n    return pd.DataFrame(data)\n\n# Simulate data\nendogamous_data = simulate_endogamous_population(n_pairs=200, endogamy_factor=2.0)\n\n# Create boxplots to compare IBD sharing\nplt.figure(figsize=(14, 8))\nsns.boxplot(x=\"relationship\", y=\"ibd_cm\", hue=\"population\", data=endogamous_data)\nplt.title(\"IBD Sharing in Endogamous vs. Non-Endogamous Populations\")\nplt.xlabel(\"Relationship Type\")\nplt.ylabel(\"IBD Sharing (cM)\")\nplt.ylim(0, 500)  # Adjust y-axis for better visibility\nplt.grid(axis='y', alpha=0.3)\nplt.tight_layout()\nplt.show()\n\n# Create violin plots for more detailed distribution visualization\nplt.figure(figsize=(14, 8))\nsns.violinplot(x=\"relationship\", y=\"ibd_cm\", hue=\"population\", data=endogamous_data, split=True)\nplt.title(\"Distribution of IBD Sharing in Endogamous vs. Non-Endogamous Populations\")\nplt.xlabel(\"Relationship Type\")\nplt.ylabel(\"IBD Sharing (cM)\")\nplt.ylim(0, 500)  # Adjust y-axis for better visibility\nplt.grid(axis='y', alpha=0.3)\nplt.tight_layout()\nplt.show()\n\n# Calculate and display summary statistics\nsummary = endogamous_data.groupby(['relationship', 'population'])['ibd_cm'].agg(['mean', 'std', 'min', 'max'])\nprint(\"Summary Statistics of IBD Sharing:\\\n\")\nprint(summary)\n\n# Calculate overlap percentages between endogamous and non-endogamous distributions\nprint(\"\\\nOverlap Analysis - Risk of Misclassification:\")\nfor rel_type in relationships.keys():\n    # Get data for this relationship type\n    non_endo = endogamous_data[(endogamous_data['relationship'] == rel_type) & \n                              (endogamous_data['population'] == 'Non-Endogamous')]['ibd_cm'].values\n    endo = endogamous_data[(endogamous_data['relationship'] == rel_type) & \n                          (endogamous_data['population'] == 'Endogamous')]['ibd_cm'].values\n    \n    # Calculate 10th and 90th percentiles\n    non_endo_10th = np.percentile(non_endo, 10)\n    non_endo_90th = np.percentile(non_endo, 90)\n    endo_10th = np.percentile(endo, 10)\n    endo_90th = np.percentile(endo, 90)\n    \n    # Calculate percentage of endogamous values falling in non-endogamous range\n    misclass_pct = np.mean((endo >= non_endo_10th) & (endo <= non_endo_90th)) * 100\n    \n    print(f\"{rel_type}: {misclass_pct:.1f}% of endogamous pairs could be misclassified as non-endogamous\")"
   ],
   "metadata": {},
   "outputs": []
  },
  {
   "cell_type": "markdown",
   "source": "## Self-Assessment Questions\n\nTest your understanding with these questions:\n\n1. In Bonsai's relationship tuple format (u, d, a), what do each of the three components represent, and how would you represent a parent-child relationship?\n\n2. How does Bonsai calculate the degree of relationship from a relationship tuple, and why is it useful?\n\n3. What is the key challenge posed by compound relationships for genetic genealogy, and how does Bonsai address it?\n\n4. When computing expected IBD sharing for two individuals who are related through multiple paths, why can't we simply add the expected sharing from each path?\n\n5. What adjustments are necessary when analyzing relationships in endogamous populations compared to non-endogamous ones?\n\n*Answers to self-assessment questions can be found at the end of the lab document.*",
   "metadata": {}
  },
  {
   "cell_type": "markdown",
   "source": "## Summary\n\nIn this lab, we explored how Bonsai v3 handles complex relationship patterns through its `relationships.py` module. Key takeaways include:\n\n1. **Relationship Representation**: Bonsai uses the (u, d, a) tuple format to represent genealogical relationships, where u is the number of generations up, d is the number of generations down, and a is the number of common ancestors.\n\n2. **Relationship Calculations**: The module provides functions to calculate relationship degrees, join relationships through common individuals, and find transitive relationships along chains of relatives.\n\n3. **Compound Relationships**: Individuals can be related in multiple ways (like double first cousins), and Bonsai handles these by considering all paths of relationship and their combined genetic sharing.\n\n4. **Endogamous Populations**: In populations with high rates of intermarriage, Bonsai adjusts its models to account for elevated background IBD sharing and multiple relationship paths.\n\n5. **Relationship Uncertainty**: Complex relationships introduce uncertainty, and Bonsai uses probabilistic approaches to express confidence in its relationship predictions.\n\n### Connections to Other Labs\n\nThe concepts covered in this lab connect to:\n- **Lab 6: Probabilistic Relationship Inference** - Using likelihood models to infer relationships\n- **Lab 12: Relationship Assessment** - Evaluating and classifying relationships\n- **Lab 16: Merging Pedigrees** - Complex relationships affect how pedigrees can be merged\n- **Lab 23: Handling Twins** - Twins are a special case of close relationships\n\n### Further Reading\n\nTo deepen your understanding of these topics, consider exploring:\n\n- Huff, C. D., et al. (2011). \"Maximum-likelihood estimation of recent shared ancestry (ERSA).\" *Genome Research*, 21(5), 768-774.\n- Browning, S. R., & Browning, B. L. (2012). \"Identity by descent between distant relatives: Detection and applications.\" *Annual Review of Genetics*, 46, 617-633.\n- Baran, Y., et al. (2012). \"Fast and accurate inference of local ancestry in Latino populations.\" *Bioinformatics*, 28(10), 1359-1367.\n- Staples, J., et al. (2016). \"PRIMUS: Rapid reconstruction of pedigrees from genome-wide estimates of identity by descent.\" *American Journal of Human Genetics*, 95(5), 553-564.",
   "metadata": {}
  },
  {
   "cell_type": "markdown",
   "source": "---\n\n## Answer Key (for instructors)\n\n### Exercise 1\nThe solution code for the relationship representation and conversion functions is provided in the notebook. The key aspects include:\n\n- Converting between (u, d, a) and (m, a) formats\n- Calculating relationship degrees using the formula `degree = u + d - a + 1`\n- Properly classifying relationships based on their (u, d, a) tuples\n\n### Exercise 2\nThe solution code for finding relationships in a pedigree is provided in the notebook. The key aspects include:\n\n- Building a graph representation of the pedigree\n- Finding paths between individuals\n- Converting paths to relationship tuples\n- Using `get_transitive_rel` to compute relationships along chains\n\n### Exercise 3\nThe solution code for modeling compound relationships is provided in the notebook. The key aspects include:\n\n- Creating a pedigree with compound relationships\n- Finding all relationship paths between individuals\n- Converting each path to a relationship tuple\n- Calculating expected IBD sharing for each path\n- Computing total expected IBD sharing for the compound relationship\n\n### Self-Assessment Answers\n\n1. In Bonsai's relationship tuple format (u, d, a):\n   - `u` (up): Number of generations to go up from the first person to a common ancestor\n   - `d` (down): Number of generations to go down from the ancestor to the second person\n   - `a` (ancestors): Number of common ancestors connecting the two people\n   - A parent-child relationship would be represented as (0, 1, 1) - go up 0 generations from parent, down 1 generation to child, with 1 common ancestor\n\n2. Bonsai calculates the degree of relationship using the formula `degree = u + d - a + 1`. This is useful because:\n   - It provides a standardized measure of relationship closeness\n   - Relationships with the same degree have similar genetic sharing expectations\n   - It allows for comparing and sorting relationships of different types\n\n3. The key challenge of compound relationships is that individuals may be related through multiple paths, which increases their genetic sharing beyond what would be expected for a single relationship. Bonsai addresses this by:\n   - Identifying all paths of relationship between individuals\n   - Calculating expected genetic sharing for each path\n   - Modeling the combined sharing using a sophisticated model that accounts for overlaps\n   - Using these multiple paths in pedigree construction and relationship inference\n\n4. We can't simply add expected IBD sharing from multiple paths because:\n   - Segments shared through different paths may overlap\n   - The total sharing can't exceed the genome length (3545 cM for autosomes)\n   - Simple addition would overestimate the expected sharing\n   - The statistical distribution of sharing becomes more complex\n   - A more sophisticated model is needed to account for the correlation between segments\n\n5. When analyzing relationships in endogamous populations, necessary adjustments include:\n   - Calibrating for elevated background IBD sharing across the population\n   - Adjusting relationship likelihood models to account for multiple relationship paths\n   - Using additional non-genetic information (age, geography, historical records)\n   - Expressing greater uncertainty in relationship predictions\n   - Considering many more potential relationship types when making inferences\n   - Using more conservative confidence thresholds for relationship classification",
   "metadata": {}
  },
  {
   "cell_type": "code",
   "source": [
    "# Optional: Convert this notebook to PDF\n# Uncomment and run this cell if you want to generate a PDF version\n\n# !jupyter nbconvert --to pdf \"Lab24_Complex_Relationships.ipynb\""
   ],
   "metadata": {},
   "outputs": []
  }
 ],
 "metadata": {
  "kernelspec": {
   "display_name": "Python 3",
   "language": "python",
   "name": "python3"
  },
  "language_info": {
   "codemirror_mode": {
    "name": "ipython",
    "version": 3
   },
   "file_extension": ".py",
   "mimetype": "text/x-python",
   "name": "python",
   "nbconvert_exporter": "python",
   "pygments_lexer": "ipython3",
   "version": "3.8.10"
  }
 },
 "nbformat": 4,
 "nbformat_minor": 4
}