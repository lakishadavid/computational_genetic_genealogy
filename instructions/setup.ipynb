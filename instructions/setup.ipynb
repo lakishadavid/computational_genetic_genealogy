{
 "cells": [
  {
   "cell_type": "code",
   "execution_count": 1,
   "metadata": {},
   "outputs": [],
   "source": [
    "import os\n",
    "from decouple import config"
   ]
  },
  {
   "cell_type": "code",
   "execution_count": 2,
   "metadata": {},
   "outputs": [
    {
     "name": "stdout",
     "output_type": "stream",
     "text": [
      "Working Directory: /home/ubuntu/computational_genetic_genealogy\n",
      "Data Directory: /home/ubuntu/computational_genetic_genealogy/data\n",
      "References Directory: /home/ubuntu/computational_genetic_genealogy/references\n",
      "Results Directory: /home/ubuntu/computational_genetic_genealogy/results\n",
      "Utils Directory: /home/ubuntu/computational_genetic_genealogy/utils\n"
     ]
    }
   ],
   "source": [
    "working_directory = config('PROJECT_WORKING_DIR', default=None)\n",
    "data_directory = config('PROJECT_DATA_DIR', default=None)\n",
    "references_directory = config('PROJECT_REFERENCES_DIR', default=None)\n",
    "results_directory = config('PROJECT_RESULTS_DIR', default=None)\n",
    "utils_directory = config('PROJECT_UTILS_DIR', default=None)\n",
    "\n",
    "print(f\"Working Directory: {working_directory}\")\n",
    "print(f\"Data Directory: {data_directory}\")\n",
    "print(f\"References Directory: {references_directory}\")\n",
    "print(f\"Results Directory: {results_directory}\")\n",
    "print(f\"Utils Directory: {utils_directory}\")"
   ]
  },
  {
   "cell_type": "markdown",
   "metadata": {},
   "source": [
    "Pull to get the updates"
   ]
  }
 ],
 "metadata": {
  "kernelspec": {
   "display_name": "bagg-analysis-_9iskiIm-py3.12",
   "language": "python",
   "name": "python3"
  },
  "language_info": {
   "codemirror_mode": {
    "name": "ipython",
    "version": 3
   },
   "file_extension": ".py",
   "mimetype": "text/x-python",
   "name": "python",
   "nbconvert_exporter": "python",
   "pygments_lexer": "ipython3",
   "version": "3.12.3"
  }
 },
 "nbformat": 4,
 "nbformat_minor": 2
}
