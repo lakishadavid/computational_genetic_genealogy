{
 "cells": [
  {
   "cell_type": "markdown",
   "metadata": {},
   "source": "# Lab 21: Pedigree Rendering and Visualization\n\n## Overview\n\nIn this lab, we'll explore the pedigree rendering and visualization techniques used in Bonsai v3. These techniques are essential for helping users interpret and understand the results of genetic genealogy analyses. Effective visualization makes complex pedigree structures more accessible and highlights important genetic relationships.",
   "outputs": []
  },
  {
   "cell_type": "code",
   "execution_count": null,
   "metadata": {},
   "outputs": [],
   "source": [
    "# 🧬 Google Colab Setup - Run this cell first!\n",
    "import os\n",
    "import sys\n",
    "import pandas as pd\n",
    "import numpy as np\n",
    "import matplotlib.pyplot as plt\n",
    "import seaborn as sns\n",
    "import networkx as nx\n",
    "from IPython.display import display, HTML, Markdown\n",
    "\n",
    "def is_colab():\n",
    "    '''Check if running in Google Colab'''\n",
    "    try:\n",
    "        import google.colab\n",
    "        return True\n",
    "    except ImportError:\n",
    "        return False\n",
    "\n",
    "if is_colab():\n",
    "    print(\"🔬 Setting up Google Colab environment...\")\n",
    "    \n",
    "    # Install dependencies\n",
    "    print(\"📦 Installing packages...\")\n",
    "    !pip install -q pysam biopython scikit-allel networkx pygraphviz seaborn plotly\n",
    "    !apt-get update -qq && apt-get install -qq samtools bcftools tabix graphviz-dev\n",
    "    \n",
    "    # Create directories\n",
    "    !mkdir -p /content/class_data /content/results\n",
    "    \n",
    "    # Download essential class data\n",
    "    print(\"📥 Downloading class data...\")\n",
    "    S3_BASE = \"https://computational-genetic-genealogy.s3.us-east-2.amazonaws.com/class_data/\"\n",
    "    data_files = [\n",
    "        \"pedigree.fam\", \"pedigree.def\", \n",
    "        \"merged_opensnps_autosomes_ped_sim.seg\",\n",
    "        \"merged_opensnps_autosomes_ped_sim-everyone.fam\",\n",
    "        \"ped_sim_run2.seg\", \"ped_sim_run2-everyone.fam\"\n",
    "    ]\n",
    "    \n",
    "    for file in data_files:\n",
    "        !wget -q -O /content/class_data/{file} {S3_BASE}{file}\n",
    "        print(f\"  ✅ {file}\")\n",
    "    \n",
    "    # Define utility functions\n",
    "    def setup_environment():\n",
    "        return \"/content/class_data\", \"/content/results\"\n",
    "    \n",
    "    def save_results(dataframe, filename, description=\"results\"):\n",
    "        os.makedirs(\"/content/results\", exist_ok=True)\n",
    "        full_path = f\"/content/results/{filename}\"\n",
    "        dataframe.to_csv(full_path, index=False)\n",
    "        display(HTML(f'''\n",
    "        <div style=\"padding: 10px; background-color: #e3f2fd; border-left: 4px solid #2196f3; margin: 10px 0;\">\n",
    "            <p><strong>💾 Results saved!</strong> To download: \n",
    "            <code>from google.colab import files; files.download('{full_path}')</code></p>\n",
    "        </div>\n",
    "        '''))\n",
    "        return full_path\n",
    "    \n",
    "    def save_plot(plt, filename, description=\"plot\"):\n",
    "        os.makedirs(\"/content/results\", exist_ok=True)\n",
    "        full_path = f\"/content/results/{filename}\"\n",
    "        plt.savefig(full_path, dpi=300, bbox_inches='tight')\n",
    "        plt.show()\n",
    "        display(HTML(f'''\n",
    "        <div style=\"padding: 10px; background-color: #e8f5e8; border-left: 4px solid #4caf50; margin: 10px 0;\">\n",
    "            <p><strong>📊 Plot saved!</strong> To download: \n",
    "            <code>from google.colab import files; files.download('{full_path}')</code></p>\n",
    "        </div>\n",
    "        '''))\n",
    "        return full_path\n",
    "    \n",
    "    print(\"✅ Colab setup complete! Ready to explore genetic genealogy.\")\n",
    "    \n",
    "else:\n",
    "    print(\"🏠 Local environment detected\")\n",
    "    def setup_environment():\n",
    "        return \"class_data\", \"results\"\n",
    "    def save_results(df, filename, description=\"\"):\n",
    "        os.makedirs(\"results\", exist_ok=True)\n",
    "        path = f\"results/{filename}\"\n",
    "        df.to_csv(path, index=False)\n",
    "        return path\n",
    "    def save_plot(plt, filename, description=\"\"):\n",
    "        os.makedirs(\"results\", exist_ok=True)\n",
    "        path = f\"results/{filename}\"\n",
    "        plt.savefig(path, dpi=300, bbox_inches='tight')\n",
    "        plt.show()\n",
    "        return path\n",
    "\n",
    "# Set up paths and configure visualization\n",
    "DATA_DIR, RESULTS_DIR = setup_environment()\n",
    "plt.style.use('seaborn-v0_8-whitegrid')\n",
    "sns.set_context(\"notebook\")"
   ]
  },
  {
   "cell_type": "code",
   "execution_count": null,
   "metadata": {},
   "outputs": [],
   "source": [
    "# Setup Bonsai module paths\n",
    "if not is_jupyterlite():\n",
    "    # In local environment, add the utils directory to system path\n",
    "    utils_dir = os.getenv('PROJECT_UTILS_DIR', os.path.join(os.path.dirname(DATA_DIR), 'utils'))\n",
    "    bonsaitree_dir = os.path.join(utils_dir, 'bonsaitree')\n",
    "    \n",
    "    # Add to path if it exists and isn't already there\n",
    "    if os.path.exists(bonsaitree_dir) and bonsaitree_dir not in sys.path:\n",
    "        sys.path.append(bonsaitree_dir)\n",
    "        print(f\"Added {bonsaitree_dir} to sys.path\")\n",
    "else:\n",
    "    # In JupyterLite, use a simplified approach\n",
    "    print(\"⚠️ Running in JupyterLite: Some Bonsai functionality may be limited.\")\n",
    "    print(\"This notebook is primarily designed for local execution where the Bonsai codebase is available.\")"
   ]
  },
  {
   "cell_type": "code",
   "execution_count": null,
   "metadata": {},
   "outputs": [],
   "source": [
    "# Helper functions for exploring modules\n",
    "def display_module_classes(module_name):\n",
    "    \"\"\"Display classes and their docstrings from a module\"\"\"\n",
    "    try:\n",
    "        # Import the module\n",
    "        module = importlib.import_module(module_name)\n",
    "        \n",
    "        # Find all classes\n",
    "        classes = inspect.getmembers(module, inspect.isclass)\n",
    "        \n",
    "        # Filter classes defined in this module (not imported)\n",
    "        classes = [(name, cls) for name, cls in classes if cls.__module__ == module_name]\n",
    "        \n",
    "        # Print info for each class\n",
    "        for name, cls in classes:\n",
    "            print(f\"\\n## {name}\")\n",
    "            \n",
    "            # Get docstring\n",
    "            doc = inspect.getdoc(cls)\n",
    "            if doc:\n",
    "                print(f\"Docstring: {doc}\")\n",
    "            else:\n",
    "                print(\"No docstring available\")\n",
    "            \n",
    "            # Get methods\n",
    "            methods = inspect.getmembers(cls, inspect.isfunction)\n",
    "            if methods:\n",
    "                print(\"\\nMethods:\")\n",
    "                for method_name, method in methods:\n",
    "                    if not method_name.startswith('_'):  # Skip private methods\n",
    "                        print(f\"- {method_name}\")\n",
    "    except ImportError as e:\n",
    "        print(f\"Error importing module {module_name}: {e}\")\n",
    "    except Exception as e:\n",
    "        print(f\"Error processing module {module_name}: {e}\")\n",
    "\n",
    "def display_module_functions(module_name):\n",
    "    \"\"\"Display functions and their docstrings from a module\"\"\"\n",
    "    try:\n",
    "        # Import the module\n",
    "        module = importlib.import_module(module_name)\n",
    "        \n",
    "        # Find all functions\n",
    "        functions = inspect.getmembers(module, inspect.isfunction)\n",
    "        \n",
    "        # Filter functions defined in this module (not imported)\n",
    "        functions = [(name, func) for name, func in functions if func.__module__ == module_name]\n",
    "        \n",
    "        # Print info for each function\n",
    "        for name, func in functions:\n",
    "            if name.startswith('_'):  # Skip private functions\n",
    "                continue\n",
    "                \n",
    "            print(f\"\\n## {name}\")\n",
    "            \n",
    "            # Get signature\n",
    "            sig = inspect.signature(func)\n",
    "            print(f\"Signature: {name}{sig}\")\n",
    "            \n",
    "            # Get docstring\n",
    "            doc = inspect.getdoc(func)\n",
    "            if doc:\n",
    "                print(f\"Docstring: {doc}\")\n",
    "            else:\n",
    "                print(\"No docstring available\")\n",
    "    except ImportError as e:\n",
    "        print(f\"Error importing module {module_name}: {e}\")\n",
    "    except Exception as e:\n",
    "        print(f\"Error processing module {module_name}: {e}\")\n",
    "\n",
    "def view_function_source(module_name, function_name):\n",
    "    \"\"\"Display the source code of a function\"\"\"\n",
    "    try:\n",
    "        # Import the module\n",
    "        module = importlib.import_module(module_name)\n",
    "        \n",
    "        # Get the function\n",
    "        func = getattr(module, function_name)\n",
    "        \n",
    "        # Get the source code\n",
    "        source = inspect.getsource(func)\n",
    "        \n",
    "        # Print the source code\n",
    "        from IPython.display import display, Markdown\n",
    "        display(Markdown(f\"```python\\n{source}\\n```\"))\n",
    "    except ImportError as e:\n",
    "        print(f\"Error importing module {module_name}: {e}\")\n",
    "    except AttributeError:\n",
    "        print(f\"Function {function_name} not found in module {module_name}\")\n",
    "    except Exception as e:\n",
    "        print(f\"Error processing function {function_name}: {e}\")"
   ]
  },
  {
   "cell_type": "markdown",
   "metadata": {},
   "source": [
    "## Check Bonsai Installation\n",
    "\n",
    "Let's verify that the Bonsai v3 module is available for import:"
   ]
  },
  {
   "cell_type": "code",
   "execution_count": null,
   "metadata": {},
   "outputs": [],
   "source": [
    "try:\n",
    "    from utils.bonsaitree.bonsaitree import v3\n",
    "    print(\"✅ Successfully imported Bonsai v3 module\")\n",
    "except ImportError as e:\n",
    "    print(f\"❌ Failed to import Bonsai v3 module: {e}\")\n",
    "    print(\"This lab requires access to the Bonsai v3 codebase.\")\n",
    "    print(\"Make sure you've properly set up your environment with the Bonsai repository.\")"
   ]
  },
  {
   "cell_type": "markdown",
   "metadata": {},
   "source": "## Lab 21: Pedigree Rendering and Visualization\n\nVisualizing genetic pedigrees is a critical component of genetic genealogy applications. Effective visualization helps users understand complex family structures, identify patterns, and interpret genetic relationships. Bonsai v3 includes dedicated rendering functionality in its codebase.\n\nIn this lab, we'll explore:\n\n1. **Graph-Based Rendering**: How Bonsai represents and renders pedigrees using directed graphs\n2. **Pedigree Rendering API**: Understanding the rendering functions in the Bonsai v3 codebase\n3. **Customizing Visualizations**: Adding colors, labels, and highlighting to pedigrees\n4. **Practical Applications**: Using pedigree visualizations to support genetic genealogy analysis\n\nWe'll be working with the actual rendering code from the Bonsai v3 codebase, examining how it utilizes Graphviz to create effective pedigree visualizations.",
   "outputs": []
  },
  {
   "cell_type": "markdown",
   "metadata": {},
   "source": "## Part 1: Graph-Based Rendering\n\nPedigrees are naturally represented as directed graphs, where nodes represent individuals and edges represent parent-child relationships. In the Bonsai v3 codebase, the rendering functionality uses Graphviz to create these visualizations.\n\nLet's start by examining the rendering module in the Bonsai v3 codebase:",
   "outputs": []
  },
  {
   "cell_type": "code",
   "metadata": {},
   "outputs": [],
   "source": "# Import the rendering module from Bonsai v3\ntry:\n    from utils.bonsaitree.bonsaitree.v3 import rendering\n    \n    # Display the source code for the rendering function\n    view_source(rendering.render_ped)\n    \n    print(\"✅ Successfully imported Bonsai v3 rendering module\")\nexcept ImportError as e:\n    print(f\"❌ Failed to import Bonsai v3 rendering module: {e}\")\n    print(\"This lab requires access to the Bonsai v3 codebase.\")\n    \n# Check for Graphviz installation\ntry:\n    import graphviz\n    print(\"✅ Graphviz is installed\")\n    \n    # Display version info\n    graphviz_version = graphviz.__version__\n    print(f\"Graphviz version: {graphviz_version}\")\nexcept ImportError:\n    print(\"❌ Graphviz is not installed. Install with: pip install graphviz\")\n    print(\"Additionally, the Graphviz system package may be required.\")\n    print(\"On Ubuntu/Debian: sudo apt-get install graphviz\")\n    print(\"On macOS: brew install graphviz\")\n    print(\"On Windows: download from http://www.graphviz.org/download/\")\n    \n# Also import pedigrees module for helper functions\ntry:\n    from utils.bonsaitree.bonsaitree.v3 import pedigrees\n    print(\"✅ Successfully imported Bonsai v3 pedigrees module\")\nexcept ImportError as e:\n    print(f\"❌ Failed to import Bonsai v3 pedigrees module: {e}\")"
  },
  {
   "cell_type": "markdown",
   "metadata": {},
   "source": "### 1.1 Understanding Pedigree Data Structures\n\nBefore we can visualize a pedigree, we need to understand how Bonsai v3 represents pedigree data. The key data structure is the \"up-node dictionary\", which maps each individual to their parent(s).\n\nLet's examine the pedigree-related functions in the Bonsai v3 codebase:",
   "outputs": []
  },
  {
   "cell_type": "code",
   "metadata": {},
   "outputs": [],
   "source": "# Display key functions from the pedigrees module\ndisplay_module_functions('utils.bonsaitree.bonsaitree.v3.pedigrees')\n\n# Let's look at a few specific functions that are relevant for visualization\nkey_functions = [\n    'get_all_id_set',\n    'reverse_node_dict',\n    'get_subtree_node_set'\n]\n\nprint(\"\\nExamining key functions for visualization:\")\nfor func_name in key_functions:\n    if hasattr(pedigrees, func_name):\n        print(f\"\\n{func_name} source code:\")\n        view_source(getattr(pedigrees, func_name))\n    else:\n        print(f\"Function {func_name} not found in the pedigrees module\")"
  },
  {
   "cell_type": "markdown",
   "metadata": {},
   "source": "### 1.2 Creating a Sample Pedigree\n\nNow, let's create a sample pedigree that we can visualize. We'll use the up-node dictionary format used by Bonsai v3:",
   "outputs": []
  },
  {
   "cell_type": "code",
   "metadata": {},
   "outputs": [],
   "source": "# Create a sample pedigree using the up-node dictionary format\ndef create_sample_pedigree():\n    \"\"\"\n    Create a sample pedigree for demonstration.\n    \n    The structure is as follows:\n        1       2       3       4\n         \\     /         \\     /\n          \\   /           \\   /\n           \\ /             \\ /\n            5               6\n             \\             /\n              \\           /\n               \\         /\n                \\       /\n                 \\     /\n                  \\   /\n                   \\ /\n                    7\n                   / \\\n                  /   \\\n                 /     \\\n                8       9\n    \n    Returns:\n        Dictionary in Bonsai's up-node format {id: {parent1: degree1, parent2: degree2}, ...}\n    \"\"\"\n    # The up-node dictionary maps each individual to their parents\n    # The format is {individual_id: {parent_id1: 1, parent_id2: 1}, ...}\n    # where the value 1 represents a direct parent-child relationship (degree 1)\n    \n    up_dict = {\n        # Individual 5 has parents 1 and 2\n        5: {1: 1, 2: 1},\n        \n        # Individual 6 has parents 3 and 4\n        6: {3: 1, 4: 1},\n        \n        # Individual 7 has parents 5 and 6\n        7: {5: 1, 6: 1},\n        \n        # Individuals 8 and 9 are children of 7\n        8: {7: 1},\n        9: {7: 1},\n        \n        # Founders (individuals 1, 2, 3, 4) don't have parents\n        1: {},\n        2: {},\n        3: {},\n        4: {}\n    }\n    \n    return up_dict\n\n# Create the sample pedigree\nsample_pedigree = create_sample_pedigree()\n\n# Examine the pedigree\nprint(\"Sample pedigree (up-node dictionary):\")\nfor individual, parents in sample_pedigree.items():\n    parent_str = \", \".join([f\"{p}\" for p in parents]) if parents else \"none (founder)\"\n    print(f\"Individual {individual} - Parents: {parent_str}\")\n\n# Get all IDs in the pedigree using the Bonsai function\nall_ids = pedigrees.get_all_id_set(sample_pedigree)\nprint(f\"\\nAll IDs in the pedigree: {all_ids}\")\n\n# Get the founder set (individuals with no parents in the pedigree)\nfounders = pedigrees.get_founder_set(sample_pedigree) if hasattr(pedigrees, 'get_founder_set') else {id for id, parents in sample_pedigree.items() if not parents}\nprint(f\"Founders: {founders}\")\n\n# Create the down-node dictionary (mapping parents to children)\ndown_dict = pedigrees.reverse_node_dict(sample_pedigree)\nprint(\"\\nDown-node dictionary (parents → children):\")\nfor parent, children in down_dict.items():\n    print(f\"Individual {parent} - Children: {', '.join([str(c) for c in children])}\")"
  },
  {
   "cell_type": "markdown",
   "metadata": {},
   "source": "### 1.3 Basic Pedigree Visualization with Bonsai's render_ped\n\nNow let's use Bonsai's `render_ped` function to visualize our sample pedigree:",
   "outputs": []
  },
  {
   "cell_type": "code",
   "metadata": {},
   "outputs": [],
   "source": "# Set up a directory for rendering output\nimport os\nrender_dir = os.path.join(RESULTS_DIR, 'pedigree_renders')\n\n# Create the directory if it doesn't exist\nif not os.path.exists(render_dir):\n    os.makedirs(render_dir)\n    print(f\"Created directory: {render_dir}\")\nelse:\n    print(f\"Using existing directory: {render_dir}\")\n    \n# Render the pedigree using Bonsai's render_ped function\ntry:\n    # Create a simple label dictionary for better readability\n    label_dict = {i: f\"Person {i}\" for i in sample_pedigree.keys()}\n    \n    # Render the pedigree\n    rendering.render_ped(\n        up_dct=sample_pedigree,\n        name=\"sample_pedigree\",\n        out_dir=render_dir,\n        label_dict=label_dict\n    )\n    \n    # Display the rendered image\n    from IPython.display import Image, display\n    display(Image(os.path.join(render_dir, \"sample_pedigree.png\")))\n    \n    print(f\"✅ Pedigree rendered successfully to {render_dir}/sample_pedigree.png\")\nexcept Exception as e:\n    print(f\"❌ Failed to render pedigree: {e}\")\n    \n    # If the rendering fails, let's create a simple visualization using networkx\n    try:\n        import networkx as nx\n        import matplotlib.pyplot as plt\n        \n        print(\"Falling back to NetworkX visualization...\")\n        \n        # Create a directed graph from the up-node dictionary\n        G = nx.DiGraph()\n        \n        # Add nodes\n        for node in sample_pedigree:\n            G.add_node(node)\n        \n        # Add edges from parents to children\n        for child, parents in sample_pedigree.items():\n            for parent in parents:\n                G.add_edge(parent, child)\n        \n        # Create the visualization\n        plt.figure(figsize=(10, 8))\n        pos = nx.shell_layout(G)\n        nx.draw(G, pos, with_labels=True, node_color='skyblue', \n                node_size=1000, font_size=12, font_weight='bold', \n                arrows=True, arrowsize=20)\n        plt.title(\"Sample Pedigree (NetworkX Fallback)\")\n        plt.axis('off')\n        plt.show()\n    except Exception as nested_e:\n        print(f\"❌ NetworkX fallback also failed: {nested_e}\")"
  },
  {
   "cell_type": "markdown",
   "source": "## Part 2: Pedigree Rendering API\n\nNow that we've seen a basic visualization, let's explore the pedigree rendering API in Bonsai v3 more deeply. The `render_ped` function provides several options for customizing the visualization:",
   "metadata": {}
  },
  {
   "cell_type": "code",
   "source": "# Examine the render_ped function signature\nimport inspect\n\nif hasattr(rendering, 'render_ped'):\n    # Get the signature of the render_ped function\n    sig = inspect.signature(rendering.render_ped)\n    \n    print(\"render_ped function signature:\")\n    print(f\"rendering.render_ped{sig}\")\n    \n    # Get parameter documentation\n    doc = inspect.getdoc(rendering.render_ped)\n    if doc:\n        print(\"\\nDocumentation:\")\n        print(doc)\n    else:\n        print(\"\\nNo documentation available.\")\n        \n    # Summarize the parameters\n    print(\"\\nParameters:\")\n    for param_name, param in sig.parameters.items():\n        param_type = param.annotation if param.annotation != inspect.Parameter.empty else \"Not specified\"\n        default = param.default if param.default != inspect.Parameter.empty else \"Required\"\n        print(f\"- {param_name}: {param_type} (Default: {default})\")\nelse:\n    print(\"render_ped function not found in the rendering module.\")",
   "metadata": {},
   "outputs": []
  },
  {
   "cell_type": "markdown",
   "source": "### 2.1 Customizing Node Colors\n\nOne way to enhance pedigree visualizations is to use different colors to represent different attributes of individuals. Let's customize our visualization by coloring nodes based on sex and highlighting a focal individual:",
   "metadata": {}
  },
  {
   "cell_type": "code",
   "source": "# Create a more complex pedigree with sex information\ndef create_sample_pedigree_with_sex():\n    \"\"\"\n    Create a sample pedigree with sex information.\n    \n    Returns:\n        Tuple of (up_dict, sex_dict)\n    \"\"\"\n    # Define the pedigree structure (same as before)\n    up_dict = {\n        5: {1: 1, 2: 1},\n        6: {3: 1, 4: 1},\n        7: {5: 1, 6: 1},\n        8: {7: 1},\n        9: {7: 1},\n        1: {},\n        2: {},\n        3: {},\n        4: {}\n    }\n    \n    # Define sex for each individual (M=male, F=female)\n    sex_dict = {\n        1: 'M',  # Male\n        2: 'F',  # Female\n        3: 'M',  # Male\n        4: 'F',  # Female\n        5: 'M',  # Male\n        6: 'F',  # Female\n        7: 'M',  # Male\n        8: 'M',  # Male\n        9: 'F'   # Female\n    }\n    \n    return up_dict, sex_dict\n\n# Create the sample pedigree with sex information\nsample_pedigree, sex_dict = create_sample_pedigree_with_sex()\n\n# Create a color dictionary based on sex\ncolor_dict = {\n    id_val: 'skyblue' if sex == 'M' else 'pink' \n    for id_val, sex in sex_dict.items()\n}\n\n# Choose a focal individual to highlight\nfocal_id = 7  # Person 7 (connecting two families)\n\n# Enhanced labels with sex information\nlabel_dict = {\n    i: f\"Person {i} ({'M' if sex_dict[i] == 'M' else 'F'})\" \n    for i in sample_pedigree.keys()\n}\n\n# Render the pedigree with customized colors and a focal individual\ntry:\n    # Render the pedigree\n    rendering.render_ped(\n        up_dct=sample_pedigree,\n        name=\"colored_pedigree\",\n        out_dir=render_dir,\n        color_dict=color_dict,\n        label_dict=label_dict,\n        focal_id=focal_id\n    )\n    \n    # Display the rendered image\n    from IPython.display import Image, display\n    display(Image(os.path.join(render_dir, \"colored_pedigree.png\")))\n    \n    print(f\"✅ Colored pedigree rendered successfully\")\nexcept Exception as e:\n    print(f\"❌ Failed to render colored pedigree: {e}\")",
   "metadata": {},
   "outputs": []
  },
  {
   "cell_type": "markdown",
   "source": "### 2.2 Working with Different Output Formats\n\nGraphviz supports multiple output formats. Let's modify our approach to generate different format outputs and examine them:",
   "metadata": {}
  },
  {
   "cell_type": "code",
   "source": "# Since Bonsai's render_ped function doesn't directly support format selection,\n# we'll create a wrapper function that renders the pedigree and then converts to different formats\n\nimport subprocess\n\ndef render_pedigree_in_formats(up_dict, name, out_dir, formats=None, **kwargs):\n    \"\"\"\n    Render a pedigree in multiple formats.\n    \n    Args:\n        up_dict: The pedigree as an up-node dictionary\n        name: Base name for the output files\n        out_dir: Directory to save the rendered images\n        formats: List of formats to generate (e.g., [\"png\", \"svg\", \"pdf\"])\n        **kwargs: Additional arguments to pass to rendering.render_ped\n        \n    Returns:\n        Dict mapping formats to file paths\n    \"\"\"\n    if formats is None:\n        formats = [\"png\"]  # Default to PNG only\n    \n    # Ensure the output directory exists\n    if not os.path.exists(out_dir):\n        os.makedirs(out_dir)\n    \n    # Generate the initial rendering with Bonsai's render_ped\n    # This produces a file in the default format (usually PNG)\n    rendering.render_ped(\n        up_dct=up_dict,\n        name=name,\n        out_dir=out_dir,\n        **kwargs\n    )\n    \n    # Base path without extension\n    base_path = os.path.join(out_dir, name)\n    \n    # Check which formats we need to generate\n    output_files = {}\n    \n    # The initial rendering produces a DOT file and the default format\n    dot_file = f\"{base_path}\"  # DOT file without extension\n    default_format = \"png\"  # Usually PNG\n    \n    # Add the default format to our outputs\n    output_files[default_format] = f\"{base_path}.{default_format}\"\n    \n    # Convert to additional formats if requested\n    for fmt in formats:\n        if fmt != default_format:\n            output_file = f\"{base_path}.{fmt}\"\n            try:\n                # Use Graphviz command-line tools to convert\n                subprocess.run(\n                    [\"dot\", f\"-T{fmt}\", f\"-o{output_file}\", f\"{dot_file}\"],\n                    check=True,\n                    capture_output=True\n                )\n                output_files[fmt] = output_file\n                print(f\"Generated {fmt.upper()} format: {output_file}\")\n            except subprocess.CalledProcessError as e:\n                print(f\"Failed to generate {fmt.upper()} format: {e}\")\n                print(f\"Error output: {e.stderr.decode() if e.stderr else 'None'}\")\n            except FileNotFoundError:\n                print(f\"Command 'dot' not found. Make sure Graphviz is installed.\")\n    \n    return output_files\n\n# Render the pedigree in multiple formats\ntry:\n    # Render in PNG, SVG, and PDF formats\n    output_files = render_pedigree_in_formats(\n        up_dict=sample_pedigree,\n        name=\"multi_format_pedigree\",\n        out_dir=render_dir,\n        formats=[\"png\", \"svg\"],  # Removed PDF to avoid issues on some systems\n        color_dict=color_dict,\n        label_dict=label_dict,\n        focal_id=focal_id\n    )\n    \n    # Display the PNG rendering\n    if \"png\" in output_files:\n        from IPython.display import Image\n        display(Image(output_files[\"png\"]))\n    \n    # Display the SVG rendering (if available)\n    if \"svg\" in output_files:\n        from IPython.display import SVG\n        display(SVG(output_files[\"svg\"]))\nexcept Exception as e:\n    print(f\"❌ Multi-format rendering failed: {e}\")",
   "metadata": {},
   "outputs": []
  },
  {
   "cell_type": "markdown",
   "source": "## Part 3: Customizing Visualizations\n\nLet's explore more advanced customization options for pedigree visualizations:",
   "metadata": {}
  },
  {
   "cell_type": "markdown",
   "source": "### 3.1 Creating a Custom Pedigree Rendering Function\n\nWhile Bonsai's `render_ped` function is very useful, it has some limitations. Let's create an enhanced version that offers more customization options:",
   "metadata": {}
  },
  {
   "cell_type": "code",
   "source": "def enhanced_render_pedigree(\n    up_dct, \n    name, \n    out_dir, \n    color_dict=None, \n    label_dict=None, \n    focal_id=None,\n    shape_dict=None,\n    edge_colors=None,\n    node_size=None,\n    font_size=None,\n    direction=\"BT\",  # TB=top to bottom (ancestors at top), BT=bottom to top (ancestors at bottom)\n    format=\"png\"\n):\n    \"\"\"\n    Enhanced pedigree rendering function with more customization options.\n    \n    Args:\n        up_dct: Up-node dictionary {id: {parent1: 1, parent2: 1}, ...}\n        name: Base name for the output file\n        out_dir: Directory to save the rendered image\n        color_dict: Dictionary mapping node IDs to colors\n        label_dict: Dictionary mapping node IDs to labels\n        focal_id: ID of the focal individual to highlight\n        shape_dict: Dictionary mapping node IDs to shapes ('box', 'circle', 'ellipse', etc.)\n        edge_colors: Dictionary mapping (parent_id, child_id) tuples to edge colors\n        node_size: Base size for nodes (can be adjusted for individual nodes using shape attributes)\n        font_size: Font size for node labels\n        direction: Graph direction ('TB'=top to bottom, 'BT'=bottom to top, 'LR'=left to right, 'RL'=right to left)\n        format: Output format (png, svg, pdf, etc.)\n        \n    Returns:\n        Path to the rendered image\n    \"\"\"\n    # Ensure the output directory exists\n    if not os.path.exists(out_dir):\n        os.makedirs(out_dir)\n    \n    # Get all node IDs\n    all_id_set = pedigrees.get_all_id_set(up_dct)\n    \n    # Set default values for dictionaries\n    if color_dict is None:\n        color_dict = {i: 'dodgerblue' for i in all_id_set}\n    \n    if label_dict is None:\n        label_dict = {i: str(i) for i in all_id_set}\n    \n    if shape_dict is None:\n        shape_dict = {i: 'box' for i in all_id_set}\n    \n    if edge_colors is None:\n        edge_colors = {}\n    \n    # Set default values for other properties\n    if node_size is None:\n        node_size = 0.5\n    \n    if font_size is None:\n        font_size = 10\n    \n    # Apply highlighting to the focal individual\n    if focal_id is not None:\n        color_dict[focal_id] = 'red'\n    \n    # Create a new directed graph\n    dot = graphviz.Digraph(name)\n    \n    # Set graph attributes\n    dot.attr(rankdir=direction)  # Direction of the graph\n    \n    # Add nodes with attributes\n    for node in all_id_set:\n        # Define node attributes\n        attrs = {\n            'color': 'black',  # Default edge color\n            'fillcolor': color_dict.get(node, 'white'),  # Fill color\n            'style': 'filled',  # Style\n            'label': label_dict.get(node, str(node)),  # Label\n            'shape': shape_dict.get(node, 'box'),  # Shape\n            'width': str(node_size),  # Width\n            'height': str(node_size),  # Height\n            'fontsize': str(font_size)  # Font size\n        }\n        \n        # Add the node with attributes\n        dot.node(str(node), **attrs)\n    \n    # Add edges with attributes\n    for child, parents in up_dct.items():\n        for parent in parents:\n            # Define edge attributes\n            edge_color = edge_colors.get((parent, child), 'black')\n            \n            # Add the edge\n            dot.edge(\n                str(parent), \n                str(child), \n                color=edge_color,\n                arrowhead='none'  # No arrowheads for cleaner look\n            )\n    \n    # Render the graph\n    output_path = dot.render(directory=out_dir, format=format).replace('\\\\', '/')\n    \n    return output_path\n\n# Let's use our enhanced rendering function\ntry:\n    # Create a more detailed set of rendering options\n    \n    # Custom labels with additional information\n    enhanced_labels = {\n        i: f\"Person {i}\\n{'Male' if sex_dict[i] == 'M' else 'Female'}\" \n        for i in sample_pedigree.keys()\n    }\n    \n    # Custom shapes based on sex\n    shapes = {\n        i: 'box' if sex_dict[i] == 'M' else 'ellipse' \n        for i in sample_pedigree.keys()\n    }\n    \n    # Edge colors for specific relationships\n    edge_colors = {\n        # Highlight the path from grandparents to focal individual\n        (1, 5): 'blue',\n        (2, 5): 'blue',\n        (5, 7): 'blue',\n        (3, 6): 'green',\n        (4, 6): 'green',\n        (6, 7): 'green'\n    }\n    \n    # Render the enhanced pedigree\n    output_path = enhanced_render_pedigree(\n        up_dct=sample_pedigree,\n        name=\"enhanced_pedigree\",\n        out_dir=render_dir,\n        color_dict=color_dict,\n        label_dict=enhanced_labels,\n        focal_id=focal_id,\n        shape_dict=shapes,\n        edge_colors=edge_colors,\n        node_size=1.0,\n        font_size=12,\n        direction=\"TB\",  # Top to bottom (ancestors at top)\n        format=\"png\"\n    )\n    \n    # Display the rendered image\n    from IPython.display import Image\n    display(Image(output_path))\n    \n    print(f\"✅ Enhanced pedigree rendered successfully to {output_path}\")\n    \n    # Also render in bottom-to-top direction (ancestors at bottom)\n    output_path_bt = enhanced_render_pedigree(\n        up_dct=sample_pedigree,\n        name=\"enhanced_pedigree_bt\",\n        out_dir=render_dir,\n        color_dict=color_dict,\n        label_dict=enhanced_labels,\n        focal_id=focal_id,\n        shape_dict=shapes,\n        edge_colors=edge_colors,\n        node_size=1.0,\n        font_size=12,\n        direction=\"BT\",  # Bottom to top (ancestors at bottom)\n        format=\"png\"\n    )\n    \n    # Display the bottom-up rendering\n    display(Image(output_path_bt))\n    \n    print(f\"✅ Bottom-up pedigree rendered successfully to {output_path_bt}\")\nexcept Exception as e:\n    print(f\"❌ Enhanced rendering failed: {e}\")",
   "metadata": {},
   "outputs": []
  },
  {
   "cell_type": "markdown",
   "source": "### 3.2 Visualizing Pedigree Subtrees\n\nIn many genetic genealogy applications, it's useful to visualize specific subtrees of a larger pedigree. Let's implement a function to extract and visualize subtrees:",
   "metadata": {}
  },
  {
   "cell_type": "code",
   "source": "# Let's create a larger pedigree for demonstration\ndef create_extended_pedigree():\n    \"\"\"\n    Create a larger pedigree for demonstration.\n    \n    This extends our sample pedigree with additional branches.\n    \n    Returns:\n        Dictionary in Bonsai's up-node format\n    \"\"\"\n    # Start with our existing pedigree\n    pedigree = create_sample_pedigree()\n    \n    # Add more individuals and relationships\n    pedigree.update({\n        # Add siblings to Person 7\n        10: {5: 1, 6: 1},  # Sibling of 7\n        11: {5: 1, 6: 1},  # Sibling of 7\n        \n        # Add siblings to Person 5\n        12: {1: 1, 2: 1},  # Sibling of 5\n        \n        # Add a nuclear family connected to Person 1\n        13: {},  # New founder\n        14: {1: 1, 13: 1},  # Child of 1 and 13\n        15: {14: 1},  # Child of 14\n        16: {14: 1}   # Child of 14\n    })\n    \n    return pedigree\n\n# Create the extended pedigree\nextended_pedigree = create_extended_pedigree()\n\n# Use Bonsai's functions to extract subtrees\ndef visualize_subtree(up_dct, root_id, name, out_dir, **kwargs):\n    \"\"\"\n    Extract and visualize a subtree from a pedigree.\n    \n    Args:\n        up_dct: Full pedigree as an up-node dictionary\n        root_id: ID of the root individual for the subtree\n        name: Base name for the output file\n        out_dir: Directory to save the rendered image\n        **kwargs: Additional arguments to pass to enhanced_render_pedigree\n        \n    Returns:\n        Tuple of (sub_dict, output_path)\n    \"\"\"\n    # Extract the subtree using Bonsai's functions\n    if hasattr(pedigrees, 'get_subdict'):\n        # Use Bonsai's get_subdict function if available\n        sub_dict = pedigrees.get_subdict(up_dct, root_id)\n    else:\n        # Otherwise, implement a simplified version\n        # This only includes descendants of root_id\n        sub_dict = {root_id: up_dct.get(root_id, {})}\n        \n        # Function to recursively add descendants\n        def add_descendants(node_id):\n            for child_id in list(up_dct.keys()):\n                parents = up_dct.get(child_id, {})\n                if node_id in parents:\n                    if child_id not in sub_dict:\n                        sub_dict[child_id] = parents\n                        add_descendants(child_id)\n        \n        # Add all descendants\n        add_descendants(root_id)\n    \n    # Visualize the subtree\n    output_path = enhanced_render_pedigree(\n        up_dct=sub_dict,\n        name=name,\n        out_dir=out_dir,\n        **kwargs\n    )\n    \n    return sub_dict, output_path\n\n# Define sex information for the extended pedigree\nextended_sex_dict = {\n    1: 'M', 2: 'F', 3: 'M', 4: 'F', 5: 'M', 6: 'F', 7: 'M', 8: 'M', 9: 'F',\n    10: 'M', 11: 'F', 12: 'F', 13: 'F', 14: 'M', 15: 'F', 16: 'M'\n}\n\n# Create color dictionary based on sex\nextended_color_dict = {\n    id_val: 'skyblue' if sex == 'M' else 'pink' \n    for id_val, sex in extended_sex_dict.items()\n}\n\n# Create shape dictionary based on sex\nextended_shapes = {\n    id_val: 'box' if sex == 'M' else 'ellipse' \n    for id_val, sex in extended_sex_dict.items()\n}\n\n# Create label dictionary\nextended_labels = {\n    id_val: f\"P{id_val}\\n({'M' if sex == 'M' else 'F'})\" \n    for id_val, sex in extended_sex_dict.items()\n}\n\n# Visualize the full extended pedigree\ntry:\n    # Render the full pedigree\n    full_output = enhanced_render_pedigree(\n        up_dct=extended_pedigree,\n        name=\"extended_pedigree\",\n        out_dir=render_dir,\n        color_dict=extended_color_dict,\n        label_dict=extended_labels,\n        shape_dict=extended_shapes,\n        direction=\"TB\"\n    )\n    \n    # Display the full pedigree\n    print(\"Full Extended Pedigree:\")\n    display(Image(full_output))\n    \n    # Visualize subtrees for different root individuals\n    root_ids = [1, 5, 7, 14]\n    \n    for root_id in root_ids:\n        # Extract and visualize the subtree\n        sub_dict, output_path = visualize_subtree(\n            up_dct=extended_pedigree,\n            root_id=root_id,\n            name=f\"subtree_{root_id}\",\n            out_dir=render_dir,\n            color_dict=extended_color_dict,\n            label_dict=extended_labels,\n            shape_dict=extended_shapes,\n            focal_id=root_id,\n            direction=\"TB\"\n        )\n        \n        # Display the subtree\n        print(f\"Subtree rooted at Person {root_id}:\")\n        display(Image(output_path))\nexcept Exception as e:\n    print(f\"❌ Subtree visualization failed: {e}\")",
   "metadata": {},
   "outputs": []
  },
  {
   "cell_type": "markdown",
   "source": "## Part 4: Practical Applications\n\nNow let's look at some practical applications of pedigree visualization in genetic genealogy:",
   "metadata": {}
  },
  {
   "cell_type": "markdown",
   "source": "### 4.1 Visualizing IBD Sharing in a Pedigree\n\nA key application in genetic genealogy is visualizing IBD sharing between individuals in a pedigree:",
   "metadata": {}
  },
  {
   "cell_type": "code",
   "source": "# Create simulated IBD data for our pedigree\ndef create_simulated_ibd_data(pedigree, sex_dict):\n    \"\"\"\n    Create simulated IBD sharing data between individuals in a pedigree.\n    \n    Args:\n        pedigree: Up-node dictionary\n        sex_dict: Dictionary mapping individual IDs to sexes ('M' or 'F')\n        \n    Returns:\n        Dictionary mapping pairs of individuals to IBD sharing metrics\n    \"\"\"\n    # Create a down-node dictionary for easier relationship inference\n    down_dict = pedigrees.reverse_node_dict(pedigree)\n    \n    # Define a function to check relationships\n    def are_parent_child(id1, id2):\n        \"\"\"Check if id1 is a parent of id2 or vice versa.\"\"\"\n        return id1 in pedigree.get(id2, {}) or id2 in pedigree.get(id1, {})\n    \n    def are_siblings(id1, id2):\n        \"\"\"Check if id1 and id2 are siblings.\"\"\"\n        parents1 = set(pedigree.get(id1, {}).keys())\n        parents2 = set(pedigree.get(id2, {}).keys())\n        return len(parents1.intersection(parents2)) > 0\n    \n    def are_grandparent_grandchild(id1, id2):\n        \"\"\"Check if id1 is a grandparent of id2 or vice versa.\"\"\"\n        # Check if id1 is a grandparent of id2\n        for parent_id in pedigree.get(id2, {}):\n            if id1 in pedigree.get(parent_id, {}):\n                return True\n        \n        # Check if id2 is a grandparent of id1\n        for parent_id in pedigree.get(id1, {}):\n            if id2 in pedigree.get(parent_id, {}):\n                return True\n        \n        return False\n    \n    def are_cousins(id1, id2):\n        \"\"\"Check if id1 and id2 are first cousins.\"\"\"\n        # Get parents of id1 and id2\n        parents1 = set(pedigree.get(id1, {}).keys())\n        parents2 = set(pedigree.get(id2, {}).keys())\n        \n        # Check if any parent of id1 is a sibling of any parent of id2\n        for p1 in parents1:\n            for p2 in parents2:\n                if are_siblings(p1, p2):\n                    return True\n        \n        return False\n    \n    # Create a dictionary to store IBD sharing data\n    ibd_data = {}\n    \n    # Get all individual IDs\n    individuals = list(pedigree.keys())\n    \n    # Generate IBD data for each pair of individuals\n    for i, id1 in enumerate(individuals):\n        for id2 in individuals[i+1:]:  # Only process each pair once\n            # Initialize sharing data\n            shared_segments = []\n            total_cm = 0\n            \n            # Determine relationship type and adjust expected sharing\n            if are_parent_child(id1, id2):\n                # Parent-child: ~3400 cM shared\n                expected_cm = 3400\n                min_segments = 22  # One per chromosome\n                max_segments = 25\n            elif are_siblings(id1, id2):\n                # Siblings: ~2550 cM shared on average\n                expected_cm = 2550\n                min_segments = 35\n                max_segments = 45\n            elif are_grandparent_grandchild(id1, id2):\n                # Grandparent-grandchild: ~1700 cM shared\n                expected_cm = 1700\n                min_segments = 20\n                max_segments = 30\n            elif are_cousins(id1, id2):\n                # First cousins: ~850 cM shared\n                expected_cm = 850\n                min_segments = 10\n                max_segments = 20\n            else:\n                # More distant or unrelated: less sharing\n                relatives = False\n                for id3 in pedigree:\n                    if id3 in pedigree.get(id1, {}) and id3 in pedigree.get(id2, {}):\n                        relatives = True\n                        break\n                \n                if relatives:\n                    # Distant relatives\n                    expected_cm = 100\n                    min_segments = 2\n                    max_segments = 6\n                else:\n                    # Unrelated\n                    expected_cm = 0\n                    min_segments = 0\n                    max_segments = 1\n            \n            # Add some random variation to the expected sharing\n            if expected_cm > 0:\n                total_cm = max(0, expected_cm * (0.9 + 0.2 * random.random()))\n                \n                # Generate random segments\n                num_segments = random.randint(min_segments, max_segments)\n                \n                # Distribute total cM across segments\n                segment_cms = []\n                remaining_cm = total_cm\n                for _ in range(num_segments - 1):\n                    segment_cm = remaining_cm * random.random() * 0.3  # Take up to 30% of remaining\n                    segment_cms.append(segment_cm)\n                    remaining_cm -= segment_cm\n                \n                # Add the last segment with remaining cM\n                if remaining_cm > 0:\n                    segment_cms.append(remaining_cm)\n                \n                # Create the segment objects\n                for s, segment_cm in enumerate(segment_cms):\n                    if segment_cm >= 7:  # Only include segments >= 7 cM\n                        chrom = random.randint(1, 22)\n                        start_pos = random.randint(1000000, 100000000)\n                        end_pos = start_pos + random.randint(5000000, 50000000)\n                        segment = {\n                            'id1': id1,\n                            'id2': id2,\n                            'chromosome': str(chrom),\n                            'start_pos': start_pos,\n                            'end_pos': end_pos,\n                            'cm': segment_cm,\n                            'snps': int(segment_cm * 70)  # Approximate SNP count\n                        }\n                        shared_segments.append(segment)\n            \n            # Store the data\n            pair = (min(id1, id2), max(id1, id2))\n            ibd_data[pair] = {\n                'segments': shared_segments,\n                'total_cm': sum(seg['cm'] for seg in shared_segments),\n                'num_segments': len(shared_segments)\n            }\n    \n    return ibd_data\n\n# Create simulated IBD data for our extended pedigree\nibd_data = create_simulated_ibd_data(extended_pedigree, extended_sex_dict)\n\n# Display summary of the IBD data\nprint(\"IBD Sharing Summary:\")\nprint(f\"{'Individual 1':<10} {'Individual 2':<10} {'Total cM':<10} {'Segments':<10}\")\nprint(\"-\" * 45)\n\n# Sort by total cM\nsorted_pairs = sorted(ibd_data.items(), key=lambda x: x[1]['total_cm'], reverse=True)\n\nfor (id1, id2), data in sorted_pairs[:10]:  # Show top 10 relationships\n    print(f\"{id1:<10} {id2:<10} {data['total_cm']:<10.1f} {data['num_segments']:<10}\")\n\n# Visualize IBD sharing in the pedigree\ndef visualize_pedigree_with_ibd(pedigree, ibd_data, focal_id=None, min_cm=50):\n    \"\"\"\n    Visualize a pedigree with IBD sharing information.\n    \n    Args:\n        pedigree: Up-node dictionary\n        ibd_data: Dictionary mapping pairs of individuals to IBD sharing metrics\n        focal_id: Optional ID to highlight IBD sharing from this individual\n        min_cm: Minimum cM threshold for displaying IBD connections\n        \n    Returns:\n        Path to the rendered image\n    \"\"\"\n    # Get all IDs in the pedigree\n    all_ids = pedigrees.get_all_id_set(pedigree)\n    \n    # Create a new directed graph\n    dot = graphviz.Digraph('pedigree_with_ibd')\n    \n    # Set graph attributes\n    dot.attr(rankdir='TB')  # Top to bottom\n    \n    # Add nodes (individuals)\n    for id_val in all_ids:\n        # Define node attributes\n        sex = extended_sex_dict.get(id_val, 'U')\n        color = 'skyblue' if sex == 'M' else 'pink'\n        shape = 'box' if sex == 'M' else 'ellipse'\n        \n        # Highlight focal individual\n        if id_val == focal_id:\n            color = 'red'\n        \n        dot.node(\n            str(id_val),\n            label=f\"P{id_val}\\n({'M' if sex == 'M' else 'F'})\",\n            fillcolor=color,\n            style='filled',\n            shape=shape\n        )\n    \n    # Add parent-child edges\n    for child, parents in pedigree.items():\n        for parent in parents:\n            dot.edge(\n                str(parent),\n                str(child),\n                color='black',\n                style='solid',\n                penwidth='1'\n            )\n    \n    # Add IBD sharing edges\n    for (id1, id2), data in ibd_data.items():\n        total_cm = data['total_cm']\n        \n        # Skip if below threshold or if focal_id is specified and neither individual is the focal_id\n        if total_cm < min_cm or (focal_id and id1 != focal_id and id2 != focal_id):\n            continue\n        \n        # Calculate edge attributes based on total cM\n        # Thicker edges for more sharing\n        penwidth = 0.5 + min(5, total_cm / 500)\n        \n        # Color intensity based on total cM\n        intensity = min(255, int(50 + (total_cm / 3500) * 205))\n        color = f\"#{intensity:02x}00{255-intensity:02x}\"  # Red to blue gradient\n        \n        # Add the IBD edge\n        dot.edge(\n            str(id1),\n            str(id2),\n            color=color,\n            style='dashed',\n            penwidth=str(penwidth),\n            constraint='false',  # Don't use this edge for layout\n            label=f\"{total_cm:.1f} cM\"\n        )\n    \n    # Render the graph\n    output_path = dot.render(\n        filename='pedigree_with_ibd',\n        directory=render_dir,\n        format='png'\n    ).replace('\\\\', '/')\n    \n    return output_path\n\n# Visualize the pedigree with IBD sharing\ntry:\n    # Full pedigree with all IBD relationships\n    output_path = visualize_pedigree_with_ibd(\n        pedigree=extended_pedigree,\n        ibd_data=ibd_data,\n        min_cm=50  # Only show relationships with at least 50 cM shared\n    )\n    \n    # Display the rendered image\n    print(\"Pedigree with IBD Sharing:\")\n    display(Image(output_path))\n    \n    # Pedigree with IBD sharing from a specific individual\n    focal_id = 7  # Person 7\n    \n    output_path_focal = visualize_pedigree_with_ibd(\n        pedigree=extended_pedigree,\n        ibd_data=ibd_data,\n        focal_id=focal_id,\n        min_cm=20  # Lower threshold for focal individual\n    )\n    \n    # Display the rendered image\n    print(f\"Pedigree with IBD Sharing from Person {focal_id}:\")\n    display(Image(output_path_focal))\nexcept Exception as e:\n    print(f\"❌ Failed to visualize pedigree with IBD: {e}\")",
   "metadata": {},
   "outputs": []
  },
  {
   "cell_type": "markdown",
   "source": "### 4.2 Visualizing Chromosome Painting\n\nAnother useful visualization in genetic genealogy is chromosome painting, which shows how segments are shared across chromosomes:",
   "metadata": {}
  },
  {
   "cell_type": "code",
   "source": "def create_chromosome_painting(individual_id, ibd_data, figsize=(15, 10)):\n    \"\"\"\n    Create a chromosome painting visualization for an individual.\n    \n    Args:\n        individual_id: ID of the individual to visualize\n        ibd_data: Dictionary mapping pairs of individuals to IBD sharing data\n        figsize: Figure size (width, height)\n        \n    Returns:\n        Matplotlib figure\n    \"\"\"\n    # Extract segments involving the individual\n    segments = []\n    \n    for (id1, id2), data in ibd_data.items():\n        if id1 == individual_id or id2 == individual_id:\n            # Get the other individual's ID\n            other_id = id2 if id1 == individual_id else id1\n            \n            # Add segments to the list\n            for segment in data['segments']:\n                segments.append({\n                    'chromosome': segment['chromosome'],\n                    'start_pos': segment['start_pos'],\n                    'end_pos': segment['end_pos'],\n                    'cm': segment['cm'],\n                    'other_id': other_id\n                })\n    \n    # If no segments, return an empty figure\n    if not segments:\n        fig, ax = plt.subplots(figsize=figsize)\n        ax.text(0.5, 0.5, \"No IBD segments found\", ha='center', va='center', fontsize=14)\n        ax.axis('off')\n        return fig\n    \n    # Sort segments by chromosome and position\n    segments.sort(key=lambda s: (int(s['chromosome']) if s['chromosome'].isdigit() else 999, s['start_pos']))\n    \n    # Get the unique chromosomes\n    chromosomes = sorted(set(s['chromosome'] for s in segments), \n                        key=lambda x: int(x) if x.isdigit() else 999)\n    \n    # Approximate chromosome lengths (in base pairs)\n    chrom_lengths = {\n        '1': 248956422, '2': 242193529, '3': 198295559, \n        '4': 190214555, '5': 181538259, '6': 170805979,\n        '7': 159345973, '8': 145138636, '9': 138394717,\n        '10': 133797422, '11': 135086622, '12': 133275309,\n        '13': 114364328, '14': 107043718, '15': 101991189,\n        '16': 90338345, '17': 83257441, '18': 80373285,\n        '19': 58617616, '20': 64444167, '21': 46709983,\n        '22': 50818468, 'X': 156040895, 'Y': 57227415\n    }\n    \n    # Create a figure with one subplot per chromosome\n    fig, axs = plt.subplots(len(chromosomes), 1, figsize=figsize, \n                           squeeze=False, sharex=True, gridspec_kw={'hspace': 0.3})\n    axs = axs.flatten()\n    \n    # Create a color map for each unique \"other_id\"\n    other_ids = sorted(set(s['other_id'] for s in segments))\n    colors = plt.cm.tab10.colors\n    color_map = {other_id: colors[i % len(colors)] for i, other_id in enumerate(other_ids)}\n    \n    # Draw segments on each chromosome\n    for i, chrom in enumerate(chromosomes):\n        ax = axs[i]\n        \n        # Get chromosome length\n        chrom_length = chrom_lengths.get(chrom, 200000000)\n        \n        # Draw chromosome backbone\n        ax.plot([0, chrom_length], [0, 0], 'k-', linewidth=2)\n        \n        # Filter segments for this chromosome\n        chrom_segments = [s for s in segments if s['chromosome'] == chrom]\n        \n        # Draw segments\n        for segment in chrom_segments:\n            other_id = segment['other_id']\n            color = color_map[other_id]\n            \n            # Draw a thick line for the segment\n            ax.plot(\n                [segment['start_pos'], segment['end_pos']],\n                [0, 0],\n                '-',\n                linewidth=10,\n                color=color,\n                solid_capstyle='butt',\n                alpha=0.7\n            )\n            \n            # Add label if segment is large enough\n            if segment['cm'] > 20:\n                ax.text(\n                    (segment['start_pos'] + segment['end_pos']) / 2,\n                    0.1,\n                    f\"P{other_id} ({segment['cm']:.1f} cM)\",\n                    ha='center',\n                    va='bottom',\n                    fontsize=8,\n                    rotation=0,\n                    bbox=dict(facecolor='white', alpha=0.7, edgecolor='none')\n                )\n        \n        # Set y-axis limits and remove ticks\n        ax.set_ylim(-0.5, 0.5)\n        ax.set_yticks([])\n        \n        # Add chromosome label\n        ax.text(\n            -0.02 * chrom_length,\n            0,\n            f\"Chr {chrom}\",\n            ha='right',\n            va='center',\n            fontsize=10,\n            fontweight='bold'\n        )\n        \n        # Set x-axis ticks in millions of base pairs\n        ax.set_xlim(-0.05 * chrom_length, 1.05 * chrom_length)\n        \n        # Only show x-axis for the bottom plot\n        if i < len(chromosomes) - 1:\n            ax.set_xticklabels([])\n    \n    # Format x-axis ticks as Mb\n    def format_mb(x, pos):\n        return f\"{x / 1_000_000:.0f}\"\n    \n    axs[-1].xaxis.set_major_formatter(plt.FuncFormatter(format_mb))\n    axs[-1].set_xlabel('Position (Mb)')\n    \n    # Add a legend\n    handles = [plt.Line2D([0], [0], color=color, lw=4) for color in [color_map[i] for i in other_ids]]\n    labels = [f\"Person {i}\" for i in other_ids]\n    fig.legend(handles, labels, loc='upper right', bbox_to_anchor=(0.95, 0.95))\n    \n    # Add title\n    fig.suptitle(f\"Chromosome Painting for Person {individual_id}\", fontsize=16, y=0.98)\n    \n    plt.tight_layout()\n    plt.subplots_adjust(top=0.95, right=0.95)\n    \n    return fig\n\n# Create chromosome paintings for selected individuals\ntry:\n    # Select individuals for chromosome painting\n    individuals_to_visualize = [7, 8, 9, 5]\n    \n    for individual_id in individuals_to_visualize:\n        fig = create_chromosome_painting(individual_id, ibd_data)\n        \n        # Save the figure\n        output_path = os.path.join(render_dir, f\"chromosome_painting_{individual_id}.png\")\n        fig.savefig(output_path, dpi=120, bbox_inches='tight')\n        \n        # Display the figure\n        print(f\"Chromosome Painting for Person {individual_id}:\")\n        display(Image(output_path))\n        plt.close(fig)  # Close the figure to free memory\nexcept Exception as e:\n    print(f\"❌ Failed to create chromosome painting: {e}\")",
   "metadata": {},
   "outputs": []
  },
  {
   "cell_type": "markdown",
   "source": "## Summary\n\nIn this lab, we explored pedigree rendering and visualization techniques used in Bonsai v3. Key takeaways include:\n\n1. **Graph-Based Rendering**: We examined how Bonsai v3 represents pedigrees as directed graphs and uses Graphviz for visualization.\n\n2. **Pedigree Rendering API**: We learned about the `render_ped` function in Bonsai's rendering module and its parameters for customizing pedigree visualizations.\n\n3. **Customization Options**: We explored how to enhance pedigree visualizations with colors, shapes, labels, and highlighted edges to represent different attributes and relationships.\n\n4. **Practical Applications**: We demonstrated how to visualize IBD sharing in the context of a pedigree and create chromosome paintings to show segment sharing between individuals.\n\nThese visualization techniques are essential tools for genetic genealogy, helping users understand complex family structures and genetic relationships. The Bonsai v3 codebase provides a solid foundation for creating these visualizations, and we've seen how to extend and customize them for specific applications.",
   "metadata": {}
  },
  {
   "cell_type": "code",
   "source": "# Convert this notebook to PDF using poetry\n!poetry run jupyter nbconvert --to pdf Lab21_Pedigree_Rendering.ipynb\n\n# Note: PDF conversion requires LaTeX to be installed on your system\n# If you encounter errors, you may need to install it:\n# On Ubuntu/Debian: sudo apt-get install texlive-xetex\n# On macOS with Homebrew: brew install texlive",
   "metadata": {},
   "outputs": []
  }
 ],
 "metadata": {
  "kernelspec": {
   "display_name": "Python 3",
   "language": "python",
   "name": "python3"
  },
  "language_info": {
   "codemirror_mode": {
    "name": "ipython",
    "version": 3
   },
   "file_extension": ".py",
   "mimetype": "text/x-python",
   "name": "python",
   "nbconvert_exporter": "python",
   "pygments_lexer": "ipython3",
   "version": "3.8.10"
  }
 },
 "nbformat": 4,
 "nbformat_minor": 4
}