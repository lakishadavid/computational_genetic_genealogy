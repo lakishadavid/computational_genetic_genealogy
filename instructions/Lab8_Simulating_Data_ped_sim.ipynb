{
 "cells": [
  {
   "cell_type": "code",
   "execution_count": null,
   "metadata": {},
   "outputs": [],
   "source": [
    "import os\n",
    "from collections import Counter\n",
    "import logging\n",
    "import sys\n",
    "from pathlib import Path\n",
    "import subprocess\n",
    "import os\n",
    "import matplotlib.pyplot as plt\n",
    "import seaborn as sns\n",
    "from IPython.display import display, HTML\n",
    "import IPython\n",
    "import pandas as pd\n",
    "from tqdm import tqdm\n",
    "\n",
    "from dotenv import load_dotenv"
   ]
  },
  {
   "cell_type": "code",
   "execution_count": null,
   "metadata": {},
   "outputs": [],
   "source": [
    "def find_comp_gen_dir():\n",
    "    \"\"\"Find the computational_genetic_genealogy directory by searching up from current directory.\"\"\"\n",
    "    current = Path.cwd()\n",
    "    \n",
    "    # Search up through parent directories\n",
    "    while current != current.parent:\n",
    "        # Check if target directory exists in current path\n",
    "        target = current / 'computational_genetic_genealogy'\n",
    "        if target.is_dir():\n",
    "            return target\n",
    "        # Move up one directory\n",
    "        current = current.parent\n",
    "    \n",
    "    raise FileNotFoundError(\"Could not find computational_genetic_genealogy directory\")\n",
    "\n",
    "def load_env_file():\n",
    "    \"\"\"Find and load the .env file from the computational_genetic_genealogy directory.\"\"\"\n",
    "    try:\n",
    "        # Find the computational_genetic_genealogy directory\n",
    "        comp_gen_dir = find_comp_gen_dir()\n",
    "        \n",
    "        # Look for .env file\n",
    "        env_path = comp_gen_dir / '.env'\n",
    "        if not env_path.exists():\n",
    "            print(f\"Warning: No .env file found in {comp_gen_dir}\")\n",
    "            return None\n",
    "        \n",
    "        # Load the .env file\n",
    "        load_dotenv(env_path, override=True)\n",
    "        print(f\"Loaded environment variables from: {env_path}\")\n",
    "        return env_path\n",
    "        \n",
    "    except FileNotFoundError as e:\n",
    "        print(f\"Error: {e}\")\n",
    "        return None\n",
    "\n",
    "# Use the function\n",
    "env_path = load_env_file()"
   ]
  },
  {
   "cell_type": "code",
   "execution_count": null,
   "metadata": {},
   "outputs": [],
   "source": [
    "working_directory = os.getenv('PROJECT_WORKING_DIR', default=None)\n",
    "data_directory = os.getenv('PROJECT_DATA_DIR', default=None)\n",
    "references_directory = os.getenv('PROJECT_REFERENCES_DIR', default=None)\n",
    "results_directory = os.getenv('PROJECT_RESULTS_DIR', default=None)\n",
    "utils_directory = os.getenv('PROJECT_UTILS_DIR', default=None)\n",
    "\n",
    "print(f\"Working Directory: {working_directory}\")\n",
    "print(f\"Data Directory: {data_directory}\")\n",
    "print(f\"References Directory: {references_directory}\")\n",
    "print(f\"Results Directory: {results_directory}\")\n",
    "print(f\"Utils Directory: {utils_directory}\")\n",
    "\n",
    "os.chdir(working_directory)\n",
    "print(f\"The current directory is {os.getcwd()}\")"
   ]
  },
  {
   "cell_type": "code",
   "execution_count": null,
   "metadata": {},
   "outputs": [],
   "source": [
    "def configure_logging(log_filename, log_file_debug_level=\"INFO\", console_debug_level=\"INFO\"):\n",
    "    \"\"\"\n",
    "    Configure logging for both file and console handlers.\n",
    "\n",
    "    Args:\n",
    "        log_filename (str): Path to the log file where logs will be written.\n",
    "        log_file_debug_level (str): Logging level for the file handler.\n",
    "        console_debug_level (str): Logging level for the console handler.\n",
    "    \"\"\"\n",
    "    # Create a root logger\n",
    "    logger = logging.getLogger()\n",
    "    logger.setLevel(logging.DEBUG)  # Capture all messages at the root level\n",
    "\n",
    "    # Convert level names to numeric levels\n",
    "    file_level = getattr(logging, log_file_debug_level.upper(), logging.INFO)\n",
    "    console_level = getattr(logging, console_debug_level.upper(), logging.INFO)\n",
    "\n",
    "    # File handler: Logs messages at file_level and above to the file\n",
    "    file_handler = logging.FileHandler(log_filename)\n",
    "    file_handler.setLevel(file_level)\n",
    "    file_formatter = logging.Formatter('%(asctime)s - %(levelname)s - %(message)s')\n",
    "    file_handler.setFormatter(file_formatter)\n",
    "\n",
    "    # Console handler: Logs messages at console_level and above to the console\n",
    "    console_handler = logging.StreamHandler(sys.stdout)\n",
    "    console_handler.setLevel(console_level)\n",
    "    console_formatter = logging.Formatter('%(asctime)s - %(levelname)s - %(message)s')\n",
    "    console_handler.setFormatter(console_formatter)\n",
    "\n",
    "    # Add handlers to the root logger\n",
    "    logger.addHandler(file_handler)\n",
    "    logger.addHandler(console_handler)\n",
    "    \n",
    "def clear_logger():\n",
    "    \"\"\"Remove all handlers from the root logger.\"\"\"\n",
    "    logger = logging.getLogger()\n",
    "    for handler in logger.handlers[:]:\n",
    "        logger.removeHandler(handler)"
   ]
  },
  {
   "cell_type": "code",
   "execution_count": null,
   "metadata": {},
   "outputs": [],
   "source": [
    "log_filename = os.path.join(results_directory, \"lab8.log\")\n",
    "print(f\"The Lab 8 log file is located at {log_filename}.\")\n",
    "\n",
    "# Ensure the results_directory exists\n",
    "if not os.path.exists(results_directory):\n",
    "    os.makedirs(results_directory)\n",
    "\n",
    "# Check if the file exists; if not, create it\n",
    "if not os.path.exists(log_filename):\n",
    "    with open(log_filename, 'w') as file:\n",
    "        pass  # The file is now created.\n",
    "    \n",
    "clear_logger() # Clear the logger before reconfiguring it\n",
    "configure_logging(log_filename, log_file_debug_level=\"INFO\", console_debug_level=\"INFO\")"
   ]
  },
  {
   "cell_type": "markdown",
   "metadata": {},
   "source": [
    "Go to Lab0_Code_Environment and run the set of code cells for **Install R** and **Install liftover**.\n",
    "\n",
    "Also, rerun `poetry install --no-root` to install new packages."
   ]
  },
  {
   "cell_type": "markdown",
   "metadata": {},
   "source": [
    "Ensure rpy2 Jupyter Extension is Loaded by running the next cell."
   ]
  },
  {
   "cell_type": "code",
   "execution_count": null,
   "metadata": {},
   "outputs": [],
   "source": [
    "%load_ext rpy2.ipython"
   ]
  },
  {
   "cell_type": "markdown",
   "metadata": {},
   "source": [
    "Now you can use cell magic for R."
   ]
  },
  {
   "cell_type": "code",
   "execution_count": null,
   "metadata": {},
   "outputs": [],
   "source": [
    "%%R\n",
    "\n",
    "x <- c(1, 2, 3, 4, 5)\n",
    "mean(x)"
   ]
  },
  {
   "cell_type": "markdown",
   "metadata": {},
   "source": [
    "Don't worry about the warning message about libraries containing no packages. Install (if needed) and load packages."
   ]
  },
  {
   "cell_type": "code",
   "execution_count": null,
   "metadata": {},
   "outputs": [],
   "source": [
    "%%R\n",
    "\n",
    "# Function to check if a package is installed and up-to-date\n",
    "check_install <- function(pkg) {\n",
    "  if (!requireNamespace(pkg, quietly = TRUE)) {\n",
    "    install.packages(pkg, repos = \"https://cloud.r-project.org/\")\n",
    "  } else {\n",
    "    # Check if the installed package is the latest version\n",
    "    available <- available.packages(repos = \"https://cloud.r-project.org/\")\n",
    "    installed_version <- packageVersion(pkg)\n",
    "    latest_version <- available[pkg, \"Version\"]\n",
    "    \n",
    "    if (installed_version < latest_version) {\n",
    "      install.packages(pkg, repos = \"https://cloud.r-project.org/\")\n",
    "    }\n",
    "  }\n",
    "}\n",
    "\n",
    "# Check and install/update the pedsuite package\n",
    "check_install(\"pedsuite\")\n",
    "\n",
    "# Load the package\n",
    "library(pedsuite)\n",
    "print(\"pedsuite loaded successfully!\")\n"
   ]
  },
  {
   "cell_type": "markdown",
   "metadata": {},
   "source": [
    "## Create Genetic Family Tree"
   ]
  },
  {
   "cell_type": "markdown",
   "metadata": {},
   "source": [
    "Now that you have R setup on your system, let's proceed with creating a genetic family tree."
   ]
  },
  {
   "cell_type": "markdown",
   "metadata": {},
   "source": [
    "Generate a cousin pedigree of degree 4 (as defined by pedsuite)\n",
    "\n",
    "We start with a base structure called cousinPed. (There are other base structures to choose from.)"
   ]
  },
  {
   "cell_type": "code",
   "execution_count": null,
   "metadata": {},
   "outputs": [],
   "source": [
    "%%R\n",
    "\n",
    "x = cousinPed(degree = 4)\n",
    "\n",
    "plot(x)"
   ]
  },
  {
   "cell_type": "markdown",
   "metadata": {},
   "source": [
    "Notice in the pedigree plot that each individual has an assigned number.\n",
    "\n",
    "The assigned numbers for each individual is the identifier.\n",
    "\n",
    "Here, I am adding children using the identifiers.\n",
    "\n",
    "Note that nch is number of children.\n",
    "\n",
    "Note that sex = 1 is male and sex = 2 is female.\n",
    "\n",
    "Note that males are squares and females are circles."
   ]
  },
  {
   "cell_type": "markdown",
   "metadata": {},
   "source": [
    "Now that you have pedigree x, you can make adjustments. In this first adjustment, I am calling individual number 3 the father. I am calling individual number 4 the mother. Then I am adding 1 female child."
   ]
  },
  {
   "cell_type": "code",
   "execution_count": null,
   "metadata": {},
   "outputs": [],
   "source": [
    "%%R\n",
    "\n",
    "x = addChildren(x, father = 3, mother = 4, nch = 1, sex = 2)\n",
    "\n",
    "x = addChildren(x, father = 5, mother = 6, nch = 1, sex = 2)\n",
    "x = addChildren(x, father = 7, mother = 8, nch = 1, sex = 2)\n",
    "x = addChildren(x, father = 9, mother = 10, nch = 1, sex = 2)\n",
    "x = addChildren(x, father = 11, mother = 12, nch = 1, sex = 2)\n",
    "x = addChildren(x, father = 13, mother = 14, nch = 1, sex = 2)\n",
    "x = addChildren(x, father = 15, mother = 16, nch = 1, sex = 2)\n",
    "x = addChildren(x, father = 17, mother = 18, nch = 1, sex = 2)\n",
    "\n",
    "plot(x)"
   ]
  },
  {
   "cell_type": "markdown",
   "metadata": {},
   "source": [
    "Notice how the pedigree changed. Take a moment to understand the changes that you made.\n",
    "\n",
    "I continue to make adjustments until I get the pedigree I want."
   ]
  },
  {
   "cell_type": "code",
   "execution_count": null,
   "metadata": {},
   "outputs": [],
   "source": [
    "%%R\n",
    "\n",
    "x = addChildren(x, mother = 21, nch = 1, sex = 1)\n",
    "x = addChildren(x, mother = 22, nch = 1, sex = 2)\n",
    "x = addChildren(x, mother = 23, nch = 1, sex = 1)\n",
    "x = addChildren(x, mother = 24, nch = 1, sex = 2)\n",
    "\n",
    "x = addChildren(x, mother = 25, nch = 1, sex = 1)\n",
    "x = addChildren(x, mother = 26, nch = 1, sex = 2)\n",
    "\n",
    "plot(x)"
   ]
  },
  {
   "cell_type": "code",
   "execution_count": null,
   "metadata": {},
   "outputs": [],
   "source": [
    "%%R\n",
    "\n",
    "x = addChildren(x, father = 30, nch = 1, sex = 2)\n",
    "x = addChildren(x, father = 34, nch = 1, sex = 2)\n",
    "x = addChildren(x, mother = 32, nch = 1, sex = 1)\n",
    "x = addChildren(x, mother = 36, nch = 1, sex = 1)\n",
    "\n",
    "plot(x)"
   ]
  },
  {
   "cell_type": "markdown",
   "metadata": {},
   "source": [
    "With this final adjustment, I have satisfied with the pedigree."
   ]
  },
  {
   "cell_type": "code",
   "execution_count": null,
   "metadata": {},
   "outputs": [],
   "source": [
    "%%R\n",
    "\n",
    "x = addChildren(x, mother = 42, nch = 1, sex = 1)\n",
    "x = addChildren(x, father = 46, nch = 1, sex = 2)\n",
    "\n",
    "plot(x)"
   ]
  },
  {
   "cell_type": "markdown",
   "metadata": {},
   "source": [
    "Think about other adjustments that you could do. For example, how might you represent a man with three wives, each with a certain number of children?"
   ]
  },
  {
   "cell_type": "code",
   "execution_count": null,
   "metadata": {},
   "outputs": [],
   "source": [
    "%%R\n",
    "\n",
    "# Print the pedigree to check the structure\n",
    "\n",
    "print(x)"
   ]
  },
  {
   "cell_type": "markdown",
   "metadata": {},
   "source": [
    "In the output (you may need to select `scrollable element` or `text editor` to see the full output), you should see 52 rows. Each row represents one person in the tree you built. `id` is the individual identifier, `fid` is the father identifier and `mid` is the mother identifier. `sex` is the chromosomal sex where `1` = male and `2` = female."
   ]
  },
  {
   "cell_type": "markdown",
   "metadata": {},
   "source": [
    "Extract the genetic family tree created by pedsuite to a pandas dataframe."
   ]
  },
  {
   "cell_type": "code",
   "execution_count": null,
   "metadata": {},
   "outputs": [],
   "source": [
    "%%R -o fam_df\n",
    "\n",
    "# Extract data using indexing (modify indices if needed)\n",
    "individual_id <- as.character(x$ID)\n",
    "father_id <- ifelse(x$FIDX == \"*\", 0, x$FIDX)\n",
    "mother_id <- ifelse(x$MIDX == \"*\", 0, x$MIDX)\n",
    "sex <- as.character(x$SEX)\n",
    "\n",
    "# Create data frame\n",
    "fam_df <- data.frame(\n",
    "  individual_id = individual_id,\n",
    "  father_id = father_id,\n",
    "  mother_id = mother_id,\n",
    "  sex = sex\n",
    ")"
   ]
  },
  {
   "cell_type": "markdown",
   "metadata": {},
   "source": [
    "In the next cell, you are back to using Python. Inspect the dataframe to make sure that it looks as intended."
   ]
  },
  {
   "cell_type": "code",
   "execution_count": null,
   "metadata": {},
   "outputs": [],
   "source": [
    "fam_df = fam_df.copy()\n",
    "fam_df.info()"
   ]
  },
  {
   "cell_type": "markdown",
   "metadata": {},
   "source": [
    "You should see `Index: 52 entries, 1 to 52`."
   ]
  },
  {
   "cell_type": "code",
   "execution_count": null,
   "metadata": {},
   "outputs": [],
   "source": [
    "# Inspect the first 8 rows.\n",
    "# Compare them to the pedsuite pedigree.\n",
    "# (Note that we are using Python.)\n",
    "\n",
    "fam_df.head(8)"
   ]
  },
  {
   "cell_type": "markdown",
   "metadata": {},
   "source": [
    "Ped-sim needs a pedigree definition file, so let's go ahead and create that from the genetic family tree you created. (`FAM_ID` will be `FAM` for each person.)\n",
    "\n",
    "`ped-sim` comes with example pedigree definition files for you to use. You can find them in your `~/use/pedsim/example` directory. To get a more detailed explanation of how to create a pedigree definiton file, see [Def file](https://github.com/williamslab/ped-sim?tab=readme-ov-file#def-file). You difine the pedigree using a text file. When doing so, make sure it is using the UNIX/OSX Format. I use [Notepad++](https://notepad-plus-plus.org/downloads/) for these purposes, but you are free to use whichever text editor you want."
   ]
  },
  {
   "cell_type": "code",
   "execution_count": null,
   "metadata": {},
   "outputs": [],
   "source": [
    "# Rename the columns to match the required headers:\n",
    "# FAM_ID, INDIV_ID, FATHER_ID, MOTHER_ID, SEX, PHENO\n",
    "fam_df.rename(columns={\n",
    "    \"individual_id\": \"INDIV_ID\",\n",
    "    \"father_id\": \"FATHER_ID\",\n",
    "    \"mother_id\": \"MOTHER_ID\",\n",
    "    \"sex\": \"SEX\"\n",
    "}, inplace=True)\n",
    "\n",
    "fam_df[\"FAM_ID\"] = \"FAM\"\n",
    "fam_df[\"PHENO\"] = -9\n",
    "\n",
    "# Reorder columns if necessary\n",
    "fam_df = fam_df[[\"FAM_ID\", \"INDIV_ID\", \"FATHER_ID\", \"MOTHER_ID\", \"SEX\", \"PHENO\"]]\n",
    "\n",
    "# Display the first few rows to verify\n",
    "display(fam_df.head())\n",
    "\n",
    "# Save the updated file without header and index, using tab separation\n",
    "fam_df.to_csv(os.path.join(results_directory, \"pedigree.fam\"), sep=\"\\t\", index=False, header=False)"
   ]
  },
  {
   "cell_type": "code",
   "execution_count": null,
   "metadata": {},
   "outputs": [],
   "source": [
    "!{utils_directory}/ped-sim/fam2def.py -i {results_directory}/pedigree.fam -o {results_directory}/pedigree.def"
   ]
  },
  {
   "cell_type": "markdown",
   "metadata": {},
   "source": [
    "Take a look at your pedigree.def file in the results directory."
   ]
  },
  {
   "cell_type": "markdown",
   "metadata": {},
   "source": [
    "How many simulationed pedigrees do you want?\n",
    "\n",
    "In a machine learning project, the answer would be as many as is needed to train your model well. For now, let's just try it out with `10`. When you run the next cell, a pop-up will appear for you to enter the number of pedigrees that you want."
   ]
  },
  {
   "cell_type": "code",
   "execution_count": null,
   "metadata": {},
   "outputs": [],
   "source": [
    "# Get user input for the number of pedigrees\n",
    "num_pedigrees = int(input(\"Enter the number of pedigrees to generate: \"))\n",
    "\n",
    "# Define input file path\n",
    "input_def_file = os.path.join(results_directory, \"pedigree.def\")\n",
    "\n",
    "# Read the file contents\n",
    "with open(input_def_file, \"r\") as file:\n",
    "    lines = file.readlines()\n",
    "\n",
    "# Modify the first line (only changing the second value)\n",
    "if lines[0].startswith(\"def\"):\n",
    "    parts = lines[0].split()  # Split the first line into parts\n",
    "    parts[2] = str(num_pedigrees)  # Update only the second value\n",
    "    lines[0] = \" \".join(parts) + \"\\n\"  # Reconstruct the modified line\n",
    "\n",
    "# Write back to the file\n",
    "with open(input_def_file, \"w\") as file:\n",
    "    file.writelines(lines)\n",
    "\n",
    "print(f\"Updated {input_def_file} with num_pedigrees = {num_pedigrees}\")"
   ]
  },
  {
   "cell_type": "markdown",
   "metadata": {},
   "source": [
    "Take another look at your pedigree.def file in the results directory. The def line has changed to reflect the number of pedigrees you said you wanted."
   ]
  },
  {
   "cell_type": "markdown",
   "metadata": {},
   "source": [
    "## Ped-sim method"
   ]
  },
  {
   "cell_type": "markdown",
   "metadata": {},
   "source": [
    "The Pedigree Simulator (Ped-sim) is a powerful tool for simulating pedigree structures that use sex-specific genetic maps and considers sex of the individual. To get it up and running on your system, you'll need to download and compile it in your computing space if it is not already there.\n",
    "\n",
    "Here is the ped-sim GitHub page for your reference: [ped-sim](https://github.com/williamslab/ped-sim)."
   ]
  },
  {
   "cell_type": "markdown",
   "metadata": {},
   "source": [
    "### Sex-specific Genetic Map\n",
    "\n",
    "From [Map file](https://github.com/williamslab/ped-sim?tab=readme-ov-file#map-file-):\n",
    "\n",
    "\"The genetic map file contains three columns for a sex-averaged map and four columns if using male and female maps. The format of this file is:\n",
    "\n",
    "`[chromosome] [physical_position] [map_position0] <map_position1>`\n",
    "\n",
    "The chromosomes are expected to be listed in the same order as they are in any input VCF file, with the physical positions in increasing order. The chromosome names must also match the names in the input VCF file, and all chromosome names present in the map must also have corresponding records in the VCF.\n",
    "\n",
    "[map_position0] is genetic position in centiMorgans, and should either be the sex-averaged genetic position if using only one map, or should be the male genetic position if using two maps. When using only one map, the simulator samples all crossovers from that one map and does not distinguish male and female parents.\n",
    "\n",
    "<map_position1> is likewise a genetic position in centiMorgans and should correspond to the female genetic position if given.\n",
    "\n",
    "A high resolution human sex-specific genetic map is available [here](https://github.com/cbherer/Bherer_etal_SexualDimorphismRecombination), and is described in [Bhérer et al. (2017)](https://www.nature.com/articles/ncomms14994). To generate an autosomal map file in the format the simulator requires with both male and female genetic positions, run the following bash commands:\""
   ]
  },
  {
   "cell_type": "code",
   "execution_count": null,
   "metadata": {},
   "outputs": [],
   "source": [
    "%%bash -s \"$references_directory\"\n",
    "\n",
    "# Receive directory variables from Python\n",
    "references_directory=$1\n",
    "\n",
    "# genetic map for ped-sim\n",
    "\n",
    "wget https://github.com/cbherer/Bherer_etal_SexualDimorphismRecombination/raw/master/Refined_genetic_map_b37.tar.gz -P $references_directory\n",
    "tar xvzf $references_directory/Refined_genetic_map_b37.tar.gz -C $references_directory\n",
    "printf \"#chr\\tpos\\tmale_cM\\tfemale_cM\\n\" > $references_directory/refined_mf_b37.simmap\n",
    "\n",
    "# The paste command combines each line from the male chromosome file (male_chr$chr.txt)\n",
    "# with the corresponding line from the female chromosome file (female_chr$chr.txt).\n",
    "# They are combined side by side, separated by a tab.\n",
    "for chr in {1..22}; do\n",
    "  paste $references_directory/Refined_genetic_map_b37/male_chr$chr.txt $references_directory/Refined_genetic_map_b37/female_chr$chr.txt \\\n",
    "    | awk -v OFS=\"\\t\" 'NR > 1 && $2 == $6 {print $1,$2,$4,$8}' \\\n",
    "    | sed 's/^chr//' >> $references_directory/refined_mf_b37.simmap\n",
    "done\n",
    "\n",
    "rm $references_directory/Refined_genetic_map_b37.tar.gz\n",
    "rm -r $references_directory/Refined_genetic_map_b37\n",
    "\n",
    "# When you get the check mark indicating that the cell successfully completed its run,\n",
    "# go ahead and clear the cell output.\n",
    "\n",
    "# For the moment, you can igore:\n",
    "\n",
    "# tar: Ignoring unknown extended header keyword 'SCHILY.dev'\n",
    "# tar: Ignoring unknown extended header keyword 'SCHILY.ino'\n",
    "# tar: Ignoring unknown extended header keyword 'SCHILY.nlink'"
   ]
  },
  {
   "cell_type": "markdown",
   "metadata": {},
   "source": [
    "You should now have the `refined_mf_b37.simmap` file in your references directory. Manually take a look at the file. It is a text file so you can use Notepad++ or your build-in text editor to view it.\n",
    "\n",
    "The next two cells is used to convert the file from build 37 to build 38."
   ]
  },
  {
   "cell_type": "code",
   "execution_count": null,
   "metadata": {},
   "outputs": [],
   "source": [
    "%%bash -s \"$references_directory\" \"$utils_directory\"\n",
    "\n",
    "# Receive directory variables from Python\n",
    "references_directory=$1\n",
    "utils_directory=$2\n",
    "\n",
    "# --- Convert the build 37 map to build 38 using liftOver ---\n",
    "\n",
    "# Create a BED file from the build 37 simmap.\n",
    "# The BED file requires 0-based start coordinates, so subtract 1 from the position.\n",
    "awk 'NR>1 {print \"chr\"$1, $2-1, $2, $3, $4}' OFS=\"\\t\" $references_directory/refined_mf_b37.simmap > $references_directory/refined_mf_b37.bed\n",
    "\n",
    "# Run liftOver to convert BED coordinates to build 38.\n",
    "liftOver $references_directory/refined_mf_b37.bed \\\n",
    "         $references_directory/hg19ToHg38.over.chain.gz \\\n",
    "         $references_directory/refined_mf_b38.bed \\\n",
    "         $references_directory/refined_mf_b38.unmapped\n",
    "\n",
    "# (Optional) Clean up temporary files\n",
    "rm $references_directory/refined_mf_b37.bed"
   ]
  },
  {
   "cell_type": "code",
   "execution_count": null,
   "metadata": {},
   "outputs": [],
   "source": [
    "# Read the BED file\n",
    "bed_file = os.path.join(references_directory, \"refined_mf_b38.bed\")\n",
    "bed_data = pd.read_csv(bed_file, sep='\\t', header=None)\n",
    "\n",
    "# Rename columns for clarity\n",
    "bed_data.columns = ['chr', 'start', 'pos', 'male_cM', 'female_cM']\n",
    "\n",
    "# Clean chromosome names (remove 'chr' prefix)\n",
    "bed_data['chr'] = bed_data['chr'].str.replace('chr', '', regex=True)\n",
    "\n",
    "# Convert chromosome to numeric if possible\n",
    "bed_data['chr'] = pd.to_numeric(bed_data['chr'], errors='coerce')\n",
    "\n",
    "# Filter for chromosomes 1-22 and remove NaN values\n",
    "mask = (bed_data['chr'] >= 1) & (bed_data['chr'] <= 22) & (bed_data['chr'].notna())\n",
    "filtered_data = bed_data[mask].copy()  # Create a copy to avoid the warning\n",
    "\n",
    "# Convert chromosome to integer after filtering out NaN values\n",
    "filtered_data['chr'] = filtered_data['chr'].astype(int)\n",
    "\n",
    "# Sort by chromosome (numerically) and position\n",
    "sorted_data = filtered_data.sort_values(by=['chr', 'pos'])\n",
    "\n",
    "# Keep only necessary columns\n",
    "simmap_data = sorted_data[['chr', 'pos', 'male_cM', 'female_cM']]\n",
    "\n",
    "# Print sample of data to verify\n",
    "print(\"Sample of data to be saved:\")\n",
    "print(simmap_data.head())\n",
    "\n",
    "# Save to simmap file with header\n",
    "simmap_file = os.path.join(references_directory, \"refined_mf_b38.simmap\")\n",
    "with open(simmap_file, 'w') as f:\n",
    "    f.write(\"#chr\\tpos\\tmale_cM\\tfemale_cM\\n\")\n",
    "simmap_data.to_csv(simmap_file, sep='\\t', index=False, header=False, mode='a')\n",
    "\n",
    "print(\"Processing complete - chromosomes saved as integers.\")"
   ]
  },
  {
   "cell_type": "markdown",
   "metadata": {},
   "source": [
    "## Run Ped-sim"
   ]
  },
  {
   "cell_type": "markdown",
   "metadata": {},
   "source": [
    "Now you are ready to run ped-sim."
   ]
  },
  {
   "cell_type": "code",
   "execution_count": null,
   "metadata": {},
   "outputs": [],
   "source": [
    "%%bash -s \"$references_directory\" \"$utils_directory\" \"$results_directory\"\n",
    "\n",
    "# Receive directory variables from Python\n",
    "references_directory=$1\n",
    "utils_directory=$2\n",
    "results_directory=$3\n",
    "pedigree_definition_file=\"pedigree.def\"\n",
    "ped_sim_filename=\"ped_sim_run\"\n",
    "\n",
    "# Run ped-sim with parameters:\n",
    "\n",
    "# -d: Specifies the path to the pedigree definition file.\n",
    "# -m: Specifies the path to the genetic map file.\n",
    "# -o: Specifies the prefix for the output files.\n",
    "# --intf: Uses the interference crossover model\n",
    "# --seed: Sets the random number generator seed to ensure reproducibility.\n",
    "# --fam: Outputs the simulated data in PLINK's .fam format.\n",
    "# --mrca: Outputs the most recent common ancestor (MRCA) of all sampled individuals.\n",
    "\n",
    "\n",
    "# Notice that this uses the human crossover interference parameters stored in pedsim/interfere directory\n",
    "\n",
    "${utils_directory}/ped-sim/ped-sim \\\n",
    "  -d $results_directory/$pedigree_definition_file \\\n",
    "  -m $references_directory/refined_mf_b38.simmap \\\n",
    "  -o $results_directory/$ped_sim_filename \\\n",
    "  --intf $utils_directory/ped-sim/interfere/nu_p_campbell.tsv \\\n",
    "  --seed 1234 \\\n",
    "  --fam \\\n",
    "  --mrca\n",
    "\n",
    "# # using --pois instead of --intf\n",
    "# # --pois: Uses the Poisson distribution to determine the number of crossovers.\n",
    "# ./pedsim/ped-sim \\\n",
    "#   -d $util_directory/$pedigree_definition_file \\\n",
    "#   -m $references_directory/combined_genetic_map_b38.txt \\\n",
    "#   -o $results_directory/$ped_sim_filename \\\n",
    "#   --pois \\\n",
    "#   --seed 1234 \\\n",
    "#   --fam \\\n",
    "#   --mrca"
   ]
  },
  {
   "cell_type": "markdown",
   "metadata": {},
   "source": [
    "**Let's take a look at the results.** \n",
    "\n",
    "Familiarize yourself with the different result files. Those are the ped_sim_run files in your results directory. Notice from the output of the above cell that if you wanted to simulate genotype data for this configuration, you would need to rerun the above cell with an input VCF with 220 founders (if you selected 10 pedigrees and the predefined pedigree). For now, we do not actually need the genotype itself. Using the IBD segment data (the .seg file) is sufficient."
   ]
  },
  {
   "cell_type": "markdown",
   "metadata": {},
   "source": [
    "## Graphing the results\n",
    "\n",
    "In this run, we will first define the graph function, then call the function to create our graph."
   ]
  },
  {
   "cell_type": "markdown",
   "metadata": {},
   "source": [
    "**Define the graph function.**"
   ]
  },
  {
   "cell_type": "code",
   "execution_count": null,
   "metadata": {},
   "outputs": [],
   "source": [
    "import pandas as pd\n",
    "import matplotlib.pyplot as plt\n",
    "import networkx as nx\n",
    "import os\n",
    "\n",
    "def graph_fam_file_simulated(filename, pedigree=None):\n",
    "    fam_file = pd.read_csv(os.path.join(results_directory, filename), sep=\" \", header=None)\n",
    "    fam_file.columns = [\"fam\", \"id\", \"parent0\", \"parent1\", \"sex\", \"phenotype\"]\n",
    "\n",
    "    if pedigree is not None:\n",
    "\n",
    "        # Extract pedigree number from the first element\n",
    "        fam_file['pedigree_num'] = fam_file['fam'].apply(lambda x: x.replace(\"FAM\", \"\"))\n",
    "        fam_file = fam_file[fam_file['pedigree_num'] == str(pedigree)]\n",
    "\n",
    "    fig = plt.figure(num=None, figsize=(250, 100), dpi=100)\n",
    "\n",
    "    G = nx.DiGraph()\n",
    "\n",
    "    for index, row in fam_file.iterrows():\n",
    "        id = row['id']\n",
    "\n",
    "        values_id1 = id.split(\"_\")\n",
    "        \n",
    "        # Ensure the ID follows expected format\n",
    "        if len(values_id1) < 2:\n",
    "            raise ValueError(f\"Unexpected ID format: {id} -> {values_id1}\")\n",
    "        \n",
    "        subvalues_id1 = values_id1[1].split(\"-\")\n",
    "        gen_id1 = int(subvalues_id1[0].lstrip(\"g\"))\n",
    "\n",
    "        G.add_node(id, time=gen_id1)\n",
    "\n",
    "        for parent_column in ['parent0', 'parent1']:\n",
    "            if row[parent_column] != '0':\n",
    "                parent_id = row[parent_column]\n",
    "                values_parent = parent_id.split(\"_\")\n",
    "\n",
    "                if len(values_parent) < 2:\n",
    "                    raise ValueError(f\"Unexpected Parent format: {parent_id} -> {values_parent}\")\n",
    "\n",
    "                subvalues_parent = values_parent[1].split(\"-\")\n",
    "                gen_parent = int(subvalues_parent[0].lstrip(\"g\"))\n",
    "                G.add_node(parent_id, time=gen_parent)\n",
    "                G.add_edge(parent_id, id)\n",
    "\n",
    "    # Reverse the order of generations\n",
    "    max_gen = max(gen_id1 for _, gen_id1 in G.nodes(data='time'))\n",
    "    for node, data in G.nodes(data=True):\n",
    "        data['time'] = max_gen - data['time']\n",
    "\n",
    "    return G"
   ]
  },
  {
   "cell_type": "markdown",
   "metadata": {},
   "source": [
    "**Call the graph function.**"
   ]
  },
  {
   "cell_type": "code",
   "execution_count": null,
   "metadata": {},
   "outputs": [],
   "source": [
    "G1 = graph_fam_file_simulated(\"ped_sim_run-everyone.fam\")\n",
    "pos = nx.multipartite_layout(G1, subset_key=\"time\", align=\"horizontal\", scale=50)\n",
    "nx.draw_networkx(G1, pos, node_size=3000, with_labels=True, arrows=False)\n",
    "ped_sim_plot_filename = f\"{results_directory}/diagram_ped_sim_pedigree.svg\"\n",
    "# plt.title(\"Ped-Sim Pedigree\")\n",
    "plt.savefig(ped_sim_plot_filename, bbox_inches = 'tight', pad_inches = 0)"
   ]
  },
  {
   "cell_type": "markdown",
   "metadata": {},
   "source": [
    "In the output, you will see a depiction of all 10 pedigrees (also saved in your results directory as a `diagram_ped_sim_pedigree.svg`). You should see five rows of blue dots. These are the six generations specified in the pedigree definition file. But perhaps it's a little difficult to see what's going on in the output. Let's take a look at just one of the pedigrees."
   ]
  },
  {
   "cell_type": "code",
   "execution_count": null,
   "metadata": {},
   "outputs": [],
   "source": [
    "pedigree_num = 1\n",
    "G2 = graph_fam_file_simulated(\"ped_sim_run-everyone.fam\", pedigree = pedigree_num)\n",
    "pos = nx.multipartite_layout(G2, subset_key=\"time\", align=\"horizontal\", scale=50)\n",
    "nx.draw_networkx(G2, pos, node_size=3000, with_labels=True, arrows=False)\n",
    "ped_sim_plot_filename = f\"{results_directory}/diagram_ped_sim_pedigree_{pedigree_num}.svg\"\n",
    "plt.savefig(ped_sim_plot_filename, bbox_inches='tight', pad_inches=0)"
   ]
  },
  {
   "cell_type": "markdown",
   "metadata": {},
   "source": [
    "That's better. Now we can see what one of the pedigrees look like.\n",
    "\n",
    "Each node (blue circle) is a person. Each edge (line) represents one generation.\n",
    "\n",
    "Can you identify:\n",
    "- full siblings\n",
    "- first cousins\n",
    "- second cousins\n",
    "- third cousins\n",
    "- parents\n",
    "- grandparents\n",
    "- great grandparents\n",
    "- 2x great grandparents\n",
    "- aunt/uncle (avuncular)"
   ]
  },
  {
   "cell_type": "markdown",
   "metadata": {},
   "source": [
    "## Segments\n",
    "\n",
    "Now, let's look at the segment data and build our data table."
   ]
  },
  {
   "cell_type": "code",
   "execution_count": null,
   "metadata": {},
   "outputs": [],
   "source": [
    "segments = pd.read_csv(os.path.join(results_directory, \"ped_sim_run.seg\"), sep=\"\\t\", header = None)\n",
    "segments.head()"
   ]
  },
  {
   "cell_type": "markdown",
   "metadata": {},
   "source": [
    "Notice the column headers are not very informative. Let's change that."
   ]
  },
  {
   "cell_type": "code",
   "execution_count": null,
   "metadata": {},
   "outputs": [],
   "source": [
    "segments.columns = ([\"id1\", \"id2\", \"chromosome\", \"physical_position_start\", \"physical_position_end\", \"IBD_type\", \"genetic_position_start\", \"genetic_position_end\", \"genetic_length\"])\n",
    "segments.head()"
   ]
  },
  {
   "cell_type": "code",
   "execution_count": null,
   "metadata": {},
   "outputs": [],
   "source": [
    "segments.info()"
   ]
  },
  {
   "cell_type": "code",
   "execution_count": null,
   "metadata": {},
   "outputs": [],
   "source": [
    "# Get the unique values\n",
    "segments['IBD_type'].unique()"
   ]
  },
  {
   "cell_type": "code",
   "execution_count": null,
   "metadata": {},
   "outputs": [],
   "source": [
    "segments['chromosome'].unique()"
   ]
  },
  {
   "cell_type": "code",
   "execution_count": null,
   "metadata": {},
   "outputs": [],
   "source": [
    "# Get data descriptives\n",
    "segments['genetic_length'].describe()"
   ]
  },
  {
   "cell_type": "code",
   "execution_count": null,
   "metadata": {},
   "outputs": [],
   "source": [
    "# Get the DNA segment minimum genetic length\n",
    "\n",
    "min_segment_size = float(segments['genetic_length'].min())\n",
    "\n",
    "print(f\"The minimum segment size is {min_segment_size:.6f} cM.\")"
   ]
  },
  {
   "cell_type": "markdown",
   "metadata": {},
   "source": [
    "In reality, we would not work with DNA segments smaller than what we can accurately detect. The IBD detection algorithms we use can accurately detect IBD segments at a minimum of 2 cM (e.g., Refined IBD). Let's conservatively filter the segment such that we use only the segments with a minimum of 3 cM."
   ]
  },
  {
   "cell_type": "code",
   "execution_count": null,
   "metadata": {},
   "outputs": [],
   "source": [
    "# Subset your data.\n",
    "# Get only the segments with a genetic length of at least 3 cM.\n",
    "\n",
    "filtered_segments = segments[segments['genetic_length'] >= 3]\n",
    "filtered_segments.info()"
   ]
  },
  {
   "cell_type": "code",
   "execution_count": null,
   "metadata": {},
   "outputs": [],
   "source": [
    "# Get data descriptives\n",
    "filtered_segments['genetic_length'].describe()"
   ]
  },
  {
   "cell_type": "markdown",
   "metadata": {},
   "source": [
    "Compare the descriptive output of the full dataset and the subsetted dataset."
   ]
  },
  {
   "cell_type": "markdown",
   "metadata": {},
   "source": [
    "You can use other filtering conditions if you want. For example, you could filter the segments between 10 and 50 cM inclusively."
   ]
  },
  {
   "cell_type": "code",
   "execution_count": null,
   "metadata": {},
   "outputs": [],
   "source": [
    "filtered_segments_50_10 = segments[(segments['genetic_length'] >= 10) & (segments['genetic_length'] <= 50)]\n",
    "filtered_segments_50_10.info()"
   ]
  },
  {
   "cell_type": "code",
   "execution_count": null,
   "metadata": {},
   "outputs": [],
   "source": [
    "filtered_segments_50_10['genetic_length'].describe()"
   ]
  },
  {
   "cell_type": "markdown",
   "metadata": {},
   "source": [
    "Let's create a summary pandas dataframe called relationships based on the segment data. Instead of having a row for each segment, this dataframe will summarize the shared segments for each unique pair."
   ]
  },
  {
   "cell_type": "code",
   "execution_count": null,
   "metadata": {},
   "outputs": [],
   "source": [
    "# Create the relationships dataframe for simulated data\n",
    "\n",
    "def segment_position(x, position):\n",
    "    sorted_values = x.sort_values(ascending=False)\n",
    "    if len(sorted_values) < position:\n",
    "        return 0\n",
    "    return sorted_values.iloc[position - 1]\n",
    "\n",
    "relationships = filtered_segments.groupby(['id1', 'id2']).agg(\n",
    "    num_seg=('id1', 'size'),\n",
    "    total_shared=('genetic_length', 'sum'),\n",
    "    max_seg=('genetic_length', 'max'),\n",
    "    second_seg=('genetic_length', lambda x: segment_position(x, 2)),\n",
    "    third_seg=('genetic_length', lambda x: segment_position(x, 3)),\n",
    "    fourth_seg=('genetic_length', lambda x: segment_position(x, 4)),\n",
    ").reset_index()\n",
    "\n",
    "relationships.head()"
   ]
  },
  {
   "cell_type": "code",
   "execution_count": null,
   "metadata": {},
   "outputs": [],
   "source": [
    "relationships.info()"
   ]
  },
  {
   "cell_type": "code",
   "execution_count": null,
   "metadata": {},
   "outputs": [],
   "source": [
    "updated_relationships = relationships.copy()  # Create a copy of the relationships DataFrame\n",
    "\n",
    "def get_relationships(row):\n",
    "    common_ancestors = nx.lowest_common_ancestor(G1, row['id1'], row['id2'])\n",
    "    path_lengths1 = nx.shortest_path_length(G1, source=common_ancestors, target=row['id1'])\n",
    "    path_lengths2 = nx.shortest_path_length(G1, source=common_ancestors, target=row['id2'])\n",
    "    return str((path_lengths1, path_lengths2))\n",
    "\n",
    "with tqdm(total=len(updated_relationships), desc=\"Processing relationships\") as progress_bar:\n",
    "    for index, row in updated_relationships.iterrows():\n",
    "        updated_relationships.loc[index, 'genealogical_relationship'] = get_relationships(row)\n",
    "        progress_bar.update()\n",
    "\n",
    "updated_relationships.head()"
   ]
  },
  {
   "cell_type": "markdown",
   "metadata": {},
   "source": [
    "In the updated relationships dataframe, each row represents an unique pair. It also has the total number of segments shared in the pair, total amount of DNA (minimum of 3 cM), and largest 4 segment (cM). You'll also see a genealogical_relationship column where the value is a tuple. In the tuple, the first value is the number of generations from id1 to the shared ancestor, and the second value is the number of generations from id2 and the shared ancestor. For example, (2, 1) means that there is 2 generations between id1 and the shared ancestor and 1 generation between id2 and the shared ancestor. A genealogical_relationship of (1, 1) is full siblings (i.e., siblings sharing both biological parents). A value of 0 means \"self\", indicating that self is the ancestor of the other person. For example, (0, 1) means that id1 is the parent of id2. In another example, (2, 0) means that id1 is the grandchild of id2."
   ]
  },
  {
   "cell_type": "code",
   "execution_count": null,
   "metadata": {},
   "outputs": [],
   "source": [
    "updated_relationships.info()"
   ]
  },
  {
   "cell_type": "code",
   "execution_count": null,
   "metadata": {},
   "outputs": [],
   "source": [
    "updated_relationships.describe()"
   ]
  },
  {
   "cell_type": "markdown",
   "metadata": {},
   "source": [
    "In the next cell, we will add column meiotic_distance. Meiotic distance is the number of meioses separating the members of the pair. It is calculated by summing the values in the genealogical_relationship tuple."
   ]
  },
  {
   "cell_type": "code",
   "execution_count": null,
   "metadata": {},
   "outputs": [],
   "source": [
    "import ast\n",
    "\n",
    "updated_relationships['genealogical_relationship'] = updated_relationships['genealogical_relationship'].apply(ast.literal_eval)\n",
    "updated_relationships['meiotic_distance'] = updated_relationships['genealogical_relationship'].apply(lambda x: sum(x) if isinstance(x, tuple) else \"\")\n",
    "\n",
    "updated_relationships.head()"
   ]
  },
  {
   "cell_type": "code",
   "execution_count": null,
   "metadata": {},
   "outputs": [],
   "source": [
    "updated_relationships.to_csv(os.path.join(results_directory, \"relationships.csv\"), sep=\"\\t\", index=False)\n",
    "\n",
    "# Manually confirm that your relationships.csv file is in your results directory."
   ]
  },
  {
   "cell_type": "code",
   "execution_count": null,
   "metadata": {},
   "outputs": [],
   "source": [
    "updated_relationships.describe()"
   ]
  },
  {
   "cell_type": "code",
   "execution_count": null,
   "metadata": {},
   "outputs": [],
   "source": [
    "print(updated_relationships['genealogical_relationship'].value_counts())\n",
    "print(\"\\n\")\n",
    "print(f\"There are {len(updated_relationships['genealogical_relationship'].unique())} different relationship groups among the sampled individuals in this pedigree.\")"
   ]
  },
  {
   "cell_type": "markdown",
   "metadata": {},
   "source": [
    "Let's explore some descriptives of DNA sharing (min 3 cM segment) at the various relationship levels."
   ]
  },
  {
   "cell_type": "code",
   "execution_count": null,
   "metadata": {},
   "outputs": [],
   "source": [
    "updated_relationships.drop([\n",
    "    \"id1\", \"id2\",\n",
    "    \"second_seg\", \"third_seg\",\n",
    "    \"meiotic_distance\"\n",
    "    ], axis=1).groupby(\"genealogical_relationship\").agg(['count', 'mean', 'std', 'min', 'max'])"
   ]
  },
  {
   "cell_type": "markdown",
   "metadata": {},
   "source": [
    "### Additional Exploration"
   ]
  },
  {
   "cell_type": "code",
   "execution_count": null,
   "metadata": {},
   "outputs": [],
   "source": [
    "# Read the saved csv file as a Pandas dataframe, replacing the previously saved `relationships` value.\n",
    "relationships = pd.read_csv(os.path.join(results_directory, \"relationships.csv\"), sep = \"\\t\")\n",
    "\n",
    "relationships.head()"
   ]
  },
  {
   "cell_type": "code",
   "execution_count": null,
   "metadata": {},
   "outputs": [],
   "source": [
    "relationships.info()"
   ]
  },
  {
   "cell_type": "code",
   "execution_count": null,
   "metadata": {},
   "outputs": [],
   "source": [
    "sns.scatterplot(data=relationships, y='meiotic_distance', x='max_seg')\n",
    "plt.xlabel('Max Segment Length')\n",
    "plt.ylabel('Genealogical Distance')\n",
    "plt.title('Scatter Plot: Genealogical Distance vs Max Segment Length')\n",
    "plt.show()"
   ]
  },
  {
   "cell_type": "code",
   "execution_count": null,
   "metadata": {},
   "outputs": [],
   "source": [
    "sns.scatterplot(data=relationships, y='meiotic_distance', x='num_seg')\n",
    "plt.xlabel('Number of Segments')\n",
    "plt.ylabel('Genealogical Distance')\n",
    "plt.title('Scatter Plot: Genealogical Distance vs Number of Segments')\n",
    "plt.show()"
   ]
  },
  {
   "cell_type": "code",
   "execution_count": null,
   "metadata": {},
   "outputs": [],
   "source": [
    "sns.kdeplot(data=relationships, x='max_seg', y='meiotic_distance', cmap='viridis', fill=True)\n",
    "plt.xlabel('Max Segment Length')\n",
    "plt.ylabel('Genealogical Distance (generations)')\n",
    "plt.title('Density Plot: Max Segment Length vs Genealogical Relationship')\n",
    "\n",
    "# Set the y-axis tick labels based on the range of meiotic_distance\n",
    "gg_distance_values = sorted(relationships['meiotic_distance'].unique())\n",
    "plt.yticks(gg_distance_values, gg_distance_values)\n",
    "plt.show()"
   ]
  },
  {
   "cell_type": "code",
   "execution_count": null,
   "metadata": {},
   "outputs": [],
   "source": [
    "sns.kdeplot(data=relationships, x='num_seg', y='meiotic_distance', cmap='viridis', fill=True)\n",
    "plt.xlabel('Number of Segments')\n",
    "plt.ylabel('Genealogical Distance (generations)')\n",
    "plt.title('Density Plot: Number of Segments vs Genealogical Relationship')\n",
    "\n",
    "# Set the y-axis tick labels based on the range of meiotic_distance\n",
    "gg_distance_values = sorted(relationships['meiotic_distance'].unique())\n",
    "plt.yticks(gg_distance_values, gg_distance_values)\n",
    "plt.show()"
   ]
  },
  {
   "cell_type": "code",
   "execution_count": null,
   "metadata": {},
   "outputs": [],
   "source": [
    "# Get the average segment size for each pair\n",
    "relationships[\"average_segment_size\"] = relationships[\"total_shared\"] / relationships[\"num_seg\"]\n",
    "\n",
    "relationships.head()"
   ]
  },
  {
   "cell_type": "markdown",
   "metadata": {},
   "source": [
    "Let's take a look at the average segment size for each meiotic distance."
   ]
  },
  {
   "cell_type": "code",
   "execution_count": null,
   "metadata": {},
   "outputs": [],
   "source": [
    "relationships.groupby('meiotic_distance')['average_segment_size'].mean()"
   ]
  },
  {
   "cell_type": "markdown",
   "metadata": {},
   "source": [
    "Notice that the average segment size decreases as the meiotic distance between members of a pair increases."
   ]
  },
  {
   "cell_type": "code",
   "execution_count": null,
   "metadata": {},
   "outputs": [],
   "source": [
    "import seaborn as sns\n",
    "import matplotlib.pyplot as plt\n",
    "\n",
    "sns.kdeplot(\n",
    "    data=relationships,\n",
    "    x='average_segment_size',\n",
    "    y='meiotic_distance',\n",
    "    cmap='viridis',\n",
    "    fill=True\n",
    ")\n",
    "\n",
    "plt.xlabel('Average Segment Size')\n",
    "plt.ylabel('Genealogical Distance (generations)')\n",
    "plt.title('KDE Plot: Average Segment Size vs Genealogical Distance')\n",
    "plt.show()"
   ]
  },
  {
   "cell_type": "markdown",
   "metadata": {},
   "source": [
    "You should notice that overall, the methods we have used in our exploration is not a predictor of genetic genealogical relationships beyond 1 or 2 generations. For that, we turn to machine learning."
   ]
  }
 ],
 "metadata": {
  "kernelspec": {
   "display_name": ".venv",
   "language": "python",
   "name": "python3"
  },
  "language_info": {
   "codemirror_mode": {
    "name": "ipython",
    "version": 3
   },
   "file_extension": ".py",
   "mimetype": "text/x-python",
   "name": "python",
   "nbconvert_exporter": "python",
   "pygments_lexer": "ipython3",
   "version": "3.12.3"
  }
 },
 "nbformat": 4,
 "nbformat_minor": 2
}
