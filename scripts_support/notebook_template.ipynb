{
 "cells": [
  {
   "cell_type": "markdown",
   "metadata": {},
   "source": [
    "# Lab Template: Cross-Compatible with VS Code and JupyterLite\n",
    "\n",
    "## Overview\n",
    "\n",
    "This notebook template is designed to work seamlessly in both local VS Code environments with persistent storage and in JupyterLite with ephemeral storage. It includes the necessary setup to handle both scenarios."
   ]
  },
  {
   "cell_type": "code",
   "execution_count": null,
   "metadata": {},
   "source": [
    "# Standard imports\n",
    "import os\n",
    "import pandas as pd\n",
    "import numpy as np\n",
    "import matplotlib.pyplot as plt\n",
    "import seaborn as sns\n",
    "from IPython.display import display, HTML\n",
    "\n",
    "# Cross-compatibility setup\n",
    "from scripts_support.lab_cross_compatibility import setup_environment, is_jupyterlite, save_results, save_plot\n",
    "\n",
    "# Set up environment-specific paths\n",
    "DATA_DIR, RESULTS_DIR = setup_environment()\n",
    "\n",
    "# Set visualization styles\n",
    "plt.style.use('seaborn-v0_8-whitegrid')\n",
    "sns.set_context(\"notebook\")"
   ]
  },
  {
   "cell_type": "markdown",
   "metadata": {},
   "source": [
    "## Working with Data Files\n",
    "\n",
    "The example below shows how to load data from the class_data directory, which is available in both environments."
   ]
  },
  {
   "cell_type": "code",
   "execution_count": null,
   "metadata": {},
   "source": [
    "# Example: Loading data\n",
    "# Replace 'example_data.csv' with an actual file from your class_data directory\n",
    "data_file_path = os.path.join(DATA_DIR, \"example_data.csv\")\n",
    "\n",
    "try:\n",
    "    # Check if the file exists\n",
    "    if os.path.exists(data_file_path):\n",
    "        df = pd.read_csv(data_file_path)\n",
    "        print(f\"Successfully loaded data from {data_file_path}\")\n",
    "        display(df.head())\n",
    "    else:\n",
    "        print(f\"File not found: {data_file_path}\")\n",
    "        # Create some sample data for demonstration\n",
    "        df = pd.DataFrame({\n",
    "            'x': np.random.rand(100),\n",
    "            'y': np.random.rand(100),\n",
    "            'category': np.random.choice(['A', 'B', 'C'], 100)\n",
    "        })\n",
    "        print(\"Created sample data for demonstration\")\n",
    "        display(df.head())\n",
    "except Exception as e:\n",
    "    print(f\"Error loading data: {e}\")\n",
    "    # Create some sample data as fallback\n",
    "    df = pd.DataFrame({\n",
    "        'x': np.random.rand(100),\n",
    "        'y': np.random.rand(100),\n",
    "        'category': np.random.choice(['A', 'B', 'C'], 100)\n",
    "    })\n",
    "    print(\"Created sample data due to error\")\n",
    "    display(df.head())"
   ]
  },
  {
   "cell_type": "markdown",
   "metadata": {},
   "source": [
    "## Creating and Saving Results\n",
    "\n",
    "The example below shows how to create and save results, with appropriate handling for both environments."
   ]
  },
  {
   "cell_type": "code",
   "execution_count": null,
   "metadata": {},
   "source": [
    "# Example: Creating and saving results\n",
    "# Create some result data\n",
    "result_df = df.groupby('category').agg({'x': ['mean', 'std'], 'y': ['mean', 'std']})\n",
    "display(result_df)\n",
    "\n",
    "# Save results with environment-aware function\n",
    "result_path = save_results(result_df, \"category_statistics.csv\", description=\"category statistics\")\n",
    "print(f\"Results saved to: {result_path}\")"
   ]
  },
  {
   "cell_type": "markdown",
   "metadata": {},
   "source": [
    "## Creating and Saving Visualizations\n",
    "\n",
    "The example below shows how to create and save visualizations, with appropriate handling for both environments."
   ]
  },
  {
   "cell_type": "code",
   "execution_count": null,
   "metadata": {},
   "source": [
    "# Example: Creating and saving a plot\n",
    "plt.figure(figsize=(10, 6))\n",
    "sns.scatterplot(data=df, x='x', y='y', hue='category')\n",
    "plt.title('Sample Scatter Plot')\n",
    "plt.xlabel('X Value')\n",
    "plt.ylabel('Y Value')\n",
    "\n",
    "# Save the plot with environment-aware function\n",
    "plot_path = save_plot(plt, \"scatter_plot.png\", description=\"scatter plot\")"
   ]
  },
  {
   "cell_type": "markdown",
   "metadata": {},
   "source": [
    "## Handling External Tools\n",
    "\n",
    "The example below shows how to handle external tools that might only be available in the local environment."
   ]
  },
  {
   "cell_type": "code",
   "execution_count": null,
   "metadata": {},
   "source": [
    "from scripts_support.lab_cross_compatibility import run_external_tool\n",
    "\n",
    "# Example: Running an external tool\n",
    "def jupyterlite_alternative():\n",
    "    \"\"\"Function to run in JupyterLite instead of the external tool\"\"\"\n",
    "    return \"This is simulated output for JupyterLite environment\"\n",
    "\n",
    "# Try to run the external tool\n",
    "result = run_external_tool(\n",
    "    \"echo 'This is output from an external tool';\", \n",
    "    jupyterlite_alternative=jupyterlite_alternative\n",
    ")\n",
    "\n",
    "print(result)"
   ]
  },
  {
   "cell_type": "markdown",
   "metadata": {},
   "source": [
    "## Conclusion\n",
    "\n",
    "This template demonstrates how to create notebooks that work seamlessly in both local VS Code environments and JupyterLite. Key points:\n",
    "\n",
    "1. Use the `setup_environment()` function to get environment-specific paths\n",
    "2. Use `save_results()` to save results with appropriate handling\n",
    "3. Use `save_plot()` to save visualizations with appropriate handling\n",
    "4. Use `run_external_tool()` to handle tools that might not be available in JupyterLite\n",
    "\n",
    "When adapting this template for your own notebooks, replace the example data loading and processing with your actual code, but keep the environment detection and handling pattern."
   ]
  }
 ],
 "metadata": {
  "kernelspec": {
   "display_name": "Python 3",
   "language": "python",
   "name": "python3"
  },
  "language_info": {
   "codemirror_mode": {
    "name": "ipython",
    "version": 3
   },
   "file_extension": ".py",
   "mimetype": "text/x-python",
   "name": "python",
   "nbconvert_exporter": "python",
   "pygments_lexer": "ipython3",
   "version": "3.8.10"
  }
 },
 "nbformat": 4,
 "nbformat_minor": 4
}