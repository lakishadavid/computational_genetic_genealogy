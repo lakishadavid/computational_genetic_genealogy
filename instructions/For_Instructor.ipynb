{
 "cells": [
  {
   "cell_type": "code",
   "execution_count": null,
   "metadata": {},
   "outputs": [],
   "source": [
    "# Update list of files\n",
    "\n",
    "import os\n",
    "import boto3\n",
    "\n",
    "# Define constants\n",
    "bucket_name = \"opensnpdata\"\n",
    "file_list_path = f\"{data_directory}/class_data/opensnp_file_list.txt\"\n",
    "\n",
    "# Initialize the boto3 S3 client with the appropriate configuration\n",
    "s3 = boto3.client(\"s3\", config=boto3.session.Config(signature_version=\"s3v4\"))\n",
    "\n",
    "def update_file_list():\n",
    "    \"\"\"\n",
    "    Retrieves the latest list of file keys from the S3 bucket and writes them to file_list_path.\n",
    "    Uses a paginator to ensure that all objects are retrieved.\n",
    "    \"\"\"\n",
    "    paginator = s3.get_paginator(\"list_objects_v2\")\n",
    "    file_keys = []\n",
    "    \n",
    "    # Iterate over each page of results\n",
    "    for page in paginator.paginate(Bucket=bucket_name):\n",
    "        if \"Contents\" in page:\n",
    "            file_keys.extend([obj[\"Key\"] for obj in page[\"Contents\"]])\n",
    "    \n",
    "    # Write the file keys to file_list_path, one per line\n",
    "    with open(file_list_path, \"w\") as f:\n",
    "        for key in file_keys:\n",
    "            f.write(key + \"\\n\")\n",
    "    \n",
    "    print(f\"Updated file list with {len(file_keys)} entries.\")\n",
    "\n",
    "# Run the update function\n",
    "update_file_list()"
   ]
  }
 ],
 "metadata": {
  "language_info": {
   "name": "python"
  }
 },
 "nbformat": 4,
 "nbformat_minor": 2
}
