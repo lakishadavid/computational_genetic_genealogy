{
 "cells": [
  {
   "cell_type": "code",
   "execution_count": 2,
   "metadata": {},
   "outputs": [],
   "source": [
    "import os\n",
    "from collections import Counter\n",
    "import logging\n",
    "import sys\n",
    "from pathlib import Path\n",
    "import subprocess\n",
    "import os\n",
    "import matplotlib.pyplot as plt\n",
    "import seaborn as sns\n",
    "from IPython.display import display, HTML\n",
    "import IPython\n",
    "import pandas as pd\n",
    "import boto3\n",
    "\n",
    "from dotenv import load_dotenv"
   ]
  },
  {
   "cell_type": "code",
   "execution_count": 5,
   "metadata": {},
   "outputs": [],
   "source": [
    "def configure_logging(log_filename, log_file_debug_level=\"INFO\", console_debug_level=\"INFO\"):\n",
    "    \"\"\"\n",
    "    Configure logging for both file and console handlers.\n",
    "\n",
    "    Args:\n",
    "        log_filename (str): Path to the log file where logs will be written.\n",
    "        log_file_debug_level (str): Logging level for the file handler.\n",
    "        console_debug_level (str): Logging level for the console handler.\n",
    "    \"\"\"\n",
    "    # Create a root logger\n",
    "    logger = logging.getLogger()\n",
    "    logger.setLevel(logging.DEBUG)  # Capture all messages at the root level\n",
    "\n",
    "    # Convert level names to numeric levels\n",
    "    file_level = getattr(logging, log_file_debug_level.upper(), logging.INFO)\n",
    "    console_level = getattr(logging, console_debug_level.upper(), logging.INFO)\n",
    "\n",
    "    # File handler: Logs messages at file_level and above to the file\n",
    "    file_handler = logging.FileHandler(log_filename)\n",
    "    file_handler.setLevel(file_level)\n",
    "    file_formatter = logging.Formatter('%(asctime)s - %(levelname)s - %(message)s')\n",
    "    file_handler.setFormatter(file_formatter)\n",
    "\n",
    "    # Console handler: Logs messages at console_level and above to the console\n",
    "    console_handler = logging.StreamHandler(sys.stdout)\n",
    "    console_handler.setLevel(console_level)\n",
    "    console_formatter = logging.Formatter('%(asctime)s - %(levelname)s - %(message)s')\n",
    "    console_handler.setFormatter(console_formatter)\n",
    "\n",
    "    # Add handlers to the root logger\n",
    "    logger.addHandler(file_handler)\n",
    "    logger.addHandler(console_handler)\n",
    "    \n",
    "def clear_logger():\n",
    "    \"\"\"Remove all handlers from the root logger.\"\"\"\n",
    "    logger = logging.getLogger()\n",
    "    for handler in logger.handlers[:]:\n",
    "        logger.removeHandler(handler)"
   ]
  },
  {
   "cell_type": "markdown",
   "metadata": {},
   "source": [
    "### Get The Data"
   ]
  },
  {
   "cell_type": "markdown",
   "metadata": {},
   "source": [
    "# \ud83d\udce5 How to Download OpenSNP Data\n",
    "\n",
    "There are **two ways** to download OpenSNP data. You only need to select **one** method. **The preferred method is using `boto3`.**\n",
    "\n",
    "---\n",
    "\n",
    "## **\u2705 Option 1: Download Using `boto3` (Preferred)**\n",
    "With `boto3` installed, you can use it to efficiently download files from the OpenSNP public S3 bucket. This method is recommended for bulk downloading and better reliability. However, how to setup boto3 will not be covered until later in the semester. For now, use option 2.\n",
    "\n",
    "---\n",
    "\n",
    "## **\u2705 Option 2: Download Using `requests` (No AWS Setup Required)**\n",
    "You can use the `requests` library to download the files directly from a public S3 URLs. This method is easier to use but may be slower for large downloads.\n",
    "\n",
    "---\n",
    "\n",
    "## **\ud83d\udccc Manually Downloading Files**\n",
    "If you prefer to manually download individual files:\n",
    "1. Open your web browser and go to:\n",
    "   ```\n",
    "   https://opensnpdata.s3.us-east-2.amazonaws.com/[FILENAME]\n",
    "   ```\n",
    "   Replace `[FILENAME]` with the exact filename from `opensnp_file_list.txt`.\n",
    "\n",
    "2. Example:\n",
    "\n",
    "   https://opensnpdata.s3.us-east-2.amazonaws.com/user1001_file496_yearofbirth_unknown_sex_unknown.ancestry.txt\n",
    "\n",
    "3. **Right-click \u2192 Save As...** to download the file.\n",
    "\n",
    "4. Move the file to:\n",
    "   ```\n",
    "   data_directory/class_data/raw_dna_profiles/\n",
    "   ```\n",
    "\n",
    "---\n",
    "\n",
    "\ud83d\udccc **Choose one method that works best for you.** If unsure, use **boto3** for better performance.\n",
    "\n",
    "\ud83d\ude80 Happy downloading! \ud83d\ude80"
   ]
  },
  {
   "cell_type": "markdown",
   "metadata": {},
   "source": [
    "**Option 1: boto3 version**"
   ]
  },
  {
   "cell_type": "code",
   "execution_count": 8,
   "metadata": {},
   "outputs": [],
   "source": [
    "def download_files(limit=None):\n",
    "    \"\"\"\n",
    "    Download a specified number of files (or all files) from the OpenSNP bucket.\n",
    "\n",
    "    Parameters:\n",
    "        limit (int or None): Number of files to download. If None, downloads all files.\n",
    "    \"\"\"\n",
    "    response = s3.list_objects_v2(Bucket=BUCKET_NAME)\n",
    "    \n",
    "    if \"Contents\" not in response:\n",
    "        print(\"No files found in the OpenSNP bucket.\")\n",
    "        return\n",
    "    \n",
    "    files = response[\"Contents\"]\n",
    "    \n",
    "    # Apply limit if specified\n",
    "    if limit is not None:\n",
    "        files = files[:limit]\n",
    "\n",
    "    print(f\"Downloading {len(files)} files...\")\n",
    "\n",
    "    for obj in files:\n",
    "        file_key = obj[\"Key\"]\n",
    "        local_path = os.path.join(SAVE_DIR, os.path.basename(file_key))\n",
    "\n",
    "        print(f\"Downloading: {file_key} -> {local_path}\")\n",
    "        s3.download_file(BUCKET_NAME, file_key, local_path)\n",
    "\n",
    "    print(\"Download completed.\")\n"
   ]
  },
  {
   "cell_type": "code",
   "execution_count": null,
   "metadata": {},
   "outputs": [],
   "source": [
    "# Download a certain number of files (e.g., first 5)\n",
    "download_files(limit=300)"
   ]
  },
  {
   "cell_type": "code",
   "execution_count": null,
   "metadata": {},
   "outputs": [],
   "source": [
    "# Download all files\n",
    "download_files(limit=None)"
   ]
  },
  {
   "cell_type": "markdown",
   "metadata": {},
   "source": [
    "**Option 2: non boto3 version**"
   ]
  },
  {
   "cell_type": "code",
   "execution_count": null,
   "metadata": {},
   "outputs": [],
   "source": [
    "# Create config in one cell\n",
    "config = DownloadConfig(\n",
    "    bucket_url=\"https://opensnpdata.s3.us-east-2.amazonaws.com\",\n",
    "    save_dir=f\"{data_directory}/class_data/raw_dna_profiles\",\n",
    "    file_list_path=f\"{data_directory}/class_data/opensnp_file_list.txt\",\n",
    "    max_workers=5\n",
    ")\n",
    "\n",
    "# Create downloader instance\n",
    "downloader = ParallelDownloader(config)"
   ]
  },
  {
   "cell_type": "code",
   "execution_count": null,
   "metadata": {},
   "outputs": [],
   "source": [
    "# You can run this cell multiple times if needed\n",
    "downloader.download_files(start=5, end=15)  # Start with just 10 files as a test"
   ]
  },
  {
   "cell_type": "code",
   "execution_count": null,
   "metadata": {},
   "outputs": [],
   "source": [
    "# Download all files\n",
    "downloader.download_files()"
   ]
  }
 ],
 "metadata": {
  "kernelspec": {
   "display_name": ".venv",
   "language": "python",
   "name": "python3"
  },
  "language_info": {
   "codemirror_mode": {
    "name": "ipython",
    "version": 3
   },
   "file_extension": ".py",
   "mimetype": "text/x-python",
   "name": "python",
   "nbconvert_exporter": "python",
   "pygments_lexer": "ipython3",
   "version": "3.12.3"
  }
 },
 "nbformat": 4,
 "nbformat_minor": 2
}